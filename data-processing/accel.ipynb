{
 "cells": [
  {
   "cell_type": "code",
   "execution_count": 300,
   "metadata": {},
   "outputs": [
    {
     "data": {
      "text/html": [
       "<div>\n",
       "<style scoped>\n",
       "    .dataframe tbody tr th:only-of-type {\n",
       "        vertical-align: middle;\n",
       "    }\n",
       "\n",
       "    .dataframe tbody tr th {\n",
       "        vertical-align: top;\n",
       "    }\n",
       "\n",
       "    .dataframe thead th {\n",
       "        text-align: right;\n",
       "    }\n",
       "</style>\n",
       "<table border=\"1\" class=\"dataframe\">\n",
       "  <thead>\n",
       "    <tr style=\"text-align: right;\">\n",
       "      <th></th>\n",
       "      <th>Unnamed: 0</th>\n",
       "      <th>anchor</th>\n",
       "      <th>distance</th>\n",
       "      <th>instant</th>\n",
       "      <th>timestamp</th>\n",
       "      <th>acc_x</th>\n",
       "      <th>acc_y</th>\n",
       "      <th>acc_z</th>\n",
       "    </tr>\n",
       "    <tr>\n",
       "      <th>timestamp</th>\n",
       "      <th></th>\n",
       "      <th></th>\n",
       "      <th></th>\n",
       "      <th></th>\n",
       "      <th></th>\n",
       "      <th></th>\n",
       "      <th></th>\n",
       "      <th></th>\n",
       "    </tr>\n",
       "  </thead>\n",
       "  <tbody>\n",
       "    <tr>\n",
       "      <th>2023-05-22 14:21:08.608633</th>\n",
       "      <td>0</td>\n",
       "      <td>0x6c0d</td>\n",
       "      <td>4542.8950</td>\n",
       "      <td>81420786033</td>\n",
       "      <td>2023-05-22 14:21:08.608633</td>\n",
       "      <td>16816.0</td>\n",
       "      <td>-416.0</td>\n",
       "      <td>-1312.0</td>\n",
       "    </tr>\n",
       "    <tr>\n",
       "      <th>2023-05-22 14:21:08.608732</th>\n",
       "      <td>1</td>\n",
       "      <td>0x6c0d</td>\n",
       "      <td>4523.1533</td>\n",
       "      <td>89659556440</td>\n",
       "      <td>2023-05-22 14:21:08.608732</td>\n",
       "      <td>16848.0</td>\n",
       "      <td>-176.0</td>\n",
       "      <td>-864.0</td>\n",
       "    </tr>\n",
       "    <tr>\n",
       "      <th>2023-05-22 14:21:08.865600</th>\n",
       "      <td>2</td>\n",
       "      <td>0x6c0d</td>\n",
       "      <td>4473.0340</td>\n",
       "      <td>394477304390</td>\n",
       "      <td>2023-05-22 14:21:08.865600</td>\n",
       "      <td>16928.0</td>\n",
       "      <td>-704.0</td>\n",
       "      <td>-704.0</td>\n",
       "    </tr>\n",
       "    <tr>\n",
       "      <th>2023-05-22 14:21:08.994296</th>\n",
       "      <td>3</td>\n",
       "      <td>0x6c0d</td>\n",
       "      <td>4459.4600</td>\n",
       "      <td>402702045220</td>\n",
       "      <td>2023-05-22 14:21:08.994296</td>\n",
       "      <td>16816.0</td>\n",
       "      <td>-480.0</td>\n",
       "      <td>-736.0</td>\n",
       "    </tr>\n",
       "    <tr>\n",
       "      <th>2023-05-22 14:21:09.123017</th>\n",
       "      <td>4</td>\n",
       "      <td>0x6c0d</td>\n",
       "      <td>4458.8490</td>\n",
       "      <td>410927214611</td>\n",
       "      <td>2023-05-22 14:21:09.123017</td>\n",
       "      <td>16864.0</td>\n",
       "      <td>-1040.0</td>\n",
       "      <td>672.0</td>\n",
       "    </tr>\n",
       "    <tr>\n",
       "      <th>...</th>\n",
       "      <td>...</td>\n",
       "      <td>...</td>\n",
       "      <td>...</td>\n",
       "      <td>...</td>\n",
       "      <td>...</td>\n",
       "      <td>...</td>\n",
       "      <td>...</td>\n",
       "      <td>...</td>\n",
       "    </tr>\n",
       "    <tr>\n",
       "      <th>2023-05-22 14:21:19.946251</th>\n",
       "      <td>88</td>\n",
       "      <td>0x6c0d</td>\n",
       "      <td>4531.3413</td>\n",
       "      <td>3014724230</td>\n",
       "      <td>2023-05-22 14:21:19.946251</td>\n",
       "      <td>17184.0</td>\n",
       "      <td>-1856.0</td>\n",
       "      <td>400.0</td>\n",
       "    </tr>\n",
       "    <tr>\n",
       "      <th>2023-05-22 14:21:20.074842</th>\n",
       "      <td>89</td>\n",
       "      <td>0x6c0d</td>\n",
       "      <td>4534.3574</td>\n",
       "      <td>11239987406</td>\n",
       "      <td>2023-05-22 14:21:20.074842</td>\n",
       "      <td>16624.0</td>\n",
       "      <td>288.0</td>\n",
       "      <td>256.0</td>\n",
       "    </tr>\n",
       "    <tr>\n",
       "      <th>2023-05-22 14:21:20.203361</th>\n",
       "      <td>90</td>\n",
       "      <td>0x6c0d</td>\n",
       "      <td>4549.5910</td>\n",
       "      <td>19453111629</td>\n",
       "      <td>2023-05-22 14:21:20.203361</td>\n",
       "      <td>17248.0</td>\n",
       "      <td>-672.0</td>\n",
       "      <td>32.0</td>\n",
       "    </tr>\n",
       "    <tr>\n",
       "      <th>2023-05-22 14:21:20.332065</th>\n",
       "      <td>91</td>\n",
       "      <td>0x6c0d</td>\n",
       "      <td>4526.2430</td>\n",
       "      <td>27664793031</td>\n",
       "      <td>2023-05-22 14:21:20.332065</td>\n",
       "      <td>17120.0</td>\n",
       "      <td>-1632.0</td>\n",
       "      <td>320.0</td>\n",
       "    </tr>\n",
       "    <tr>\n",
       "      <th>2023-05-22 14:21:20.460833</th>\n",
       "      <td>92</td>\n",
       "      <td>0x6c0d</td>\n",
       "      <td>4483.8403</td>\n",
       "      <td>35891530768</td>\n",
       "      <td>2023-05-22 14:21:20.460833</td>\n",
       "      <td>16960.0</td>\n",
       "      <td>-1408.0</td>\n",
       "      <td>224.0</td>\n",
       "    </tr>\n",
       "  </tbody>\n",
       "</table>\n",
       "<p>93 rows × 8 columns</p>\n",
       "</div>"
      ],
      "text/plain": [
       "                            Unnamed: 0  anchor   distance       instant   \n",
       "timestamp                                                                 \n",
       "2023-05-22 14:21:08.608633           0  0x6c0d  4542.8950   81420786033  \\\n",
       "2023-05-22 14:21:08.608732           1  0x6c0d  4523.1533   89659556440   \n",
       "2023-05-22 14:21:08.865600           2  0x6c0d  4473.0340  394477304390   \n",
       "2023-05-22 14:21:08.994296           3  0x6c0d  4459.4600  402702045220   \n",
       "2023-05-22 14:21:09.123017           4  0x6c0d  4458.8490  410927214611   \n",
       "...                                ...     ...        ...           ...   \n",
       "2023-05-22 14:21:19.946251          88  0x6c0d  4531.3413    3014724230   \n",
       "2023-05-22 14:21:20.074842          89  0x6c0d  4534.3574   11239987406   \n",
       "2023-05-22 14:21:20.203361          90  0x6c0d  4549.5910   19453111629   \n",
       "2023-05-22 14:21:20.332065          91  0x6c0d  4526.2430   27664793031   \n",
       "2023-05-22 14:21:20.460833          92  0x6c0d  4483.8403   35891530768   \n",
       "\n",
       "                                            timestamp    acc_x   acc_y   acc_z  \n",
       "timestamp                                                                       \n",
       "2023-05-22 14:21:08.608633 2023-05-22 14:21:08.608633  16816.0  -416.0 -1312.0  \n",
       "2023-05-22 14:21:08.608732 2023-05-22 14:21:08.608732  16848.0  -176.0  -864.0  \n",
       "2023-05-22 14:21:08.865600 2023-05-22 14:21:08.865600  16928.0  -704.0  -704.0  \n",
       "2023-05-22 14:21:08.994296 2023-05-22 14:21:08.994296  16816.0  -480.0  -736.0  \n",
       "2023-05-22 14:21:09.123017 2023-05-22 14:21:09.123017  16864.0 -1040.0   672.0  \n",
       "...                                               ...      ...     ...     ...  \n",
       "2023-05-22 14:21:19.946251 2023-05-22 14:21:19.946251  17184.0 -1856.0   400.0  \n",
       "2023-05-22 14:21:20.074842 2023-05-22 14:21:20.074842  16624.0   288.0   256.0  \n",
       "2023-05-22 14:21:20.203361 2023-05-22 14:21:20.203361  17248.0  -672.0    32.0  \n",
       "2023-05-22 14:21:20.332065 2023-05-22 14:21:20.332065  17120.0 -1632.0   320.0  \n",
       "2023-05-22 14:21:20.460833 2023-05-22 14:21:20.460833  16960.0 -1408.0   224.0  \n",
       "\n",
       "[93 rows x 8 columns]"
      ]
     },
     "execution_count": 300,
     "metadata": {},
     "output_type": "execute_result"
    }
   ],
   "source": [
    "import pandas as pd\n",
    "import plotly.express as px\n",
    "\n",
    "df = pd.read_csv(\"/home/piotr/Documents/mgr/uwb-rs/data-processing/2023-05-22-14:21:08.608058acc_movement_linear_lr.csv\")\n",
    "df[\"timestamp\"] = pd.to_datetime(df[\"timestamp\"])\n",
    "df = df.set_index(df.timestamp)\n",
    "df"
   ]
  },
  {
   "cell_type": "code",
   "execution_count": 301,
   "metadata": {},
   "outputs": [],
   "source": [
    "# Calibration\n",
    "stat_df = pd.read_csv(\"/home/piotr/Documents/mgr/uwb-rs/data-processing/2023-05-23-11:33:46.497651stationary.csv\")\n",
    "gravity = stat_df[[\"acc_x\", \"acc_y\", \"acc_z\"]].mean()\n"
   ]
  },
  {
   "cell_type": "code",
   "execution_count": 302,
   "metadata": {},
   "outputs": [],
   "source": [
    "# Lowpass filter\n",
    "import matplotlib.pyplot as plt\n",
    "from scipy import signal, fft\n",
    "\n",
    "# t = df.timestamp.diff().mean()\n",
    "# fs = 1 / (t.to_pytimedelta().microseconds/10**6)\n",
    "# fn = fs/2\n",
    "\n",
    "# f_filter = 20.0\n",
    "# f_filter_n = f_filter / fn\n"
   ]
  },
  {
   "cell_type": "code",
   "execution_count": 303,
   "metadata": {},
   "outputs": [
    {
     "data": {
      "image/png": "[encoded data removed]",
      "text/plain": [
       "<Figure size 640x480 with 1 Axes>"
      ]
     },
     "metadata": {},
     "output_type": "display_data"
    }
   ],
   "source": [
    "\n",
    "# freq = fft.fft(df[\"acc_x\"].to_numpy())\n",
    "\n",
    "def low_pass(x, Wn: float = 0.1):\n",
    "    # b, a = signal.butter(4, Wn, btype=\"lowpass\")\n",
    "    b, a = signal.iirfilter(2, Wn, btype=\"lowpass\")\n",
    "    s = signal.lfilter(b,a,x)\n",
    "    plt.plot(s)\n",
    "    plt.plot(x.reset_index(drop=True))\n",
    "    return s\n",
    "\n",
    "\n",
    "# df[\"acc_y\"] = df[\"acc_y\"].to_frame().apply(low_pass)\n",
    "df[[\"acc_x\", \"acc_y\", \"acc_z\"]] = (df[[\"acc_x\", \"acc_y\", \"acc_z\"]] - gravity).apply(low_pass)"
   ]
  },
  {
   "cell_type": "code",
   "execution_count": 304,
   "metadata": {},
   "outputs": [
    {
     "data": {
      "text/plain": [
       "<Axes: xlabel='timestamp'>"
      ]
     },
     "execution_count": 304,
     "metadata": {},
     "output_type": "execute_result"
    },
    {
     "data": {
      "image/png": "[encoded data removed]",
      "text/plain": [
       "<Figure size 640x480 with 1 Axes>"
      ]
     },
     "metadata": {},
     "output_type": "display_data"
    }
   ],
   "source": [
    "df[[\"acc_x\",\"acc_y\", \"acc_z\"]].plot.line()"
   ]
  },
  {
   "cell_type": "code",
   "execution_count": 305,
   "metadata": {},
   "outputs": [
    {
     "data": {
      "application/vnd.plotly.v1+json": {
       "config": {
        "plotlyServerURL": "https://plot.ly"
       },
       "data": [
        {
         "hovertemplate": "variable=acc_x<br>timestamp=%{x}<br>value=%{y}<extra></extra>",
         "legendgroup": "acc_x",
         "line": {
          "color": "#636efa",
          "dash": "solid"
         },
         "marker": {
          "symbol": "circle"
         },
         "mode": "lines",
         "name": "acc_x",
         "orientation": "v",
         "showlegend": true,
         "type": "scatter",
         "x": [
          "2023-05-22T14:21:08.608633",
          "2023-05-22T14:21:08.608732",
          "2023-05-22T14:21:08.865600",
          "2023-05-22T14:21:08.994296",
          "2023-05-22T14:21:09.123017",
          "2023-05-22T14:21:09.251885",
          "2023-05-22T14:21:09.380533",
          "2023-05-22T14:21:09.509532",
          "2023-05-22T14:21:09.638230",
          "2023-05-22T14:21:09.767030",
          "2023-05-22T14:21:09.895878",
          "2023-05-22T14:21:10.024876",
          "2023-05-22T14:21:10.153801",
          "2023-05-22T14:21:10.282873",
          "2023-05-22T14:21:10.411751",
          "2023-05-22T14:21:10.540697",
          "2023-05-22T14:21:10.669569",
          "2023-05-22T14:21:10.798392",
          "2023-05-22T14:21:10.927247",
          "2023-05-22T14:21:11.056115",
          "2023-05-22T14:21:11.184968",
          "2023-05-22T14:21:11.313662",
          "2023-05-22T14:21:11.442392",
          "2023-05-22T14:21:11.571160",
          "2023-05-22T14:21:11.700184",
          "2023-05-22T14:21:11.828980",
          "2023-05-22T14:21:11.957931",
          "2023-05-22T14:21:12.086904",
          "2023-05-22T14:21:12.215980",
          "2023-05-22T14:21:12.344859",
          "2023-05-22T14:21:12.473300",
          "2023-05-22T14:21:12.601997",
          "2023-05-22T14:21:12.730952",
          "2023-05-22T14:21:12.859875",
          "2023-05-22T14:21:12.988733",
          "2023-05-22T14:21:13.117690",
          "2023-05-22T14:21:13.246420",
          "2023-05-22T14:21:13.375036",
          "2023-05-22T14:21:13.503829",
          "2023-05-22T14:21:13.632538",
          "2023-05-22T14:21:13.761197",
          "2023-05-22T14:21:13.889731",
          "2023-05-22T14:21:14.018555",
          "2023-05-22T14:21:14.147452",
          "2023-05-22T14:21:14.276254",
          "2023-05-22T14:21:14.405153",
          "2023-05-22T14:21:14.534228",
          "2023-05-22T14:21:14.662924",
          "2023-05-22T14:21:14.791569",
          "2023-05-22T14:21:14.920300",
          "2023-05-22T14:21:15.048966",
          "2023-05-22T14:21:15.178097",
          "2023-05-22T14:21:15.306843",
          "2023-05-22T14:21:15.435816",
          "2023-05-22T14:21:15.564590",
          "2023-05-22T14:21:15.693187",
          "2023-05-22T14:21:15.822083",
          "2023-05-22T14:21:15.951014",
          "2023-05-22T14:21:16.080040",
          "2023-05-22T14:21:16.209184",
          "2023-05-22T14:21:16.337932",
          "2023-05-22T14:21:16.466810",
          "2023-05-22T14:21:16.595577",
          "2023-05-22T14:21:16.724276",
          "2023-05-22T14:21:16.852950",
          "2023-05-22T14:21:16.981948",
          "2023-05-22T14:21:17.111209",
          "2023-05-22T14:21:17.240000",
          "2023-05-22T14:21:17.368815",
          "2023-05-22T14:21:17.497936",
          "2023-05-22T14:21:17.626717",
          "2023-05-22T14:21:17.755660",
          "2023-05-22T14:21:17.884562",
          "2023-05-22T14:21:18.013487",
          "2023-05-22T14:21:18.142490",
          "2023-05-22T14:21:18.271434",
          "2023-05-22T14:21:18.400433",
          "2023-05-22T14:21:18.529455",
          "2023-05-22T14:21:18.658106",
          "2023-05-22T14:21:18.786828",
          "2023-05-22T14:21:18.915779",
          "2023-05-22T14:21:19.044574",
          "2023-05-22T14:21:19.173395",
          "2023-05-22T14:21:19.302323",
          "2023-05-22T14:21:19.431197",
          "2023-05-22T14:21:19.560045",
          "2023-05-22T14:21:19.688766",
          "2023-05-22T14:21:19.817542",
          "2023-05-22T14:21:19.946251",
          "2023-05-22T14:21:20.074842",
          "2023-05-22T14:21:20.203361",
          "2023-05-22T14:21:20.332065",
          "2023-05-22T14:21:20.460833"
         ],
         "xaxis": "x",
         "y": [
          0,
          -0.0005966021953276686,
          -3.7472274027052146,
          -6.797330966262128,
          -10.993737162992147,
          -16.37708875213255,
          -22.714406418805833,
          -28.1181353018452,
          -28.639639752102298,
          -22.638842686042167,
          -12.888975745424359,
          -3.264951513813992,
          3.2586058471622312,
          4.6882856088233975,
          0.8320993020706724,
          -6.103946299232218,
          -13.683060249621619,
          -21.66297789420279,
          -30.336398027354164,
          -37.885032059150426,
          -41.32771104684019,
          -40.03803327114674,
          -36.82908438720205,
          -33.94661807804058,
          -29.590929528083887,
          -20.46991820165869,
          -5.99973827982825,
          10.426442241480892,
          23.93991692928217,
          33.21487710094298,
          41.10684544376101,
          49.932805168598236,
          59.48762826870473,
          67.90293564175903,
          72.38634067187046,
          70.41016446310053,
          61.33786711432917,
          46.61606546536421,
          28.18604639478745,
          7.604526230303364,
          -13.568704482180905,
          -32.90797345581709,
          -48.59252531585506,
          -60.8149247773673,
          -70.875285979122,
          -79.97164716449764,
          -88.63441329628213,
          -97.11698255875352,
          -105.99117962397283,
          -114.98779172952878,
          -122.5851869025046,
          -127.20324470630048,
          -127.91945524415273,
          -124.7730286670326,
          -118.84815772556772,
          -111.7246547118759,
          -103.94474627439155,
          -94.26172465702267,
          -81.07974991238571,
          -64.89620050939529,
          -48.413017863663896,
          -34.25409974505707,
          -23.589372742684432,
          -15.560848163402383,
          -9.242551525024957,
          -5.4871523567843745,
          -4.636228329217721,
          -4.721414806012101,
          -4.464172876642614,
          -5.207346035403772,
          -8.32667850157459,
          -13.842104484913644,
          -21.769251411749934,
          -32.03555644976802,
          -42.87665532549665,
          -50.92513394798732,
          -54.632024546708664,
          -54.98230441833864,
          -52.574991043381225,
          -49.084512916455495,
          -47.61562454380984,
          -48.121277748786,
          -47.261968027590235,
          -42.837025426659906,
          -36.170487358625365,
          -30.214142755259616,
          -26.88896031186295,
          -26.711301657824745,
          -28.832595198284316,
          -31.75610863073255,
          -34.72881200371338,
          -36.87617988648116,
          -36.7031901671876
         ],
         "yaxis": "y"
        },
        {
         "hovertemplate": "variable=acc_y<br>timestamp=%{x}<br>value=%{y}<extra></extra>",
         "legendgroup": "acc_y",
         "line": {
          "color": "#EF553B",
          "dash": "solid"
         },
         "marker": {
          "symbol": "circle"
         },
         "mode": "lines",
         "name": "acc_y",
         "orientation": "v",
         "showlegend": true,
         "type": "scatter",
         "x": [
          "2023-05-22T14:21:08.608633",
          "2023-05-22T14:21:08.608732",
          "2023-05-22T14:21:08.865600",
          "2023-05-22T14:21:08.994296",
          "2023-05-22T14:21:09.123017",
          "2023-05-22T14:21:09.251885",
          "2023-05-22T14:21:09.380533",
          "2023-05-22T14:21:09.509532",
          "2023-05-22T14:21:09.638230",
          "2023-05-22T14:21:09.767030",
          "2023-05-22T14:21:09.895878",
          "2023-05-22T14:21:10.024876",
          "2023-05-22T14:21:10.153801",
          "2023-05-22T14:21:10.282873",
          "2023-05-22T14:21:10.411751",
          "2023-05-22T14:21:10.540697",
          "2023-05-22T14:21:10.669569",
          "2023-05-22T14:21:10.798392",
          "2023-05-22T14:21:10.927247",
          "2023-05-22T14:21:11.056115",
          "2023-05-22T14:21:11.184968",
          "2023-05-22T14:21:11.313662",
          "2023-05-22T14:21:11.442392",
          "2023-05-22T14:21:11.571160",
          "2023-05-22T14:21:11.700184",
          "2023-05-22T14:21:11.828980",
          "2023-05-22T14:21:11.957931",
          "2023-05-22T14:21:12.086904",
          "2023-05-22T14:21:12.215980",
          "2023-05-22T14:21:12.344859",
          "2023-05-22T14:21:12.473300",
          "2023-05-22T14:21:12.601997",
          "2023-05-22T14:21:12.730952",
          "2023-05-22T14:21:12.859875",
          "2023-05-22T14:21:12.988733",
          "2023-05-22T14:21:13.117690",
          "2023-05-22T14:21:13.246420",
          "2023-05-22T14:21:13.375036",
          "2023-05-22T14:21:13.503829",
          "2023-05-22T14:21:13.632538",
          "2023-05-22T14:21:13.761197",
          "2023-05-22T14:21:13.889731",
          "2023-05-22T14:21:14.018555",
          "2023-05-22T14:21:14.147452",
          "2023-05-22T14:21:14.276254",
          "2023-05-22T14:21:14.405153",
          "2023-05-22T14:21:14.534228",
          "2023-05-22T14:21:14.662924",
          "2023-05-22T14:21:14.791569",
          "2023-05-22T14:21:14.920300",
          "2023-05-22T14:21:15.048966",
          "2023-05-22T14:21:15.178097",
          "2023-05-22T14:21:15.306843",
          "2023-05-22T14:21:15.435816",
          "2023-05-22T14:21:15.564590",
          "2023-05-22T14:21:15.693187",
          "2023-05-22T14:21:15.822083",
          "2023-05-22T14:21:15.951014",
          "2023-05-22T14:21:16.080040",
          "2023-05-22T14:21:16.209184",
          "2023-05-22T14:21:16.337932",
          "2023-05-22T14:21:16.466810",
          "2023-05-22T14:21:16.595577",
          "2023-05-22T14:21:16.724276",
          "2023-05-22T14:21:16.852950",
          "2023-05-22T14:21:16.981948",
          "2023-05-22T14:21:17.111209",
          "2023-05-22T14:21:17.240000",
          "2023-05-22T14:21:17.368815",
          "2023-05-22T14:21:17.497936",
          "2023-05-22T14:21:17.626717",
          "2023-05-22T14:21:17.755660",
          "2023-05-22T14:21:17.884562",
          "2023-05-22T14:21:18.013487",
          "2023-05-22T14:21:18.142490",
          "2023-05-22T14:21:18.271434",
          "2023-05-22T14:21:18.400433",
          "2023-05-22T14:21:18.529455",
          "2023-05-22T14:21:18.658106",
          "2023-05-22T14:21:18.786828",
          "2023-05-22T14:21:18.915779",
          "2023-05-22T14:21:19.044574",
          "2023-05-22T14:21:19.173395",
          "2023-05-22T14:21:19.302323",
          "2023-05-22T14:21:19.431197",
          "2023-05-22T14:21:19.560045",
          "2023-05-22T14:21:19.688766",
          "2023-05-22T14:21:19.817542",
          "2023-05-22T14:21:19.946251",
          "2023-05-22T14:21:20.074842",
          "2023-05-22T14:21:20.203361",
          "2023-05-22T14:21:20.332065",
          "2023-05-22T14:21:20.460833"
         ],
         "xaxis": "x",
         "y": [
          0,
          0.0005363235130158285,
          4.172532044381388,
          7.276607445816198,
          9.478382806423173,
          8.129781172607998,
          2.2596261043860464,
          -6.602778795327116,
          -16.494766016784137,
          -24.68089988692644,
          -29.08490286755942,
          -32.637802146089975,
          -40.11971677627255,
          -53.141778192377366,
          -71.00348111509842,
          -93.43784722380738,
          -122.03602771828284,
          -158.95236295536964,
          -203.70038556300747,
          -253.62374329054904,
          -306.09848390641923,
          -356.7641663843535,
          -398.6765355993784,
          -428.1131161967789,
          -451.65070072854223,
          -483.5173563380632,
          -535.5557138294937,
          -611.5057153299975,
          -711.3324165424686,
          -835.5828954935606,
          -982.9616369771281,
          -1146.1058395733646,
          -1311.9200463078064,
          -1468.0958283295506,
          -1605.4396050963499,
          -1718.1957180271156,
          -1804.7855374205299,
          -1866.5531324486656,
          -1905.1241848731593,
          -1921.6201396531308,
          -1916.5309709429587,
          -1891.1118565236125,
          -1848.8578160886498,
          -1795.607106157866,
          -1738.10765946707,
          -1682.7262166964604,
          -1635.0211207279256,
          -1597.3931563667304,
          -1566.4655795165456,
          -1536.3176858048037,
          -1504.365036956278,
          -1473.7232126673173,
          -1450.1599194972864,
          -1437.541519859388,
          -1438.4737634561425,
          -1453.4104146344187,
          -1480.5117150169485,
          -1519.4810788736697,
          -1573.2006036765047,
          -1644.7578343892023,
          -1733.5304735835434,
          -1833.653921803389,
          -1936.2231840106392,
          -2034.9807912121064,
          -2124.412245387258,
          -2200.696664482395,
          -2269.6720646693334,
          -2344.9296436874224,
          -2434.8410574671752,
          -2537.5522423967927,
          -2646.561260107066,
          -2758.2224401338226,
          -2871.937891404261,
          -2988.774094138764,
          -3111.4412995234024,
          -3242.708827713834,
          -3380.2296454520697,
          -3517.7090999251113,
          -3648.5754909772436,
          -3764.5516794079354,
          -3855.138052132018,
          -3917.8744899576805,
          -3963.0459303092252,
          -4001.7305678124235,
          -4037.7283354300216,
          -4069.8612696027253,
          -4094.183090033283,
          -4107.990662782237,
          -4115.012212782484,
          -4122.575389697593,
          -4133.059190024436,
          -4145.731511160044,
          -4164.311037593683
         ],
         "yaxis": "y"
        },
        {
         "hovertemplate": "variable=acc_z<br>timestamp=%{x}<br>value=%{y}<extra></extra>",
         "legendgroup": "acc_z",
         "line": {
          "color": "#00cc96",
          "dash": "solid"
         },
         "marker": {
          "symbol": "circle"
         },
         "mode": "lines",
         "name": "acc_z",
         "orientation": "v",
         "showlegend": true,
         "type": "scatter",
         "x": [
          "2023-05-22T14:21:08.608633",
          "2023-05-22T14:21:08.608732",
          "2023-05-22T14:21:08.865600",
          "2023-05-22T14:21:08.994296",
          "2023-05-22T14:21:09.123017",
          "2023-05-22T14:21:09.251885",
          "2023-05-22T14:21:09.380533",
          "2023-05-22T14:21:09.509532",
          "2023-05-22T14:21:09.638230",
          "2023-05-22T14:21:09.767030",
          "2023-05-22T14:21:09.895878",
          "2023-05-22T14:21:10.024876",
          "2023-05-22T14:21:10.153801",
          "2023-05-22T14:21:10.282873",
          "2023-05-22T14:21:10.411751",
          "2023-05-22T14:21:10.540697",
          "2023-05-22T14:21:10.669569",
          "2023-05-22T14:21:10.798392",
          "2023-05-22T14:21:10.927247",
          "2023-05-22T14:21:11.056115",
          "2023-05-22T14:21:11.184968",
          "2023-05-22T14:21:11.313662",
          "2023-05-22T14:21:11.442392",
          "2023-05-22T14:21:11.571160",
          "2023-05-22T14:21:11.700184",
          "2023-05-22T14:21:11.828980",
          "2023-05-22T14:21:11.957931",
          "2023-05-22T14:21:12.086904",
          "2023-05-22T14:21:12.215980",
          "2023-05-22T14:21:12.344859",
          "2023-05-22T14:21:12.473300",
          "2023-05-22T14:21:12.601997",
          "2023-05-22T14:21:12.730952",
          "2023-05-22T14:21:12.859875",
          "2023-05-22T14:21:12.988733",
          "2023-05-22T14:21:13.117690",
          "2023-05-22T14:21:13.246420",
          "2023-05-22T14:21:13.375036",
          "2023-05-22T14:21:13.503829",
          "2023-05-22T14:21:13.632538",
          "2023-05-22T14:21:13.761197",
          "2023-05-22T14:21:13.889731",
          "2023-05-22T14:21:14.018555",
          "2023-05-22T14:21:14.147452",
          "2023-05-22T14:21:14.276254",
          "2023-05-22T14:21:14.405153",
          "2023-05-22T14:21:14.534228",
          "2023-05-22T14:21:14.662924",
          "2023-05-22T14:21:14.791569",
          "2023-05-22T14:21:14.920300",
          "2023-05-22T14:21:15.048966",
          "2023-05-22T14:21:15.178097",
          "2023-05-22T14:21:15.306843",
          "2023-05-22T14:21:15.435816",
          "2023-05-22T14:21:15.564590",
          "2023-05-22T14:21:15.693187",
          "2023-05-22T14:21:15.822083",
          "2023-05-22T14:21:15.951014",
          "2023-05-22T14:21:16.080040",
          "2023-05-22T14:21:16.209184",
          "2023-05-22T14:21:16.337932",
          "2023-05-22T14:21:16.466810",
          "2023-05-22T14:21:16.595577",
          "2023-05-22T14:21:16.724276",
          "2023-05-22T14:21:16.852950",
          "2023-05-22T14:21:16.981948",
          "2023-05-22T14:21:17.111209",
          "2023-05-22T14:21:17.240000",
          "2023-05-22T14:21:17.368815",
          "2023-05-22T14:21:17.497936",
          "2023-05-22T14:21:17.626717",
          "2023-05-22T14:21:17.755660",
          "2023-05-22T14:21:17.884562",
          "2023-05-22T14:21:18.013487",
          "2023-05-22T14:21:18.142490",
          "2023-05-22T14:21:18.271434",
          "2023-05-22T14:21:18.400433",
          "2023-05-22T14:21:18.529455",
          "2023-05-22T14:21:18.658106",
          "2023-05-22T14:21:18.786828",
          "2023-05-22T14:21:18.915779",
          "2023-05-22T14:21:19.044574",
          "2023-05-22T14:21:19.173395",
          "2023-05-22T14:21:19.302323",
          "2023-05-22T14:21:19.431197",
          "2023-05-22T14:21:19.560045",
          "2023-05-22T14:21:19.688766",
          "2023-05-22T14:21:19.817542",
          "2023-05-22T14:21:19.946251",
          "2023-05-22T14:21:20.074842",
          "2023-05-22T14:21:20.203361",
          "2023-05-22T14:21:20.332065",
          "2023-05-22T14:21:20.460833"
         ],
         "xaxis": "x",
         "y": [
          0,
          -0.009785466777282209,
          -65.00022379363354,
          -121.97086187303283,
          -201.4450115269974,
          -297.69008029147193,
          -407.4969667509524,
          -533.5196112536278,
          -677.6278272176637,
          -840.1023366838755,
          -1017.786004871616,
          -1205.7419399558833,
          -1397.4175725495074,
          -1587.6725423423661,
          -1772.900793204577,
          -1950.756515083933,
          -2119.023868981387,
          -2277.523128654455,
          -2425.64662096846,
          -2562.633127451331,
          -2688.7117847203867,
          -2803.6169903303335,
          -2907.336715348397,
          -2999.999934929692,
          -3082.0741635261866,
          -3155.0315496548005,
          -3222.43151744285,
          -3290.396479645269,
          -3368.1099317625444,
          -3460.3975301044234,
          -3564.3377125205325,
          -3675.9719397617437,
          -3794.0934173695796,
          -3918.14508458237,
          -4046.838347274492,
          -4181.705283724334,
          -4325.164276274207,
          -4475.510184046286,
          -4627.325425357582,
          -4776.30304053132,
          -4921.7526730827285,
          -5062.598236253515,
          -5195.923358686334,
          -5318.585731807632,
          -5431.067974743606,
          -5536.541000832073,
          -5638.134598273929,
          -5737.979015511638,
          -5837.492429974574,
          -5935.64511895987,
          -6031.398106609738,
          -6126.932931934468,
          -6223.350386550823,
          -6319.535433320723,
          -6412.353674871333,
          -6500.223266285811,
          -6581.328621655111,
          -6653.59784324627,
          -6719.624600792622,
          -6785.5489595597255,
          -6855.130074336549,
          -6928.20269916437,
          -7003.183464322293,
          -7079.960346241908,
          -7159.08861413669,
          -7243.053206955991,
          -7335.119519807252,
          -7436.236982520704,
          -7547.062431339809,
          -7667.44226241237,
          -7794.538596181114,
          -7925.883452158479,
          -8059.382990640108,
          -8194.915782436005,
          -8333.005180962564,
          -8472.94068498092,
          -8612.610261281436,
          -8746.923530904505,
          -8868.402593053894,
          -8973.330398985363,
          -9061.640059433685,
          -9133.436901586978,
          -9190.048323143257,
          -9235.108268647693,
          -9273.149834081429,
          -9307.01047717788,
          -9337.324421762585,
          -9364.239624007021,
          -9387.202500568299,
          -9405.980450688885,
          -9422.50817650581,
          -9439.823685460806,
          -9459.842185148154
         ],
         "yaxis": "y"
        }
       ],
       "layout": {
        "legend": {
         "title": {
          "text": "variable"
         },
         "tracegroupgap": 0
        },
        "template": {
         "data": {
          "bar": [
           {
            "error_x": {
             "color": "#2a3f5f"
            },
            "error_y": {
             "color": "#2a3f5f"
            },
            "marker": {
             "line": {
              "color": "#E5ECF6",
              "width": 0.5
             },
             "pattern": {
              "fillmode": "overlay",
              "size": 10,
              "solidity": 0.2
             }
            },
            "type": "bar"
           }
          ],
          "barpolar": [
           {
            "marker": {
             "line": {
              "color": "#E5ECF6",
              "width": 0.5
             },
             "pattern": {
              "fillmode": "overlay",
              "size": 10,
              "solidity": 0.2
             }
            },
            "type": "barpolar"
           }
          ],
          "carpet": [
           {
            "aaxis": {
             "endlinecolor": "#2a3f5f",
             "gridcolor": "white",
             "linecolor": "white",
             "minorgridcolor": "white",
             "startlinecolor": "#2a3f5f"
            },
            "baxis": {
             "endlinecolor": "#2a3f5f",
             "gridcolor": "white",
             "linecolor": "white",
             "minorgridcolor": "white",
             "startlinecolor": "#2a3f5f"
            },
            "type": "carpet"
           }
          ],
          "choropleth": [
           {
            "colorbar": {
             "outlinewidth": 0,
             "ticks": ""
            },
            "type": "choropleth"
           }
          ],
          "contour": [
           {
            "colorbar": {
             "outlinewidth": 0,
             "ticks": ""
            },
            "colorscale": [
             [
              0,
              "#0d0887"
             ],
             [
              0.1111111111111111,
              "#46039f"
             ],
             [
              0.2222222222222222,
              "#7201a8"
             ],
             [
              0.3333333333333333,
              "#9c179e"
             ],
             [
              0.4444444444444444,
              "#bd3786"
             ],
             [
              0.5555555555555556,
              "#d8576b"
             ],
             [
              0.6666666666666666,
              "#ed7953"
             ],
             [
              0.7777777777777778,
              "#fb9f3a"
             ],
             [
              0.8888888888888888,
              "#fdca26"
             ],
             [
              1,
              "#f0f921"
             ]
            ],
            "type": "contour"
           }
          ],
          "contourcarpet": [
           {
            "colorbar": {
             "outlinewidth": 0,
             "ticks": ""
            },
            "type": "contourcarpet"
           }
          ],
          "heatmap": [
           {
            "colorbar": {
             "outlinewidth": 0,
             "ticks": ""
            },
            "colorscale": [
             [
              0,
              "#0d0887"
             ],
             [
              0.1111111111111111,
              "#46039f"
             ],
             [
              0.2222222222222222,
              "#7201a8"
             ],
             [
              0.3333333333333333,
              "#9c179e"
             ],
             [
              0.4444444444444444,
              "#bd3786"
             ],
             [
              0.5555555555555556,
              "#d8576b"
             ],
             [
              0.6666666666666666,
              "#ed7953"
             ],
             [
              0.7777777777777778,
              "#fb9f3a"
             ],
             [
              0.8888888888888888,
              "#fdca26"
             ],
             [
              1,
              "#f0f921"
             ]
            ],
            "type": "heatmap"
           }
          ],
          "heatmapgl": [
           {
            "colorbar": {
             "outlinewidth": 0,
             "ticks": ""
            },
            "colorscale": [
             [
              0,
              "#0d0887"
             ],
             [
              0.1111111111111111,
              "#46039f"
             ],
             [
              0.2222222222222222,
              "#7201a8"
             ],
             [
              0.3333333333333333,
              "#9c179e"
             ],
             [
              0.4444444444444444,
              "#bd3786"
             ],
             [
              0.5555555555555556,
              "#d8576b"
             ],
             [
              0.6666666666666666,
              "#ed7953"
             ],
             [
              0.7777777777777778,
              "#fb9f3a"
             ],
             [
              0.8888888888888888,
              "#fdca26"
             ],
             [
              1,
              "#f0f921"
             ]
            ],
            "type": "heatmapgl"
           }
          ],
          "histogram": [
           {
            "marker": {
             "pattern": {
              "fillmode": "overlay",
              "size": 10,
              "solidity": 0.2
             }
            },
            "type": "histogram"
           }
          ],
          "histogram2d": [
           {
            "colorbar": {
             "outlinewidth": 0,
             "ticks": ""
            },
            "colorscale": [
             [
              0,
              "#0d0887"
             ],
             [
              0.1111111111111111,
              "#46039f"
             ],
             [
              0.2222222222222222,
              "#7201a8"
             ],
             [
              0.3333333333333333,
              "#9c179e"
             ],
             [
              0.4444444444444444,
              "#bd3786"
             ],
             [
              0.5555555555555556,
              "#d8576b"
             ],
             [
              0.6666666666666666,
              "#ed7953"
             ],
             [
              0.7777777777777778,
              "#fb9f3a"
             ],
             [
              0.8888888888888888,
              "#fdca26"
             ],
             [
              1,
              "#f0f921"
             ]
            ],
            "type": "histogram2d"
           }
          ],
          "histogram2dcontour": [
           {
            "colorbar": {
             "outlinewidth": 0,
             "ticks": ""
            },
            "colorscale": [
             [
              0,
              "#0d0887"
             ],
             [
              0.1111111111111111,
              "#46039f"
             ],
             [
              0.2222222222222222,
              "#7201a8"
             ],
             [
              0.3333333333333333,
              "#9c179e"
             ],
             [
              0.4444444444444444,
              "#bd3786"
             ],
             [
              0.5555555555555556,
              "#d8576b"
             ],
             [
              0.6666666666666666,
              "#ed7953"
             ],
             [
              0.7777777777777778,
              "#fb9f3a"
             ],
             [
              0.8888888888888888,
              "#fdca26"
             ],
             [
              1,
              "#f0f921"
             ]
            ],
            "type": "histogram2dcontour"
           }
          ],
          "mesh3d": [
           {
            "colorbar": {
             "outlinewidth": 0,
             "ticks": ""
            },
            "type": "mesh3d"
           }
          ],
          "parcoords": [
           {
            "line": {
             "colorbar": {
              "outlinewidth": 0,
              "ticks": ""
             }
            },
            "type": "parcoords"
           }
          ],
          "pie": [
           {
            "automargin": true,
            "type": "pie"
           }
          ],
          "scatter": [
           {
            "fillpattern": {
             "fillmode": "overlay",
             "size": 10,
             "solidity": 0.2
            },
            "type": "scatter"
           }
          ],
          "scatter3d": [
           {
            "line": {
             "colorbar": {
              "outlinewidth": 0,
              "ticks": ""
             }
            },
            "marker": {
             "colorbar": {
              "outlinewidth": 0,
              "ticks": ""
             }
            },
            "type": "scatter3d"
           }
          ],
          "scattercarpet": [
           {
            "marker": {
             "colorbar": {
              "outlinewidth": 0,
              "ticks": ""
             }
            },
            "type": "scattercarpet"
           }
          ],
          "scattergeo": [
           {
            "marker": {
             "colorbar": {
              "outlinewidth": 0,
              "ticks": ""
             }
            },
            "type": "scattergeo"
           }
          ],
          "scattergl": [
           {
            "marker": {
             "colorbar": {
              "outlinewidth": 0,
              "ticks": ""
             }
            },
            "type": "scattergl"
           }
          ],
          "scattermapbox": [
           {
            "marker": {
             "colorbar": {
              "outlinewidth": 0,
              "ticks": ""
             }
            },
            "type": "scattermapbox"
           }
          ],
          "scatterpolar": [
           {
            "marker": {
             "colorbar": {
              "outlinewidth": 0,
              "ticks": ""
             }
            },
            "type": "scatterpolar"
           }
          ],
          "scatterpolargl": [
           {
            "marker": {
             "colorbar": {
              "outlinewidth": 0,
              "ticks": ""
             }
            },
            "type": "scatterpolargl"
           }
          ],
          "scatterternary": [
           {
            "marker": {
             "colorbar": {
              "outlinewidth": 0,
              "ticks": ""
             }
            },
            "type": "scatterternary"
           }
          ],
          "surface": [
           {
            "colorbar": {
             "outlinewidth": 0,
             "ticks": ""
            },
            "colorscale": [
             [
              0,
              "#0d0887"
             ],
             [
              0.1111111111111111,
              "#46039f"
             ],
             [
              0.2222222222222222,
              "#7201a8"
             ],
             [
              0.3333333333333333,
              "#9c179e"
             ],
             [
              0.4444444444444444,
              "#bd3786"
             ],
             [
              0.5555555555555556,
              "#d8576b"
             ],
             [
              0.6666666666666666,
              "#ed7953"
             ],
             [
              0.7777777777777778,
              "#fb9f3a"
             ],
             [
              0.8888888888888888,
              "#fdca26"
             ],
             [
              1,
              "#f0f921"
             ]
            ],
            "type": "surface"
           }
          ],
          "table": [
           {
            "cells": {
             "fill": {
              "color": "#EBF0F8"
             },
             "line": {
              "color": "white"
             }
            },
            "header": {
             "fill": {
              "color": "#C8D4E3"
             },
             "line": {
              "color": "white"
             }
            },
            "type": "table"
           }
          ]
         },
         "layout": {
          "annotationdefaults": {
           "arrowcolor": "#2a3f5f",
           "arrowhead": 0,
           "arrowwidth": 1
          },
          "autotypenumbers": "strict",
          "coloraxis": {
           "colorbar": {
            "outlinewidth": 0,
            "ticks": ""
           }
          },
          "colorscale": {
           "diverging": [
            [
             0,
             "#8e0152"
            ],
            [
             0.1,
             "#c51b7d"
            ],
            [
             0.2,
             "#de77ae"
            ],
            [
             0.3,
             "#f1b6da"
            ],
            [
             0.4,
             "#fde0ef"
            ],
            [
             0.5,
             "#f7f7f7"
            ],
            [
             0.6,
             "#e6f5d0"
            ],
            [
             0.7,
             "#b8e186"
            ],
            [
             0.8,
             "#7fbc41"
            ],
            [
             0.9,
             "#4d9221"
            ],
            [
             1,
             "#276419"
            ]
           ],
           "sequential": [
            [
             0,
             "#0d0887"
            ],
            [
             0.1111111111111111,
             "#46039f"
            ],
            [
             0.2222222222222222,
             "#7201a8"
            ],
            [
             0.3333333333333333,
             "#9c179e"
            ],
            [
             0.4444444444444444,
             "#bd3786"
            ],
            [
             0.5555555555555556,
             "#d8576b"
            ],
            [
             0.6666666666666666,
             "#ed7953"
            ],
            [
             0.7777777777777778,
             "#fb9f3a"
            ],
            [
             0.8888888888888888,
             "#fdca26"
            ],
            [
             1,
             "#f0f921"
            ]
           ],
           "sequentialminus": [
            [
             0,
             "#0d0887"
            ],
            [
             0.1111111111111111,
             "#46039f"
            ],
            [
             0.2222222222222222,
             "#7201a8"
            ],
            [
             0.3333333333333333,
             "#9c179e"
            ],
            [
             0.4444444444444444,
             "#bd3786"
            ],
            [
             0.5555555555555556,
             "#d8576b"
            ],
            [
             0.6666666666666666,
             "#ed7953"
            ],
            [
             0.7777777777777778,
             "#fb9f3a"
            ],
            [
             0.8888888888888888,
             "#fdca26"
            ],
            [
             1,
             "#f0f921"
            ]
           ]
          },
          "colorway": [
           "#636efa",
           "#EF553B",
           "#00cc96",
           "#ab63fa",
           "#FFA15A",
           "#19d3f3",
           "#FF6692",
           "#B6E880",
           "#FF97FF",
           "#FECB52"
          ],
          "font": {
           "color": "#2a3f5f"
          },
          "geo": {
           "bgcolor": "white",
           "lakecolor": "white",
           "landcolor": "#E5ECF6",
           "showlakes": true,
           "showland": true,
           "subunitcolor": "white"
          },
          "hoverlabel": {
           "align": "left"
          },
          "hovermode": "closest",
          "mapbox": {
           "style": "light"
          },
          "paper_bgcolor": "white",
          "plot_bgcolor": "#E5ECF6",
          "polar": {
           "angularaxis": {
            "gridcolor": "white",
            "linecolor": "white",
            "ticks": ""
           },
           "bgcolor": "#E5ECF6",
           "radialaxis": {
            "gridcolor": "white",
            "linecolor": "white",
            "ticks": ""
           }
          },
          "scene": {
           "xaxis": {
            "backgroundcolor": "#E5ECF6",
            "gridcolor": "white",
            "gridwidth": 2,
            "linecolor": "white",
            "showbackground": true,
            "ticks": "",
            "zerolinecolor": "white"
           },
           "yaxis": {
            "backgroundcolor": "#E5ECF6",
            "gridcolor": "white",
            "gridwidth": 2,
            "linecolor": "white",
            "showbackground": true,
            "ticks": "",
            "zerolinecolor": "white"
           },
           "zaxis": {
            "backgroundcolor": "#E5ECF6",
            "gridcolor": "white",
            "gridwidth": 2,
            "linecolor": "white",
            "showbackground": true,
            "ticks": "",
            "zerolinecolor": "white"
           }
          },
          "shapedefaults": {
           "line": {
            "color": "#2a3f5f"
           }
          },
          "ternary": {
           "aaxis": {
            "gridcolor": "white",
            "linecolor": "white",
            "ticks": ""
           },
           "baxis": {
            "gridcolor": "white",
            "linecolor": "white",
            "ticks": ""
           },
           "bgcolor": "#E5ECF6",
           "caxis": {
            "gridcolor": "white",
            "linecolor": "white",
            "ticks": ""
           }
          },
          "title": {
           "x": 0.05
          },
          "xaxis": {
           "automargin": true,
           "gridcolor": "white",
           "linecolor": "white",
           "ticks": "",
           "title": {
            "standoff": 15
           },
           "zerolinecolor": "white",
           "zerolinewidth": 2
          },
          "yaxis": {
           "automargin": true,
           "gridcolor": "white",
           "linecolor": "white",
           "ticks": "",
           "title": {
            "standoff": 15
           },
           "zerolinecolor": "white",
           "zerolinewidth": 2
          }
         }
        },
        "title": {
         "text": "Velocity"
        },
        "xaxis": {
         "anchor": "y",
         "domain": [
          0,
          1
         ],
         "title": {
          "text": "timestamp"
         }
        },
        "yaxis": {
         "anchor": "x",
         "domain": [
          0,
          1
         ],
         "title": {
          "text": "value"
         }
        }
       }
      }
     },
     "metadata": {},
     "output_type": "display_data"
    }
   ],
   "source": [
    "# df[[\"velocity_x\",\"velocity_y\", \"velocity_z\"]] = df[[\"acc_x\", \"acc_y\",\"acc_z\"]].diff().rolling(window=1).mean().cumsum()\n",
    "from scipy import integrate\n",
    "import numpy as np\n",
    "\n",
    "dv = df[[\"acc_x\", \"acc_y\", \"acc_z\"]].expanding().apply(lambda g: integrate.trapezoid(g, g.index.astype(np.int64) / 10**9))\n",
    "# dv = df[[\"acc_x\", \"acc_y\", \"acc_z\"]].rolling(\"1s\", min_periods=1).mean().cumsum()\n",
    "\n",
    "px.line(dv, title=\"Velocity\")\n",
    "# df[[\"pos_x\",\"pos_y\", \"pos_z\"]] = df[[\"velocity_x\",\"velocity_y\", \"velocity_z\"]].cumsum()"
   ]
  },
  {
   "cell_type": "code",
   "execution_count": 307,
   "metadata": {},
   "outputs": [
    {
     "data": {
      "application/vnd.plotly.v1+json": {
       "config": {
        "plotlyServerURL": "https://plot.ly"
       },
       "data": [
        {
         "hovertemplate": "variable=acc_x<br>timestamp=%{x}<br>value=%{y}<extra></extra>",
         "legendgroup": "acc_x",
         "line": {
          "color": "#636efa",
          "dash": "solid"
         },
         "marker": {
          "symbol": "circle"
         },
         "mode": "lines",
         "name": "acc_x",
         "orientation": "v",
         "showlegend": true,
         "type": "scatter",
         "x": [
          "2023-05-22T14:21:08.608633",
          "2023-05-22T14:21:08.608732",
          "2023-05-22T14:21:08.865600",
          "2023-05-22T14:21:08.994296",
          "2023-05-22T14:21:09.123017",
          "2023-05-22T14:21:09.251885",
          "2023-05-22T14:21:09.380533",
          "2023-05-22T14:21:09.509532",
          "2023-05-22T14:21:09.638230",
          "2023-05-22T14:21:09.767030",
          "2023-05-22T14:21:09.895878",
          "2023-05-22T14:21:10.024876",
          "2023-05-22T14:21:10.153801",
          "2023-05-22T14:21:10.282873",
          "2023-05-22T14:21:10.411751",
          "2023-05-22T14:21:10.540697",
          "2023-05-22T14:21:10.669569",
          "2023-05-22T14:21:10.798392",
          "2023-05-22T14:21:10.927247",
          "2023-05-22T14:21:11.056115",
          "2023-05-22T14:21:11.184968",
          "2023-05-22T14:21:11.313662",
          "2023-05-22T14:21:11.442392",
          "2023-05-22T14:21:11.571160",
          "2023-05-22T14:21:11.700184",
          "2023-05-22T14:21:11.828980",
          "2023-05-22T14:21:11.957931",
          "2023-05-22T14:21:12.086904",
          "2023-05-22T14:21:12.215980",
          "2023-05-22T14:21:12.344859",
          "2023-05-22T14:21:12.473300",
          "2023-05-22T14:21:12.601997",
          "2023-05-22T14:21:12.730952",
          "2023-05-22T14:21:12.859875",
          "2023-05-22T14:21:12.988733",
          "2023-05-22T14:21:13.117690",
          "2023-05-22T14:21:13.246420",
          "2023-05-22T14:21:13.375036",
          "2023-05-22T14:21:13.503829",
          "2023-05-22T14:21:13.632538",
          "2023-05-22T14:21:13.761197",
          "2023-05-22T14:21:13.889731",
          "2023-05-22T14:21:14.018555",
          "2023-05-22T14:21:14.147452",
          "2023-05-22T14:21:14.276254",
          "2023-05-22T14:21:14.405153",
          "2023-05-22T14:21:14.534228",
          "2023-05-22T14:21:14.662924",
          "2023-05-22T14:21:14.791569",
          "2023-05-22T14:21:14.920300",
          "2023-05-22T14:21:15.048966",
          "2023-05-22T14:21:15.178097",
          "2023-05-22T14:21:15.306843",
          "2023-05-22T14:21:15.435816",
          "2023-05-22T14:21:15.564590",
          "2023-05-22T14:21:15.693187",
          "2023-05-22T14:21:15.822083",
          "2023-05-22T14:21:15.951014",
          "2023-05-22T14:21:16.080040",
          "2023-05-22T14:21:16.209184",
          "2023-05-22T14:21:16.337932",
          "2023-05-22T14:21:16.466810",
          "2023-05-22T14:21:16.595577",
          "2023-05-22T14:21:16.724276",
          "2023-05-22T14:21:16.852950",
          "2023-05-22T14:21:16.981948",
          "2023-05-22T14:21:17.111209",
          "2023-05-22T14:21:17.240000",
          "2023-05-22T14:21:17.368815",
          "2023-05-22T14:21:17.497936",
          "2023-05-22T14:21:17.626717",
          "2023-05-22T14:21:17.755660",
          "2023-05-22T14:21:17.884562",
          "2023-05-22T14:21:18.013487",
          "2023-05-22T14:21:18.142490",
          "2023-05-22T14:21:18.271434",
          "2023-05-22T14:21:18.400433",
          "2023-05-22T14:21:18.529455",
          "2023-05-22T14:21:18.658106",
          "2023-05-22T14:21:18.786828",
          "2023-05-22T14:21:18.915779",
          "2023-05-22T14:21:19.044574",
          "2023-05-22T14:21:19.173395",
          "2023-05-22T14:21:19.302323",
          "2023-05-22T14:21:19.431197",
          "2023-05-22T14:21:19.560045",
          "2023-05-22T14:21:19.688766",
          "2023-05-22T14:21:19.817542",
          "2023-05-22T14:21:19.946251",
          "2023-05-22T14:21:20.074842",
          "2023-05-22T14:21:20.203361",
          "2023-05-22T14:21:20.332065",
          "2023-05-22T14:21:20.460833"
         ],
         "xaxis": "x",
         "y": [
          0,
          -2.951501739752084e-8,
          -0.4813482901408281,
          -1.1598693465526764,
          -2.3049113758910047,
          -4.068521320021183,
          -6.583043489586322,
          -9.86171688282596,
          -13.514026087922417,
          -16.816358185646976,
          -19.105199472718937,
          -20.147113885101657,
          -20.14752294215164,
          -19.63466160285148,
          -19.278934513881104,
          -19.618827107496738,
          -20.89382184748684,
          -23.170513924168173,
          -26.520703456500225,
          -30.916478464402214,
          -36.019881531858644,
          -41.25552541931311,
          -46.20307970229131,
          -50.75990136994557,
          -54.85883655535606,
          -58.08265157821045,
          -59.789296876760226,
          -59.503834215796225,
          -57.28589805841417,
          -53.602876513409754,
          -48.829894787358725,
          -42.97162268758979,
          -35.916472851546104,
          -27.704689882301146,
          -18.66600254824632,
          -9.458678701854414,
          -0.9787284901309956,
          5.9635781118437885,
          10.780572352189546,
          13.083858151072048,
          12.700185516595393,
          9.713267029066587,
          4.463666797502241,
          -2.5874766062959917,
          -11.068461891105104,
          -20.790478658205537,
          -31.671896530188224,
          -43.62462408267246,
          -56.68904308018752,
          -70.91246642476335,
          -86.19623983990894,
          -102.3239646526315,
          -118.74695197669585,
          -135.04223687369037,
          -150.72826539365605,
          -165.5537538070431,
          -179.45321514625516,
          -192.23067528242262,
          -203.54249513383297,
          -212.9684507976351,
          -220.2626285330135,
          -225.5896197444117,
          -229.31377845173083,
          -231.8330768497211,
          -233.428853551296,
          -234.37890326913669,
          -235.03318250983108,
          -235.63577305734225,
          -236.227394595631,
          -236.85179070148266,
          -237.72325385145643,
          -239.1525108147373,
          -241.4476975740846,
          -244.91609228938464,
          -249.74804411296927,
          -255.79562932529274,
          -262.6040004132182,
          -269.67535011133214,
          -276.59402174176705,
          -283.13692665857945,
          -289.3717198861041,
          -295.536932672656,
          -301.68061027189736,
          -307.4887493573452,
          -312.5797589668561,
          -316.85652489550444,
          -320.53170912516737,
          -323.9829183718478,
          -327.5574202437062,
          -331.45301031048297,
          -335.72529207799863,
          -340.33321905970195,
          -345.0705520154231
         ],
         "yaxis": "y"
        },
        {
         "hovertemplate": "variable=acc_y<br>timestamp=%{x}<br>value=%{y}<extra></extra>",
         "legendgroup": "acc_y",
         "line": {
          "color": "#EF553B",
          "dash": "solid"
         },
         "marker": {
          "symbol": "circle"
         },
         "mode": "lines",
         "name": "acc_y",
         "orientation": "v",
         "showlegend": true,
         "type": "scatter",
         "x": [
          "2023-05-22T14:21:08.608633",
          "2023-05-22T14:21:08.608732",
          "2023-05-22T14:21:08.865600",
          "2023-05-22T14:21:08.994296",
          "2023-05-22T14:21:09.123017",
          "2023-05-22T14:21:09.251885",
          "2023-05-22T14:21:09.380533",
          "2023-05-22T14:21:09.509532",
          "2023-05-22T14:21:09.638230",
          "2023-05-22T14:21:09.767030",
          "2023-05-22T14:21:09.895878",
          "2023-05-22T14:21:10.024876",
          "2023-05-22T14:21:10.153801",
          "2023-05-22T14:21:10.282873",
          "2023-05-22T14:21:10.411751",
          "2023-05-22T14:21:10.540697",
          "2023-05-22T14:21:10.669569",
          "2023-05-22T14:21:10.798392",
          "2023-05-22T14:21:10.927247",
          "2023-05-22T14:21:11.056115",
          "2023-05-22T14:21:11.184968",
          "2023-05-22T14:21:11.313662",
          "2023-05-22T14:21:11.442392",
          "2023-05-22T14:21:11.571160",
          "2023-05-22T14:21:11.700184",
          "2023-05-22T14:21:11.828980",
          "2023-05-22T14:21:11.957931",
          "2023-05-22T14:21:12.086904",
          "2023-05-22T14:21:12.215980",
          "2023-05-22T14:21:12.344859",
          "2023-05-22T14:21:12.473300",
          "2023-05-22T14:21:12.601997",
          "2023-05-22T14:21:12.730952",
          "2023-05-22T14:21:12.859875",
          "2023-05-22T14:21:12.988733",
          "2023-05-22T14:21:13.117690",
          "2023-05-22T14:21:13.246420",
          "2023-05-22T14:21:13.375036",
          "2023-05-22T14:21:13.503829",
          "2023-05-22T14:21:13.632538",
          "2023-05-22T14:21:13.761197",
          "2023-05-22T14:21:13.889731",
          "2023-05-22T14:21:14.018555",
          "2023-05-22T14:21:14.147452",
          "2023-05-22T14:21:14.276254",
          "2023-05-22T14:21:14.405153",
          "2023-05-22T14:21:14.534228",
          "2023-05-22T14:21:14.662924",
          "2023-05-22T14:21:14.791569",
          "2023-05-22T14:21:14.920300",
          "2023-05-22T14:21:15.048966",
          "2023-05-22T14:21:15.178097",
          "2023-05-22T14:21:15.306843",
          "2023-05-22T14:21:15.435816",
          "2023-05-22T14:21:15.564590",
          "2023-05-22T14:21:15.693187",
          "2023-05-22T14:21:15.822083",
          "2023-05-22T14:21:15.951014",
          "2023-05-22T14:21:16.080040",
          "2023-05-22T14:21:16.209184",
          "2023-05-22T14:21:16.337932",
          "2023-05-22T14:21:16.466810",
          "2023-05-22T14:21:16.595577",
          "2023-05-22T14:21:16.724276",
          "2023-05-22T14:21:16.852950",
          "2023-05-22T14:21:16.981948",
          "2023-05-22T14:21:17.111209",
          "2023-05-22T14:21:17.240000",
          "2023-05-22T14:21:17.368815",
          "2023-05-22T14:21:17.497936",
          "2023-05-22T14:21:17.626717",
          "2023-05-22T14:21:17.755660",
          "2023-05-22T14:21:17.884562",
          "2023-05-22T14:21:18.013487",
          "2023-05-22T14:21:18.142490",
          "2023-05-22T14:21:18.271434",
          "2023-05-22T14:21:18.400433",
          "2023-05-22T14:21:18.529455",
          "2023-05-22T14:21:18.658106",
          "2023-05-22T14:21:18.786828",
          "2023-05-22T14:21:18.915779",
          "2023-05-22T14:21:19.044574",
          "2023-05-22T14:21:19.173395",
          "2023-05-22T14:21:19.302323",
          "2023-05-22T14:21:19.431197",
          "2023-05-22T14:21:19.560045",
          "2023-05-22T14:21:19.688766",
          "2023-05-22T14:21:19.817542",
          "2023-05-22T14:21:19.946251",
          "2023-05-22T14:21:20.074842",
          "2023-05-22T14:21:20.203361",
          "2023-05-22T14:21:20.332065",
          "2023-05-22T14:21:20.460833"
         ],
         "xaxis": "x",
         "y": [
          0,
          2.653291915673838e-8,
          0.535964148042373,
          1.2726931745285022,
          2.3510527143034894,
          3.485615960132847,
          4.153904415522101,
          3.8737732497657245,
          2.3874680615827932,
          -0.26424307910919653,
          -3.728046785898038,
          -7.709108164529048,
          -12.399234149348882,
          -18.417966817294275,
          -26.41774082141685,
          -37.01979160490963,
          -50.90405734657954,
          -69.00294696139525,
          -92.3677551042953,
          -121.83494706400597,
          -157.89591426695245,
          -200.5491562707812,
          -249.1731192148337,
          -302.4051306066987,
          -359.1604666231401,
          -419.38335472804306,
          -485.08863750330505,
          -559.0586184854519,
          -644.431948504645,
          -744.1142677080527,
          -860.9021935566728,
          -997.9046591033491,
          -1156.391884761273,
          -1335.5957936914738,
          -1533.6203791969906,
          -1747.9238506886802,
          -1974.680222570208,
          -2210.7768433867113,
          -2453.6596639673485,
          -2699.9280305275565,
          -2946.8343914597303,
          -3191.5403226891226,
          -3432.4387951560557,
          -3667.3190046388327,
          -3894.893877181141,
          -4115.365076750462,
          -4329.48427907042,
          -4537.483616103802,
          -4740.99082984808,
          -4940.703045263058,
          -5136.319171430371,
          -5328.601045529135,
          -5516.8198736691265,
          -5703.037987177865,
          -5888.215879240354,
          -6074.159724578889,
          -6263.24513505835,
          -6456.640881184071,
          -6656.159324476938,
          -6863.94926163798,
          -7081.423494657339,
          -7311.2894978922,
          -7554.006956670556,
          -7809.552074458533,
          -8077.155007277256,
          -8356.119780257282,
          -8645.041984059975,
          -8942.201784855952,
          -9250.055282376257,
          -9571.074456451459,
          -9904.882324936547,
          -10253.337390932023,
          -10616.20673753725,
          -10994.003133184106,
          -11387.476322630071,
          -11797.140835897793,
          -12224.316249302632,
          -12669.310416810467,
          -13130.28491121234,
          -13607.401012735238,
          -14098.684594969704,
          -14599.246814625165,
          -15106.86043013278,
          -15620.301567619923,
          -16138.3404361881,
          -16660.66409645076,
          -17186.10606841389,
          -17714.22695548353,
          -18243.414514058117,
          -18773.05555950752,
          -19303.557765987476,
          -19836.314799273117,
          -20371.3484425476
         ],
         "yaxis": "y"
        },
        {
         "hovertemplate": "variable=acc_z<br>timestamp=%{x}<br>value=%{y}<extra></extra>",
         "legendgroup": "acc_z",
         "line": {
          "color": "#00cc96",
          "dash": "solid"
         },
         "marker": {
          "symbol": "circle"
         },
         "mode": "lines",
         "name": "acc_z",
         "orientation": "v",
         "showlegend": true,
         "type": "scatter",
         "x": [
          "2023-05-22T14:21:08.608633",
          "2023-05-22T14:21:08.608732",
          "2023-05-22T14:21:08.865600",
          "2023-05-22T14:21:08.994296",
          "2023-05-22T14:21:09.123017",
          "2023-05-22T14:21:09.251885",
          "2023-05-22T14:21:09.380533",
          "2023-05-22T14:21:09.509532",
          "2023-05-22T14:21:09.638230",
          "2023-05-22T14:21:09.767030",
          "2023-05-22T14:21:09.895878",
          "2023-05-22T14:21:10.024876",
          "2023-05-22T14:21:10.153801",
          "2023-05-22T14:21:10.282873",
          "2023-05-22T14:21:10.411751",
          "2023-05-22T14:21:10.540697",
          "2023-05-22T14:21:10.669569",
          "2023-05-22T14:21:10.798392",
          "2023-05-22T14:21:10.927247",
          "2023-05-22T14:21:11.056115",
          "2023-05-22T14:21:11.184968",
          "2023-05-22T14:21:11.313662",
          "2023-05-22T14:21:11.442392",
          "2023-05-22T14:21:11.571160",
          "2023-05-22T14:21:11.700184",
          "2023-05-22T14:21:11.828980",
          "2023-05-22T14:21:11.957931",
          "2023-05-22T14:21:12.086904",
          "2023-05-22T14:21:12.215980",
          "2023-05-22T14:21:12.344859",
          "2023-05-22T14:21:12.473300",
          "2023-05-22T14:21:12.601997",
          "2023-05-22T14:21:12.730952",
          "2023-05-22T14:21:12.859875",
          "2023-05-22T14:21:12.988733",
          "2023-05-22T14:21:13.117690",
          "2023-05-22T14:21:13.246420",
          "2023-05-22T14:21:13.375036",
          "2023-05-22T14:21:13.503829",
          "2023-05-22T14:21:13.632538",
          "2023-05-22T14:21:13.761197",
          "2023-05-22T14:21:13.889731",
          "2023-05-22T14:21:14.018555",
          "2023-05-22T14:21:14.147452",
          "2023-05-22T14:21:14.276254",
          "2023-05-22T14:21:14.405153",
          "2023-05-22T14:21:14.534228",
          "2023-05-22T14:21:14.662924",
          "2023-05-22T14:21:14.791569",
          "2023-05-22T14:21:14.920300",
          "2023-05-22T14:21:15.048966",
          "2023-05-22T14:21:15.178097",
          "2023-05-22T14:21:15.306843",
          "2023-05-22T14:21:15.435816",
          "2023-05-22T14:21:15.564590",
          "2023-05-22T14:21:15.693187",
          "2023-05-22T14:21:15.822083",
          "2023-05-22T14:21:15.951014",
          "2023-05-22T14:21:16.080040",
          "2023-05-22T14:21:16.209184",
          "2023-05-22T14:21:16.337932",
          "2023-05-22T14:21:16.466810",
          "2023-05-22T14:21:16.595577",
          "2023-05-22T14:21:16.724276",
          "2023-05-22T14:21:16.852950",
          "2023-05-22T14:21:16.981948",
          "2023-05-22T14:21:17.111209",
          "2023-05-22T14:21:17.240000",
          "2023-05-22T14:21:17.368815",
          "2023-05-22T14:21:17.497936",
          "2023-05-22T14:21:17.626717",
          "2023-05-22T14:21:17.755660",
          "2023-05-22T14:21:17.884562",
          "2023-05-22T14:21:18.013487",
          "2023-05-22T14:21:18.142490",
          "2023-05-22T14:21:18.271434",
          "2023-05-22T14:21:18.400433",
          "2023-05-22T14:21:18.529455",
          "2023-05-22T14:21:18.658106",
          "2023-05-22T14:21:18.786828",
          "2023-05-22T14:21:18.915779",
          "2023-05-22T14:21:19.044574",
          "2023-05-22T14:21:19.173395",
          "2023-05-22T14:21:19.302323",
          "2023-05-22T14:21:19.431197",
          "2023-05-22T14:21:19.560045",
          "2023-05-22T14:21:19.688766",
          "2023-05-22T14:21:19.817542",
          "2023-05-22T14:21:19.946251",
          "2023-05-22T14:21:20.074842",
          "2023-05-22T14:21:20.203361",
          "2023-05-22T14:21:20.332065",
          "2023-05-22T14:21:20.460833"
         ],
         "xaxis": "x",
         "y": [
          0,
          -4.841051951136728e-7,
          -8.349500044343221,
          -20.3807121753678,
          -41.1959192954656,
          -73.35715601243851,
          -118.71762267467552,
          -179.41271901386983,
          -257.3489124966699,
          -355.09067078646876,
          -474.78311830121845,
          -618.1987580322057,
          -786.0047285087484,
          -978.6507867485402,
          -1195.2021666290366,
          -1435.2780908604177,
          -1697.5182922666652,
          -1980.7065713474842,
          -2283.7200168883837,
          -2605.134496513386,
          -2943.4604865272586,
          -3296.875524022684,
          -3664.461226819648,
          -4044.799092902077,
          -4437.165944656858,
          -4838.82264863108,
          -5250.013000411785,
          -5670.002506499184,
          -6099.72920668992,
          -6539.754239217894,
          -6990.886583778774,
          -7456.790217463136,
          -7938.4409359260535,
          -8435.583164055262,
          -8948.758488308375,
          -9479.323756156919,
          -10026.867650837554,
          -10592.821840256369,
          -11179.012598924928,
          -11784.178772999077,
          -12408.04989619569,
          -13049.71456846112,
          -13710.485215904351,
          -14388.129300968407,
          -15080.41807762345,
          -15787.27552665113,
          -16508.46143447326,
          -17240.491393148804,
          -17985.054326673613,
          -18742.838284245478,
          -19512.713621760806,
          -20297.722822982407,
          -21092.746340793554,
          -21901.59468761307,
          -22721.36237129186,
          -23551.621835989296,
          -24394.701678988953,
          -25247.896554593706,
          -26110.64442124247,
          -26982.700173193505,
          -27860.80646262976,
          -28748.99144684252,
          -29645.941281532498,
          -30552.184996624917,
          -31468.282905338543,
          -32397.205230133448,
          -33339.3999453403,
          -34290.60952595678,
          -35255.64768727207,
          -36237.900585667136,
          -37233.50588452324,
          -38247.02668501092,
          -39277.29276054632,
          -40325.08618656404,
          -41391.1622767847,
          -42474.67454755456,
          -43576.68195986716,
          -44696.56596773182,
          -45829.67978015625,
          -46977.9911329658,
          -48140.80552626448,
          -49312.52216265137,
          -50492.746056259806,
          -51680.50485414935,
          -52873.12206907642,
          -54070.1310217767,
          -55270.08972651812,
          -56474.24448976624,
          -57680.984901732256,
          -58889.30480629134,
          -60099.21237486808,
          -61313.041824885804,
          -62529.87760257251
         ],
         "yaxis": "y"
        }
       ],
       "layout": {
        "legend": {
         "title": {
          "text": "variable"
         },
         "tracegroupgap": 0
        },
        "template": {
         "data": {
          "bar": [
           {
            "error_x": {
             "color": "#2a3f5f"
            },
            "error_y": {
             "color": "#2a3f5f"
            },
            "marker": {
             "line": {
              "color": "#E5ECF6",
              "width": 0.5
             },
             "pattern": {
              "fillmode": "overlay",
              "size": 10,
              "solidity": 0.2
             }
            },
            "type": "bar"
           }
          ],
          "barpolar": [
           {
            "marker": {
             "line": {
              "color": "#E5ECF6",
              "width": 0.5
             },
             "pattern": {
              "fillmode": "overlay",
              "size": 10,
              "solidity": 0.2
             }
            },
            "type": "barpolar"
           }
          ],
          "carpet": [
           {
            "aaxis": {
             "endlinecolor": "#2a3f5f",
             "gridcolor": "white",
             "linecolor": "white",
             "minorgridcolor": "white",
             "startlinecolor": "#2a3f5f"
            },
            "baxis": {
             "endlinecolor": "#2a3f5f",
             "gridcolor": "white",
             "linecolor": "white",
             "minorgridcolor": "white",
             "startlinecolor": "#2a3f5f"
            },
            "type": "carpet"
           }
          ],
          "choropleth": [
           {
            "colorbar": {
             "outlinewidth": 0,
             "ticks": ""
            },
            "type": "choropleth"
           }
          ],
          "contour": [
           {
            "colorbar": {
             "outlinewidth": 0,
             "ticks": ""
            },
            "colorscale": [
             [
              0,
              "#0d0887"
             ],
             [
              0.1111111111111111,
              "#46039f"
             ],
             [
              0.2222222222222222,
              "#7201a8"
             ],
             [
              0.3333333333333333,
              "#9c179e"
             ],
             [
              0.4444444444444444,
              "#bd3786"
             ],
             [
              0.5555555555555556,
              "#d8576b"
             ],
             [
              0.6666666666666666,
              "#ed7953"
             ],
             [
              0.7777777777777778,
              "#fb9f3a"
             ],
             [
              0.8888888888888888,
              "#fdca26"
             ],
             [
              1,
              "#f0f921"
             ]
            ],
            "type": "contour"
           }
          ],
          "contourcarpet": [
           {
            "colorbar": {
             "outlinewidth": 0,
             "ticks": ""
            },
            "type": "contourcarpet"
           }
          ],
          "heatmap": [
           {
            "colorbar": {
             "outlinewidth": 0,
             "ticks": ""
            },
            "colorscale": [
             [
              0,
              "#0d0887"
             ],
             [
              0.1111111111111111,
              "#46039f"
             ],
             [
              0.2222222222222222,
              "#7201a8"
             ],
             [
              0.3333333333333333,
              "#9c179e"
             ],
             [
              0.4444444444444444,
              "#bd3786"
             ],
             [
              0.5555555555555556,
              "#d8576b"
             ],
             [
              0.6666666666666666,
              "#ed7953"
             ],
             [
              0.7777777777777778,
              "#fb9f3a"
             ],
             [
              0.8888888888888888,
              "#fdca26"
             ],
             [
              1,
              "#f0f921"
             ]
            ],
            "type": "heatmap"
           }
          ],
          "heatmapgl": [
           {
            "colorbar": {
             "outlinewidth": 0,
             "ticks": ""
            },
            "colorscale": [
             [
              0,
              "#0d0887"
             ],
             [
              0.1111111111111111,
              "#46039f"
             ],
             [
              0.2222222222222222,
              "#7201a8"
             ],
             [
              0.3333333333333333,
              "#9c179e"
             ],
             [
              0.4444444444444444,
              "#bd3786"
             ],
             [
              0.5555555555555556,
              "#d8576b"
             ],
             [
              0.6666666666666666,
              "#ed7953"
             ],
             [
              0.7777777777777778,
              "#fb9f3a"
             ],
             [
              0.8888888888888888,
              "#fdca26"
             ],
             [
              1,
              "#f0f921"
             ]
            ],
            "type": "heatmapgl"
           }
          ],
          "histogram": [
           {
            "marker": {
             "pattern": {
              "fillmode": "overlay",
              "size": 10,
              "solidity": 0.2
             }
            },
            "type": "histogram"
           }
          ],
          "histogram2d": [
           {
            "colorbar": {
             "outlinewidth": 0,
             "ticks": ""
            },
            "colorscale": [
             [
              0,
              "#0d0887"
             ],
             [
              0.1111111111111111,
              "#46039f"
             ],
             [
              0.2222222222222222,
              "#7201a8"
             ],
             [
              0.3333333333333333,
              "#9c179e"
             ],
             [
              0.4444444444444444,
              "#bd3786"
             ],
             [
              0.5555555555555556,
              "#d8576b"
             ],
             [
              0.6666666666666666,
              "#ed7953"
             ],
             [
              0.7777777777777778,
              "#fb9f3a"
             ],
             [
              0.8888888888888888,
              "#fdca26"
             ],
             [
              1,
              "#f0f921"
             ]
            ],
            "type": "histogram2d"
           }
          ],
          "histogram2dcontour": [
           {
            "colorbar": {
             "outlinewidth": 0,
             "ticks": ""
            },
            "colorscale": [
             [
              0,
              "#0d0887"
             ],
             [
              0.1111111111111111,
              "#46039f"
             ],
             [
              0.2222222222222222,
              "#7201a8"
             ],
             [
              0.3333333333333333,
              "#9c179e"
             ],
             [
              0.4444444444444444,
              "#bd3786"
             ],
             [
              0.5555555555555556,
              "#d8576b"
             ],
             [
              0.6666666666666666,
              "#ed7953"
             ],
             [
              0.7777777777777778,
              "#fb9f3a"
             ],
             [
              0.8888888888888888,
              "#fdca26"
             ],
             [
              1,
              "#f0f921"
             ]
            ],
            "type": "histogram2dcontour"
           }
          ],
          "mesh3d": [
           {
            "colorbar": {
             "outlinewidth": 0,
             "ticks": ""
            },
            "type": "mesh3d"
           }
          ],
          "parcoords": [
           {
            "line": {
             "colorbar": {
              "outlinewidth": 0,
              "ticks": ""
             }
            },
            "type": "parcoords"
           }
          ],
          "pie": [
           {
            "automargin": true,
            "type": "pie"
           }
          ],
          "scatter": [
           {
            "fillpattern": {
             "fillmode": "overlay",
             "size": 10,
             "solidity": 0.2
            },
            "type": "scatter"
           }
          ],
          "scatter3d": [
           {
            "line": {
             "colorbar": {
              "outlinewidth": 0,
              "ticks": ""
             }
            },
            "marker": {
             "colorbar": {
              "outlinewidth": 0,
              "ticks": ""
             }
            },
            "type": "scatter3d"
           }
          ],
          "scattercarpet": [
           {
            "marker": {
             "colorbar": {
              "outlinewidth": 0,
              "ticks": ""
             }
            },
            "type": "scattercarpet"
           }
          ],
          "scattergeo": [
           {
            "marker": {
             "colorbar": {
              "outlinewidth": 0,
              "ticks": ""
             }
            },
            "type": "scattergeo"
           }
          ],
          "scattergl": [
           {
            "marker": {
             "colorbar": {
              "outlinewidth": 0,
              "ticks": ""
             }
            },
            "type": "scattergl"
           }
          ],
          "scattermapbox": [
           {
            "marker": {
             "colorbar": {
              "outlinewidth": 0,
              "ticks": ""
             }
            },
            "type": "scattermapbox"
           }
          ],
          "scatterpolar": [
           {
            "marker": {
             "colorbar": {
              "outlinewidth": 0,
              "ticks": ""
             }
            },
            "type": "scatterpolar"
           }
          ],
          "scatterpolargl": [
           {
            "marker": {
             "colorbar": {
              "outlinewidth": 0,
              "ticks": ""
             }
            },
            "type": "scatterpolargl"
           }
          ],
          "scatterternary": [
           {
            "marker": {
             "colorbar": {
              "outlinewidth": 0,
              "ticks": ""
             }
            },
            "type": "scatterternary"
           }
          ],
          "surface": [
           {
            "colorbar": {
             "outlinewidth": 0,
             "ticks": ""
            },
            "colorscale": [
             [
              0,
              "#0d0887"
             ],
             [
              0.1111111111111111,
              "#46039f"
             ],
             [
              0.2222222222222222,
              "#7201a8"
             ],
             [
              0.3333333333333333,
              "#9c179e"
             ],
             [
              0.4444444444444444,
              "#bd3786"
             ],
             [
              0.5555555555555556,
              "#d8576b"
             ],
             [
              0.6666666666666666,
              "#ed7953"
             ],
             [
              0.7777777777777778,
              "#fb9f3a"
             ],
             [
              0.8888888888888888,
              "#fdca26"
             ],
             [
              1,
              "#f0f921"
             ]
            ],
            "type": "surface"
           }
          ],
          "table": [
           {
            "cells": {
             "fill": {
              "color": "#EBF0F8"
             },
             "line": {
              "color": "white"
             }
            },
            "header": {
             "fill": {
              "color": "#C8D4E3"
             },
             "line": {
              "color": "white"
             }
            },
            "type": "table"
           }
          ]
         },
         "layout": {
          "annotationdefaults": {
           "arrowcolor": "#2a3f5f",
           "arrowhead": 0,
           "arrowwidth": 1
          },
          "autotypenumbers": "strict",
          "coloraxis": {
           "colorbar": {
            "outlinewidth": 0,
            "ticks": ""
           }
          },
          "colorscale": {
           "diverging": [
            [
             0,
             "#8e0152"
            ],
            [
             0.1,
             "#c51b7d"
            ],
            [
             0.2,
             "#de77ae"
            ],
            [
             0.3,
             "#f1b6da"
            ],
            [
             0.4,
             "#fde0ef"
            ],
            [
             0.5,
             "#f7f7f7"
            ],
            [
             0.6,
             "#e6f5d0"
            ],
            [
             0.7,
             "#b8e186"
            ],
            [
             0.8,
             "#7fbc41"
            ],
            [
             0.9,
             "#4d9221"
            ],
            [
             1,
             "#276419"
            ]
           ],
           "sequential": [
            [
             0,
             "#0d0887"
            ],
            [
             0.1111111111111111,
             "#46039f"
            ],
            [
             0.2222222222222222,
             "#7201a8"
            ],
            [
             0.3333333333333333,
             "#9c179e"
            ],
            [
             0.4444444444444444,
             "#bd3786"
            ],
            [
             0.5555555555555556,
             "#d8576b"
            ],
            [
             0.6666666666666666,
             "#ed7953"
            ],
            [
             0.7777777777777778,
             "#fb9f3a"
            ],
            [
             0.8888888888888888,
             "#fdca26"
            ],
            [
             1,
             "#f0f921"
            ]
           ],
           "sequentialminus": [
            [
             0,
             "#0d0887"
            ],
            [
             0.1111111111111111,
             "#46039f"
            ],
            [
             0.2222222222222222,
             "#7201a8"
            ],
            [
             0.3333333333333333,
             "#9c179e"
            ],
            [
             0.4444444444444444,
             "#bd3786"
            ],
            [
             0.5555555555555556,
             "#d8576b"
            ],
            [
             0.6666666666666666,
             "#ed7953"
            ],
            [
             0.7777777777777778,
             "#fb9f3a"
            ],
            [
             0.8888888888888888,
             "#fdca26"
            ],
            [
             1,
             "#f0f921"
            ]
           ]
          },
          "colorway": [
           "#636efa",
           "#EF553B",
           "#00cc96",
           "#ab63fa",
           "#FFA15A",
           "#19d3f3",
           "#FF6692",
           "#B6E880",
           "#FF97FF",
           "#FECB52"
          ],
          "font": {
           "color": "#2a3f5f"
          },
          "geo": {
           "bgcolor": "white",
           "lakecolor": "white",
           "landcolor": "#E5ECF6",
           "showlakes": true,
           "showland": true,
           "subunitcolor": "white"
          },
          "hoverlabel": {
           "align": "left"
          },
          "hovermode": "closest",
          "mapbox": {
           "style": "light"
          },
          "paper_bgcolor": "white",
          "plot_bgcolor": "#E5ECF6",
          "polar": {
           "angularaxis": {
            "gridcolor": "white",
            "linecolor": "white",
            "ticks": ""
           },
           "bgcolor": "#E5ECF6",
           "radialaxis": {
            "gridcolor": "white",
            "linecolor": "white",
            "ticks": ""
           }
          },
          "scene": {
           "xaxis": {
            "backgroundcolor": "#E5ECF6",
            "gridcolor": "white",
            "gridwidth": 2,
            "linecolor": "white",
            "showbackground": true,
            "ticks": "",
            "zerolinecolor": "white"
           },
           "yaxis": {
            "backgroundcolor": "#E5ECF6",
            "gridcolor": "white",
            "gridwidth": 2,
            "linecolor": "white",
            "showbackground": true,
            "ticks": "",
            "zerolinecolor": "white"
           },
           "zaxis": {
            "backgroundcolor": "#E5ECF6",
            "gridcolor": "white",
            "gridwidth": 2,
            "linecolor": "white",
            "showbackground": true,
            "ticks": "",
            "zerolinecolor": "white"
           }
          },
          "shapedefaults": {
           "line": {
            "color": "#2a3f5f"
           }
          },
          "ternary": {
           "aaxis": {
            "gridcolor": "white",
            "linecolor": "white",
            "ticks": ""
           },
           "baxis": {
            "gridcolor": "white",
            "linecolor": "white",
            "ticks": ""
           },
           "bgcolor": "#E5ECF6",
           "caxis": {
            "gridcolor": "white",
            "linecolor": "white",
            "ticks": ""
           }
          },
          "title": {
           "x": 0.05
          },
          "xaxis": {
           "automargin": true,
           "gridcolor": "white",
           "linecolor": "white",
           "ticks": "",
           "title": {
            "standoff": 15
           },
           "zerolinecolor": "white",
           "zerolinewidth": 2
          },
          "yaxis": {
           "automargin": true,
           "gridcolor": "white",
           "linecolor": "white",
           "ticks": "",
           "title": {
            "standoff": 15
           },
           "zerolinecolor": "white",
           "zerolinewidth": 2
          }
         }
        },
        "title": {
         "text": "Position"
        },
        "xaxis": {
         "anchor": "y",
         "domain": [
          0,
          1
         ],
         "title": {
          "text": "timestamp"
         }
        },
        "yaxis": {
         "anchor": "x",
         "domain": [
          0,
          1
         ],
         "title": {
          "text": "value"
         }
        }
       }
      }
     },
     "metadata": {},
     "output_type": "display_data"
    }
   ],
   "source": [
    "dpos = dv[[\"acc_x\", \"acc_y\", \"acc_z\"]].expanding().apply(lambda g: integrate.trapezoid(g, g.index.astype(np.int64) / 10**9))\n",
    "# dpos = dv[[\"acc_x\", \"acc_y\", \"acc_z\"]].rolling(\"1s\", min_periods=1).mean().cumsum()\n",
    "df[[\"pos_x\", \"pos_y\", \"pos_z\"]] = dv[[\"acc_x\", \"acc_y\", \"acc_z\"]].rolling(\"1s\", min_periods=1).mean().cumsum()\n",
    "px.line(dpos, title=\"Position\")"
   ]
  },
  {
   "cell_type": "code",
   "execution_count": 308,
   "metadata": {},
   "outputs": [],
   "source": [
    "import plotly.express as px\n",
    "\n",
    "# px.line(df, x=\"timestamp\", y=\"vector\")"
   ]
  },
  {
   "cell_type": "code",
   "execution_count": 309,
   "metadata": {},
   "outputs": [],
   "source": [
    "\n",
    "# px.line(df, x=\"timestamp\", y=[\"velocity_x\", \"velocity_y\", \"velocity_z\"])"
   ]
  },
  {
   "cell_type": "code",
   "execution_count": 310,
   "metadata": {},
   "outputs": [
    {
     "data": {
      "application/vnd.plotly.v1+json": {
       "config": {
        "plotlyServerURL": "https://plot.ly"
       },
       "data": [
        {
         "hovertemplate": "variable=pos_y<br>timestamp=%{x}<br>value=%{y}<extra></extra>",
         "legendgroup": "pos_y",
         "line": {
          "color": "#636efa",
          "dash": "solid"
         },
         "marker": {
          "symbol": "circle"
         },
         "mode": "lines",
         "name": "pos_y",
         "orientation": "v",
         "showlegend": true,
         "type": "scatter",
         "x": [
          "2023-05-22T14:21:08.608633",
          "2023-05-22T14:21:08.608732",
          "2023-05-22T14:21:08.865600",
          "2023-05-22T14:21:08.994296",
          "2023-05-22T14:21:09.123017",
          "2023-05-22T14:21:09.251885",
          "2023-05-22T14:21:09.380533",
          "2023-05-22T14:21:09.509532",
          "2023-05-22T14:21:09.638230",
          "2023-05-22T14:21:09.767030",
          "2023-05-22T14:21:09.895878",
          "2023-05-22T14:21:10.024876",
          "2023-05-22T14:21:10.153801",
          "2023-05-22T14:21:10.282873",
          "2023-05-22T14:21:10.411751",
          "2023-05-22T14:21:10.540697",
          "2023-05-22T14:21:10.669569",
          "2023-05-22T14:21:10.798392",
          "2023-05-22T14:21:10.927247",
          "2023-05-22T14:21:11.056115",
          "2023-05-22T14:21:11.184968",
          "2023-05-22T14:21:11.313662",
          "2023-05-22T14:21:11.442392",
          "2023-05-22T14:21:11.571160",
          "2023-05-22T14:21:11.700184",
          "2023-05-22T14:21:11.828980",
          "2023-05-22T14:21:11.957931",
          "2023-05-22T14:21:12.086904",
          "2023-05-22T14:21:12.215980",
          "2023-05-22T14:21:12.344859",
          "2023-05-22T14:21:12.473300",
          "2023-05-22T14:21:12.601997",
          "2023-05-22T14:21:12.730952",
          "2023-05-22T14:21:12.859875",
          "2023-05-22T14:21:12.988733",
          "2023-05-22T14:21:13.117690",
          "2023-05-22T14:21:13.246420",
          "2023-05-22T14:21:13.375036",
          "2023-05-22T14:21:13.503829",
          "2023-05-22T14:21:13.632538",
          "2023-05-22T14:21:13.761197",
          "2023-05-22T14:21:13.889731",
          "2023-05-22T14:21:14.018555",
          "2023-05-22T14:21:14.147452",
          "2023-05-22T14:21:14.276254",
          "2023-05-22T14:21:14.405153",
          "2023-05-22T14:21:14.534228",
          "2023-05-22T14:21:14.662924",
          "2023-05-22T14:21:14.791569",
          "2023-05-22T14:21:14.920300",
          "2023-05-22T14:21:15.048966",
          "2023-05-22T14:21:15.178097",
          "2023-05-22T14:21:15.306843",
          "2023-05-22T14:21:15.435816",
          "2023-05-22T14:21:15.564590",
          "2023-05-22T14:21:15.693187",
          "2023-05-22T14:21:15.822083",
          "2023-05-22T14:21:15.951014",
          "2023-05-22T14:21:16.080040",
          "2023-05-22T14:21:16.209184",
          "2023-05-22T14:21:16.337932",
          "2023-05-22T14:21:16.466810",
          "2023-05-22T14:21:16.595577",
          "2023-05-22T14:21:16.724276",
          "2023-05-22T14:21:16.852950",
          "2023-05-22T14:21:16.981948",
          "2023-05-22T14:21:17.111209",
          "2023-05-22T14:21:17.240000",
          "2023-05-22T14:21:17.368815",
          "2023-05-22T14:21:17.497936",
          "2023-05-22T14:21:17.626717",
          "2023-05-22T14:21:17.755660",
          "2023-05-22T14:21:17.884562",
          "2023-05-22T14:21:18.013487",
          "2023-05-22T14:21:18.142490",
          "2023-05-22T14:21:18.271434",
          "2023-05-22T14:21:18.400433",
          "2023-05-22T14:21:18.529455",
          "2023-05-22T14:21:18.658106",
          "2023-05-22T14:21:18.786828",
          "2023-05-22T14:21:18.915779",
          "2023-05-22T14:21:19.044574",
          "2023-05-22T14:21:19.173395",
          "2023-05-22T14:21:19.302323",
          "2023-05-22T14:21:19.431197",
          "2023-05-22T14:21:19.560045",
          "2023-05-22T14:21:19.688766",
          "2023-05-22T14:21:19.817542",
          "2023-05-22T14:21:19.946251",
          "2023-05-22T14:21:20.074842",
          "2023-05-22T14:21:20.203361",
          "2023-05-22T14:21:20.332065",
          "2023-05-22T14:21:20.460833"
         ],
         "xaxis": "x",
         "y": [
          0,
          0.00026816175650791425,
          1.3912909510546425,
          4.253709904482293,
          8.439321628509049,
          13.282294927299343,
          17.75621862688903,
          20.84555451461412,
          22.019752337686054,
          19.962062947008192,
          13.74719419233773,
          2.5430242386789956,
          -14.860908162816706,
          -39.92378548493558,
          -74.14455120949,
          -119.21970048760446,
          -177.48750747840626,
          -252.53924735276345,
          -349.41792256405165,
          -473.91984041839726,
          -631.6691041640112,
          -827.3711664336221,
          -1064.032360513768,
          -1342.5279632155355,
          -1662.2254000435853,
          -2022.4934610444718,
          -2424.243438078669,
          -2870.728661617797,
          -3367.868126736432,
          -3924.859932993717,
          -4554.887376923221,
          -5274.663911274799,
          -6101.974113823784,
          -7052.356625371705,
          -8136.474623327984,
          -9358.928871621401,
          -10718.064760024577,
          -12206.071928047142,
          -13809.34941455671,
          -15509.566188576247,
          -17285.35932817518,
          -19114.029471298367,
          -20973.126890795596,
          -22841.90073380917,
          -24702.339842078556,
          -26539.80058587892,
          -28343.498446661128,
          -30106.667934532536,
          -31826.079248475642,
          -33501.1412910789,
          -35133.14173629061,
          -36724.906694815996,
          -38280.678185845165,
          -39805.8015897697,
          -41306.35657403526,
          -42788.913715584276,
          -44260.72662407085,
          -45730.43495669103,
          -47208.74773515124,
          -48708.43984132669,
          -50243.553266762916,
          -51828.18074244214,
          -53475.02689569068,
          -55194.56934601143,
          -56994.59936262847,
          -58879.7813274466,
          -60852.02222488884,
          -62911.78459849335,
          -65059.210795083316,
          -67294.62428174746,
          -69618.83002792364,
          -72033.44098021505,
          -74541.49263825858,
          -77148.05397500916,
          -79859.8364661165,
          -82683.84135522714,
          -85626.01981783588,
          -88690.71788763568,
          -91880.66773629424,
          -95196.40873986208,
          -98635.04976352087,
          -102189.82833665704,
          -105851.05748864143,
          -109607.16435813814,
          -113445.4585638821,
          -117352.77179083576,
          -121315.78596767143,
          -125321.73001742888,
          -129360.15833726764,
          -133424.17426957388,
          -137509.44185934454,
          -141612.70956703366,
          -145731.80011249322
         ],
         "yaxis": "y"
        },
        {
         "hovertemplate": "variable=pos_z<br>timestamp=%{x}<br>value=%{y}<extra></extra>",
         "legendgroup": "pos_z",
         "line": {
          "color": "#EF553B",
          "dash": "solid"
         },
         "marker": {
          "symbol": "circle"
         },
         "mode": "lines",
         "name": "pos_z",
         "orientation": "v",
         "showlegend": true,
         "type": "scatter",
         "x": [
          "2023-05-22T14:21:08.608633",
          "2023-05-22T14:21:08.608732",
          "2023-05-22T14:21:08.865600",
          "2023-05-22T14:21:08.994296",
          "2023-05-22T14:21:09.123017",
          "2023-05-22T14:21:09.251885",
          "2023-05-22T14:21:09.380533",
          "2023-05-22T14:21:09.509532",
          "2023-05-22T14:21:09.638230",
          "2023-05-22T14:21:09.767030",
          "2023-05-22T14:21:09.895878",
          "2023-05-22T14:21:10.024876",
          "2023-05-22T14:21:10.153801",
          "2023-05-22T14:21:10.282873",
          "2023-05-22T14:21:10.411751",
          "2023-05-22T14:21:10.540697",
          "2023-05-22T14:21:10.669569",
          "2023-05-22T14:21:10.798392",
          "2023-05-22T14:21:10.927247",
          "2023-05-22T14:21:11.056115",
          "2023-05-22T14:21:11.184968",
          "2023-05-22T14:21:11.313662",
          "2023-05-22T14:21:11.442392",
          "2023-05-22T14:21:11.571160",
          "2023-05-22T14:21:11.700184",
          "2023-05-22T14:21:11.828980",
          "2023-05-22T14:21:11.957931",
          "2023-05-22T14:21:12.086904",
          "2023-05-22T14:21:12.215980",
          "2023-05-22T14:21:12.344859",
          "2023-05-22T14:21:12.473300",
          "2023-05-22T14:21:12.601997",
          "2023-05-22T14:21:12.730952",
          "2023-05-22T14:21:12.859875",
          "2023-05-22T14:21:12.988733",
          "2023-05-22T14:21:13.117690",
          "2023-05-22T14:21:13.246420",
          "2023-05-22T14:21:13.375036",
          "2023-05-22T14:21:13.503829",
          "2023-05-22T14:21:13.632538",
          "2023-05-22T14:21:13.761197",
          "2023-05-22T14:21:13.889731",
          "2023-05-22T14:21:14.018555",
          "2023-05-22T14:21:14.147452",
          "2023-05-22T14:21:14.276254",
          "2023-05-22T14:21:14.405153",
          "2023-05-22T14:21:14.534228",
          "2023-05-22T14:21:14.662924",
          "2023-05-22T14:21:14.791569",
          "2023-05-22T14:21:14.920300",
          "2023-05-22T14:21:15.048966",
          "2023-05-22T14:21:15.178097",
          "2023-05-22T14:21:15.306843",
          "2023-05-22T14:21:15.435816",
          "2023-05-22T14:21:15.564590",
          "2023-05-22T14:21:15.693187",
          "2023-05-22T14:21:15.822083",
          "2023-05-22T14:21:15.951014",
          "2023-05-22T14:21:16.080040",
          "2023-05-22T14:21:16.209184",
          "2023-05-22T14:21:16.337932",
          "2023-05-22T14:21:16.466810",
          "2023-05-22T14:21:16.595577",
          "2023-05-22T14:21:16.724276",
          "2023-05-22T14:21:16.852950",
          "2023-05-22T14:21:16.981948",
          "2023-05-22T14:21:17.111209",
          "2023-05-22T14:21:17.240000",
          "2023-05-22T14:21:17.368815",
          "2023-05-22T14:21:17.497936",
          "2023-05-22T14:21:17.626717",
          "2023-05-22T14:21:17.755660",
          "2023-05-22T14:21:17.884562",
          "2023-05-22T14:21:18.013487",
          "2023-05-22T14:21:18.142490",
          "2023-05-22T14:21:18.271434",
          "2023-05-22T14:21:18.400433",
          "2023-05-22T14:21:18.529455",
          "2023-05-22T14:21:18.658106",
          "2023-05-22T14:21:18.786828",
          "2023-05-22T14:21:18.915779",
          "2023-05-22T14:21:19.044574",
          "2023-05-22T14:21:19.173395",
          "2023-05-22T14:21:19.302323",
          "2023-05-22T14:21:19.431197",
          "2023-05-22T14:21:19.560045",
          "2023-05-22T14:21:19.688766",
          "2023-05-22T14:21:19.817542",
          "2023-05-22T14:21:19.946251",
          "2023-05-22T14:21:20.074842",
          "2023-05-22T14:21:20.203361",
          "2023-05-22T14:21:20.332065",
          "2023-05-22T14:21:20.460833"
         ],
         "xaxis": "x",
         "y": [
          0,
          -0.004892733388641104,
          -21.674895820192248,
          -68.42011360355316,
          -146.10529013564138,
          -260.4579506276269,
          -416.6883691566077,
          -620.0799367761693,
          -949.3300200200807,
          -1342.4366349439877,
          -1854.6414725026423,
          -2502.3176948216533,
          -3299.490487268478,
          -4257.911087471664,
          -5387.007165981554,
          -6693.257857470232,
          -8179.683054179375,
          -9845.78584988484,
          -11687.87122260241,
          -13699.567993756913,
          -15872.676541432775,
          -18197.77814510713,
          -20664.684239049468,
          -23262.745760472524,
          -25981.18856871368,
          -28809.319929579877,
          -31737.049402505374,
          -34755.74929445511,
          -37859.37395478512,
          -41045.096182586894,
          -44312.943535035185,
          -47665.287388087476,
          -51106.63364787019,
          -54643.36909951886,
          -58283.155404896475,
          -62034.355310783976,
          -65905.18700973544,
          -69902.90779042963,
          -74033.50203522845,
          -78301.63766762346,
          -82710.73070698263,
          -87262.88039030069,
          -91958.66570004523,
          -96796.56106580018,
          -101772.69439386381,
          -106881.45657402567,
          -112116.56990080206,
          -117471.892724451,
          -122941.68301771142,
          -128520.60417131013,
          -134203.95966839927,
          -139988.35856550426,
          -145871.79276408514,
          -151853.1012667271,
          -157931.18715394376,
          -164104.55357250717,
          -170370.89951503064,
          -176726.9895480899,
          -183169.10789292207,
          -189693.55324120738,
          -196296.9710504659,
          -202976.47226795487,
          -209729.82720912521,
          -216555.64928529007,
          -223453.69136051513,
          -230425.4153562039,
          -237474.07621676952,
          -244604.07308020524,
          -251820.56148826636,
          -259129.4548417335,
          -266537.267586683,
          -274050.820719872,
          -281676.910650124,
          -289421.983402311,
          -297291.7918621424,
          -305291.1882847813,
          -313423.77818616293,
          -321691.3032461061,
          -330093.0613056583,
          -338625.7502335639,
          -347283.7212950687,
          -356059.0074964673,
          -364941.4240906386,
          -373919.1116327682,
          -382979.3666214978,
          -392109.63247851154,
          -401298.5135641139,
          -410536.25830284395,
          -419814.6983467158,
          -429127.2063342255,
          -438468.7718034054,
          -447835.926699687,
          -457226.41813985194
         ],
         "yaxis": "y"
        }
       ],
       "layout": {
        "legend": {
         "title": {
          "text": "variable"
         },
         "tracegroupgap": 0
        },
        "margin": {
         "t": 60
        },
        "template": {
         "data": {
          "bar": [
           {
            "error_x": {
             "color": "#2a3f5f"
            },
            "error_y": {
             "color": "#2a3f5f"
            },
            "marker": {
             "line": {
              "color": "#E5ECF6",
              "width": 0.5
             },
             "pattern": {
              "fillmode": "overlay",
              "size": 10,
              "solidity": 0.2
             }
            },
            "type": "bar"
           }
          ],
          "barpolar": [
           {
            "marker": {
             "line": {
              "color": "#E5ECF6",
              "width": 0.5
             },
             "pattern": {
              "fillmode": "overlay",
              "size": 10,
              "solidity": 0.2
             }
            },
            "type": "barpolar"
           }
          ],
          "carpet": [
           {
            "aaxis": {
             "endlinecolor": "#2a3f5f",
             "gridcolor": "white",
             "linecolor": "white",
             "minorgridcolor": "white",
             "startlinecolor": "#2a3f5f"
            },
            "baxis": {
             "endlinecolor": "#2a3f5f",
             "gridcolor": "white",
             "linecolor": "white",
             "minorgridcolor": "white",
             "startlinecolor": "#2a3f5f"
            },
            "type": "carpet"
           }
          ],
          "choropleth": [
           {
            "colorbar": {
             "outlinewidth": 0,
             "ticks": ""
            },
            "type": "choropleth"
           }
          ],
          "contour": [
           {
            "colorbar": {
             "outlinewidth": 0,
             "ticks": ""
            },
            "colorscale": [
             [
              0,
              "#0d0887"
             ],
             [
              0.1111111111111111,
              "#46039f"
             ],
             [
              0.2222222222222222,
              "#7201a8"
             ],
             [
              0.3333333333333333,
              "#9c179e"
             ],
             [
              0.4444444444444444,
              "#bd3786"
             ],
             [
              0.5555555555555556,
              "#d8576b"
             ],
             [
              0.6666666666666666,
              "#ed7953"
             ],
             [
              0.7777777777777778,
              "#fb9f3a"
             ],
             [
              0.8888888888888888,
              "#fdca26"
             ],
             [
              1,
              "#f0f921"
             ]
            ],
            "type": "contour"
           }
          ],
          "contourcarpet": [
           {
            "colorbar": {
             "outlinewidth": 0,
             "ticks": ""
            },
            "type": "contourcarpet"
           }
          ],
          "heatmap": [
           {
            "colorbar": {
             "outlinewidth": 0,
             "ticks": ""
            },
            "colorscale": [
             [
              0,
              "#0d0887"
             ],
             [
              0.1111111111111111,
              "#46039f"
             ],
             [
              0.2222222222222222,
              "#7201a8"
             ],
             [
              0.3333333333333333,
              "#9c179e"
             ],
             [
              0.4444444444444444,
              "#bd3786"
             ],
             [
              0.5555555555555556,
              "#d8576b"
             ],
             [
              0.6666666666666666,
              "#ed7953"
             ],
             [
              0.7777777777777778,
              "#fb9f3a"
             ],
             [
              0.8888888888888888,
              "#fdca26"
             ],
             [
              1,
              "#f0f921"
             ]
            ],
            "type": "heatmap"
           }
          ],
          "heatmapgl": [
           {
            "colorbar": {
             "outlinewidth": 0,
             "ticks": ""
            },
            "colorscale": [
             [
              0,
              "#0d0887"
             ],
             [
              0.1111111111111111,
              "#46039f"
             ],
             [
              0.2222222222222222,
              "#7201a8"
             ],
             [
              0.3333333333333333,
              "#9c179e"
             ],
             [
              0.4444444444444444,
              "#bd3786"
             ],
             [
              0.5555555555555556,
              "#d8576b"
             ],
             [
              0.6666666666666666,
              "#ed7953"
             ],
             [
              0.7777777777777778,
              "#fb9f3a"
             ],
             [
              0.8888888888888888,
              "#fdca26"
             ],
             [
              1,
              "#f0f921"
             ]
            ],
            "type": "heatmapgl"
           }
          ],
          "histogram": [
           {
            "marker": {
             "pattern": {
              "fillmode": "overlay",
              "size": 10,
              "solidity": 0.2
             }
            },
            "type": "histogram"
           }
          ],
          "histogram2d": [
           {
            "colorbar": {
             "outlinewidth": 0,
             "ticks": ""
            },
            "colorscale": [
             [
              0,
              "#0d0887"
             ],
             [
              0.1111111111111111,
              "#46039f"
             ],
             [
              0.2222222222222222,
              "#7201a8"
             ],
             [
              0.3333333333333333,
              "#9c179e"
             ],
             [
              0.4444444444444444,
              "#bd3786"
             ],
             [
              0.5555555555555556,
              "#d8576b"
             ],
             [
              0.6666666666666666,
              "#ed7953"
             ],
             [
              0.7777777777777778,
              "#fb9f3a"
             ],
             [
              0.8888888888888888,
              "#fdca26"
             ],
             [
              1,
              "#f0f921"
             ]
            ],
            "type": "histogram2d"
           }
          ],
          "histogram2dcontour": [
           {
            "colorbar": {
             "outlinewidth": 0,
             "ticks": ""
            },
            "colorscale": [
             [
              0,
              "#0d0887"
             ],
             [
              0.1111111111111111,
              "#46039f"
             ],
             [
              0.2222222222222222,
              "#7201a8"
             ],
             [
              0.3333333333333333,
              "#9c179e"
             ],
             [
              0.4444444444444444,
              "#bd3786"
             ],
             [
              0.5555555555555556,
              "#d8576b"
             ],
             [
              0.6666666666666666,
              "#ed7953"
             ],
             [
              0.7777777777777778,
              "#fb9f3a"
             ],
             [
              0.8888888888888888,
              "#fdca26"
             ],
             [
              1,
              "#f0f921"
             ]
            ],
            "type": "histogram2dcontour"
           }
          ],
          "mesh3d": [
           {
            "colorbar": {
             "outlinewidth": 0,
             "ticks": ""
            },
            "type": "mesh3d"
           }
          ],
          "parcoords": [
           {
            "line": {
             "colorbar": {
              "outlinewidth": 0,
              "ticks": ""
             }
            },
            "type": "parcoords"
           }
          ],
          "pie": [
           {
            "automargin": true,
            "type": "pie"
           }
          ],
          "scatter": [
           {
            "fillpattern": {
             "fillmode": "overlay",
             "size": 10,
             "solidity": 0.2
            },
            "type": "scatter"
           }
          ],
          "scatter3d": [
           {
            "line": {
             "colorbar": {
              "outlinewidth": 0,
              "ticks": ""
             }
            },
            "marker": {
             "colorbar": {
              "outlinewidth": 0,
              "ticks": ""
             }
            },
            "type": "scatter3d"
           }
          ],
          "scattercarpet": [
           {
            "marker": {
             "colorbar": {
              "outlinewidth": 0,
              "ticks": ""
             }
            },
            "type": "scattercarpet"
           }
          ],
          "scattergeo": [
           {
            "marker": {
             "colorbar": {
              "outlinewidth": 0,
              "ticks": ""
             }
            },
            "type": "scattergeo"
           }
          ],
          "scattergl": [
           {
            "marker": {
             "colorbar": {
              "outlinewidth": 0,
              "ticks": ""
             }
            },
            "type": "scattergl"
           }
          ],
          "scattermapbox": [
           {
            "marker": {
             "colorbar": {
              "outlinewidth": 0,
              "ticks": ""
             }
            },
            "type": "scattermapbox"
           }
          ],
          "scatterpolar": [
           {
            "marker": {
             "colorbar": {
              "outlinewidth": 0,
              "ticks": ""
             }
            },
            "type": "scatterpolar"
           }
          ],
          "scatterpolargl": [
           {
            "marker": {
             "colorbar": {
              "outlinewidth": 0,
              "ticks": ""
             }
            },
            "type": "scatterpolargl"
           }
          ],
          "scatterternary": [
           {
            "marker": {
             "colorbar": {
              "outlinewidth": 0,
              "ticks": ""
             }
            },
            "type": "scatterternary"
           }
          ],
          "surface": [
           {
            "colorbar": {
             "outlinewidth": 0,
             "ticks": ""
            },
            "colorscale": [
             [
              0,
              "#0d0887"
             ],
             [
              0.1111111111111111,
              "#46039f"
             ],
             [
              0.2222222222222222,
              "#7201a8"
             ],
             [
              0.3333333333333333,
              "#9c179e"
             ],
             [
              0.4444444444444444,
              "#bd3786"
             ],
             [
              0.5555555555555556,
              "#d8576b"
             ],
             [
              0.6666666666666666,
              "#ed7953"
             ],
             [
              0.7777777777777778,
              "#fb9f3a"
             ],
             [
              0.8888888888888888,
              "#fdca26"
             ],
             [
              1,
              "#f0f921"
             ]
            ],
            "type": "surface"
           }
          ],
          "table": [
           {
            "cells": {
             "fill": {
              "color": "#EBF0F8"
             },
             "line": {
              "color": "white"
             }
            },
            "header": {
             "fill": {
              "color": "#C8D4E3"
             },
             "line": {
              "color": "white"
             }
            },
            "type": "table"
           }
          ]
         },
         "layout": {
          "annotationdefaults": {
           "arrowcolor": "#2a3f5f",
           "arrowhead": 0,
           "arrowwidth": 1
          },
          "autotypenumbers": "strict",
          "coloraxis": {
           "colorbar": {
            "outlinewidth": 0,
            "ticks": ""
           }
          },
          "colorscale": {
           "diverging": [
            [
             0,
             "#8e0152"
            ],
            [
             0.1,
             "#c51b7d"
            ],
            [
             0.2,
             "#de77ae"
            ],
            [
             0.3,
             "#f1b6da"
            ],
            [
             0.4,
             "#fde0ef"
            ],
            [
             0.5,
             "#f7f7f7"
            ],
            [
             0.6,
             "#e6f5d0"
            ],
            [
             0.7,
             "#b8e186"
            ],
            [
             0.8,
             "#7fbc41"
            ],
            [
             0.9,
             "#4d9221"
            ],
            [
             1,
             "#276419"
            ]
           ],
           "sequential": [
            [
             0,
             "#0d0887"
            ],
            [
             0.1111111111111111,
             "#46039f"
            ],
            [
             0.2222222222222222,
             "#7201a8"
            ],
            [
             0.3333333333333333,
             "#9c179e"
            ],
            [
             0.4444444444444444,
             "#bd3786"
            ],
            [
             0.5555555555555556,
             "#d8576b"
            ],
            [
             0.6666666666666666,
             "#ed7953"
            ],
            [
             0.7777777777777778,
             "#fb9f3a"
            ],
            [
             0.8888888888888888,
             "#fdca26"
            ],
            [
             1,
             "#f0f921"
            ]
           ],
           "sequentialminus": [
            [
             0,
             "#0d0887"
            ],
            [
             0.1111111111111111,
             "#46039f"
            ],
            [
             0.2222222222222222,
             "#7201a8"
            ],
            [
             0.3333333333333333,
             "#9c179e"
            ],
            [
             0.4444444444444444,
             "#bd3786"
            ],
            [
             0.5555555555555556,
             "#d8576b"
            ],
            [
             0.6666666666666666,
             "#ed7953"
            ],
            [
             0.7777777777777778,
             "#fb9f3a"
            ],
            [
             0.8888888888888888,
             "#fdca26"
            ],
            [
             1,
             "#f0f921"
            ]
           ]
          },
          "colorway": [
           "#636efa",
           "#EF553B",
           "#00cc96",
           "#ab63fa",
           "#FFA15A",
           "#19d3f3",
           "#FF6692",
           "#B6E880",
           "#FF97FF",
           "#FECB52"
          ],
          "font": {
           "color": "#2a3f5f"
          },
          "geo": {
           "bgcolor": "white",
           "lakecolor": "white",
           "landcolor": "#E5ECF6",
           "showlakes": true,
           "showland": true,
           "subunitcolor": "white"
          },
          "hoverlabel": {
           "align": "left"
          },
          "hovermode": "closest",
          "mapbox": {
           "style": "light"
          },
          "paper_bgcolor": "white",
          "plot_bgcolor": "#E5ECF6",
          "polar": {
           "angularaxis": {
            "gridcolor": "white",
            "linecolor": "white",
            "ticks": ""
           },
           "bgcolor": "#E5ECF6",
           "radialaxis": {
            "gridcolor": "white",
            "linecolor": "white",
            "ticks": ""
           }
          },
          "scene": {
           "xaxis": {
            "backgroundcolor": "#E5ECF6",
            "gridcolor": "white",
            "gridwidth": 2,
            "linecolor": "white",
            "showbackground": true,
            "ticks": "",
            "zerolinecolor": "white"
           },
           "yaxis": {
            "backgroundcolor": "#E5ECF6",
            "gridcolor": "white",
            "gridwidth": 2,
            "linecolor": "white",
            "showbackground": true,
            "ticks": "",
            "zerolinecolor": "white"
           },
           "zaxis": {
            "backgroundcolor": "#E5ECF6",
            "gridcolor": "white",
            "gridwidth": 2,
            "linecolor": "white",
            "showbackground": true,
            "ticks": "",
            "zerolinecolor": "white"
           }
          },
          "shapedefaults": {
           "line": {
            "color": "#2a3f5f"
           }
          },
          "ternary": {
           "aaxis": {
            "gridcolor": "white",
            "linecolor": "white",
            "ticks": ""
           },
           "baxis": {
            "gridcolor": "white",
            "linecolor": "white",
            "ticks": ""
           },
           "bgcolor": "#E5ECF6",
           "caxis": {
            "gridcolor": "white",
            "linecolor": "white",
            "ticks": ""
           }
          },
          "title": {
           "x": 0.05
          },
          "xaxis": {
           "automargin": true,
           "gridcolor": "white",
           "linecolor": "white",
           "ticks": "",
           "title": {
            "standoff": 15
           },
           "zerolinecolor": "white",
           "zerolinewidth": 2
          },
          "yaxis": {
           "automargin": true,
           "gridcolor": "white",
           "linecolor": "white",
           "ticks": "",
           "title": {
            "standoff": 15
           },
           "zerolinecolor": "white",
           "zerolinewidth": 2
          }
         }
        },
        "xaxis": {
         "anchor": "y",
         "domain": [
          0,
          1
         ],
         "title": {
          "text": "timestamp"
         }
        },
        "yaxis": {
         "anchor": "x",
         "domain": [
          0,
          1
         ],
         "title": {
          "text": "value"
         }
        }
       }
      }
     },
     "metadata": {},
     "output_type": "display_data"
    }
   ],
   "source": [
    "px.line(df, x=\"timestamp\", y=[\"pos_y\", \"pos_z\"])"
   ]
  },
  {
   "cell_type": "code",
   "execution_count": 311,
   "metadata": {},
   "outputs": [
    {
     "data": {
      "application/vnd.plotly.v1+json": {
       "config": {
        "plotlyServerURL": "https://plot.ly"
       },
       "data": [
        {
         "hovertemplate": "pos_y=%{x}<br>pos_z=%{y}<extra></extra>",
         "legendgroup": "",
         "line": {
          "color": "#636efa",
          "dash": "solid"
         },
         "marker": {
          "symbol": "circle"
         },
         "mode": "lines",
         "name": "",
         "orientation": "v",
         "showlegend": false,
         "type": "scatter",
         "x": [
          0,
          0.00026816175650791425,
          1.3912909510546425,
          4.253709904482293,
          8.439321628509049,
          13.282294927299343,
          17.75621862688903,
          20.84555451461412,
          22.019752337686054,
          19.962062947008192,
          13.74719419233773,
          2.5430242386789956,
          -14.860908162816706,
          -39.92378548493558,
          -74.14455120949,
          -119.21970048760446,
          -177.48750747840626,
          -252.53924735276345,
          -349.41792256405165,
          -473.91984041839726,
          -631.6691041640112,
          -827.3711664336221,
          -1064.032360513768,
          -1342.5279632155355,
          -1662.2254000435853,
          -2022.4934610444718,
          -2424.243438078669,
          -2870.728661617797,
          -3367.868126736432,
          -3924.859932993717,
          -4554.887376923221,
          -5274.663911274799,
          -6101.974113823784,
          -7052.356625371705,
          -8136.474623327984,
          -9358.928871621401,
          -10718.064760024577,
          -12206.071928047142,
          -13809.34941455671,
          -15509.566188576247,
          -17285.35932817518,
          -19114.029471298367,
          -20973.126890795596,
          -22841.90073380917,
          -24702.339842078556,
          -26539.80058587892,
          -28343.498446661128,
          -30106.667934532536,
          -31826.079248475642,
          -33501.1412910789,
          -35133.14173629061,
          -36724.906694815996,
          -38280.678185845165,
          -39805.8015897697,
          -41306.35657403526,
          -42788.913715584276,
          -44260.72662407085,
          -45730.43495669103,
          -47208.74773515124,
          -48708.43984132669,
          -50243.553266762916,
          -51828.18074244214,
          -53475.02689569068,
          -55194.56934601143,
          -56994.59936262847,
          -58879.7813274466,
          -60852.02222488884,
          -62911.78459849335,
          -65059.210795083316,
          -67294.62428174746,
          -69618.83002792364,
          -72033.44098021505,
          -74541.49263825858,
          -77148.05397500916,
          -79859.8364661165,
          -82683.84135522714,
          -85626.01981783588,
          -88690.71788763568,
          -91880.66773629424,
          -95196.40873986208,
          -98635.04976352087,
          -102189.82833665704,
          -105851.05748864143,
          -109607.16435813814,
          -113445.4585638821,
          -117352.77179083576,
          -121315.78596767143,
          -125321.73001742888,
          -129360.15833726764,
          -133424.17426957388,
          -137509.44185934454,
          -141612.70956703366,
          -145731.80011249322
         ],
         "xaxis": "x",
         "y": [
          0,
          -0.004892733388641104,
          -21.674895820192248,
          -68.42011360355316,
          -146.10529013564138,
          -260.4579506276269,
          -416.6883691566077,
          -620.0799367761693,
          -949.3300200200807,
          -1342.4366349439877,
          -1854.6414725026423,
          -2502.3176948216533,
          -3299.490487268478,
          -4257.911087471664,
          -5387.007165981554,
          -6693.257857470232,
          -8179.683054179375,
          -9845.78584988484,
          -11687.87122260241,
          -13699.567993756913,
          -15872.676541432775,
          -18197.77814510713,
          -20664.684239049468,
          -23262.745760472524,
          -25981.18856871368,
          -28809.319929579877,
          -31737.049402505374,
          -34755.74929445511,
          -37859.37395478512,
          -41045.096182586894,
          -44312.943535035185,
          -47665.287388087476,
          -51106.63364787019,
          -54643.36909951886,
          -58283.155404896475,
          -62034.355310783976,
          -65905.18700973544,
          -69902.90779042963,
          -74033.50203522845,
          -78301.63766762346,
          -82710.73070698263,
          -87262.88039030069,
          -91958.66570004523,
          -96796.56106580018,
          -101772.69439386381,
          -106881.45657402567,
          -112116.56990080206,
          -117471.892724451,
          -122941.68301771142,
          -128520.60417131013,
          -134203.95966839927,
          -139988.35856550426,
          -145871.79276408514,
          -151853.1012667271,
          -157931.18715394376,
          -164104.55357250717,
          -170370.89951503064,
          -176726.9895480899,
          -183169.10789292207,
          -189693.55324120738,
          -196296.9710504659,
          -202976.47226795487,
          -209729.82720912521,
          -216555.64928529007,
          -223453.69136051513,
          -230425.4153562039,
          -237474.07621676952,
          -244604.07308020524,
          -251820.56148826636,
          -259129.4548417335,
          -266537.267586683,
          -274050.820719872,
          -281676.910650124,
          -289421.983402311,
          -297291.7918621424,
          -305291.1882847813,
          -313423.77818616293,
          -321691.3032461061,
          -330093.0613056583,
          -338625.7502335639,
          -347283.7212950687,
          -356059.0074964673,
          -364941.4240906386,
          -373919.1116327682,
          -382979.3666214978,
          -392109.63247851154,
          -401298.5135641139,
          -410536.25830284395,
          -419814.6983467158,
          -429127.2063342255,
          -438468.7718034054,
          -447835.926699687,
          -457226.41813985194
         ],
         "yaxis": "y"
        }
       ],
       "layout": {
        "legend": {
         "tracegroupgap": 0
        },
        "margin": {
         "t": 60
        },
        "template": {
         "data": {
          "bar": [
           {
            "error_x": {
             "color": "#2a3f5f"
            },
            "error_y": {
             "color": "#2a3f5f"
            },
            "marker": {
             "line": {
              "color": "#E5ECF6",
              "width": 0.5
             },
             "pattern": {
              "fillmode": "overlay",
              "size": 10,
              "solidity": 0.2
             }
            },
            "type": "bar"
           }
          ],
          "barpolar": [
           {
            "marker": {
             "line": {
              "color": "#E5ECF6",
              "width": 0.5
             },
             "pattern": {
              "fillmode": "overlay",
              "size": 10,
              "solidity": 0.2
             }
            },
            "type": "barpolar"
           }
          ],
          "carpet": [
           {
            "aaxis": {
             "endlinecolor": "#2a3f5f",
             "gridcolor": "white",
             "linecolor": "white",
             "minorgridcolor": "white",
             "startlinecolor": "#2a3f5f"
            },
            "baxis": {
             "endlinecolor": "#2a3f5f",
             "gridcolor": "white",
             "linecolor": "white",
             "minorgridcolor": "white",
             "startlinecolor": "#2a3f5f"
            },
            "type": "carpet"
           }
          ],
          "choropleth": [
           {
            "colorbar": {
             "outlinewidth": 0,
             "ticks": ""
            },
            "type": "choropleth"
           }
          ],
          "contour": [
           {
            "colorbar": {
             "outlinewidth": 0,
             "ticks": ""
            },
            "colorscale": [
             [
              0,
              "#0d0887"
             ],
             [
              0.1111111111111111,
              "#46039f"
             ],
             [
              0.2222222222222222,
              "#7201a8"
             ],
             [
              0.3333333333333333,
              "#9c179e"
             ],
             [
              0.4444444444444444,
              "#bd3786"
             ],
             [
              0.5555555555555556,
              "#d8576b"
             ],
             [
              0.6666666666666666,
              "#ed7953"
             ],
             [
              0.7777777777777778,
              "#fb9f3a"
             ],
             [
              0.8888888888888888,
              "#fdca26"
             ],
             [
              1,
              "#f0f921"
             ]
            ],
            "type": "contour"
           }
          ],
          "contourcarpet": [
           {
            "colorbar": {
             "outlinewidth": 0,
             "ticks": ""
            },
            "type": "contourcarpet"
           }
          ],
          "heatmap": [
           {
            "colorbar": {
             "outlinewidth": 0,
             "ticks": ""
            },
            "colorscale": [
             [
              0,
              "#0d0887"
             ],
             [
              0.1111111111111111,
              "#46039f"
             ],
             [
              0.2222222222222222,
              "#7201a8"
             ],
             [
              0.3333333333333333,
              "#9c179e"
             ],
             [
              0.4444444444444444,
              "#bd3786"
             ],
             [
              0.5555555555555556,
              "#d8576b"
             ],
             [
              0.6666666666666666,
              "#ed7953"
             ],
             [
              0.7777777777777778,
              "#fb9f3a"
             ],
             [
              0.8888888888888888,
              "#fdca26"
             ],
             [
              1,
              "#f0f921"
             ]
            ],
            "type": "heatmap"
           }
          ],
          "heatmapgl": [
           {
            "colorbar": {
             "outlinewidth": 0,
             "ticks": ""
            },
            "colorscale": [
             [
              0,
              "#0d0887"
             ],
             [
              0.1111111111111111,
              "#46039f"
             ],
             [
              0.2222222222222222,
              "#7201a8"
             ],
             [
              0.3333333333333333,
              "#9c179e"
             ],
             [
              0.4444444444444444,
              "#bd3786"
             ],
             [
              0.5555555555555556,
              "#d8576b"
             ],
             [
              0.6666666666666666,
              "#ed7953"
             ],
             [
              0.7777777777777778,
              "#fb9f3a"
             ],
             [
              0.8888888888888888,
              "#fdca26"
             ],
             [
              1,
              "#f0f921"
             ]
            ],
            "type": "heatmapgl"
           }
          ],
          "histogram": [
           {
            "marker": {
             "pattern": {
              "fillmode": "overlay",
              "size": 10,
              "solidity": 0.2
             }
            },
            "type": "histogram"
           }
          ],
          "histogram2d": [
           {
            "colorbar": {
             "outlinewidth": 0,
             "ticks": ""
            },
            "colorscale": [
             [
              0,
              "#0d0887"
             ],
             [
              0.1111111111111111,
              "#46039f"
             ],
             [
              0.2222222222222222,
              "#7201a8"
             ],
             [
              0.3333333333333333,
              "#9c179e"
             ],
             [
              0.4444444444444444,
              "#bd3786"
             ],
             [
              0.5555555555555556,
              "#d8576b"
             ],
             [
              0.6666666666666666,
              "#ed7953"
             ],
             [
              0.7777777777777778,
              "#fb9f3a"
             ],
             [
              0.8888888888888888,
              "#fdca26"
             ],
             [
              1,
              "#f0f921"
             ]
            ],
            "type": "histogram2d"
           }
          ],
          "histogram2dcontour": [
           {
            "colorbar": {
             "outlinewidth": 0,
             "ticks": ""
            },
            "colorscale": [
             [
              0,
              "#0d0887"
             ],
             [
              0.1111111111111111,
              "#46039f"
             ],
             [
              0.2222222222222222,
              "#7201a8"
             ],
             [
              0.3333333333333333,
              "#9c179e"
             ],
             [
              0.4444444444444444,
              "#bd3786"
             ],
             [
              0.5555555555555556,
              "#d8576b"
             ],
             [
              0.6666666666666666,
              "#ed7953"
             ],
             [
              0.7777777777777778,
              "#fb9f3a"
             ],
             [
              0.8888888888888888,
              "#fdca26"
             ],
             [
              1,
              "#f0f921"
             ]
            ],
            "type": "histogram2dcontour"
           }
          ],
          "mesh3d": [
           {
            "colorbar": {
             "outlinewidth": 0,
             "ticks": ""
            },
            "type": "mesh3d"
           }
          ],
          "parcoords": [
           {
            "line": {
             "colorbar": {
              "outlinewidth": 0,
              "ticks": ""
             }
            },
            "type": "parcoords"
           }
          ],
          "pie": [
           {
            "automargin": true,
            "type": "pie"
           }
          ],
          "scatter": [
           {
            "fillpattern": {
             "fillmode": "overlay",
             "size": 10,
             "solidity": 0.2
            },
            "type": "scatter"
           }
          ],
          "scatter3d": [
           {
            "line": {
             "colorbar": {
              "outlinewidth": 0,
              "ticks": ""
             }
            },
            "marker": {
             "colorbar": {
              "outlinewidth": 0,
              "ticks": ""
             }
            },
            "type": "scatter3d"
           }
          ],
          "scattercarpet": [
           {
            "marker": {
             "colorbar": {
              "outlinewidth": 0,
              "ticks": ""
             }
            },
            "type": "scattercarpet"
           }
          ],
          "scattergeo": [
           {
            "marker": {
             "colorbar": {
              "outlinewidth": 0,
              "ticks": ""
             }
            },
            "type": "scattergeo"
           }
          ],
          "scattergl": [
           {
            "marker": {
             "colorbar": {
              "outlinewidth": 0,
              "ticks": ""
             }
            },
            "type": "scattergl"
           }
          ],
          "scattermapbox": [
           {
            "marker": {
             "colorbar": {
              "outlinewidth": 0,
              "ticks": ""
             }
            },
            "type": "scattermapbox"
           }
          ],
          "scatterpolar": [
           {
            "marker": {
             "colorbar": {
              "outlinewidth": 0,
              "ticks": ""
             }
            },
            "type": "scatterpolar"
           }
          ],
          "scatterpolargl": [
           {
            "marker": {
             "colorbar": {
              "outlinewidth": 0,
              "ticks": ""
             }
            },
            "type": "scatterpolargl"
           }
          ],
          "scatterternary": [
           {
            "marker": {
             "colorbar": {
              "outlinewidth": 0,
              "ticks": ""
             }
            },
            "type": "scatterternary"
           }
          ],
          "surface": [
           {
            "colorbar": {
             "outlinewidth": 0,
             "ticks": ""
            },
            "colorscale": [
             [
              0,
              "#0d0887"
             ],
             [
              0.1111111111111111,
              "#46039f"
             ],
             [
              0.2222222222222222,
              "#7201a8"
             ],
             [
              0.3333333333333333,
              "#9c179e"
             ],
             [
              0.4444444444444444,
              "#bd3786"
             ],
             [
              0.5555555555555556,
              "#d8576b"
             ],
             [
              0.6666666666666666,
              "#ed7953"
             ],
             [
              0.7777777777777778,
              "#fb9f3a"
             ],
             [
              0.8888888888888888,
              "#fdca26"
             ],
             [
              1,
              "#f0f921"
             ]
            ],
            "type": "surface"
           }
          ],
          "table": [
           {
            "cells": {
             "fill": {
              "color": "#EBF0F8"
             },
             "line": {
              "color": "white"
             }
            },
            "header": {
             "fill": {
              "color": "#C8D4E3"
             },
             "line": {
              "color": "white"
             }
            },
            "type": "table"
           }
          ]
         },
         "layout": {
          "annotationdefaults": {
           "arrowcolor": "#2a3f5f",
           "arrowhead": 0,
           "arrowwidth": 1
          },
          "autotypenumbers": "strict",
          "coloraxis": {
           "colorbar": {
            "outlinewidth": 0,
            "ticks": ""
           }
          },
          "colorscale": {
           "diverging": [
            [
             0,
             "#8e0152"
            ],
            [
             0.1,
             "#c51b7d"
            ],
            [
             0.2,
             "#de77ae"
            ],
            [
             0.3,
             "#f1b6da"
            ],
            [
             0.4,
             "#fde0ef"
            ],
            [
             0.5,
             "#f7f7f7"
            ],
            [
             0.6,
             "#e6f5d0"
            ],
            [
             0.7,
             "#b8e186"
            ],
            [
             0.8,
             "#7fbc41"
            ],
            [
             0.9,
             "#4d9221"
            ],
            [
             1,
             "#276419"
            ]
           ],
           "sequential": [
            [
             0,
             "#0d0887"
            ],
            [
             0.1111111111111111,
             "#46039f"
            ],
            [
             0.2222222222222222,
             "#7201a8"
            ],
            [
             0.3333333333333333,
             "#9c179e"
            ],
            [
             0.4444444444444444,
             "#bd3786"
            ],
            [
             0.5555555555555556,
             "#d8576b"
            ],
            [
             0.6666666666666666,
             "#ed7953"
            ],
            [
             0.7777777777777778,
             "#fb9f3a"
            ],
            [
             0.8888888888888888,
             "#fdca26"
            ],
            [
             1,
             "#f0f921"
            ]
           ],
           "sequentialminus": [
            [
             0,
             "#0d0887"
            ],
            [
             0.1111111111111111,
             "#46039f"
            ],
            [
             0.2222222222222222,
             "#7201a8"
            ],
            [
             0.3333333333333333,
             "#9c179e"
            ],
            [
             0.4444444444444444,
             "#bd3786"
            ],
            [
             0.5555555555555556,
             "#d8576b"
            ],
            [
             0.6666666666666666,
             "#ed7953"
            ],
            [
             0.7777777777777778,
             "#fb9f3a"
            ],
            [
             0.8888888888888888,
             "#fdca26"
            ],
            [
             1,
             "#f0f921"
            ]
           ]
          },
          "colorway": [
           "#636efa",
           "#EF553B",
           "#00cc96",
           "#ab63fa",
           "#FFA15A",
           "#19d3f3",
           "#FF6692",
           "#B6E880",
           "#FF97FF",
           "#FECB52"
          ],
          "font": {
           "color": "#2a3f5f"
          },
          "geo": {
           "bgcolor": "white",
           "lakecolor": "white",
           "landcolor": "#E5ECF6",
           "showlakes": true,
           "showland": true,
           "subunitcolor": "white"
          },
          "hoverlabel": {
           "align": "left"
          },
          "hovermode": "closest",
          "mapbox": {
           "style": "light"
          },
          "paper_bgcolor": "white",
          "plot_bgcolor": "#E5ECF6",
          "polar": {
           "angularaxis": {
            "gridcolor": "white",
            "linecolor": "white",
            "ticks": ""
           },
           "bgcolor": "#E5ECF6",
           "radialaxis": {
            "gridcolor": "white",
            "linecolor": "white",
            "ticks": ""
           }
          },
          "scene": {
           "xaxis": {
            "backgroundcolor": "#E5ECF6",
            "gridcolor": "white",
            "gridwidth": 2,
            "linecolor": "white",
            "showbackground": true,
            "ticks": "",
            "zerolinecolor": "white"
           },
           "yaxis": {
            "backgroundcolor": "#E5ECF6",
            "gridcolor": "white",
            "gridwidth": 2,
            "linecolor": "white",
            "showbackground": true,
            "ticks": "",
            "zerolinecolor": "white"
           },
           "zaxis": {
            "backgroundcolor": "#E5ECF6",
            "gridcolor": "white",
            "gridwidth": 2,
            "linecolor": "white",
            "showbackground": true,
            "ticks": "",
            "zerolinecolor": "white"
           }
          },
          "shapedefaults": {
           "line": {
            "color": "#2a3f5f"
           }
          },
          "ternary": {
           "aaxis": {
            "gridcolor": "white",
            "linecolor": "white",
            "ticks": ""
           },
           "baxis": {
            "gridcolor": "white",
            "linecolor": "white",
            "ticks": ""
           },
           "bgcolor": "#E5ECF6",
           "caxis": {
            "gridcolor": "white",
            "linecolor": "white",
            "ticks": ""
           }
          },
          "title": {
           "x": 0.05
          },
          "xaxis": {
           "automargin": true,
           "gridcolor": "white",
           "linecolor": "white",
           "ticks": "",
           "title": {
            "standoff": 15
           },
           "zerolinecolor": "white",
           "zerolinewidth": 2
          },
          "yaxis": {
           "automargin": true,
           "gridcolor": "white",
           "linecolor": "white",
           "ticks": "",
           "title": {
            "standoff": 15
           },
           "zerolinecolor": "white",
           "zerolinewidth": 2
          }
         }
        },
        "xaxis": {
         "anchor": "y",
         "domain": [
          0,
          1
         ],
         "title": {
          "text": "pos_y"
         }
        },
        "yaxis": {
         "anchor": "x",
         "domain": [
          0,
          1
         ],
         "title": {
          "text": "pos_z"
         }
        }
       }
      }
     },
     "metadata": {},
     "output_type": "display_data"
    }
   ],
   "source": [
    "px.line(df, x=\"pos_y\", y=\"pos_z\")\n",
    "# px.line_3d(df, x=\"pos_x\", y=\"pos_y\",z=\"pos_z\")"
   ]
  },
  {
   "cell_type": "code",
   "execution_count": 312,
   "metadata": {},
   "outputs": [
    {
     "data": {
      "application/vnd.plotly.v1+json": {
       "config": {
        "plotlyServerURL": "https://plot.ly"
       },
       "data": [
        {
         "hovertemplate": "timestamp=2023-05-22 14:21:08.608633<br>pos_y=%{x}<br>pos_z=%{y}<extra></extra>",
         "legendgroup": "",
         "marker": {
          "color": "#636efa",
          "symbol": "circle"
         },
         "mode": "markers",
         "name": "",
         "orientation": "v",
         "showlegend": false,
         "type": "scatter",
         "x": [
          0
         ],
         "xaxis": "x",
         "y": [
          0
         ],
         "yaxis": "y"
        }
       ],
       "frames": [
        {
         "data": [
          {
           "hovertemplate": "timestamp=2023-05-22 14:21:08.608633<br>pos_y=%{x}<br>pos_z=%{y}<extra></extra>",
           "legendgroup": "",
           "marker": {
            "color": "#636efa",
            "symbol": "circle"
           },
           "mode": "markers",
           "name": "",
           "orientation": "v",
           "showlegend": false,
           "type": "scatter",
           "x": [
            0
           ],
           "xaxis": "x",
           "y": [
            0
           ],
           "yaxis": "y"
          }
         ],
         "name": "2023-05-22 14:21:08.608633"
        },
        {
         "data": [
          {
           "hovertemplate": "timestamp=2023-05-22 14:21:08.608732<br>pos_y=%{x}<br>pos_z=%{y}<extra></extra>",
           "legendgroup": "",
           "marker": {
            "color": "#636efa",
            "symbol": "circle"
           },
           "mode": "markers",
           "name": "",
           "orientation": "v",
           "showlegend": false,
           "type": "scatter",
           "x": [
            0.00026816175650791425
           ],
           "xaxis": "x",
           "y": [
            -0.004892733388641104
           ],
           "yaxis": "y"
          }
         ],
         "name": "2023-05-22 14:21:08.608732"
        },
        {
         "data": [
          {
           "hovertemplate": "timestamp=2023-05-22 14:21:08.865600<br>pos_y=%{x}<br>pos_z=%{y}<extra></extra>",
           "legendgroup": "",
           "marker": {
            "color": "#636efa",
            "symbol": "circle"
           },
           "mode": "markers",
           "name": "",
           "orientation": "v",
           "showlegend": false,
           "type": "scatter",
           "x": [
            1.3912909510546425
           ],
           "xaxis": "x",
           "y": [
            -21.674895820192248
           ],
           "yaxis": "y"
          }
         ],
         "name": "2023-05-22 14:21:08.865600"
        },
        {
         "data": [
          {
           "hovertemplate": "timestamp=2023-05-22 14:21:08.994296<br>pos_y=%{x}<br>pos_z=%{y}<extra></extra>",
           "legendgroup": "",
           "marker": {
            "color": "#636efa",
            "symbol": "circle"
           },
           "mode": "markers",
           "name": "",
           "orientation": "v",
           "showlegend": false,
           "type": "scatter",
           "x": [
            4.253709904482293
           ],
           "xaxis": "x",
           "y": [
            -68.42011360355316
           ],
           "yaxis": "y"
          }
         ],
         "name": "2023-05-22 14:21:08.994296"
        },
        {
         "data": [
          {
           "hovertemplate": "timestamp=2023-05-22 14:21:09.123017<br>pos_y=%{x}<br>pos_z=%{y}<extra></extra>",
           "legendgroup": "",
           "marker": {
            "color": "#636efa",
            "symbol": "circle"
           },
           "mode": "markers",
           "name": "",
           "orientation": "v",
           "showlegend": false,
           "type": "scatter",
           "x": [
            8.439321628509049
           ],
           "xaxis": "x",
           "y": [
            -146.10529013564138
           ],
           "yaxis": "y"
          }
         ],
         "name": "2023-05-22 14:21:09.123017"
        },
        {
         "data": [
          {
           "hovertemplate": "timestamp=2023-05-22 14:21:09.251885<br>pos_y=%{x}<br>pos_z=%{y}<extra></extra>",
           "legendgroup": "",
           "marker": {
            "color": "#636efa",
            "symbol": "circle"
           },
           "mode": "markers",
           "name": "",
           "orientation": "v",
           "showlegend": false,
           "type": "scatter",
           "x": [
            13.282294927299343
           ],
           "xaxis": "x",
           "y": [
            -260.4579506276269
           ],
           "yaxis": "y"
          }
         ],
         "name": "2023-05-22 14:21:09.251885"
        },
        {
         "data": [
          {
           "hovertemplate": "timestamp=2023-05-22 14:21:09.380533<br>pos_y=%{x}<br>pos_z=%{y}<extra></extra>",
           "legendgroup": "",
           "marker": {
            "color": "#636efa",
            "symbol": "circle"
           },
           "mode": "markers",
           "name": "",
           "orientation": "v",
           "showlegend": false,
           "type": "scatter",
           "x": [
            17.75621862688903
           ],
           "xaxis": "x",
           "y": [
            -416.6883691566077
           ],
           "yaxis": "y"
          }
         ],
         "name": "2023-05-22 14:21:09.380533"
        },
        {
         "data": [
          {
           "hovertemplate": "timestamp=2023-05-22 14:21:09.509532<br>pos_y=%{x}<br>pos_z=%{y}<extra></extra>",
           "legendgroup": "",
           "marker": {
            "color": "#636efa",
            "symbol": "circle"
           },
           "mode": "markers",
           "name": "",
           "orientation": "v",
           "showlegend": false,
           "type": "scatter",
           "x": [
            20.84555451461412
           ],
           "xaxis": "x",
           "y": [
            -620.0799367761693
           ],
           "yaxis": "y"
          }
         ],
         "name": "2023-05-22 14:21:09.509532"
        },
        {
         "data": [
          {
           "hovertemplate": "timestamp=2023-05-22 14:21:09.638230<br>pos_y=%{x}<br>pos_z=%{y}<extra></extra>",
           "legendgroup": "",
           "marker": {
            "color": "#636efa",
            "symbol": "circle"
           },
           "mode": "markers",
           "name": "",
           "orientation": "v",
           "showlegend": false,
           "type": "scatter",
           "x": [
            22.019752337686054
           ],
           "xaxis": "x",
           "y": [
            -949.3300200200807
           ],
           "yaxis": "y"
          }
         ],
         "name": "2023-05-22 14:21:09.638230"
        },
        {
         "data": [
          {
           "hovertemplate": "timestamp=2023-05-22 14:21:09.767030<br>pos_y=%{x}<br>pos_z=%{y}<extra></extra>",
           "legendgroup": "",
           "marker": {
            "color": "#636efa",
            "symbol": "circle"
           },
           "mode": "markers",
           "name": "",
           "orientation": "v",
           "showlegend": false,
           "type": "scatter",
           "x": [
            19.962062947008192
           ],
           "xaxis": "x",
           "y": [
            -1342.4366349439877
           ],
           "yaxis": "y"
          }
         ],
         "name": "2023-05-22 14:21:09.767030"
        },
        {
         "data": [
          {
           "hovertemplate": "timestamp=2023-05-22 14:21:09.895878<br>pos_y=%{x}<br>pos_z=%{y}<extra></extra>",
           "legendgroup": "",
           "marker": {
            "color": "#636efa",
            "symbol": "circle"
           },
           "mode": "markers",
           "name": "",
           "orientation": "v",
           "showlegend": false,
           "type": "scatter",
           "x": [
            13.74719419233773
           ],
           "xaxis": "x",
           "y": [
            -1854.6414725026423
           ],
           "yaxis": "y"
          }
         ],
         "name": "2023-05-22 14:21:09.895878"
        },
        {
         "data": [
          {
           "hovertemplate": "timestamp=2023-05-22 14:21:10.024876<br>pos_y=%{x}<br>pos_z=%{y}<extra></extra>",
           "legendgroup": "",
           "marker": {
            "color": "#636efa",
            "symbol": "circle"
           },
           "mode": "markers",
           "name": "",
           "orientation": "v",
           "showlegend": false,
           "type": "scatter",
           "x": [
            2.5430242386789956
           ],
           "xaxis": "x",
           "y": [
            -2502.3176948216533
           ],
           "yaxis": "y"
          }
         ],
         "name": "2023-05-22 14:21:10.024876"
        },
        {
         "data": [
          {
           "hovertemplate": "timestamp=2023-05-22 14:21:10.153801<br>pos_y=%{x}<br>pos_z=%{y}<extra></extra>",
           "legendgroup": "",
           "marker": {
            "color": "#636efa",
            "symbol": "circle"
           },
           "mode": "markers",
           "name": "",
           "orientation": "v",
           "showlegend": false,
           "type": "scatter",
           "x": [
            -14.860908162816706
           ],
           "xaxis": "x",
           "y": [
            -3299.490487268478
           ],
           "yaxis": "y"
          }
         ],
         "name": "2023-05-22 14:21:10.153801"
        },
        {
         "data": [
          {
           "hovertemplate": "timestamp=2023-05-22 14:21:10.282873<br>pos_y=%{x}<br>pos_z=%{y}<extra></extra>",
           "legendgroup": "",
           "marker": {
            "color": "#636efa",
            "symbol": "circle"
           },
           "mode": "markers",
           "name": "",
           "orientation": "v",
           "showlegend": false,
           "type": "scatter",
           "x": [
            -39.92378548493558
           ],
           "xaxis": "x",
           "y": [
            -4257.911087471664
           ],
           "yaxis": "y"
          }
         ],
         "name": "2023-05-22 14:21:10.282873"
        },
        {
         "data": [
          {
           "hovertemplate": "timestamp=2023-05-22 14:21:10.411751<br>pos_y=%{x}<br>pos_z=%{y}<extra></extra>",
           "legendgroup": "",
           "marker": {
            "color": "#636efa",
            "symbol": "circle"
           },
           "mode": "markers",
           "name": "",
           "orientation": "v",
           "showlegend": false,
           "type": "scatter",
           "x": [
            -74.14455120949
           ],
           "xaxis": "x",
           "y": [
            -5387.007165981554
           ],
           "yaxis": "y"
          }
         ],
         "name": "2023-05-22 14:21:10.411751"
        },
        {
         "data": [
          {
           "hovertemplate": "timestamp=2023-05-22 14:21:10.540697<br>pos_y=%{x}<br>pos_z=%{y}<extra></extra>",
           "legendgroup": "",
           "marker": {
            "color": "#636efa",
            "symbol": "circle"
           },
           "mode": "markers",
           "name": "",
           "orientation": "v",
           "showlegend": false,
           "type": "scatter",
           "x": [
            -119.21970048760446
           ],
           "xaxis": "x",
           "y": [
            -6693.257857470232
           ],
           "yaxis": "y"
          }
         ],
         "name": "2023-05-22 14:21:10.540697"
        },
        {
         "data": [
          {
           "hovertemplate": "timestamp=2023-05-22 14:21:10.669569<br>pos_y=%{x}<br>pos_z=%{y}<extra></extra>",
           "legendgroup": "",
           "marker": {
            "color": "#636efa",
            "symbol": "circle"
           },
           "mode": "markers",
           "name": "",
           "orientation": "v",
           "showlegend": false,
           "type": "scatter",
           "x": [
            -177.48750747840626
           ],
           "xaxis": "x",
           "y": [
            -8179.683054179375
           ],
           "yaxis": "y"
          }
         ],
         "name": "2023-05-22 14:21:10.669569"
        },
        {
         "data": [
          {
           "hovertemplate": "timestamp=2023-05-22 14:21:10.798392<br>pos_y=%{x}<br>pos_z=%{y}<extra></extra>",
           "legendgroup": "",
           "marker": {
            "color": "#636efa",
            "symbol": "circle"
           },
           "mode": "markers",
           "name": "",
           "orientation": "v",
           "showlegend": false,
           "type": "scatter",
           "x": [
            -252.53924735276345
           ],
           "xaxis": "x",
           "y": [
            -9845.78584988484
           ],
           "yaxis": "y"
          }
         ],
         "name": "2023-05-22 14:21:10.798392"
        },
        {
         "data": [
          {
           "hovertemplate": "timestamp=2023-05-22 14:21:10.927247<br>pos_y=%{x}<br>pos_z=%{y}<extra></extra>",
           "legendgroup": "",
           "marker": {
            "color": "#636efa",
            "symbol": "circle"
           },
           "mode": "markers",
           "name": "",
           "orientation": "v",
           "showlegend": false,
           "type": "scatter",
           "x": [
            -349.41792256405165
           ],
           "xaxis": "x",
           "y": [
            -11687.87122260241
           ],
           "yaxis": "y"
          }
         ],
         "name": "2023-05-22 14:21:10.927247"
        },
        {
         "data": [
          {
           "hovertemplate": "timestamp=2023-05-22 14:21:11.056115<br>pos_y=%{x}<br>pos_z=%{y}<extra></extra>",
           "legendgroup": "",
           "marker": {
            "color": "#636efa",
            "symbol": "circle"
           },
           "mode": "markers",
           "name": "",
           "orientation": "v",
           "showlegend": false,
           "type": "scatter",
           "x": [
            -473.91984041839726
           ],
           "xaxis": "x",
           "y": [
            -13699.567993756913
           ],
           "yaxis": "y"
          }
         ],
         "name": "2023-05-22 14:21:11.056115"
        },
        {
         "data": [
          {
           "hovertemplate": "timestamp=2023-05-22 14:21:11.184968<br>pos_y=%{x}<br>pos_z=%{y}<extra></extra>",
           "legendgroup": "",
           "marker": {
            "color": "#636efa",
            "symbol": "circle"
           },
           "mode": "markers",
           "name": "",
           "orientation": "v",
           "showlegend": false,
           "type": "scatter",
           "x": [
            -631.6691041640112
           ],
           "xaxis": "x",
           "y": [
            -15872.676541432775
           ],
           "yaxis": "y"
          }
         ],
         "name": "2023-05-22 14:21:11.184968"
        },
        {
         "data": [
          {
           "hovertemplate": "timestamp=2023-05-22 14:21:11.313662<br>pos_y=%{x}<br>pos_z=%{y}<extra></extra>",
           "legendgroup": "",
           "marker": {
            "color": "#636efa",
            "symbol": "circle"
           },
           "mode": "markers",
           "name": "",
           "orientation": "v",
           "showlegend": false,
           "type": "scatter",
           "x": [
            -827.3711664336221
           ],
           "xaxis": "x",
           "y": [
            -18197.77814510713
           ],
           "yaxis": "y"
          }
         ],
         "name": "2023-05-22 14:21:11.313662"
        },
        {
         "data": [
          {
           "hovertemplate": "timestamp=2023-05-22 14:21:11.442392<br>pos_y=%{x}<br>pos_z=%{y}<extra></extra>",
           "legendgroup": "",
           "marker": {
            "color": "#636efa",
            "symbol": "circle"
           },
           "mode": "markers",
           "name": "",
           "orientation": "v",
           "showlegend": false,
           "type": "scatter",
           "x": [
            -1064.032360513768
           ],
           "xaxis": "x",
           "y": [
            -20664.684239049468
           ],
           "yaxis": "y"
          }
         ],
         "name": "2023-05-22 14:21:11.442392"
        },
        {
         "data": [
          {
           "hovertemplate": "timestamp=2023-05-22 14:21:11.571160<br>pos_y=%{x}<br>pos_z=%{y}<extra></extra>",
           "legendgroup": "",
           "marker": {
            "color": "#636efa",
            "symbol": "circle"
           },
           "mode": "markers",
           "name": "",
           "orientation": "v",
           "showlegend": false,
           "type": "scatter",
           "x": [
            -1342.5279632155355
           ],
           "xaxis": "x",
           "y": [
            -23262.745760472524
           ],
           "yaxis": "y"
          }
         ],
         "name": "2023-05-22 14:21:11.571160"
        },
        {
         "data": [
          {
           "hovertemplate": "timestamp=2023-05-22 14:21:11.700184<br>pos_y=%{x}<br>pos_z=%{y}<extra></extra>",
           "legendgroup": "",
           "marker": {
            "color": "#636efa",
            "symbol": "circle"
           },
           "mode": "markers",
           "name": "",
           "orientation": "v",
           "showlegend": false,
           "type": "scatter",
           "x": [
            -1662.2254000435853
           ],
           "xaxis": "x",
           "y": [
            -25981.18856871368
           ],
           "yaxis": "y"
          }
         ],
         "name": "2023-05-22 14:21:11.700184"
        },
        {
         "data": [
          {
           "hovertemplate": "timestamp=2023-05-22 14:21:11.828980<br>pos_y=%{x}<br>pos_z=%{y}<extra></extra>",
           "legendgroup": "",
           "marker": {
            "color": "#636efa",
            "symbol": "circle"
           },
           "mode": "markers",
           "name": "",
           "orientation": "v",
           "showlegend": false,
           "type": "scatter",
           "x": [
            -2022.4934610444718
           ],
           "xaxis": "x",
           "y": [
            -28809.319929579877
           ],
           "yaxis": "y"
          }
         ],
         "name": "2023-05-22 14:21:11.828980"
        },
        {
         "data": [
          {
           "hovertemplate": "timestamp=2023-05-22 14:21:11.957931<br>pos_y=%{x}<br>pos_z=%{y}<extra></extra>",
           "legendgroup": "",
           "marker": {
            "color": "#636efa",
            "symbol": "circle"
           },
           "mode": "markers",
           "name": "",
           "orientation": "v",
           "showlegend": false,
           "type": "scatter",
           "x": [
            -2424.243438078669
           ],
           "xaxis": "x",
           "y": [
            -31737.049402505374
           ],
           "yaxis": "y"
          }
         ],
         "name": "2023-05-22 14:21:11.957931"
        },
        {
         "data": [
          {
           "hovertemplate": "timestamp=2023-05-22 14:21:12.086904<br>pos_y=%{x}<br>pos_z=%{y}<extra></extra>",
           "legendgroup": "",
           "marker": {
            "color": "#636efa",
            "symbol": "circle"
           },
           "mode": "markers",
           "name": "",
           "orientation": "v",
           "showlegend": false,
           "type": "scatter",
           "x": [
            -2870.728661617797
           ],
           "xaxis": "x",
           "y": [
            -34755.74929445511
           ],
           "yaxis": "y"
          }
         ],
         "name": "2023-05-22 14:21:12.086904"
        },
        {
         "data": [
          {
           "hovertemplate": "timestamp=2023-05-22 14:21:12.215980<br>pos_y=%{x}<br>pos_z=%{y}<extra></extra>",
           "legendgroup": "",
           "marker": {
            "color": "#636efa",
            "symbol": "circle"
           },
           "mode": "markers",
           "name": "",
           "orientation": "v",
           "showlegend": false,
           "type": "scatter",
           "x": [
            -3367.868126736432
           ],
           "xaxis": "x",
           "y": [
            -37859.37395478512
           ],
           "yaxis": "y"
          }
         ],
         "name": "2023-05-22 14:21:12.215980"
        },
        {
         "data": [
          {
           "hovertemplate": "timestamp=2023-05-22 14:21:12.344859<br>pos_y=%{x}<br>pos_z=%{y}<extra></extra>",
           "legendgroup": "",
           "marker": {
            "color": "#636efa",
            "symbol": "circle"
           },
           "mode": "markers",
           "name": "",
           "orientation": "v",
           "showlegend": false,
           "type": "scatter",
           "x": [
            -3924.859932993717
           ],
           "xaxis": "x",
           "y": [
            -41045.096182586894
           ],
           "yaxis": "y"
          }
         ],
         "name": "2023-05-22 14:21:12.344859"
        },
        {
         "data": [
          {
           "hovertemplate": "timestamp=2023-05-22 14:21:12.473300<br>pos_y=%{x}<br>pos_z=%{y}<extra></extra>",
           "legendgroup": "",
           "marker": {
            "color": "#636efa",
            "symbol": "circle"
           },
           "mode": "markers",
           "name": "",
           "orientation": "v",
           "showlegend": false,
           "type": "scatter",
           "x": [
            -4554.887376923221
           ],
           "xaxis": "x",
           "y": [
            -44312.943535035185
           ],
           "yaxis": "y"
          }
         ],
         "name": "2023-05-22 14:21:12.473300"
        },
        {
         "data": [
          {
           "hovertemplate": "timestamp=2023-05-22 14:21:12.601997<br>pos_y=%{x}<br>pos_z=%{y}<extra></extra>",
           "legendgroup": "",
           "marker": {
            "color": "#636efa",
            "symbol": "circle"
           },
           "mode": "markers",
           "name": "",
           "orientation": "v",
           "showlegend": false,
           "type": "scatter",
           "x": [
            -5274.663911274799
           ],
           "xaxis": "x",
           "y": [
            -47665.287388087476
           ],
           "yaxis": "y"
          }
         ],
         "name": "2023-05-22 14:21:12.601997"
        },
        {
         "data": [
          {
           "hovertemplate": "timestamp=2023-05-22 14:21:12.730952<br>pos_y=%{x}<br>pos_z=%{y}<extra></extra>",
           "legendgroup": "",
           "marker": {
            "color": "#636efa",
            "symbol": "circle"
           },
           "mode": "markers",
           "name": "",
           "orientation": "v",
           "showlegend": false,
           "type": "scatter",
           "x": [
            -6101.974113823784
           ],
           "xaxis": "x",
           "y": [
            -51106.63364787019
           ],
           "yaxis": "y"
          }
         ],
         "name": "2023-05-22 14:21:12.730952"
        },
        {
         "data": [
          {
           "hovertemplate": "timestamp=2023-05-22 14:21:12.859875<br>pos_y=%{x}<br>pos_z=%{y}<extra></extra>",
           "legendgroup": "",
           "marker": {
            "color": "#636efa",
            "symbol": "circle"
           },
           "mode": "markers",
           "name": "",
           "orientation": "v",
           "showlegend": false,
           "type": "scatter",
           "x": [
            -7052.356625371705
           ],
           "xaxis": "x",
           "y": [
            -54643.36909951886
           ],
           "yaxis": "y"
          }
         ],
         "name": "2023-05-22 14:21:12.859875"
        },
        {
         "data": [
          {
           "hovertemplate": "timestamp=2023-05-22 14:21:12.988733<br>pos_y=%{x}<br>pos_z=%{y}<extra></extra>",
           "legendgroup": "",
           "marker": {
            "color": "#636efa",
            "symbol": "circle"
           },
           "mode": "markers",
           "name": "",
           "orientation": "v",
           "showlegend": false,
           "type": "scatter",
           "x": [
            -8136.474623327984
           ],
           "xaxis": "x",
           "y": [
            -58283.155404896475
           ],
           "yaxis": "y"
          }
         ],
         "name": "2023-05-22 14:21:12.988733"
        },
        {
         "data": [
          {
           "hovertemplate": "timestamp=2023-05-22 14:21:13.117690<br>pos_y=%{x}<br>pos_z=%{y}<extra></extra>",
           "legendgroup": "",
           "marker": {
            "color": "#636efa",
            "symbol": "circle"
           },
           "mode": "markers",
           "name": "",
           "orientation": "v",
           "showlegend": false,
           "type": "scatter",
           "x": [
            -9358.928871621401
           ],
           "xaxis": "x",
           "y": [
            -62034.355310783976
           ],
           "yaxis": "y"
          }
         ],
         "name": "2023-05-22 14:21:13.117690"
        },
        {
         "data": [
          {
           "hovertemplate": "timestamp=2023-05-22 14:21:13.246420<br>pos_y=%{x}<br>pos_z=%{y}<extra></extra>",
           "legendgroup": "",
           "marker": {
            "color": "#636efa",
            "symbol": "circle"
           },
           "mode": "markers",
           "name": "",
           "orientation": "v",
           "showlegend": false,
           "type": "scatter",
           "x": [
            -10718.064760024577
           ],
           "xaxis": "x",
           "y": [
            -65905.18700973544
           ],
           "yaxis": "y"
          }
         ],
         "name": "2023-05-22 14:21:13.246420"
        },
        {
         "data": [
          {
           "hovertemplate": "timestamp=2023-05-22 14:21:13.375036<br>pos_y=%{x}<br>pos_z=%{y}<extra></extra>",
           "legendgroup": "",
           "marker": {
            "color": "#636efa",
            "symbol": "circle"
           },
           "mode": "markers",
           "name": "",
           "orientation": "v",
           "showlegend": false,
           "type": "scatter",
           "x": [
            -12206.071928047142
           ],
           "xaxis": "x",
           "y": [
            -69902.90779042963
           ],
           "yaxis": "y"
          }
         ],
         "name": "2023-05-22 14:21:13.375036"
        },
        {
         "data": [
          {
           "hovertemplate": "timestamp=2023-05-22 14:21:13.503829<br>pos_y=%{x}<br>pos_z=%{y}<extra></extra>",
           "legendgroup": "",
           "marker": {
            "color": "#636efa",
            "symbol": "circle"
           },
           "mode": "markers",
           "name": "",
           "orientation": "v",
           "showlegend": false,
           "type": "scatter",
           "x": [
            -13809.34941455671
           ],
           "xaxis": "x",
           "y": [
            -74033.50203522845
           ],
           "yaxis": "y"
          }
         ],
         "name": "2023-05-22 14:21:13.503829"
        },
        {
         "data": [
          {
           "hovertemplate": "timestamp=2023-05-22 14:21:13.632538<br>pos_y=%{x}<br>pos_z=%{y}<extra></extra>",
           "legendgroup": "",
           "marker": {
            "color": "#636efa",
            "symbol": "circle"
           },
           "mode": "markers",
           "name": "",
           "orientation": "v",
           "showlegend": false,
           "type": "scatter",
           "x": [
            -15509.566188576247
           ],
           "xaxis": "x",
           "y": [
            -78301.63766762346
           ],
           "yaxis": "y"
          }
         ],
         "name": "2023-05-22 14:21:13.632538"
        },
        {
         "data": [
          {
           "hovertemplate": "timestamp=2023-05-22 14:21:13.761197<br>pos_y=%{x}<br>pos_z=%{y}<extra></extra>",
           "legendgroup": "",
           "marker": {
            "color": "#636efa",
            "symbol": "circle"
           },
           "mode": "markers",
           "name": "",
           "orientation": "v",
           "showlegend": false,
           "type": "scatter",
           "x": [
            -17285.35932817518
           ],
           "xaxis": "x",
           "y": [
            -82710.73070698263
           ],
           "yaxis": "y"
          }
         ],
         "name": "2023-05-22 14:21:13.761197"
        },
        {
         "data": [
          {
           "hovertemplate": "timestamp=2023-05-22 14:21:13.889731<br>pos_y=%{x}<br>pos_z=%{y}<extra></extra>",
           "legendgroup": "",
           "marker": {
            "color": "#636efa",
            "symbol": "circle"
           },
           "mode": "markers",
           "name": "",
           "orientation": "v",
           "showlegend": false,
           "type": "scatter",
           "x": [
            -19114.029471298367
           ],
           "xaxis": "x",
           "y": [
            -87262.88039030069
           ],
           "yaxis": "y"
          }
         ],
         "name": "2023-05-22 14:21:13.889731"
        },
        {
         "data": [
          {
           "hovertemplate": "timestamp=2023-05-22 14:21:14.018555<br>pos_y=%{x}<br>pos_z=%{y}<extra></extra>",
           "legendgroup": "",
           "marker": {
            "color": "#636efa",
            "symbol": "circle"
           },
           "mode": "markers",
           "name": "",
           "orientation": "v",
           "showlegend": false,
           "type": "scatter",
           "x": [
            -20973.126890795596
           ],
           "xaxis": "x",
           "y": [
            -91958.66570004523
           ],
           "yaxis": "y"
          }
         ],
         "name": "2023-05-22 14:21:14.018555"
        },
        {
         "data": [
          {
           "hovertemplate": "timestamp=2023-05-22 14:21:14.147452<br>pos_y=%{x}<br>pos_z=%{y}<extra></extra>",
           "legendgroup": "",
           "marker": {
            "color": "#636efa",
            "symbol": "circle"
           },
           "mode": "markers",
           "name": "",
           "orientation": "v",
           "showlegend": false,
           "type": "scatter",
           "x": [
            -22841.90073380917
           ],
           "xaxis": "x",
           "y": [
            -96796.56106580018
           ],
           "yaxis": "y"
          }
         ],
         "name": "2023-05-22 14:21:14.147452"
        },
        {
         "data": [
          {
           "hovertemplate": "timestamp=2023-05-22 14:21:14.276254<br>pos_y=%{x}<br>pos_z=%{y}<extra></extra>",
           "legendgroup": "",
           "marker": {
            "color": "#636efa",
            "symbol": "circle"
           },
           "mode": "markers",
           "name": "",
           "orientation": "v",
           "showlegend": false,
           "type": "scatter",
           "x": [
            -24702.339842078556
           ],
           "xaxis": "x",
           "y": [
            -101772.69439386381
           ],
           "yaxis": "y"
          }
         ],
         "name": "2023-05-22 14:21:14.276254"
        },
        {
         "data": [
          {
           "hovertemplate": "timestamp=2023-05-22 14:21:14.405153<br>pos_y=%{x}<br>pos_z=%{y}<extra></extra>",
           "legendgroup": "",
           "marker": {
            "color": "#636efa",
            "symbol": "circle"
           },
           "mode": "markers",
           "name": "",
           "orientation": "v",
           "showlegend": false,
           "type": "scatter",
           "x": [
            -26539.80058587892
           ],
           "xaxis": "x",
           "y": [
            -106881.45657402567
           ],
           "yaxis": "y"
          }
         ],
         "name": "2023-05-22 14:21:14.405153"
        },
        {
         "data": [
          {
           "hovertemplate": "timestamp=2023-05-22 14:21:14.534228<br>pos_y=%{x}<br>pos_z=%{y}<extra></extra>",
           "legendgroup": "",
           "marker": {
            "color": "#636efa",
            "symbol": "circle"
           },
           "mode": "markers",
           "name": "",
           "orientation": "v",
           "showlegend": false,
           "type": "scatter",
           "x": [
            -28343.498446661128
           ],
           "xaxis": "x",
           "y": [
            -112116.56990080206
           ],
           "yaxis": "y"
          }
         ],
         "name": "2023-05-22 14:21:14.534228"
        },
        {
         "data": [
          {
           "hovertemplate": "timestamp=2023-05-22 14:21:14.662924<br>pos_y=%{x}<br>pos_z=%{y}<extra></extra>",
           "legendgroup": "",
           "marker": {
            "color": "#636efa",
            "symbol": "circle"
           },
           "mode": "markers",
           "name": "",
           "orientation": "v",
           "showlegend": false,
           "type": "scatter",
           "x": [
            -30106.667934532536
           ],
           "xaxis": "x",
           "y": [
            -117471.892724451
           ],
           "yaxis": "y"
          }
         ],
         "name": "2023-05-22 14:21:14.662924"
        },
        {
         "data": [
          {
           "hovertemplate": "timestamp=2023-05-22 14:21:14.791569<br>pos_y=%{x}<br>pos_z=%{y}<extra></extra>",
           "legendgroup": "",
           "marker": {
            "color": "#636efa",
            "symbol": "circle"
           },
           "mode": "markers",
           "name": "",
           "orientation": "v",
           "showlegend": false,
           "type": "scatter",
           "x": [
            -31826.079248475642
           ],
           "xaxis": "x",
           "y": [
            -122941.68301771142
           ],
           "yaxis": "y"
          }
         ],
         "name": "2023-05-22 14:21:14.791569"
        },
        {
         "data": [
          {
           "hovertemplate": "timestamp=2023-05-22 14:21:14.920300<br>pos_y=%{x}<br>pos_z=%{y}<extra></extra>",
           "legendgroup": "",
           "marker": {
            "color": "#636efa",
            "symbol": "circle"
           },
           "mode": "markers",
           "name": "",
           "orientation": "v",
           "showlegend": false,
           "type": "scatter",
           "x": [
            -33501.1412910789
           ],
           "xaxis": "x",
           "y": [
            -128520.60417131013
           ],
           "yaxis": "y"
          }
         ],
         "name": "2023-05-22 14:21:14.920300"
        },
        {
         "data": [
          {
           "hovertemplate": "timestamp=2023-05-22 14:21:15.048966<br>pos_y=%{x}<br>pos_z=%{y}<extra></extra>",
           "legendgroup": "",
           "marker": {
            "color": "#636efa",
            "symbol": "circle"
           },
           "mode": "markers",
           "name": "",
           "orientation": "v",
           "showlegend": false,
           "type": "scatter",
           "x": [
            -35133.14173629061
           ],
           "xaxis": "x",
           "y": [
            -134203.95966839927
           ],
           "yaxis": "y"
          }
         ],
         "name": "2023-05-22 14:21:15.048966"
        },
        {
         "data": [
          {
           "hovertemplate": "timestamp=2023-05-22 14:21:15.178097<br>pos_y=%{x}<br>pos_z=%{y}<extra></extra>",
           "legendgroup": "",
           "marker": {
            "color": "#636efa",
            "symbol": "circle"
           },
           "mode": "markers",
           "name": "",
           "orientation": "v",
           "showlegend": false,
           "type": "scatter",
           "x": [
            -36724.906694815996
           ],
           "xaxis": "x",
           "y": [
            -139988.35856550426
           ],
           "yaxis": "y"
          }
         ],
         "name": "2023-05-22 14:21:15.178097"
        },
        {
         "data": [
          {
           "hovertemplate": "timestamp=2023-05-22 14:21:15.306843<br>pos_y=%{x}<br>pos_z=%{y}<extra></extra>",
           "legendgroup": "",
           "marker": {
            "color": "#636efa",
            "symbol": "circle"
           },
           "mode": "markers",
           "name": "",
           "orientation": "v",
           "showlegend": false,
           "type": "scatter",
           "x": [
            -38280.678185845165
           ],
           "xaxis": "x",
           "y": [
            -145871.79276408514
           ],
           "yaxis": "y"
          }
         ],
         "name": "2023-05-22 14:21:15.306843"
        },
        {
         "data": [
          {
           "hovertemplate": "timestamp=2023-05-22 14:21:15.435816<br>pos_y=%{x}<br>pos_z=%{y}<extra></extra>",
           "legendgroup": "",
           "marker": {
            "color": "#636efa",
            "symbol": "circle"
           },
           "mode": "markers",
           "name": "",
           "orientation": "v",
           "showlegend": false,
           "type": "scatter",
           "x": [
            -39805.8015897697
           ],
           "xaxis": "x",
           "y": [
            -151853.1012667271
           ],
           "yaxis": "y"
          }
         ],
         "name": "2023-05-22 14:21:15.435816"
        },
        {
         "data": [
          {
           "hovertemplate": "timestamp=2023-05-22 14:21:15.564590<br>pos_y=%{x}<br>pos_z=%{y}<extra></extra>",
           "legendgroup": "",
           "marker": {
            "color": "#636efa",
            "symbol": "circle"
           },
           "mode": "markers",
           "name": "",
           "orientation": "v",
           "showlegend": false,
           "type": "scatter",
           "x": [
            -41306.35657403526
           ],
           "xaxis": "x",
           "y": [
            -157931.18715394376
           ],
           "yaxis": "y"
          }
         ],
         "name": "2023-05-22 14:21:15.564590"
        },
        {
         "data": [
          {
           "hovertemplate": "timestamp=2023-05-22 14:21:15.693187<br>pos_y=%{x}<br>pos_z=%{y}<extra></extra>",
           "legendgroup": "",
           "marker": {
            "color": "#636efa",
            "symbol": "circle"
           },
           "mode": "markers",
           "name": "",
           "orientation": "v",
           "showlegend": false,
           "type": "scatter",
           "x": [
            -42788.913715584276
           ],
           "xaxis": "x",
           "y": [
            -164104.55357250717
           ],
           "yaxis": "y"
          }
         ],
         "name": "2023-05-22 14:21:15.693187"
        },
        {
         "data": [
          {
           "hovertemplate": "timestamp=2023-05-22 14:21:15.822083<br>pos_y=%{x}<br>pos_z=%{y}<extra></extra>",
           "legendgroup": "",
           "marker": {
            "color": "#636efa",
            "symbol": "circle"
           },
           "mode": "markers",
           "name": "",
           "orientation": "v",
           "showlegend": false,
           "type": "scatter",
           "x": [
            -44260.72662407085
           ],
           "xaxis": "x",
           "y": [
            -170370.89951503064
           ],
           "yaxis": "y"
          }
         ],
         "name": "2023-05-22 14:21:15.822083"
        },
        {
         "data": [
          {
           "hovertemplate": "timestamp=2023-05-22 14:21:15.951014<br>pos_y=%{x}<br>pos_z=%{y}<extra></extra>",
           "legendgroup": "",
           "marker": {
            "color": "#636efa",
            "symbol": "circle"
           },
           "mode": "markers",
           "name": "",
           "orientation": "v",
           "showlegend": false,
           "type": "scatter",
           "x": [
            -45730.43495669103
           ],
           "xaxis": "x",
           "y": [
            -176726.9895480899
           ],
           "yaxis": "y"
          }
         ],
         "name": "2023-05-22 14:21:15.951014"
        },
        {
         "data": [
          {
           "hovertemplate": "timestamp=2023-05-22 14:21:16.080040<br>pos_y=%{x}<br>pos_z=%{y}<extra></extra>",
           "legendgroup": "",
           "marker": {
            "color": "#636efa",
            "symbol": "circle"
           },
           "mode": "markers",
           "name": "",
           "orientation": "v",
           "showlegend": false,
           "type": "scatter",
           "x": [
            -47208.74773515124
           ],
           "xaxis": "x",
           "y": [
            -183169.10789292207
           ],
           "yaxis": "y"
          }
         ],
         "name": "2023-05-22 14:21:16.080040"
        },
        {
         "data": [
          {
           "hovertemplate": "timestamp=2023-05-22 14:21:16.209184<br>pos_y=%{x}<br>pos_z=%{y}<extra></extra>",
           "legendgroup": "",
           "marker": {
            "color": "#636efa",
            "symbol": "circle"
           },
           "mode": "markers",
           "name": "",
           "orientation": "v",
           "showlegend": false,
           "type": "scatter",
           "x": [
            -48708.43984132669
           ],
           "xaxis": "x",
           "y": [
            -189693.55324120738
           ],
           "yaxis": "y"
          }
         ],
         "name": "2023-05-22 14:21:16.209184"
        },
        {
         "data": [
          {
           "hovertemplate": "timestamp=2023-05-22 14:21:16.337932<br>pos_y=%{x}<br>pos_z=%{y}<extra></extra>",
           "legendgroup": "",
           "marker": {
            "color": "#636efa",
            "symbol": "circle"
           },
           "mode": "markers",
           "name": "",
           "orientation": "v",
           "showlegend": false,
           "type": "scatter",
           "x": [
            -50243.553266762916
           ],
           "xaxis": "x",
           "y": [
            -196296.9710504659
           ],
           "yaxis": "y"
          }
         ],
         "name": "2023-05-22 14:21:16.337932"
        },
        {
         "data": [
          {
           "hovertemplate": "timestamp=2023-05-22 14:21:16.466810<br>pos_y=%{x}<br>pos_z=%{y}<extra></extra>",
           "legendgroup": "",
           "marker": {
            "color": "#636efa",
            "symbol": "circle"
           },
           "mode": "markers",
           "name": "",
           "orientation": "v",
           "showlegend": false,
           "type": "scatter",
           "x": [
            -51828.18074244214
           ],
           "xaxis": "x",
           "y": [
            -202976.47226795487
           ],
           "yaxis": "y"
          }
         ],
         "name": "2023-05-22 14:21:16.466810"
        },
        {
         "data": [
          {
           "hovertemplate": "timestamp=2023-05-22 14:21:16.595577<br>pos_y=%{x}<br>pos_z=%{y}<extra></extra>",
           "legendgroup": "",
           "marker": {
            "color": "#636efa",
            "symbol": "circle"
           },
           "mode": "markers",
           "name": "",
           "orientation": "v",
           "showlegend": false,
           "type": "scatter",
           "x": [
            -53475.02689569068
           ],
           "xaxis": "x",
           "y": [
            -209729.82720912521
           ],
           "yaxis": "y"
          }
         ],
         "name": "2023-05-22 14:21:16.595577"
        },
        {
         "data": [
          {
           "hovertemplate": "timestamp=2023-05-22 14:21:16.724276<br>pos_y=%{x}<br>pos_z=%{y}<extra></extra>",
           "legendgroup": "",
           "marker": {
            "color": "#636efa",
            "symbol": "circle"
           },
           "mode": "markers",
           "name": "",
           "orientation": "v",
           "showlegend": false,
           "type": "scatter",
           "x": [
            -55194.56934601143
           ],
           "xaxis": "x",
           "y": [
            -216555.64928529007
           ],
           "yaxis": "y"
          }
         ],
         "name": "2023-05-22 14:21:16.724276"
        },
        {
         "data": [
          {
           "hovertemplate": "timestamp=2023-05-22 14:21:16.852950<br>pos_y=%{x}<br>pos_z=%{y}<extra></extra>",
           "legendgroup": "",
           "marker": {
            "color": "#636efa",
            "symbol": "circle"
           },
           "mode": "markers",
           "name": "",
           "orientation": "v",
           "showlegend": false,
           "type": "scatter",
           "x": [
            -56994.59936262847
           ],
           "xaxis": "x",
           "y": [
            -223453.69136051513
           ],
           "yaxis": "y"
          }
         ],
         "name": "2023-05-22 14:21:16.852950"
        },
        {
         "data": [
          {
           "hovertemplate": "timestamp=2023-05-22 14:21:16.981948<br>pos_y=%{x}<br>pos_z=%{y}<extra></extra>",
           "legendgroup": "",
           "marker": {
            "color": "#636efa",
            "symbol": "circle"
           },
           "mode": "markers",
           "name": "",
           "orientation": "v",
           "showlegend": false,
           "type": "scatter",
           "x": [
            -58879.7813274466
           ],
           "xaxis": "x",
           "y": [
            -230425.4153562039
           ],
           "yaxis": "y"
          }
         ],
         "name": "2023-05-22 14:21:16.981948"
        },
        {
         "data": [
          {
           "hovertemplate": "timestamp=2023-05-22 14:21:17.111209<br>pos_y=%{x}<br>pos_z=%{y}<extra></extra>",
           "legendgroup": "",
           "marker": {
            "color": "#636efa",
            "symbol": "circle"
           },
           "mode": "markers",
           "name": "",
           "orientation": "v",
           "showlegend": false,
           "type": "scatter",
           "x": [
            -60852.02222488884
           ],
           "xaxis": "x",
           "y": [
            -237474.07621676952
           ],
           "yaxis": "y"
          }
         ],
         "name": "2023-05-22 14:21:17.111209"
        },
        {
         "data": [
          {
           "hovertemplate": "timestamp=2023-05-22 14:21:17.240000<br>pos_y=%{x}<br>pos_z=%{y}<extra></extra>",
           "legendgroup": "",
           "marker": {
            "color": "#636efa",
            "symbol": "circle"
           },
           "mode": "markers",
           "name": "",
           "orientation": "v",
           "showlegend": false,
           "type": "scatter",
           "x": [
            -62911.78459849335
           ],
           "xaxis": "x",
           "y": [
            -244604.07308020524
           ],
           "yaxis": "y"
          }
         ],
         "name": "2023-05-22 14:21:17.240000"
        },
        {
         "data": [
          {
           "hovertemplate": "timestamp=2023-05-22 14:21:17.368815<br>pos_y=%{x}<br>pos_z=%{y}<extra></extra>",
           "legendgroup": "",
           "marker": {
            "color": "#636efa",
            "symbol": "circle"
           },
           "mode": "markers",
           "name": "",
           "orientation": "v",
           "showlegend": false,
           "type": "scatter",
           "x": [
            -65059.210795083316
           ],
           "xaxis": "x",
           "y": [
            -251820.56148826636
           ],
           "yaxis": "y"
          }
         ],
         "name": "2023-05-22 14:21:17.368815"
        },
        {
         "data": [
          {
           "hovertemplate": "timestamp=2023-05-22 14:21:17.497936<br>pos_y=%{x}<br>pos_z=%{y}<extra></extra>",
           "legendgroup": "",
           "marker": {
            "color": "#636efa",
            "symbol": "circle"
           },
           "mode": "markers",
           "name": "",
           "orientation": "v",
           "showlegend": false,
           "type": "scatter",
           "x": [
            -67294.62428174746
           ],
           "xaxis": "x",
           "y": [
            -259129.4548417335
           ],
           "yaxis": "y"
          }
         ],
         "name": "2023-05-22 14:21:17.497936"
        },
        {
         "data": [
          {
           "hovertemplate": "timestamp=2023-05-22 14:21:17.626717<br>pos_y=%{x}<br>pos_z=%{y}<extra></extra>",
           "legendgroup": "",
           "marker": {
            "color": "#636efa",
            "symbol": "circle"
           },
           "mode": "markers",
           "name": "",
           "orientation": "v",
           "showlegend": false,
           "type": "scatter",
           "x": [
            -69618.83002792364
           ],
           "xaxis": "x",
           "y": [
            -266537.267586683
           ],
           "yaxis": "y"
          }
         ],
         "name": "2023-05-22 14:21:17.626717"
        },
        {
         "data": [
          {
           "hovertemplate": "timestamp=2023-05-22 14:21:17.755660<br>pos_y=%{x}<br>pos_z=%{y}<extra></extra>",
           "legendgroup": "",
           "marker": {
            "color": "#636efa",
            "symbol": "circle"
           },
           "mode": "markers",
           "name": "",
           "orientation": "v",
           "showlegend": false,
           "type": "scatter",
           "x": [
            -72033.44098021505
           ],
           "xaxis": "x",
           "y": [
            -274050.820719872
           ],
           "yaxis": "y"
          }
         ],
         "name": "2023-05-22 14:21:17.755660"
        },
        {
         "data": [
          {
           "hovertemplate": "timestamp=2023-05-22 14:21:17.884562<br>pos_y=%{x}<br>pos_z=%{y}<extra></extra>",
           "legendgroup": "",
           "marker": {
            "color": "#636efa",
            "symbol": "circle"
           },
           "mode": "markers",
           "name": "",
           "orientation": "v",
           "showlegend": false,
           "type": "scatter",
           "x": [
            -74541.49263825858
           ],
           "xaxis": "x",
           "y": [
            -281676.910650124
           ],
           "yaxis": "y"
          }
         ],
         "name": "2023-05-22 14:21:17.884562"
        },
        {
         "data": [
          {
           "hovertemplate": "timestamp=2023-05-22 14:21:18.013487<br>pos_y=%{x}<br>pos_z=%{y}<extra></extra>",
           "legendgroup": "",
           "marker": {
            "color": "#636efa",
            "symbol": "circle"
           },
           "mode": "markers",
           "name": "",
           "orientation": "v",
           "showlegend": false,
           "type": "scatter",
           "x": [
            -77148.05397500916
           ],
           "xaxis": "x",
           "y": [
            -289421.983402311
           ],
           "yaxis": "y"
          }
         ],
         "name": "2023-05-22 14:21:18.013487"
        },
        {
         "data": [
          {
           "hovertemplate": "timestamp=2023-05-22 14:21:18.142490<br>pos_y=%{x}<br>pos_z=%{y}<extra></extra>",
           "legendgroup": "",
           "marker": {
            "color": "#636efa",
            "symbol": "circle"
           },
           "mode": "markers",
           "name": "",
           "orientation": "v",
           "showlegend": false,
           "type": "scatter",
           "x": [
            -79859.8364661165
           ],
           "xaxis": "x",
           "y": [
            -297291.7918621424
           ],
           "yaxis": "y"
          }
         ],
         "name": "2023-05-22 14:21:18.142490"
        },
        {
         "data": [
          {
           "hovertemplate": "timestamp=2023-05-22 14:21:18.271434<br>pos_y=%{x}<br>pos_z=%{y}<extra></extra>",
           "legendgroup": "",
           "marker": {
            "color": "#636efa",
            "symbol": "circle"
           },
           "mode": "markers",
           "name": "",
           "orientation": "v",
           "showlegend": false,
           "type": "scatter",
           "x": [
            -82683.84135522714
           ],
           "xaxis": "x",
           "y": [
            -305291.1882847813
           ],
           "yaxis": "y"
          }
         ],
         "name": "2023-05-22 14:21:18.271434"
        },
        {
         "data": [
          {
           "hovertemplate": "timestamp=2023-05-22 14:21:18.400433<br>pos_y=%{x}<br>pos_z=%{y}<extra></extra>",
           "legendgroup": "",
           "marker": {
            "color": "#636efa",
            "symbol": "circle"
           },
           "mode": "markers",
           "name": "",
           "orientation": "v",
           "showlegend": false,
           "type": "scatter",
           "x": [
            -85626.01981783588
           ],
           "xaxis": "x",
           "y": [
            -313423.77818616293
           ],
           "yaxis": "y"
          }
         ],
         "name": "2023-05-22 14:21:18.400433"
        },
        {
         "data": [
          {
           "hovertemplate": "timestamp=2023-05-22 14:21:18.529455<br>pos_y=%{x}<br>pos_z=%{y}<extra></extra>",
           "legendgroup": "",
           "marker": {
            "color": "#636efa",
            "symbol": "circle"
           },
           "mode": "markers",
           "name": "",
           "orientation": "v",
           "showlegend": false,
           "type": "scatter",
           "x": [
            -88690.71788763568
           ],
           "xaxis": "x",
           "y": [
            -321691.3032461061
           ],
           "yaxis": "y"
          }
         ],
         "name": "2023-05-22 14:21:18.529455"
        },
        {
         "data": [
          {
           "hovertemplate": "timestamp=2023-05-22 14:21:18.658106<br>pos_y=%{x}<br>pos_z=%{y}<extra></extra>",
           "legendgroup": "",
           "marker": {
            "color": "#636efa",
            "symbol": "circle"
           },
           "mode": "markers",
           "name": "",
           "orientation": "v",
           "showlegend": false,
           "type": "scatter",
           "x": [
            -91880.66773629424
           ],
           "xaxis": "x",
           "y": [
            -330093.0613056583
           ],
           "yaxis": "y"
          }
         ],
         "name": "2023-05-22 14:21:18.658106"
        },
        {
         "data": [
          {
           "hovertemplate": "timestamp=2023-05-22 14:21:18.786828<br>pos_y=%{x}<br>pos_z=%{y}<extra></extra>",
           "legendgroup": "",
           "marker": {
            "color": "#636efa",
            "symbol": "circle"
           },
           "mode": "markers",
           "name": "",
           "orientation": "v",
           "showlegend": false,
           "type": "scatter",
           "x": [
            -95196.40873986208
           ],
           "xaxis": "x",
           "y": [
            -338625.7502335639
           ],
           "yaxis": "y"
          }
         ],
         "name": "2023-05-22 14:21:18.786828"
        },
        {
         "data": [
          {
           "hovertemplate": "timestamp=2023-05-22 14:21:18.915779<br>pos_y=%{x}<br>pos_z=%{y}<extra></extra>",
           "legendgroup": "",
           "marker": {
            "color": "#636efa",
            "symbol": "circle"
           },
           "mode": "markers",
           "name": "",
           "orientation": "v",
           "showlegend": false,
           "type": "scatter",
           "x": [
            -98635.04976352087
           ],
           "xaxis": "x",
           "y": [
            -347283.7212950687
           ],
           "yaxis": "y"
          }
         ],
         "name": "2023-05-22 14:21:18.915779"
        },
        {
         "data": [
          {
           "hovertemplate": "timestamp=2023-05-22 14:21:19.044574<br>pos_y=%{x}<br>pos_z=%{y}<extra></extra>",
           "legendgroup": "",
           "marker": {
            "color": "#636efa",
            "symbol": "circle"
           },
           "mode": "markers",
           "name": "",
           "orientation": "v",
           "showlegend": false,
           "type": "scatter",
           "x": [
            -102189.82833665704
           ],
           "xaxis": "x",
           "y": [
            -356059.0074964673
           ],
           "yaxis": "y"
          }
         ],
         "name": "2023-05-22 14:21:19.044574"
        },
        {
         "data": [
          {
           "hovertemplate": "timestamp=2023-05-22 14:21:19.173395<br>pos_y=%{x}<br>pos_z=%{y}<extra></extra>",
           "legendgroup": "",
           "marker": {
            "color": "#636efa",
            "symbol": "circle"
           },
           "mode": "markers",
           "name": "",
           "orientation": "v",
           "showlegend": false,
           "type": "scatter",
           "x": [
            -105851.05748864143
           ],
           "xaxis": "x",
           "y": [
            -364941.4240906386
           ],
           "yaxis": "y"
          }
         ],
         "name": "2023-05-22 14:21:19.173395"
        },
        {
         "data": [
          {
           "hovertemplate": "timestamp=2023-05-22 14:21:19.302323<br>pos_y=%{x}<br>pos_z=%{y}<extra></extra>",
           "legendgroup": "",
           "marker": {
            "color": "#636efa",
            "symbol": "circle"
           },
           "mode": "markers",
           "name": "",
           "orientation": "v",
           "showlegend": false,
           "type": "scatter",
           "x": [
            -109607.16435813814
           ],
           "xaxis": "x",
           "y": [
            -373919.1116327682
           ],
           "yaxis": "y"
          }
         ],
         "name": "2023-05-22 14:21:19.302323"
        },
        {
         "data": [
          {
           "hovertemplate": "timestamp=2023-05-22 14:21:19.431197<br>pos_y=%{x}<br>pos_z=%{y}<extra></extra>",
           "legendgroup": "",
           "marker": {
            "color": "#636efa",
            "symbol": "circle"
           },
           "mode": "markers",
           "name": "",
           "orientation": "v",
           "showlegend": false,
           "type": "scatter",
           "x": [
            -113445.4585638821
           ],
           "xaxis": "x",
           "y": [
            -382979.3666214978
           ],
           "yaxis": "y"
          }
         ],
         "name": "2023-05-22 14:21:19.431197"
        },
        {
         "data": [
          {
           "hovertemplate": "timestamp=2023-05-22 14:21:19.560045<br>pos_y=%{x}<br>pos_z=%{y}<extra></extra>",
           "legendgroup": "",
           "marker": {
            "color": "#636efa",
            "symbol": "circle"
           },
           "mode": "markers",
           "name": "",
           "orientation": "v",
           "showlegend": false,
           "type": "scatter",
           "x": [
            -117352.77179083576
           ],
           "xaxis": "x",
           "y": [
            -392109.63247851154
           ],
           "yaxis": "y"
          }
         ],
         "name": "2023-05-22 14:21:19.560045"
        },
        {
         "data": [
          {
           "hovertemplate": "timestamp=2023-05-22 14:21:19.688766<br>pos_y=%{x}<br>pos_z=%{y}<extra></extra>",
           "legendgroup": "",
           "marker": {
            "color": "#636efa",
            "symbol": "circle"
           },
           "mode": "markers",
           "name": "",
           "orientation": "v",
           "showlegend": false,
           "type": "scatter",
           "x": [
            -121315.78596767143
           ],
           "xaxis": "x",
           "y": [
            -401298.5135641139
           ],
           "yaxis": "y"
          }
         ],
         "name": "2023-05-22 14:21:19.688766"
        },
        {
         "data": [
          {
           "hovertemplate": "timestamp=2023-05-22 14:21:19.817542<br>pos_y=%{x}<br>pos_z=%{y}<extra></extra>",
           "legendgroup": "",
           "marker": {
            "color": "#636efa",
            "symbol": "circle"
           },
           "mode": "markers",
           "name": "",
           "orientation": "v",
           "showlegend": false,
           "type": "scatter",
           "x": [
            -125321.73001742888
           ],
           "xaxis": "x",
           "y": [
            -410536.25830284395
           ],
           "yaxis": "y"
          }
         ],
         "name": "2023-05-22 14:21:19.817542"
        },
        {
         "data": [
          {
           "hovertemplate": "timestamp=2023-05-22 14:21:19.946251<br>pos_y=%{x}<br>pos_z=%{y}<extra></extra>",
           "legendgroup": "",
           "marker": {
            "color": "#636efa",
            "symbol": "circle"
           },
           "mode": "markers",
           "name": "",
           "orientation": "v",
           "showlegend": false,
           "type": "scatter",
           "x": [
            -129360.15833726764
           ],
           "xaxis": "x",
           "y": [
            -419814.6983467158
           ],
           "yaxis": "y"
          }
         ],
         "name": "2023-05-22 14:21:19.946251"
        },
        {
         "data": [
          {
           "hovertemplate": "timestamp=2023-05-22 14:21:20.074842<br>pos_y=%{x}<br>pos_z=%{y}<extra></extra>",
           "legendgroup": "",
           "marker": {
            "color": "#636efa",
            "symbol": "circle"
           },
           "mode": "markers",
           "name": "",
           "orientation": "v",
           "showlegend": false,
           "type": "scatter",
           "x": [
            -133424.17426957388
           ],
           "xaxis": "x",
           "y": [
            -429127.2063342255
           ],
           "yaxis": "y"
          }
         ],
         "name": "2023-05-22 14:21:20.074842"
        },
        {
         "data": [
          {
           "hovertemplate": "timestamp=2023-05-22 14:21:20.203361<br>pos_y=%{x}<br>pos_z=%{y}<extra></extra>",
           "legendgroup": "",
           "marker": {
            "color": "#636efa",
            "symbol": "circle"
           },
           "mode": "markers",
           "name": "",
           "orientation": "v",
           "showlegend": false,
           "type": "scatter",
           "x": [
            -137509.44185934454
           ],
           "xaxis": "x",
           "y": [
            -438468.7718034054
           ],
           "yaxis": "y"
          }
         ],
         "name": "2023-05-22 14:21:20.203361"
        },
        {
         "data": [
          {
           "hovertemplate": "timestamp=2023-05-22 14:21:20.332065<br>pos_y=%{x}<br>pos_z=%{y}<extra></extra>",
           "legendgroup": "",
           "marker": {
            "color": "#636efa",
            "symbol": "circle"
           },
           "mode": "markers",
           "name": "",
           "orientation": "v",
           "showlegend": false,
           "type": "scatter",
           "x": [
            -141612.70956703366
           ],
           "xaxis": "x",
           "y": [
            -447835.926699687
           ],
           "yaxis": "y"
          }
         ],
         "name": "2023-05-22 14:21:20.332065"
        },
        {
         "data": [
          {
           "hovertemplate": "timestamp=2023-05-22 14:21:20.460833<br>pos_y=%{x}<br>pos_z=%{y}<extra></extra>",
           "legendgroup": "",
           "marker": {
            "color": "#636efa",
            "symbol": "circle"
           },
           "mode": "markers",
           "name": "",
           "orientation": "v",
           "showlegend": false,
           "type": "scatter",
           "x": [
            -145731.80011249322
           ],
           "xaxis": "x",
           "y": [
            -457226.41813985194
           ],
           "yaxis": "y"
          }
         ],
         "name": "2023-05-22 14:21:20.460833"
        }
       ],
       "layout": {
        "legend": {
         "tracegroupgap": 0
        },
        "margin": {
         "t": 60
        },
        "sliders": [
         {
          "active": 0,
          "currentvalue": {
           "prefix": "timestamp="
          },
          "len": 0.9,
          "pad": {
           "b": 10,
           "t": 60
          },
          "steps": [
           {
            "args": [
             [
              "2023-05-22 14:21:08.608633"
             ],
             {
              "frame": {
               "duration": 0,
               "redraw": false
              },
              "fromcurrent": true,
              "mode": "immediate",
              "transition": {
               "duration": 0,
               "easing": "linear"
              }
             }
            ],
            "label": "2023-05-22 14:21:08.608633",
            "method": "animate"
           },
           {
            "args": [
             [
              "2023-05-22 14:21:08.608732"
             ],
             {
              "frame": {
               "duration": 0,
               "redraw": false
              },
              "fromcurrent": true,
              "mode": "immediate",
              "transition": {
               "duration": 0,
               "easing": "linear"
              }
             }
            ],
            "label": "2023-05-22 14:21:08.608732",
            "method": "animate"
           },
           {
            "args": [
             [
              "2023-05-22 14:21:08.865600"
             ],
             {
              "frame": {
               "duration": 0,
               "redraw": false
              },
              "fromcurrent": true,
              "mode": "immediate",
              "transition": {
               "duration": 0,
               "easing": "linear"
              }
             }
            ],
            "label": "2023-05-22 14:21:08.865600",
            "method": "animate"
           },
           {
            "args": [
             [
              "2023-05-22 14:21:08.994296"
             ],
             {
              "frame": {
               "duration": 0,
               "redraw": false
              },
              "fromcurrent": true,
              "mode": "immediate",
              "transition": {
               "duration": 0,
               "easing": "linear"
              }
             }
            ],
            "label": "2023-05-22 14:21:08.994296",
            "method": "animate"
           },
           {
            "args": [
             [
              "2023-05-22 14:21:09.123017"
             ],
             {
              "frame": {
               "duration": 0,
               "redraw": false
              },
              "fromcurrent": true,
              "mode": "immediate",
              "transition": {
               "duration": 0,
               "easing": "linear"
              }
             }
            ],
            "label": "2023-05-22 14:21:09.123017",
            "method": "animate"
           },
           {
            "args": [
             [
              "2023-05-22 14:21:09.251885"
             ],
             {
              "frame": {
               "duration": 0,
               "redraw": false
              },
              "fromcurrent": true,
              "mode": "immediate",
              "transition": {
               "duration": 0,
               "easing": "linear"
              }
             }
            ],
            "label": "2023-05-22 14:21:09.251885",
            "method": "animate"
           },
           {
            "args": [
             [
              "2023-05-22 14:21:09.380533"
             ],
             {
              "frame": {
               "duration": 0,
               "redraw": false
              },
              "fromcurrent": true,
              "mode": "immediate",
              "transition": {
               "duration": 0,
               "easing": "linear"
              }
             }
            ],
            "label": "2023-05-22 14:21:09.380533",
            "method": "animate"
           },
           {
            "args": [
             [
              "2023-05-22 14:21:09.509532"
             ],
             {
              "frame": {
               "duration": 0,
               "redraw": false
              },
              "fromcurrent": true,
              "mode": "immediate",
              "transition": {
               "duration": 0,
               "easing": "linear"
              }
             }
            ],
            "label": "2023-05-22 14:21:09.509532",
            "method": "animate"
           },
           {
            "args": [
             [
              "2023-05-22 14:21:09.638230"
             ],
             {
              "frame": {
               "duration": 0,
               "redraw": false
              },
              "fromcurrent": true,
              "mode": "immediate",
              "transition": {
               "duration": 0,
               "easing": "linear"
              }
             }
            ],
            "label": "2023-05-22 14:21:09.638230",
            "method": "animate"
           },
           {
            "args": [
             [
              "2023-05-22 14:21:09.767030"
             ],
             {
              "frame": {
               "duration": 0,
               "redraw": false
              },
              "fromcurrent": true,
              "mode": "immediate",
              "transition": {
               "duration": 0,
               "easing": "linear"
              }
             }
            ],
            "label": "2023-05-22 14:21:09.767030",
            "method": "animate"
           },
           {
            "args": [
             [
              "2023-05-22 14:21:09.895878"
             ],
             {
              "frame": {
               "duration": 0,
               "redraw": false
              },
              "fromcurrent": true,
              "mode": "immediate",
              "transition": {
               "duration": 0,
               "easing": "linear"
              }
             }
            ],
            "label": "2023-05-22 14:21:09.895878",
            "method": "animate"
           },
           {
            "args": [
             [
              "2023-05-22 14:21:10.024876"
             ],
             {
              "frame": {
               "duration": 0,
               "redraw": false
              },
              "fromcurrent": true,
              "mode": "immediate",
              "transition": {
               "duration": 0,
               "easing": "linear"
              }
             }
            ],
            "label": "2023-05-22 14:21:10.024876",
            "method": "animate"
           },
           {
            "args": [
             [
              "2023-05-22 14:21:10.153801"
             ],
             {
              "frame": {
               "duration": 0,
               "redraw": false
              },
              "fromcurrent": true,
              "mode": "immediate",
              "transition": {
               "duration": 0,
               "easing": "linear"
              }
             }
            ],
            "label": "2023-05-22 14:21:10.153801",
            "method": "animate"
           },
           {
            "args": [
             [
              "2023-05-22 14:21:10.282873"
             ],
             {
              "frame": {
               "duration": 0,
               "redraw": false
              },
              "fromcurrent": true,
              "mode": "immediate",
              "transition": {
               "duration": 0,
               "easing": "linear"
              }
             }
            ],
            "label": "2023-05-22 14:21:10.282873",
            "method": "animate"
           },
           {
            "args": [
             [
              "2023-05-22 14:21:10.411751"
             ],
             {
              "frame": {
               "duration": 0,
               "redraw": false
              },
              "fromcurrent": true,
              "mode": "immediate",
              "transition": {
               "duration": 0,
               "easing": "linear"
              }
             }
            ],
            "label": "2023-05-22 14:21:10.411751",
            "method": "animate"
           },
           {
            "args": [
             [
              "2023-05-22 14:21:10.540697"
             ],
             {
              "frame": {
               "duration": 0,
               "redraw": false
              },
              "fromcurrent": true,
              "mode": "immediate",
              "transition": {
               "duration": 0,
               "easing": "linear"
              }
             }
            ],
            "label": "2023-05-22 14:21:10.540697",
            "method": "animate"
           },
           {
            "args": [
             [
              "2023-05-22 14:21:10.669569"
             ],
             {
              "frame": {
               "duration": 0,
               "redraw": false
              },
              "fromcurrent": true,
              "mode": "immediate",
              "transition": {
               "duration": 0,
               "easing": "linear"
              }
             }
            ],
            "label": "2023-05-22 14:21:10.669569",
            "method": "animate"
           },
           {
            "args": [
             [
              "2023-05-22 14:21:10.798392"
             ],
             {
              "frame": {
               "duration": 0,
               "redraw": false
              },
              "fromcurrent": true,
              "mode": "immediate",
              "transition": {
               "duration": 0,
               "easing": "linear"
              }
             }
            ],
            "label": "2023-05-22 14:21:10.798392",
            "method": "animate"
           },
           {
            "args": [
             [
              "2023-05-22 14:21:10.927247"
             ],
             {
              "frame": {
               "duration": 0,
               "redraw": false
              },
              "fromcurrent": true,
              "mode": "immediate",
              "transition": {
               "duration": 0,
               "easing": "linear"
              }
             }
            ],
            "label": "2023-05-22 14:21:10.927247",
            "method": "animate"
           },
           {
            "args": [
             [
              "2023-05-22 14:21:11.056115"
             ],
             {
              "frame": {
               "duration": 0,
               "redraw": false
              },
              "fromcurrent": true,
              "mode": "immediate",
              "transition": {
               "duration": 0,
               "easing": "linear"
              }
             }
            ],
            "label": "2023-05-22 14:21:11.056115",
            "method": "animate"
           },
           {
            "args": [
             [
              "2023-05-22 14:21:11.184968"
             ],
             {
              "frame": {
               "duration": 0,
               "redraw": false
              },
              "fromcurrent": true,
              "mode": "immediate",
              "transition": {
               "duration": 0,
               "easing": "linear"
              }
             }
            ],
            "label": "2023-05-22 14:21:11.184968",
            "method": "animate"
           },
           {
            "args": [
             [
              "2023-05-22 14:21:11.313662"
             ],
             {
              "frame": {
               "duration": 0,
               "redraw": false
              },
              "fromcurrent": true,
              "mode": "immediate",
              "transition": {
               "duration": 0,
               "easing": "linear"
              }
             }
            ],
            "label": "2023-05-22 14:21:11.313662",
            "method": "animate"
           },
           {
            "args": [
             [
              "2023-05-22 14:21:11.442392"
             ],
             {
              "frame": {
               "duration": 0,
               "redraw": false
              },
              "fromcurrent": true,
              "mode": "immediate",
              "transition": {
               "duration": 0,
               "easing": "linear"
              }
             }
            ],
            "label": "2023-05-22 14:21:11.442392",
            "method": "animate"
           },
           {
            "args": [
             [
              "2023-05-22 14:21:11.571160"
             ],
             {
              "frame": {
               "duration": 0,
               "redraw": false
              },
              "fromcurrent": true,
              "mode": "immediate",
              "transition": {
               "duration": 0,
               "easing": "linear"
              }
             }
            ],
            "label": "2023-05-22 14:21:11.571160",
            "method": "animate"
           },
           {
            "args": [
             [
              "2023-05-22 14:21:11.700184"
             ],
             {
              "frame": {
               "duration": 0,
               "redraw": false
              },
              "fromcurrent": true,
              "mode": "immediate",
              "transition": {
               "duration": 0,
               "easing": "linear"
              }
             }
            ],
            "label": "2023-05-22 14:21:11.700184",
            "method": "animate"
           },
           {
            "args": [
             [
              "2023-05-22 14:21:11.828980"
             ],
             {
              "frame": {
               "duration": 0,
               "redraw": false
              },
              "fromcurrent": true,
              "mode": "immediate",
              "transition": {
               "duration": 0,
               "easing": "linear"
              }
             }
            ],
            "label": "2023-05-22 14:21:11.828980",
            "method": "animate"
           },
           {
            "args": [
             [
              "2023-05-22 14:21:11.957931"
             ],
             {
              "frame": {
               "duration": 0,
               "redraw": false
              },
              "fromcurrent": true,
              "mode": "immediate",
              "transition": {
               "duration": 0,
               "easing": "linear"
              }
             }
            ],
            "label": "2023-05-22 14:21:11.957931",
            "method": "animate"
           },
           {
            "args": [
             [
              "2023-05-22 14:21:12.086904"
             ],
             {
              "frame": {
               "duration": 0,
               "redraw": false
              },
              "fromcurrent": true,
              "mode": "immediate",
              "transition": {
               "duration": 0,
               "easing": "linear"
              }
             }
            ],
            "label": "2023-05-22 14:21:12.086904",
            "method": "animate"
           },
           {
            "args": [
             [
              "2023-05-22 14:21:12.215980"
             ],
             {
              "frame": {
               "duration": 0,
               "redraw": false
              },
              "fromcurrent": true,
              "mode": "immediate",
              "transition": {
               "duration": 0,
               "easing": "linear"
              }
             }
            ],
            "label": "2023-05-22 14:21:12.215980",
            "method": "animate"
           },
           {
            "args": [
             [
              "2023-05-22 14:21:12.344859"
             ],
             {
              "frame": {
               "duration": 0,
               "redraw": false
              },
              "fromcurrent": true,
              "mode": "immediate",
              "transition": {
               "duration": 0,
               "easing": "linear"
              }
             }
            ],
            "label": "2023-05-22 14:21:12.344859",
            "method": "animate"
           },
           {
            "args": [
             [
              "2023-05-22 14:21:12.473300"
             ],
             {
              "frame": {
               "duration": 0,
               "redraw": false
              },
              "fromcurrent": true,
              "mode": "immediate",
              "transition": {
               "duration": 0,
               "easing": "linear"
              }
             }
            ],
            "label": "2023-05-22 14:21:12.473300",
            "method": "animate"
           },
           {
            "args": [
             [
              "2023-05-22 14:21:12.601997"
             ],
             {
              "frame": {
               "duration": 0,
               "redraw": false
              },
              "fromcurrent": true,
              "mode": "immediate",
              "transition": {
               "duration": 0,
               "easing": "linear"
              }
             }
            ],
            "label": "2023-05-22 14:21:12.601997",
            "method": "animate"
           },
           {
            "args": [
             [
              "2023-05-22 14:21:12.730952"
             ],
             {
              "frame": {
               "duration": 0,
               "redraw": false
              },
              "fromcurrent": true,
              "mode": "immediate",
              "transition": {
               "duration": 0,
               "easing": "linear"
              }
             }
            ],
            "label": "2023-05-22 14:21:12.730952",
            "method": "animate"
           },
           {
            "args": [
             [
              "2023-05-22 14:21:12.859875"
             ],
             {
              "frame": {
               "duration": 0,
               "redraw": false
              },
              "fromcurrent": true,
              "mode": "immediate",
              "transition": {
               "duration": 0,
               "easing": "linear"
              }
             }
            ],
            "label": "2023-05-22 14:21:12.859875",
            "method": "animate"
           },
           {
            "args": [
             [
              "2023-05-22 14:21:12.988733"
             ],
             {
              "frame": {
               "duration": 0,
               "redraw": false
              },
              "fromcurrent": true,
              "mode": "immediate",
              "transition": {
               "duration": 0,
               "easing": "linear"
              }
             }
            ],
            "label": "2023-05-22 14:21:12.988733",
            "method": "animate"
           },
           {
            "args": [
             [
              "2023-05-22 14:21:13.117690"
             ],
             {
              "frame": {
               "duration": 0,
               "redraw": false
              },
              "fromcurrent": true,
              "mode": "immediate",
              "transition": {
               "duration": 0,
               "easing": "linear"
              }
             }
            ],
            "label": "2023-05-22 14:21:13.117690",
            "method": "animate"
           },
           {
            "args": [
             [
              "2023-05-22 14:21:13.246420"
             ],
             {
              "frame": {
               "duration": 0,
               "redraw": false
              },
              "fromcurrent": true,
              "mode": "immediate",
              "transition": {
               "duration": 0,
               "easing": "linear"
              }
             }
            ],
            "label": "2023-05-22 14:21:13.246420",
            "method": "animate"
           },
           {
            "args": [
             [
              "2023-05-22 14:21:13.375036"
             ],
             {
              "frame": {
               "duration": 0,
               "redraw": false
              },
              "fromcurrent": true,
              "mode": "immediate",
              "transition": {
               "duration": 0,
               "easing": "linear"
              }
             }
            ],
            "label": "2023-05-22 14:21:13.375036",
            "method": "animate"
           },
           {
            "args": [
             [
              "2023-05-22 14:21:13.503829"
             ],
             {
              "frame": {
               "duration": 0,
               "redraw": false
              },
              "fromcurrent": true,
              "mode": "immediate",
              "transition": {
               "duration": 0,
               "easing": "linear"
              }
             }
            ],
            "label": "2023-05-22 14:21:13.503829",
            "method": "animate"
           },
           {
            "args": [
             [
              "2023-05-22 14:21:13.632538"
             ],
             {
              "frame": {
               "duration": 0,
               "redraw": false
              },
              "fromcurrent": true,
              "mode": "immediate",
              "transition": {
               "duration": 0,
               "easing": "linear"
              }
             }
            ],
            "label": "2023-05-22 14:21:13.632538",
            "method": "animate"
           },
           {
            "args": [
             [
              "2023-05-22 14:21:13.761197"
             ],
             {
              "frame": {
               "duration": 0,
               "redraw": false
              },
              "fromcurrent": true,
              "mode": "immediate",
              "transition": {
               "duration": 0,
               "easing": "linear"
              }
             }
            ],
            "label": "2023-05-22 14:21:13.761197",
            "method": "animate"
           },
           {
            "args": [
             [
              "2023-05-22 14:21:13.889731"
             ],
             {
              "frame": {
               "duration": 0,
               "redraw": false
              },
              "fromcurrent": true,
              "mode": "immediate",
              "transition": {
               "duration": 0,
               "easing": "linear"
              }
             }
            ],
            "label": "2023-05-22 14:21:13.889731",
            "method": "animate"
           },
           {
            "args": [
             [
              "2023-05-22 14:21:14.018555"
             ],
             {
              "frame": {
               "duration": 0,
               "redraw": false
              },
              "fromcurrent": true,
              "mode": "immediate",
              "transition": {
               "duration": 0,
               "easing": "linear"
              }
             }
            ],
            "label": "2023-05-22 14:21:14.018555",
            "method": "animate"
           },
           {
            "args": [
             [
              "2023-05-22 14:21:14.147452"
             ],
             {
              "frame": {
               "duration": 0,
               "redraw": false
              },
              "fromcurrent": true,
              "mode": "immediate",
              "transition": {
               "duration": 0,
               "easing": "linear"
              }
             }
            ],
            "label": "2023-05-22 14:21:14.147452",
            "method": "animate"
           },
           {
            "args": [
             [
              "2023-05-22 14:21:14.276254"
             ],
             {
              "frame": {
               "duration": 0,
               "redraw": false
              },
              "fromcurrent": true,
              "mode": "immediate",
              "transition": {
               "duration": 0,
               "easing": "linear"
              }
             }
            ],
            "label": "2023-05-22 14:21:14.276254",
            "method": "animate"
           },
           {
            "args": [
             [
              "2023-05-22 14:21:14.405153"
             ],
             {
              "frame": {
               "duration": 0,
               "redraw": false
              },
              "fromcurrent": true,
              "mode": "immediate",
              "transition": {
               "duration": 0,
               "easing": "linear"
              }
             }
            ],
            "label": "2023-05-22 14:21:14.405153",
            "method": "animate"
           },
           {
            "args": [
             [
              "2023-05-22 14:21:14.534228"
             ],
             {
              "frame": {
               "duration": 0,
               "redraw": false
              },
              "fromcurrent": true,
              "mode": "immediate",
              "transition": {
               "duration": 0,
               "easing": "linear"
              }
             }
            ],
            "label": "2023-05-22 14:21:14.534228",
            "method": "animate"
           },
           {
            "args": [
             [
              "2023-05-22 14:21:14.662924"
             ],
             {
              "frame": {
               "duration": 0,
               "redraw": false
              },
              "fromcurrent": true,
              "mode": "immediate",
              "transition": {
               "duration": 0,
               "easing": "linear"
              }
             }
            ],
            "label": "2023-05-22 14:21:14.662924",
            "method": "animate"
           },
           {
            "args": [
             [
              "2023-05-22 14:21:14.791569"
             ],
             {
              "frame": {
               "duration": 0,
               "redraw": false
              },
              "fromcurrent": true,
              "mode": "immediate",
              "transition": {
               "duration": 0,
               "easing": "linear"
              }
             }
            ],
            "label": "2023-05-22 14:21:14.791569",
            "method": "animate"
           },
           {
            "args": [
             [
              "2023-05-22 14:21:14.920300"
             ],
             {
              "frame": {
               "duration": 0,
               "redraw": false
              },
              "fromcurrent": true,
              "mode": "immediate",
              "transition": {
               "duration": 0,
               "easing": "linear"
              }
             }
            ],
            "label": "2023-05-22 14:21:14.920300",
            "method": "animate"
           },
           {
            "args": [
             [
              "2023-05-22 14:21:15.048966"
             ],
             {
              "frame": {
               "duration": 0,
               "redraw": false
              },
              "fromcurrent": true,
              "mode": "immediate",
              "transition": {
               "duration": 0,
               "easing": "linear"
              }
             }
            ],
            "label": "2023-05-22 14:21:15.048966",
            "method": "animate"
           },
           {
            "args": [
             [
              "2023-05-22 14:21:15.178097"
             ],
             {
              "frame": {
               "duration": 0,
               "redraw": false
              },
              "fromcurrent": true,
              "mode": "immediate",
              "transition": {
               "duration": 0,
               "easing": "linear"
              }
             }
            ],
            "label": "2023-05-22 14:21:15.178097",
            "method": "animate"
           },
           {
            "args": [
             [
              "2023-05-22 14:21:15.306843"
             ],
             {
              "frame": {
               "duration": 0,
               "redraw": false
              },
              "fromcurrent": true,
              "mode": "immediate",
              "transition": {
               "duration": 0,
               "easing": "linear"
              }
             }
            ],
            "label": "2023-05-22 14:21:15.306843",
            "method": "animate"
           },
           {
            "args": [
             [
              "2023-05-22 14:21:15.435816"
             ],
             {
              "frame": {
               "duration": 0,
               "redraw": false
              },
              "fromcurrent": true,
              "mode": "immediate",
              "transition": {
               "duration": 0,
               "easing": "linear"
              }
             }
            ],
            "label": "2023-05-22 14:21:15.435816",
            "method": "animate"
           },
           {
            "args": [
             [
              "2023-05-22 14:21:15.564590"
             ],
             {
              "frame": {
               "duration": 0,
               "redraw": false
              },
              "fromcurrent": true,
              "mode": "immediate",
              "transition": {
               "duration": 0,
               "easing": "linear"
              }
             }
            ],
            "label": "2023-05-22 14:21:15.564590",
            "method": "animate"
           },
           {
            "args": [
             [
              "2023-05-22 14:21:15.693187"
             ],
             {
              "frame": {
               "duration": 0,
               "redraw": false
              },
              "fromcurrent": true,
              "mode": "immediate",
              "transition": {
               "duration": 0,
               "easing": "linear"
              }
             }
            ],
            "label": "2023-05-22 14:21:15.693187",
            "method": "animate"
           },
           {
            "args": [
             [
              "2023-05-22 14:21:15.822083"
             ],
             {
              "frame": {
               "duration": 0,
               "redraw": false
              },
              "fromcurrent": true,
              "mode": "immediate",
              "transition": {
               "duration": 0,
               "easing": "linear"
              }
             }
            ],
            "label": "2023-05-22 14:21:15.822083",
            "method": "animate"
           },
           {
            "args": [
             [
              "2023-05-22 14:21:15.951014"
             ],
             {
              "frame": {
               "duration": 0,
               "redraw": false
              },
              "fromcurrent": true,
              "mode": "immediate",
              "transition": {
               "duration": 0,
               "easing": "linear"
              }
             }
            ],
            "label": "2023-05-22 14:21:15.951014",
            "method": "animate"
           },
           {
            "args": [
             [
              "2023-05-22 14:21:16.080040"
             ],
             {
              "frame": {
               "duration": 0,
               "redraw": false
              },
              "fromcurrent": true,
              "mode": "immediate",
              "transition": {
               "duration": 0,
               "easing": "linear"
              }
             }
            ],
            "label": "2023-05-22 14:21:16.080040",
            "method": "animate"
           },
           {
            "args": [
             [
              "2023-05-22 14:21:16.209184"
             ],
             {
              "frame": {
               "duration": 0,
               "redraw": false
              },
              "fromcurrent": true,
              "mode": "immediate",
              "transition": {
               "duration": 0,
               "easing": "linear"
              }
             }
            ],
            "label": "2023-05-22 14:21:16.209184",
            "method": "animate"
           },
           {
            "args": [
             [
              "2023-05-22 14:21:16.337932"
             ],
             {
              "frame": {
               "duration": 0,
               "redraw": false
              },
              "fromcurrent": true,
              "mode": "immediate",
              "transition": {
               "duration": 0,
               "easing": "linear"
              }
             }
            ],
            "label": "2023-05-22 14:21:16.337932",
            "method": "animate"
           },
           {
            "args": [
             [
              "2023-05-22 14:21:16.466810"
             ],
             {
              "frame": {
               "duration": 0,
               "redraw": false
              },
              "fromcurrent": true,
              "mode": "immediate",
              "transition": {
               "duration": 0,
               "easing": "linear"
              }
             }
            ],
            "label": "2023-05-22 14:21:16.466810",
            "method": "animate"
           },
           {
            "args": [
             [
              "2023-05-22 14:21:16.595577"
             ],
             {
              "frame": {
               "duration": 0,
               "redraw": false
              },
              "fromcurrent": true,
              "mode": "immediate",
              "transition": {
               "duration": 0,
               "easing": "linear"
              }
             }
            ],
            "label": "2023-05-22 14:21:16.595577",
            "method": "animate"
           },
           {
            "args": [
             [
              "2023-05-22 14:21:16.724276"
             ],
             {
              "frame": {
               "duration": 0,
               "redraw": false
              },
              "fromcurrent": true,
              "mode": "immediate",
              "transition": {
               "duration": 0,
               "easing": "linear"
              }
             }
            ],
            "label": "2023-05-22 14:21:16.724276",
            "method": "animate"
           },
           {
            "args": [
             [
              "2023-05-22 14:21:16.852950"
             ],
             {
              "frame": {
               "duration": 0,
               "redraw": false
              },
              "fromcurrent": true,
              "mode": "immediate",
              "transition": {
               "duration": 0,
               "easing": "linear"
              }
             }
            ],
            "label": "2023-05-22 14:21:16.852950",
            "method": "animate"
           },
           {
            "args": [
             [
              "2023-05-22 14:21:16.981948"
             ],
             {
              "frame": {
               "duration": 0,
               "redraw": false
              },
              "fromcurrent": true,
              "mode": "immediate",
              "transition": {
               "duration": 0,
               "easing": "linear"
              }
             }
            ],
            "label": "2023-05-22 14:21:16.981948",
            "method": "animate"
           },
           {
            "args": [
             [
              "2023-05-22 14:21:17.111209"
             ],
             {
              "frame": {
               "duration": 0,
               "redraw": false
              },
              "fromcurrent": true,
              "mode": "immediate",
              "transition": {
               "duration": 0,
               "easing": "linear"
              }
             }
            ],
            "label": "2023-05-22 14:21:17.111209",
            "method": "animate"
           },
           {
            "args": [
             [
              "2023-05-22 14:21:17.240000"
             ],
             {
              "frame": {
               "duration": 0,
               "redraw": false
              },
              "fromcurrent": true,
              "mode": "immediate",
              "transition": {
               "duration": 0,
               "easing": "linear"
              }
             }
            ],
            "label": "2023-05-22 14:21:17.240000",
            "method": "animate"
           },
           {
            "args": [
             [
              "2023-05-22 14:21:17.368815"
             ],
             {
              "frame": {
               "duration": 0,
               "redraw": false
              },
              "fromcurrent": true,
              "mode": "immediate",
              "transition": {
               "duration": 0,
               "easing": "linear"
              }
             }
            ],
            "label": "2023-05-22 14:21:17.368815",
            "method": "animate"
           },
           {
            "args": [
             [
              "2023-05-22 14:21:17.497936"
             ],
             {
              "frame": {
               "duration": 0,
               "redraw": false
              },
              "fromcurrent": true,
              "mode": "immediate",
              "transition": {
               "duration": 0,
               "easing": "linear"
              }
             }
            ],
            "label": "2023-05-22 14:21:17.497936",
            "method": "animate"
           },
           {
            "args": [
             [
              "2023-05-22 14:21:17.626717"
             ],
             {
              "frame": {
               "duration": 0,
               "redraw": false
              },
              "fromcurrent": true,
              "mode": "immediate",
              "transition": {
               "duration": 0,
               "easing": "linear"
              }
             }
            ],
            "label": "2023-05-22 14:21:17.626717",
            "method": "animate"
           },
           {
            "args": [
             [
              "2023-05-22 14:21:17.755660"
             ],
             {
              "frame": {
               "duration": 0,
               "redraw": false
              },
              "fromcurrent": true,
              "mode": "immediate",
              "transition": {
               "duration": 0,
               "easing": "linear"
              }
             }
            ],
            "label": "2023-05-22 14:21:17.755660",
            "method": "animate"
           },
           {
            "args": [
             [
              "2023-05-22 14:21:17.884562"
             ],
             {
              "frame": {
               "duration": 0,
               "redraw": false
              },
              "fromcurrent": true,
              "mode": "immediate",
              "transition": {
               "duration": 0,
               "easing": "linear"
              }
             }
            ],
            "label": "2023-05-22 14:21:17.884562",
            "method": "animate"
           },
           {
            "args": [
             [
              "2023-05-22 14:21:18.013487"
             ],
             {
              "frame": {
               "duration": 0,
               "redraw": false
              },
              "fromcurrent": true,
              "mode": "immediate",
              "transition": {
               "duration": 0,
               "easing": "linear"
              }
             }
            ],
            "label": "2023-05-22 14:21:18.013487",
            "method": "animate"
           },
           {
            "args": [
             [
              "2023-05-22 14:21:18.142490"
             ],
             {
              "frame": {
               "duration": 0,
               "redraw": false
              },
              "fromcurrent": true,
              "mode": "immediate",
              "transition": {
               "duration": 0,
               "easing": "linear"
              }
             }
            ],
            "label": "2023-05-22 14:21:18.142490",
            "method": "animate"
           },
           {
            "args": [
             [
              "2023-05-22 14:21:18.271434"
             ],
             {
              "frame": {
               "duration": 0,
               "redraw": false
              },
              "fromcurrent": true,
              "mode": "immediate",
              "transition": {
               "duration": 0,
               "easing": "linear"
              }
             }
            ],
            "label": "2023-05-22 14:21:18.271434",
            "method": "animate"
           },
           {
            "args": [
             [
              "2023-05-22 14:21:18.400433"
             ],
             {
              "frame": {
               "duration": 0,
               "redraw": false
              },
              "fromcurrent": true,
              "mode": "immediate",
              "transition": {
               "duration": 0,
               "easing": "linear"
              }
             }
            ],
            "label": "2023-05-22 14:21:18.400433",
            "method": "animate"
           },
           {
            "args": [
             [
              "2023-05-22 14:21:18.529455"
             ],
             {
              "frame": {
               "duration": 0,
               "redraw": false
              },
              "fromcurrent": true,
              "mode": "immediate",
              "transition": {
               "duration": 0,
               "easing": "linear"
              }
             }
            ],
            "label": "2023-05-22 14:21:18.529455",
            "method": "animate"
           },
           {
            "args": [
             [
              "2023-05-22 14:21:18.658106"
             ],
             {
              "frame": {
               "duration": 0,
               "redraw": false
              },
              "fromcurrent": true,
              "mode": "immediate",
              "transition": {
               "duration": 0,
               "easing": "linear"
              }
             }
            ],
            "label": "2023-05-22 14:21:18.658106",
            "method": "animate"
           },
           {
            "args": [
             [
              "2023-05-22 14:21:18.786828"
             ],
             {
              "frame": {
               "duration": 0,
               "redraw": false
              },
              "fromcurrent": true,
              "mode": "immediate",
              "transition": {
               "duration": 0,
               "easing": "linear"
              }
             }
            ],
            "label": "2023-05-22 14:21:18.786828",
            "method": "animate"
           },
           {
            "args": [
             [
              "2023-05-22 14:21:18.915779"
             ],
             {
              "frame": {
               "duration": 0,
               "redraw": false
              },
              "fromcurrent": true,
              "mode": "immediate",
              "transition": {
               "duration": 0,
               "easing": "linear"
              }
             }
            ],
            "label": "2023-05-22 14:21:18.915779",
            "method": "animate"
           },
           {
            "args": [
             [
              "2023-05-22 14:21:19.044574"
             ],
             {
              "frame": {
               "duration": 0,
               "redraw": false
              },
              "fromcurrent": true,
              "mode": "immediate",
              "transition": {
               "duration": 0,
               "easing": "linear"
              }
             }
            ],
            "label": "2023-05-22 14:21:19.044574",
            "method": "animate"
           },
           {
            "args": [
             [
              "2023-05-22 14:21:19.173395"
             ],
             {
              "frame": {
               "duration": 0,
               "redraw": false
              },
              "fromcurrent": true,
              "mode": "immediate",
              "transition": {
               "duration": 0,
               "easing": "linear"
              }
             }
            ],
            "label": "2023-05-22 14:21:19.173395",
            "method": "animate"
           },
           {
            "args": [
             [
              "2023-05-22 14:21:19.302323"
             ],
             {
              "frame": {
               "duration": 0,
               "redraw": false
              },
              "fromcurrent": true,
              "mode": "immediate",
              "transition": {
               "duration": 0,
               "easing": "linear"
              }
             }
            ],
            "label": "2023-05-22 14:21:19.302323",
            "method": "animate"
           },
           {
            "args": [
             [
              "2023-05-22 14:21:19.431197"
             ],
             {
              "frame": {
               "duration": 0,
               "redraw": false
              },
              "fromcurrent": true,
              "mode": "immediate",
              "transition": {
               "duration": 0,
               "easing": "linear"
              }
             }
            ],
            "label": "2023-05-22 14:21:19.431197",
            "method": "animate"
           },
           {
            "args": [
             [
              "2023-05-22 14:21:19.560045"
             ],
             {
              "frame": {
               "duration": 0,
               "redraw": false
              },
              "fromcurrent": true,
              "mode": "immediate",
              "transition": {
               "duration": 0,
               "easing": "linear"
              }
             }
            ],
            "label": "2023-05-22 14:21:19.560045",
            "method": "animate"
           },
           {
            "args": [
             [
              "2023-05-22 14:21:19.688766"
             ],
             {
              "frame": {
               "duration": 0,
               "redraw": false
              },
              "fromcurrent": true,
              "mode": "immediate",
              "transition": {
               "duration": 0,
               "easing": "linear"
              }
             }
            ],
            "label": "2023-05-22 14:21:19.688766",
            "method": "animate"
           },
           {
            "args": [
             [
              "2023-05-22 14:21:19.817542"
             ],
             {
              "frame": {
               "duration": 0,
               "redraw": false
              },
              "fromcurrent": true,
              "mode": "immediate",
              "transition": {
               "duration": 0,
               "easing": "linear"
              }
             }
            ],
            "label": "2023-05-22 14:21:19.817542",
            "method": "animate"
           },
           {
            "args": [
             [
              "2023-05-22 14:21:19.946251"
             ],
             {
              "frame": {
               "duration": 0,
               "redraw": false
              },
              "fromcurrent": true,
              "mode": "immediate",
              "transition": {
               "duration": 0,
               "easing": "linear"
              }
             }
            ],
            "label": "2023-05-22 14:21:19.946251",
            "method": "animate"
           },
           {
            "args": [
             [
              "2023-05-22 14:21:20.074842"
             ],
             {
              "frame": {
               "duration": 0,
               "redraw": false
              },
              "fromcurrent": true,
              "mode": "immediate",
              "transition": {
               "duration": 0,
               "easing": "linear"
              }
             }
            ],
            "label": "2023-05-22 14:21:20.074842",
            "method": "animate"
           },
           {
            "args": [
             [
              "2023-05-22 14:21:20.203361"
             ],
             {
              "frame": {
               "duration": 0,
               "redraw": false
              },
              "fromcurrent": true,
              "mode": "immediate",
              "transition": {
               "duration": 0,
               "easing": "linear"
              }
             }
            ],
            "label": "2023-05-22 14:21:20.203361",
            "method": "animate"
           },
           {
            "args": [
             [
              "2023-05-22 14:21:20.332065"
             ],
             {
              "frame": {
               "duration": 0,
               "redraw": false
              },
              "fromcurrent": true,
              "mode": "immediate",
              "transition": {
               "duration": 0,
               "easing": "linear"
              }
             }
            ],
            "label": "2023-05-22 14:21:20.332065",
            "method": "animate"
           },
           {
            "args": [
             [
              "2023-05-22 14:21:20.460833"
             ],
             {
              "frame": {
               "duration": 0,
               "redraw": false
              },
              "fromcurrent": true,
              "mode": "immediate",
              "transition": {
               "duration": 0,
               "easing": "linear"
              }
             }
            ],
            "label": "2023-05-22 14:21:20.460833",
            "method": "animate"
           }
          ],
          "x": 0.1,
          "xanchor": "left",
          "y": 0,
          "yanchor": "top"
         }
        ],
        "template": {
         "data": {
          "bar": [
           {
            "error_x": {
             "color": "#2a3f5f"
            },
            "error_y": {
             "color": "#2a3f5f"
            },
            "marker": {
             "line": {
              "color": "#E5ECF6",
              "width": 0.5
             },
             "pattern": {
              "fillmode": "overlay",
              "size": 10,
              "solidity": 0.2
             }
            },
            "type": "bar"
           }
          ],
          "barpolar": [
           {
            "marker": {
             "line": {
              "color": "#E5ECF6",
              "width": 0.5
             },
             "pattern": {
              "fillmode": "overlay",
              "size": 10,
              "solidity": 0.2
             }
            },
            "type": "barpolar"
           }
          ],
          "carpet": [
           {
            "aaxis": {
             "endlinecolor": "#2a3f5f",
             "gridcolor": "white",
             "linecolor": "white",
             "minorgridcolor": "white",
             "startlinecolor": "#2a3f5f"
            },
            "baxis": {
             "endlinecolor": "#2a3f5f",
             "gridcolor": "white",
             "linecolor": "white",
             "minorgridcolor": "white",
             "startlinecolor": "#2a3f5f"
            },
            "type": "carpet"
           }
          ],
          "choropleth": [
           {
            "colorbar": {
             "outlinewidth": 0,
             "ticks": ""
            },
            "type": "choropleth"
           }
          ],
          "contour": [
           {
            "colorbar": {
             "outlinewidth": 0,
             "ticks": ""
            },
            "colorscale": [
             [
              0,
              "#0d0887"
             ],
             [
              0.1111111111111111,
              "#46039f"
             ],
             [
              0.2222222222222222,
              "#7201a8"
             ],
             [
              0.3333333333333333,
              "#9c179e"
             ],
             [
              0.4444444444444444,
              "#bd3786"
             ],
             [
              0.5555555555555556,
              "#d8576b"
             ],
             [
              0.6666666666666666,
              "#ed7953"
             ],
             [
              0.7777777777777778,
              "#fb9f3a"
             ],
             [
              0.8888888888888888,
              "#fdca26"
             ],
             [
              1,
              "#f0f921"
             ]
            ],
            "type": "contour"
           }
          ],
          "contourcarpet": [
           {
            "colorbar": {
             "outlinewidth": 0,
             "ticks": ""
            },
            "type": "contourcarpet"
           }
          ],
          "heatmap": [
           {
            "colorbar": {
             "outlinewidth": 0,
             "ticks": ""
            },
            "colorscale": [
             [
              0,
              "#0d0887"
             ],
             [
              0.1111111111111111,
              "#46039f"
             ],
             [
              0.2222222222222222,
              "#7201a8"
             ],
             [
              0.3333333333333333,
              "#9c179e"
             ],
             [
              0.4444444444444444,
              "#bd3786"
             ],
             [
              0.5555555555555556,
              "#d8576b"
             ],
             [
              0.6666666666666666,
              "#ed7953"
             ],
             [
              0.7777777777777778,
              "#fb9f3a"
             ],
             [
              0.8888888888888888,
              "#fdca26"
             ],
             [
              1,
              "#f0f921"
             ]
            ],
            "type": "heatmap"
           }
          ],
          "heatmapgl": [
           {
            "colorbar": {
             "outlinewidth": 0,
             "ticks": ""
            },
            "colorscale": [
             [
              0,
              "#0d0887"
             ],
             [
              0.1111111111111111,
              "#46039f"
             ],
             [
              0.2222222222222222,
              "#7201a8"
             ],
             [
              0.3333333333333333,
              "#9c179e"
             ],
             [
              0.4444444444444444,
              "#bd3786"
             ],
             [
              0.5555555555555556,
              "#d8576b"
             ],
             [
              0.6666666666666666,
              "#ed7953"
             ],
             [
              0.7777777777777778,
              "#fb9f3a"
             ],
             [
              0.8888888888888888,
              "#fdca26"
             ],
             [
              1,
              "#f0f921"
             ]
            ],
            "type": "heatmapgl"
           }
          ],
          "histogram": [
           {
            "marker": {
             "pattern": {
              "fillmode": "overlay",
              "size": 10,
              "solidity": 0.2
             }
            },
            "type": "histogram"
           }
          ],
          "histogram2d": [
           {
            "colorbar": {
             "outlinewidth": 0,
             "ticks": ""
            },
            "colorscale": [
             [
              0,
              "#0d0887"
             ],
             [
              0.1111111111111111,
              "#46039f"
             ],
             [
              0.2222222222222222,
              "#7201a8"
             ],
             [
              0.3333333333333333,
              "#9c179e"
             ],
             [
              0.4444444444444444,
              "#bd3786"
             ],
             [
              0.5555555555555556,
              "#d8576b"
             ],
             [
              0.6666666666666666,
              "#ed7953"
             ],
             [
              0.7777777777777778,
              "#fb9f3a"
             ],
             [
              0.8888888888888888,
              "#fdca26"
             ],
             [
              1,
              "#f0f921"
             ]
            ],
            "type": "histogram2d"
           }
          ],
          "histogram2dcontour": [
           {
            "colorbar": {
             "outlinewidth": 0,
             "ticks": ""
            },
            "colorscale": [
             [
              0,
              "#0d0887"
             ],
             [
              0.1111111111111111,
              "#46039f"
             ],
             [
              0.2222222222222222,
              "#7201a8"
             ],
             [
              0.3333333333333333,
              "#9c179e"
             ],
             [
              0.4444444444444444,
              "#bd3786"
             ],
             [
              0.5555555555555556,
              "#d8576b"
             ],
             [
              0.6666666666666666,
              "#ed7953"
             ],
             [
              0.7777777777777778,
              "#fb9f3a"
             ],
             [
              0.8888888888888888,
              "#fdca26"
             ],
             [
              1,
              "#f0f921"
             ]
            ],
            "type": "histogram2dcontour"
           }
          ],
          "mesh3d": [
           {
            "colorbar": {
             "outlinewidth": 0,
             "ticks": ""
            },
            "type": "mesh3d"
           }
          ],
          "parcoords": [
           {
            "line": {
             "colorbar": {
              "outlinewidth": 0,
              "ticks": ""
             }
            },
            "type": "parcoords"
           }
          ],
          "pie": [
           {
            "automargin": true,
            "type": "pie"
           }
          ],
          "scatter": [
           {
            "fillpattern": {
             "fillmode": "overlay",
             "size": 10,
             "solidity": 0.2
            },
            "type": "scatter"
           }
          ],
          "scatter3d": [
           {
            "line": {
             "colorbar": {
              "outlinewidth": 0,
              "ticks": ""
             }
            },
            "marker": {
             "colorbar": {
              "outlinewidth": 0,
              "ticks": ""
             }
            },
            "type": "scatter3d"
           }
          ],
          "scattercarpet": [
           {
            "marker": {
             "colorbar": {
              "outlinewidth": 0,
              "ticks": ""
             }
            },
            "type": "scattercarpet"
           }
          ],
          "scattergeo": [
           {
            "marker": {
             "colorbar": {
              "outlinewidth": 0,
              "ticks": ""
             }
            },
            "type": "scattergeo"
           }
          ],
          "scattergl": [
           {
            "marker": {
             "colorbar": {
              "outlinewidth": 0,
              "ticks": ""
             }
            },
            "type": "scattergl"
           }
          ],
          "scattermapbox": [
           {
            "marker": {
             "colorbar": {
              "outlinewidth": 0,
              "ticks": ""
             }
            },
            "type": "scattermapbox"
           }
          ],
          "scatterpolar": [
           {
            "marker": {
             "colorbar": {
              "outlinewidth": 0,
              "ticks": ""
             }
            },
            "type": "scatterpolar"
           }
          ],
          "scatterpolargl": [
           {
            "marker": {
             "colorbar": {
              "outlinewidth": 0,
              "ticks": ""
             }
            },
            "type": "scatterpolargl"
           }
          ],
          "scatterternary": [
           {
            "marker": {
             "colorbar": {
              "outlinewidth": 0,
              "ticks": ""
             }
            },
            "type": "scatterternary"
           }
          ],
          "surface": [
           {
            "colorbar": {
             "outlinewidth": 0,
             "ticks": ""
            },
            "colorscale": [
             [
              0,
              "#0d0887"
             ],
             [
              0.1111111111111111,
              "#46039f"
             ],
             [
              0.2222222222222222,
              "#7201a8"
             ],
             [
              0.3333333333333333,
              "#9c179e"
             ],
             [
              0.4444444444444444,
              "#bd3786"
             ],
             [
              0.5555555555555556,
              "#d8576b"
             ],
             [
              0.6666666666666666,
              "#ed7953"
             ],
             [
              0.7777777777777778,
              "#fb9f3a"
             ],
             [
              0.8888888888888888,
              "#fdca26"
             ],
             [
              1,
              "#f0f921"
             ]
            ],
            "type": "surface"
           }
          ],
          "table": [
           {
            "cells": {
             "fill": {
              "color": "#EBF0F8"
             },
             "line": {
              "color": "white"
             }
            },
            "header": {
             "fill": {
              "color": "#C8D4E3"
             },
             "line": {
              "color": "white"
             }
            },
            "type": "table"
           }
          ]
         },
         "layout": {
          "annotationdefaults": {
           "arrowcolor": "#2a3f5f",
           "arrowhead": 0,
           "arrowwidth": 1
          },
          "autotypenumbers": "strict",
          "coloraxis": {
           "colorbar": {
            "outlinewidth": 0,
            "ticks": ""
           }
          },
          "colorscale": {
           "diverging": [
            [
             0,
             "#8e0152"
            ],
            [
             0.1,
             "#c51b7d"
            ],
            [
             0.2,
             "#de77ae"
            ],
            [
             0.3,
             "#f1b6da"
            ],
            [
             0.4,
             "#fde0ef"
            ],
            [
             0.5,
             "#f7f7f7"
            ],
            [
             0.6,
             "#e6f5d0"
            ],
            [
             0.7,
             "#b8e186"
            ],
            [
             0.8,
             "#7fbc41"
            ],
            [
             0.9,
             "#4d9221"
            ],
            [
             1,
             "#276419"
            ]
           ],
           "sequential": [
            [
             0,
             "#0d0887"
            ],
            [
             0.1111111111111111,
             "#46039f"
            ],
            [
             0.2222222222222222,
             "#7201a8"
            ],
            [
             0.3333333333333333,
             "#9c179e"
            ],
            [
             0.4444444444444444,
             "#bd3786"
            ],
            [
             0.5555555555555556,
             "#d8576b"
            ],
            [
             0.6666666666666666,
             "#ed7953"
            ],
            [
             0.7777777777777778,
             "#fb9f3a"
            ],
            [
             0.8888888888888888,
             "#fdca26"
            ],
            [
             1,
             "#f0f921"
            ]
           ],
           "sequentialminus": [
            [
             0,
             "#0d0887"
            ],
            [
             0.1111111111111111,
             "#46039f"
            ],
            [
             0.2222222222222222,
             "#7201a8"
            ],
            [
             0.3333333333333333,
             "#9c179e"
            ],
            [
             0.4444444444444444,
             "#bd3786"
            ],
            [
             0.5555555555555556,
             "#d8576b"
            ],
            [
             0.6666666666666666,
             "#ed7953"
            ],
            [
             0.7777777777777778,
             "#fb9f3a"
            ],
            [
             0.8888888888888888,
             "#fdca26"
            ],
            [
             1,
             "#f0f921"
            ]
           ]
          },
          "colorway": [
           "#636efa",
           "#EF553B",
           "#00cc96",
           "#ab63fa",
           "#FFA15A",
           "#19d3f3",
           "#FF6692",
           "#B6E880",
           "#FF97FF",
           "#FECB52"
          ],
          "font": {
           "color": "#2a3f5f"
          },
          "geo": {
           "bgcolor": "white",
           "lakecolor": "white",
           "landcolor": "#E5ECF6",
           "showlakes": true,
           "showland": true,
           "subunitcolor": "white"
          },
          "hoverlabel": {
           "align": "left"
          },
          "hovermode": "closest",
          "mapbox": {
           "style": "light"
          },
          "paper_bgcolor": "white",
          "plot_bgcolor": "#E5ECF6",
          "polar": {
           "angularaxis": {
            "gridcolor": "white",
            "linecolor": "white",
            "ticks": ""
           },
           "bgcolor": "#E5ECF6",
           "radialaxis": {
            "gridcolor": "white",
            "linecolor": "white",
            "ticks": ""
           }
          },
          "scene": {
           "xaxis": {
            "backgroundcolor": "#E5ECF6",
            "gridcolor": "white",
            "gridwidth": 2,
            "linecolor": "white",
            "showbackground": true,
            "ticks": "",
            "zerolinecolor": "white"
           },
           "yaxis": {
            "backgroundcolor": "#E5ECF6",
            "gridcolor": "white",
            "gridwidth": 2,
            "linecolor": "white",
            "showbackground": true,
            "ticks": "",
            "zerolinecolor": "white"
           },
           "zaxis": {
            "backgroundcolor": "#E5ECF6",
            "gridcolor": "white",
            "gridwidth": 2,
            "linecolor": "white",
            "showbackground": true,
            "ticks": "",
            "zerolinecolor": "white"
           }
          },
          "shapedefaults": {
           "line": {
            "color": "#2a3f5f"
           }
          },
          "ternary": {
           "aaxis": {
            "gridcolor": "white",
            "linecolor": "white",
            "ticks": ""
           },
           "baxis": {
            "gridcolor": "white",
            "linecolor": "white",
            "ticks": ""
           },
           "bgcolor": "#E5ECF6",
           "caxis": {
            "gridcolor": "white",
            "linecolor": "white",
            "ticks": ""
           }
          },
          "title": {
           "x": 0.05
          },
          "xaxis": {
           "automargin": true,
           "gridcolor": "white",
           "linecolor": "white",
           "ticks": "",
           "title": {
            "standoff": 15
           },
           "zerolinecolor": "white",
           "zerolinewidth": 2
          },
          "yaxis": {
           "automargin": true,
           "gridcolor": "white",
           "linecolor": "white",
           "ticks": "",
           "title": {
            "standoff": 15
           },
           "zerolinecolor": "white",
           "zerolinewidth": 2
          }
         }
        },
        "updatemenus": [
         {
          "buttons": [
           {
            "args": [
             null,
             {
              "frame": {
               "duration": 500,
               "redraw": false
              },
              "fromcurrent": true,
              "mode": "immediate",
              "transition": {
               "duration": 500,
               "easing": "linear"
              }
             }
            ],
            "label": "&#9654;",
            "method": "animate"
           },
           {
            "args": [
             [
              null
             ],
             {
              "frame": {
               "duration": 0,
               "redraw": false
              },
              "fromcurrent": true,
              "mode": "immediate",
              "transition": {
               "duration": 0,
               "easing": "linear"
              }
             }
            ],
            "label": "&#9724;",
            "method": "animate"
           }
          ],
          "direction": "left",
          "pad": {
           "r": 10,
           "t": 70
          },
          "showactive": false,
          "type": "buttons",
          "x": 0.1,
          "xanchor": "right",
          "y": 0,
          "yanchor": "top"
         }
        ],
        "xaxis": {
         "anchor": "y",
         "domain": [
          0,
          1
         ],
         "range": [
          -145731.80011249322,
          22.019752337686054
         ],
         "title": {
          "text": "pos_y"
         }
        },
        "yaxis": {
         "anchor": "x",
         "domain": [
          0,
          1
         ],
         "range": [
          -457226.41813985194,
          0
         ],
         "title": {
          "text": "pos_z"
         }
        }
       }
      }
     },
     "metadata": {},
     "output_type": "display_data"
    }
   ],
   "source": [
    "px.scatter(df, x=\"pos_y\", y=\"pos_z\", animation_frame=\"timestamp\",\n",
    "            range_x=[df[\"pos_y\"].min(), df[\"pos_y\"].max()],\n",
    "            range_y=[df[\"pos_z\"].min(), df[\"pos_z\"].max()]\n",
    "            )"
   ]
  }
 ],
 "metadata": {
  "kernelspec": {
   "display_name": ".venv",
   "language": "python",
   "name": "python3"
  },
  "language_info": {
   "codemirror_mode": {
    "name": "ipython",
    "version": 3
   },
   "file_extension": ".py",
   "mimetype": "text/x-python",
   "name": "python",
   "nbconvert_exporter": "python",
   "pygments_lexer": "ipython3",
   "version": "3.11.3"
  },
  "orig_nbformat": 4
 },
 "nbformat": 4,
 "nbformat_minor": 2
}
