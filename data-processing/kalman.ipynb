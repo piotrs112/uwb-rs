{
 "cells": [
  {
   "cell_type": "code",
   "execution_count": 475,
   "metadata": {},
   "outputs": [],
   "source": [
    "import pandas as pd\n",
    "\n",
    "# filename = \"/home/piotr/Documents/mgr/uwb-rs/data-processing/data/triangulated/2023-05-24-13:52:11.266488_P3-1-6-5_normalized_high_up.csv\"\n",
    "filename = \"data/triangulated/2023-05-24-14:35:08.828772P3-1-6-5_high_los.csv\"\n",
    "df = pd.read_csv(filename)\n",
    "df[\"timestamp\"] = pd.to_datetime(df[\"timestamp\"])"
   ]
  },
  {
   "cell_type": "code",
   "execution_count": 476,
   "metadata": {},
   "outputs": [],
   "source": [
    "# Units conversion - m and m/s^2\n",
    "df[[\"x\", \"y\"]] /= 1000\n",
    "df[[\"acc_x\", \"acc_y\"]] *= 9.80665"
   ]
  },
  {
   "cell_type": "code",
   "execution_count": 477,
   "metadata": {},
   "outputs": [],
   "source": [
    "import numpy as np\n",
    "\n",
    "dt = df[\"timestamp\"].diff().mean().to_pytimedelta().microseconds/10**6\n",
    "\n",
    "F = np.matrix([[1, 0, dt**2/2, 0      ],\n",
    "               [0, 1, 0,       dt**2/2],\n",
    "               [0, 0, 1,       0      ],\n",
    "               [0, 0, 0,       1      ]])\n",
    "H = np.matrix(np.eye(4))\n",
    "\n",
    "Q = np.matrix(np.eye(4))\n",
    "R = np.matrix(np.diag([df[\"x\"].std()**2,df[\"y\"].std()**2,df[\"acc_y\"].std()**2,df[\"acc_z\"].std()**2]))\n",
    "# R = np.matrix(np.eye(4))*0.001\n",
    "P = np.matrix(np.eye(4))*10000\n",
    "x = np.matrix('0. 0. 0. 0.').T"
   ]
  },
  {
   "cell_type": "code",
   "execution_count": 478,
   "metadata": {},
   "outputs": [],
   "source": [
    "def kalman_step(x, P, measurement, R, motion, Q, F, H):\n",
    "    # UPDATE x, P based on measurement m    \n",
    "    # distance between measured and current position-belief\n",
    "    y = np.matrix(measurement).T - H * x\n",
    "    S = H * P * H.T + R  # residual convariance\n",
    "    K = P * H.T * S.I    # Kalman gain\n",
    "    x = x + K*y\n",
    "    I = np.matrix(np.eye(F.shape[0])) # identity matrix\n",
    "    P = (I - K*H)*P\n",
    "\n",
    "    # PREDICT x, P based on motion\n",
    "    x = F*x + motion\n",
    "    P = F*P*F.T + Q\n",
    "    return x, P"
   ]
  },
  {
   "cell_type": "code",
   "execution_count": 479,
   "metadata": {},
   "outputs": [],
   "source": [
    "# Delete gravity\n",
    "df[[\"acc_x\",\"acc_y\",\"acc_z\"]] -= df[[\"acc_x\",\"acc_y\",\"acc_z\"]].head(15).mean()\n",
    "data = df"
   ]
  },
  {
   "cell_type": "code",
   "execution_count": 480,
   "metadata": {},
   "outputs": [],
   "source": [
    "filtered = []\n",
    "motion = np.matrix('0. 0. 0. 0.').T\n",
    "for _, measurement in data[[\"x\", \"y\", \"acc_y\", \"acc_z\"]].iterrows():\n",
    "    measurement = measurement.to_list()\n",
    "    measurement = [measurement[0],   # x\n",
    "                   measurement[1],   # y\n",
    "                   measurement[2],   # acc_x = acc_y_devboard\n",
    "                   - measurement[3]] # acc_y = -acc_z_devboard\n",
    "    # display(measurement)\n",
    "    x, P = kalman_step(x, P, measurement, R, motion, Q, F, H)\n",
    "    filtered.append(x.tolist())\n",
    "\n",
    "filtered_pos = [[x[0], y[0]] for (x, y, _, _) in filtered]\n",
    "filtered_acc = [[x[0], y[0]] for (_, _, x, y) in filtered]"
   ]
  },
  {
   "cell_type": "code",
   "execution_count": 481,
   "metadata": {},
   "outputs": [
    {
     "data": {
      "image/png": "[encoded data removed]",
      "text/plain": [
       "<Figure size 640x480 with 1 Axes>"
      ]
     },
     "metadata": {},
     "output_type": "display_data"
    }
   ],
   "source": [
    "import matplotlib.pyplot as plt\n",
    "\n",
    "x, y = zip(*filtered_pos)\n",
    "\n",
    "plt.plot(x, y, \"r.-\")\n",
    "\n",
    "plt.plot((df.x).to_list(), (df.y).to_list(), \"g+\")\n",
    "plt.axis('equal')\n",
    "plt.axvline(1.560)\n",
    "plt.legend([\"Kalman\", \"UWB\"])\n",
    "# data[[\"acc_x\", \"acc_y\"]].plot.line()\n",
    "plt.show()"
   ]
  },
  {
   "cell_type": "code",
   "execution_count": 482,
   "metadata": {},
   "outputs": [
    {
     "data": {
      "application/vnd.plotly.v1+json": {
       "config": {
        "plotlyServerURL": "https://plot.ly"
       },
       "data": [
        {
         "hovertemplate": "variable=wide_variable_0<br>index=%{x}<br>value=%{y}<extra></extra>",
         "legendgroup": "wide_variable_0",
         "line": {
          "color": "#636efa",
          "dash": "solid"
         },
         "marker": {
          "symbol": "circle"
         },
         "mode": "lines",
         "name": "wide_variable_0",
         "orientation": "v",
         "showlegend": true,
         "type": "scatter",
         "x": [
          0,
          1,
          2,
          3,
          4,
          5,
          6,
          7,
          8,
          9,
          10,
          11,
          12,
          13,
          14,
          15,
          16,
          17,
          18,
          19,
          20,
          21,
          22,
          23,
          24,
          25,
          26,
          27,
          28,
          29,
          30,
          31,
          32,
          33,
          34,
          35,
          36,
          37,
          38,
          39,
          40,
          41,
          42,
          43,
          44,
          45,
          46,
          47,
          48,
          49,
          50,
          51,
          52,
          53,
          54,
          55,
          56,
          57,
          58,
          59,
          60,
          61,
          62,
          63,
          64,
          65,
          66,
          67,
          68,
          69,
          70,
          71,
          72,
          73,
          74,
          75,
          76,
          77,
          78,
          79,
          80,
          81,
          82,
          83,
          84,
          85,
          86,
          87
         ],
         "xaxis": "x",
         "y": [
          -3.2889968544751347,
          -1.2125032529443618,
          0.6412669698927804,
          0.6352997615430833,
          0.20378318290242387,
          -0.16192938890731168,
          -0.2631848029894164,
          0.48267693410679313,
          0.36139737448032644,
          0.33062901932215943,
          0.05338345724236687,
          0.0333139643004155,
          0.20978925811248447,
          0.5684120248458708,
          0.24537365919811077,
          0.04588158900202416,
          0.16932007058640255,
          0.5141965724100859,
          0.035128126300715046,
          -0.08822026125824602,
          0.10564530307311572,
          0.3156651701135537,
          0.4278752059874297,
          0.31858856194035995,
          -0.3356567465748043,
          -0.016182377062171904,
          0.4299148334638151,
          0.6028861014628688,
          0.5162176189232596,
          0.42823304039004856,
          0.2453086407248884,
          -0.10747208736188563,
          -0.016059730164986977,
          -0.04321761455879146,
          -0.44343067495455807,
          -0.26270325658073007,
          -0.1441088876932413,
          0.025002442926419594,
          0.039850376876137086,
          0.007878908262473575,
          -0.036879084272329866,
          -0.3323402434337967,
          0.07201492914800756,
          0.25600047777920176,
          0.5070709526275025,
          -0.025351047531715687,
          0.04155112710902818,
          -0.07224951766533419,
          -0.37816157064261613,
          -0.36225454313533245,
          -0.3072791749722704,
          0.2600819028893627,
          0.012953158233183326,
          0.5389666713106313,
          0.04093931811105539,
          0.27683042419868786,
          0.07546372340080948,
          0.30763568272798114,
          0.25080575169213487,
          0.4763963618030864,
          0.7455090695627493,
          -0.24087048717197979,
          0.26980806276150926,
          0.2553372826928092,
          0.3828436211080512,
          0.6265393978899549,
          0.24531593580884692,
          0.9114603280937542,
          0.5587632593380712,
          0.4536667827420451,
          0.26659175568102733,
          0.5165603000655686,
          0.740810506359094,
          0.04840759821359719,
          0.2127598718204976,
          0.9544154071881501,
          -0.05528409434135795,
          -0.13989960093078196,
          -2.141835820909818,
          -0.6917059435088195,
          0.038420311649261185,
          1.077436787059457,
          1.1407573182243052,
          1.826193394168833,
          0.43759537821154026,
          0.16759276406615775,
          0.10556948632020668,
          0.08968479591737506
         ],
         "yaxis": "y"
        },
        {
         "hovertemplate": "variable=wide_variable_1<br>index=%{x}<br>value=%{y}<extra></extra>",
         "legendgroup": "wide_variable_1",
         "line": {
          "color": "#EF553B",
          "dash": "solid"
         },
         "marker": {
          "symbol": "circle"
         },
         "mode": "lines",
         "name": "wide_variable_1",
         "orientation": "v",
         "showlegend": true,
         "type": "scatter",
         "x": [
          0,
          1,
          2,
          3,
          4,
          5,
          6,
          7,
          8,
          9,
          10,
          11,
          12,
          13,
          14,
          15,
          16,
          17,
          18,
          19,
          20,
          21,
          22,
          23,
          24,
          25,
          26,
          27,
          28,
          29,
          30,
          31,
          32,
          33,
          34,
          35,
          36,
          37,
          38,
          39,
          40,
          41,
          42,
          43,
          44,
          45,
          46,
          47,
          48,
          49,
          50,
          51,
          52,
          53,
          54,
          55,
          56,
          57,
          58,
          59,
          60,
          61,
          62,
          63,
          64,
          65,
          66,
          67,
          68,
          69,
          70,
          71,
          72,
          73,
          74,
          75,
          76,
          77,
          78,
          79,
          80,
          81,
          82,
          83,
          84,
          85,
          86,
          87
         ],
         "xaxis": "x",
         "y": [
          0.0005999991490218535,
          0.1132550049819972,
          0.004931758019894483,
          -0.046243267479416,
          -0.015494154072977669,
          -0.0014430201431953789,
          0.058416685812705885,
          0.06358417699906563,
          0.004780067144289572,
          -0.06319188414565785,
          -0.04046963173670553,
          -0.0035132223205225632,
          -0.05025688682715123,
          -0.04242404229711964,
          0.017416686217579073,
          -0.05517773579158201,
          -0.01851233912029706,
          -0.05329353682384365,
          -0.10225012196378264,
          -0.06152476868185602,
          -0.06937600410749485,
          -0.06341829820317371,
          -0.06738789219075926,
          -0.08733895440655026,
          -0.0784273432788734,
          -0.04948868051850529,
          -0.12417133655620193,
          -0.07853980070588126,
          -0.0754096334903634,
          -0.041503880888793504,
          -0.0832721230032557,
          -0.01361335920774992,
          -0.02536404605518479,
          -0.03536938979726667,
          -0.07527783089569719,
          -0.11926536132246454,
          -0.05758898718335359,
          -0.06537624384882477,
          -0.07836028379292305,
          -0.05746397594062656,
          -0.005558915747565313,
          -0.042287483448827094,
          -0.06134160805607458,
          -0.07336313456288407,
          -0.03651278991414918,
          0.018431797739091177,
          -0.013302757664388515,
          -0.08119204386872785,
          0.016301464215321984,
          0.026568588484026837,
          0.01363962364163575,
          -0.0691464274455305,
          -0.08435338112555761,
          -0.03255856562056677,
          -0.052339370546313956,
          0.004426203024032807,
          -0.04923562261909762,
          -0.07332618418006041,
          -0.01258597366167677,
          -0.05128145247430893,
          -0.014512559031373072,
          -0.04131785746791024,
          -0.0633325310698048,
          -0.021527970145782574,
          -0.012427821738821397,
          -0.021372559216953843,
          -0.05230522823161513,
          -0.04841188108627389,
          -0.02945799592821709,
          -0.049339074956274584,
          0.03733458988160994,
          0.041587012067740896,
          0.05057252336866151,
          0.003743479308825473,
          0.05045698120637238,
          0.07552325819165903,
          0.019770738414726215,
          -0.02127432426022921,
          -0.11910044377050104,
          -0.2539869358204381,
          -0.14074681060079347,
          -0.07460257224132076,
          -0.21297624402388915,
          0.02985633973760285,
          -0.04616717010472482,
          -0.03742674865136801,
          -0.04836648181799163,
          -0.040424313163155506
         ],
         "yaxis": "y"
        },
        {
         "hovertemplate": "variable=wide_variable_2<br>index=%{x}<br>value=%{y}<extra></extra>",
         "legendgroup": "wide_variable_2",
         "line": {
          "color": "#00cc96",
          "dash": "solid"
         },
         "marker": {
          "symbol": "circle"
         },
         "mode": "lines",
         "name": "wide_variable_2",
         "orientation": "v",
         "showlegend": true,
         "type": "scatter",
         "x": [
          0,
          1,
          2,
          3,
          4,
          5,
          6,
          7,
          8,
          9,
          10,
          11,
          12,
          13,
          14,
          15,
          16,
          17,
          18,
          19,
          20,
          21,
          22,
          23,
          24,
          25,
          26,
          27,
          28,
          29,
          30,
          31,
          32,
          33,
          34,
          35,
          36,
          37,
          38,
          39,
          40,
          41,
          42,
          43,
          44,
          45,
          46,
          47,
          48,
          49,
          50,
          51,
          52,
          53,
          54,
          55,
          56,
          57,
          58,
          59,
          60,
          61,
          62,
          63,
          64,
          65,
          66,
          67,
          68,
          69,
          70,
          71,
          72,
          73,
          74,
          75,
          76,
          77,
          78,
          79,
          80,
          81,
          82,
          83,
          84,
          85,
          86,
          87
         ],
         "xaxis": "x",
         "y": [
          0.6112807910673315,
          -1.5559882705336676,
          -0.4772573589326683,
          0.5328275910673312,
          -0.10460367826766692,
          0.2974689717323322,
          -0.44783701666666786,
          -0.33996425893266746,
          0.7681871910673319,
          0.03268844106733226,
          0.1699825217323312,
          0.1307549410673321,
          0.12094927173233216,
          0.1994024717323324,
          0.06210839106733168,
          0.03268844106733226,
          -0.00653815893266696,
          0.2288224217323318,
          0.28766134106733254,
          0.3366945910673316,
          0.052302721732333524,
          0.03268844106733226,
          0.3563078910673312,
          -0.09479800893266876,
          0.24843572173233142,
          0.1307549410673321,
          0.12094927173233216,
          0.31708129106733196,
          0.45437537173233267,
          0.26804804106733293,
          0.21901479106733213,
          -0.25170342826766756,
          0.08172169106733129,
          -0.25170342826766756,
          0.31708129106733196,
          0.1895948410673327,
          0.17978917173233278,
          0.20920814106733232,
          0.30727464106733215,
          0.24843572173233142,
          -0.11441130893266838,
          -0.016344808932668542,
          0.2778556717323326,
          0.26804804106733293,
          0.31708129106733196,
          -0.38899750893266827,
          0.02288277173233233,
          0.6014751217323315,
          -0.09479800893266876,
          -0.27131672826766895,
          0.013075141067332652,
          0.4249554217323315,
          0.1405615910673319,
          0.1699825217323312,
          0.23862809106733174,
          -0.3301566282676678,
          0.1994024717323324,
          0.3563078910673312,
          0.04249509106733207,
          -0.00653815893266696,
          0.28766134106733254,
          0.1405615910673319,
          0.4347610910673314,
          0.15036922173233336,
          -0.035958108932668154,
          -0.0261504782676667,
          0.3366945910673316,
          0.26804804106733293,
          0.23862809106733174,
          0.6308940910673329,
          0.1307549410673321,
          0.013075141067332652,
          -0.1634445589326674,
          0.013075141067332652,
          -0.25170342826766756,
          -0.6831965186001678,
          -0.11441130893266838,
          -0.9185560205336678,
          -0.27131672826766895,
          0.444567741067333,
          0.944706891067332,
          0.444567741067333,
          0.4347610910673314,
          0.013075141067332652,
          0.1405615910673319,
          0.1699825217323312,
          0.06210839106733168,
          0.12094927173233216
         ],
         "yaxis": "y"
        },
        {
         "hovertemplate": "variable=wide_variable_3<br>index=%{x}<br>value=%{y}<extra></extra>",
         "legendgroup": "wide_variable_3",
         "line": {
          "color": "#ab63fa",
          "dash": "solid"
         },
         "marker": {
          "symbol": "circle"
         },
         "mode": "lines",
         "name": "wide_variable_3",
         "orientation": "v",
         "showlegend": true,
         "type": "scatter",
         "x": [
          0,
          1,
          2,
          3,
          4,
          5,
          6,
          7,
          8,
          9,
          10,
          11,
          12,
          13,
          14,
          15,
          16,
          17,
          18,
          19,
          20,
          21,
          22,
          23,
          24,
          25,
          26,
          27,
          28,
          29,
          30,
          31,
          32,
          33,
          34,
          35,
          36,
          37,
          38,
          39,
          40,
          41,
          42,
          43,
          44,
          45,
          46,
          47,
          48,
          49,
          50,
          51,
          52,
          53,
          54,
          55,
          56,
          57,
          58,
          59,
          60,
          61,
          62,
          63,
          64,
          65,
          66,
          67,
          68,
          69,
          70,
          71,
          72,
          73,
          74,
          75,
          76,
          77,
          78,
          79,
          80,
          81,
          82,
          83,
          84,
          85,
          86,
          87
         ],
         "xaxis": "x",
         "y": [
          -3.289150585865923,
          -0.5530951377994233,
          1.2807485691069767,
          0.6335096200737266,
          0.05491725046042667,
          -0.28831553876617333,
          -0.29812213973292334,
          0.7413827896870266,
          0.31969681026707664,
          0.31969681026707664,
          -0.04314926915287337,
          0.025497310267076634,
          0.2706635602670766,
          0.6923495102670767,
          0.13337044065377662,
          -0.02353596915287337,
          0.2118236602670766,
          0.6335096200737266,
          -0.13140910934622335,
          -0.13140910934622335,
          0.17259705046042662,
          0.3883433602670766,
          0.4667965602670766,
          0.28047021026707664,
          -0.5629016897329233,
          0.09414386026707666,
          0.5844763602670766,
          0.6629295602670766,
          0.4864098602670766,
          0.3981500141897366,
          0.1824037102670766,
          -0.22947562895952334,
          0.015690660267076606,
          -0.05295588973292337,
          -0.5825150485728233,
          -0.2000556397329234,
          -0.10198917895952336,
          0.08433721026707663,
          0.04511060046042664,
          -0.003922659346223378,
          -0.05295588973292337,
          -0.43541529857282335,
          0.2118236602670766,
          0.31969681026707664,
          0.5942830102670766,
          -0.2098623289595234,
          0.06472390046042664,
          -0.11179580934622335,
          -0.4844484897329234,
          -0.35696207895952337,
          -0.28831553876617333,
          0.45698992007372663,
          -0.07256918973292331,
          0.7217694896870266,
          -0.13140910934622335,
          0.35892341026707664,
          0.005884010267076578,
          0.3883433602670766,
          0.2314369602670766,
          0.5550564298803766,
          0.8394492602670767,
          -0.5825150485728233,
          0.4471832700737266,
          0.2510502504604266,
          0.4275699602670766,
          0.7119628102670765,
          0.1137571602670766,
          1.1434554102670766,
          0.43737662007372663,
          0.4177633102670766,
          0.20201700046042662,
          0.6040896602670766,
          0.8198359602670766,
          -0.1902490191528734,
          0.2706635602670766,
          1.2121020583335764,
          -0.40599538779942324,
          -0.17063571915287334,
          -2.838044685865923,
          -0.1902490191528734,
          0.2902768602670766,
          1.4376550083335764,
          1.1630687494936764,
          2.065280608333577,
          -0.04314926915287337,
          0.0745305602670766,
          0.08433721026707663,
          0.08433721026707663
         ],
         "yaxis": "y"
        }
       ],
       "layout": {
        "legend": {
         "title": {
          "text": "variable"
         },
         "tracegroupgap": 0
        },
        "margin": {
         "t": 60
        },
        "template": {
         "data": {
          "bar": [
           {
            "error_x": {
             "color": "#2a3f5f"
            },
            "error_y": {
             "color": "#2a3f5f"
            },
            "marker": {
             "line": {
              "color": "#E5ECF6",
              "width": 0.5
             },
             "pattern": {
              "fillmode": "overlay",
              "size": 10,
              "solidity": 0.2
             }
            },
            "type": "bar"
           }
          ],
          "barpolar": [
           {
            "marker": {
             "line": {
              "color": "#E5ECF6",
              "width": 0.5
             },
             "pattern": {
              "fillmode": "overlay",
              "size": 10,
              "solidity": 0.2
             }
            },
            "type": "barpolar"
           }
          ],
          "carpet": [
           {
            "aaxis": {
             "endlinecolor": "#2a3f5f",
             "gridcolor": "white",
             "linecolor": "white",
             "minorgridcolor": "white",
             "startlinecolor": "#2a3f5f"
            },
            "baxis": {
             "endlinecolor": "#2a3f5f",
             "gridcolor": "white",
             "linecolor": "white",
             "minorgridcolor": "white",
             "startlinecolor": "#2a3f5f"
            },
            "type": "carpet"
           }
          ],
          "choropleth": [
           {
            "colorbar": {
             "outlinewidth": 0,
             "ticks": ""
            },
            "type": "choropleth"
           }
          ],
          "contour": [
           {
            "colorbar": {
             "outlinewidth": 0,
             "ticks": ""
            },
            "colorscale": [
             [
              0,
              "#0d0887"
             ],
             [
              0.1111111111111111,
              "#46039f"
             ],
             [
              0.2222222222222222,
              "#7201a8"
             ],
             [
              0.3333333333333333,
              "#9c179e"
             ],
             [
              0.4444444444444444,
              "#bd3786"
             ],
             [
              0.5555555555555556,
              "#d8576b"
             ],
             [
              0.6666666666666666,
              "#ed7953"
             ],
             [
              0.7777777777777778,
              "#fb9f3a"
             ],
             [
              0.8888888888888888,
              "#fdca26"
             ],
             [
              1,
              "#f0f921"
             ]
            ],
            "type": "contour"
           }
          ],
          "contourcarpet": [
           {
            "colorbar": {
             "outlinewidth": 0,
             "ticks": ""
            },
            "type": "contourcarpet"
           }
          ],
          "heatmap": [
           {
            "colorbar": {
             "outlinewidth": 0,
             "ticks": ""
            },
            "colorscale": [
             [
              0,
              "#0d0887"
             ],
             [
              0.1111111111111111,
              "#46039f"
             ],
             [
              0.2222222222222222,
              "#7201a8"
             ],
             [
              0.3333333333333333,
              "#9c179e"
             ],
             [
              0.4444444444444444,
              "#bd3786"
             ],
             [
              0.5555555555555556,
              "#d8576b"
             ],
             [
              0.6666666666666666,
              "#ed7953"
             ],
             [
              0.7777777777777778,
              "#fb9f3a"
             ],
             [
              0.8888888888888888,
              "#fdca26"
             ],
             [
              1,
              "#f0f921"
             ]
            ],
            "type": "heatmap"
           }
          ],
          "heatmapgl": [
           {
            "colorbar": {
             "outlinewidth": 0,
             "ticks": ""
            },
            "colorscale": [
             [
              0,
              "#0d0887"
             ],
             [
              0.1111111111111111,
              "#46039f"
             ],
             [
              0.2222222222222222,
              "#7201a8"
             ],
             [
              0.3333333333333333,
              "#9c179e"
             ],
             [
              0.4444444444444444,
              "#bd3786"
             ],
             [
              0.5555555555555556,
              "#d8576b"
             ],
             [
              0.6666666666666666,
              "#ed7953"
             ],
             [
              0.7777777777777778,
              "#fb9f3a"
             ],
             [
              0.8888888888888888,
              "#fdca26"
             ],
             [
              1,
              "#f0f921"
             ]
            ],
            "type": "heatmapgl"
           }
          ],
          "histogram": [
           {
            "marker": {
             "pattern": {
              "fillmode": "overlay",
              "size": 10,
              "solidity": 0.2
             }
            },
            "type": "histogram"
           }
          ],
          "histogram2d": [
           {
            "colorbar": {
             "outlinewidth": 0,
             "ticks": ""
            },
            "colorscale": [
             [
              0,
              "#0d0887"
             ],
             [
              0.1111111111111111,
              "#46039f"
             ],
             [
              0.2222222222222222,
              "#7201a8"
             ],
             [
              0.3333333333333333,
              "#9c179e"
             ],
             [
              0.4444444444444444,
              "#bd3786"
             ],
             [
              0.5555555555555556,
              "#d8576b"
             ],
             [
              0.6666666666666666,
              "#ed7953"
             ],
             [
              0.7777777777777778,
              "#fb9f3a"
             ],
             [
              0.8888888888888888,
              "#fdca26"
             ],
             [
              1,
              "#f0f921"
             ]
            ],
            "type": "histogram2d"
           }
          ],
          "histogram2dcontour": [
           {
            "colorbar": {
             "outlinewidth": 0,
             "ticks": ""
            },
            "colorscale": [
             [
              0,
              "#0d0887"
             ],
             [
              0.1111111111111111,
              "#46039f"
             ],
             [
              0.2222222222222222,
              "#7201a8"
             ],
             [
              0.3333333333333333,
              "#9c179e"
             ],
             [
              0.4444444444444444,
              "#bd3786"
             ],
             [
              0.5555555555555556,
              "#d8576b"
             ],
             [
              0.6666666666666666,
              "#ed7953"
             ],
             [
              0.7777777777777778,
              "#fb9f3a"
             ],
             [
              0.8888888888888888,
              "#fdca26"
             ],
             [
              1,
              "#f0f921"
             ]
            ],
            "type": "histogram2dcontour"
           }
          ],
          "mesh3d": [
           {
            "colorbar": {
             "outlinewidth": 0,
             "ticks": ""
            },
            "type": "mesh3d"
           }
          ],
          "parcoords": [
           {
            "line": {
             "colorbar": {
              "outlinewidth": 0,
              "ticks": ""
             }
            },
            "type": "parcoords"
           }
          ],
          "pie": [
           {
            "automargin": true,
            "type": "pie"
           }
          ],
          "scatter": [
           {
            "fillpattern": {
             "fillmode": "overlay",
             "size": 10,
             "solidity": 0.2
            },
            "type": "scatter"
           }
          ],
          "scatter3d": [
           {
            "line": {
             "colorbar": {
              "outlinewidth": 0,
              "ticks": ""
             }
            },
            "marker": {
             "colorbar": {
              "outlinewidth": 0,
              "ticks": ""
             }
            },
            "type": "scatter3d"
           }
          ],
          "scattercarpet": [
           {
            "marker": {
             "colorbar": {
              "outlinewidth": 0,
              "ticks": ""
             }
            },
            "type": "scattercarpet"
           }
          ],
          "scattergeo": [
           {
            "marker": {
             "colorbar": {
              "outlinewidth": 0,
              "ticks": ""
             }
            },
            "type": "scattergeo"
           }
          ],
          "scattergl": [
           {
            "marker": {
             "colorbar": {
              "outlinewidth": 0,
              "ticks": ""
             }
            },
            "type": "scattergl"
           }
          ],
          "scattermapbox": [
           {
            "marker": {
             "colorbar": {
              "outlinewidth": 0,
              "ticks": ""
             }
            },
            "type": "scattermapbox"
           }
          ],
          "scatterpolar": [
           {
            "marker": {
             "colorbar": {
              "outlinewidth": 0,
              "ticks": ""
             }
            },
            "type": "scatterpolar"
           }
          ],
          "scatterpolargl": [
           {
            "marker": {
             "colorbar": {
              "outlinewidth": 0,
              "ticks": ""
             }
            },
            "type": "scatterpolargl"
           }
          ],
          "scatterternary": [
           {
            "marker": {
             "colorbar": {
              "outlinewidth": 0,
              "ticks": ""
             }
            },
            "type": "scatterternary"
           }
          ],
          "surface": [
           {
            "colorbar": {
             "outlinewidth": 0,
             "ticks": ""
            },
            "colorscale": [
             [
              0,
              "#0d0887"
             ],
             [
              0.1111111111111111,
              "#46039f"
             ],
             [
              0.2222222222222222,
              "#7201a8"
             ],
             [
              0.3333333333333333,
              "#9c179e"
             ],
             [
              0.4444444444444444,
              "#bd3786"
             ],
             [
              0.5555555555555556,
              "#d8576b"
             ],
             [
              0.6666666666666666,
              "#ed7953"
             ],
             [
              0.7777777777777778,
              "#fb9f3a"
             ],
             [
              0.8888888888888888,
              "#fdca26"
             ],
             [
              1,
              "#f0f921"
             ]
            ],
            "type": "surface"
           }
          ],
          "table": [
           {
            "cells": {
             "fill": {
              "color": "#EBF0F8"
             },
             "line": {
              "color": "white"
             }
            },
            "header": {
             "fill": {
              "color": "#C8D4E3"
             },
             "line": {
              "color": "white"
             }
            },
            "type": "table"
           }
          ]
         },
         "layout": {
          "annotationdefaults": {
           "arrowcolor": "#2a3f5f",
           "arrowhead": 0,
           "arrowwidth": 1
          },
          "autotypenumbers": "strict",
          "coloraxis": {
           "colorbar": {
            "outlinewidth": 0,
            "ticks": ""
           }
          },
          "colorscale": {
           "diverging": [
            [
             0,
             "#8e0152"
            ],
            [
             0.1,
             "#c51b7d"
            ],
            [
             0.2,
             "#de77ae"
            ],
            [
             0.3,
             "#f1b6da"
            ],
            [
             0.4,
             "#fde0ef"
            ],
            [
             0.5,
             "#f7f7f7"
            ],
            [
             0.6,
             "#e6f5d0"
            ],
            [
             0.7,
             "#b8e186"
            ],
            [
             0.8,
             "#7fbc41"
            ],
            [
             0.9,
             "#4d9221"
            ],
            [
             1,
             "#276419"
            ]
           ],
           "sequential": [
            [
             0,
             "#0d0887"
            ],
            [
             0.1111111111111111,
             "#46039f"
            ],
            [
             0.2222222222222222,
             "#7201a8"
            ],
            [
             0.3333333333333333,
             "#9c179e"
            ],
            [
             0.4444444444444444,
             "#bd3786"
            ],
            [
             0.5555555555555556,
             "#d8576b"
            ],
            [
             0.6666666666666666,
             "#ed7953"
            ],
            [
             0.7777777777777778,
             "#fb9f3a"
            ],
            [
             0.8888888888888888,
             "#fdca26"
            ],
            [
             1,
             "#f0f921"
            ]
           ],
           "sequentialminus": [
            [
             0,
             "#0d0887"
            ],
            [
             0.1111111111111111,
             "#46039f"
            ],
            [
             0.2222222222222222,
             "#7201a8"
            ],
            [
             0.3333333333333333,
             "#9c179e"
            ],
            [
             0.4444444444444444,
             "#bd3786"
            ],
            [
             0.5555555555555556,
             "#d8576b"
            ],
            [
             0.6666666666666666,
             "#ed7953"
            ],
            [
             0.7777777777777778,
             "#fb9f3a"
            ],
            [
             0.8888888888888888,
             "#fdca26"
            ],
            [
             1,
             "#f0f921"
            ]
           ]
          },
          "colorway": [
           "#636efa",
           "#EF553B",
           "#00cc96",
           "#ab63fa",
           "#FFA15A",
           "#19d3f3",
           "#FF6692",
           "#B6E880",
           "#FF97FF",
           "#FECB52"
          ],
          "font": {
           "color": "#2a3f5f"
          },
          "geo": {
           "bgcolor": "white",
           "lakecolor": "white",
           "landcolor": "#E5ECF6",
           "showlakes": true,
           "showland": true,
           "subunitcolor": "white"
          },
          "hoverlabel": {
           "align": "left"
          },
          "hovermode": "closest",
          "mapbox": {
           "style": "light"
          },
          "paper_bgcolor": "white",
          "plot_bgcolor": "#E5ECF6",
          "polar": {
           "angularaxis": {
            "gridcolor": "white",
            "linecolor": "white",
            "ticks": ""
           },
           "bgcolor": "#E5ECF6",
           "radialaxis": {
            "gridcolor": "white",
            "linecolor": "white",
            "ticks": ""
           }
          },
          "scene": {
           "xaxis": {
            "backgroundcolor": "#E5ECF6",
            "gridcolor": "white",
            "gridwidth": 2,
            "linecolor": "white",
            "showbackground": true,
            "ticks": "",
            "zerolinecolor": "white"
           },
           "yaxis": {
            "backgroundcolor": "#E5ECF6",
            "gridcolor": "white",
            "gridwidth": 2,
            "linecolor": "white",
            "showbackground": true,
            "ticks": "",
            "zerolinecolor": "white"
           },
           "zaxis": {
            "backgroundcolor": "#E5ECF6",
            "gridcolor": "white",
            "gridwidth": 2,
            "linecolor": "white",
            "showbackground": true,
            "ticks": "",
            "zerolinecolor": "white"
           }
          },
          "shapedefaults": {
           "line": {
            "color": "#2a3f5f"
           }
          },
          "ternary": {
           "aaxis": {
            "gridcolor": "white",
            "linecolor": "white",
            "ticks": ""
           },
           "baxis": {
            "gridcolor": "white",
            "linecolor": "white",
            "ticks": ""
           },
           "bgcolor": "#E5ECF6",
           "caxis": {
            "gridcolor": "white",
            "linecolor": "white",
            "ticks": ""
           }
          },
          "title": {
           "x": 0.05
          },
          "xaxis": {
           "automargin": true,
           "gridcolor": "white",
           "linecolor": "white",
           "ticks": "",
           "title": {
            "standoff": 15
           },
           "zerolinecolor": "white",
           "zerolinewidth": 2
          },
          "yaxis": {
           "automargin": true,
           "gridcolor": "white",
           "linecolor": "white",
           "ticks": "",
           "title": {
            "standoff": 15
           },
           "zerolinecolor": "white",
           "zerolinewidth": 2
          }
         }
        },
        "xaxis": {
         "anchor": "y",
         "domain": [
          0,
          1
         ],
         "title": {
          "text": "index"
         }
        },
        "yaxis": {
         "anchor": "x",
         "domain": [
          0,
          1
         ],
         "title": {
          "text": "value"
         }
        }
       }
      }
     },
     "metadata": {},
     "output_type": "display_data"
    }
   ],
   "source": [
    "import plotly.express as px\n",
    "\n",
    "x, y = zip(*filtered_acc)\n",
    "px.line(y=[x, y, df.acc_x, df.acc_y])"
   ]
  },
  {
   "cell_type": "code",
   "execution_count": null,
   "metadata": {},
   "outputs": [],
   "source": []
  }
 ],
 "metadata": {
  "kernelspec": {
   "display_name": ".venv",
   "language": "python",
   "name": "python3"
  },
  "language_info": {
   "codemirror_mode": {
    "name": "ipython",
    "version": 3
   },
   "file_extension": ".py",
   "mimetype": "text/x-python",
   "name": "python",
   "nbconvert_exporter": "python",
   "pygments_lexer": "ipython3",
   "version": "3.11.3"
  },
  "orig_nbformat": 4
 },
 "nbformat": 4,
 "nbformat_minor": 2
}
