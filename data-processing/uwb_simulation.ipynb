{
 "cells": [
  {
   "cell_type": "code",
   "execution_count": 1,
   "metadata": {},
   "outputs": [],
   "source": [
    "from data.points import TAG, ANCHORS\n",
    "import math\n",
    "\n",
    "static = True\n",
    "# filename = None\n",
    "filename = \"tmp\"\n",
    "\n",
    "\n",
    "\n",
    "if static:\n",
    "    def location():\n",
    "        while True:\n",
    "            # yield (*TAG[\"P1\"], 1000)\n",
    "            yield (1500,1500, 0)\n",
    "else:\n",
    "    def location():\n",
    "        \"\"\"Circle generator\"\"\"\n",
    "        angle = 0.0\n",
    "        radius = 1000\n",
    "        center = (1500,1500)\n",
    "        height = 0\n",
    "        while True:\n",
    "            x = radius * math.cos(angle) + center[0]\n",
    "            y = radius * math.sin(angle) + center[1]\n",
    "            angle += 0.01\n",
    "            yield x, y, height\n",
    "    \n",
    "\n",
    "    def location(side_length, height, step_size, center_x=0, center_y=0):\n",
    "        half_side_length = side_length / 2\n",
    "        x = center_x - half_side_length\n",
    "        y = center_y - half_side_length\n",
    "\n",
    "        # Move along the bottom side\n",
    "        while x < center_x + half_side_length:\n",
    "            yield (x, y, height)\n",
    "            x += step_size\n",
    "\n",
    "        # Move along the right side\n",
    "        while y < center_y + half_side_length:\n",
    "            yield (x, y, height)\n",
    "            y += step_size\n",
    "\n",
    "        # Move along the top side\n",
    "        while x > center_x - half_side_length:\n",
    "            yield (x, y, height)\n",
    "            x -= step_size\n",
    "\n",
    "        # Move along the left side\n",
    "        while y > center_y - half_side_length:\n",
    "            yield (x, y, height)\n",
    "            y -= step_size\n",
    "\n"
   ]
  },
  {
   "cell_type": "code",
   "execution_count": 2,
   "metadata": {},
   "outputs": [],
   "source": [
    "samples_per_anchor = 1000\n",
    "# sigma = 250"
   ]
  },
  {
   "cell_type": "code",
   "execution_count": 3,
   "metadata": {},
   "outputs": [],
   "source": [
    "# import matplotlib.pyplot as plt\n",
    "# data = {\"x\": [], \"y\": [], \"z\": []}\n",
    "# circle = location()\n",
    "# for _ in range(samples_per_anchor):\n",
    "#     x,y,z = next(circle)\n",
    "#     print(x,y,z)\n",
    "#     data[\"x\"].append(x)\n",
    "#     data[\"y\"].append(y)\n",
    "#     data[\"z\"].append(z)\n",
    "# plt.plot(data[\"x\"], data[\"y\"])"
   ]
  },
  {
   "cell_type": "code",
   "execution_count": 4,
   "metadata": {},
   "outputs": [],
   "source": [
    "from math import sqrt\n",
    "\n",
    "def p2p_dist(ax, ay, az, bx, by, bz):\n",
    "    return sqrt((bx - ax) ** 2 + (by - ay) ** 2 + (bz-az) ** 2)"
   ]
  },
  {
   "cell_type": "code",
   "execution_count": 5,
   "metadata": {},
   "outputs": [],
   "source": [
    "# Get std from some data\n",
    "import pandas as pd\n",
    "\n",
    "stationary_data = \"data/p1/2023-07-04-21:59:08.884069living-room-p1-7.csv\"\n",
    "ref_df = pd.read_csv(stationary_data)\n",
    "sigma = ref_df[[\"distance\", \"anchor\"]].groupby(\"anchor\").std().mean()"
   ]
  },
  {
   "cell_type": "code",
   "execution_count": 6,
   "metadata": {},
   "outputs": [
    {
     "ename": "TypeError",
     "evalue": "location() takes 0 positional arguments but 5 were given",
     "output_type": "error",
     "traceback": [
      "\u001b[0;31m---------------------------------------------------------------------------\u001b[0m",
      "\u001b[0;31mTypeError\u001b[0m                                 Traceback (most recent call last)",
      "Cell \u001b[0;32mIn[6], line 5\u001b[0m\n\u001b[1;32m      2\u001b[0m \u001b[39mfrom\u001b[39;00m \u001b[39mdatetime\u001b[39;00m \u001b[39mimport\u001b[39;00m datetime, timedelta\n\u001b[1;32m      3\u001b[0m \u001b[39mfrom\u001b[39;00m \u001b[39mitertools\u001b[39;00m \u001b[39mimport\u001b[39;00m cycle\n\u001b[0;32m----> 5\u001b[0m points \u001b[39m=\u001b[39m location(\u001b[39m3500\u001b[39;49m, \u001b[39m0\u001b[39;49m, \u001b[39m20\u001b[39;49m, TAG[\u001b[39m\"\u001b[39;49m\u001b[39mP3\u001b[39;49m\u001b[39m\"\u001b[39;49m][\u001b[39m0\u001b[39;49m]\u001b[39m/\u001b[39;49m\u001b[39m2\u001b[39;49m, TAG[\u001b[39m\"\u001b[39;49m\u001b[39mP3\u001b[39;49m\u001b[39m\"\u001b[39;49m][\u001b[39m1\u001b[39;49m]\u001b[39m/\u001b[39;49m\u001b[39m2\u001b[39;49m)\n\u001b[1;32m      7\u001b[0m \u001b[39m# Unit: mm\u001b[39;00m\n\u001b[1;32m      8\u001b[0m \u001b[39m# simulate_data = lambda p1, p2: np.random.normal(p2p_dist(*p1, *p2), sigma, samples_per_anchor)\u001b[39;00m\n\u001b[1;32m      9\u001b[0m data \u001b[39m=\u001b[39m {\u001b[39m\"\u001b[39m\u001b[39manchor\u001b[39m\u001b[39m\"\u001b[39m: [], \u001b[39m\"\u001b[39m\u001b[39mdistance\u001b[39m\u001b[39m\"\u001b[39m: [], \u001b[39m\"\u001b[39m\u001b[39mreal_x\u001b[39m\u001b[39m\"\u001b[39m: [], \u001b[39m\"\u001b[39m\u001b[39mreal_y\u001b[39m\u001b[39m\"\u001b[39m: []}\n",
      "\u001b[0;31mTypeError\u001b[0m: location() takes 0 positional arguments but 5 were given"
     ]
    }
   ],
   "source": [
    "import numpy as np\n",
    "from datetime import datetime, timedelta\n",
    "from itertools import cycle\n",
    "\n",
    "points = location(3500, 0, 20, TAG[\"P3\"][0]/2, TAG[\"P3\"][1]/2)\n",
    "\n",
    "# Unit: mm\n",
    "# simulate_data = lambda p1, p2: np.random.normal(p2p_dist(*p1, *p2), sigma, samples_per_anchor)\n",
    "data = {\"anchor\": [], \"distance\": [], \"real_x\": [], \"real_y\": []}\n",
    "# data2 = {\"anchor\": [], \"distance\": []}\n",
    "# for k, v in ANCHORS.items():\n",
    "#     data[\"anchor\"].append(k)\n",
    "#     data[\"distance\"].append(simulate_data((v[0], v[1], 0), next(points)))\n",
    "\n",
    "# for round in zip(*data[\"distance\"]):\n",
    "#     for row in zip(data[\"anchor\"], round):\n",
    "#         data2[\"anchor\"].append(row[0])\n",
    "#         data2[\"distance\"].append(row[1])\n",
    "\n",
    "i = 0\n",
    "try:\n",
    "    for anchor, anchor_pos in cycle(ANCHORS.items()):\n",
    "        current_position = next(points)\n",
    "        distance = np.random.normal(p2p_dist(*current_position, *anchor_pos, 0), sigma, size=None)[0]\n",
    "        data[\"anchor\"].append(anchor)\n",
    "        data[\"distance\"].append(distance)\n",
    "        data[\"real_x\"].append(current_position[0])\n",
    "        data[\"real_y\"].append(current_position[1])\n",
    "\n",
    "        if i >= len(ANCHORS) * samples_per_anchor:\n",
    "            break\n",
    "        i += 1\n",
    "except StopIteration:\n",
    "    pass\n",
    "\n",
    "\n",
    "\n",
    "df = pd.DataFrame(data)\n",
    "df[\"los_confidence\"] = 1\n",
    "# TODO fix acc\n",
    "df[\"acc_x\"] = np.random.normal(0, sigma, len(df.index))\n",
    "df[\"acc_y\"] = np.random.normal(0, sigma, len(df.index))\n",
    "df[\"acc_z\"] = np.random.normal(0, sigma, len(df.index))\n",
    "dt = datetime.now()\n",
    "df[\"timestamp\"] = [dt + timedelta(milliseconds=i*200) for i in range(len(df.index))]\n",
    "# ,anchor,distance,instant,timestamp,acc_x,acc_y,acc_z,los_confidence,reference_distance\n",
    "\n",
    "generated_filename = f\"data/simulated/{datetime.now().isoformat()}.csv\"\n",
    "df.to_csv(f\"data/simulated/{filename}.csv\" or generated_filename)\n",
    "df"
   ]
  }
 ],
 "metadata": {
  "kernelspec": {
   "display_name": ".venv",
   "language": "python",
   "name": "python3"
  },
  "language_info": {
   "codemirror_mode": {
    "name": "ipython",
    "version": 3
   },
   "file_extension": ".py",
   "mimetype": "text/x-python",
   "name": "python",
   "nbconvert_exporter": "python",
   "pygments_lexer": "ipython3",
   "version": "3.11.3"
  },
  "orig_nbformat": 4
 },
 "nbformat": 4,
 "nbformat_minor": 2
}
