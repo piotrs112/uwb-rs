{
 "cells": [
  {
   "cell_type": "code",
   "execution_count": null,
   "metadata": {},
   "outputs": [
    {
     "ename": "",
     "evalue": "",
     "output_type": "error",
     "traceback": [
      "\u001b[1;31mThe kernel failed to start as the Python Environment '.venv' is no longer available. Consider selecting another kernel or refreshing the list of Python Environments."
     ]
    }
   ],
   "source": [
    "import pandas as pd\n",
    "import plotly.express as px\n",
    "\n",
    "data = pd.read_csv(\"2023-04-19-12:14:27.342438.csv\")\n",
    "fig = px.box(data, x=\"anchor\", y=\"distance\", points=\"all\")\n",
    "fig.show()"
   ]
  },
  {
   "cell_type": "code",
   "execution_count": null,
   "metadata": {},
   "outputs": [
    {
     "ename": "",
     "evalue": "",
     "output_type": "error",
     "traceback": [
      "\u001b[1;31mThe kernel failed to start as the Python Environment '.venv' is no longer available. Consider selecting another kernel or refreshing the list of Python Environments."
     ]
    }
   ],
   "source": [
    "df = data.drop(columns=['timestamp'])\n",
    "df.groupby([\"anchor\"]).mean()"
   ]
  },
  {
   "cell_type": "code",
   "execution_count": null,
   "metadata": {},
   "outputs": [
    {
     "ename": "",
     "evalue": "",
     "output_type": "error",
     "traceback": [
      "\u001b[1;31mThe kernel failed to start as the Python Environment '.venv' is no longer available. Consider selecting another kernel or refreshing the list of Python Environments."
     ]
    }
   ],
   "source": [
    "from coords import COORDS\n",
    "from easy_trilateration.model import *\n",
    "from easy_trilateration.least_squares import easy_least_squares  \n",
    "from easy_trilateration.graph import *\n",
    "from helpers import distance\n",
    "\n",
    "arr = [Circle(COORDS[row[\"anchor\"]][0], COORDS[row[\"anchor\"]][1], row[\"distance\"]) for index, row in df.iterrows()]\n",
    "\n",
    "# arr = [Circle(100, 100, 50),  \n",
    "# Circle(100, 50, 50),\n",
    "# Circle(50, 50, 50),\n",
    "# Circle(50, 100, 50)]\n",
    "          \n",
    "result, meta = easy_least_squares(arr)  \n",
    "print(result)\n",
    "print(distance(result.center, Point(*COORDS[\"T\"])))\n",
    "create_circle(result, target=True)  \n",
    "draw(arr)"
   ]
  }
 ],
 "metadata": {
  "kernelspec": {
   "display_name": "venv",
   "language": "python",
   "name": "python3"
  },
  "language_info": {
   "codemirror_mode": {
    "name": "ipython",
    "version": 3
   },
   "file_extension": ".py",
   "mimetype": "text/x-python",
   "name": "python",
   "nbconvert_exporter": "python",
   "pygments_lexer": "ipython3",
   "version": "3.11.3"
  },
  "orig_nbformat": 4
 },
 "nbformat": 4,
 "nbformat_minor": 2
}
