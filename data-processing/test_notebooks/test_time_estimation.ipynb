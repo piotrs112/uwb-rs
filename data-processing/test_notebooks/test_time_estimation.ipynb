{
 "cells": [
  {
   "cell_type": "code",
   "execution_count": null,
   "metadata": {},
   "outputs": [],
   "source": [
    "import os\n",
    "changed_dir = False\n",
    "if not changed_dir:\n",
    "    os.chdir(\"..\")\n",
    "    changed_dir=True"
   ]
  },
  {
   "cell_type": "code",
   "execution_count": 20,
   "metadata": {},
   "outputs": [],
   "source": [
    "import os\n",
    "import pandas as pd\n",
    "from datetime import datetime\n",
    "\n",
    "\n",
    "def calculate_uwb_metrics(df):\n",
    "    anchors = df[\"anchor\"].unique()\n",
    "    mean_dt = df[\"timestamp\"].diff().mean().to_pytimedelta().microseconds / 10**6\n",
    "    jitter = df[\"timestamp\"].diff().dropna().map(lambda x: x.to_pytimedelta().microseconds / 10**6).diff().dropna().mean()\n",
    "    # f\"UWB freq {1/mean_dt:.2f}Hz | UWB jitter {jitter:.2}s | Positioning freq {1/(mean_dt * len(anchors)):.2f}Hz\"\n",
    "    f_uwb = 1/mean_dt\n",
    "    f_pos = f_uwb / len(anchors)\n",
    "    return f_uwb, jitter, f_pos\n",
    "\n",
    "def calculate_time_difference(start_timestamp, end_timestamp):\n",
    "    # start_datetime = datetime.fromisoformat(start_timestamp)\n",
    "    # end_datetime = datetime.fromisoformat(end_timestamp)\n",
    "    # time_difference = end_datetime - start_datetime\n",
    "    time_difference = end_timestamp - start_timestamp\n",
    "    return time_difference.total_seconds()\n",
    "\n",
    "def process_csv_file(csv_file):\n",
    "    df = pd.read_csv(csv_file)\n",
    "    try:\n",
    "        df[\"timestamp\"] = pd.to_datetime(df[\"timestamp\"])\n",
    "        if 'timestamp' in df.columns:\n",
    "            timestamps = df['timestamp'].tolist()\n",
    "            if len(timestamps) > 1:\n",
    "                time_difference = calculate_time_difference(timestamps[0], timestamps[-1])\n",
    "                metrics = calculate_uwb_metrics(df)\n",
    "                return time_difference, metrics\n",
    "            else:\n",
    "                return 0, None\n",
    "        return 0, None\n",
    "    except:\n",
    "        return 0, None\n",
    "    \n",
    "def process_directory(directory):\n",
    "    total_time = 0\n",
    "    data = {\"f_uwb\": [], \"jitter\": [], \"f_pos\": []}\n",
    "    for root, _, files in os.walk(directory):\n",
    "        for file in files:\n",
    "            if file.lower().endswith('.csv') or file.lower().endswith('.csv_bad'):\n",
    "                csv_file_path = os.path.join(root, file)\n",
    "                time_difference, metrics = process_csv_file(csv_file_path)\n",
    "                if metrics is not None:\n",
    "                    f_uwb, jitter, f_pos = metrics\n",
    "                    data[\"f_pos\"].append(f_pos)\n",
    "                    data[\"f_uwb\"].append(f_uwb)\n",
    "                    data[\"jitter\"].append(jitter)\n",
    "\n",
    "                total_time += time_difference\n",
    "    metrics_df = pd.DataFrame(data)\n",
    "    return total_time, metrics_df.mean()\n"
   ]
  },
  {
   "cell_type": "code",
   "execution_count": 21,
   "metadata": {},
   "outputs": [
    {
     "name": "stderr",
     "output_type": "stream",
     "text": [
      "/tmp/ipykernel_87600/960760985.py:25: UserWarning: Could not infer format, so each element will be parsed individually, falling back to `dateutil`. To ensure parsing is consistent and as-expected, please specify a format.\n",
      "  df[\"timestamp\"] = pd.to_datetime(df[\"timestamp\"])\n"
     ]
    },
    {
     "name": "stdout",
     "output_type": "stream",
     "text": [
      "Total time in seconds: 49742.332465\n",
      "Total time in minutes: 829.0388744166667\n",
      "Total time in hours: 13.81731457361111\n"
     ]
    },
    {
     "data": {
      "text/plain": [
       "f_uwb     55.335672\n",
       "jitter     0.000072\n",
       "f_pos     27.738318\n",
       "dtype: float64"
      ]
     },
     "execution_count": 21,
     "metadata": {},
     "output_type": "execute_result"
    }
   ],
   "source": [
    "directory_path = \"/home/piotr/Documents/mgr/uwb-rs/data-processing\"\n",
    "total_time, metrics = process_directory(directory_path)\n",
    "print(f\"Total time in seconds: {total_time}\")\n",
    "print(f\"Total time in minutes: {total_time / 60}\")\n",
    "print(f\"Total time in hours: {total_time / 60 / 60}\")\n",
    "metrics"
   ]
  }
 ],
 "metadata": {
  "kernelspec": {
   "display_name": ".venv",
   "language": "python",
   "name": "python3"
  },
  "language_info": {
   "codemirror_mode": {
    "name": "ipython",
    "version": 3
   },
   "file_extension": ".py",
   "mimetype": "text/x-python",
   "name": "python",
   "nbconvert_exporter": "python",
   "pygments_lexer": "ipython3",
   "version": "3.11.3"
  },
  "orig_nbformat": 4
 },
 "nbformat": 4,
 "nbformat_minor": 2
}
