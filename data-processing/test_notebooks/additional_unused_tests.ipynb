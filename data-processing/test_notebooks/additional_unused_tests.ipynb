{
 "cells": [
  {
   "cell_type": "markdown",
   "metadata": {},
   "source": [
    "# UNUSED TESTS"
   ]
  },
  {
   "cell_type": "markdown",
   "metadata": {},
   "source": [
    "This is a notebook containing unused/failed tests. If you want to try them, paste them at the end of `mlat_many_samples.ipynb`."
   ]
  },
  {
   "cell_type": "markdown",
   "metadata": {},
   "source": [
    "# RMSE when ref point = mean point"
   ]
  },
  {
   "cell_type": "code",
   "execution_count": null,
   "metadata": {},
   "outputs": [],
   "source": [
    "# if MOVEMENT:\n",
    "#     c = - all_kalman.x.mean()\n",
    "#     calc_dist_kalman = lambda x: point_line_distance(x[0], x[1], a, b, c)\n",
    "#     calc_dist_uwb = lambda x: point_line_distance(x[0], x[1], a, b, c)\n",
    "# else:\n",
    "#     ref_point_kalman = (all_kalman.x.mean(), all_kalman.y.mean())\n",
    "#     ref_point_uwb = (all_uwb.x.mean(), all_uwb.y.mean())\n",
    "#     calc_dist_kalman = lambda x: p2p_dist(x[0], x[1], *ref_point_kalman)\n",
    "#     calc_dist_uwb = lambda x: p2p_dist(x[0], x[1], *ref_point_uwb)"
   ]
  },
  {
   "cell_type": "code",
   "execution_count": null,
   "metadata": {},
   "outputs": [],
   "source": [
    "# for df in kalman_dfs:\n",
    "#     df[\"error\"] = df[[\"x\",\"y\"]].apply(calc_dist_kalman, axis=1)\n",
    "\n",
    "# for df in solved_dfs:\n",
    "#     df[\"error\"] = df[[\"x\",\"y\"]].apply(calc_dist_uwb, axis=1)"
   ]
  },
  {
   "cell_type": "code",
   "execution_count": null,
   "metadata": {},
   "outputs": [],
   "source": [
    "# all_kalman_ref = pd.concat(kalman_dfs, ignore_index=True)\n",
    "# all_uwb_ref = pd.concat(solved_dfs, ignore_index=True)\n",
    "\n",
    "# errors = pd.concat(\n",
    "#     [all_kalman_ref[\"error\"], all_uwb_ref[\"error\"]],\n",
    "#     axis=1,\n",
    "#     keys=[\"Kalman (UWB+accelerometer)\"  if LANG==\"EN\" else \"Kalman (UWB i akcelerometr)\", \"UWB\"],\n",
    "# )\n",
    "# rmse = np.sqrt(errors.apply(lambda x: x**2, axis=1).mean())\n",
    "\n",
    "# rmse, rmse.diff()"
   ]
  },
  {
   "cell_type": "markdown",
   "metadata": {},
   "source": [
    "# RMSE with line fitting"
   ]
  },
  {
   "cell_type": "code",
   "execution_count": null,
   "metadata": {},
   "outputs": [],
   "source": [
    "# if MOVEMENT:\n",
    "#     for df, kdf in zip(solved_dfs, kalman_dfs):\n",
    "#         # Swap x and y to have small \"a\" coefficient values\n",
    "#         x = df['y'].values\n",
    "#         y = df['x'].values\n",
    "\n",
    "\n",
    "#         k_x = kdf[\"y\"].values\n",
    "#         k_y = kdf[\"x\"].values\n",
    "\n",
    "#         # Calculating the coefficients of the line using least squares method\n",
    "#         A = np.vstack([x, np.ones(len(x))]).T\n",
    "#         m, c = np.linalg.lstsq(A, y, rcond=None)[0]\n",
    "\n",
    "#         # Creating the line equation string\n",
    "#         # line_equation = f'y = {m:.2f}x + {c:.2f}'\n",
    "\n",
    "#         # Generating the predicted y-values for the line\n",
    "#         y_pred = m * x + c\n",
    "\n",
    "#         # Calculate errors\n",
    "#         # ax + by + c = 0\n",
    "#         a = m\n",
    "#         b = -1\n",
    "#         df[\"fitted_error\"] = [point_line_distance(_x, _y, a, b, c) for _x,_y in zip(x,y)]\n",
    "#         kdf[\"fitted_error\"] = [point_line_distance(_x, _y, a, b, c) for _x,_y in zip(k_x,k_y)]\n",
    "\n",
    "#         # # Plotting the original data points and the fitted line\n",
    "#         # plt.plot(y,x, label='UWB')\n",
    "#         # plt.plot(k_y, k_x, label='Kalman')\n",
    "#         # plt.plot(y_pred, x, 'r', label='Fitted Line')\n",
    "#         # plt.xlabel('x')\n",
    "#         # plt.ylabel('y')\n",
    "#         # # plt.title('Line Fitting')\n",
    "#         # plt.axis(\"equal\")   \n",
    "#         # plt.legend()\n",
    "\n",
    "#         # # Displaying the line equation and the plot\n",
    "#         # # print('Line Equation:', line_equation)\n",
    "#         # plt.show()\n",
    "\n",
    "\n",
    "#     all_kalman_fitted = pd.concat(kalman_dfs, ignore_index=True)\n",
    "#     all_uwb_fitted = pd.concat(solved_dfs, ignore_index=True)\n",
    "\n",
    "#     errors = pd.concat(\n",
    "#         [all_kalman_fitted[\"fitted_error\"], all_uwb_fitted[\"fitted_error\"]],\n",
    "#         axis=1,\n",
    "#         keys=[\"Kalman (UWB+accelerometer)\" if LANG==\"EN\" else \"Kalman (UWB i akcelerometr)\", \"UWB\"],\n",
    "#     )\n",
    "#     rmse = np.sqrt(errors.apply(lambda x: x**2, axis=1).mean())\n",
    "\n",
    "#     display(rmse, rmse.diff())"
   ]
  },
  {
   "cell_type": "markdown",
   "metadata": {},
   "source": [
    "# Movement curvature comparison"
   ]
  },
  {
   "cell_type": "code",
   "execution_count": null,
   "metadata": {},
   "outputs": [],
   "source": [
    "# if MOVEMENT:\n",
    "#     def calculate_curvature(x, y):\n",
    "#         dx = np.gradient(x)\n",
    "#         dy = np.gradient(y)\n",
    "#         d2x = np.gradient(dx)\n",
    "#         d2y = np.gradient(dy)\n",
    "\n",
    "#         curvature = (dx * d2y - dy * d2x) / (dx**2 + dy**2)**(3/2)\n",
    "#         return curvature\n",
    "\n",
    "#     def average_curvature(x, y):\n",
    "#         curvature = calculate_curvature(x, y)\n",
    "#         avg_curvature = np.mean(np.abs(curvature))\n",
    "#         return avg_curvature\n",
    "\n",
    "#     def path_is_smoother(path1, path2, path1_name=\"Path 1\", path2_name=\"Path 2\"):\n",
    "#         x1, y1 = path1[\"x\"], path1[\"y\"]\n",
    "#         x2, y2 = path2[\"x\"], path2[\"y\"]\n",
    "\n",
    "#         smooth_path_curvature_1 = average_curvature(x1, y1)\n",
    "#         smooth_path_curvature_2 = average_curvature(x2, y2)\n",
    "\n",
    "#         # if smooth_path_curvature_1 < smooth_path_curvature_2:\n",
    "#             # print(f\"{path1_name} is smoother than {path2_name}.\")\n",
    "#         # else:\n",
    "#             # print(f\"{path2_name} is smoother than {path1_name}.\")\n",
    "#         return (smooth_path_curvature_1, smooth_path_curvature_2)"
   ]
  },
  {
   "cell_type": "code",
   "execution_count": null,
   "metadata": {},
   "outputs": [],
   "source": [
    "# if MOVEMENT:\n",
    "#     results = []\n",
    "#     for udf, kdf in zip(solved_dfs, kalman_dfs):\n",
    "#         pc_uwb, pc_k = path_is_smoother(udf, kdf, \"UWB\", \"Kalman\")\n",
    "#         results.append(pc_k < pc_uwb)\n",
    "#     print(f\"Percentage of smoother Kalman paths: {results.count(True)/len(results)}\")\n",
    "\n"
   ]
  },
  {
   "cell_type": "markdown",
   "metadata": {},
   "source": [
    "# Vector field"
   ]
  },
  {
   "cell_type": "code",
   "execution_count": null,
   "metadata": {},
   "outputs": [],
   "source": [
    "# fig, ax = plt.subplots()\n",
    "# xy_len = len(solved_dfs[0].x)\n",
    "# ax.quiver(solved_dfs[0].x, solved_dfs[0].y, (kalman_dfs[0].x - solved_dfs[0].x)[:xy_len], (kalman_dfs[0].y - solved_dfs[0].y)[:xy_len], angles=\"xy\", scale=2, width=0.003)\n",
    "# ax.plot(all_uwb.x, all_uwb.y, c=\"tab:orange\", alpha=0.4)\n",
    "# ax.set(xlim=(0, 3.5), ylim=(0, 4.5))"
   ]
  },
  {
   "cell_type": "code",
   "execution_count": null,
   "metadata": {},
   "outputs": [],
   "source": [
    "# if MOVEMENT:\n",
    "#     import matplotlib.animation as animation\n",
    "#     from IPython.core.display import HTML\n",
    "\n",
    "#     plt.rcParams[\"animation.html\"] = \"jshtml\"\n",
    "#     plt.rcParams['figure.dpi'] = 150  \n",
    "#     plt.ioff()\n",
    "#     fig, ax = plt.subplots()\n",
    "\n",
    "#     line_uwb = ax.plot(solved_dfs[0].x, solved_dfs[0].y, \"-\", c=\"tab:orange\", label=\"UWB\", marker=\".\")[0]\n",
    "#     line_kalman = ax.plot(kalman_dfs[0].x, kalman_dfs[0].y, \"-\", alpha=0.7, c=\"tab:blue\", label=\"Kalman\", marker=\".\")[0]\n",
    "#     plt.legend()\n",
    "#     limit = 15\n",
    "#     X = solved_dfs[0].x[:limit]\n",
    "#     Y = solved_dfs[0].y[:limit]\n",
    "#     U = (kalman_dfs[0].x - solved_dfs[0].x)[:xy_len][:limit]\n",
    "#     V = (kalman_dfs[0].y - solved_dfs[0].y)[:xy_len][:limit]\n",
    "#     # plt.axis('equal')\n",
    "#     plt.xlim(0, 3.5)\n",
    "#     plt.ylim(0, 4.5)\n",
    "#     vec = ax.quiver(X, Y, U, V, angles=\"xy\", scale=1, width=0.003)\n",
    "\n",
    "#     def update(frame):\n",
    "#         x = solved_dfs[0].x.iloc[frame-10:frame]\n",
    "#         y = solved_dfs[0].y.iloc[frame-10:frame]\n",
    "\n",
    "#         line_uwb.set_xdata(x)\n",
    "#         line_uwb.set_ydata(y)\n",
    "\n",
    "#         xk = kalman_dfs[0].x.iloc[frame-10:frame]\n",
    "#         yk = kalman_dfs[0].y.iloc[frame-10:frame]\n",
    "#         line_kalman.set_xdata(xk)\n",
    "#         line_kalman.set_ydata(yk)\n",
    "\n",
    "#         return (line_uwb, line_kalman)\n",
    "#     display(animation.FuncAnimation(fig=fig, func=update, frames=len(solved_dfs[0]), interval=100))"
   ]
  },
  {
   "cell_type": "code",
   "execution_count": null,
   "metadata": {},
   "outputs": [],
   "source": [
    "# plt.cla()"
   ]
  }
 ],
 "metadata": {
  "language_info": {
   "name": "python"
  },
  "orig_nbformat": 4
 },
 "nbformat": 4,
 "nbformat_minor": 2
}
