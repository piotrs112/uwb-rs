{
 "cells": [
  {
   "cell_type": "code",
   "execution_count": 11,
   "metadata": {},
   "outputs": [],
   "source": [
    "import pandas as pd\n",
    "\n",
    "# filename = \"data/triangulated/2023-05-24-12:32:40.823901_P3-1-6-5_normalized.csv\"\n",
    "# filename = \"/home/piotr/Documents/mgr/uwb-rs/data-processing/data/triangulated/2023-05-24-13:52:11.266488_P3-1-6-5_normalized_high_up.csv\"\n",
    "# filename = \"data/triangulated/2023-05-24-14:35:08.828772P3-1-6-5_high_los.csv\"\n",
    "filename = \"/home/piotr/Documents/mgr/uwb-rs/data-processing/data/triangulated/2023-06-23-13:55:53.175807slide-4anchors.csv\"\n",
    "df = pd.read_csv(filename)\n",
    "df[\"timestamp\"] = pd.to_datetime(df[\"timestamp\"])"
   ]
  },
  {
   "cell_type": "code",
   "execution_count": 12,
   "metadata": {},
   "outputs": [],
   "source": [
    "# Units conversion - m and m/s^2\n",
    "df[[\"x\", \"y\"]] /= 1000\n",
    "df[[\"acc_x\", \"acc_y\"]] *= 9.80665\n",
    "df[\"reference_distance\"] /= 1000"
   ]
  },
  {
   "cell_type": "code",
   "execution_count": 13,
   "metadata": {},
   "outputs": [],
   "source": [
    "import numpy as np\n",
    "\n",
    "dt = df[\"timestamp\"].diff().mean().to_pytimedelta().microseconds/10**6\n",
    "\n",
    "F = np.matrix([[1, 0, dt**2/2, 0      ],\n",
    "               [0, 1, 0,       dt**2/2],\n",
    "               [0, 0, 1,       0      ],\n",
    "               [0, 0, 0,       1      ]])\n",
    "H = np.matrix(np.eye(4))\n",
    "\n",
    "Q = np.matrix(np.eye(4))\n",
    "R = np.matrix(np.diag([df[\"x\"].std()**2,df[\"y\"].std()**2,df[\"acc_y\"].std()**2,df[\"acc_z\"].std()**2]))\n",
    "P = np.matrix(np.eye(4))*10000\n",
    "x = np.matrix('0. 0. 0. 0.').T"
   ]
  },
  {
   "cell_type": "code",
   "execution_count": 14,
   "metadata": {},
   "outputs": [],
   "source": [
    "def kalman_step(x, P, measurement, R, motion, Q, F, H):\n",
    "    # UPDATE x, P based on measurement m    \n",
    "    # distance between measured and current position-belief\n",
    "    y = np.matrix(measurement).T - H * x\n",
    "    S = H * P * H.T + R  # residual convariance\n",
    "    K = P * H.T * S.I    # Kalman gain\n",
    "    x = x + K*y\n",
    "    I = np.matrix(np.eye(F.shape[0])) # identity matrix\n",
    "    P = (I - K*H)*P\n",
    "\n",
    "    # PREDICT x, P based on motion\n",
    "    x = F*x + motion\n",
    "    P = F*P*F.T + Q\n",
    "    return x, P"
   ]
  },
  {
   "cell_type": "code",
   "execution_count": 15,
   "metadata": {},
   "outputs": [],
   "source": [
    "# Delete gravity\n",
    "df[[\"acc_x\",\"acc_y\",\"acc_z\"]] -= df[[\"acc_x\",\"acc_y\",\"acc_z\"]].head(5).mean()\n",
    "data = df"
   ]
  },
  {
   "cell_type": "code",
   "execution_count": 16,
   "metadata": {},
   "outputs": [],
   "source": [
    "filtered = []\n",
    "motion = np.matrix('0. 0. 0. 0.').T\n",
    "for _, measurement in data[[\"x\", \"y\", \"acc_y\", \"acc_z\"]].iterrows():\n",
    "    measurement = measurement.to_list()\n",
    "    measurement = [measurement[0],   # x\n",
    "                   measurement[1],   # y\n",
    "                   measurement[2],   # acc_x = acc_y_devboard\n",
    "                   - measurement[3]] # acc_y = -acc_z_devboard\n",
    "    # display(measurement)\n",
    "    x, P = kalman_step(x, P, measurement, R, motion, Q, F, H)\n",
    "    filtered.append(x.tolist())\n",
    "\n",
    "filtered_pos = [[x[0], y[0]] for (x, y, _, _) in filtered]\n",
    "filtered_acc = [[x[0], y[0]] for (_, _, x, y) in filtered]"
   ]
  },
  {
   "cell_type": "code",
   "execution_count": 17,
   "metadata": {},
   "outputs": [],
   "source": [
    "from data.points import ANCHORS\n",
    "a_x, a_y = zip(*ANCHORS.values())\n",
    "a_x = [v/1000 for v in a_x]\n",
    "a_y = [v/1000 for v in a_y]\n",
    "a_labels = ANCHORS.keys()"
   ]
  },
  {
   "cell_type": "code",
   "execution_count": 18,
   "metadata": {},
   "outputs": [
    {
     "data": {
      "image/png": "[encoded data removed]",
      "text/plain": [
       "<Figure size 640x480 with 1 Axes>"
      ]
     },
     "metadata": {},
     "output_type": "display_data"
    }
   ],
   "source": [
    "import matplotlib.pyplot as plt\n",
    "x, y = zip(*filtered_pos)\n",
    "\n",
    "\n",
    "plt.plot(x, y, \"r.-\") # Kalman\n",
    "plt.plot((df.x).to_list(), (df.y).to_list(), \"g+\") # UWB\n",
    "# plt.axvline(1.560, ls=\":\") # Ground truth\n",
    "\n",
    "from data.points import TAG\n",
    "plt.plot((df.reference_distance).to_list(), [TAG[\"P3\"].y/1000 for _ in range(len(df.reference_distance))], \"b.\")\n",
    "\n",
    "plt.plot(a_x, a_y, \"b*\")\n",
    "ax = plt.gca()\n",
    "for x, y, label in zip(a_x, a_y, a_labels):\n",
    "    ax.annotate(label, (x,y), horizontalalignment=\"right\")\n",
    "\n",
    "plt.axis('equal')\n",
    "plt.legend([\"Kalman\", \"UWB\"])\n",
    "plt.title(\"Tag position\")\n",
    "plt.xlabel(\"X [m]\")\n",
    "plt.ylabel(\"Y [m]\")\n",
    "plt.grid(True, \"both\")\n",
    "# data[[\"acc_x\", \"acc_y\"]].plot.line()\n",
    "\n",
    "ax.invert_xaxis()\n",
    "ax.invert_yaxis()\n",
    "plt.show()"
   ]
  },
  {
   "cell_type": "code",
   "execution_count": null,
   "metadata": {},
   "outputs": [],
   "source": []
  },
  {
   "cell_type": "code",
   "execution_count": 19,
   "metadata": {},
   "outputs": [
    {
     "data": {
      "application/vnd.plotly.v1+json": {
       "config": {
        "plotlyServerURL": "https://plot.ly"
       },
       "data": [
        {
         "hovertemplate": "variable=wide_variable_0<br>index=%{x}<br>value=%{y}<extra></extra>",
         "legendgroup": "wide_variable_0",
         "line": {
          "color": "#636efa",
          "dash": "solid"
         },
         "marker": {
          "symbol": "circle"
         },
         "mode": "lines",
         "name": "wide_variable_0",
         "orientation": "v",
         "showlegend": true,
         "type": "scatter",
         "x": [
          0,
          1,
          2,
          3,
          4,
          5,
          6,
          7,
          8,
          9,
          10,
          11,
          12,
          13,
          14,
          15,
          16,
          17,
          18,
          19,
          20,
          21,
          22,
          23,
          24,
          25,
          26,
          27,
          28,
          29,
          30,
          31,
          32,
          33,
          34,
          35,
          36,
          37,
          38,
          39,
          40,
          41,
          42
         ],
         "xaxis": "x",
         "y": [
          -0.04903318472971028,
          0.0671199351647008,
          -0.05720435267592877,
          -0.058820087833374,
          0.09603314092691442,
          -0.21170264913116124,
          -0.0608194333349138,
          0.10568588848529606,
          -0.11478083403598521,
          -0.030528217202813054,
          -0.08751143180507429,
          0.1634148209522581,
          -0.03659507077850599,
          0.028565778985660123,
          0.30043365392895505,
          0.20716339806822126,
          0.09948145169066887,
          -0.00838897687063779,
          -0.09690196907325611,
          0.11489869652036504,
          0.1466852705878918,
          0.050297254339912806,
          -0.07678188567899322,
          0.08612018904132127,
          -0.07631672507714482,
          -0.3300917009624608,
          -0.05267674148390078,
          0.2800220618124235,
          0.08106782049117583,
          -0.0763827895771389,
          -0.010669799337250194,
          0.019220446959054838,
          0.029288208420220112,
          0.0003791975590877808,
          -0.00967505252471607,
          0.03859367417987465,
          0.02953962411931243,
          0.01974172012642579,
          0.009933589527917248,
          0.009808524598704146,
          0.05820604453510453,
          0.05883083748237526,
          0.049157515336452566
         ],
         "yaxis": "y"
        },
        {
         "hovertemplate": "variable=wide_variable_1<br>index=%{x}<br>value=%{y}<extra></extra>",
         "legendgroup": "wide_variable_1",
         "line": {
          "color": "#EF553B",
          "dash": "solid"
         },
         "marker": {
          "symbol": "circle"
         },
         "mode": "lines",
         "name": "wide_variable_1",
         "orientation": "v",
         "showlegend": true,
         "type": "scatter",
         "x": [
          0,
          1,
          2,
          3,
          4,
          5,
          6,
          7,
          8,
          9,
          10,
          11,
          12,
          13,
          14,
          15,
          16,
          17,
          18,
          19,
          20,
          21,
          22,
          23,
          24,
          25,
          26,
          27,
          28,
          29,
          30,
          31,
          32,
          33,
          34,
          35,
          36,
          37,
          38,
          39,
          40,
          41,
          42
         ],
         "xaxis": "x",
         "y": [
          -0.008999998683517352,
          -0.0020055633395246976,
          0.009990449726225318,
          0.004004769821128833,
          -0.0029944294100645846,
          0.01998172423604358,
          -0.01796981250939715,
          -0.014003155832934894,
          -0.0239920573953864,
          0.0429467599682785,
          0.0020325455817770677,
          -0.02497851063522538,
          -0.002018276986671872,
          -0.06494993572303435,
          -0.031026982877354503,
          -0.021007967949578994,
          -0.07995311025230609,
          -0.0010627564317179372,
          0.036969751940567216,
          -0.014958701881589313,
          -0.07994830904983855,
          0.059888772142424274,
          -0.07189517568612083,
          0.024922988263309326,
          -0.003977014392351673,
          -0.0030007740355729572,
          0.021980125577481573,
          0.009010318136418595,
          -0.03196740448494783,
          0.01596186411690642,
          -0.005982544068681168,
          -0.007998395980046143,
          -0.006001592436800444,
          -0.006999202609471819,
          -0.009997611813952971,
          -0.0020063602584295924,
          -0.006996029001678077,
          -0.006000796559735397,
          -0.00699919867640449,
          -0.006000794415682989,
          -0.0079984122592417,
          -0.004003177860186868,
          -0.006997612320454891
         ],
         "yaxis": "y"
        },
        {
         "hovertemplate": "variable=wide_variable_2<br>index=%{x}<br>value=%{y}<extra></extra>",
         "legendgroup": "wide_variable_2",
         "line": {
          "color": "#00cc96",
          "dash": "solid"
         },
         "marker": {
          "symbol": "circle"
         },
         "mode": "lines",
         "name": "wide_variable_2",
         "orientation": "v",
         "showlegend": true,
         "type": "scatter",
         "x": [
          0,
          1,
          2,
          3,
          4,
          5,
          6,
          7,
          8,
          9,
          10,
          11,
          12,
          13,
          14,
          15,
          16,
          17,
          18,
          19,
          20,
          21,
          22,
          23,
          24,
          25,
          26,
          27,
          28,
          29,
          30,
          31,
          32,
          33,
          34,
          35,
          36,
          37,
          38,
          39,
          40,
          41,
          42
         ],
         "xaxis": "x",
         "y": [
          -0.03334300226599929,
          -0.013728721600998028,
          -0.06276197160099883,
          0.05491684773400074,
          0.05491684773400074,
          0.07453014773400035,
          -0.003923052265999871,
          -0.13140950226599912,
          -0.013728721600998028,
          0.07453014773400035,
          -0.0823762522660001,
          0.09414344773399996,
          -0.14121517160099906,
          -0.04314867160099922,
          -0.356962452266,
          -0.14121517160099906,
          0.15298334773400057,
          0.13337102839900083,
          0.12356339773400116,
          0.39814959773400105,
          -0.5825154022659991,
          0.06472447839900042,
          -0.18044275226599993,
          -0.44522230226599824,
          -0.3373481716009987,
          0.535443678399,
          0.16279097839900025,
          -0.3471558022659984,
          0.045110197734000934,
          0.06472447839900042,
          0.01569122839900139,
          0.045110197734000934,
          -0.013728721600998028,
          -0.003923052265999871,
          -0.023536352265999483,
          0.025496897734001323,
          0.035304528399001,
          0.005884578398999807,
          -0.023536352265999483,
          0.035304528399001,
          -0.0529563022659989,
          0.01569122839900139,
          -0.013728721600998028
         ],
         "yaxis": "y"
        },
        {
         "hovertemplate": "variable=wide_variable_3<br>index=%{x}<br>value=%{y}<extra></extra>",
         "legendgroup": "wide_variable_3",
         "line": {
          "color": "#ab63fa",
          "dash": "solid"
         },
         "marker": {
          "symbol": "circle"
         },
         "mode": "lines",
         "name": "wide_variable_3",
         "orientation": "v",
         "showlegend": true,
         "type": "scatter",
         "x": [
          0,
          1,
          2,
          3,
          4,
          5,
          6,
          7,
          8,
          9,
          10,
          11,
          12,
          13,
          14,
          15,
          16,
          17,
          18,
          19,
          20,
          21,
          22,
          23,
          24,
          25,
          26,
          27,
          28,
          29,
          30,
          31,
          32,
          33,
          34,
          35,
          36,
          37,
          38,
          39,
          40,
          41,
          42
         ],
         "xaxis": "x",
         "y": [
          -0.04903324999999997,
          0.06864655,
          -0.0588399,
          -0.0588399,
          0.0980665,
          -0.21574630980664994,
          -0.0588399,
          0.10787315,
          -0.11767980980665,
          -0.029419959806649992,
          -0.08825985,
          0.16671305980665002,
          -0.0392266,
          0.029419946077339998,
          0.30400616961329996,
          0.20593964999999997,
          0.0980665,
          -0.009806659806650006,
          -0.09806650980664999,
          0.1176798,
          0.14709975,
          0.04903325,
          -0.0784532,
          0.08825985,
          -0.0784532,
          -0.33342612941995,
          -0.04903324999999997,
          0.2843928696133,
          0.0784532,
          -0.0784532,
          -0.009806659806650006,
          0.0196133,
          0.029419946077339998,
          0,
          -0.009806659806650006,
          0.0392266,
          0.029419946077339998,
          0.0196133,
          0.00980665,
          0.00980665,
          0.0588399,
          0.0588399,
          0.04903325
         ],
         "yaxis": "y"
        }
       ],
       "layout": {
        "legend": {
         "title": {
          "text": "variable"
         },
         "tracegroupgap": 0
        },
        "margin": {
         "t": 60
        },
        "template": {
         "data": {
          "bar": [
           {
            "error_x": {
             "color": "#2a3f5f"
            },
            "error_y": {
             "color": "#2a3f5f"
            },
            "marker": {
             "line": {
              "color": "#E5ECF6",
              "width": 0.5
             },
             "pattern": {
              "fillmode": "overlay",
              "size": 10,
              "solidity": 0.2
             }
            },
            "type": "bar"
           }
          ],
          "barpolar": [
           {
            "marker": {
             "line": {
              "color": "#E5ECF6",
              "width": 0.5
             },
             "pattern": {
              "fillmode": "overlay",
              "size": 10,
              "solidity": 0.2
             }
            },
            "type": "barpolar"
           }
          ],
          "carpet": [
           {
            "aaxis": {
             "endlinecolor": "#2a3f5f",
             "gridcolor": "white",
             "linecolor": "white",
             "minorgridcolor": "white",
             "startlinecolor": "#2a3f5f"
            },
            "baxis": {
             "endlinecolor": "#2a3f5f",
             "gridcolor": "white",
             "linecolor": "white",
             "minorgridcolor": "white",
             "startlinecolor": "#2a3f5f"
            },
            "type": "carpet"
           }
          ],
          "choropleth": [
           {
            "colorbar": {
             "outlinewidth": 0,
             "ticks": ""
            },
            "type": "choropleth"
           }
          ],
          "contour": [
           {
            "colorbar": {
             "outlinewidth": 0,
             "ticks": ""
            },
            "colorscale": [
             [
              0,
              "#0d0887"
             ],
             [
              0.1111111111111111,
              "#46039f"
             ],
             [
              0.2222222222222222,
              "#7201a8"
             ],
             [
              0.3333333333333333,
              "#9c179e"
             ],
             [
              0.4444444444444444,
              "#bd3786"
             ],
             [
              0.5555555555555556,
              "#d8576b"
             ],
             [
              0.6666666666666666,
              "#ed7953"
             ],
             [
              0.7777777777777778,
              "#fb9f3a"
             ],
             [
              0.8888888888888888,
              "#fdca26"
             ],
             [
              1,
              "#f0f921"
             ]
            ],
            "type": "contour"
           }
          ],
          "contourcarpet": [
           {
            "colorbar": {
             "outlinewidth": 0,
             "ticks": ""
            },
            "type": "contourcarpet"
           }
          ],
          "heatmap": [
           {
            "colorbar": {
             "outlinewidth": 0,
             "ticks": ""
            },
            "colorscale": [
             [
              0,
              "#0d0887"
             ],
             [
              0.1111111111111111,
              "#46039f"
             ],
             [
              0.2222222222222222,
              "#7201a8"
             ],
             [
              0.3333333333333333,
              "#9c179e"
             ],
             [
              0.4444444444444444,
              "#bd3786"
             ],
             [
              0.5555555555555556,
              "#d8576b"
             ],
             [
              0.6666666666666666,
              "#ed7953"
             ],
             [
              0.7777777777777778,
              "#fb9f3a"
             ],
             [
              0.8888888888888888,
              "#fdca26"
             ],
             [
              1,
              "#f0f921"
             ]
            ],
            "type": "heatmap"
           }
          ],
          "heatmapgl": [
           {
            "colorbar": {
             "outlinewidth": 0,
             "ticks": ""
            },
            "colorscale": [
             [
              0,
              "#0d0887"
             ],
             [
              0.1111111111111111,
              "#46039f"
             ],
             [
              0.2222222222222222,
              "#7201a8"
             ],
             [
              0.3333333333333333,
              "#9c179e"
             ],
             [
              0.4444444444444444,
              "#bd3786"
             ],
             [
              0.5555555555555556,
              "#d8576b"
             ],
             [
              0.6666666666666666,
              "#ed7953"
             ],
             [
              0.7777777777777778,
              "#fb9f3a"
             ],
             [
              0.8888888888888888,
              "#fdca26"
             ],
             [
              1,
              "#f0f921"
             ]
            ],
            "type": "heatmapgl"
           }
          ],
          "histogram": [
           {
            "marker": {
             "pattern": {
              "fillmode": "overlay",
              "size": 10,
              "solidity": 0.2
             }
            },
            "type": "histogram"
           }
          ],
          "histogram2d": [
           {
            "colorbar": {
             "outlinewidth": 0,
             "ticks": ""
            },
            "colorscale": [
             [
              0,
              "#0d0887"
             ],
             [
              0.1111111111111111,
              "#46039f"
             ],
             [
              0.2222222222222222,
              "#7201a8"
             ],
             [
              0.3333333333333333,
              "#9c179e"
             ],
             [
              0.4444444444444444,
              "#bd3786"
             ],
             [
              0.5555555555555556,
              "#d8576b"
             ],
             [
              0.6666666666666666,
              "#ed7953"
             ],
             [
              0.7777777777777778,
              "#fb9f3a"
             ],
             [
              0.8888888888888888,
              "#fdca26"
             ],
             [
              1,
              "#f0f921"
             ]
            ],
            "type": "histogram2d"
           }
          ],
          "histogram2dcontour": [
           {
            "colorbar": {
             "outlinewidth": 0,
             "ticks": ""
            },
            "colorscale": [
             [
              0,
              "#0d0887"
             ],
             [
              0.1111111111111111,
              "#46039f"
             ],
             [
              0.2222222222222222,
              "#7201a8"
             ],
             [
              0.3333333333333333,
              "#9c179e"
             ],
             [
              0.4444444444444444,
              "#bd3786"
             ],
             [
              0.5555555555555556,
              "#d8576b"
             ],
             [
              0.6666666666666666,
              "#ed7953"
             ],
             [
              0.7777777777777778,
              "#fb9f3a"
             ],
             [
              0.8888888888888888,
              "#fdca26"
             ],
             [
              1,
              "#f0f921"
             ]
            ],
            "type": "histogram2dcontour"
           }
          ],
          "mesh3d": [
           {
            "colorbar": {
             "outlinewidth": 0,
             "ticks": ""
            },
            "type": "mesh3d"
           }
          ],
          "parcoords": [
           {
            "line": {
             "colorbar": {
              "outlinewidth": 0,
              "ticks": ""
             }
            },
            "type": "parcoords"
           }
          ],
          "pie": [
           {
            "automargin": true,
            "type": "pie"
           }
          ],
          "scatter": [
           {
            "fillpattern": {
             "fillmode": "overlay",
             "size": 10,
             "solidity": 0.2
            },
            "type": "scatter"
           }
          ],
          "scatter3d": [
           {
            "line": {
             "colorbar": {
              "outlinewidth": 0,
              "ticks": ""
             }
            },
            "marker": {
             "colorbar": {
              "outlinewidth": 0,
              "ticks": ""
             }
            },
            "type": "scatter3d"
           }
          ],
          "scattercarpet": [
           {
            "marker": {
             "colorbar": {
              "outlinewidth": 0,
              "ticks": ""
             }
            },
            "type": "scattercarpet"
           }
          ],
          "scattergeo": [
           {
            "marker": {
             "colorbar": {
              "outlinewidth": 0,
              "ticks": ""
             }
            },
            "type": "scattergeo"
           }
          ],
          "scattergl": [
           {
            "marker": {
             "colorbar": {
              "outlinewidth": 0,
              "ticks": ""
             }
            },
            "type": "scattergl"
           }
          ],
          "scattermapbox": [
           {
            "marker": {
             "colorbar": {
              "outlinewidth": 0,
              "ticks": ""
             }
            },
            "type": "scattermapbox"
           }
          ],
          "scatterpolar": [
           {
            "marker": {
             "colorbar": {
              "outlinewidth": 0,
              "ticks": ""
             }
            },
            "type": "scatterpolar"
           }
          ],
          "scatterpolargl": [
           {
            "marker": {
             "colorbar": {
              "outlinewidth": 0,
              "ticks": ""
             }
            },
            "type": "scatterpolargl"
           }
          ],
          "scatterternary": [
           {
            "marker": {
             "colorbar": {
              "outlinewidth": 0,
              "ticks": ""
             }
            },
            "type": "scatterternary"
           }
          ],
          "surface": [
           {
            "colorbar": {
             "outlinewidth": 0,
             "ticks": ""
            },
            "colorscale": [
             [
              0,
              "#0d0887"
             ],
             [
              0.1111111111111111,
              "#46039f"
             ],
             [
              0.2222222222222222,
              "#7201a8"
             ],
             [
              0.3333333333333333,
              "#9c179e"
             ],
             [
              0.4444444444444444,
              "#bd3786"
             ],
             [
              0.5555555555555556,
              "#d8576b"
             ],
             [
              0.6666666666666666,
              "#ed7953"
             ],
             [
              0.7777777777777778,
              "#fb9f3a"
             ],
             [
              0.8888888888888888,
              "#fdca26"
             ],
             [
              1,
              "#f0f921"
             ]
            ],
            "type": "surface"
           }
          ],
          "table": [
           {
            "cells": {
             "fill": {
              "color": "#EBF0F8"
             },
             "line": {
              "color": "white"
             }
            },
            "header": {
             "fill": {
              "color": "#C8D4E3"
             },
             "line": {
              "color": "white"
             }
            },
            "type": "table"
           }
          ]
         },
         "layout": {
          "annotationdefaults": {
           "arrowcolor": "#2a3f5f",
           "arrowhead": 0,
           "arrowwidth": 1
          },
          "autotypenumbers": "strict",
          "coloraxis": {
           "colorbar": {
            "outlinewidth": 0,
            "ticks": ""
           }
          },
          "colorscale": {
           "diverging": [
            [
             0,
             "#8e0152"
            ],
            [
             0.1,
             "#c51b7d"
            ],
            [
             0.2,
             "#de77ae"
            ],
            [
             0.3,
             "#f1b6da"
            ],
            [
             0.4,
             "#fde0ef"
            ],
            [
             0.5,
             "#f7f7f7"
            ],
            [
             0.6,
             "#e6f5d0"
            ],
            [
             0.7,
             "#b8e186"
            ],
            [
             0.8,
             "#7fbc41"
            ],
            [
             0.9,
             "#4d9221"
            ],
            [
             1,
             "#276419"
            ]
           ],
           "sequential": [
            [
             0,
             "#0d0887"
            ],
            [
             0.1111111111111111,
             "#46039f"
            ],
            [
             0.2222222222222222,
             "#7201a8"
            ],
            [
             0.3333333333333333,
             "#9c179e"
            ],
            [
             0.4444444444444444,
             "#bd3786"
            ],
            [
             0.5555555555555556,
             "#d8576b"
            ],
            [
             0.6666666666666666,
             "#ed7953"
            ],
            [
             0.7777777777777778,
             "#fb9f3a"
            ],
            [
             0.8888888888888888,
             "#fdca26"
            ],
            [
             1,
             "#f0f921"
            ]
           ],
           "sequentialminus": [
            [
             0,
             "#0d0887"
            ],
            [
             0.1111111111111111,
             "#46039f"
            ],
            [
             0.2222222222222222,
             "#7201a8"
            ],
            [
             0.3333333333333333,
             "#9c179e"
            ],
            [
             0.4444444444444444,
             "#bd3786"
            ],
            [
             0.5555555555555556,
             "#d8576b"
            ],
            [
             0.6666666666666666,
             "#ed7953"
            ],
            [
             0.7777777777777778,
             "#fb9f3a"
            ],
            [
             0.8888888888888888,
             "#fdca26"
            ],
            [
             1,
             "#f0f921"
            ]
           ]
          },
          "colorway": [
           "#636efa",
           "#EF553B",
           "#00cc96",
           "#ab63fa",
           "#FFA15A",
           "#19d3f3",
           "#FF6692",
           "#B6E880",
           "#FF97FF",
           "#FECB52"
          ],
          "font": {
           "color": "#2a3f5f"
          },
          "geo": {
           "bgcolor": "white",
           "lakecolor": "white",
           "landcolor": "#E5ECF6",
           "showlakes": true,
           "showland": true,
           "subunitcolor": "white"
          },
          "hoverlabel": {
           "align": "left"
          },
          "hovermode": "closest",
          "mapbox": {
           "style": "light"
          },
          "paper_bgcolor": "white",
          "plot_bgcolor": "#E5ECF6",
          "polar": {
           "angularaxis": {
            "gridcolor": "white",
            "linecolor": "white",
            "ticks": ""
           },
           "bgcolor": "#E5ECF6",
           "radialaxis": {
            "gridcolor": "white",
            "linecolor": "white",
            "ticks": ""
           }
          },
          "scene": {
           "xaxis": {
            "backgroundcolor": "#E5ECF6",
            "gridcolor": "white",
            "gridwidth": 2,
            "linecolor": "white",
            "showbackground": true,
            "ticks": "",
            "zerolinecolor": "white"
           },
           "yaxis": {
            "backgroundcolor": "#E5ECF6",
            "gridcolor": "white",
            "gridwidth": 2,
            "linecolor": "white",
            "showbackground": true,
            "ticks": "",
            "zerolinecolor": "white"
           },
           "zaxis": {
            "backgroundcolor": "#E5ECF6",
            "gridcolor": "white",
            "gridwidth": 2,
            "linecolor": "white",
            "showbackground": true,
            "ticks": "",
            "zerolinecolor": "white"
           }
          },
          "shapedefaults": {
           "line": {
            "color": "#2a3f5f"
           }
          },
          "ternary": {
           "aaxis": {
            "gridcolor": "white",
            "linecolor": "white",
            "ticks": ""
           },
           "baxis": {
            "gridcolor": "white",
            "linecolor": "white",
            "ticks": ""
           },
           "bgcolor": "#E5ECF6",
           "caxis": {
            "gridcolor": "white",
            "linecolor": "white",
            "ticks": ""
           }
          },
          "title": {
           "x": 0.05
          },
          "xaxis": {
           "automargin": true,
           "gridcolor": "white",
           "linecolor": "white",
           "ticks": "",
           "title": {
            "standoff": 15
           },
           "zerolinecolor": "white",
           "zerolinewidth": 2
          },
          "yaxis": {
           "automargin": true,
           "gridcolor": "white",
           "linecolor": "white",
           "ticks": "",
           "title": {
            "standoff": 15
           },
           "zerolinecolor": "white",
           "zerolinewidth": 2
          }
         }
        },
        "xaxis": {
         "anchor": "y",
         "domain": [
          0,
          1
         ],
         "title": {
          "text": "index"
         }
        },
        "yaxis": {
         "anchor": "x",
         "domain": [
          0,
          1
         ],
         "title": {
          "text": "value"
         }
        }
       }
      }
     },
     "metadata": {},
     "output_type": "display_data"
    }
   ],
   "source": [
    "import plotly.express as px\n",
    "\n",
    "x, y = zip(*filtered_acc)\n",
    "px.line(y=[x, y, df.acc_x, df.acc_y])"
   ]
  },
  {
   "cell_type": "code",
   "execution_count": 20,
   "metadata": {},
   "outputs": [
    {
     "ename": "TypeError",
     "evalue": "p2p_dist() missing 4 required positional arguments: 'ax', 'ay', 'bx', and 'by'",
     "output_type": "error",
     "traceback": [
      "\u001b[0;31m---------------------------------------------------------------------------\u001b[0m",
      "\u001b[0;31mTypeError\u001b[0m                                 Traceback (most recent call last)",
      "Cell \u001b[0;32mIn[20], line 15\u001b[0m\n\u001b[1;32m     12\u001b[0m     \u001b[39mreturn\u001b[39;00m sqrt((bx\u001b[39m-\u001b[39max)\u001b[39m*\u001b[39m\u001b[39m*\u001b[39m\u001b[39m2\u001b[39m \u001b[39m+\u001b[39m (by\u001b[39m-\u001b[39may)\u001b[39m*\u001b[39m\u001b[39m*\u001b[39m\u001b[39m2\u001b[39m)\n\u001b[1;32m     14\u001b[0m \u001b[39m# calc_dist = lambda x: point_line_distance(x[0],x[1],a,b,c)\u001b[39;00m\n\u001b[0;32m---> 15\u001b[0m calc_dist \u001b[39m=\u001b[39m p2p_dist()\n\u001b[1;32m     17\u001b[0m kalman_df \u001b[39m=\u001b[39m pd\u001b[39m.\u001b[39mDataFrame({\u001b[39m\"\u001b[39m\u001b[39mx\u001b[39m\u001b[39m\"\u001b[39m: [v \u001b[39mfor\u001b[39;00m v, _ \u001b[39min\u001b[39;00m filtered_pos], \u001b[39m\"\u001b[39m\u001b[39my\u001b[39m\u001b[39m\"\u001b[39m: [v \u001b[39mfor\u001b[39;00m _, v \u001b[39min\u001b[39;00m filtered_pos]})\n\u001b[1;32m     18\u001b[0m kalman_df[\u001b[39m\"\u001b[39m\u001b[39merror\u001b[39m\u001b[39m\"\u001b[39m] \u001b[39m=\u001b[39m kalman_df\u001b[39m.\u001b[39mapply(calc_dist, axis\u001b[39m=\u001b[39m\u001b[39m1\u001b[39m)\n",
      "\u001b[0;31mTypeError\u001b[0m: p2p_dist() missing 4 required positional arguments: 'ax', 'ay', 'bx', and 'by'"
     ]
    }
   ],
   "source": [
    "from math import sqrt\n",
    "# Distance between the line and trajectory\n",
    "# ax + by + c = 0\n",
    "\n",
    "# a = 1\n",
    "# b = 0\n",
    "# c = -1.560\n",
    "\n",
    "# def point_line_distance(x, y, a, b, c):\n",
    "#     return abs(a*x + b*y + c)/sqrt(a**2+b**2)\n",
    "def p2p_dist(ax, ay, bx, by):\n",
    "    return sqrt((bx-ax)**2 + (by-ay)**2)\n",
    "\n",
    "# calc_dist = lambda x: point_line_distance(x[0],x[1],a,b,c)\n",
    "calc_dist = p2p_dist()\n",
    "\n",
    "kalman_df = pd.DataFrame({\"x\": [v for v, _ in filtered_pos], \"y\": [v for _, v in filtered_pos]})\n",
    "kalman_df[\"error\"] = kalman_df.apply(calc_dist, axis=1)\n",
    "df[\"error\"] = df[[\"x\", \"y\"]].apply(calc_dist, axis=1)\n",
    "\n",
    "errors = pd.concat([kalman_df[\"error\"], df[\"error\"]], axis=1, keys=['Kalman (UWB+accelerometer)', 'UWB'])\n",
    "px.line(errors, markers=\".\", title=\"Error over samples\", labels={\"value\": \"Error\", \"variable\": \"Method\", \"index\": \"Sample index\"})"
   ]
  }
 ],
 "metadata": {
  "kernelspec": {
   "display_name": ".venv",
   "language": "python",
   "name": "python3"
  },
  "language_info": {
   "codemirror_mode": {
    "name": "ipython",
    "version": 3
   },
   "file_extension": ".py",
   "mimetype": "text/x-python",
   "name": "python",
   "nbconvert_exporter": "python",
   "pygments_lexer": "ipython3",
   "version": "3.11.3"
  },
  "orig_nbformat": 4
 },
 "nbformat": 4,
 "nbformat_minor": 2
}
