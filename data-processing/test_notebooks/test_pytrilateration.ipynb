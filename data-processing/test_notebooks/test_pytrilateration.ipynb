{
 "cells": [
  {
   "cell_type": "code",
   "execution_count": 11,
   "metadata": {},
   "outputs": [],
   "source": [
    "import pandas as pd\n",
    "\n",
    "ANCHORS: dict[str, tuple[int, int]] = {\n",
    "    \"0x6c0d\": (0, 0),\n",
    "    \"0x5601\": (3400, 0),\n",
    "    \"0x26bd\": (3400, 4350),\n",
    "}\n",
    "\n",
    "df = pd.read_csv(\"/home/piotr/Documents/mgr/uwb-rs/data-processing/data/2023-05-21-20:42:34.863025P3-h.csv\")\n",
    "\n",
    "df = df.groupby(\"anchor\")[\"distance\"].mean().to_frame()\n",
    "\n",
    "data = []\n",
    "for anchor, (dist,) in df.iterrows():\n",
    "    data.append((ANCHORS[str(anchor)], dist))\n",
    "\n",
    "(x1, y1), d1 = data[0]\n",
    "(x2, y2), d2 = data[1]\n",
    "(x3, y3), d3 = data[2]\n"
   ]
  },
  {
   "cell_type": "code",
   "execution_count": 12,
   "metadata": {},
   "outputs": [
    {
     "name": "stdout",
     "output_type": "stream",
     "text": [
      "(x,y) = (1552.070787793699,2919.4175179118874)\n"
     ]
    }
   ],
   "source": [
    "'''\n",
    "The MIT License (MIT)\n",
    "\n",
    "Copyright (c) 2015 Boudjada Messaoud\n",
    "\n",
    "Permission is hereby granted, free of charge, to any person obtaining a copy\n",
    "of this software and associated documentation files (the \"Software\"), to deal\n",
    "in the Software without restriction, including without limitation the rights\n",
    "to use, copy, modify, merge, publish, distribute, sublicense, and/or sell\n",
    "copies of the Software, and to permit persons to whom the Software is\n",
    "furnished to do so, subject to the following conditions:\n",
    "\n",
    "The above copyright notice and this permission notice shall be included in all\n",
    "copies or substantial portions of the Software.\n",
    "\n",
    "THE SOFTWARE IS PROVIDED \"AS IS\", WITHOUT WARRANTY OF ANY KIND, EXPRESS OR\n",
    "IMPLIED, INCLUDING BUT NOT LIMITED TO THE WARRANTIES OF MERCHANTABILITY,\n",
    "FITNESS FOR A PARTICULAR PURPOSE AND NONINFRINGEMENT. IN NO EVENT SHALL THE\n",
    "AUTHORS OR COPYRIGHT HOLDERS BE LIABLE FOR ANY CLAIM, DAMAGES OR OTHER\n",
    "LIABILITY, WHETHER IN AN ACTION OF CONTRACT, TORT OR OTHERWISE, ARISING FROM,\n",
    "OUT OF OR IN CONNECTION WITH THE SOFTWARE OR THE USE OR OTHER DEALINGS IN THE\n",
    "SOFTWARE.\n",
    "'''\n",
    "# input tree points\n",
    "# x1 = int(input(\"x1 = \"))\n",
    "# y1 = int(input(\"y1 = \"))\n",
    "\n",
    "# x2 = int(input(\"x2 = \"))\n",
    "# y2 = int(input(\"y2 = \"))\n",
    "\n",
    "# x3 = int(input(\"x3 = \"))\n",
    "# y3 = int(input(\"y3 = \"))\n",
    "# make the points in a 2d tuple if you want to use static points later\n",
    "R1 = (x1,y1)\n",
    "R2 = (x2,y2)\n",
    "R3 = (x3,y3)\n",
    "# you have to introduce the distances \n",
    "# d1 = int(input(\"d1 = \"))\n",
    "# d2 = int(input(\"d2 = \"))\n",
    "# d3 = int(input(\"d3 = \"))\n",
    "\n",
    "# if d1 ,d2 and d3 in known\n",
    "# calculate A ,B and C coifficents\n",
    "A = R1[0]**2 + R1[1]**2 - d1**2\n",
    "B = R2[0]**2 + R2[1]**2 - d2**2\n",
    "C = R3[0]**2 + R3[1]**2 - d3**2\n",
    "X32 = R3[0] - R2[0]\n",
    "X13 = R1[0] - R3[0]\n",
    "X21 = R2[0] - R1[0]\n",
    "\n",
    "Y32 = R3[1] - R2[1]\n",
    "Y13 = R1[1] - R3[1]\n",
    "Y21 = R2[1] - R1[1]\n",
    "\n",
    "x = (A * Y32 + B * Y13 + C * Y21)/(2.0*(R1[0]*Y32 + R2[0]*Y13 + R3[0]*Y21))\n",
    "y = (A * X32 + B * X13 + C * X21)/(2.0*(R1[1]*X32 + R2[1]*X13 + R3[1]*X21))\n",
    "# prompt the result\n",
    "print(\"(x,y) = (\"+str(x)+\",\"+str(y)+\")\")\n"
   ]
  },
  {
   "cell_type": "code",
   "execution_count": 14,
   "metadata": {},
   "outputs": [
    {
     "name": "stdout",
     "output_type": "stream",
     "text": [
      "Error = 7.10264681927187 cm\n"
     ]
    }
   ],
   "source": [
    "from math import sqrt\n",
    "\n",
    "ref_point = (1560, 2990)\n",
    "\n",
    "print(f\"Error = {sqrt((ref_point[0]-x)**2+(ref_point[1]-y)**2)/10} cm\")"
   ]
  }
 ],
 "metadata": {
  "kernelspec": {
   "display_name": ".venv",
   "language": "python",
   "name": "python3"
  },
  "language_info": {
   "codemirror_mode": {
    "name": "ipython",
    "version": 3
   },
   "file_extension": ".py",
   "mimetype": "text/x-python",
   "name": "python",
   "nbconvert_exporter": "python",
   "pygments_lexer": "ipython3",
   "version": "3.11.3"
  },
  "orig_nbformat": 4
 },
 "nbformat": 4,
 "nbformat_minor": 2
}
