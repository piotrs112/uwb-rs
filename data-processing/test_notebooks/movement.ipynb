{
 "cells": [
  {
   "cell_type": "code",
   "execution_count": 1,
   "metadata": {},
   "outputs": [],
   "source": [
    "import pandas as pd\n",
    "from pathlib import Path\n",
    "\n",
    "from data.points import ANCHORS\n",
    "# filename = \"data/movement/2023-05-24-13:52:11.266488_P3-1-6-5_normalized_high_up.csv\"\n",
    "# filename = \"/home/piotr/Documents/mgr/uwb-rs/data-processing/data/movement/2023-05-24-12:32:40.823901_P3-1-6-5_normalized.csv\"\n",
    "# filename = \"data/movement/2023-05-24-14:18:43.048591P3-1-6-5_high_los.csv\"\n",
    "# filename = \"data/movement/2023-05-24-14:35:08.828772P3-1-6-5_high_los.csv\"\n",
    "filename = \"/home/piotr/Documents/mgr/uwb-rs/data-processing/data/movement/2023-06-23-13:55:53.175807slide-4anchors.csv\"\n",
    "df = pd.read_csv(filename, index_col=0)\n",
    "df[\"timestamp\"] = pd.to_datetime(df[\"timestamp\"])\n",
    "df = df[df.anchor.isin(ANCHORS.keys())]\n",
    "df = df.set_index(\"timestamp\")"
   ]
  },
  {
   "cell_type": "code",
   "execution_count": 2,
   "metadata": {},
   "outputs": [],
   "source": [
    "n_anchors = df[\"anchor\"].nunique()\n",
    "anchors = df[\"anchor\"].unique()"
   ]
  },
  {
   "cell_type": "code",
   "execution_count": 3,
   "metadata": {},
   "outputs": [],
   "source": [
    "# Create column for every anchor\n",
    "reference_dist = df[\"reference_distance\"].rolling(window=n_anchors, step=n_anchors).mean()\n",
    "df = df.pivot(columns=\"anchor\", values=\"distance\").fillna(0).rolling(window=n_anchors, step=n_anchors).sum().dropna()\n",
    "df[\"reference_distance\"] = reference_dist"
   ]
  },
  {
   "cell_type": "code",
   "execution_count": 4,
   "metadata": {},
   "outputs": [],
   "source": [
    "# Simple filtering\n",
    "# df=df.rolling(window=n_anchors).mean().dropna()"
   ]
  },
  {
   "cell_type": "code",
   "execution_count": 5,
   "metadata": {},
   "outputs": [
    {
     "data": {
      "text/html": [
       "<div>\n",
       "<style scoped>\n",
       "    .dataframe tbody tr th:only-of-type {\n",
       "        vertical-align: middle;\n",
       "    }\n",
       "\n",
       "    .dataframe tbody tr th {\n",
       "        vertical-align: top;\n",
       "    }\n",
       "\n",
       "    .dataframe thead th {\n",
       "        text-align: right;\n",
       "    }\n",
       "</style>\n",
       "<table border=\"1\" class=\"dataframe\">\n",
       "  <thead>\n",
       "    <tr style=\"text-align: right;\">\n",
       "      <th>anchor</th>\n",
       "      <th>0x26bd</th>\n",
       "      <th>0x5601</th>\n",
       "      <th>0x6c0d</th>\n",
       "      <th>reference_distance</th>\n",
       "    </tr>\n",
       "    <tr>\n",
       "      <th>timestamp</th>\n",
       "      <th></th>\n",
       "      <th></th>\n",
       "      <th></th>\n",
       "      <th></th>\n",
       "    </tr>\n",
       "  </thead>\n",
       "  <tbody>\n",
       "    <tr>\n",
       "      <th>2023-06-23 13:55:53.831558</th>\n",
       "      <td>3593.8296</td>\n",
       "      <td>4288.8955</td>\n",
       "      <td>2115.2312</td>\n",
       "      <td>109.690984</td>\n",
       "    </tr>\n",
       "    <tr>\n",
       "      <th>2023-06-23 13:55:54.352682</th>\n",
       "      <td>3592.2637</td>\n",
       "      <td>4278.4850</td>\n",
       "      <td>2076.9004</td>\n",
       "      <td>109.448377</td>\n",
       "    </tr>\n",
       "    <tr>\n",
       "      <th>2023-06-23 13:55:54.874570</th>\n",
       "      <td>3625.1610</td>\n",
       "      <td>4250.6530</td>\n",
       "      <td>2085.3050</td>\n",
       "      <td>110.004465</td>\n",
       "    </tr>\n",
       "    <tr>\n",
       "      <th>2023-06-23 13:55:55.393396</th>\n",
       "      <td>3571.7010</td>\n",
       "      <td>4286.0234</td>\n",
       "      <td>2111.1445</td>\n",
       "      <td>111.240669</td>\n",
       "    </tr>\n",
       "    <tr>\n",
       "      <th>2023-06-23 13:55:55.911334</th>\n",
       "      <td>3533.2480</td>\n",
       "      <td>4281.5757</td>\n",
       "      <td>2157.5989</td>\n",
       "      <td>115.370437</td>\n",
       "    </tr>\n",
       "    <tr>\n",
       "      <th>2023-06-23 13:55:56.437342</th>\n",
       "      <td>3500.1958</td>\n",
       "      <td>4257.8384</td>\n",
       "      <td>2150.2544</td>\n",
       "      <td>119.376175</td>\n",
       "    </tr>\n",
       "    <tr>\n",
       "      <th>2023-06-23 13:55:56.952512</th>\n",
       "      <td>3463.9219</td>\n",
       "      <td>4221.9710</td>\n",
       "      <td>2182.8652</td>\n",
       "      <td>124.781672</td>\n",
       "    </tr>\n",
       "    <tr>\n",
       "      <th>2023-06-23 13:55:57.470737</th>\n",
       "      <td>3427.2668</td>\n",
       "      <td>4170.8220</td>\n",
       "      <td>2122.3540</td>\n",
       "      <td>129.731941</td>\n",
       "    </tr>\n",
       "    <tr>\n",
       "      <th>2023-06-23 13:55:57.995821</th>\n",
       "      <td>3407.9973</td>\n",
       "      <td>4151.2446</td>\n",
       "      <td>2180.1560</td>\n",
       "      <td>133.095725</td>\n",
       "    </tr>\n",
       "    <tr>\n",
       "      <th>2023-06-23 13:55:58.515635</th>\n",
       "      <td>3340.0676</td>\n",
       "      <td>4123.1240</td>\n",
       "      <td>2111.5098</td>\n",
       "      <td>136.511302</td>\n",
       "    </tr>\n",
       "    <tr>\n",
       "      <th>2023-06-23 13:55:59.035553</th>\n",
       "      <td>3322.2466</td>\n",
       "      <td>4123.1940</td>\n",
       "      <td>2113.9243</td>\n",
       "      <td>140.109515</td>\n",
       "    </tr>\n",
       "    <tr>\n",
       "      <th>2023-06-23 13:55:59.553656</th>\n",
       "      <td>3302.8323</td>\n",
       "      <td>4117.4204</td>\n",
       "      <td>2069.0960</td>\n",
       "      <td>143.402425</td>\n",
       "    </tr>\n",
       "    <tr>\n",
       "      <th>2023-06-23 13:56:00.072496</th>\n",
       "      <td>3367.4624</td>\n",
       "      <td>4069.3347</td>\n",
       "      <td>2101.1240</td>\n",
       "      <td>145.048881</td>\n",
       "    </tr>\n",
       "    <tr>\n",
       "      <th>2023-06-23 13:56:00.593648</th>\n",
       "      <td>3268.2120</td>\n",
       "      <td>4026.5530</td>\n",
       "      <td>2129.3315</td>\n",
       "      <td>148.119628</td>\n",
       "    </tr>\n",
       "    <tr>\n",
       "      <th>2023-06-23 13:56:01.115526</th>\n",
       "      <td>3317.8289</td>\n",
       "      <td>4071.4870</td>\n",
       "      <td>2149.7090</td>\n",
       "      <td>151.108599</td>\n",
       "    </tr>\n",
       "    <tr>\n",
       "      <th>2023-06-23 13:56:01.635571</th>\n",
       "      <td>3273.5800</td>\n",
       "      <td>4071.1965</td>\n",
       "      <td>2137.4082</td>\n",
       "      <td>153.732296</td>\n",
       "    </tr>\n",
       "    <tr>\n",
       "      <th>2023-06-23 13:56:02.154407</th>\n",
       "      <td>3190.3574</td>\n",
       "      <td>4043.1453</td>\n",
       "      <td>2160.0493</td>\n",
       "      <td>157.310065</td>\n",
       "    </tr>\n",
       "    <tr>\n",
       "      <th>2023-06-23 13:56:02.676549</th>\n",
       "      <td>3210.0967</td>\n",
       "      <td>4026.1794</td>\n",
       "      <td>2147.9905</td>\n",
       "      <td>160.577079</td>\n",
       "    </tr>\n",
       "    <tr>\n",
       "      <th>2023-06-23 13:56:03.196259</th>\n",
       "      <td>3182.2270</td>\n",
       "      <td>4063.2456</td>\n",
       "      <td>2262.2156</td>\n",
       "      <td>163.908152</td>\n",
       "    </tr>\n",
       "    <tr>\n",
       "      <th>2023-06-23 13:56:03.719352</th>\n",
       "      <td>3196.8179</td>\n",
       "      <td>4022.9395</td>\n",
       "      <td>2244.8535</td>\n",
       "      <td>167.240588</td>\n",
       "    </tr>\n",
       "    <tr>\n",
       "      <th>2023-06-23 13:56:04.235783</th>\n",
       "      <td>3131.4954</td>\n",
       "      <td>3960.7441</td>\n",
       "      <td>2302.9355</td>\n",
       "      <td>170.578476</td>\n",
       "    </tr>\n",
       "    <tr>\n",
       "      <th>2023-06-23 13:56:04.756424</th>\n",
       "      <td>3118.0186</td>\n",
       "      <td>3984.2120</td>\n",
       "      <td>2247.4888</td>\n",
       "      <td>172.861433</td>\n",
       "    </tr>\n",
       "    <tr>\n",
       "      <th>2023-06-23 13:56:05.275835</th>\n",
       "      <td>3077.4558</td>\n",
       "      <td>3913.7744</td>\n",
       "      <td>2242.8267</td>\n",
       "      <td>175.445604</td>\n",
       "    </tr>\n",
       "    <tr>\n",
       "      <th>2023-06-23 13:56:05.795224</th>\n",
       "      <td>3049.0342</td>\n",
       "      <td>3908.5432</td>\n",
       "      <td>2256.9966</td>\n",
       "      <td>179.531757</td>\n",
       "    </tr>\n",
       "    <tr>\n",
       "      <th>2023-06-23 13:56:06.319460</th>\n",
       "      <td>3009.1980</td>\n",
       "      <td>3862.8552</td>\n",
       "      <td>2301.7527</td>\n",
       "      <td>181.319960</td>\n",
       "    </tr>\n",
       "    <tr>\n",
       "      <th>2023-06-23 13:56:06.839281</th>\n",
       "      <td>3000.0142</td>\n",
       "      <td>3872.5203</td>\n",
       "      <td>2303.4126</td>\n",
       "      <td>183.266266</td>\n",
       "    </tr>\n",
       "    <tr>\n",
       "      <th>2023-06-23 13:56:07.356459</th>\n",
       "      <td>2994.6404</td>\n",
       "      <td>3828.2537</td>\n",
       "      <td>2270.7920</td>\n",
       "      <td>184.995862</td>\n",
       "    </tr>\n",
       "    <tr>\n",
       "      <th>2023-06-23 13:56:07.876319</th>\n",
       "      <td>3000.0671</td>\n",
       "      <td>3845.5144</td>\n",
       "      <td>2298.6895</td>\n",
       "      <td>187.191590</td>\n",
       "    </tr>\n",
       "    <tr>\n",
       "      <th>2023-06-23 13:56:08.395551</th>\n",
       "      <td>2962.8552</td>\n",
       "      <td>3855.7048</td>\n",
       "      <td>2373.8260</td>\n",
       "      <td>191.279105</td>\n",
       "    </tr>\n",
       "    <tr>\n",
       "      <th>2023-06-23 13:56:08.917249</th>\n",
       "      <td>3015.3496</td>\n",
       "      <td>3801.9430</td>\n",
       "      <td>2363.5576</td>\n",
       "      <td>193.553885</td>\n",
       "    </tr>\n",
       "    <tr>\n",
       "      <th>2023-06-23 13:56:09.442920</th>\n",
       "      <td>3007.6040</td>\n",
       "      <td>3801.2270</td>\n",
       "      <td>2358.4010</td>\n",
       "      <td>195.571065</td>\n",
       "    </tr>\n",
       "    <tr>\n",
       "      <th>2023-06-23 13:56:09.954561</th>\n",
       "      <td>3015.1445</td>\n",
       "      <td>3804.7427</td>\n",
       "      <td>2352.3910</td>\n",
       "      <td>195.265762</td>\n",
       "    </tr>\n",
       "    <tr>\n",
       "      <th>2023-06-23 13:56:10.480254</th>\n",
       "      <td>3033.8904</td>\n",
       "      <td>3781.9710</td>\n",
       "      <td>2343.3416</td>\n",
       "      <td>195.276666</td>\n",
       "    </tr>\n",
       "    <tr>\n",
       "      <th>2023-06-23 13:56:10.994594</th>\n",
       "      <td>2995.6707</td>\n",
       "      <td>3777.8270</td>\n",
       "      <td>2321.7744</td>\n",
       "      <td>195.710087</td>\n",
       "    </tr>\n",
       "    <tr>\n",
       "      <th>2023-06-23 13:56:11.516277</th>\n",
       "      <td>2983.2834</td>\n",
       "      <td>3791.1290</td>\n",
       "      <td>2325.3838</td>\n",
       "      <td>195.380251</td>\n",
       "    </tr>\n",
       "    <tr>\n",
       "      <th>2023-06-23 13:56:12.033770</th>\n",
       "      <td>3029.6914</td>\n",
       "      <td>3796.5220</td>\n",
       "      <td>2375.7068</td>\n",
       "      <td>195.545169</td>\n",
       "    </tr>\n",
       "    <tr>\n",
       "      <th>2023-06-23 13:56:12.556683</th>\n",
       "      <td>2987.2805</td>\n",
       "      <td>3776.8962</td>\n",
       "      <td>2392.0698</td>\n",
       "      <td>195.321643</td>\n",
       "    </tr>\n",
       "    <tr>\n",
       "      <th>2023-06-23 13:56:13.076573</th>\n",
       "      <td>3049.4587</td>\n",
       "      <td>3777.6362</td>\n",
       "      <td>2358.7798</td>\n",
       "      <td>195.601050</td>\n",
       "    </tr>\n",
       "    <tr>\n",
       "      <th>2023-06-23 13:56:13.594373</th>\n",
       "      <td>3012.6733</td>\n",
       "      <td>3805.4353</td>\n",
       "      <td>2325.2810</td>\n",
       "      <td>195.487924</td>\n",
       "    </tr>\n",
       "    <tr>\n",
       "      <th>2023-06-23 13:56:14.117833</th>\n",
       "      <td>2979.2720</td>\n",
       "      <td>3777.6907</td>\n",
       "      <td>2321.4010</td>\n",
       "      <td>195.339362</td>\n",
       "    </tr>\n",
       "    <tr>\n",
       "      <th>2023-06-23 13:56:14.634509</th>\n",
       "      <td>2980.4470</td>\n",
       "      <td>3773.7607</td>\n",
       "      <td>2406.2430</td>\n",
       "      <td>195.377525</td>\n",
       "    </tr>\n",
       "    <tr>\n",
       "      <th>2023-06-23 13:56:15.157428</th>\n",
       "      <td>2997.5212</td>\n",
       "      <td>3787.7730</td>\n",
       "      <td>2375.0657</td>\n",
       "      <td>195.686917</td>\n",
       "    </tr>\n",
       "    <tr>\n",
       "      <th>2023-06-23 13:56:15.675396</th>\n",
       "      <td>2987.1070</td>\n",
       "      <td>3815.3325</td>\n",
       "      <td>2303.1138</td>\n",
       "      <td>195.399332</td>\n",
       "    </tr>\n",
       "  </tbody>\n",
       "</table>\n",
       "</div>"
      ],
      "text/plain": [
       "anchor                         0x26bd     0x5601     0x6c0d   \n",
       "timestamp                                                     \n",
       "2023-06-23 13:55:53.831558  3593.8296  4288.8955  2115.2312  \\\n",
       "2023-06-23 13:55:54.352682  3592.2637  4278.4850  2076.9004   \n",
       "2023-06-23 13:55:54.874570  3625.1610  4250.6530  2085.3050   \n",
       "2023-06-23 13:55:55.393396  3571.7010  4286.0234  2111.1445   \n",
       "2023-06-23 13:55:55.911334  3533.2480  4281.5757  2157.5989   \n",
       "2023-06-23 13:55:56.437342  3500.1958  4257.8384  2150.2544   \n",
       "2023-06-23 13:55:56.952512  3463.9219  4221.9710  2182.8652   \n",
       "2023-06-23 13:55:57.470737  3427.2668  4170.8220  2122.3540   \n",
       "2023-06-23 13:55:57.995821  3407.9973  4151.2446  2180.1560   \n",
       "2023-06-23 13:55:58.515635  3340.0676  4123.1240  2111.5098   \n",
       "2023-06-23 13:55:59.035553  3322.2466  4123.1940  2113.9243   \n",
       "2023-06-23 13:55:59.553656  3302.8323  4117.4204  2069.0960   \n",
       "2023-06-23 13:56:00.072496  3367.4624  4069.3347  2101.1240   \n",
       "2023-06-23 13:56:00.593648  3268.2120  4026.5530  2129.3315   \n",
       "2023-06-23 13:56:01.115526  3317.8289  4071.4870  2149.7090   \n",
       "2023-06-23 13:56:01.635571  3273.5800  4071.1965  2137.4082   \n",
       "2023-06-23 13:56:02.154407  3190.3574  4043.1453  2160.0493   \n",
       "2023-06-23 13:56:02.676549  3210.0967  4026.1794  2147.9905   \n",
       "2023-06-23 13:56:03.196259  3182.2270  4063.2456  2262.2156   \n",
       "2023-06-23 13:56:03.719352  3196.8179  4022.9395  2244.8535   \n",
       "2023-06-23 13:56:04.235783  3131.4954  3960.7441  2302.9355   \n",
       "2023-06-23 13:56:04.756424  3118.0186  3984.2120  2247.4888   \n",
       "2023-06-23 13:56:05.275835  3077.4558  3913.7744  2242.8267   \n",
       "2023-06-23 13:56:05.795224  3049.0342  3908.5432  2256.9966   \n",
       "2023-06-23 13:56:06.319460  3009.1980  3862.8552  2301.7527   \n",
       "2023-06-23 13:56:06.839281  3000.0142  3872.5203  2303.4126   \n",
       "2023-06-23 13:56:07.356459  2994.6404  3828.2537  2270.7920   \n",
       "2023-06-23 13:56:07.876319  3000.0671  3845.5144  2298.6895   \n",
       "2023-06-23 13:56:08.395551  2962.8552  3855.7048  2373.8260   \n",
       "2023-06-23 13:56:08.917249  3015.3496  3801.9430  2363.5576   \n",
       "2023-06-23 13:56:09.442920  3007.6040  3801.2270  2358.4010   \n",
       "2023-06-23 13:56:09.954561  3015.1445  3804.7427  2352.3910   \n",
       "2023-06-23 13:56:10.480254  3033.8904  3781.9710  2343.3416   \n",
       "2023-06-23 13:56:10.994594  2995.6707  3777.8270  2321.7744   \n",
       "2023-06-23 13:56:11.516277  2983.2834  3791.1290  2325.3838   \n",
       "2023-06-23 13:56:12.033770  3029.6914  3796.5220  2375.7068   \n",
       "2023-06-23 13:56:12.556683  2987.2805  3776.8962  2392.0698   \n",
       "2023-06-23 13:56:13.076573  3049.4587  3777.6362  2358.7798   \n",
       "2023-06-23 13:56:13.594373  3012.6733  3805.4353  2325.2810   \n",
       "2023-06-23 13:56:14.117833  2979.2720  3777.6907  2321.4010   \n",
       "2023-06-23 13:56:14.634509  2980.4470  3773.7607  2406.2430   \n",
       "2023-06-23 13:56:15.157428  2997.5212  3787.7730  2375.0657   \n",
       "2023-06-23 13:56:15.675396  2987.1070  3815.3325  2303.1138   \n",
       "\n",
       "anchor                      reference_distance  \n",
       "timestamp                                       \n",
       "2023-06-23 13:55:53.831558          109.690984  \n",
       "2023-06-23 13:55:54.352682          109.448377  \n",
       "2023-06-23 13:55:54.874570          110.004465  \n",
       "2023-06-23 13:55:55.393396          111.240669  \n",
       "2023-06-23 13:55:55.911334          115.370437  \n",
       "2023-06-23 13:55:56.437342          119.376175  \n",
       "2023-06-23 13:55:56.952512          124.781672  \n",
       "2023-06-23 13:55:57.470737          129.731941  \n",
       "2023-06-23 13:55:57.995821          133.095725  \n",
       "2023-06-23 13:55:58.515635          136.511302  \n",
       "2023-06-23 13:55:59.035553          140.109515  \n",
       "2023-06-23 13:55:59.553656          143.402425  \n",
       "2023-06-23 13:56:00.072496          145.048881  \n",
       "2023-06-23 13:56:00.593648          148.119628  \n",
       "2023-06-23 13:56:01.115526          151.108599  \n",
       "2023-06-23 13:56:01.635571          153.732296  \n",
       "2023-06-23 13:56:02.154407          157.310065  \n",
       "2023-06-23 13:56:02.676549          160.577079  \n",
       "2023-06-23 13:56:03.196259          163.908152  \n",
       "2023-06-23 13:56:03.719352          167.240588  \n",
       "2023-06-23 13:56:04.235783          170.578476  \n",
       "2023-06-23 13:56:04.756424          172.861433  \n",
       "2023-06-23 13:56:05.275835          175.445604  \n",
       "2023-06-23 13:56:05.795224          179.531757  \n",
       "2023-06-23 13:56:06.319460          181.319960  \n",
       "2023-06-23 13:56:06.839281          183.266266  \n",
       "2023-06-23 13:56:07.356459          184.995862  \n",
       "2023-06-23 13:56:07.876319          187.191590  \n",
       "2023-06-23 13:56:08.395551          191.279105  \n",
       "2023-06-23 13:56:08.917249          193.553885  \n",
       "2023-06-23 13:56:09.442920          195.571065  \n",
       "2023-06-23 13:56:09.954561          195.265762  \n",
       "2023-06-23 13:56:10.480254          195.276666  \n",
       "2023-06-23 13:56:10.994594          195.710087  \n",
       "2023-06-23 13:56:11.516277          195.380251  \n",
       "2023-06-23 13:56:12.033770          195.545169  \n",
       "2023-06-23 13:56:12.556683          195.321643  \n",
       "2023-06-23 13:56:13.076573          195.601050  \n",
       "2023-06-23 13:56:13.594373          195.487924  \n",
       "2023-06-23 13:56:14.117833          195.339362  \n",
       "2023-06-23 13:56:14.634509          195.377525  \n",
       "2023-06-23 13:56:15.157428          195.686917  \n",
       "2023-06-23 13:56:15.675396          195.399332  "
      ]
     },
     "metadata": {},
     "output_type": "display_data"
    },
    {
     "data": {
      "image/png": "[encoded data removed]",
      "text/plain": [
       "<Figure size 640x480 with 1 Axes>"
      ]
     },
     "metadata": {},
     "output_type": "display_data"
    }
   ],
   "source": [
    "from easy_trilateration.model import *\n",
    "from easy_trilateration.least_squares import easy_least_squares, solve_history\n",
    "from easy_trilateration.graph import *\n",
    "from helpers import distance\n",
    "\n",
    "history = []\n",
    "display(df)\n",
    "\n",
    "for timestamp, row in df.iterrows():\n",
    "    c = [Circle(*ANCHORS[anchor], row[anchor]) for anchor in anchors]\n",
    "    history.append(Trilateration(c))\n",
    "\n",
    "solve_history(history)\n"
   ]
  },
  {
   "cell_type": "code",
   "execution_count": 6,
   "metadata": {},
   "outputs": [
    {
     "data": {
      "image/png": "[encoded data removed]",
      "text/plain": [
       "<Figure size 640x480 with 1 Axes>"
      ]
     },
     "metadata": {},
     "output_type": "display_data"
    },
    {
     "data": {
      "image/png": "[encoded data removed]",
      "text/plain": [
       "<Figure size 640x480 with 1 Axes>"
      ]
     },
     "metadata": {},
     "output_type": "display_data"
    }
   ],
   "source": [
    "import matplotlib.pyplot as plt\n",
    "from matplotlib.lines import Line2D\n",
    "\n",
    "ax = plt.subplot()\n",
    "ax.add_line(Line2D((1560,-5000),(1560,5000)))\n",
    "a = animate(history, ax)\n",
    "with open(\"video.html\", \"w\") as file:\n",
    "    file.write(a.to_html5_video())\n"
   ]
  },
  {
   "cell_type": "code",
   "execution_count": 7,
   "metadata": {},
   "outputs": [],
   "source": [
    "data = {\n",
    "    \"x\": [],\n",
    "    \"y\": [],\n",
    "    \"radius\": [],\n",
    "    \"timestamp\": df.index.to_list()\n",
    "}\n",
    "for t in history:\n",
    "    t: Trilateration\n",
    "    data[\"x\"].append(t.result.center.x)\n",
    "    data[\"y\"].append(t.result.center.y)\n",
    "    data[\"radius\"].append(t.result.radius)\n",
    "\n",
    "df = pd.DataFrame(data)"
   ]
  },
  {
   "cell_type": "code",
   "execution_count": 8,
   "metadata": {},
   "outputs": [
    {
     "data": {
      "application/vnd.plotly.v1+json": {
       "config": {
        "plotlyServerURL": "https://plot.ly"
       },
       "data": [
        {
         "hovertemplate": "x=%{x}<br>y=%{y}<extra></extra>",
         "legendgroup": "",
         "marker": {
          "color": "#636efa",
          "symbol": "circle"
         },
         "mode": "markers",
         "name": "",
         "orientation": "v",
         "showlegend": false,
         "type": "scatter",
         "x": [
          -680.6553320483594,
          -730.3475695752514,
          -598.4600331397937,
          -701.8584406674005,
          -629.3223614685131,
          -604.8021834390606,
          -471.9614693362177,
          -477.46282770740027,
          -336.2569668638709,
          -441.09243515444365,
          -451.3675602898105,
          -537.9488059212109,
          -300.1624731295174,
          -220.40412612611073,
          -258.55130358618317,
          -311.4975762628477,
          -263.1434391938051,
          -228.66947097083673,
          -143.12787978747838,
          -70.86178981514401,
          110.99844255951639,
          -29.94715809165302,
          87.75153081410026,
          104.00103422568098,
          237.4910239461497,
          217.0592034328535,
          252.1314004643193,
          261.3154180276609,
          329.15262207463326,
          431.42032333655516,
          422.88299184887506,
          412.2354386884552,
          446.46414676988235,
          410.50374933132036,
          387.26732355615695,
          461.57461205377183,
          498.0581776178786,
          478.97660686934927,
          374.7388422741192,
          403.5139738328346,
          518.269947927202,
          462.7014015646376,
          316.6114574454644
         ],
         "xaxis": "x",
         "y": [
          2996.0586320730777,
          2993.0133496184394,
          2903.922846726912,
          3021.868994893707,
          3050.3393173250397,
          3057.223462430843,
          3036.2138711088064,
          3020.691563713457,
          2998.118163934448,
          3059.4109355596192,
          3081.361849103986,
          3111.8797073973874,
          2947.3598482081466,
          2996.2468648525723,
          2997.2426667975283,
          3053.92850459358,
          3106.129406937809,
          3060.0156245514613,
          3114.8381208435253,
          3043.579778812701,
          3015.5901655020816,
          3078.405903794062,
          3026.7612102100825,
          3047.513702362846,
          3018.149432679648,
          3040.434906159984,
          2995.8854753676883,
          3005.9337575105437,
          3040.2306780654417,
          2921.346229620798,
          2929.3125655058316,
          2927.2068185294106,
          2882.9706773462226,
          2920.4551188502796,
          2948.504731555538,
          2898.1725204498453,
          2913.6825720208085,
          2859.700699267665,
          2936.1687600984774,
          2936.935962931658,
          2913.919713979833,
          2919.8416023656387,
          2979.73655773645
         ],
         "yaxis": "y"
        },
        {
         "hovertemplate": "x=%{x}<br>y=%{y}<extra></extra>",
         "legendgroup": "",
         "marker": {
          "color": "#636efa",
          "symbol": "circle"
         },
         "mode": "markers",
         "name": "",
         "orientation": "v",
         "showlegend": false,
         "type": "scatter",
         "x": [
          190,
          3650,
          3650
         ],
         "xaxis": "x",
         "y": [
          70,
          70,
          4330
         ],
         "yaxis": "y"
        }
       ],
       "layout": {
        "height": 700,
        "template": {
         "data": {
          "bar": [
           {
            "error_x": {
             "color": "#2a3f5f"
            },
            "error_y": {
             "color": "#2a3f5f"
            },
            "marker": {
             "line": {
              "color": "#E5ECF6",
              "width": 0.5
             },
             "pattern": {
              "fillmode": "overlay",
              "size": 10,
              "solidity": 0.2
             }
            },
            "type": "bar"
           }
          ],
          "barpolar": [
           {
            "marker": {
             "line": {
              "color": "#E5ECF6",
              "width": 0.5
             },
             "pattern": {
              "fillmode": "overlay",
              "size": 10,
              "solidity": 0.2
             }
            },
            "type": "barpolar"
           }
          ],
          "carpet": [
           {
            "aaxis": {
             "endlinecolor": "#2a3f5f",
             "gridcolor": "white",
             "linecolor": "white",
             "minorgridcolor": "white",
             "startlinecolor": "#2a3f5f"
            },
            "baxis": {
             "endlinecolor": "#2a3f5f",
             "gridcolor": "white",
             "linecolor": "white",
             "minorgridcolor": "white",
             "startlinecolor": "#2a3f5f"
            },
            "type": "carpet"
           }
          ],
          "choropleth": [
           {
            "colorbar": {
             "outlinewidth": 0,
             "ticks": ""
            },
            "type": "choropleth"
           }
          ],
          "contour": [
           {
            "colorbar": {
             "outlinewidth": 0,
             "ticks": ""
            },
            "colorscale": [
             [
              0,
              "#0d0887"
             ],
             [
              0.1111111111111111,
              "#46039f"
             ],
             [
              0.2222222222222222,
              "#7201a8"
             ],
             [
              0.3333333333333333,
              "#9c179e"
             ],
             [
              0.4444444444444444,
              "#bd3786"
             ],
             [
              0.5555555555555556,
              "#d8576b"
             ],
             [
              0.6666666666666666,
              "#ed7953"
             ],
             [
              0.7777777777777778,
              "#fb9f3a"
             ],
             [
              0.8888888888888888,
              "#fdca26"
             ],
             [
              1,
              "#f0f921"
             ]
            ],
            "type": "contour"
           }
          ],
          "contourcarpet": [
           {
            "colorbar": {
             "outlinewidth": 0,
             "ticks": ""
            },
            "type": "contourcarpet"
           }
          ],
          "heatmap": [
           {
            "colorbar": {
             "outlinewidth": 0,
             "ticks": ""
            },
            "colorscale": [
             [
              0,
              "#0d0887"
             ],
             [
              0.1111111111111111,
              "#46039f"
             ],
             [
              0.2222222222222222,
              "#7201a8"
             ],
             [
              0.3333333333333333,
              "#9c179e"
             ],
             [
              0.4444444444444444,
              "#bd3786"
             ],
             [
              0.5555555555555556,
              "#d8576b"
             ],
             [
              0.6666666666666666,
              "#ed7953"
             ],
             [
              0.7777777777777778,
              "#fb9f3a"
             ],
             [
              0.8888888888888888,
              "#fdca26"
             ],
             [
              1,
              "#f0f921"
             ]
            ],
            "type": "heatmap"
           }
          ],
          "heatmapgl": [
           {
            "colorbar": {
             "outlinewidth": 0,
             "ticks": ""
            },
            "colorscale": [
             [
              0,
              "#0d0887"
             ],
             [
              0.1111111111111111,
              "#46039f"
             ],
             [
              0.2222222222222222,
              "#7201a8"
             ],
             [
              0.3333333333333333,
              "#9c179e"
             ],
             [
              0.4444444444444444,
              "#bd3786"
             ],
             [
              0.5555555555555556,
              "#d8576b"
             ],
             [
              0.6666666666666666,
              "#ed7953"
             ],
             [
              0.7777777777777778,
              "#fb9f3a"
             ],
             [
              0.8888888888888888,
              "#fdca26"
             ],
             [
              1,
              "#f0f921"
             ]
            ],
            "type": "heatmapgl"
           }
          ],
          "histogram": [
           {
            "marker": {
             "pattern": {
              "fillmode": "overlay",
              "size": 10,
              "solidity": 0.2
             }
            },
            "type": "histogram"
           }
          ],
          "histogram2d": [
           {
            "colorbar": {
             "outlinewidth": 0,
             "ticks": ""
            },
            "colorscale": [
             [
              0,
              "#0d0887"
             ],
             [
              0.1111111111111111,
              "#46039f"
             ],
             [
              0.2222222222222222,
              "#7201a8"
             ],
             [
              0.3333333333333333,
              "#9c179e"
             ],
             [
              0.4444444444444444,
              "#bd3786"
             ],
             [
              0.5555555555555556,
              "#d8576b"
             ],
             [
              0.6666666666666666,
              "#ed7953"
             ],
             [
              0.7777777777777778,
              "#fb9f3a"
             ],
             [
              0.8888888888888888,
              "#fdca26"
             ],
             [
              1,
              "#f0f921"
             ]
            ],
            "type": "histogram2d"
           }
          ],
          "histogram2dcontour": [
           {
            "colorbar": {
             "outlinewidth": 0,
             "ticks": ""
            },
            "colorscale": [
             [
              0,
              "#0d0887"
             ],
             [
              0.1111111111111111,
              "#46039f"
             ],
             [
              0.2222222222222222,
              "#7201a8"
             ],
             [
              0.3333333333333333,
              "#9c179e"
             ],
             [
              0.4444444444444444,
              "#bd3786"
             ],
             [
              0.5555555555555556,
              "#d8576b"
             ],
             [
              0.6666666666666666,
              "#ed7953"
             ],
             [
              0.7777777777777778,
              "#fb9f3a"
             ],
             [
              0.8888888888888888,
              "#fdca26"
             ],
             [
              1,
              "#f0f921"
             ]
            ],
            "type": "histogram2dcontour"
           }
          ],
          "mesh3d": [
           {
            "colorbar": {
             "outlinewidth": 0,
             "ticks": ""
            },
            "type": "mesh3d"
           }
          ],
          "parcoords": [
           {
            "line": {
             "colorbar": {
              "outlinewidth": 0,
              "ticks": ""
             }
            },
            "type": "parcoords"
           }
          ],
          "pie": [
           {
            "automargin": true,
            "type": "pie"
           }
          ],
          "scatter": [
           {
            "fillpattern": {
             "fillmode": "overlay",
             "size": 10,
             "solidity": 0.2
            },
            "type": "scatter"
           }
          ],
          "scatter3d": [
           {
            "line": {
             "colorbar": {
              "outlinewidth": 0,
              "ticks": ""
             }
            },
            "marker": {
             "colorbar": {
              "outlinewidth": 0,
              "ticks": ""
             }
            },
            "type": "scatter3d"
           }
          ],
          "scattercarpet": [
           {
            "marker": {
             "colorbar": {
              "outlinewidth": 0,
              "ticks": ""
             }
            },
            "type": "scattercarpet"
           }
          ],
          "scattergeo": [
           {
            "marker": {
             "colorbar": {
              "outlinewidth": 0,
              "ticks": ""
             }
            },
            "type": "scattergeo"
           }
          ],
          "scattergl": [
           {
            "marker": {
             "colorbar": {
              "outlinewidth": 0,
              "ticks": ""
             }
            },
            "type": "scattergl"
           }
          ],
          "scattermapbox": [
           {
            "marker": {
             "colorbar": {
              "outlinewidth": 0,
              "ticks": ""
             }
            },
            "type": "scattermapbox"
           }
          ],
          "scatterpolar": [
           {
            "marker": {
             "colorbar": {
              "outlinewidth": 0,
              "ticks": ""
             }
            },
            "type": "scatterpolar"
           }
          ],
          "scatterpolargl": [
           {
            "marker": {
             "colorbar": {
              "outlinewidth": 0,
              "ticks": ""
             }
            },
            "type": "scatterpolargl"
           }
          ],
          "scatterternary": [
           {
            "marker": {
             "colorbar": {
              "outlinewidth": 0,
              "ticks": ""
             }
            },
            "type": "scatterternary"
           }
          ],
          "surface": [
           {
            "colorbar": {
             "outlinewidth": 0,
             "ticks": ""
            },
            "colorscale": [
             [
              0,
              "#0d0887"
             ],
             [
              0.1111111111111111,
              "#46039f"
             ],
             [
              0.2222222222222222,
              "#7201a8"
             ],
             [
              0.3333333333333333,
              "#9c179e"
             ],
             [
              0.4444444444444444,
              "#bd3786"
             ],
             [
              0.5555555555555556,
              "#d8576b"
             ],
             [
              0.6666666666666666,
              "#ed7953"
             ],
             [
              0.7777777777777778,
              "#fb9f3a"
             ],
             [
              0.8888888888888888,
              "#fdca26"
             ],
             [
              1,
              "#f0f921"
             ]
            ],
            "type": "surface"
           }
          ],
          "table": [
           {
            "cells": {
             "fill": {
              "color": "#EBF0F8"
             },
             "line": {
              "color": "white"
             }
            },
            "header": {
             "fill": {
              "color": "#C8D4E3"
             },
             "line": {
              "color": "white"
             }
            },
            "type": "table"
           }
          ]
         },
         "layout": {
          "annotationdefaults": {
           "arrowcolor": "#2a3f5f",
           "arrowhead": 0,
           "arrowwidth": 1
          },
          "autotypenumbers": "strict",
          "coloraxis": {
           "colorbar": {
            "outlinewidth": 0,
            "ticks": ""
           }
          },
          "colorscale": {
           "diverging": [
            [
             0,
             "#8e0152"
            ],
            [
             0.1,
             "#c51b7d"
            ],
            [
             0.2,
             "#de77ae"
            ],
            [
             0.3,
             "#f1b6da"
            ],
            [
             0.4,
             "#fde0ef"
            ],
            [
             0.5,
             "#f7f7f7"
            ],
            [
             0.6,
             "#e6f5d0"
            ],
            [
             0.7,
             "#b8e186"
            ],
            [
             0.8,
             "#7fbc41"
            ],
            [
             0.9,
             "#4d9221"
            ],
            [
             1,
             "#276419"
            ]
           ],
           "sequential": [
            [
             0,
             "#0d0887"
            ],
            [
             0.1111111111111111,
             "#46039f"
            ],
            [
             0.2222222222222222,
             "#7201a8"
            ],
            [
             0.3333333333333333,
             "#9c179e"
            ],
            [
             0.4444444444444444,
             "#bd3786"
            ],
            [
             0.5555555555555556,
             "#d8576b"
            ],
            [
             0.6666666666666666,
             "#ed7953"
            ],
            [
             0.7777777777777778,
             "#fb9f3a"
            ],
            [
             0.8888888888888888,
             "#fdca26"
            ],
            [
             1,
             "#f0f921"
            ]
           ],
           "sequentialminus": [
            [
             0,
             "#0d0887"
            ],
            [
             0.1111111111111111,
             "#46039f"
            ],
            [
             0.2222222222222222,
             "#7201a8"
            ],
            [
             0.3333333333333333,
             "#9c179e"
            ],
            [
             0.4444444444444444,
             "#bd3786"
            ],
            [
             0.5555555555555556,
             "#d8576b"
            ],
            [
             0.6666666666666666,
             "#ed7953"
            ],
            [
             0.7777777777777778,
             "#fb9f3a"
            ],
            [
             0.8888888888888888,
             "#fdca26"
            ],
            [
             1,
             "#f0f921"
            ]
           ]
          },
          "colorway": [
           "#636efa",
           "#EF553B",
           "#00cc96",
           "#ab63fa",
           "#FFA15A",
           "#19d3f3",
           "#FF6692",
           "#B6E880",
           "#FF97FF",
           "#FECB52"
          ],
          "font": {
           "color": "#2a3f5f"
          },
          "geo": {
           "bgcolor": "white",
           "lakecolor": "white",
           "landcolor": "#E5ECF6",
           "showlakes": true,
           "showland": true,
           "subunitcolor": "white"
          },
          "hoverlabel": {
           "align": "left"
          },
          "hovermode": "closest",
          "mapbox": {
           "style": "light"
          },
          "paper_bgcolor": "white",
          "plot_bgcolor": "#E5ECF6",
          "polar": {
           "angularaxis": {
            "gridcolor": "white",
            "linecolor": "white",
            "ticks": ""
           },
           "bgcolor": "#E5ECF6",
           "radialaxis": {
            "gridcolor": "white",
            "linecolor": "white",
            "ticks": ""
           }
          },
          "scene": {
           "xaxis": {
            "backgroundcolor": "#E5ECF6",
            "gridcolor": "white",
            "gridwidth": 2,
            "linecolor": "white",
            "showbackground": true,
            "ticks": "",
            "zerolinecolor": "white"
           },
           "yaxis": {
            "backgroundcolor": "#E5ECF6",
            "gridcolor": "white",
            "gridwidth": 2,
            "linecolor": "white",
            "showbackground": true,
            "ticks": "",
            "zerolinecolor": "white"
           },
           "zaxis": {
            "backgroundcolor": "#E5ECF6",
            "gridcolor": "white",
            "gridwidth": 2,
            "linecolor": "white",
            "showbackground": true,
            "ticks": "",
            "zerolinecolor": "white"
           }
          },
          "shapedefaults": {
           "line": {
            "color": "#2a3f5f"
           }
          },
          "ternary": {
           "aaxis": {
            "gridcolor": "white",
            "linecolor": "white",
            "ticks": ""
           },
           "baxis": {
            "gridcolor": "white",
            "linecolor": "white",
            "ticks": ""
           },
           "bgcolor": "#E5ECF6",
           "caxis": {
            "gridcolor": "white",
            "linecolor": "white",
            "ticks": ""
           }
          },
          "title": {
           "x": 0.05
          },
          "xaxis": {
           "automargin": true,
           "gridcolor": "white",
           "linecolor": "white",
           "ticks": "",
           "title": {
            "standoff": 15
           },
           "zerolinecolor": "white",
           "zerolinewidth": 2
          },
          "yaxis": {
           "automargin": true,
           "gridcolor": "white",
           "linecolor": "white",
           "ticks": "",
           "title": {
            "standoff": 15
           },
           "zerolinecolor": "white",
           "zerolinewidth": 2
          }
         }
        },
        "width": 700,
        "xaxis": {
         "range": [
          -100,
          3600
         ]
        },
        "yaxis": {
         "range": [
          -1000,
          4600
         ]
        }
       }
      }
     },
     "metadata": {},
     "output_type": "display_data"
    }
   ],
   "source": [
    "import plotly.graph_objects as go\n",
    "import plotly.express as px\n",
    "\n",
    "anchors_df = pd.DataFrame(ANCHORS, index=[\"x\",\"y\"]).transpose()\n",
    "\n",
    "trace = px.scatter(df, x=\"x\", y=\"y\")\n",
    "anchors = px.scatter(anchors_df, x=\"x\", y=\"y\")\n",
    "\n",
    "fig = go.Figure(trace.data + anchors.data)\n",
    "fig.update_xaxes(range=[-100,3600])\n",
    "fig.update_yaxes(range=[-1000,4600])\n",
    "fig.update_layout(width=700, height=700)\n",
    "fig.show()"
   ]
  },
  {
   "cell_type": "code",
   "execution_count": 9,
   "metadata": {},
   "outputs": [
    {
     "data": {
      "application/vnd.plotly.v1+json": {
       "config": {
        "plotlyServerURL": "https://plot.ly"
       },
       "data": [
        {
         "hovertemplate": "timestamp=2023-06-23 13:55:53.831558<br>x=%{x}<br>y=%{y}<extra></extra>",
         "legendgroup": "",
         "marker": {
          "color": "#636efa",
          "symbol": "circle"
         },
         "mode": "markers",
         "name": "",
         "orientation": "v",
         "showlegend": false,
         "type": "scatter",
         "x": [
          -680.6553320483594
         ],
         "xaxis": "x",
         "y": [
          2996.0586320730777
         ],
         "yaxis": "y"
        }
       ],
       "frames": [
        {
         "data": [
          {
           "hovertemplate": "timestamp=2023-06-23 13:55:53.831558<br>x=%{x}<br>y=%{y}<extra></extra>",
           "legendgroup": "",
           "marker": {
            "color": "#636efa",
            "symbol": "circle"
           },
           "mode": "markers",
           "name": "",
           "orientation": "v",
           "showlegend": false,
           "type": "scatter",
           "x": [
            -680.6553320483594
           ],
           "xaxis": "x",
           "y": [
            2996.0586320730777
           ],
           "yaxis": "y"
          }
         ],
         "name": "2023-06-23 13:55:53.831558"
        },
        {
         "data": [
          {
           "hovertemplate": "timestamp=2023-06-23 13:55:54.352682<br>x=%{x}<br>y=%{y}<extra></extra>",
           "legendgroup": "",
           "marker": {
            "color": "#636efa",
            "symbol": "circle"
           },
           "mode": "markers",
           "name": "",
           "orientation": "v",
           "showlegend": false,
           "type": "scatter",
           "x": [
            -730.3475695752514
           ],
           "xaxis": "x",
           "y": [
            2993.0133496184394
           ],
           "yaxis": "y"
          }
         ],
         "name": "2023-06-23 13:55:54.352682"
        },
        {
         "data": [
          {
           "hovertemplate": "timestamp=2023-06-23 13:55:54.874570<br>x=%{x}<br>y=%{y}<extra></extra>",
           "legendgroup": "",
           "marker": {
            "color": "#636efa",
            "symbol": "circle"
           },
           "mode": "markers",
           "name": "",
           "orientation": "v",
           "showlegend": false,
           "type": "scatter",
           "x": [
            -598.4600331397937
           ],
           "xaxis": "x",
           "y": [
            2903.922846726912
           ],
           "yaxis": "y"
          }
         ],
         "name": "2023-06-23 13:55:54.874570"
        },
        {
         "data": [
          {
           "hovertemplate": "timestamp=2023-06-23 13:55:55.393396<br>x=%{x}<br>y=%{y}<extra></extra>",
           "legendgroup": "",
           "marker": {
            "color": "#636efa",
            "symbol": "circle"
           },
           "mode": "markers",
           "name": "",
           "orientation": "v",
           "showlegend": false,
           "type": "scatter",
           "x": [
            -701.8584406674005
           ],
           "xaxis": "x",
           "y": [
            3021.868994893707
           ],
           "yaxis": "y"
          }
         ],
         "name": "2023-06-23 13:55:55.393396"
        },
        {
         "data": [
          {
           "hovertemplate": "timestamp=2023-06-23 13:55:55.911334<br>x=%{x}<br>y=%{y}<extra></extra>",
           "legendgroup": "",
           "marker": {
            "color": "#636efa",
            "symbol": "circle"
           },
           "mode": "markers",
           "name": "",
           "orientation": "v",
           "showlegend": false,
           "type": "scatter",
           "x": [
            -629.3223614685131
           ],
           "xaxis": "x",
           "y": [
            3050.3393173250397
           ],
           "yaxis": "y"
          }
         ],
         "name": "2023-06-23 13:55:55.911334"
        },
        {
         "data": [
          {
           "hovertemplate": "timestamp=2023-06-23 13:55:56.437342<br>x=%{x}<br>y=%{y}<extra></extra>",
           "legendgroup": "",
           "marker": {
            "color": "#636efa",
            "symbol": "circle"
           },
           "mode": "markers",
           "name": "",
           "orientation": "v",
           "showlegend": false,
           "type": "scatter",
           "x": [
            -604.8021834390606
           ],
           "xaxis": "x",
           "y": [
            3057.223462430843
           ],
           "yaxis": "y"
          }
         ],
         "name": "2023-06-23 13:55:56.437342"
        },
        {
         "data": [
          {
           "hovertemplate": "timestamp=2023-06-23 13:55:56.952512<br>x=%{x}<br>y=%{y}<extra></extra>",
           "legendgroup": "",
           "marker": {
            "color": "#636efa",
            "symbol": "circle"
           },
           "mode": "markers",
           "name": "",
           "orientation": "v",
           "showlegend": false,
           "type": "scatter",
           "x": [
            -471.9614693362177
           ],
           "xaxis": "x",
           "y": [
            3036.2138711088064
           ],
           "yaxis": "y"
          }
         ],
         "name": "2023-06-23 13:55:56.952512"
        },
        {
         "data": [
          {
           "hovertemplate": "timestamp=2023-06-23 13:55:57.470737<br>x=%{x}<br>y=%{y}<extra></extra>",
           "legendgroup": "",
           "marker": {
            "color": "#636efa",
            "symbol": "circle"
           },
           "mode": "markers",
           "name": "",
           "orientation": "v",
           "showlegend": false,
           "type": "scatter",
           "x": [
            -477.46282770740027
           ],
           "xaxis": "x",
           "y": [
            3020.691563713457
           ],
           "yaxis": "y"
          }
         ],
         "name": "2023-06-23 13:55:57.470737"
        },
        {
         "data": [
          {
           "hovertemplate": "timestamp=2023-06-23 13:55:57.995821<br>x=%{x}<br>y=%{y}<extra></extra>",
           "legendgroup": "",
           "marker": {
            "color": "#636efa",
            "symbol": "circle"
           },
           "mode": "markers",
           "name": "",
           "orientation": "v",
           "showlegend": false,
           "type": "scatter",
           "x": [
            -336.2569668638709
           ],
           "xaxis": "x",
           "y": [
            2998.118163934448
           ],
           "yaxis": "y"
          }
         ],
         "name": "2023-06-23 13:55:57.995821"
        },
        {
         "data": [
          {
           "hovertemplate": "timestamp=2023-06-23 13:55:58.515635<br>x=%{x}<br>y=%{y}<extra></extra>",
           "legendgroup": "",
           "marker": {
            "color": "#636efa",
            "symbol": "circle"
           },
           "mode": "markers",
           "name": "",
           "orientation": "v",
           "showlegend": false,
           "type": "scatter",
           "x": [
            -441.09243515444365
           ],
           "xaxis": "x",
           "y": [
            3059.4109355596192
           ],
           "yaxis": "y"
          }
         ],
         "name": "2023-06-23 13:55:58.515635"
        },
        {
         "data": [
          {
           "hovertemplate": "timestamp=2023-06-23 13:55:59.035553<br>x=%{x}<br>y=%{y}<extra></extra>",
           "legendgroup": "",
           "marker": {
            "color": "#636efa",
            "symbol": "circle"
           },
           "mode": "markers",
           "name": "",
           "orientation": "v",
           "showlegend": false,
           "type": "scatter",
           "x": [
            -451.3675602898105
           ],
           "xaxis": "x",
           "y": [
            3081.361849103986
           ],
           "yaxis": "y"
          }
         ],
         "name": "2023-06-23 13:55:59.035553"
        },
        {
         "data": [
          {
           "hovertemplate": "timestamp=2023-06-23 13:55:59.553656<br>x=%{x}<br>y=%{y}<extra></extra>",
           "legendgroup": "",
           "marker": {
            "color": "#636efa",
            "symbol": "circle"
           },
           "mode": "markers",
           "name": "",
           "orientation": "v",
           "showlegend": false,
           "type": "scatter",
           "x": [
            -537.9488059212109
           ],
           "xaxis": "x",
           "y": [
            3111.8797073973874
           ],
           "yaxis": "y"
          }
         ],
         "name": "2023-06-23 13:55:59.553656"
        },
        {
         "data": [
          {
           "hovertemplate": "timestamp=2023-06-23 13:56:00.072496<br>x=%{x}<br>y=%{y}<extra></extra>",
           "legendgroup": "",
           "marker": {
            "color": "#636efa",
            "symbol": "circle"
           },
           "mode": "markers",
           "name": "",
           "orientation": "v",
           "showlegend": false,
           "type": "scatter",
           "x": [
            -300.1624731295174
           ],
           "xaxis": "x",
           "y": [
            2947.3598482081466
           ],
           "yaxis": "y"
          }
         ],
         "name": "2023-06-23 13:56:00.072496"
        },
        {
         "data": [
          {
           "hovertemplate": "timestamp=2023-06-23 13:56:00.593648<br>x=%{x}<br>y=%{y}<extra></extra>",
           "legendgroup": "",
           "marker": {
            "color": "#636efa",
            "symbol": "circle"
           },
           "mode": "markers",
           "name": "",
           "orientation": "v",
           "showlegend": false,
           "type": "scatter",
           "x": [
            -220.40412612611073
           ],
           "xaxis": "x",
           "y": [
            2996.2468648525723
           ],
           "yaxis": "y"
          }
         ],
         "name": "2023-06-23 13:56:00.593648"
        },
        {
         "data": [
          {
           "hovertemplate": "timestamp=2023-06-23 13:56:01.115526<br>x=%{x}<br>y=%{y}<extra></extra>",
           "legendgroup": "",
           "marker": {
            "color": "#636efa",
            "symbol": "circle"
           },
           "mode": "markers",
           "name": "",
           "orientation": "v",
           "showlegend": false,
           "type": "scatter",
           "x": [
            -258.55130358618317
           ],
           "xaxis": "x",
           "y": [
            2997.2426667975283
           ],
           "yaxis": "y"
          }
         ],
         "name": "2023-06-23 13:56:01.115526"
        },
        {
         "data": [
          {
           "hovertemplate": "timestamp=2023-06-23 13:56:01.635571<br>x=%{x}<br>y=%{y}<extra></extra>",
           "legendgroup": "",
           "marker": {
            "color": "#636efa",
            "symbol": "circle"
           },
           "mode": "markers",
           "name": "",
           "orientation": "v",
           "showlegend": false,
           "type": "scatter",
           "x": [
            -311.4975762628477
           ],
           "xaxis": "x",
           "y": [
            3053.92850459358
           ],
           "yaxis": "y"
          }
         ],
         "name": "2023-06-23 13:56:01.635571"
        },
        {
         "data": [
          {
           "hovertemplate": "timestamp=2023-06-23 13:56:02.154407<br>x=%{x}<br>y=%{y}<extra></extra>",
           "legendgroup": "",
           "marker": {
            "color": "#636efa",
            "symbol": "circle"
           },
           "mode": "markers",
           "name": "",
           "orientation": "v",
           "showlegend": false,
           "type": "scatter",
           "x": [
            -263.1434391938051
           ],
           "xaxis": "x",
           "y": [
            3106.129406937809
           ],
           "yaxis": "y"
          }
         ],
         "name": "2023-06-23 13:56:02.154407"
        },
        {
         "data": [
          {
           "hovertemplate": "timestamp=2023-06-23 13:56:02.676549<br>x=%{x}<br>y=%{y}<extra></extra>",
           "legendgroup": "",
           "marker": {
            "color": "#636efa",
            "symbol": "circle"
           },
           "mode": "markers",
           "name": "",
           "orientation": "v",
           "showlegend": false,
           "type": "scatter",
           "x": [
            -228.66947097083673
           ],
           "xaxis": "x",
           "y": [
            3060.0156245514613
           ],
           "yaxis": "y"
          }
         ],
         "name": "2023-06-23 13:56:02.676549"
        },
        {
         "data": [
          {
           "hovertemplate": "timestamp=2023-06-23 13:56:03.196259<br>x=%{x}<br>y=%{y}<extra></extra>",
           "legendgroup": "",
           "marker": {
            "color": "#636efa",
            "symbol": "circle"
           },
           "mode": "markers",
           "name": "",
           "orientation": "v",
           "showlegend": false,
           "type": "scatter",
           "x": [
            -143.12787978747838
           ],
           "xaxis": "x",
           "y": [
            3114.8381208435253
           ],
           "yaxis": "y"
          }
         ],
         "name": "2023-06-23 13:56:03.196259"
        },
        {
         "data": [
          {
           "hovertemplate": "timestamp=2023-06-23 13:56:03.719352<br>x=%{x}<br>y=%{y}<extra></extra>",
           "legendgroup": "",
           "marker": {
            "color": "#636efa",
            "symbol": "circle"
           },
           "mode": "markers",
           "name": "",
           "orientation": "v",
           "showlegend": false,
           "type": "scatter",
           "x": [
            -70.86178981514401
           ],
           "xaxis": "x",
           "y": [
            3043.579778812701
           ],
           "yaxis": "y"
          }
         ],
         "name": "2023-06-23 13:56:03.719352"
        },
        {
         "data": [
          {
           "hovertemplate": "timestamp=2023-06-23 13:56:04.235783<br>x=%{x}<br>y=%{y}<extra></extra>",
           "legendgroup": "",
           "marker": {
            "color": "#636efa",
            "symbol": "circle"
           },
           "mode": "markers",
           "name": "",
           "orientation": "v",
           "showlegend": false,
           "type": "scatter",
           "x": [
            110.99844255951639
           ],
           "xaxis": "x",
           "y": [
            3015.5901655020816
           ],
           "yaxis": "y"
          }
         ],
         "name": "2023-06-23 13:56:04.235783"
        },
        {
         "data": [
          {
           "hovertemplate": "timestamp=2023-06-23 13:56:04.756424<br>x=%{x}<br>y=%{y}<extra></extra>",
           "legendgroup": "",
           "marker": {
            "color": "#636efa",
            "symbol": "circle"
           },
           "mode": "markers",
           "name": "",
           "orientation": "v",
           "showlegend": false,
           "type": "scatter",
           "x": [
            -29.94715809165302
           ],
           "xaxis": "x",
           "y": [
            3078.405903794062
           ],
           "yaxis": "y"
          }
         ],
         "name": "2023-06-23 13:56:04.756424"
        },
        {
         "data": [
          {
           "hovertemplate": "timestamp=2023-06-23 13:56:05.275835<br>x=%{x}<br>y=%{y}<extra></extra>",
           "legendgroup": "",
           "marker": {
            "color": "#636efa",
            "symbol": "circle"
           },
           "mode": "markers",
           "name": "",
           "orientation": "v",
           "showlegend": false,
           "type": "scatter",
           "x": [
            87.75153081410026
           ],
           "xaxis": "x",
           "y": [
            3026.7612102100825
           ],
           "yaxis": "y"
          }
         ],
         "name": "2023-06-23 13:56:05.275835"
        },
        {
         "data": [
          {
           "hovertemplate": "timestamp=2023-06-23 13:56:05.795224<br>x=%{x}<br>y=%{y}<extra></extra>",
           "legendgroup": "",
           "marker": {
            "color": "#636efa",
            "symbol": "circle"
           },
           "mode": "markers",
           "name": "",
           "orientation": "v",
           "showlegend": false,
           "type": "scatter",
           "x": [
            104.00103422568098
           ],
           "xaxis": "x",
           "y": [
            3047.513702362846
           ],
           "yaxis": "y"
          }
         ],
         "name": "2023-06-23 13:56:05.795224"
        },
        {
         "data": [
          {
           "hovertemplate": "timestamp=2023-06-23 13:56:06.319460<br>x=%{x}<br>y=%{y}<extra></extra>",
           "legendgroup": "",
           "marker": {
            "color": "#636efa",
            "symbol": "circle"
           },
           "mode": "markers",
           "name": "",
           "orientation": "v",
           "showlegend": false,
           "type": "scatter",
           "x": [
            237.4910239461497
           ],
           "xaxis": "x",
           "y": [
            3018.149432679648
           ],
           "yaxis": "y"
          }
         ],
         "name": "2023-06-23 13:56:06.319460"
        },
        {
         "data": [
          {
           "hovertemplate": "timestamp=2023-06-23 13:56:06.839281<br>x=%{x}<br>y=%{y}<extra></extra>",
           "legendgroup": "",
           "marker": {
            "color": "#636efa",
            "symbol": "circle"
           },
           "mode": "markers",
           "name": "",
           "orientation": "v",
           "showlegend": false,
           "type": "scatter",
           "x": [
            217.0592034328535
           ],
           "xaxis": "x",
           "y": [
            3040.434906159984
           ],
           "yaxis": "y"
          }
         ],
         "name": "2023-06-23 13:56:06.839281"
        },
        {
         "data": [
          {
           "hovertemplate": "timestamp=2023-06-23 13:56:07.356459<br>x=%{x}<br>y=%{y}<extra></extra>",
           "legendgroup": "",
           "marker": {
            "color": "#636efa",
            "symbol": "circle"
           },
           "mode": "markers",
           "name": "",
           "orientation": "v",
           "showlegend": false,
           "type": "scatter",
           "x": [
            252.1314004643193
           ],
           "xaxis": "x",
           "y": [
            2995.8854753676883
           ],
           "yaxis": "y"
          }
         ],
         "name": "2023-06-23 13:56:07.356459"
        },
        {
         "data": [
          {
           "hovertemplate": "timestamp=2023-06-23 13:56:07.876319<br>x=%{x}<br>y=%{y}<extra></extra>",
           "legendgroup": "",
           "marker": {
            "color": "#636efa",
            "symbol": "circle"
           },
           "mode": "markers",
           "name": "",
           "orientation": "v",
           "showlegend": false,
           "type": "scatter",
           "x": [
            261.3154180276609
           ],
           "xaxis": "x",
           "y": [
            3005.9337575105437
           ],
           "yaxis": "y"
          }
         ],
         "name": "2023-06-23 13:56:07.876319"
        },
        {
         "data": [
          {
           "hovertemplate": "timestamp=2023-06-23 13:56:08.395551<br>x=%{x}<br>y=%{y}<extra></extra>",
           "legendgroup": "",
           "marker": {
            "color": "#636efa",
            "symbol": "circle"
           },
           "mode": "markers",
           "name": "",
           "orientation": "v",
           "showlegend": false,
           "type": "scatter",
           "x": [
            329.15262207463326
           ],
           "xaxis": "x",
           "y": [
            3040.2306780654417
           ],
           "yaxis": "y"
          }
         ],
         "name": "2023-06-23 13:56:08.395551"
        },
        {
         "data": [
          {
           "hovertemplate": "timestamp=2023-06-23 13:56:08.917249<br>x=%{x}<br>y=%{y}<extra></extra>",
           "legendgroup": "",
           "marker": {
            "color": "#636efa",
            "symbol": "circle"
           },
           "mode": "markers",
           "name": "",
           "orientation": "v",
           "showlegend": false,
           "type": "scatter",
           "x": [
            431.42032333655516
           ],
           "xaxis": "x",
           "y": [
            2921.346229620798
           ],
           "yaxis": "y"
          }
         ],
         "name": "2023-06-23 13:56:08.917249"
        },
        {
         "data": [
          {
           "hovertemplate": "timestamp=2023-06-23 13:56:09.442920<br>x=%{x}<br>y=%{y}<extra></extra>",
           "legendgroup": "",
           "marker": {
            "color": "#636efa",
            "symbol": "circle"
           },
           "mode": "markers",
           "name": "",
           "orientation": "v",
           "showlegend": false,
           "type": "scatter",
           "x": [
            422.88299184887506
           ],
           "xaxis": "x",
           "y": [
            2929.3125655058316
           ],
           "yaxis": "y"
          }
         ],
         "name": "2023-06-23 13:56:09.442920"
        },
        {
         "data": [
          {
           "hovertemplate": "timestamp=2023-06-23 13:56:09.954561<br>x=%{x}<br>y=%{y}<extra></extra>",
           "legendgroup": "",
           "marker": {
            "color": "#636efa",
            "symbol": "circle"
           },
           "mode": "markers",
           "name": "",
           "orientation": "v",
           "showlegend": false,
           "type": "scatter",
           "x": [
            412.2354386884552
           ],
           "xaxis": "x",
           "y": [
            2927.2068185294106
           ],
           "yaxis": "y"
          }
         ],
         "name": "2023-06-23 13:56:09.954561"
        },
        {
         "data": [
          {
           "hovertemplate": "timestamp=2023-06-23 13:56:10.480254<br>x=%{x}<br>y=%{y}<extra></extra>",
           "legendgroup": "",
           "marker": {
            "color": "#636efa",
            "symbol": "circle"
           },
           "mode": "markers",
           "name": "",
           "orientation": "v",
           "showlegend": false,
           "type": "scatter",
           "x": [
            446.46414676988235
           ],
           "xaxis": "x",
           "y": [
            2882.9706773462226
           ],
           "yaxis": "y"
          }
         ],
         "name": "2023-06-23 13:56:10.480254"
        },
        {
         "data": [
          {
           "hovertemplate": "timestamp=2023-06-23 13:56:10.994594<br>x=%{x}<br>y=%{y}<extra></extra>",
           "legendgroup": "",
           "marker": {
            "color": "#636efa",
            "symbol": "circle"
           },
           "mode": "markers",
           "name": "",
           "orientation": "v",
           "showlegend": false,
           "type": "scatter",
           "x": [
            410.50374933132036
           ],
           "xaxis": "x",
           "y": [
            2920.4551188502796
           ],
           "yaxis": "y"
          }
         ],
         "name": "2023-06-23 13:56:10.994594"
        },
        {
         "data": [
          {
           "hovertemplate": "timestamp=2023-06-23 13:56:11.516277<br>x=%{x}<br>y=%{y}<extra></extra>",
           "legendgroup": "",
           "marker": {
            "color": "#636efa",
            "symbol": "circle"
           },
           "mode": "markers",
           "name": "",
           "orientation": "v",
           "showlegend": false,
           "type": "scatter",
           "x": [
            387.26732355615695
           ],
           "xaxis": "x",
           "y": [
            2948.504731555538
           ],
           "yaxis": "y"
          }
         ],
         "name": "2023-06-23 13:56:11.516277"
        },
        {
         "data": [
          {
           "hovertemplate": "timestamp=2023-06-23 13:56:12.033770<br>x=%{x}<br>y=%{y}<extra></extra>",
           "legendgroup": "",
           "marker": {
            "color": "#636efa",
            "symbol": "circle"
           },
           "mode": "markers",
           "name": "",
           "orientation": "v",
           "showlegend": false,
           "type": "scatter",
           "x": [
            461.57461205377183
           ],
           "xaxis": "x",
           "y": [
            2898.1725204498453
           ],
           "yaxis": "y"
          }
         ],
         "name": "2023-06-23 13:56:12.033770"
        },
        {
         "data": [
          {
           "hovertemplate": "timestamp=2023-06-23 13:56:12.556683<br>x=%{x}<br>y=%{y}<extra></extra>",
           "legendgroup": "",
           "marker": {
            "color": "#636efa",
            "symbol": "circle"
           },
           "mode": "markers",
           "name": "",
           "orientation": "v",
           "showlegend": false,
           "type": "scatter",
           "x": [
            498.0581776178786
           ],
           "xaxis": "x",
           "y": [
            2913.6825720208085
           ],
           "yaxis": "y"
          }
         ],
         "name": "2023-06-23 13:56:12.556683"
        },
        {
         "data": [
          {
           "hovertemplate": "timestamp=2023-06-23 13:56:13.076573<br>x=%{x}<br>y=%{y}<extra></extra>",
           "legendgroup": "",
           "marker": {
            "color": "#636efa",
            "symbol": "circle"
           },
           "mode": "markers",
           "name": "",
           "orientation": "v",
           "showlegend": false,
           "type": "scatter",
           "x": [
            478.97660686934927
           ],
           "xaxis": "x",
           "y": [
            2859.700699267665
           ],
           "yaxis": "y"
          }
         ],
         "name": "2023-06-23 13:56:13.076573"
        },
        {
         "data": [
          {
           "hovertemplate": "timestamp=2023-06-23 13:56:13.594373<br>x=%{x}<br>y=%{y}<extra></extra>",
           "legendgroup": "",
           "marker": {
            "color": "#636efa",
            "symbol": "circle"
           },
           "mode": "markers",
           "name": "",
           "orientation": "v",
           "showlegend": false,
           "type": "scatter",
           "x": [
            374.7388422741192
           ],
           "xaxis": "x",
           "y": [
            2936.1687600984774
           ],
           "yaxis": "y"
          }
         ],
         "name": "2023-06-23 13:56:13.594373"
        },
        {
         "data": [
          {
           "hovertemplate": "timestamp=2023-06-23 13:56:14.117833<br>x=%{x}<br>y=%{y}<extra></extra>",
           "legendgroup": "",
           "marker": {
            "color": "#636efa",
            "symbol": "circle"
           },
           "mode": "markers",
           "name": "",
           "orientation": "v",
           "showlegend": false,
           "type": "scatter",
           "x": [
            403.5139738328346
           ],
           "xaxis": "x",
           "y": [
            2936.935962931658
           ],
           "yaxis": "y"
          }
         ],
         "name": "2023-06-23 13:56:14.117833"
        },
        {
         "data": [
          {
           "hovertemplate": "timestamp=2023-06-23 13:56:14.634509<br>x=%{x}<br>y=%{y}<extra></extra>",
           "legendgroup": "",
           "marker": {
            "color": "#636efa",
            "symbol": "circle"
           },
           "mode": "markers",
           "name": "",
           "orientation": "v",
           "showlegend": false,
           "type": "scatter",
           "x": [
            518.269947927202
           ],
           "xaxis": "x",
           "y": [
            2913.919713979833
           ],
           "yaxis": "y"
          }
         ],
         "name": "2023-06-23 13:56:14.634509"
        },
        {
         "data": [
          {
           "hovertemplate": "timestamp=2023-06-23 13:56:15.157428<br>x=%{x}<br>y=%{y}<extra></extra>",
           "legendgroup": "",
           "marker": {
            "color": "#636efa",
            "symbol": "circle"
           },
           "mode": "markers",
           "name": "",
           "orientation": "v",
           "showlegend": false,
           "type": "scatter",
           "x": [
            462.7014015646376
           ],
           "xaxis": "x",
           "y": [
            2919.8416023656387
           ],
           "yaxis": "y"
          }
         ],
         "name": "2023-06-23 13:56:15.157428"
        },
        {
         "data": [
          {
           "hovertemplate": "timestamp=2023-06-23 13:56:15.675396<br>x=%{x}<br>y=%{y}<extra></extra>",
           "legendgroup": "",
           "marker": {
            "color": "#636efa",
            "symbol": "circle"
           },
           "mode": "markers",
           "name": "",
           "orientation": "v",
           "showlegend": false,
           "type": "scatter",
           "x": [
            316.6114574454644
           ],
           "xaxis": "x",
           "y": [
            2979.73655773645
           ],
           "yaxis": "y"
          }
         ],
         "name": "2023-06-23 13:56:15.675396"
        }
       ],
       "layout": {
        "height": 600,
        "legend": {
         "tracegroupgap": 0
        },
        "margin": {
         "t": 60
        },
        "sliders": [
         {
          "active": 0,
          "currentvalue": {
           "prefix": "timestamp="
          },
          "len": 0.9,
          "pad": {
           "b": 10,
           "t": 60
          },
          "steps": [
           {
            "args": [
             [
              "2023-06-23 13:55:53.831558"
             ],
             {
              "frame": {
               "duration": 0,
               "redraw": false
              },
              "fromcurrent": true,
              "mode": "immediate",
              "transition": {
               "duration": 0,
               "easing": "linear"
              }
             }
            ],
            "label": "2023-06-23 13:55:53.831558",
            "method": "animate"
           },
           {
            "args": [
             [
              "2023-06-23 13:55:54.352682"
             ],
             {
              "frame": {
               "duration": 0,
               "redraw": false
              },
              "fromcurrent": true,
              "mode": "immediate",
              "transition": {
               "duration": 0,
               "easing": "linear"
              }
             }
            ],
            "label": "2023-06-23 13:55:54.352682",
            "method": "animate"
           },
           {
            "args": [
             [
              "2023-06-23 13:55:54.874570"
             ],
             {
              "frame": {
               "duration": 0,
               "redraw": false
              },
              "fromcurrent": true,
              "mode": "immediate",
              "transition": {
               "duration": 0,
               "easing": "linear"
              }
             }
            ],
            "label": "2023-06-23 13:55:54.874570",
            "method": "animate"
           },
           {
            "args": [
             [
              "2023-06-23 13:55:55.393396"
             ],
             {
              "frame": {
               "duration": 0,
               "redraw": false
              },
              "fromcurrent": true,
              "mode": "immediate",
              "transition": {
               "duration": 0,
               "easing": "linear"
              }
             }
            ],
            "label": "2023-06-23 13:55:55.393396",
            "method": "animate"
           },
           {
            "args": [
             [
              "2023-06-23 13:55:55.911334"
             ],
             {
              "frame": {
               "duration": 0,
               "redraw": false
              },
              "fromcurrent": true,
              "mode": "immediate",
              "transition": {
               "duration": 0,
               "easing": "linear"
              }
             }
            ],
            "label": "2023-06-23 13:55:55.911334",
            "method": "animate"
           },
           {
            "args": [
             [
              "2023-06-23 13:55:56.437342"
             ],
             {
              "frame": {
               "duration": 0,
               "redraw": false
              },
              "fromcurrent": true,
              "mode": "immediate",
              "transition": {
               "duration": 0,
               "easing": "linear"
              }
             }
            ],
            "label": "2023-06-23 13:55:56.437342",
            "method": "animate"
           },
           {
            "args": [
             [
              "2023-06-23 13:55:56.952512"
             ],
             {
              "frame": {
               "duration": 0,
               "redraw": false
              },
              "fromcurrent": true,
              "mode": "immediate",
              "transition": {
               "duration": 0,
               "easing": "linear"
              }
             }
            ],
            "label": "2023-06-23 13:55:56.952512",
            "method": "animate"
           },
           {
            "args": [
             [
              "2023-06-23 13:55:57.470737"
             ],
             {
              "frame": {
               "duration": 0,
               "redraw": false
              },
              "fromcurrent": true,
              "mode": "immediate",
              "transition": {
               "duration": 0,
               "easing": "linear"
              }
             }
            ],
            "label": "2023-06-23 13:55:57.470737",
            "method": "animate"
           },
           {
            "args": [
             [
              "2023-06-23 13:55:57.995821"
             ],
             {
              "frame": {
               "duration": 0,
               "redraw": false
              },
              "fromcurrent": true,
              "mode": "immediate",
              "transition": {
               "duration": 0,
               "easing": "linear"
              }
             }
            ],
            "label": "2023-06-23 13:55:57.995821",
            "method": "animate"
           },
           {
            "args": [
             [
              "2023-06-23 13:55:58.515635"
             ],
             {
              "frame": {
               "duration": 0,
               "redraw": false
              },
              "fromcurrent": true,
              "mode": "immediate",
              "transition": {
               "duration": 0,
               "easing": "linear"
              }
             }
            ],
            "label": "2023-06-23 13:55:58.515635",
            "method": "animate"
           },
           {
            "args": [
             [
              "2023-06-23 13:55:59.035553"
             ],
             {
              "frame": {
               "duration": 0,
               "redraw": false
              },
              "fromcurrent": true,
              "mode": "immediate",
              "transition": {
               "duration": 0,
               "easing": "linear"
              }
             }
            ],
            "label": "2023-06-23 13:55:59.035553",
            "method": "animate"
           },
           {
            "args": [
             [
              "2023-06-23 13:55:59.553656"
             ],
             {
              "frame": {
               "duration": 0,
               "redraw": false
              },
              "fromcurrent": true,
              "mode": "immediate",
              "transition": {
               "duration": 0,
               "easing": "linear"
              }
             }
            ],
            "label": "2023-06-23 13:55:59.553656",
            "method": "animate"
           },
           {
            "args": [
             [
              "2023-06-23 13:56:00.072496"
             ],
             {
              "frame": {
               "duration": 0,
               "redraw": false
              },
              "fromcurrent": true,
              "mode": "immediate",
              "transition": {
               "duration": 0,
               "easing": "linear"
              }
             }
            ],
            "label": "2023-06-23 13:56:00.072496",
            "method": "animate"
           },
           {
            "args": [
             [
              "2023-06-23 13:56:00.593648"
             ],
             {
              "frame": {
               "duration": 0,
               "redraw": false
              },
              "fromcurrent": true,
              "mode": "immediate",
              "transition": {
               "duration": 0,
               "easing": "linear"
              }
             }
            ],
            "label": "2023-06-23 13:56:00.593648",
            "method": "animate"
           },
           {
            "args": [
             [
              "2023-06-23 13:56:01.115526"
             ],
             {
              "frame": {
               "duration": 0,
               "redraw": false
              },
              "fromcurrent": true,
              "mode": "immediate",
              "transition": {
               "duration": 0,
               "easing": "linear"
              }
             }
            ],
            "label": "2023-06-23 13:56:01.115526",
            "method": "animate"
           },
           {
            "args": [
             [
              "2023-06-23 13:56:01.635571"
             ],
             {
              "frame": {
               "duration": 0,
               "redraw": false
              },
              "fromcurrent": true,
              "mode": "immediate",
              "transition": {
               "duration": 0,
               "easing": "linear"
              }
             }
            ],
            "label": "2023-06-23 13:56:01.635571",
            "method": "animate"
           },
           {
            "args": [
             [
              "2023-06-23 13:56:02.154407"
             ],
             {
              "frame": {
               "duration": 0,
               "redraw": false
              },
              "fromcurrent": true,
              "mode": "immediate",
              "transition": {
               "duration": 0,
               "easing": "linear"
              }
             }
            ],
            "label": "2023-06-23 13:56:02.154407",
            "method": "animate"
           },
           {
            "args": [
             [
              "2023-06-23 13:56:02.676549"
             ],
             {
              "frame": {
               "duration": 0,
               "redraw": false
              },
              "fromcurrent": true,
              "mode": "immediate",
              "transition": {
               "duration": 0,
               "easing": "linear"
              }
             }
            ],
            "label": "2023-06-23 13:56:02.676549",
            "method": "animate"
           },
           {
            "args": [
             [
              "2023-06-23 13:56:03.196259"
             ],
             {
              "frame": {
               "duration": 0,
               "redraw": false
              },
              "fromcurrent": true,
              "mode": "immediate",
              "transition": {
               "duration": 0,
               "easing": "linear"
              }
             }
            ],
            "label": "2023-06-23 13:56:03.196259",
            "method": "animate"
           },
           {
            "args": [
             [
              "2023-06-23 13:56:03.719352"
             ],
             {
              "frame": {
               "duration": 0,
               "redraw": false
              },
              "fromcurrent": true,
              "mode": "immediate",
              "transition": {
               "duration": 0,
               "easing": "linear"
              }
             }
            ],
            "label": "2023-06-23 13:56:03.719352",
            "method": "animate"
           },
           {
            "args": [
             [
              "2023-06-23 13:56:04.235783"
             ],
             {
              "frame": {
               "duration": 0,
               "redraw": false
              },
              "fromcurrent": true,
              "mode": "immediate",
              "transition": {
               "duration": 0,
               "easing": "linear"
              }
             }
            ],
            "label": "2023-06-23 13:56:04.235783",
            "method": "animate"
           },
           {
            "args": [
             [
              "2023-06-23 13:56:04.756424"
             ],
             {
              "frame": {
               "duration": 0,
               "redraw": false
              },
              "fromcurrent": true,
              "mode": "immediate",
              "transition": {
               "duration": 0,
               "easing": "linear"
              }
             }
            ],
            "label": "2023-06-23 13:56:04.756424",
            "method": "animate"
           },
           {
            "args": [
             [
              "2023-06-23 13:56:05.275835"
             ],
             {
              "frame": {
               "duration": 0,
               "redraw": false
              },
              "fromcurrent": true,
              "mode": "immediate",
              "transition": {
               "duration": 0,
               "easing": "linear"
              }
             }
            ],
            "label": "2023-06-23 13:56:05.275835",
            "method": "animate"
           },
           {
            "args": [
             [
              "2023-06-23 13:56:05.795224"
             ],
             {
              "frame": {
               "duration": 0,
               "redraw": false
              },
              "fromcurrent": true,
              "mode": "immediate",
              "transition": {
               "duration": 0,
               "easing": "linear"
              }
             }
            ],
            "label": "2023-06-23 13:56:05.795224",
            "method": "animate"
           },
           {
            "args": [
             [
              "2023-06-23 13:56:06.319460"
             ],
             {
              "frame": {
               "duration": 0,
               "redraw": false
              },
              "fromcurrent": true,
              "mode": "immediate",
              "transition": {
               "duration": 0,
               "easing": "linear"
              }
             }
            ],
            "label": "2023-06-23 13:56:06.319460",
            "method": "animate"
           },
           {
            "args": [
             [
              "2023-06-23 13:56:06.839281"
             ],
             {
              "frame": {
               "duration": 0,
               "redraw": false
              },
              "fromcurrent": true,
              "mode": "immediate",
              "transition": {
               "duration": 0,
               "easing": "linear"
              }
             }
            ],
            "label": "2023-06-23 13:56:06.839281",
            "method": "animate"
           },
           {
            "args": [
             [
              "2023-06-23 13:56:07.356459"
             ],
             {
              "frame": {
               "duration": 0,
               "redraw": false
              },
              "fromcurrent": true,
              "mode": "immediate",
              "transition": {
               "duration": 0,
               "easing": "linear"
              }
             }
            ],
            "label": "2023-06-23 13:56:07.356459",
            "method": "animate"
           },
           {
            "args": [
             [
              "2023-06-23 13:56:07.876319"
             ],
             {
              "frame": {
               "duration": 0,
               "redraw": false
              },
              "fromcurrent": true,
              "mode": "immediate",
              "transition": {
               "duration": 0,
               "easing": "linear"
              }
             }
            ],
            "label": "2023-06-23 13:56:07.876319",
            "method": "animate"
           },
           {
            "args": [
             [
              "2023-06-23 13:56:08.395551"
             ],
             {
              "frame": {
               "duration": 0,
               "redraw": false
              },
              "fromcurrent": true,
              "mode": "immediate",
              "transition": {
               "duration": 0,
               "easing": "linear"
              }
             }
            ],
            "label": "2023-06-23 13:56:08.395551",
            "method": "animate"
           },
           {
            "args": [
             [
              "2023-06-23 13:56:08.917249"
             ],
             {
              "frame": {
               "duration": 0,
               "redraw": false
              },
              "fromcurrent": true,
              "mode": "immediate",
              "transition": {
               "duration": 0,
               "easing": "linear"
              }
             }
            ],
            "label": "2023-06-23 13:56:08.917249",
            "method": "animate"
           },
           {
            "args": [
             [
              "2023-06-23 13:56:09.442920"
             ],
             {
              "frame": {
               "duration": 0,
               "redraw": false
              },
              "fromcurrent": true,
              "mode": "immediate",
              "transition": {
               "duration": 0,
               "easing": "linear"
              }
             }
            ],
            "label": "2023-06-23 13:56:09.442920",
            "method": "animate"
           },
           {
            "args": [
             [
              "2023-06-23 13:56:09.954561"
             ],
             {
              "frame": {
               "duration": 0,
               "redraw": false
              },
              "fromcurrent": true,
              "mode": "immediate",
              "transition": {
               "duration": 0,
               "easing": "linear"
              }
             }
            ],
            "label": "2023-06-23 13:56:09.954561",
            "method": "animate"
           },
           {
            "args": [
             [
              "2023-06-23 13:56:10.480254"
             ],
             {
              "frame": {
               "duration": 0,
               "redraw": false
              },
              "fromcurrent": true,
              "mode": "immediate",
              "transition": {
               "duration": 0,
               "easing": "linear"
              }
             }
            ],
            "label": "2023-06-23 13:56:10.480254",
            "method": "animate"
           },
           {
            "args": [
             [
              "2023-06-23 13:56:10.994594"
             ],
             {
              "frame": {
               "duration": 0,
               "redraw": false
              },
              "fromcurrent": true,
              "mode": "immediate",
              "transition": {
               "duration": 0,
               "easing": "linear"
              }
             }
            ],
            "label": "2023-06-23 13:56:10.994594",
            "method": "animate"
           },
           {
            "args": [
             [
              "2023-06-23 13:56:11.516277"
             ],
             {
              "frame": {
               "duration": 0,
               "redraw": false
              },
              "fromcurrent": true,
              "mode": "immediate",
              "transition": {
               "duration": 0,
               "easing": "linear"
              }
             }
            ],
            "label": "2023-06-23 13:56:11.516277",
            "method": "animate"
           },
           {
            "args": [
             [
              "2023-06-23 13:56:12.033770"
             ],
             {
              "frame": {
               "duration": 0,
               "redraw": false
              },
              "fromcurrent": true,
              "mode": "immediate",
              "transition": {
               "duration": 0,
               "easing": "linear"
              }
             }
            ],
            "label": "2023-06-23 13:56:12.033770",
            "method": "animate"
           },
           {
            "args": [
             [
              "2023-06-23 13:56:12.556683"
             ],
             {
              "frame": {
               "duration": 0,
               "redraw": false
              },
              "fromcurrent": true,
              "mode": "immediate",
              "transition": {
               "duration": 0,
               "easing": "linear"
              }
             }
            ],
            "label": "2023-06-23 13:56:12.556683",
            "method": "animate"
           },
           {
            "args": [
             [
              "2023-06-23 13:56:13.076573"
             ],
             {
              "frame": {
               "duration": 0,
               "redraw": false
              },
              "fromcurrent": true,
              "mode": "immediate",
              "transition": {
               "duration": 0,
               "easing": "linear"
              }
             }
            ],
            "label": "2023-06-23 13:56:13.076573",
            "method": "animate"
           },
           {
            "args": [
             [
              "2023-06-23 13:56:13.594373"
             ],
             {
              "frame": {
               "duration": 0,
               "redraw": false
              },
              "fromcurrent": true,
              "mode": "immediate",
              "transition": {
               "duration": 0,
               "easing": "linear"
              }
             }
            ],
            "label": "2023-06-23 13:56:13.594373",
            "method": "animate"
           },
           {
            "args": [
             [
              "2023-06-23 13:56:14.117833"
             ],
             {
              "frame": {
               "duration": 0,
               "redraw": false
              },
              "fromcurrent": true,
              "mode": "immediate",
              "transition": {
               "duration": 0,
               "easing": "linear"
              }
             }
            ],
            "label": "2023-06-23 13:56:14.117833",
            "method": "animate"
           },
           {
            "args": [
             [
              "2023-06-23 13:56:14.634509"
             ],
             {
              "frame": {
               "duration": 0,
               "redraw": false
              },
              "fromcurrent": true,
              "mode": "immediate",
              "transition": {
               "duration": 0,
               "easing": "linear"
              }
             }
            ],
            "label": "2023-06-23 13:56:14.634509",
            "method": "animate"
           },
           {
            "args": [
             [
              "2023-06-23 13:56:15.157428"
             ],
             {
              "frame": {
               "duration": 0,
               "redraw": false
              },
              "fromcurrent": true,
              "mode": "immediate",
              "transition": {
               "duration": 0,
               "easing": "linear"
              }
             }
            ],
            "label": "2023-06-23 13:56:15.157428",
            "method": "animate"
           },
           {
            "args": [
             [
              "2023-06-23 13:56:15.675396"
             ],
             {
              "frame": {
               "duration": 0,
               "redraw": false
              },
              "fromcurrent": true,
              "mode": "immediate",
              "transition": {
               "duration": 0,
               "easing": "linear"
              }
             }
            ],
            "label": "2023-06-23 13:56:15.675396",
            "method": "animate"
           }
          ],
          "x": 0.1,
          "xanchor": "left",
          "y": 0,
          "yanchor": "top"
         }
        ],
        "template": {
         "data": {
          "bar": [
           {
            "error_x": {
             "color": "#2a3f5f"
            },
            "error_y": {
             "color": "#2a3f5f"
            },
            "marker": {
             "line": {
              "color": "#E5ECF6",
              "width": 0.5
             },
             "pattern": {
              "fillmode": "overlay",
              "size": 10,
              "solidity": 0.2
             }
            },
            "type": "bar"
           }
          ],
          "barpolar": [
           {
            "marker": {
             "line": {
              "color": "#E5ECF6",
              "width": 0.5
             },
             "pattern": {
              "fillmode": "overlay",
              "size": 10,
              "solidity": 0.2
             }
            },
            "type": "barpolar"
           }
          ],
          "carpet": [
           {
            "aaxis": {
             "endlinecolor": "#2a3f5f",
             "gridcolor": "white",
             "linecolor": "white",
             "minorgridcolor": "white",
             "startlinecolor": "#2a3f5f"
            },
            "baxis": {
             "endlinecolor": "#2a3f5f",
             "gridcolor": "white",
             "linecolor": "white",
             "minorgridcolor": "white",
             "startlinecolor": "#2a3f5f"
            },
            "type": "carpet"
           }
          ],
          "choropleth": [
           {
            "colorbar": {
             "outlinewidth": 0,
             "ticks": ""
            },
            "type": "choropleth"
           }
          ],
          "contour": [
           {
            "colorbar": {
             "outlinewidth": 0,
             "ticks": ""
            },
            "colorscale": [
             [
              0,
              "#0d0887"
             ],
             [
              0.1111111111111111,
              "#46039f"
             ],
             [
              0.2222222222222222,
              "#7201a8"
             ],
             [
              0.3333333333333333,
              "#9c179e"
             ],
             [
              0.4444444444444444,
              "#bd3786"
             ],
             [
              0.5555555555555556,
              "#d8576b"
             ],
             [
              0.6666666666666666,
              "#ed7953"
             ],
             [
              0.7777777777777778,
              "#fb9f3a"
             ],
             [
              0.8888888888888888,
              "#fdca26"
             ],
             [
              1,
              "#f0f921"
             ]
            ],
            "type": "contour"
           }
          ],
          "contourcarpet": [
           {
            "colorbar": {
             "outlinewidth": 0,
             "ticks": ""
            },
            "type": "contourcarpet"
           }
          ],
          "heatmap": [
           {
            "colorbar": {
             "outlinewidth": 0,
             "ticks": ""
            },
            "colorscale": [
             [
              0,
              "#0d0887"
             ],
             [
              0.1111111111111111,
              "#46039f"
             ],
             [
              0.2222222222222222,
              "#7201a8"
             ],
             [
              0.3333333333333333,
              "#9c179e"
             ],
             [
              0.4444444444444444,
              "#bd3786"
             ],
             [
              0.5555555555555556,
              "#d8576b"
             ],
             [
              0.6666666666666666,
              "#ed7953"
             ],
             [
              0.7777777777777778,
              "#fb9f3a"
             ],
             [
              0.8888888888888888,
              "#fdca26"
             ],
             [
              1,
              "#f0f921"
             ]
            ],
            "type": "heatmap"
           }
          ],
          "heatmapgl": [
           {
            "colorbar": {
             "outlinewidth": 0,
             "ticks": ""
            },
            "colorscale": [
             [
              0,
              "#0d0887"
             ],
             [
              0.1111111111111111,
              "#46039f"
             ],
             [
              0.2222222222222222,
              "#7201a8"
             ],
             [
              0.3333333333333333,
              "#9c179e"
             ],
             [
              0.4444444444444444,
              "#bd3786"
             ],
             [
              0.5555555555555556,
              "#d8576b"
             ],
             [
              0.6666666666666666,
              "#ed7953"
             ],
             [
              0.7777777777777778,
              "#fb9f3a"
             ],
             [
              0.8888888888888888,
              "#fdca26"
             ],
             [
              1,
              "#f0f921"
             ]
            ],
            "type": "heatmapgl"
           }
          ],
          "histogram": [
           {
            "marker": {
             "pattern": {
              "fillmode": "overlay",
              "size": 10,
              "solidity": 0.2
             }
            },
            "type": "histogram"
           }
          ],
          "histogram2d": [
           {
            "colorbar": {
             "outlinewidth": 0,
             "ticks": ""
            },
            "colorscale": [
             [
              0,
              "#0d0887"
             ],
             [
              0.1111111111111111,
              "#46039f"
             ],
             [
              0.2222222222222222,
              "#7201a8"
             ],
             [
              0.3333333333333333,
              "#9c179e"
             ],
             [
              0.4444444444444444,
              "#bd3786"
             ],
             [
              0.5555555555555556,
              "#d8576b"
             ],
             [
              0.6666666666666666,
              "#ed7953"
             ],
             [
              0.7777777777777778,
              "#fb9f3a"
             ],
             [
              0.8888888888888888,
              "#fdca26"
             ],
             [
              1,
              "#f0f921"
             ]
            ],
            "type": "histogram2d"
           }
          ],
          "histogram2dcontour": [
           {
            "colorbar": {
             "outlinewidth": 0,
             "ticks": ""
            },
            "colorscale": [
             [
              0,
              "#0d0887"
             ],
             [
              0.1111111111111111,
              "#46039f"
             ],
             [
              0.2222222222222222,
              "#7201a8"
             ],
             [
              0.3333333333333333,
              "#9c179e"
             ],
             [
              0.4444444444444444,
              "#bd3786"
             ],
             [
              0.5555555555555556,
              "#d8576b"
             ],
             [
              0.6666666666666666,
              "#ed7953"
             ],
             [
              0.7777777777777778,
              "#fb9f3a"
             ],
             [
              0.8888888888888888,
              "#fdca26"
             ],
             [
              1,
              "#f0f921"
             ]
            ],
            "type": "histogram2dcontour"
           }
          ],
          "mesh3d": [
           {
            "colorbar": {
             "outlinewidth": 0,
             "ticks": ""
            },
            "type": "mesh3d"
           }
          ],
          "parcoords": [
           {
            "line": {
             "colorbar": {
              "outlinewidth": 0,
              "ticks": ""
             }
            },
            "type": "parcoords"
           }
          ],
          "pie": [
           {
            "automargin": true,
            "type": "pie"
           }
          ],
          "scatter": [
           {
            "fillpattern": {
             "fillmode": "overlay",
             "size": 10,
             "solidity": 0.2
            },
            "type": "scatter"
           }
          ],
          "scatter3d": [
           {
            "line": {
             "colorbar": {
              "outlinewidth": 0,
              "ticks": ""
             }
            },
            "marker": {
             "colorbar": {
              "outlinewidth": 0,
              "ticks": ""
             }
            },
            "type": "scatter3d"
           }
          ],
          "scattercarpet": [
           {
            "marker": {
             "colorbar": {
              "outlinewidth": 0,
              "ticks": ""
             }
            },
            "type": "scattercarpet"
           }
          ],
          "scattergeo": [
           {
            "marker": {
             "colorbar": {
              "outlinewidth": 0,
              "ticks": ""
             }
            },
            "type": "scattergeo"
           }
          ],
          "scattergl": [
           {
            "marker": {
             "colorbar": {
              "outlinewidth": 0,
              "ticks": ""
             }
            },
            "type": "scattergl"
           }
          ],
          "scattermapbox": [
           {
            "marker": {
             "colorbar": {
              "outlinewidth": 0,
              "ticks": ""
             }
            },
            "type": "scattermapbox"
           }
          ],
          "scatterpolar": [
           {
            "marker": {
             "colorbar": {
              "outlinewidth": 0,
              "ticks": ""
             }
            },
            "type": "scatterpolar"
           }
          ],
          "scatterpolargl": [
           {
            "marker": {
             "colorbar": {
              "outlinewidth": 0,
              "ticks": ""
             }
            },
            "type": "scatterpolargl"
           }
          ],
          "scatterternary": [
           {
            "marker": {
             "colorbar": {
              "outlinewidth": 0,
              "ticks": ""
             }
            },
            "type": "scatterternary"
           }
          ],
          "surface": [
           {
            "colorbar": {
             "outlinewidth": 0,
             "ticks": ""
            },
            "colorscale": [
             [
              0,
              "#0d0887"
             ],
             [
              0.1111111111111111,
              "#46039f"
             ],
             [
              0.2222222222222222,
              "#7201a8"
             ],
             [
              0.3333333333333333,
              "#9c179e"
             ],
             [
              0.4444444444444444,
              "#bd3786"
             ],
             [
              0.5555555555555556,
              "#d8576b"
             ],
             [
              0.6666666666666666,
              "#ed7953"
             ],
             [
              0.7777777777777778,
              "#fb9f3a"
             ],
             [
              0.8888888888888888,
              "#fdca26"
             ],
             [
              1,
              "#f0f921"
             ]
            ],
            "type": "surface"
           }
          ],
          "table": [
           {
            "cells": {
             "fill": {
              "color": "#EBF0F8"
             },
             "line": {
              "color": "white"
             }
            },
            "header": {
             "fill": {
              "color": "#C8D4E3"
             },
             "line": {
              "color": "white"
             }
            },
            "type": "table"
           }
          ]
         },
         "layout": {
          "annotationdefaults": {
           "arrowcolor": "#2a3f5f",
           "arrowhead": 0,
           "arrowwidth": 1
          },
          "autotypenumbers": "strict",
          "coloraxis": {
           "colorbar": {
            "outlinewidth": 0,
            "ticks": ""
           }
          },
          "colorscale": {
           "diverging": [
            [
             0,
             "#8e0152"
            ],
            [
             0.1,
             "#c51b7d"
            ],
            [
             0.2,
             "#de77ae"
            ],
            [
             0.3,
             "#f1b6da"
            ],
            [
             0.4,
             "#fde0ef"
            ],
            [
             0.5,
             "#f7f7f7"
            ],
            [
             0.6,
             "#e6f5d0"
            ],
            [
             0.7,
             "#b8e186"
            ],
            [
             0.8,
             "#7fbc41"
            ],
            [
             0.9,
             "#4d9221"
            ],
            [
             1,
             "#276419"
            ]
           ],
           "sequential": [
            [
             0,
             "#0d0887"
            ],
            [
             0.1111111111111111,
             "#46039f"
            ],
            [
             0.2222222222222222,
             "#7201a8"
            ],
            [
             0.3333333333333333,
             "#9c179e"
            ],
            [
             0.4444444444444444,
             "#bd3786"
            ],
            [
             0.5555555555555556,
             "#d8576b"
            ],
            [
             0.6666666666666666,
             "#ed7953"
            ],
            [
             0.7777777777777778,
             "#fb9f3a"
            ],
            [
             0.8888888888888888,
             "#fdca26"
            ],
            [
             1,
             "#f0f921"
            ]
           ],
           "sequentialminus": [
            [
             0,
             "#0d0887"
            ],
            [
             0.1111111111111111,
             "#46039f"
            ],
            [
             0.2222222222222222,
             "#7201a8"
            ],
            [
             0.3333333333333333,
             "#9c179e"
            ],
            [
             0.4444444444444444,
             "#bd3786"
            ],
            [
             0.5555555555555556,
             "#d8576b"
            ],
            [
             0.6666666666666666,
             "#ed7953"
            ],
            [
             0.7777777777777778,
             "#fb9f3a"
            ],
            [
             0.8888888888888888,
             "#fdca26"
            ],
            [
             1,
             "#f0f921"
            ]
           ]
          },
          "colorway": [
           "#636efa",
           "#EF553B",
           "#00cc96",
           "#ab63fa",
           "#FFA15A",
           "#19d3f3",
           "#FF6692",
           "#B6E880",
           "#FF97FF",
           "#FECB52"
          ],
          "font": {
           "color": "#2a3f5f"
          },
          "geo": {
           "bgcolor": "white",
           "lakecolor": "white",
           "landcolor": "#E5ECF6",
           "showlakes": true,
           "showland": true,
           "subunitcolor": "white"
          },
          "hoverlabel": {
           "align": "left"
          },
          "hovermode": "closest",
          "mapbox": {
           "style": "light"
          },
          "paper_bgcolor": "white",
          "plot_bgcolor": "#E5ECF6",
          "polar": {
           "angularaxis": {
            "gridcolor": "white",
            "linecolor": "white",
            "ticks": ""
           },
           "bgcolor": "#E5ECF6",
           "radialaxis": {
            "gridcolor": "white",
            "linecolor": "white",
            "ticks": ""
           }
          },
          "scene": {
           "xaxis": {
            "backgroundcolor": "#E5ECF6",
            "gridcolor": "white",
            "gridwidth": 2,
            "linecolor": "white",
            "showbackground": true,
            "ticks": "",
            "zerolinecolor": "white"
           },
           "yaxis": {
            "backgroundcolor": "#E5ECF6",
            "gridcolor": "white",
            "gridwidth": 2,
            "linecolor": "white",
            "showbackground": true,
            "ticks": "",
            "zerolinecolor": "white"
           },
           "zaxis": {
            "backgroundcolor": "#E5ECF6",
            "gridcolor": "white",
            "gridwidth": 2,
            "linecolor": "white",
            "showbackground": true,
            "ticks": "",
            "zerolinecolor": "white"
           }
          },
          "shapedefaults": {
           "line": {
            "color": "#2a3f5f"
           }
          },
          "ternary": {
           "aaxis": {
            "gridcolor": "white",
            "linecolor": "white",
            "ticks": ""
           },
           "baxis": {
            "gridcolor": "white",
            "linecolor": "white",
            "ticks": ""
           },
           "bgcolor": "#E5ECF6",
           "caxis": {
            "gridcolor": "white",
            "linecolor": "white",
            "ticks": ""
           }
          },
          "title": {
           "x": 0.05
          },
          "xaxis": {
           "automargin": true,
           "gridcolor": "white",
           "linecolor": "white",
           "ticks": "",
           "title": {
            "standoff": 15
           },
           "zerolinecolor": "white",
           "zerolinewidth": 2
          },
          "yaxis": {
           "automargin": true,
           "gridcolor": "white",
           "linecolor": "white",
           "ticks": "",
           "title": {
            "standoff": 15
           },
           "zerolinecolor": "white",
           "zerolinewidth": 2
          }
         }
        },
        "updatemenus": [
         {
          "buttons": [
           {
            "args": [
             null,
             {
              "frame": {
               "duration": 500,
               "redraw": false
              },
              "fromcurrent": true,
              "mode": "immediate",
              "transition": {
               "duration": 500,
               "easing": "linear"
              }
             }
            ],
            "label": "&#9654;",
            "method": "animate"
           },
           {
            "args": [
             [
              null
             ],
             {
              "frame": {
               "duration": 0,
               "redraw": false
              },
              "fromcurrent": true,
              "mode": "immediate",
              "transition": {
               "duration": 0,
               "easing": "linear"
              }
             }
            ],
            "label": "&#9724;",
            "method": "animate"
           }
          ],
          "direction": "left",
          "pad": {
           "r": 10,
           "t": 70
          },
          "showactive": false,
          "type": "buttons",
          "x": 0.1,
          "xanchor": "right",
          "y": 0,
          "yanchor": "top"
         }
        ],
        "width": 900,
        "xaxis": {
         "anchor": "y",
         "domain": [
          0,
          1
         ],
         "range": [
          0,
          1500
         ],
         "title": {
          "text": "x"
         }
        },
        "yaxis": {
         "anchor": "x",
         "domain": [
          0,
          1
         ],
         "range": [
          2100,
          2400
         ],
         "title": {
          "text": "y"
         }
        }
       }
      }
     },
     "metadata": {},
     "output_type": "display_data"
    }
   ],
   "source": [
    "px.scatter(df, x=\"x\", y=\"y\", animation_frame=\"timestamp\",\n",
    "        #    size=\"radius\",\n",
    "        #    range_x=[0,2000], range_y=[0,4000],\n",
    "           range_x=[0,1500], range_y=[2100,2400],\n",
    "        #    width=300, height=600)\n",
    "           width=900, height=600)"
   ]
  },
  {
   "cell_type": "code",
   "execution_count": 10,
   "metadata": {},
   "outputs": [],
   "source": [
    "orig = pd.read_csv(filename, index_col=0)\n",
    "orig[\"timestamp\"] = pd.to_datetime(orig[\"timestamp\"])\n",
    "orig[\"reference_distance\"] *= 10 # cm to mm\n",
    "orig[\"reference_distance\"] -= 200 # Wall to (0,0)\n",
    "df = orig.merge(df, on=\"timestamp\")\n",
    "# display(df)\n",
    "df[[\"timestamp\", \"acc_x\", \"acc_y\", \"acc_z\", \"x\", \"y\", \"radius\", \"reference_distance\"]].to_csv(f\"data/triangulated/{Path(filename).name}\")\n"
   ]
  }
 ],
 "metadata": {
  "kernelspec": {
   "display_name": ".venv",
   "language": "python",
   "name": "python3"
  },
  "language_info": {
   "codemirror_mode": {
    "name": "ipython",
    "version": 3
   },
   "file_extension": ".py",
   "mimetype": "text/x-python",
   "name": "python",
   "nbconvert_exporter": "python",
   "pygments_lexer": "ipython3",
   "version": "3.11.3"
  },
  "orig_nbformat": 4
 },
 "nbformat": 4,
 "nbformat_minor": 2
}
