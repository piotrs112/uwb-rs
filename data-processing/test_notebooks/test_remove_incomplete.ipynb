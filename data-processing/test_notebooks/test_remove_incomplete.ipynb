{
 "cells": [
  {
   "cell_type": "code",
   "execution_count": null,
   "metadata": {},
   "outputs": [],
   "source": [
    "import os\n",
    "changed_dir = False\n",
    "if not changed_dir:\n",
    "    os.chdir(\"..\")\n",
    "    changed_dir=True"
   ]
  },
  {
   "cell_type": "code",
   "execution_count": 1,
   "metadata": {},
   "outputs": [],
   "source": [
    "import pandas as pd\n",
    "\n",
    "# Sample dataframe\n",
    "df = pd.DataFrame({\n",
    "    'anchor': [ 'A', 'B', 'C', 'D','A', 'C', 'C', 'D', 'C', 'A', 'B', 'C', 'D',],\n",
    "    'distance': [1, 2, 4, 5, 6,9,10,11,12,13, 16 ,14,15]\n",
    "})\n",
    "\n",
    "# df = pd.read_csv(\"data/movement_2/2023-07-07-18:54:58.345559move2-8.csv\")\n",
    "\n",
    "# def remove_incomplete_measurements(df):\n",
    "#     desired_order = list(df[\"anchor\"].unique())\n",
    "#     encoder = lambda x: sum(v*i for v, i in zip(x, [10**j for j in range(len(desired_order))]))\n",
    "#     desired_sum = int(\"\".join(str(v) for v in range(len(desired_order)-1, 0, -1)))\n",
    "\n",
    "#     empty_df = pd.DataFrame({\"anchor\": desired_order}, columns=df.columns)\n",
    "#     df = pd.concat([df, empty_df], ignore_index=True)\n",
    "\n",
    "#     sums = df['anchor'].apply(lambda x: desired_order.index(x)).rolling(window=len(desired_order), step=4).apply(encoder).shift(-1, fill_value=-1000)\n",
    "#     df[\"mask\"] = sums.eq(desired_sum)\n",
    "#     df[\"mask\"] = df[\"mask\"].ffill()\n",
    "\n",
    "#     return df[df[\"mask\"]].drop(\"mask\", axis=1)\n",
    "\n",
    "# with pd.option_context('display.max_rows', None, 'display.max_columns', None):  # more options can be specified also\n",
    "#     print(df)"
   ]
  },
  {
   "cell_type": "code",
   "execution_count": 11,
   "metadata": {},
   "outputs": [],
   "source": [
    "def remove_incomplete_measurements(df):\n",
    "    n_anchors = len(df[\"anchor\"].unique())\n",
    "    anchors = df[\"anchor\"].to_list()[:n_anchors]\n",
    "    mask = []\n",
    "    current_index = 0\n",
    "    for i, row in df.iterrows():\n",
    "        anchor = row[\"anchor\"]\n",
    "        if anchor == anchors[0]:\n",
    "            current_index = 0\n",
    "            mask.append(1)\n",
    "            continue\n",
    "        \n",
    "        if current_index + 1 == anchor.index(anchor):\n",
    "            mask.append(1)\n",
    "            current_index += 1\n",
    "        else:\n",
    "            pass # TODO nie skonczone"
   ]
  },
  {
   "cell_type": "code",
   "execution_count": 12,
   "metadata": {},
   "outputs": [
    {
     "name": "stdout",
     "output_type": "stream",
     "text": [
      "eval!\n",
      "eval!\n",
      "eval!\n"
     ]
    },
    {
     "data": {
      "text/html": [
       "<div>\n",
       "<style scoped>\n",
       "    .dataframe tbody tr th:only-of-type {\n",
       "        vertical-align: middle;\n",
       "    }\n",
       "\n",
       "    .dataframe tbody tr th {\n",
       "        vertical-align: top;\n",
       "    }\n",
       "\n",
       "    .dataframe thead th {\n",
       "        text-align: right;\n",
       "    }\n",
       "</style>\n",
       "<table border=\"1\" class=\"dataframe\">\n",
       "  <thead>\n",
       "    <tr style=\"text-align: right;\">\n",
       "      <th></th>\n",
       "      <th>anchor</th>\n",
       "      <th>distance</th>\n",
       "    </tr>\n",
       "  </thead>\n",
       "  <tbody>\n",
       "    <tr>\n",
       "      <th>0</th>\n",
       "      <td>A</td>\n",
       "      <td>1</td>\n",
       "    </tr>\n",
       "    <tr>\n",
       "      <th>1</th>\n",
       "      <td>B</td>\n",
       "      <td>2</td>\n",
       "    </tr>\n",
       "    <tr>\n",
       "      <th>2</th>\n",
       "      <td>C</td>\n",
       "      <td>4</td>\n",
       "    </tr>\n",
       "    <tr>\n",
       "      <th>3</th>\n",
       "      <td>D</td>\n",
       "      <td>5</td>\n",
       "    </tr>\n",
       "    <tr>\n",
       "      <th>8</th>\n",
       "      <td>C</td>\n",
       "      <td>12</td>\n",
       "    </tr>\n",
       "    <tr>\n",
       "      <th>9</th>\n",
       "      <td>A</td>\n",
       "      <td>13</td>\n",
       "    </tr>\n",
       "    <tr>\n",
       "      <th>10</th>\n",
       "      <td>B</td>\n",
       "      <td>16</td>\n",
       "    </tr>\n",
       "    <tr>\n",
       "      <th>11</th>\n",
       "      <td>C</td>\n",
       "      <td>14</td>\n",
       "    </tr>\n",
       "  </tbody>\n",
       "</table>\n",
       "</div>"
      ],
      "text/plain": [
       "   anchor  distance\n",
       "0       A         1\n",
       "1       B         2\n",
       "2       C         4\n",
       "3       D         5\n",
       "8       C        12\n",
       "9       A        13\n",
       "10      B        16\n",
       "11      C        14"
      ]
     },
     "execution_count": 12,
     "metadata": {},
     "output_type": "execute_result"
    }
   ],
   "source": [
    "remove_incomplete_measurements(df)\n"
   ]
  }
 ],
 "metadata": {
  "kernelspec": {
   "display_name": ".venv",
   "language": "python",
   "name": "python3"
  },
  "language_info": {
   "codemirror_mode": {
    "name": "ipython",
    "version": 3
   },
   "file_extension": ".py",
   "mimetype": "text/x-python",
   "name": "python",
   "nbconvert_exporter": "python",
   "pygments_lexer": "ipython3",
   "version": "3.11.3"
  },
  "orig_nbformat": 4
 },
 "nbformat": 4,
 "nbformat_minor": 2
}
