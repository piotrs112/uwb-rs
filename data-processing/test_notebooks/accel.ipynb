{
 "cells": [
  {
   "cell_type": "code",
   "execution_count": 14,
   "metadata": {},
   "outputs": [],
   "source": [
    "import os\n",
    "changed_dir = False\n",
    "if not changed_dir:\n",
    "    os.chdir(\"..\")\n",
    "    changed_dir=True"
   ]
  },
  {
   "cell_type": "code",
   "execution_count": 15,
   "metadata": {},
   "outputs": [
    {
     "data": {
      "text/html": [
       "<div>\n",
       "<style scoped>\n",
       "    .dataframe tbody tr th:only-of-type {\n",
       "        vertical-align: middle;\n",
       "    }\n",
       "\n",
       "    .dataframe tbody tr th {\n",
       "        vertical-align: top;\n",
       "    }\n",
       "\n",
       "    .dataframe thead th {\n",
       "        text-align: right;\n",
       "    }\n",
       "</style>\n",
       "<table border=\"1\" class=\"dataframe\">\n",
       "  <thead>\n",
       "    <tr style=\"text-align: right;\">\n",
       "      <th></th>\n",
       "      <th>Unnamed: 0</th>\n",
       "      <th>anchor</th>\n",
       "      <th>distance</th>\n",
       "      <th>instant</th>\n",
       "      <th>timestamp</th>\n",
       "      <th>acc_x</th>\n",
       "      <th>acc_y</th>\n",
       "      <th>acc_z</th>\n",
       "    </tr>\n",
       "    <tr>\n",
       "      <th>timestamp</th>\n",
       "      <th></th>\n",
       "      <th></th>\n",
       "      <th></th>\n",
       "      <th></th>\n",
       "      <th></th>\n",
       "      <th></th>\n",
       "      <th></th>\n",
       "      <th></th>\n",
       "    </tr>\n",
       "  </thead>\n",
       "  <tbody>\n",
       "    <tr>\n",
       "      <th>2023-05-24 13:52:11.391647</th>\n",
       "      <td>0</td>\n",
       "      <td>0x6c0d</td>\n",
       "      <td>3331.0337</td>\n",
       "      <td>755152406981</td>\n",
       "      <td>2023-05-24 13:52:11.391647</td>\n",
       "      <td>1.075</td>\n",
       "      <td>0.007</td>\n",
       "      <td>-0.010</td>\n",
       "    </tr>\n",
       "    <tr>\n",
       "      <th>2023-05-24 13:52:11.520664</th>\n",
       "      <td>1</td>\n",
       "      <td>0x5601</td>\n",
       "      <td>3773.9844</td>\n",
       "      <td>763424874778</td>\n",
       "      <td>2023-05-24 13:52:11.520664</td>\n",
       "      <td>1.068</td>\n",
       "      <td>0.028</td>\n",
       "      <td>-0.037</td>\n",
       "    </tr>\n",
       "    <tr>\n",
       "      <th>2023-05-24 13:52:11.651807</th>\n",
       "      <td>2</td>\n",
       "      <td>0x26bd</td>\n",
       "      <td>2675.7068</td>\n",
       "      <td>771711288996</td>\n",
       "      <td>2023-05-24 13:52:11.651807</td>\n",
       "      <td>1.066</td>\n",
       "      <td>-0.003</td>\n",
       "      <td>-0.020</td>\n",
       "    </tr>\n",
       "    <tr>\n",
       "      <th>2023-05-24 13:52:11.786708</th>\n",
       "      <td>3</td>\n",
       "      <td>0x6c0d</td>\n",
       "      <td>3274.3574</td>\n",
       "      <td>780022644491</td>\n",
       "      <td>2023-05-24 13:52:11.786708</td>\n",
       "      <td>1.046</td>\n",
       "      <td>0.005</td>\n",
       "      <td>-0.057</td>\n",
       "    </tr>\n",
       "    <tr>\n",
       "      <th>2023-05-24 13:52:11.914416</th>\n",
       "      <td>4</td>\n",
       "      <td>0x5601</td>\n",
       "      <td>3788.0164</td>\n",
       "      <td>788331527342</td>\n",
       "      <td>2023-05-24 13:52:11.914416</td>\n",
       "      <td>1.054</td>\n",
       "      <td>0.019</td>\n",
       "      <td>-0.052</td>\n",
       "    </tr>\n",
       "    <tr>\n",
       "      <th>...</th>\n",
       "      <td>...</td>\n",
       "      <td>...</td>\n",
       "      <td>...</td>\n",
       "      <td>...</td>\n",
       "      <td>...</td>\n",
       "      <td>...</td>\n",
       "      <td>...</td>\n",
       "      <td>...</td>\n",
       "    </tr>\n",
       "    <tr>\n",
       "      <th>2023-05-24 13:52:49.786378</th>\n",
       "      <td>296</td>\n",
       "      <td>0x26bd</td>\n",
       "      <td>5690.4480</td>\n",
       "      <td>1009312570980</td>\n",
       "      <td>2023-05-24 13:52:49.786378</td>\n",
       "      <td>1.051</td>\n",
       "      <td>-0.023</td>\n",
       "      <td>-0.004</td>\n",
       "    </tr>\n",
       "    <tr>\n",
       "      <th>2023-05-24 13:52:49.917037</th>\n",
       "      <td>297</td>\n",
       "      <td>0x6c0d</td>\n",
       "      <td>2382.0566</td>\n",
       "      <td>1017606340111</td>\n",
       "      <td>2023-05-24 13:52:49.917037</td>\n",
       "      <td>1.057</td>\n",
       "      <td>-0.023</td>\n",
       "      <td>-0.002</td>\n",
       "    </tr>\n",
       "    <tr>\n",
       "      <th>2023-05-24 13:52:50.046483</th>\n",
       "      <td>298</td>\n",
       "      <td>0x5601</td>\n",
       "      <td>3234.6758</td>\n",
       "      <td>1025886936921</td>\n",
       "      <td>2023-05-24 13:52:50.046483</td>\n",
       "      <td>1.057</td>\n",
       "      <td>-0.029</td>\n",
       "      <td>-0.006</td>\n",
       "    </tr>\n",
       "    <tr>\n",
       "      <th>2023-05-24 13:52:50.173215</th>\n",
       "      <td>299</td>\n",
       "      <td>0x26bd</td>\n",
       "      <td>5671.7170</td>\n",
       "      <td>1034176748002</td>\n",
       "      <td>2023-05-24 13:52:50.173215</td>\n",
       "      <td>1.058</td>\n",
       "      <td>-0.027</td>\n",
       "      <td>0.000</td>\n",
       "    </tr>\n",
       "    <tr>\n",
       "      <th>2023-05-24 13:52:50.309393</th>\n",
       "      <td>300</td>\n",
       "      <td>0x6c0d</td>\n",
       "      <td>2367.6587</td>\n",
       "      <td>1042434324149</td>\n",
       "      <td>2023-05-24 13:52:50.309393</td>\n",
       "      <td>1.055</td>\n",
       "      <td>-0.031</td>\n",
       "      <td>-0.003</td>\n",
       "    </tr>\n",
       "  </tbody>\n",
       "</table>\n",
       "<p>301 rows × 8 columns</p>\n",
       "</div>"
      ],
      "text/plain": [
       "                            Unnamed: 0  anchor   distance        instant  \\\n",
       "timestamp                                                                  \n",
       "2023-05-24 13:52:11.391647           0  0x6c0d  3331.0337   755152406981   \n",
       "2023-05-24 13:52:11.520664           1  0x5601  3773.9844   763424874778   \n",
       "2023-05-24 13:52:11.651807           2  0x26bd  2675.7068   771711288996   \n",
       "2023-05-24 13:52:11.786708           3  0x6c0d  3274.3574   780022644491   \n",
       "2023-05-24 13:52:11.914416           4  0x5601  3788.0164   788331527342   \n",
       "...                                ...     ...        ...            ...   \n",
       "2023-05-24 13:52:49.786378         296  0x26bd  5690.4480  1009312570980   \n",
       "2023-05-24 13:52:49.917037         297  0x6c0d  2382.0566  1017606340111   \n",
       "2023-05-24 13:52:50.046483         298  0x5601  3234.6758  1025886936921   \n",
       "2023-05-24 13:52:50.173215         299  0x26bd  5671.7170  1034176748002   \n",
       "2023-05-24 13:52:50.309393         300  0x6c0d  2367.6587  1042434324149   \n",
       "\n",
       "                                            timestamp  acc_x  acc_y  acc_z  \n",
       "timestamp                                                                   \n",
       "2023-05-24 13:52:11.391647 2023-05-24 13:52:11.391647  1.075  0.007 -0.010  \n",
       "2023-05-24 13:52:11.520664 2023-05-24 13:52:11.520664  1.068  0.028 -0.037  \n",
       "2023-05-24 13:52:11.651807 2023-05-24 13:52:11.651807  1.066 -0.003 -0.020  \n",
       "2023-05-24 13:52:11.786708 2023-05-24 13:52:11.786708  1.046  0.005 -0.057  \n",
       "2023-05-24 13:52:11.914416 2023-05-24 13:52:11.914416  1.054  0.019 -0.052  \n",
       "...                                               ...    ...    ...    ...  \n",
       "2023-05-24 13:52:49.786378 2023-05-24 13:52:49.786378  1.051 -0.023 -0.004  \n",
       "2023-05-24 13:52:49.917037 2023-05-24 13:52:49.917037  1.057 -0.023 -0.002  \n",
       "2023-05-24 13:52:50.046483 2023-05-24 13:52:50.046483  1.057 -0.029 -0.006  \n",
       "2023-05-24 13:52:50.173215 2023-05-24 13:52:50.173215  1.058 -0.027  0.000  \n",
       "2023-05-24 13:52:50.309393 2023-05-24 13:52:50.309393  1.055 -0.031 -0.003  \n",
       "\n",
       "[301 rows x 8 columns]"
      ]
     },
     "execution_count": 15,
     "metadata": {},
     "output_type": "execute_result"
    }
   ],
   "source": [
    "import pandas as pd\n",
    "import plotly.express as px\n",
    "\n",
    "df = pd.read_csv(\"/home/piotr/Documents/mgr/uwb-rs/data-processing/data/movement/2023-05-24-13:52:11.266488_P3-1-6-5_normalized_high_up.csv\")\n",
    "df[\"timestamp\"] = pd.to_datetime(df[\"timestamp\"])\n",
    "df = df.set_index(df.timestamp)\n",
    "df"
   ]
  },
  {
   "cell_type": "code",
   "execution_count": 16,
   "metadata": {},
   "outputs": [],
   "source": [
    "# Calibration\n",
    "# stat_df = pd.read_csv(\"/home/piotr/Documents/mgr/uwb-rs/data-processing/2023-05-23-11:33:46.497651stationary.csv\")\n",
    "gravity = df[[\"acc_x\", \"acc_y\", \"acc_z\"]].head(10).mean()\n"
   ]
  },
  {
   "cell_type": "code",
   "execution_count": 17,
   "metadata": {},
   "outputs": [],
   "source": [
    "# Lowpass filter\n",
    "import matplotlib.pyplot as plt\n",
    "from scipy import signal, fft\n",
    "\n",
    "# t = df.timestamp.diff().mean()\n",
    "# fs = 1 / (t.to_pytimedelta().microseconds/10**6)\n",
    "# fn = fs/2\n",
    "\n",
    "# f_filter = 20.0\n",
    "# f_filter_n = f_filter / fn\n"
   ]
  },
  {
   "cell_type": "code",
   "execution_count": 18,
   "metadata": {},
   "outputs": [],
   "source": [
    "\n",
    "freq = fft.fft(df[\"acc_x\"].to_numpy())\n",
    "\n",
    "def low_pass(x, Wn: float = 0.3):\n",
    "    # b, a = signal.butter(4, Wn, btype=\"lowpass\")\n",
    "    b, a = signal.iirfilter(4, Wn, btype=\"lowpass\")\n",
    "    s = signal.lfilter(b,a,x)\n",
    "    plt.plot(s)\n",
    "    plt.plot(x.reset_index(drop=True))\n",
    "    return s\n",
    "\n",
    "\n",
    "# # df[\"acc_y\"] = df[\"acc_y\"].to_frame().apply(low_pass)\n",
    "# df[[\"acc_x\", \"acc_y\", \"acc_z\"]] = (df[[\"acc_x\", \"acc_y\", \"acc_z\"]] - gravity).apply(low_pass)\n",
    "df[[\"acc_x\", \"acc_y\", \"acc_z\"]] = df[[\"acc_x\", \"acc_y\", \"acc_z\"]] - gravity\n",
    "df[[\"acc_x\", \"acc_y\", \"acc_z\"]] *= 9.80655 # Convert to m\\s^2"
   ]
  },
  {
   "cell_type": "code",
   "execution_count": 19,
   "metadata": {},
   "outputs": [
    {
     "data": {
      "text/plain": [
       "<Axes: xlabel='timestamp'>"
      ]
     },
     "execution_count": 19,
     "metadata": {},
     "output_type": "execute_result"
    },
    {
     "data": {
      "image/png": "[encoded data removed]",
      "text/plain": [
       "<Figure size 640x480 with 1 Axes>"
      ]
     },
     "metadata": {},
     "output_type": "display_data"
    }
   ],
   "source": [
    "df[[\"acc_x\",\"acc_y\", \"acc_z\"]].plot.line()"
   ]
  },
  {
   "cell_type": "code",
   "execution_count": 20,
   "metadata": {},
   "outputs": [
    {
     "data": {
      "application/vnd.plotly.v1+json": {
       "config": {
        "plotlyServerURL": "https://plot.ly"
       },
       "data": [
        {
         "hovertemplate": "variable=acc_x<br>timestamp=%{x}<br>value=%{y}<extra></extra>",
         "legendgroup": "acc_x",
         "line": {
          "color": "#636efa",
          "dash": "solid"
         },
         "marker": {
          "symbol": "circle"
         },
         "mode": "lines",
         "name": "acc_x",
         "orientation": "v",
         "showlegend": true,
         "type": "scatter",
         "x": [
          "2023-05-24T13:52:11.391647",
          "2023-05-24T13:52:11.520664",
          "2023-05-24T13:52:11.651807",
          "2023-05-24T13:52:11.786708",
          "2023-05-24T13:52:11.914416",
          "2023-05-24T13:52:12.041363",
          "2023-05-24T13:52:12.173362",
          "2023-05-24T13:52:12.302196",
          "2023-05-24T13:52:12.433154",
          "2023-05-24T13:52:12.564517",
          "2023-05-24T13:52:12.692224",
          "2023-05-24T13:52:12.820066",
          "2023-05-24T13:52:12.951295",
          "2023-05-24T13:52:13.082110",
          "2023-05-24T13:52:13.208994",
          "2023-05-24T13:52:13.338438",
          "2023-05-24T13:52:13.469232",
          "2023-05-24T13:52:13.597706",
          "2023-05-24T13:52:13.726025",
          "2023-05-24T13:52:13.855184",
          "2023-05-24T13:52:13.988957",
          "2023-05-24T13:52:14.119931",
          "2023-05-24T13:52:14.247031",
          "2023-05-24T13:52:14.373113",
          "2023-05-24T13:52:14.508851",
          "2023-05-24T13:52:14.634273",
          "2023-05-24T13:52:14.766044",
          "2023-05-24T13:52:14.894661",
          "2023-05-24T13:52:15.023545",
          "2023-05-24T13:52:15.152867",
          "2023-05-24T13:52:15.283219",
          "2023-05-24T13:52:15.412391",
          "2023-05-24T13:52:15.548353",
          "2023-05-24T13:52:15.674939",
          "2023-05-24T13:52:15.801423",
          "2023-05-24T13:52:15.932098",
          "2023-05-24T13:52:16.063932",
          "2023-05-24T13:52:16.189839",
          "2023-05-24T13:52:16.324364",
          "2023-05-24T13:52:16.451821",
          "2023-05-24T13:52:16.585015",
          "2023-05-24T13:52:16.711809",
          "2023-05-24T13:52:16.842164",
          "2023-05-24T13:52:16.969665",
          "2023-05-24T13:52:17.101157",
          "2023-05-24T13:52:17.232186",
          "2023-05-24T13:52:17.356793",
          "2023-05-24T13:52:17.487714",
          "2023-05-24T13:52:17.617107",
          "2023-05-24T13:52:17.745678",
          "2023-05-24T13:52:17.875636",
          "2023-05-24T13:52:18.007013",
          "2023-05-24T13:52:18.139500",
          "2023-05-24T13:52:18.266519",
          "2023-05-24T13:52:18.394417",
          "2023-05-24T13:52:18.527126",
          "2023-05-24T13:52:18.655824",
          "2023-05-24T13:52:18.785476",
          "2023-05-24T13:52:18.916053",
          "2023-05-24T13:52:19.045550",
          "2023-05-24T13:52:19.176565",
          "2023-05-24T13:52:19.305969",
          "2023-05-24T13:52:19.434095",
          "2023-05-24T13:52:19.562676",
          "2023-05-24T13:52:19.695088",
          "2023-05-24T13:52:19.822620",
          "2023-05-24T13:52:19.950858",
          "2023-05-24T13:52:20.086607",
          "2023-05-24T13:52:20.210072",
          "2023-05-24T13:52:20.344355",
          "2023-05-24T13:52:20.472593",
          "2023-05-24T13:52:20.602935",
          "2023-05-24T13:52:20.734394",
          "2023-05-24T13:52:20.861201",
          "2023-05-24T13:52:20.990362",
          "2023-05-24T13:52:21.122396",
          "2023-05-24T13:52:21.250852",
          "2023-05-24T13:52:21.379459",
          "2023-05-24T13:52:21.513279",
          "2023-05-24T13:52:21.640850",
          "2023-05-24T13:52:21.773563",
          "2023-05-24T13:52:21.899257",
          "2023-05-24T13:52:22.034329",
          "2023-05-24T13:52:22.163568",
          "2023-05-24T13:52:22.293827",
          "2023-05-24T13:52:22.420817",
          "2023-05-24T13:52:22.550565",
          "2023-05-24T13:52:22.683951",
          "2023-05-24T13:52:22.811706",
          "2023-05-24T13:52:22.942181",
          "2023-05-24T13:52:23.072496",
          "2023-05-24T13:52:23.203121",
          "2023-05-24T13:52:23.331887",
          "2023-05-24T13:52:23.464326",
          "2023-05-24T13:52:23.592470",
          "2023-05-24T13:52:23.719308",
          "2023-05-24T13:52:23.850855",
          "2023-05-24T13:52:23.981894",
          "2023-05-24T13:52:24.108448",
          "2023-05-24T13:52:24.241877",
          "2023-05-24T13:52:24.365569",
          "2023-05-24T13:52:24.494692",
          "2023-05-24T13:52:24.628486",
          "2023-05-24T13:52:24.759535",
          "2023-05-24T13:52:24.888022",
          "2023-05-24T13:52:25.016205",
          "2023-05-24T13:52:25.146885",
          "2023-05-24T13:52:25.275621",
          "2023-05-24T13:52:25.405785",
          "2023-05-24T13:52:25.536133",
          "2023-05-24T13:52:25.670073",
          "2023-05-24T13:52:25.797151",
          "2023-05-24T13:52:25.927636",
          "2023-05-24T13:52:26.057630",
          "2023-05-24T13:52:26.184043",
          "2023-05-24T13:52:26.314176",
          "2023-05-24T13:52:26.441512",
          "2023-05-24T13:52:26.574309",
          "2023-05-24T13:52:26.702778",
          "2023-05-24T13:52:26.835200",
          "2023-05-24T13:52:26.961170",
          "2023-05-24T13:52:27.090078",
          "2023-05-24T13:52:27.221977",
          "2023-05-24T13:52:27.353655",
          "2023-05-24T13:52:27.483782",
          "2023-05-24T13:52:27.609969",
          "2023-05-24T13:52:27.739128",
          "2023-05-24T13:52:27.869667",
          "2023-05-24T13:52:27.998201",
          "2023-05-24T13:52:28.130483",
          "2023-05-24T13:52:28.262630",
          "2023-05-24T13:52:28.393086",
          "2023-05-24T13:52:28.520782",
          "2023-05-24T13:52:28.647804",
          "2023-05-24T13:52:28.780794",
          "2023-05-24T13:52:28.908553",
          "2023-05-24T13:52:29.038906",
          "2023-05-24T13:52:29.169804",
          "2023-05-24T13:52:29.298854",
          "2023-05-24T13:52:29.428488",
          "2023-05-24T13:52:29.557114",
          "2023-05-24T13:52:29.686906",
          "2023-05-24T13:52:29.814044",
          "2023-05-24T13:52:29.945411",
          "2023-05-24T13:52:30.074897",
          "2023-05-24T13:52:30.206670",
          "2023-05-24T13:52:30.335075",
          "2023-05-24T13:52:30.464316",
          "2023-05-24T13:52:30.592519",
          "2023-05-24T13:52:30.725175",
          "2023-05-24T13:52:30.854663",
          "2023-05-24T13:52:30.983248",
          "2023-05-24T13:52:31.111938",
          "2023-05-24T13:52:31.244676",
          "2023-05-24T13:52:31.371375",
          "2023-05-24T13:52:31.502863",
          "2023-05-24T13:52:31.632101",
          "2023-05-24T13:52:31.761938",
          "2023-05-24T13:52:31.890935",
          "2023-05-24T13:52:32.021050",
          "2023-05-24T13:52:32.151095",
          "2023-05-24T13:52:32.281912",
          "2023-05-24T13:52:32.409227",
          "2023-05-24T13:52:32.539425",
          "2023-05-24T13:52:32.670666",
          "2023-05-24T13:52:32.800858",
          "2023-05-24T13:52:32.927365",
          "2023-05-24T13:52:33.058190",
          "2023-05-24T13:52:33.188280",
          "2023-05-24T13:52:33.321815",
          "2023-05-24T13:52:33.450109",
          "2023-05-24T13:52:33.577170",
          "2023-05-24T13:52:33.713856",
          "2023-05-24T13:52:33.835489",
          "2023-05-24T13:52:33.965236",
          "2023-05-24T13:52:34.092868",
          "2023-05-24T13:52:34.230156",
          "2023-05-24T13:52:34.358099",
          "2023-05-24T13:52:34.486281",
          "2023-05-24T13:52:34.612256",
          "2023-05-24T13:52:34.744243",
          "2023-05-24T13:52:34.872234",
          "2023-05-24T13:52:35.003177",
          "2023-05-24T13:52:35.132418",
          "2023-05-24T13:52:35.263054",
          "2023-05-24T13:52:35.391996",
          "2023-05-24T13:52:35.522845",
          "2023-05-24T13:52:35.650962",
          "2023-05-24T13:52:35.782400",
          "2023-05-24T13:52:35.915217",
          "2023-05-24T13:52:36.045338",
          "2023-05-24T13:52:36.170051",
          "2023-05-24T13:52:36.300363",
          "2023-05-24T13:52:36.432485",
          "2023-05-24T13:52:36.560782",
          "2023-05-24T13:52:36.691963",
          "2023-05-24T13:52:36.821627",
          "2023-05-24T13:52:36.951544",
          "2023-05-24T13:52:37.077560",
          "2023-05-24T13:52:37.205164",
          "2023-05-24T13:52:37.342845",
          "2023-05-24T13:52:37.469193",
          "2023-05-24T13:52:37.595470",
          "2023-05-24T13:52:37.728276",
          "2023-05-24T13:52:37.863200",
          "2023-05-24T13:52:37.988389",
          "2023-05-24T13:52:38.115007",
          "2023-05-24T13:52:38.246239",
          "2023-05-24T13:52:38.379274",
          "2023-05-24T13:52:38.505158",
          "2023-05-24T13:52:38.634115",
          "2023-05-24T13:52:38.765278",
          "2023-05-24T13:52:38.891531",
          "2023-05-24T13:52:39.027356",
          "2023-05-24T13:52:39.152065",
          "2023-05-24T13:52:39.281179",
          "2023-05-24T13:52:39.412587",
          "2023-05-24T13:52:39.543629",
          "2023-05-24T13:52:39.669873",
          "2023-05-24T13:52:39.801210",
          "2023-05-24T13:52:39.931998",
          "2023-05-24T13:52:40.061003",
          "2023-05-24T13:52:40.193874",
          "2023-05-24T13:52:40.322317",
          "2023-05-24T13:52:40.453333",
          "2023-05-24T13:52:40.582273",
          "2023-05-24T13:52:40.711636",
          "2023-05-24T13:52:40.840017",
          "2023-05-24T13:52:40.970234",
          "2023-05-24T13:52:41.097791",
          "2023-05-24T13:52:41.227736",
          "2023-05-24T13:52:41.358396",
          "2023-05-24T13:52:41.490157",
          "2023-05-24T13:52:41.620729",
          "2023-05-24T13:52:41.750555",
          "2023-05-24T13:52:41.878798",
          "2023-05-24T13:52:42.007546",
          "2023-05-24T13:52:42.135264",
          "2023-05-24T13:52:42.269143",
          "2023-05-24T13:52:42.396341",
          "2023-05-24T13:52:42.524820",
          "2023-05-24T13:52:42.659115",
          "2023-05-24T13:52:42.783034",
          "2023-05-24T13:52:42.914507",
          "2023-05-24T13:52:43.043511",
          "2023-05-24T13:52:43.174423",
          "2023-05-24T13:52:43.306857",
          "2023-05-24T13:52:43.435337",
          "2023-05-24T13:52:43.563764",
          "2023-05-24T13:52:43.691758",
          "2023-05-24T13:52:43.825228",
          "2023-05-24T13:52:43.954412",
          "2023-05-24T13:52:44.083896",
          "2023-05-24T13:52:44.212914",
          "2023-05-24T13:52:44.339799",
          "2023-05-24T13:52:44.472135",
          "2023-05-24T13:52:44.597600",
          "2023-05-24T13:52:44.730819",
          "2023-05-24T13:52:44.859719",
          "2023-05-24T13:52:44.987129",
          "2023-05-24T13:52:45.117858",
          "2023-05-24T13:52:45.249105",
          "2023-05-24T13:52:45.380759",
          "2023-05-24T13:52:45.508621",
          "2023-05-24T13:52:45.639962",
          "2023-05-24T13:52:45.767363",
          "2023-05-24T13:52:45.900832",
          "2023-05-24T13:52:46.030727",
          "2023-05-24T13:52:46.159243",
          "2023-05-24T13:52:46.287348",
          "2023-05-24T13:52:46.418024",
          "2023-05-24T13:52:46.546913",
          "2023-05-24T13:52:46.680453",
          "2023-05-24T13:52:46.809466",
          "2023-05-24T13:52:46.937554",
          "2023-05-24T13:52:47.066038",
          "2023-05-24T13:52:47.196400",
          "2023-05-24T13:52:47.328144",
          "2023-05-24T13:52:47.453972",
          "2023-05-24T13:52:47.584149",
          "2023-05-24T13:52:47.715837",
          "2023-05-24T13:52:47.842925",
          "2023-05-24T13:52:47.972183",
          "2023-05-24T13:52:48.102394",
          "2023-05-24T13:52:48.230614",
          "2023-05-24T13:52:48.360581",
          "2023-05-24T13:52:48.490755",
          "2023-05-24T13:52:48.619321",
          "2023-05-24T13:52:48.748451",
          "2023-05-24T13:52:48.877797",
          "2023-05-24T13:52:49.006150",
          "2023-05-24T13:52:49.138213",
          "2023-05-24T13:52:49.269425",
          "2023-05-24T13:52:49.396467",
          "2023-05-24T13:52:49.528609",
          "2023-05-24T13:52:49.657098",
          "2023-05-24T13:52:49.786378",
          "2023-05-24T13:52:49.917037",
          "2023-05-24T13:52:50.046483",
          "2023-05-24T13:52:50.173215",
          "2023-05-24T13:52:50.309393"
         ],
         "xaxis": "x",
         "y": [
          0,
          0.01695387663083823,
          0.028399912222720446,
          0.025621824484811456,
          0.015477534705850119,
          0.007261082261649001,
          -0.002576814180393905,
          -0.002703193798171368,
          -0.010537074583170599,
          -0.016462846993421563,
          -0.015335755951477827,
          -0.02235644899136148,
          -0.030206531569572453,
          -0.03418325855505381,
          -0.03990699741987541,
          -0.044476859595342005,
          -0.049094404639604745,
          -0.0511101981241412,
          -0.05060682711807356,
          -0.054533337309971404,
          -0.05728820128216137,
          -0.05741655173516372,
          -0.06190361150170128,
          -0.0731551727076574,
          -0.07395381836345663,
          -0.07961159652909688,
          -0.08297140059150873,
          -0.0843588594682481,
          -0.09080481700595762,
          -0.09473628487613782,
          -0.09678160525118043,
          -0.09437478811526413,
          -0.10450791343415755,
          -0.11083882144235707,
          -0.11220320715119439,
          -0.11425360028438959,
          -0.11696852723536197,
          -0.11956140421418984,
          -0.11111840765978749,
          -0.10811864955403334,
          -0.11282084739632595,
          -0.12351415146420938,
          -0.11533285221970098,
          -0.11358240667630573,
          -0.13756678747182324,
          -0.1499021988982017,
          -0.14635853525628584,
          -0.13300619863956223,
          -0.12298194587201836,
          -0.14832487988618343,
          -0.20261584703662877,
          -0.2478371617377895,
          -0.2492663657764098,
          -0.22074176300053314,
          -0.1995451566744069,
          -0.1821061021061791,
          -0.18412547135784083,
          -0.20904576069231212,
          -0.23158268289401454,
          -0.23488438420001542,
          -0.22537681318521927,
          -0.20519956914371387,
          -0.18899101081942454,
          -0.2168576928975514,
          -0.2624352560600064,
          -0.28632251950318477,
          -0.3002815434778082,
          -0.2837742980496173,
          -0.2518101658885442,
          -0.22297104573598325,
          -0.23755876570730128,
          -0.28434114356272433,
          -0.3134761164714249,
          -0.33411873693151617,
          -0.32917880174255715,
          -0.3098863108905738,
          -0.30182419622341716,
          -0.3025808857891743,
          -0.3230528414882523,
          -0.33193513011417075,
          -0.3177492178875965,
          -0.30492987044299924,
          -0.3024131887024386,
          -0.30253990207317705,
          -0.3179962529453059,
          -0.35299006369551145,
          -0.35693448386260757,
          -0.3361363386309238,
          -0.2993028996907581,
          -0.2712816041107947,
          -0.2854667259212611,
          -0.31377632181920917,
          -0.36378129155882316,
          -0.4028742027319715,
          -0.39483154967051404,
          -0.3800297666606487,
          -0.35306833035077306,
          -0.3319935915174881,
          -0.3457693392160875,
          -0.32823569907424605,
          -0.3107685881071354,
          -0.3178596310554563,
          -0.32914328548668814,
          -0.34019546466645995,
          -0.332131419702947,
          -0.3171727499736322,
          -0.3012818666713261,
          -0.29825188339912656,
          -0.3060382569894178,
          -0.3151139048104984,
          -0.315901972015831,
          -0.3135341721965074,
          -0.31430191014787323,
          -0.3214407320077845,
          -0.3308621685090519,
          -0.3380086236521243,
          -0.34874769405188244,
          -0.34627333071321204,
          -0.3325410759262804,
          -0.3216327874967701,
          -0.3155795840569889,
          -0.32645117956464786,
          -0.3440424177720898,
          -0.3480454464815325,
          -0.3539154539765292,
          -0.36208260315135726,
          -0.35967602590330355,
          -0.35148318977126997,
          -0.3553906397540262,
          -0.37173562038779273,
          -0.3815844220082233,
          -0.37851395725537956,
          -0.3742561938440133,
          -0.3787405012572344,
          -0.3853918292071175,
          -0.3848906551555605,
          -0.3907708799445769,
          -0.4005267175080456,
          -0.3911618105318549,
          -0.39001771134474694,
          -0.40654180571611676,
          -0.41176037102030894,
          -0.4125084789242434,
          -0.4132814716168812,
          -0.4146782365814093,
          -0.4070539253919677,
          -0.40403173090478817,
          -0.411129178536931,
          -0.4213127026059436,
          -0.4338013260932718,
          -0.4383726819407439,
          -0.4460645973651538,
          -0.4531318761065486,
          -0.45716719429022223,
          -0.4541852800637042,
          -0.4536694764836433,
          -0.45949938916589783,
          -0.4640831311384774,
          -0.46863722808653796,
          -0.47195481932431416,
          -0.47845884769215097,
          -0.4830771923608684,
          -0.48320208171750134,
          -0.4890753157263989,
          -0.5143008801407247,
          -0.5233656714273243,
          -0.5197679134281833,
          -0.5134815345350708,
          -0.5040411406721331,
          -0.5067910996671658,
          -0.508804005899965,
          -0.5170277098982106,
          -0.523863752678609,
          -0.5198082067343501,
          -0.5161183730694886,
          -0.5187467730810813,
          -0.5215740186080767,
          -0.5273455206336782,
          -0.5387843378322263,
          -0.5413786141288619,
          -0.5402137508224317,
          -0.5378289411767125,
          -0.5411675104168402,
          -0.5520672159315824,
          -0.5464304020617219,
          -0.5364409692848373,
          -0.5410603219441434,
          -0.5512370092979222,
          -0.5539437858364014,
          -0.5527714655024449,
          -0.5490709229415851,
          -0.5516392062962086,
          -0.5594344366766271,
          -0.5653945179374826,
          -0.5774728132801896,
          -0.5776014949444904,
          -0.5675562410669736,
          -0.5702316974359977,
          -0.5808593913800526,
          -0.58598998475656,
          -0.5834246239553957,
          -0.5810704266663473,
          -0.5904818763723783,
          -0.5899609686609504,
          -0.5689230430031709,
          -0.5825501869129692,
          -0.6006787608948612,
          -0.5885815612197332,
          -0.5945827587699415,
          -0.6064338216666927,
          -0.5831647222536516,
          -0.5620700443278837,
          -0.5980989511010039,
          -0.6315314682706675,
          -0.619424016171598,
          -0.6265144349610906,
          -0.6414627878617862,
          -0.6351659078963323,
          -0.6383847877506936,
          -0.6475293742231517,
          -0.6540704942540347,
          -0.6529318215076019,
          -0.6452439993370692,
          -0.6491486248713323,
          -0.6582707698683785,
          -0.6653517070887441,
          -0.6667470841339929,
          -0.6693909011909043,
          -0.6746265681534804,
          -0.6791298174033243,
          -0.6862659420825646,
          -0.6972852860394704,
          -0.716150333727817,
          -0.7271622580905786,
          -0.7120118250051551,
          -0.6945308970465602,
          -0.7047577329375659,
          -0.7505981222702616,
          -0.7677970588952201,
          -0.7791481938870153,
          -0.8454207305076762,
          -0.8870370459163377,
          -0.8847281074706737,
          -0.8758320117407552,
          -0.8835490775271142,
          -0.9022924351689363,
          -0.9004741368511961,
          -0.8943003060711037,
          -0.9000936300857219,
          -0.9096330546820717,
          -0.9339781679263919,
          -0.9423392854860382,
          -0.9304032053977369,
          -0.938753694032727,
          -0.9519433482683359,
          -0.933904542209276,
          -0.916802292779553,
          -0.9313035155588628,
          -0.9763041137901438,
          -1.0438996254475397,
          -1.0882568667811796,
          -1.1707587329279612,
          -1.4187735812655662,
          -1.8351887330101024,
          -2.325403136766159,
          -2.649737797462695,
          -2.602749370190088,
          -2.296522647418044,
          -2.0105604356542592,
          -1.7594325665072832,
          -1.496857556304123,
          -1.4717047628831565,
          -1.7835129691225815,
          -1.941786090933302,
          -1.9224420782031306,
          -1.940837866315502,
          -1.9409657448478552,
          -1.9378651014890242,
          -1.9355205930041983,
          -1.9356481623896302,
          -1.9357772126025405,
          -1.9359017549130577,
          -1.9372960612144847,
          -1.9399776353203249,
          -1.9419895039229482,
          -1.9459405213377294,
          -1.9492594803626067,
          -1.9474942872707457,
          -1.94698773446849,
          -1.949651495080009,
          -1.953553492307066,
          -1.9569207553464116,
          -1.9576927704089662,
          -1.9609318782907788,
          -1.9662448045062162,
          -1.9688908506518457,
          -1.9740888249458313,
          -1.9793422550098567,
          -1.9807386539508374,
          -1.981484310561692,
          -1.983620915528019
         ],
         "yaxis": "y"
        },
        {
         "hovertemplate": "variable=acc_y<br>timestamp=%{x}<br>value=%{y}<extra></extra>",
         "legendgroup": "acc_y",
         "line": {
          "color": "#EF553B",
          "dash": "solid"
         },
         "marker": {
          "symbol": "circle"
         },
         "mode": "lines",
         "name": "acc_y",
         "orientation": "v",
         "showlegend": true,
         "type": "scatter",
         "x": [
          "2023-05-24T13:52:11.391647",
          "2023-05-24T13:52:11.520664",
          "2023-05-24T13:52:11.651807",
          "2023-05-24T13:52:11.786708",
          "2023-05-24T13:52:11.914416",
          "2023-05-24T13:52:12.041363",
          "2023-05-24T13:52:12.173362",
          "2023-05-24T13:52:12.302196",
          "2023-05-24T13:52:12.433154",
          "2023-05-24T13:52:12.564517",
          "2023-05-24T13:52:12.692224",
          "2023-05-24T13:52:12.820066",
          "2023-05-24T13:52:12.951295",
          "2023-05-24T13:52:13.082110",
          "2023-05-24T13:52:13.208994",
          "2023-05-24T13:52:13.338438",
          "2023-05-24T13:52:13.469232",
          "2023-05-24T13:52:13.597706",
          "2023-05-24T13:52:13.726025",
          "2023-05-24T13:52:13.855184",
          "2023-05-24T13:52:13.988957",
          "2023-05-24T13:52:14.119931",
          "2023-05-24T13:52:14.247031",
          "2023-05-24T13:52:14.373113",
          "2023-05-24T13:52:14.508851",
          "2023-05-24T13:52:14.634273",
          "2023-05-24T13:52:14.766044",
          "2023-05-24T13:52:14.894661",
          "2023-05-24T13:52:15.023545",
          "2023-05-24T13:52:15.152867",
          "2023-05-24T13:52:15.283219",
          "2023-05-24T13:52:15.412391",
          "2023-05-24T13:52:15.548353",
          "2023-05-24T13:52:15.674939",
          "2023-05-24T13:52:15.801423",
          "2023-05-24T13:52:15.932098",
          "2023-05-24T13:52:16.063932",
          "2023-05-24T13:52:16.189839",
          "2023-05-24T13:52:16.324364",
          "2023-05-24T13:52:16.451821",
          "2023-05-24T13:52:16.585015",
          "2023-05-24T13:52:16.711809",
          "2023-05-24T13:52:16.842164",
          "2023-05-24T13:52:16.969665",
          "2023-05-24T13:52:17.101157",
          "2023-05-24T13:52:17.232186",
          "2023-05-24T13:52:17.356793",
          "2023-05-24T13:52:17.487714",
          "2023-05-24T13:52:17.617107",
          "2023-05-24T13:52:17.745678",
          "2023-05-24T13:52:17.875636",
          "2023-05-24T13:52:18.007013",
          "2023-05-24T13:52:18.139500",
          "2023-05-24T13:52:18.266519",
          "2023-05-24T13:52:18.394417",
          "2023-05-24T13:52:18.527126",
          "2023-05-24T13:52:18.655824",
          "2023-05-24T13:52:18.785476",
          "2023-05-24T13:52:18.916053",
          "2023-05-24T13:52:19.045550",
          "2023-05-24T13:52:19.176565",
          "2023-05-24T13:52:19.305969",
          "2023-05-24T13:52:19.434095",
          "2023-05-24T13:52:19.562676",
          "2023-05-24T13:52:19.695088",
          "2023-05-24T13:52:19.822620",
          "2023-05-24T13:52:19.950858",
          "2023-05-24T13:52:20.086607",
          "2023-05-24T13:52:20.210072",
          "2023-05-24T13:52:20.344355",
          "2023-05-24T13:52:20.472593",
          "2023-05-24T13:52:20.602935",
          "2023-05-24T13:52:20.734394",
          "2023-05-24T13:52:20.861201",
          "2023-05-24T13:52:20.990362",
          "2023-05-24T13:52:21.122396",
          "2023-05-24T13:52:21.250852",
          "2023-05-24T13:52:21.379459",
          "2023-05-24T13:52:21.513279",
          "2023-05-24T13:52:21.640850",
          "2023-05-24T13:52:21.773563",
          "2023-05-24T13:52:21.899257",
          "2023-05-24T13:52:22.034329",
          "2023-05-24T13:52:22.163568",
          "2023-05-24T13:52:22.293827",
          "2023-05-24T13:52:22.420817",
          "2023-05-24T13:52:22.550565",
          "2023-05-24T13:52:22.683951",
          "2023-05-24T13:52:22.811706",
          "2023-05-24T13:52:22.942181",
          "2023-05-24T13:52:23.072496",
          "2023-05-24T13:52:23.203121",
          "2023-05-24T13:52:23.331887",
          "2023-05-24T13:52:23.464326",
          "2023-05-24T13:52:23.592470",
          "2023-05-24T13:52:23.719308",
          "2023-05-24T13:52:23.850855",
          "2023-05-24T13:52:23.981894",
          "2023-05-24T13:52:24.108448",
          "2023-05-24T13:52:24.241877",
          "2023-05-24T13:52:24.365569",
          "2023-05-24T13:52:24.494692",
          "2023-05-24T13:52:24.628486",
          "2023-05-24T13:52:24.759535",
          "2023-05-24T13:52:24.888022",
          "2023-05-24T13:52:25.016205",
          "2023-05-24T13:52:25.146885",
          "2023-05-24T13:52:25.275621",
          "2023-05-24T13:52:25.405785",
          "2023-05-24T13:52:25.536133",
          "2023-05-24T13:52:25.670073",
          "2023-05-24T13:52:25.797151",
          "2023-05-24T13:52:25.927636",
          "2023-05-24T13:52:26.057630",
          "2023-05-24T13:52:26.184043",
          "2023-05-24T13:52:26.314176",
          "2023-05-24T13:52:26.441512",
          "2023-05-24T13:52:26.574309",
          "2023-05-24T13:52:26.702778",
          "2023-05-24T13:52:26.835200",
          "2023-05-24T13:52:26.961170",
          "2023-05-24T13:52:27.090078",
          "2023-05-24T13:52:27.221977",
          "2023-05-24T13:52:27.353655",
          "2023-05-24T13:52:27.483782",
          "2023-05-24T13:52:27.609969",
          "2023-05-24T13:52:27.739128",
          "2023-05-24T13:52:27.869667",
          "2023-05-24T13:52:27.998201",
          "2023-05-24T13:52:28.130483",
          "2023-05-24T13:52:28.262630",
          "2023-05-24T13:52:28.393086",
          "2023-05-24T13:52:28.520782",
          "2023-05-24T13:52:28.647804",
          "2023-05-24T13:52:28.780794",
          "2023-05-24T13:52:28.908553",
          "2023-05-24T13:52:29.038906",
          "2023-05-24T13:52:29.169804",
          "2023-05-24T13:52:29.298854",
          "2023-05-24T13:52:29.428488",
          "2023-05-24T13:52:29.557114",
          "2023-05-24T13:52:29.686906",
          "2023-05-24T13:52:29.814044",
          "2023-05-24T13:52:29.945411",
          "2023-05-24T13:52:30.074897",
          "2023-05-24T13:52:30.206670",
          "2023-05-24T13:52:30.335075",
          "2023-05-24T13:52:30.464316",
          "2023-05-24T13:52:30.592519",
          "2023-05-24T13:52:30.725175",
          "2023-05-24T13:52:30.854663",
          "2023-05-24T13:52:30.983248",
          "2023-05-24T13:52:31.111938",
          "2023-05-24T13:52:31.244676",
          "2023-05-24T13:52:31.371375",
          "2023-05-24T13:52:31.502863",
          "2023-05-24T13:52:31.632101",
          "2023-05-24T13:52:31.761938",
          "2023-05-24T13:52:31.890935",
          "2023-05-24T13:52:32.021050",
          "2023-05-24T13:52:32.151095",
          "2023-05-24T13:52:32.281912",
          "2023-05-24T13:52:32.409227",
          "2023-05-24T13:52:32.539425",
          "2023-05-24T13:52:32.670666",
          "2023-05-24T13:52:32.800858",
          "2023-05-24T13:52:32.927365",
          "2023-05-24T13:52:33.058190",
          "2023-05-24T13:52:33.188280",
          "2023-05-24T13:52:33.321815",
          "2023-05-24T13:52:33.450109",
          "2023-05-24T13:52:33.577170",
          "2023-05-24T13:52:33.713856",
          "2023-05-24T13:52:33.835489",
          "2023-05-24T13:52:33.965236",
          "2023-05-24T13:52:34.092868",
          "2023-05-24T13:52:34.230156",
          "2023-05-24T13:52:34.358099",
          "2023-05-24T13:52:34.486281",
          "2023-05-24T13:52:34.612256",
          "2023-05-24T13:52:34.744243",
          "2023-05-24T13:52:34.872234",
          "2023-05-24T13:52:35.003177",
          "2023-05-24T13:52:35.132418",
          "2023-05-24T13:52:35.263054",
          "2023-05-24T13:52:35.391996",
          "2023-05-24T13:52:35.522845",
          "2023-05-24T13:52:35.650962",
          "2023-05-24T13:52:35.782400",
          "2023-05-24T13:52:35.915217",
          "2023-05-24T13:52:36.045338",
          "2023-05-24T13:52:36.170051",
          "2023-05-24T13:52:36.300363",
          "2023-05-24T13:52:36.432485",
          "2023-05-24T13:52:36.560782",
          "2023-05-24T13:52:36.691963",
          "2023-05-24T13:52:36.821627",
          "2023-05-24T13:52:36.951544",
          "2023-05-24T13:52:37.077560",
          "2023-05-24T13:52:37.205164",
          "2023-05-24T13:52:37.342845",
          "2023-05-24T13:52:37.469193",
          "2023-05-24T13:52:37.595470",
          "2023-05-24T13:52:37.728276",
          "2023-05-24T13:52:37.863200",
          "2023-05-24T13:52:37.988389",
          "2023-05-24T13:52:38.115007",
          "2023-05-24T13:52:38.246239",
          "2023-05-24T13:52:38.379274",
          "2023-05-24T13:52:38.505158",
          "2023-05-24T13:52:38.634115",
          "2023-05-24T13:52:38.765278",
          "2023-05-24T13:52:38.891531",
          "2023-05-24T13:52:39.027356",
          "2023-05-24T13:52:39.152065",
          "2023-05-24T13:52:39.281179",
          "2023-05-24T13:52:39.412587",
          "2023-05-24T13:52:39.543629",
          "2023-05-24T13:52:39.669873",
          "2023-05-24T13:52:39.801210",
          "2023-05-24T13:52:39.931998",
          "2023-05-24T13:52:40.061003",
          "2023-05-24T13:52:40.193874",
          "2023-05-24T13:52:40.322317",
          "2023-05-24T13:52:40.453333",
          "2023-05-24T13:52:40.582273",
          "2023-05-24T13:52:40.711636",
          "2023-05-24T13:52:40.840017",
          "2023-05-24T13:52:40.970234",
          "2023-05-24T13:52:41.097791",
          "2023-05-24T13:52:41.227736",
          "2023-05-24T13:52:41.358396",
          "2023-05-24T13:52:41.490157",
          "2023-05-24T13:52:41.620729",
          "2023-05-24T13:52:41.750555",
          "2023-05-24T13:52:41.878798",
          "2023-05-24T13:52:42.007546",
          "2023-05-24T13:52:42.135264",
          "2023-05-24T13:52:42.269143",
          "2023-05-24T13:52:42.396341",
          "2023-05-24T13:52:42.524820",
          "2023-05-24T13:52:42.659115",
          "2023-05-24T13:52:42.783034",
          "2023-05-24T13:52:42.914507",
          "2023-05-24T13:52:43.043511",
          "2023-05-24T13:52:43.174423",
          "2023-05-24T13:52:43.306857",
          "2023-05-24T13:52:43.435337",
          "2023-05-24T13:52:43.563764",
          "2023-05-24T13:52:43.691758",
          "2023-05-24T13:52:43.825228",
          "2023-05-24T13:52:43.954412",
          "2023-05-24T13:52:44.083896",
          "2023-05-24T13:52:44.212914",
          "2023-05-24T13:52:44.339799",
          "2023-05-24T13:52:44.472135",
          "2023-05-24T13:52:44.597600",
          "2023-05-24T13:52:44.730819",
          "2023-05-24T13:52:44.859719",
          "2023-05-24T13:52:44.987129",
          "2023-05-24T13:52:45.117858",
          "2023-05-24T13:52:45.249105",
          "2023-05-24T13:52:45.380759",
          "2023-05-24T13:52:45.508621",
          "2023-05-24T13:52:45.639962",
          "2023-05-24T13:52:45.767363",
          "2023-05-24T13:52:45.900832",
          "2023-05-24T13:52:46.030727",
          "2023-05-24T13:52:46.159243",
          "2023-05-24T13:52:46.287348",
          "2023-05-24T13:52:46.418024",
          "2023-05-24T13:52:46.546913",
          "2023-05-24T13:52:46.680453",
          "2023-05-24T13:52:46.809466",
          "2023-05-24T13:52:46.937554",
          "2023-05-24T13:52:47.066038",
          "2023-05-24T13:52:47.196400",
          "2023-05-24T13:52:47.328144",
          "2023-05-24T13:52:47.453972",
          "2023-05-24T13:52:47.584149",
          "2023-05-24T13:52:47.715837",
          "2023-05-24T13:52:47.842925",
          "2023-05-24T13:52:47.972183",
          "2023-05-24T13:52:48.102394",
          "2023-05-24T13:52:48.230614",
          "2023-05-24T13:52:48.360581",
          "2023-05-24T13:52:48.490755",
          "2023-05-24T13:52:48.619321",
          "2023-05-24T13:52:48.748451",
          "2023-05-24T13:52:48.877797",
          "2023-05-24T13:52:49.006150",
          "2023-05-24T13:52:49.138213",
          "2023-05-24T13:52:49.269425",
          "2023-05-24T13:52:49.396467",
          "2023-05-24T13:52:49.528609",
          "2023-05-24T13:52:49.657098",
          "2023-05-24T13:52:49.786378",
          "2023-05-24T13:52:49.917037",
          "2023-05-24T13:52:50.046483",
          "2023-05-24T13:52:50.173215",
          "2023-05-24T13:52:50.309393"
         ],
         "xaxis": "x",
         "y": [
          0,
          0.02226774522839306,
          0.038472117810752646,
          0.03992732096116914,
          0.05508108150891084,
          0.06329749742741228,
          0.053071302894361086,
          0.0519342270274311,
          0.04435716951330538,
          0.012924673765980936,
          -0.005735567028902322,
          -0.008117574920372257,
          -0.009919238918202174,
          -0.007866688114459262,
          -0.01023085120372551,
          -0.031048938538130226,
          -0.027714071839057358,
          -0.004280178826142823,
          0.0008791162226457682,
          0.002272380752127539,
          0.019457648457757434,
          0.02215489496522195,
          0.01480106129165344,
          -0.0005306850353178159,
          -0.015705458108304454,
          -0.005742805217002286,
          -0.02758128137185458,
          -0.06151003389995544,
          -0.08666175927589795,
          -0.08716903907240618,
          -0.08448460556959606,
          -0.09829199054438707,
          -0.09682533999645991,
          -0.10849423211810673,
          -0.13317765853273586,
          -0.12215700187408376,
          -0.10198878081028231,
          -0.08581401303272773,
          -0.07380907148230782,
          -0.07555895267581161,
          -0.04669252201035723,
          -0.038486013558132845,
          -0.07798653584468185,
          -0.10661943889927886,
          -0.10326677970793312,
          -0.10056840327367438,
          -0.11633176019997261,
          -0.12262278289384297,
          -0.13581931746024953,
          -0.16154046562938656,
          -0.12254271014945001,
          -0.03544975535356347,
          0.010153605970458293,
          0.023357152012244704,
          0.056719818545563044,
          0.09263901186567246,
          0.08834793160347706,
          0.11898967178390468,
          0.16009399516290532,
          0.13672747984807426,
          0.11951111446317804,
          0.1431146537314183,
          0.1784216138373635,
          0.1772867733230454,
          0.14365544707684297,
          0.14503115859041704,
          0.18351286178780385,
          0.2182580358947218,
          0.2547020318214074,
          0.2851213504296204,
          0.287133462330786,
          0.2616971265182717,
          0.2237958420175049,
          0.20215830418780367,
          0.19405188958013078,
          0.20971892638197975,
          0.22622114615672909,
          0.2503099004936003,
          0.28652967781350175,
          0.2778975710108731,
          0.24874492370394422,
          0.26365971230252827,
          0.2988938138725086,
          0.321833523387966,
          0.32643213392643033,
          0.33465132621957294,
          0.34750237744126444,
          0.3247421712212305,
          0.31421835615477794,
          0.33545822374948536,
          0.33111322449782854,
          0.27295680444625825,
          0.27308307972874557,
          0.3459440072075576,
          0.36114948204306047,
          0.4216003618609439,
          0.4720401313440066,
          0.42526468878131735,
          0.4477278849907609,
          0.40860437342617595,
          0.33170067242297857,
          0.3565191899883593,
          0.3474660025744818,
          0.293618629909841,
          0.2572042557506972,
          0.24413109986950726,
          0.25066685605250544,
          0.2507931018753428,
          0.24070907699042796,
          0.2203846812258052,
          0.18242484309093165,
          0.1588717121985913,
          0.15260164282507088,
          0.11958447145889817,
          0.10173316253329241,
          0.10824156477278307,
          0.082143217483681,
          0.06469262836236485,
          0.05914934196494608,
          0.03135924236247299,
          0.01789414439891252,
          0.0192847007487971,
          0.02523468733472091,
          0.026655125989249642,
          0.03316320666018463,
          0.03390568345845604,
          0.02959922233787324,
          0.017565938067750038,
          0.0025662754345684158,
          -0.001844299839429131,
          -0.013377872213757275,
          -0.013249939709055858,
          -0.023142773721199383,
          -0.043571398563375774,
          -0.05517855009295736,
          -0.05693257199830937,
          -0.0542481096750449,
          -0.036790363152724714,
          -0.01894634560331243,
          -0.012462900558137924,
          -0.012967451700745453,
          -0.010294547362539569,
          0.0022979729271742078,
          0.0004944136951119671,
          -0.006997461672834715,
          -0.019144525006127178,
          -0.03853637446472974,
          -0.04791517847670673,
          -0.04464638470082122,
          -0.023701877900965507,
          -0.007067128647085752,
          -0.01702882206610229,
          -0.014378606533740207,
          0.01634158385087353,
          0.03572426942683632,
          0.04294515935426471,
          0.07539003460553373,
          0.09716262965060968,
          0.0878015079477232,
          0.09303303333277729,
          0.09443585429525228,
          0.09071555229767286,
          0.0920889240333854,
          0.08327903492045938,
          0.09370389765081397,
          0.11681279835231079,
          0.14609090310861148,
          0.16674627470985165,
          0.16623598128505235,
          0.17160500018981745,
          0.17487611613072945,
          0.17873880614567733,
          0.19160682888395336,
          0.19828651311066633,
          0.19650519587620094,
          0.19475291271365366,
          0.20094598659538665,
          0.2098542143149123,
          0.21375098466737374,
          0.2243752651682126,
          0.2355065524574277,
          0.25759718842243085,
          0.2840496417118669,
          0.27783933014389994,
          0.25875111559964153,
          0.26393546029189974,
          0.27176284978851273,
          0.2744012563009809,
          0.30482055874252595,
          0.3238367206286769,
          0.3137560011063689,
          0.3267198401361672,
          0.35048898165500353,
          0.35644902451245575,
          0.35280038376857564,
          0.3432807957918081,
          0.3465868418530412,
          0.35754357788834207,
          0.3823827809999701,
          0.4031552755599901,
          0.41679205084914206,
          0.44231623904840434,
          0.4653494343712466,
          0.46157256910459465,
          0.4345805457228933,
          0.42856494903013626,
          0.4653188214209793,
          0.4918296489718343,
          0.4795662778239238,
          0.48894838841019067,
          0.5093088284680285,
          0.5351625613900881,
          0.5451912332526426,
          0.5659700256339895,
          0.6040042781411179,
          0.6237564061588885,
          0.6477254623358533,
          0.6729128808825683,
          0.6798457736987608,
          0.6857704105293716,
          0.7153979535845492,
          0.7465192562422385,
          0.772058160604443,
          0.7961162368299683,
          0.8238681935899625,
          0.8379036730522127,
          0.8380305337867915,
          0.852634616171863,
          0.875748003321186,
          0.8865056765963539,
          0.8923675144361831,
          0.9129967995588555,
          0.8892217180867803,
          0.8688624141560819,
          0.9434686271440567,
          0.9857247771334152,
          0.9719627043024837,
          0.9201104324968941,
          0.8637873262216653,
          0.8246198014390489,
          0.7869477905936807,
          0.8107850011862145,
          0.837641320320755,
          0.845506019062326,
          0.8652413691346921,
          0.8608764718551575,
          0.8019146006836703,
          0.7535326150380971,
          0.7051707404826166,
          0.6883512927773275,
          0.6793200289705481,
          0.6021688931752102,
          0.5851536645716985,
          0.5859127979192077,
          0.5387536961601335,
          0.523310368640966,
          0.5258941674936812,
          0.5083881555078436,
          0.5116747181014581,
          0.5217952976138944,
          0.5379484988654837,
          0.6281728622620648,
          0.6805903821516096,
          0.7471716712901356,
          0.8361727670560823,
          0.9212543973187352,
          1.0627431576204267,
          1.1494904088958884,
          1.1168486251626424,
          1.0931051698645733,
          1.1079703229298032,
          1.0708099801187498,
          1.1986238489962435,
          1.1690188127499073,
          1.0730528483426,
          1.0996385724419084,
          1.0352071153836055,
          0.9907640052415305,
          0.9402959066666507,
          0.8989344729871328,
          0.8661327579137494,
          0.834476852107531,
          0.803548041100297,
          0.7691988440131887,
          0.73411754260182,
          0.6991954216420572,
          0.661664643328854,
          0.6245974413311888,
          0.5899003094359119,
          0.5551450724490947,
          0.5225448306590259,
          0.49029718384689386,
          0.4576141236359442,
          0.4272155237513417,
          0.39300487774178794,
          0.3565898948222473,
          0.3237541494302592,
          0.2944120328768445,
          0.2615340800550364,
          0.22685989142146218,
          0.1882657752705687
         ],
         "yaxis": "y"
        },
        {
         "hovertemplate": "variable=acc_z<br>timestamp=%{x}<br>value=%{y}<extra></extra>",
         "legendgroup": "acc_z",
         "line": {
          "color": "#00cc96",
          "dash": "solid"
         },
         "marker": {
          "symbol": "circle"
         },
         "mode": "lines",
         "name": "acc_z",
         "orientation": "v",
         "showlegend": true,
         "type": "scatter",
         "x": [
          "2023-05-24T13:52:11.391647",
          "2023-05-24T13:52:11.520664",
          "2023-05-24T13:52:11.651807",
          "2023-05-24T13:52:11.786708",
          "2023-05-24T13:52:11.914416",
          "2023-05-24T13:52:12.041363",
          "2023-05-24T13:52:12.173362",
          "2023-05-24T13:52:12.302196",
          "2023-05-24T13:52:12.433154",
          "2023-05-24T13:52:12.564517",
          "2023-05-24T13:52:12.692224",
          "2023-05-24T13:52:12.820066",
          "2023-05-24T13:52:12.951295",
          "2023-05-24T13:52:13.082110",
          "2023-05-24T13:52:13.208994",
          "2023-05-24T13:52:13.338438",
          "2023-05-24T13:52:13.469232",
          "2023-05-24T13:52:13.597706",
          "2023-05-24T13:52:13.726025",
          "2023-05-24T13:52:13.855184",
          "2023-05-24T13:52:13.988957",
          "2023-05-24T13:52:14.119931",
          "2023-05-24T13:52:14.247031",
          "2023-05-24T13:52:14.373113",
          "2023-05-24T13:52:14.508851",
          "2023-05-24T13:52:14.634273",
          "2023-05-24T13:52:14.766044",
          "2023-05-24T13:52:14.894661",
          "2023-05-24T13:52:15.023545",
          "2023-05-24T13:52:15.152867",
          "2023-05-24T13:52:15.283219",
          "2023-05-24T13:52:15.412391",
          "2023-05-24T13:52:15.548353",
          "2023-05-24T13:52:15.674939",
          "2023-05-24T13:52:15.801423",
          "2023-05-24T13:52:15.932098",
          "2023-05-24T13:52:16.063932",
          "2023-05-24T13:52:16.189839",
          "2023-05-24T13:52:16.324364",
          "2023-05-24T13:52:16.451821",
          "2023-05-24T13:52:16.585015",
          "2023-05-24T13:52:16.711809",
          "2023-05-24T13:52:16.842164",
          "2023-05-24T13:52:16.969665",
          "2023-05-24T13:52:17.101157",
          "2023-05-24T13:52:17.232186",
          "2023-05-24T13:52:17.356793",
          "2023-05-24T13:52:17.487714",
          "2023-05-24T13:52:17.617107",
          "2023-05-24T13:52:17.745678",
          "2023-05-24T13:52:17.875636",
          "2023-05-24T13:52:18.007013",
          "2023-05-24T13:52:18.139500",
          "2023-05-24T13:52:18.266519",
          "2023-05-24T13:52:18.394417",
          "2023-05-24T13:52:18.527126",
          "2023-05-24T13:52:18.655824",
          "2023-05-24T13:52:18.785476",
          "2023-05-24T13:52:18.916053",
          "2023-05-24T13:52:19.045550",
          "2023-05-24T13:52:19.176565",
          "2023-05-24T13:52:19.305969",
          "2023-05-24T13:52:19.434095",
          "2023-05-24T13:52:19.562676",
          "2023-05-24T13:52:19.695088",
          "2023-05-24T13:52:19.822620",
          "2023-05-24T13:52:19.950858",
          "2023-05-24T13:52:20.086607",
          "2023-05-24T13:52:20.210072",
          "2023-05-24T13:52:20.344355",
          "2023-05-24T13:52:20.472593",
          "2023-05-24T13:52:20.602935",
          "2023-05-24T13:52:20.734394",
          "2023-05-24T13:52:20.861201",
          "2023-05-24T13:52:20.990362",
          "2023-05-24T13:52:21.122396",
          "2023-05-24T13:52:21.250852",
          "2023-05-24T13:52:21.379459",
          "2023-05-24T13:52:21.513279",
          "2023-05-24T13:52:21.640850",
          "2023-05-24T13:52:21.773563",
          "2023-05-24T13:52:21.899257",
          "2023-05-24T13:52:22.034329",
          "2023-05-24T13:52:22.163568",
          "2023-05-24T13:52:22.293827",
          "2023-05-24T13:52:22.420817",
          "2023-05-24T13:52:22.550565",
          "2023-05-24T13:52:22.683951",
          "2023-05-24T13:52:22.811706",
          "2023-05-24T13:52:22.942181",
          "2023-05-24T13:52:23.072496",
          "2023-05-24T13:52:23.203121",
          "2023-05-24T13:52:23.331887",
          "2023-05-24T13:52:23.464326",
          "2023-05-24T13:52:23.592470",
          "2023-05-24T13:52:23.719308",
          "2023-05-24T13:52:23.850855",
          "2023-05-24T13:52:23.981894",
          "2023-05-24T13:52:24.108448",
          "2023-05-24T13:52:24.241877",
          "2023-05-24T13:52:24.365569",
          "2023-05-24T13:52:24.494692",
          "2023-05-24T13:52:24.628486",
          "2023-05-24T13:52:24.759535",
          "2023-05-24T13:52:24.888022",
          "2023-05-24T13:52:25.016205",
          "2023-05-24T13:52:25.146885",
          "2023-05-24T13:52:25.275621",
          "2023-05-24T13:52:25.405785",
          "2023-05-24T13:52:25.536133",
          "2023-05-24T13:52:25.670073",
          "2023-05-24T13:52:25.797151",
          "2023-05-24T13:52:25.927636",
          "2023-05-24T13:52:26.057630",
          "2023-05-24T13:52:26.184043",
          "2023-05-24T13:52:26.314176",
          "2023-05-24T13:52:26.441512",
          "2023-05-24T13:52:26.574309",
          "2023-05-24T13:52:26.702778",
          "2023-05-24T13:52:26.835200",
          "2023-05-24T13:52:26.961170",
          "2023-05-24T13:52:27.090078",
          "2023-05-24T13:52:27.221977",
          "2023-05-24T13:52:27.353655",
          "2023-05-24T13:52:27.483782",
          "2023-05-24T13:52:27.609969",
          "2023-05-24T13:52:27.739128",
          "2023-05-24T13:52:27.869667",
          "2023-05-24T13:52:27.998201",
          "2023-05-24T13:52:28.130483",
          "2023-05-24T13:52:28.262630",
          "2023-05-24T13:52:28.393086",
          "2023-05-24T13:52:28.520782",
          "2023-05-24T13:52:28.647804",
          "2023-05-24T13:52:28.780794",
          "2023-05-24T13:52:28.908553",
          "2023-05-24T13:52:29.038906",
          "2023-05-24T13:52:29.169804",
          "2023-05-24T13:52:29.298854",
          "2023-05-24T13:52:29.428488",
          "2023-05-24T13:52:29.557114",
          "2023-05-24T13:52:29.686906",
          "2023-05-24T13:52:29.814044",
          "2023-05-24T13:52:29.945411",
          "2023-05-24T13:52:30.074897",
          "2023-05-24T13:52:30.206670",
          "2023-05-24T13:52:30.335075",
          "2023-05-24T13:52:30.464316",
          "2023-05-24T13:52:30.592519",
          "2023-05-24T13:52:30.725175",
          "2023-05-24T13:52:30.854663",
          "2023-05-24T13:52:30.983248",
          "2023-05-24T13:52:31.111938",
          "2023-05-24T13:52:31.244676",
          "2023-05-24T13:52:31.371375",
          "2023-05-24T13:52:31.502863",
          "2023-05-24T13:52:31.632101",
          "2023-05-24T13:52:31.761938",
          "2023-05-24T13:52:31.890935",
          "2023-05-24T13:52:32.021050",
          "2023-05-24T13:52:32.151095",
          "2023-05-24T13:52:32.281912",
          "2023-05-24T13:52:32.409227",
          "2023-05-24T13:52:32.539425",
          "2023-05-24T13:52:32.670666",
          "2023-05-24T13:52:32.800858",
          "2023-05-24T13:52:32.927365",
          "2023-05-24T13:52:33.058190",
          "2023-05-24T13:52:33.188280",
          "2023-05-24T13:52:33.321815",
          "2023-05-24T13:52:33.450109",
          "2023-05-24T13:52:33.577170",
          "2023-05-24T13:52:33.713856",
          "2023-05-24T13:52:33.835489",
          "2023-05-24T13:52:33.965236",
          "2023-05-24T13:52:34.092868",
          "2023-05-24T13:52:34.230156",
          "2023-05-24T13:52:34.358099",
          "2023-05-24T13:52:34.486281",
          "2023-05-24T13:52:34.612256",
          "2023-05-24T13:52:34.744243",
          "2023-05-24T13:52:34.872234",
          "2023-05-24T13:52:35.003177",
          "2023-05-24T13:52:35.132418",
          "2023-05-24T13:52:35.263054",
          "2023-05-24T13:52:35.391996",
          "2023-05-24T13:52:35.522845",
          "2023-05-24T13:52:35.650962",
          "2023-05-24T13:52:35.782400",
          "2023-05-24T13:52:35.915217",
          "2023-05-24T13:52:36.045338",
          "2023-05-24T13:52:36.170051",
          "2023-05-24T13:52:36.300363",
          "2023-05-24T13:52:36.432485",
          "2023-05-24T13:52:36.560782",
          "2023-05-24T13:52:36.691963",
          "2023-05-24T13:52:36.821627",
          "2023-05-24T13:52:36.951544",
          "2023-05-24T13:52:37.077560",
          "2023-05-24T13:52:37.205164",
          "2023-05-24T13:52:37.342845",
          "2023-05-24T13:52:37.469193",
          "2023-05-24T13:52:37.595470",
          "2023-05-24T13:52:37.728276",
          "2023-05-24T13:52:37.863200",
          "2023-05-24T13:52:37.988389",
          "2023-05-24T13:52:38.115007",
          "2023-05-24T13:52:38.246239",
          "2023-05-24T13:52:38.379274",
          "2023-05-24T13:52:38.505158",
          "2023-05-24T13:52:38.634115",
          "2023-05-24T13:52:38.765278",
          "2023-05-24T13:52:38.891531",
          "2023-05-24T13:52:39.027356",
          "2023-05-24T13:52:39.152065",
          "2023-05-24T13:52:39.281179",
          "2023-05-24T13:52:39.412587",
          "2023-05-24T13:52:39.543629",
          "2023-05-24T13:52:39.669873",
          "2023-05-24T13:52:39.801210",
          "2023-05-24T13:52:39.931998",
          "2023-05-24T13:52:40.061003",
          "2023-05-24T13:52:40.193874",
          "2023-05-24T13:52:40.322317",
          "2023-05-24T13:52:40.453333",
          "2023-05-24T13:52:40.582273",
          "2023-05-24T13:52:40.711636",
          "2023-05-24T13:52:40.840017",
          "2023-05-24T13:52:40.970234",
          "2023-05-24T13:52:41.097791",
          "2023-05-24T13:52:41.227736",
          "2023-05-24T13:52:41.358396",
          "2023-05-24T13:52:41.490157",
          "2023-05-24T13:52:41.620729",
          "2023-05-24T13:52:41.750555",
          "2023-05-24T13:52:41.878798",
          "2023-05-24T13:52:42.007546",
          "2023-05-24T13:52:42.135264",
          "2023-05-24T13:52:42.269143",
          "2023-05-24T13:52:42.396341",
          "2023-05-24T13:52:42.524820",
          "2023-05-24T13:52:42.659115",
          "2023-05-24T13:52:42.783034",
          "2023-05-24T13:52:42.914507",
          "2023-05-24T13:52:43.043511",
          "2023-05-24T13:52:43.174423",
          "2023-05-24T13:52:43.306857",
          "2023-05-24T13:52:43.435337",
          "2023-05-24T13:52:43.563764",
          "2023-05-24T13:52:43.691758",
          "2023-05-24T13:52:43.825228",
          "2023-05-24T13:52:43.954412",
          "2023-05-24T13:52:44.083896",
          "2023-05-24T13:52:44.212914",
          "2023-05-24T13:52:44.339799",
          "2023-05-24T13:52:44.472135",
          "2023-05-24T13:52:44.597600",
          "2023-05-24T13:52:44.730819",
          "2023-05-24T13:52:44.859719",
          "2023-05-24T13:52:44.987129",
          "2023-05-24T13:52:45.117858",
          "2023-05-24T13:52:45.249105",
          "2023-05-24T13:52:45.380759",
          "2023-05-24T13:52:45.508621",
          "2023-05-24T13:52:45.639962",
          "2023-05-24T13:52:45.767363",
          "2023-05-24T13:52:45.900832",
          "2023-05-24T13:52:46.030727",
          "2023-05-24T13:52:46.159243",
          "2023-05-24T13:52:46.287348",
          "2023-05-24T13:52:46.418024",
          "2023-05-24T13:52:46.546913",
          "2023-05-24T13:52:46.680453",
          "2023-05-24T13:52:46.809466",
          "2023-05-24T13:52:46.937554",
          "2023-05-24T13:52:47.066038",
          "2023-05-24T13:52:47.196400",
          "2023-05-24T13:52:47.328144",
          "2023-05-24T13:52:47.453972",
          "2023-05-24T13:52:47.584149",
          "2023-05-24T13:52:47.715837",
          "2023-05-24T13:52:47.842925",
          "2023-05-24T13:52:47.972183",
          "2023-05-24T13:52:48.102394",
          "2023-05-24T13:52:48.230614",
          "2023-05-24T13:52:48.360581",
          "2023-05-24T13:52:48.490755",
          "2023-05-24T13:52:48.619321",
          "2023-05-24T13:52:48.748451",
          "2023-05-24T13:52:48.877797",
          "2023-05-24T13:52:49.006150",
          "2023-05-24T13:52:49.138213",
          "2023-05-24T13:52:49.269425",
          "2023-05-24T13:52:49.396467",
          "2023-05-24T13:52:49.528609",
          "2023-05-24T13:52:49.657098",
          "2023-05-24T13:52:49.786378",
          "2023-05-24T13:52:49.917037",
          "2023-05-24T13:52:50.046483",
          "2023-05-24T13:52:50.173215",
          "2023-05-24T13:52:50.309393"
         ],
         "xaxis": "x",
         "y": [
          0,
          0.025936862989748944,
          0.04587081403579674,
          0.05314682568685351,
          0.03999686811947065,
          0.03128248996517953,
          0.015101804662613266,
          0.004362758486222225,
          -0.009121835003044795,
          -0.022648113831511232,
          -0.027031394024813877,
          -0.04019512333072617,
          -0.05499450824747247,
          -0.06333299800437085,
          -0.07950885307801742,
          -0.09728038969651784,
          -0.11203075635123166,
          -0.1221098482507179,
          -0.12777248742690628,
          -0.137272016674666,
          -0.14711091001672305,
          -0.16123934821353353,
          -0.1755730919856745,
          -0.18731918957632357,
          -0.18598806884641825,
          -0.19644270783391876,
          -0.20871877760244742,
          -0.21628653098904854,
          -0.23018949525564952,
          -0.2333600016564551,
          -0.23655575328812606,
          -0.2359223855045561,
          -0.25658882067994293,
          -0.2882437999181957,
          -0.31615219783484094,
          -0.3469075185549567,
          -0.38633897961956754,
          -0.43202343927507925,
          -0.4768770671386595,
          -0.5224989608538244,
          -0.57866441874163,
          -0.6433217605979893,
          -0.6887026217861401,
          -0.7430926382081132,
          -0.8011194332336425,
          -0.8518746221211736,
          -0.9270255124558089,
          -0.9828743876741667,
          -1.0101556839921384,
          -1.0410462836405068,
          -1.080553824710346,
          -1.139174089633795,
          -1.2054353876786073,
          -1.2714531222472005,
          -1.3128428985265217,
          -1.3200007091385184,
          -1.3193696697201007,
          -1.3225482754769644,
          -1.3289508184933798,
          -1.3384752136830653,
          -1.3635288839987834,
          -1.4041371276363193,
          -1.4368054926323024,
          -1.475894451008465,
          -1.5213421904985722,
          -1.5576109443087691,
          -1.6066562505399062,
          -1.6505869343929982,
          -1.6978067333452525,
          -1.7333617802516625,
          -1.7805206483608222,
          -1.8552958100593375,
          -1.8971934894235751,
          -1.9369866608957267,
          -1.9876517519403567,
          -2.0355592201742816,
          -2.060753453283552,
          -2.0494027318181542,
          -2.036279624801059,
          -2.0212672653346875,
          -2.0232194551527254,
          -2.0435578060319233,
          -2.085282403994545,
          -2.110630153140761,
          -2.1042431947266427,
          -2.1179418514958335,
          -2.120486615727773,
          -2.125718849294988,
          -2.1232131813975945,
          -2.1168156328349843,
          -2.1212884293508205,
          -2.1264123437724387,
          -2.1548242429342617,
          -2.157421785871028,
          -2.1310321182704457,
          -2.0930948375294864,
          -2.031173893184565,
          -1.993265224448908,
          -1.964100299156431,
          -1.888208535616738,
          -1.8178549904790966,
          -1.7570749464385003,
          -1.7229614916685567,
          -1.7184634997672015,
          -1.6932632402480028,
          -1.6737792105540255,
          -1.676342252498464,
          -1.6776047090856445,
          -1.672498875895094,
          -1.6846423829222916,
          -1.6898963385036179,
          -1.6898963401236744,
          -1.7058914149699467,
          -1.7237385337418722,
          -1.7386146235008098,
          -1.7507381185090694,
          -1.7663471790109786,
          -1.7754631595533847,
          -1.770423810252932,
          -1.7749689206490877,
          -1.7799102416101529,
          -1.7887592337598672,
          -1.797813559306126,
          -1.7939396353037342,
          -1.8060625305986,
          -1.8209120499820646,
          -1.8215453515979076,
          -1.8215453519819487,
          -1.837931538650272,
          -1.8509038160140108,
          -1.8580313023321489,
          -1.8657072413561908,
          -1.868211760011533,
          -1.8719487046132002,
          -1.884990447145806,
          -1.900024916718449,
          -1.9096122818117085,
          -1.9198815462841194,
          -1.919248780113632,
          -1.931325790041853,
          -1.9578147429403208,
          -1.9705428607942446,
          -1.9786469582560504,
          -1.9837999862528939,
          -2.0022122238418234,
          -2.0086734263018,
          -2.0055253973507354,
          -2.0245364860709416,
          -2.0572244221953997,
          -2.083242440437127,
          -2.0857820970647616,
          -2.093978430159308,
          -2.1047054957447133,
          -2.109261458398762,
          -2.10429153960332,
          -2.1010679275058894,
          -2.10170161490132,
          -2.0972452366131096,
          -2.104835335321896,
          -2.1144051993695436,
          -2.1156804912927343,
          -2.1233776692904125,
          -2.1321173033636187,
          -2.1365860862677315,
          -2.1546043634052534,
          -2.1520508929844135,
          -2.1408855132592053,
          -2.1319049167435,
          -2.1197854440773143,
          -2.121749720912092,
          -2.1192334803000854,
          -2.120479509646663,
          -2.1218199289918718,
          -2.1134703250503812,
          -2.1039275515340137,
          -2.097669395164884,
          -2.0963230746797157,
          -2.1000871151090235,
          -2.1019726505657013,
          -2.0988841973598102,
          -2.0924125172704904,
          -2.0773507186523705,
          -2.070930220716246,
          -2.067127990033795,
          -2.0536765645575286,
          -2.0391351144264105,
          -2.0218122035798496,
          -2.0130175141579687,
          -2.0046393168950987,
          -1.98966083226488,
          -1.9781764700579636,
          -1.970226946236513,
          -1.958725747416509,
          -1.9490082873850756,
          -1.938313997180824,
          -1.92609290514247,
          -1.919099347149795,
          -1.9146402111156668,
          -1.9053718521901688,
          -1.8872272020007628,
          -1.8696749178520675,
          -1.8591430932250899,
          -1.8541897167097519,
          -1.8509337997102346,
          -1.8370408484701517,
          -1.8425653753661544,
          -1.8500154829784294,
          -1.831354947170421,
          -1.8176565022909155,
          -1.8312358738541465,
          -1.8242804425722976,
          -1.7779752487472762,
          -1.709260275364875,
          -1.6726309960306491,
          -1.6824147281186284,
          -1.6868462937372561,
          -1.6881349510793844,
          -1.676569300133376,
          -1.6654271520300736,
          -1.6538354714201267,
          -1.6378032513537213,
          -1.620724486987339,
          -1.6129064558933268,
          -1.6110170786719034,
          -1.6103746726704946,
          -1.6116391331697324,
          -1.5989530822930313,
          -1.5731441459243747,
          -1.5565433706138787,
          -1.5490380162410087,
          -1.5388435144754178,
          -1.5349995480854277,
          -1.5369377356136096,
          -1.5273342918949995,
          -1.4967788476957258,
          -1.448989156447238,
          -1.4401511267842948,
          -1.4138492481768454,
          -1.3547690665617707,
          -1.356640126351405,
          -1.376799059842575,
          -1.3741651125819467,
          -1.37173467518547,
          -1.3762472055847905,
          -1.381307552084817,
          -1.385800831218379,
          -1.3832033944026891,
          -1.3762736837172584,
          -1.3649388685477244,
          -1.3561525895959625,
          -1.2664944067282575,
          -1.1626127456000417,
          -1.1251538490308666,
          -1.1030125022820751,
          -1.0880808602522656,
          -1.055636893531211,
          -1.0236470045498418,
          -1.0027443025071519,
          -1.0052724284348362,
          -0.9977757033929883,
          -0.9439316977253573,
          -0.904675734324268,
          -0.9608373612372875,
          -1.0166352425772098,
          -1.0166352423196092,
          -1.0747306239704881,
          -1.1447551198537314,
          -1.1657731749457958,
          -1.2640766147620761,
          -1.4035222926653628,
          -1.4137741232492997,
          -1.3537361519464528,
          -1.3714153249002516,
          -1.5061562684276975,
          -1.7479553520828626,
          -1.9167936497340035,
          -1.90081362502331,
          -1.8220046183648546,
          -1.7498191938177665,
          -1.6923727563361783,
          -1.649110650633758,
          -1.5980125337680182,
          -1.5409716919005332,
          -1.4815948262655356,
          -1.4262694755348129,
          -1.3721019503025769,
          -1.3140186020529394,
          -1.2572830879343848,
          -1.2009319047229767,
          -1.1463890127205576,
          -1.091006360722699,
          -1.036612737949198,
          -0.9864300850986978,
          -0.9384650796220502,
          -0.887278695492248,
          -0.8324672160923741,
          -0.7779522733044066,
          -0.7254183555210822,
          -0.674641595510078,
          -0.6236866937802965,
          -0.5669306396824125
         ],
         "yaxis": "y"
        }
       ],
       "layout": {
        "legend": {
         "title": {
          "text": "variable"
         },
         "tracegroupgap": 0
        },
        "template": {
         "data": {
          "bar": [
           {
            "error_x": {
             "color": "#2a3f5f"
            },
            "error_y": {
             "color": "#2a3f5f"
            },
            "marker": {
             "line": {
              "color": "#E5ECF6",
              "width": 0.5
             },
             "pattern": {
              "fillmode": "overlay",
              "size": 10,
              "solidity": 0.2
             }
            },
            "type": "bar"
           }
          ],
          "barpolar": [
           {
            "marker": {
             "line": {
              "color": "#E5ECF6",
              "width": 0.5
             },
             "pattern": {
              "fillmode": "overlay",
              "size": 10,
              "solidity": 0.2
             }
            },
            "type": "barpolar"
           }
          ],
          "carpet": [
           {
            "aaxis": {
             "endlinecolor": "#2a3f5f",
             "gridcolor": "white",
             "linecolor": "white",
             "minorgridcolor": "white",
             "startlinecolor": "#2a3f5f"
            },
            "baxis": {
             "endlinecolor": "#2a3f5f",
             "gridcolor": "white",
             "linecolor": "white",
             "minorgridcolor": "white",
             "startlinecolor": "#2a3f5f"
            },
            "type": "carpet"
           }
          ],
          "choropleth": [
           {
            "colorbar": {
             "outlinewidth": 0,
             "ticks": ""
            },
            "type": "choropleth"
           }
          ],
          "contour": [
           {
            "colorbar": {
             "outlinewidth": 0,
             "ticks": ""
            },
            "colorscale": [
             [
              0,
              "#0d0887"
             ],
             [
              0.1111111111111111,
              "#46039f"
             ],
             [
              0.2222222222222222,
              "#7201a8"
             ],
             [
              0.3333333333333333,
              "#9c179e"
             ],
             [
              0.4444444444444444,
              "#bd3786"
             ],
             [
              0.5555555555555556,
              "#d8576b"
             ],
             [
              0.6666666666666666,
              "#ed7953"
             ],
             [
              0.7777777777777778,
              "#fb9f3a"
             ],
             [
              0.8888888888888888,
              "#fdca26"
             ],
             [
              1,
              "#f0f921"
             ]
            ],
            "type": "contour"
           }
          ],
          "contourcarpet": [
           {
            "colorbar": {
             "outlinewidth": 0,
             "ticks": ""
            },
            "type": "contourcarpet"
           }
          ],
          "heatmap": [
           {
            "colorbar": {
             "outlinewidth": 0,
             "ticks": ""
            },
            "colorscale": [
             [
              0,
              "#0d0887"
             ],
             [
              0.1111111111111111,
              "#46039f"
             ],
             [
              0.2222222222222222,
              "#7201a8"
             ],
             [
              0.3333333333333333,
              "#9c179e"
             ],
             [
              0.4444444444444444,
              "#bd3786"
             ],
             [
              0.5555555555555556,
              "#d8576b"
             ],
             [
              0.6666666666666666,
              "#ed7953"
             ],
             [
              0.7777777777777778,
              "#fb9f3a"
             ],
             [
              0.8888888888888888,
              "#fdca26"
             ],
             [
              1,
              "#f0f921"
             ]
            ],
            "type": "heatmap"
           }
          ],
          "heatmapgl": [
           {
            "colorbar": {
             "outlinewidth": 0,
             "ticks": ""
            },
            "colorscale": [
             [
              0,
              "#0d0887"
             ],
             [
              0.1111111111111111,
              "#46039f"
             ],
             [
              0.2222222222222222,
              "#7201a8"
             ],
             [
              0.3333333333333333,
              "#9c179e"
             ],
             [
              0.4444444444444444,
              "#bd3786"
             ],
             [
              0.5555555555555556,
              "#d8576b"
             ],
             [
              0.6666666666666666,
              "#ed7953"
             ],
             [
              0.7777777777777778,
              "#fb9f3a"
             ],
             [
              0.8888888888888888,
              "#fdca26"
             ],
             [
              1,
              "#f0f921"
             ]
            ],
            "type": "heatmapgl"
           }
          ],
          "histogram": [
           {
            "marker": {
             "pattern": {
              "fillmode": "overlay",
              "size": 10,
              "solidity": 0.2
             }
            },
            "type": "histogram"
           }
          ],
          "histogram2d": [
           {
            "colorbar": {
             "outlinewidth": 0,
             "ticks": ""
            },
            "colorscale": [
             [
              0,
              "#0d0887"
             ],
             [
              0.1111111111111111,
              "#46039f"
             ],
             [
              0.2222222222222222,
              "#7201a8"
             ],
             [
              0.3333333333333333,
              "#9c179e"
             ],
             [
              0.4444444444444444,
              "#bd3786"
             ],
             [
              0.5555555555555556,
              "#d8576b"
             ],
             [
              0.6666666666666666,
              "#ed7953"
             ],
             [
              0.7777777777777778,
              "#fb9f3a"
             ],
             [
              0.8888888888888888,
              "#fdca26"
             ],
             [
              1,
              "#f0f921"
             ]
            ],
            "type": "histogram2d"
           }
          ],
          "histogram2dcontour": [
           {
            "colorbar": {
             "outlinewidth": 0,
             "ticks": ""
            },
            "colorscale": [
             [
              0,
              "#0d0887"
             ],
             [
              0.1111111111111111,
              "#46039f"
             ],
             [
              0.2222222222222222,
              "#7201a8"
             ],
             [
              0.3333333333333333,
              "#9c179e"
             ],
             [
              0.4444444444444444,
              "#bd3786"
             ],
             [
              0.5555555555555556,
              "#d8576b"
             ],
             [
              0.6666666666666666,
              "#ed7953"
             ],
             [
              0.7777777777777778,
              "#fb9f3a"
             ],
             [
              0.8888888888888888,
              "#fdca26"
             ],
             [
              1,
              "#f0f921"
             ]
            ],
            "type": "histogram2dcontour"
           }
          ],
          "mesh3d": [
           {
            "colorbar": {
             "outlinewidth": 0,
             "ticks": ""
            },
            "type": "mesh3d"
           }
          ],
          "parcoords": [
           {
            "line": {
             "colorbar": {
              "outlinewidth": 0,
              "ticks": ""
             }
            },
            "type": "parcoords"
           }
          ],
          "pie": [
           {
            "automargin": true,
            "type": "pie"
           }
          ],
          "scatter": [
           {
            "fillpattern": {
             "fillmode": "overlay",
             "size": 10,
             "solidity": 0.2
            },
            "type": "scatter"
           }
          ],
          "scatter3d": [
           {
            "line": {
             "colorbar": {
              "outlinewidth": 0,
              "ticks": ""
             }
            },
            "marker": {
             "colorbar": {
              "outlinewidth": 0,
              "ticks": ""
             }
            },
            "type": "scatter3d"
           }
          ],
          "scattercarpet": [
           {
            "marker": {
             "colorbar": {
              "outlinewidth": 0,
              "ticks": ""
             }
            },
            "type": "scattercarpet"
           }
          ],
          "scattergeo": [
           {
            "marker": {
             "colorbar": {
              "outlinewidth": 0,
              "ticks": ""
             }
            },
            "type": "scattergeo"
           }
          ],
          "scattergl": [
           {
            "marker": {
             "colorbar": {
              "outlinewidth": 0,
              "ticks": ""
             }
            },
            "type": "scattergl"
           }
          ],
          "scattermapbox": [
           {
            "marker": {
             "colorbar": {
              "outlinewidth": 0,
              "ticks": ""
             }
            },
            "type": "scattermapbox"
           }
          ],
          "scatterpolar": [
           {
            "marker": {
             "colorbar": {
              "outlinewidth": 0,
              "ticks": ""
             }
            },
            "type": "scatterpolar"
           }
          ],
          "scatterpolargl": [
           {
            "marker": {
             "colorbar": {
              "outlinewidth": 0,
              "ticks": ""
             }
            },
            "type": "scatterpolargl"
           }
          ],
          "scatterternary": [
           {
            "marker": {
             "colorbar": {
              "outlinewidth": 0,
              "ticks": ""
             }
            },
            "type": "scatterternary"
           }
          ],
          "surface": [
           {
            "colorbar": {
             "outlinewidth": 0,
             "ticks": ""
            },
            "colorscale": [
             [
              0,
              "#0d0887"
             ],
             [
              0.1111111111111111,
              "#46039f"
             ],
             [
              0.2222222222222222,
              "#7201a8"
             ],
             [
              0.3333333333333333,
              "#9c179e"
             ],
             [
              0.4444444444444444,
              "#bd3786"
             ],
             [
              0.5555555555555556,
              "#d8576b"
             ],
             [
              0.6666666666666666,
              "#ed7953"
             ],
             [
              0.7777777777777778,
              "#fb9f3a"
             ],
             [
              0.8888888888888888,
              "#fdca26"
             ],
             [
              1,
              "#f0f921"
             ]
            ],
            "type": "surface"
           }
          ],
          "table": [
           {
            "cells": {
             "fill": {
              "color": "#EBF0F8"
             },
             "line": {
              "color": "white"
             }
            },
            "header": {
             "fill": {
              "color": "#C8D4E3"
             },
             "line": {
              "color": "white"
             }
            },
            "type": "table"
           }
          ]
         },
         "layout": {
          "annotationdefaults": {
           "arrowcolor": "#2a3f5f",
           "arrowhead": 0,
           "arrowwidth": 1
          },
          "autotypenumbers": "strict",
          "coloraxis": {
           "colorbar": {
            "outlinewidth": 0,
            "ticks": ""
           }
          },
          "colorscale": {
           "diverging": [
            [
             0,
             "#8e0152"
            ],
            [
             0.1,
             "#c51b7d"
            ],
            [
             0.2,
             "#de77ae"
            ],
            [
             0.3,
             "#f1b6da"
            ],
            [
             0.4,
             "#fde0ef"
            ],
            [
             0.5,
             "#f7f7f7"
            ],
            [
             0.6,
             "#e6f5d0"
            ],
            [
             0.7,
             "#b8e186"
            ],
            [
             0.8,
             "#7fbc41"
            ],
            [
             0.9,
             "#4d9221"
            ],
            [
             1,
             "#276419"
            ]
           ],
           "sequential": [
            [
             0,
             "#0d0887"
            ],
            [
             0.1111111111111111,
             "#46039f"
            ],
            [
             0.2222222222222222,
             "#7201a8"
            ],
            [
             0.3333333333333333,
             "#9c179e"
            ],
            [
             0.4444444444444444,
             "#bd3786"
            ],
            [
             0.5555555555555556,
             "#d8576b"
            ],
            [
             0.6666666666666666,
             "#ed7953"
            ],
            [
             0.7777777777777778,
             "#fb9f3a"
            ],
            [
             0.8888888888888888,
             "#fdca26"
            ],
            [
             1,
             "#f0f921"
            ]
           ],
           "sequentialminus": [
            [
             0,
             "#0d0887"
            ],
            [
             0.1111111111111111,
             "#46039f"
            ],
            [
             0.2222222222222222,
             "#7201a8"
            ],
            [
             0.3333333333333333,
             "#9c179e"
            ],
            [
             0.4444444444444444,
             "#bd3786"
            ],
            [
             0.5555555555555556,
             "#d8576b"
            ],
            [
             0.6666666666666666,
             "#ed7953"
            ],
            [
             0.7777777777777778,
             "#fb9f3a"
            ],
            [
             0.8888888888888888,
             "#fdca26"
            ],
            [
             1,
             "#f0f921"
            ]
           ]
          },
          "colorway": [
           "#636efa",
           "#EF553B",
           "#00cc96",
           "#ab63fa",
           "#FFA15A",
           "#19d3f3",
           "#FF6692",
           "#B6E880",
           "#FF97FF",
           "#FECB52"
          ],
          "font": {
           "color": "#2a3f5f"
          },
          "geo": {
           "bgcolor": "white",
           "lakecolor": "white",
           "landcolor": "#E5ECF6",
           "showlakes": true,
           "showland": true,
           "subunitcolor": "white"
          },
          "hoverlabel": {
           "align": "left"
          },
          "hovermode": "closest",
          "mapbox": {
           "style": "light"
          },
          "paper_bgcolor": "white",
          "plot_bgcolor": "#E5ECF6",
          "polar": {
           "angularaxis": {
            "gridcolor": "white",
            "linecolor": "white",
            "ticks": ""
           },
           "bgcolor": "#E5ECF6",
           "radialaxis": {
            "gridcolor": "white",
            "linecolor": "white",
            "ticks": ""
           }
          },
          "scene": {
           "xaxis": {
            "backgroundcolor": "#E5ECF6",
            "gridcolor": "white",
            "gridwidth": 2,
            "linecolor": "white",
            "showbackground": true,
            "ticks": "",
            "zerolinecolor": "white"
           },
           "yaxis": {
            "backgroundcolor": "#E5ECF6",
            "gridcolor": "white",
            "gridwidth": 2,
            "linecolor": "white",
            "showbackground": true,
            "ticks": "",
            "zerolinecolor": "white"
           },
           "zaxis": {
            "backgroundcolor": "#E5ECF6",
            "gridcolor": "white",
            "gridwidth": 2,
            "linecolor": "white",
            "showbackground": true,
            "ticks": "",
            "zerolinecolor": "white"
           }
          },
          "shapedefaults": {
           "line": {
            "color": "#2a3f5f"
           }
          },
          "ternary": {
           "aaxis": {
            "gridcolor": "white",
            "linecolor": "white",
            "ticks": ""
           },
           "baxis": {
            "gridcolor": "white",
            "linecolor": "white",
            "ticks": ""
           },
           "bgcolor": "#E5ECF6",
           "caxis": {
            "gridcolor": "white",
            "linecolor": "white",
            "ticks": ""
           }
          },
          "title": {
           "x": 0.05
          },
          "xaxis": {
           "automargin": true,
           "gridcolor": "white",
           "linecolor": "white",
           "ticks": "",
           "title": {
            "standoff": 15
           },
           "zerolinecolor": "white",
           "zerolinewidth": 2
          },
          "yaxis": {
           "automargin": true,
           "gridcolor": "white",
           "linecolor": "white",
           "ticks": "",
           "title": {
            "standoff": 15
           },
           "zerolinecolor": "white",
           "zerolinewidth": 2
          }
         }
        },
        "title": {
         "text": "Velocity"
        },
        "xaxis": {
         "anchor": "y",
         "domain": [
          0,
          1
         ],
         "title": {
          "text": "timestamp"
         }
        },
        "yaxis": {
         "anchor": "x",
         "domain": [
          0,
          1
         ],
         "title": {
          "text": "value"
         }
        }
       }
      }
     },
     "metadata": {},
     "output_type": "display_data"
    }
   ],
   "source": [
    "# df[[\"velocity_x\",\"velocity_y\", \"velocity_z\"]] = df[[\"acc_x\", \"acc_y\",\"acc_z\"]].diff().rolling(window=1).mean().cumsum()\n",
    "from scipy import integrate\n",
    "import numpy as np\n",
    "\n",
    "dv = df[[\"acc_x\", \"acc_y\", \"acc_z\"]].expanding().apply(lambda g: integrate.trapezoid(g, g.index.astype(np.int64) / 10**9))\n",
    "# dv = df[[\"acc_x\", \"acc_y\", \"acc_z\"]].rolling(\"1s\", min_periods=1).mean().cumsum()\n",
    "\n",
    "px.line(dv, title=\"Velocity\")\n",
    "# df[[\"pos_x\",\"pos_y\", \"pos_z\"]] = df[[\"velocity_x\",\"velocity_y\", \"velocity_z\"]].cumsum()"
   ]
  },
  {
   "cell_type": "code",
   "execution_count": 21,
   "metadata": {},
   "outputs": [
    {
     "data": {
      "application/vnd.plotly.v1+json": {
       "config": {
        "plotlyServerURL": "https://plot.ly"
       },
       "data": [
        {
         "hovertemplate": "variable=acc_x<br>timestamp=%{x}<br>value=%{y}<extra></extra>",
         "legendgroup": "acc_x",
         "line": {
          "color": "#636efa",
          "dash": "solid"
         },
         "marker": {
          "symbol": "circle"
         },
         "mode": "lines",
         "name": "acc_x",
         "orientation": "v",
         "showlegend": true,
         "type": "scatter",
         "x": [
          "2023-05-24T13:52:11.391647",
          "2023-05-24T13:52:11.520664",
          "2023-05-24T13:52:11.651807",
          "2023-05-24T13:52:11.786708",
          "2023-05-24T13:52:11.914416",
          "2023-05-24T13:52:12.041363",
          "2023-05-24T13:52:12.173362",
          "2023-05-24T13:52:12.302196",
          "2023-05-24T13:52:12.433154",
          "2023-05-24T13:52:12.564517",
          "2023-05-24T13:52:12.692224",
          "2023-05-24T13:52:12.820066",
          "2023-05-24T13:52:12.951295",
          "2023-05-24T13:52:13.082110",
          "2023-05-24T13:52:13.208994",
          "2023-05-24T13:52:13.338438",
          "2023-05-24T13:52:13.469232",
          "2023-05-24T13:52:13.597706",
          "2023-05-24T13:52:13.726025",
          "2023-05-24T13:52:13.855184",
          "2023-05-24T13:52:13.988957",
          "2023-05-24T13:52:14.119931",
          "2023-05-24T13:52:14.247031",
          "2023-05-24T13:52:14.373113",
          "2023-05-24T13:52:14.508851",
          "2023-05-24T13:52:14.634273",
          "2023-05-24T13:52:14.766044",
          "2023-05-24T13:52:14.894661",
          "2023-05-24T13:52:15.023545",
          "2023-05-24T13:52:15.152867",
          "2023-05-24T13:52:15.283219",
          "2023-05-24T13:52:15.412391",
          "2023-05-24T13:52:15.548353",
          "2023-05-24T13:52:15.674939",
          "2023-05-24T13:52:15.801423",
          "2023-05-24T13:52:15.932098",
          "2023-05-24T13:52:16.063932",
          "2023-05-24T13:52:16.189839",
          "2023-05-24T13:52:16.324364",
          "2023-05-24T13:52:16.451821",
          "2023-05-24T13:52:16.585015",
          "2023-05-24T13:52:16.711809",
          "2023-05-24T13:52:16.842164",
          "2023-05-24T13:52:16.969665",
          "2023-05-24T13:52:17.101157",
          "2023-05-24T13:52:17.232186",
          "2023-05-24T13:52:17.356793",
          "2023-05-24T13:52:17.487714",
          "2023-05-24T13:52:17.617107",
          "2023-05-24T13:52:17.745678",
          "2023-05-24T13:52:17.875636",
          "2023-05-24T13:52:18.007013",
          "2023-05-24T13:52:18.139500",
          "2023-05-24T13:52:18.266519",
          "2023-05-24T13:52:18.394417",
          "2023-05-24T13:52:18.527126",
          "2023-05-24T13:52:18.655824",
          "2023-05-24T13:52:18.785476",
          "2023-05-24T13:52:18.916053",
          "2023-05-24T13:52:19.045550",
          "2023-05-24T13:52:19.176565",
          "2023-05-24T13:52:19.305969",
          "2023-05-24T13:52:19.434095",
          "2023-05-24T13:52:19.562676",
          "2023-05-24T13:52:19.695088",
          "2023-05-24T13:52:19.822620",
          "2023-05-24T13:52:19.950858",
          "2023-05-24T13:52:20.086607",
          "2023-05-24T13:52:20.210072",
          "2023-05-24T13:52:20.344355",
          "2023-05-24T13:52:20.472593",
          "2023-05-24T13:52:20.602935",
          "2023-05-24T13:52:20.734394",
          "2023-05-24T13:52:20.861201",
          "2023-05-24T13:52:20.990362",
          "2023-05-24T13:52:21.122396",
          "2023-05-24T13:52:21.250852",
          "2023-05-24T13:52:21.379459",
          "2023-05-24T13:52:21.513279",
          "2023-05-24T13:52:21.640850",
          "2023-05-24T13:52:21.773563",
          "2023-05-24T13:52:21.899257",
          "2023-05-24T13:52:22.034329",
          "2023-05-24T13:52:22.163568",
          "2023-05-24T13:52:22.293827",
          "2023-05-24T13:52:22.420817",
          "2023-05-24T13:52:22.550565",
          "2023-05-24T13:52:22.683951",
          "2023-05-24T13:52:22.811706",
          "2023-05-24T13:52:22.942181",
          "2023-05-24T13:52:23.072496",
          "2023-05-24T13:52:23.203121",
          "2023-05-24T13:52:23.331887",
          "2023-05-24T13:52:23.464326",
          "2023-05-24T13:52:23.592470",
          "2023-05-24T13:52:23.719308",
          "2023-05-24T13:52:23.850855",
          "2023-05-24T13:52:23.981894",
          "2023-05-24T13:52:24.108448",
          "2023-05-24T13:52:24.241877",
          "2023-05-24T13:52:24.365569",
          "2023-05-24T13:52:24.494692",
          "2023-05-24T13:52:24.628486",
          "2023-05-24T13:52:24.759535",
          "2023-05-24T13:52:24.888022",
          "2023-05-24T13:52:25.016205",
          "2023-05-24T13:52:25.146885",
          "2023-05-24T13:52:25.275621",
          "2023-05-24T13:52:25.405785",
          "2023-05-24T13:52:25.536133",
          "2023-05-24T13:52:25.670073",
          "2023-05-24T13:52:25.797151",
          "2023-05-24T13:52:25.927636",
          "2023-05-24T13:52:26.057630",
          "2023-05-24T13:52:26.184043",
          "2023-05-24T13:52:26.314176",
          "2023-05-24T13:52:26.441512",
          "2023-05-24T13:52:26.574309",
          "2023-05-24T13:52:26.702778",
          "2023-05-24T13:52:26.835200",
          "2023-05-24T13:52:26.961170",
          "2023-05-24T13:52:27.090078",
          "2023-05-24T13:52:27.221977",
          "2023-05-24T13:52:27.353655",
          "2023-05-24T13:52:27.483782",
          "2023-05-24T13:52:27.609969",
          "2023-05-24T13:52:27.739128",
          "2023-05-24T13:52:27.869667",
          "2023-05-24T13:52:27.998201",
          "2023-05-24T13:52:28.130483",
          "2023-05-24T13:52:28.262630",
          "2023-05-24T13:52:28.393086",
          "2023-05-24T13:52:28.520782",
          "2023-05-24T13:52:28.647804",
          "2023-05-24T13:52:28.780794",
          "2023-05-24T13:52:28.908553",
          "2023-05-24T13:52:29.038906",
          "2023-05-24T13:52:29.169804",
          "2023-05-24T13:52:29.298854",
          "2023-05-24T13:52:29.428488",
          "2023-05-24T13:52:29.557114",
          "2023-05-24T13:52:29.686906",
          "2023-05-24T13:52:29.814044",
          "2023-05-24T13:52:29.945411",
          "2023-05-24T13:52:30.074897",
          "2023-05-24T13:52:30.206670",
          "2023-05-24T13:52:30.335075",
          "2023-05-24T13:52:30.464316",
          "2023-05-24T13:52:30.592519",
          "2023-05-24T13:52:30.725175",
          "2023-05-24T13:52:30.854663",
          "2023-05-24T13:52:30.983248",
          "2023-05-24T13:52:31.111938",
          "2023-05-24T13:52:31.244676",
          "2023-05-24T13:52:31.371375",
          "2023-05-24T13:52:31.502863",
          "2023-05-24T13:52:31.632101",
          "2023-05-24T13:52:31.761938",
          "2023-05-24T13:52:31.890935",
          "2023-05-24T13:52:32.021050",
          "2023-05-24T13:52:32.151095",
          "2023-05-24T13:52:32.281912",
          "2023-05-24T13:52:32.409227",
          "2023-05-24T13:52:32.539425",
          "2023-05-24T13:52:32.670666",
          "2023-05-24T13:52:32.800858",
          "2023-05-24T13:52:32.927365",
          "2023-05-24T13:52:33.058190",
          "2023-05-24T13:52:33.188280",
          "2023-05-24T13:52:33.321815",
          "2023-05-24T13:52:33.450109",
          "2023-05-24T13:52:33.577170",
          "2023-05-24T13:52:33.713856",
          "2023-05-24T13:52:33.835489",
          "2023-05-24T13:52:33.965236",
          "2023-05-24T13:52:34.092868",
          "2023-05-24T13:52:34.230156",
          "2023-05-24T13:52:34.358099",
          "2023-05-24T13:52:34.486281",
          "2023-05-24T13:52:34.612256",
          "2023-05-24T13:52:34.744243",
          "2023-05-24T13:52:34.872234",
          "2023-05-24T13:52:35.003177",
          "2023-05-24T13:52:35.132418",
          "2023-05-24T13:52:35.263054",
          "2023-05-24T13:52:35.391996",
          "2023-05-24T13:52:35.522845",
          "2023-05-24T13:52:35.650962",
          "2023-05-24T13:52:35.782400",
          "2023-05-24T13:52:35.915217",
          "2023-05-24T13:52:36.045338",
          "2023-05-24T13:52:36.170051",
          "2023-05-24T13:52:36.300363",
          "2023-05-24T13:52:36.432485",
          "2023-05-24T13:52:36.560782",
          "2023-05-24T13:52:36.691963",
          "2023-05-24T13:52:36.821627",
          "2023-05-24T13:52:36.951544",
          "2023-05-24T13:52:37.077560",
          "2023-05-24T13:52:37.205164",
          "2023-05-24T13:52:37.342845",
          "2023-05-24T13:52:37.469193",
          "2023-05-24T13:52:37.595470",
          "2023-05-24T13:52:37.728276",
          "2023-05-24T13:52:37.863200",
          "2023-05-24T13:52:37.988389",
          "2023-05-24T13:52:38.115007",
          "2023-05-24T13:52:38.246239",
          "2023-05-24T13:52:38.379274",
          "2023-05-24T13:52:38.505158",
          "2023-05-24T13:52:38.634115",
          "2023-05-24T13:52:38.765278",
          "2023-05-24T13:52:38.891531",
          "2023-05-24T13:52:39.027356",
          "2023-05-24T13:52:39.152065",
          "2023-05-24T13:52:39.281179",
          "2023-05-24T13:52:39.412587",
          "2023-05-24T13:52:39.543629",
          "2023-05-24T13:52:39.669873",
          "2023-05-24T13:52:39.801210",
          "2023-05-24T13:52:39.931998",
          "2023-05-24T13:52:40.061003",
          "2023-05-24T13:52:40.193874",
          "2023-05-24T13:52:40.322317",
          "2023-05-24T13:52:40.453333",
          "2023-05-24T13:52:40.582273",
          "2023-05-24T13:52:40.711636",
          "2023-05-24T13:52:40.840017",
          "2023-05-24T13:52:40.970234",
          "2023-05-24T13:52:41.097791",
          "2023-05-24T13:52:41.227736",
          "2023-05-24T13:52:41.358396",
          "2023-05-24T13:52:41.490157",
          "2023-05-24T13:52:41.620729",
          "2023-05-24T13:52:41.750555",
          "2023-05-24T13:52:41.878798",
          "2023-05-24T13:52:42.007546",
          "2023-05-24T13:52:42.135264",
          "2023-05-24T13:52:42.269143",
          "2023-05-24T13:52:42.396341",
          "2023-05-24T13:52:42.524820",
          "2023-05-24T13:52:42.659115",
          "2023-05-24T13:52:42.783034",
          "2023-05-24T13:52:42.914507",
          "2023-05-24T13:52:43.043511",
          "2023-05-24T13:52:43.174423",
          "2023-05-24T13:52:43.306857",
          "2023-05-24T13:52:43.435337",
          "2023-05-24T13:52:43.563764",
          "2023-05-24T13:52:43.691758",
          "2023-05-24T13:52:43.825228",
          "2023-05-24T13:52:43.954412",
          "2023-05-24T13:52:44.083896",
          "2023-05-24T13:52:44.212914",
          "2023-05-24T13:52:44.339799",
          "2023-05-24T13:52:44.472135",
          "2023-05-24T13:52:44.597600",
          "2023-05-24T13:52:44.730819",
          "2023-05-24T13:52:44.859719",
          "2023-05-24T13:52:44.987129",
          "2023-05-24T13:52:45.117858",
          "2023-05-24T13:52:45.249105",
          "2023-05-24T13:52:45.380759",
          "2023-05-24T13:52:45.508621",
          "2023-05-24T13:52:45.639962",
          "2023-05-24T13:52:45.767363",
          "2023-05-24T13:52:45.900832",
          "2023-05-24T13:52:46.030727",
          "2023-05-24T13:52:46.159243",
          "2023-05-24T13:52:46.287348",
          "2023-05-24T13:52:46.418024",
          "2023-05-24T13:52:46.546913",
          "2023-05-24T13:52:46.680453",
          "2023-05-24T13:52:46.809466",
          "2023-05-24T13:52:46.937554",
          "2023-05-24T13:52:47.066038",
          "2023-05-24T13:52:47.196400",
          "2023-05-24T13:52:47.328144",
          "2023-05-24T13:52:47.453972",
          "2023-05-24T13:52:47.584149",
          "2023-05-24T13:52:47.715837",
          "2023-05-24T13:52:47.842925",
          "2023-05-24T13:52:47.972183",
          "2023-05-24T13:52:48.102394",
          "2023-05-24T13:52:48.230614",
          "2023-05-24T13:52:48.360581",
          "2023-05-24T13:52:48.490755",
          "2023-05-24T13:52:48.619321",
          "2023-05-24T13:52:48.748451",
          "2023-05-24T13:52:48.877797",
          "2023-05-24T13:52:49.006150",
          "2023-05-24T13:52:49.138213",
          "2023-05-24T13:52:49.269425",
          "2023-05-24T13:52:49.396467",
          "2023-05-24T13:52:49.528609",
          "2023-05-24T13:52:49.657098",
          "2023-05-24T13:52:49.786378",
          "2023-05-24T13:52:49.917037",
          "2023-05-24T13:52:50.046483",
          "2023-05-24T13:52:50.173215",
          "2023-05-24T13:52:50.309393"
         ],
         "xaxis": "x",
         "y": [
          0,
          0.0010936701224305517,
          0.004067588199667605,
          0.007711376174403361,
          0.010335738697053162,
          0.011779037461140455,
          0.012088196849393952,
          0.011748074551228472,
          0.010881114486344434,
          0.00910772028428082,
          0.0070772681188426695,
          0.00466794563911898,
          0.00121905395381602,
          -0.0029925221820577374,
          -0.007692964426772659,
          -0.013154441462514934,
          -0.01927373484443404,
          -0.025710577767678204,
          -0.032236680396572286,
          -0.039026578262336624,
          -0.046505934548977605,
          -0.05401760782615332,
          -0.061600403653651735,
          -0.07011465675465282,
          -0.0800987892174587,
          -0.08972903001873907,
          -0.10044087981903921,
          -0.11120166183338967,
          -0.12248954534172302,
          -0.13448682335477102,
          -0.14696917247142535,
          -0.1593152075815206,
          -0.17283545345327697,
          -0.18646539007867854,
          -0.20057103140978505,
          -0.21536716183382879,
          -0.23060860673555433,
          -0.245499015381302,
          -0.26101509572408943,
          -0.27498676007700296,
          -0.28970066441110703,
          -0.30468357795457207,
          -0.3202510428327943,
          -0.3348445062920344,
          -0.3513565785283563,
          -0.3701899497127419,
          -0.38864804312925405,
          -0.406935382507415,
          -0.4234969018765777,
          -0.44093803370752604,
          -0.4637417543382362,
          -0.49333138638958735,
          -0.5262612784894319,
          -0.5561112429477413,
          -0.582988116412834,
          -0.6083124453856774,
          -0.631879057497333,
          -0.6573668272393576,
          -0.6861347641074191,
          -0.7163378189518131,
          -0.7464883388166518,
          -0.7743475065442237,
          -0.7996005661307714,
          -0.8256927433853876,
          -0.8574248591444266,
          -0.8924168835009324,
          -0.9300293384817259,
          -0.9696719360037267,
          -1.0027348564627483,
          -1.0346123948023647,
          -1.064141042299229,
          -1.098153845245603,
          -1.137448074159431,
          -1.1785077689621932,
          -1.2213439743488759,
          -1.2635330799460265,
          -1.3028220577913263,
          -1.3416874304638824,
          -1.3835485263787233,
          -1.4253272182610093,
          -1.4684380235087162,
          -1.5075716217609996,
          -1.5485891404395267,
          -1.587680859477711,
          -1.6280960804714357,
          -1.6707003034578556,
          -1.7167559861831385,
          -1.7629790053650904,
          -1.803569252016264,
          -1.8407927712073393,
          -1.8770691187225947,
          -1.9162071117002197,
          -1.9598303238068842,
          -2.0105978282448196,
          -2.061708441504198,
          -2.1108494516176215,
          -2.1590677824457822,
          -2.20395266421776,
          -2.246839554149188,
          -2.291805480276488,
          -2.331325350819762,
          -2.3719105229439448,
          -2.415193022338575,
          -2.459051161544648,
          -2.502243750617373,
          -2.543858669860321,
          -2.58426852055766,
          -2.6228593147180903,
          -2.6621876978389496,
          -2.7026706586289984,
          -2.744929786050721,
          -2.7849235469476126,
          -2.8258850858602074,
          -2.8672064993170934,
          -2.9084362397096153,
          -2.951957371944645,
          -2.9956816999786815,
          -3.041830137314883,
          -3.085433438034718,
          -3.1287469340133955,
          -3.168881719163048,
          -3.2102631439768174,
          -3.2544819011754633,
          -3.3000483101972637,
          -3.345720243111748,
          -3.3908950973547767,
          -3.4375059852867995,
          -3.4839229705322827,
          -3.5293516587138267,
          -3.5774444367902953,
          -3.627218956388616,
          -3.676798642360165,
          -3.724861525003892,
          -3.7726851086368853,
          -3.8234961345026006,
          -3.87270129485675,
          -3.923256281257615,
          -3.975045917242396,
          -4.026129531630655,
          -4.07676330013341,
          -4.12799247543589,
          -4.1810970032773405,
          -4.233494908338249,
          -4.287735669405938,
          -4.34134020086117,
          -4.3954813528528,
          -4.447555117881723,
          -4.50023112205138,
          -4.553591859996449,
          -4.610310006878777,
          -4.666777933104125,
          -4.723640555749547,
          -4.78149946198285,
          -4.841915152601482,
          -4.899648862867394,
          -4.959334904471749,
          -5.018342913288061,
          -5.078300411718642,
          -5.138459516604669,
          -5.199652210998082,
          -5.261450453787208,
          -5.324343053330843,
          -5.385853882483907,
          -5.449148285589587,
          -5.51499025535165,
          -5.582538218670715,
          -5.648520091745079,
          -5.716107543332564,
          -5.782292304848662,
          -5.849783000106168,
          -5.914930374817931,
          -5.980101920319134,
          -6.051239610645071,
          -6.11471211393118,
          -6.181916252314579,
          -6.247957279497932,
          -6.319368984576533,
          -6.386469961303826,
          -6.4547992550706175,
          -6.5228360902918245,
          -6.594214078402663,
          -6.663203938516996,
          -6.733847487024919,
          -6.804492986344326,
          -6.876244641009106,
          -6.946058319026128,
          -7.01655336852106,
          -7.086524213053736,
          -7.159155599063238,
          -7.232650915406497,
          -7.304337459426234,
          -7.372973859797097,
          -7.445366955158375,
          -7.519674303110379,
          -7.592987579839112,
          -7.6687493445177,
          -7.7429921789343075,
          -7.816901259099399,
          -7.889429149770013,
          -7.963876478170873,
          -8.04437956886012,
          -8.117945390044824,
          -8.191915567163953,
          -8.270300409688867,
          -8.34848100518324,
          -8.4205569342334,
          -8.495465921544298,
          -8.57350044065886,
          -8.652201540501254,
          -8.727795959790392,
          -8.804499509226527,
          -8.879605655417036,
          -8.952843137787816,
          -9.036350363687783,
          -9.114353148337662,
          -9.194787142468957,
          -9.278098302797009,
          -9.361744446075875,
          -9.442133404660968,
          -9.52657756542974,
          -9.611694289235563,
          -9.695999176891084,
          -9.782244079875293,
          -9.865372071842469,
          -9.951018356160125,
          -10.036352367029757,
          -10.122514554955568,
          -10.208281770288783,
          -10.295788942545407,
          -10.382129359376128,
          -10.470842562495982,
          -10.561229838775198,
          -10.654347904961808,
          -10.748575896949284,
          -10.8419968822062,
          -10.93218665759052,
          -11.022264588731074,
          -11.115201964277615,
          -11.216842718748422,
          -11.315226875091893,
          -11.419588180019824,
          -11.535918583588002,
          -11.645696275611936,
          -11.761429182723294,
          -11.87491299290066,
          -11.991806880558444,
          -12.11118057667428,
          -12.226477062774737,
          -12.3417011895958,
          -12.457518538736151,
          -12.580551767772734,
          -12.701746871895446,
          -12.822992131636875,
          -12.943569415085785,
          -13.06351990290574,
          -13.188302593018905,
          -13.304402202648738,
          -13.427503609887337,
          -13.550448742949866,
          -13.679145997325968,
          -13.818513297758814,
          -13.966757857223731,
          -14.137219032105277,
          -14.345248058786167,
          -14.6184766626477,
          -14.935395317009982,
          -15.285917070897698,
          -15.604112471298007,
          -15.880877440738344,
          -16.12235477642794,
          -16.335113922948103,
          -16.526421561802202,
          -16.743772699611753,
          -16.98407881802585,
          -17.2315589812852,
          -17.47974429268144,
          -17.732764199548548,
          -17.98826990410083,
          -18.23196014537941,
          -18.483928753613643,
          -18.73883911438186,
          -18.984861218039384,
          -19.235181959742903,
          -19.487614025109888,
          -19.736486633499155,
          -19.98913834773233,
          -20.24266507752211,
          -20.49316015196443,
          -20.744607162933853,
          -20.99661476954713,
          -21.24710810586226,
          -21.505323346390213,
          -21.76214500702703,
          -22.011060071353988,
          -22.270532693436238,
          -22.523343550440053,
          -22.77821746471956,
          -23.036493344837176,
          -23.292801720241947,
          -23.543871688135617,
          -23.813851770909316
         ],
         "yaxis": "y"
        },
        {
         "hovertemplate": "variable=acc_y<br>timestamp=%{x}<br>value=%{y}<extra></extra>",
         "legendgroup": "acc_y",
         "line": {
          "color": "#EF553B",
          "dash": "solid"
         },
         "marker": {
          "symbol": "circle"
         },
         "mode": "lines",
         "name": "acc_y",
         "orientation": "v",
         "showlegend": true,
         "type": "scatter",
         "x": [
          "2023-05-24T13:52:11.391647",
          "2023-05-24T13:52:11.520664",
          "2023-05-24T13:52:11.651807",
          "2023-05-24T13:52:11.786708",
          "2023-05-24T13:52:11.914416",
          "2023-05-24T13:52:12.041363",
          "2023-05-24T13:52:12.173362",
          "2023-05-24T13:52:12.302196",
          "2023-05-24T13:52:12.433154",
          "2023-05-24T13:52:12.564517",
          "2023-05-24T13:52:12.692224",
          "2023-05-24T13:52:12.820066",
          "2023-05-24T13:52:12.951295",
          "2023-05-24T13:52:13.082110",
          "2023-05-24T13:52:13.208994",
          "2023-05-24T13:52:13.338438",
          "2023-05-24T13:52:13.469232",
          "2023-05-24T13:52:13.597706",
          "2023-05-24T13:52:13.726025",
          "2023-05-24T13:52:13.855184",
          "2023-05-24T13:52:13.988957",
          "2023-05-24T13:52:14.119931",
          "2023-05-24T13:52:14.247031",
          "2023-05-24T13:52:14.373113",
          "2023-05-24T13:52:14.508851",
          "2023-05-24T13:52:14.634273",
          "2023-05-24T13:52:14.766044",
          "2023-05-24T13:52:14.894661",
          "2023-05-24T13:52:15.023545",
          "2023-05-24T13:52:15.152867",
          "2023-05-24T13:52:15.283219",
          "2023-05-24T13:52:15.412391",
          "2023-05-24T13:52:15.548353",
          "2023-05-24T13:52:15.674939",
          "2023-05-24T13:52:15.801423",
          "2023-05-24T13:52:15.932098",
          "2023-05-24T13:52:16.063932",
          "2023-05-24T13:52:16.189839",
          "2023-05-24T13:52:16.324364",
          "2023-05-24T13:52:16.451821",
          "2023-05-24T13:52:16.585015",
          "2023-05-24T13:52:16.711809",
          "2023-05-24T13:52:16.842164",
          "2023-05-24T13:52:16.969665",
          "2023-05-24T13:52:17.101157",
          "2023-05-24T13:52:17.232186",
          "2023-05-24T13:52:17.356793",
          "2023-05-24T13:52:17.487714",
          "2023-05-24T13:52:17.617107",
          "2023-05-24T13:52:17.745678",
          "2023-05-24T13:52:17.875636",
          "2023-05-24T13:52:18.007013",
          "2023-05-24T13:52:18.139500",
          "2023-05-24T13:52:18.266519",
          "2023-05-24T13:52:18.394417",
          "2023-05-24T13:52:18.527126",
          "2023-05-24T13:52:18.655824",
          "2023-05-24T13:52:18.785476",
          "2023-05-24T13:52:18.916053",
          "2023-05-24T13:52:19.045550",
          "2023-05-24T13:52:19.176565",
          "2023-05-24T13:52:19.305969",
          "2023-05-24T13:52:19.434095",
          "2023-05-24T13:52:19.562676",
          "2023-05-24T13:52:19.695088",
          "2023-05-24T13:52:19.822620",
          "2023-05-24T13:52:19.950858",
          "2023-05-24T13:52:20.086607",
          "2023-05-24T13:52:20.210072",
          "2023-05-24T13:52:20.344355",
          "2023-05-24T13:52:20.472593",
          "2023-05-24T13:52:20.602935",
          "2023-05-24T13:52:20.734394",
          "2023-05-24T13:52:20.861201",
          "2023-05-24T13:52:20.990362",
          "2023-05-24T13:52:21.122396",
          "2023-05-24T13:52:21.250852",
          "2023-05-24T13:52:21.379459",
          "2023-05-24T13:52:21.513279",
          "2023-05-24T13:52:21.640850",
          "2023-05-24T13:52:21.773563",
          "2023-05-24T13:52:21.899257",
          "2023-05-24T13:52:22.034329",
          "2023-05-24T13:52:22.163568",
          "2023-05-24T13:52:22.293827",
          "2023-05-24T13:52:22.420817",
          "2023-05-24T13:52:22.550565",
          "2023-05-24T13:52:22.683951",
          "2023-05-24T13:52:22.811706",
          "2023-05-24T13:52:22.942181",
          "2023-05-24T13:52:23.072496",
          "2023-05-24T13:52:23.203121",
          "2023-05-24T13:52:23.331887",
          "2023-05-24T13:52:23.464326",
          "2023-05-24T13:52:23.592470",
          "2023-05-24T13:52:23.719308",
          "2023-05-24T13:52:23.850855",
          "2023-05-24T13:52:23.981894",
          "2023-05-24T13:52:24.108448",
          "2023-05-24T13:52:24.241877",
          "2023-05-24T13:52:24.365569",
          "2023-05-24T13:52:24.494692",
          "2023-05-24T13:52:24.628486",
          "2023-05-24T13:52:24.759535",
          "2023-05-24T13:52:24.888022",
          "2023-05-24T13:52:25.016205",
          "2023-05-24T13:52:25.146885",
          "2023-05-24T13:52:25.275621",
          "2023-05-24T13:52:25.405785",
          "2023-05-24T13:52:25.536133",
          "2023-05-24T13:52:25.670073",
          "2023-05-24T13:52:25.797151",
          "2023-05-24T13:52:25.927636",
          "2023-05-24T13:52:26.057630",
          "2023-05-24T13:52:26.184043",
          "2023-05-24T13:52:26.314176",
          "2023-05-24T13:52:26.441512",
          "2023-05-24T13:52:26.574309",
          "2023-05-24T13:52:26.702778",
          "2023-05-24T13:52:26.835200",
          "2023-05-24T13:52:26.961170",
          "2023-05-24T13:52:27.090078",
          "2023-05-24T13:52:27.221977",
          "2023-05-24T13:52:27.353655",
          "2023-05-24T13:52:27.483782",
          "2023-05-24T13:52:27.609969",
          "2023-05-24T13:52:27.739128",
          "2023-05-24T13:52:27.869667",
          "2023-05-24T13:52:27.998201",
          "2023-05-24T13:52:28.130483",
          "2023-05-24T13:52:28.262630",
          "2023-05-24T13:52:28.393086",
          "2023-05-24T13:52:28.520782",
          "2023-05-24T13:52:28.647804",
          "2023-05-24T13:52:28.780794",
          "2023-05-24T13:52:28.908553",
          "2023-05-24T13:52:29.038906",
          "2023-05-24T13:52:29.169804",
          "2023-05-24T13:52:29.298854",
          "2023-05-24T13:52:29.428488",
          "2023-05-24T13:52:29.557114",
          "2023-05-24T13:52:29.686906",
          "2023-05-24T13:52:29.814044",
          "2023-05-24T13:52:29.945411",
          "2023-05-24T13:52:30.074897",
          "2023-05-24T13:52:30.206670",
          "2023-05-24T13:52:30.335075",
          "2023-05-24T13:52:30.464316",
          "2023-05-24T13:52:30.592519",
          "2023-05-24T13:52:30.725175",
          "2023-05-24T13:52:30.854663",
          "2023-05-24T13:52:30.983248",
          "2023-05-24T13:52:31.111938",
          "2023-05-24T13:52:31.244676",
          "2023-05-24T13:52:31.371375",
          "2023-05-24T13:52:31.502863",
          "2023-05-24T13:52:31.632101",
          "2023-05-24T13:52:31.761938",
          "2023-05-24T13:52:31.890935",
          "2023-05-24T13:52:32.021050",
          "2023-05-24T13:52:32.151095",
          "2023-05-24T13:52:32.281912",
          "2023-05-24T13:52:32.409227",
          "2023-05-24T13:52:32.539425",
          "2023-05-24T13:52:32.670666",
          "2023-05-24T13:52:32.800858",
          "2023-05-24T13:52:32.927365",
          "2023-05-24T13:52:33.058190",
          "2023-05-24T13:52:33.188280",
          "2023-05-24T13:52:33.321815",
          "2023-05-24T13:52:33.450109",
          "2023-05-24T13:52:33.577170",
          "2023-05-24T13:52:33.713856",
          "2023-05-24T13:52:33.835489",
          "2023-05-24T13:52:33.965236",
          "2023-05-24T13:52:34.092868",
          "2023-05-24T13:52:34.230156",
          "2023-05-24T13:52:34.358099",
          "2023-05-24T13:52:34.486281",
          "2023-05-24T13:52:34.612256",
          "2023-05-24T13:52:34.744243",
          "2023-05-24T13:52:34.872234",
          "2023-05-24T13:52:35.003177",
          "2023-05-24T13:52:35.132418",
          "2023-05-24T13:52:35.263054",
          "2023-05-24T13:52:35.391996",
          "2023-05-24T13:52:35.522845",
          "2023-05-24T13:52:35.650962",
          "2023-05-24T13:52:35.782400",
          "2023-05-24T13:52:35.915217",
          "2023-05-24T13:52:36.045338",
          "2023-05-24T13:52:36.170051",
          "2023-05-24T13:52:36.300363",
          "2023-05-24T13:52:36.432485",
          "2023-05-24T13:52:36.560782",
          "2023-05-24T13:52:36.691963",
          "2023-05-24T13:52:36.821627",
          "2023-05-24T13:52:36.951544",
          "2023-05-24T13:52:37.077560",
          "2023-05-24T13:52:37.205164",
          "2023-05-24T13:52:37.342845",
          "2023-05-24T13:52:37.469193",
          "2023-05-24T13:52:37.595470",
          "2023-05-24T13:52:37.728276",
          "2023-05-24T13:52:37.863200",
          "2023-05-24T13:52:37.988389",
          "2023-05-24T13:52:38.115007",
          "2023-05-24T13:52:38.246239",
          "2023-05-24T13:52:38.379274",
          "2023-05-24T13:52:38.505158",
          "2023-05-24T13:52:38.634115",
          "2023-05-24T13:52:38.765278",
          "2023-05-24T13:52:38.891531",
          "2023-05-24T13:52:39.027356",
          "2023-05-24T13:52:39.152065",
          "2023-05-24T13:52:39.281179",
          "2023-05-24T13:52:39.412587",
          "2023-05-24T13:52:39.543629",
          "2023-05-24T13:52:39.669873",
          "2023-05-24T13:52:39.801210",
          "2023-05-24T13:52:39.931998",
          "2023-05-24T13:52:40.061003",
          "2023-05-24T13:52:40.193874",
          "2023-05-24T13:52:40.322317",
          "2023-05-24T13:52:40.453333",
          "2023-05-24T13:52:40.582273",
          "2023-05-24T13:52:40.711636",
          "2023-05-24T13:52:40.840017",
          "2023-05-24T13:52:40.970234",
          "2023-05-24T13:52:41.097791",
          "2023-05-24T13:52:41.227736",
          "2023-05-24T13:52:41.358396",
          "2023-05-24T13:52:41.490157",
          "2023-05-24T13:52:41.620729",
          "2023-05-24T13:52:41.750555",
          "2023-05-24T13:52:41.878798",
          "2023-05-24T13:52:42.007546",
          "2023-05-24T13:52:42.135264",
          "2023-05-24T13:52:42.269143",
          "2023-05-24T13:52:42.396341",
          "2023-05-24T13:52:42.524820",
          "2023-05-24T13:52:42.659115",
          "2023-05-24T13:52:42.783034",
          "2023-05-24T13:52:42.914507",
          "2023-05-24T13:52:43.043511",
          "2023-05-24T13:52:43.174423",
          "2023-05-24T13:52:43.306857",
          "2023-05-24T13:52:43.435337",
          "2023-05-24T13:52:43.563764",
          "2023-05-24T13:52:43.691758",
          "2023-05-24T13:52:43.825228",
          "2023-05-24T13:52:43.954412",
          "2023-05-24T13:52:44.083896",
          "2023-05-24T13:52:44.212914",
          "2023-05-24T13:52:44.339799",
          "2023-05-24T13:52:44.472135",
          "2023-05-24T13:52:44.597600",
          "2023-05-24T13:52:44.730819",
          "2023-05-24T13:52:44.859719",
          "2023-05-24T13:52:44.987129",
          "2023-05-24T13:52:45.117858",
          "2023-05-24T13:52:45.249105",
          "2023-05-24T13:52:45.380759",
          "2023-05-24T13:52:45.508621",
          "2023-05-24T13:52:45.639962",
          "2023-05-24T13:52:45.767363",
          "2023-05-24T13:52:45.900832",
          "2023-05-24T13:52:46.030727",
          "2023-05-24T13:52:46.159243",
          "2023-05-24T13:52:46.287348",
          "2023-05-24T13:52:46.418024",
          "2023-05-24T13:52:46.546913",
          "2023-05-24T13:52:46.680453",
          "2023-05-24T13:52:46.809466",
          "2023-05-24T13:52:46.937554",
          "2023-05-24T13:52:47.066038",
          "2023-05-24T13:52:47.196400",
          "2023-05-24T13:52:47.328144",
          "2023-05-24T13:52:47.453972",
          "2023-05-24T13:52:47.584149",
          "2023-05-24T13:52:47.715837",
          "2023-05-24T13:52:47.842925",
          "2023-05-24T13:52:47.972183",
          "2023-05-24T13:52:48.102394",
          "2023-05-24T13:52:48.230614",
          "2023-05-24T13:52:48.360581",
          "2023-05-24T13:52:48.490755",
          "2023-05-24T13:52:48.619321",
          "2023-05-24T13:52:48.748451",
          "2023-05-24T13:52:48.877797",
          "2023-05-24T13:52:49.006150",
          "2023-05-24T13:52:49.138213",
          "2023-05-24T13:52:49.269425",
          "2023-05-24T13:52:49.396467",
          "2023-05-24T13:52:49.528609",
          "2023-05-24T13:52:49.657098",
          "2023-05-24T13:52:49.786378",
          "2023-05-24T13:52:49.917037",
          "2023-05-24T13:52:50.046483",
          "2023-05-24T13:52:50.173215",
          "2023-05-24T13:52:50.309393"
         ],
         "xaxis": "x",
         "y": [
          0,
          0.0014364601194449586,
          0.00541926687643423,
          0.010707340708080068,
          0.016774016580631382,
          0.02428791493766046,
          0.03196819849428248,
          0.03873234019673286,
          0.04503740841652602,
          0.04879976337251491,
          0.049258813015895825,
          0.04837330667940512,
          0.04718983084501816,
          0.04602649756345028,
          0.04487835146492188,
          0.04220664823056086,
          0.03836371521642648,
          0.036308500582580304,
          0.03609029046932875,
          0.03629381252675924,
          0.037747259086573254,
          0.040472340848254885,
          0.04282089169920837,
          0.043720511786892666,
          0.042618581832437066,
          0.04127353978155279,
          0.03907796818677383,
          0.03334862656817267,
          0.023800151825829664,
          0.012560074054059457,
          0.001372394834414781,
          -0.01043242232700301,
          -0.023696694494471867,
          -0.03669198210577854,
          -0.051975814623026986,
          -0.06865875288370554,
          -0.0834337470998023,
          -0.09525660743717135,
          -0.10599324097167369,
          -0.11551225169511978,
          -0.12365383130430838,
          -0.12905388902040976,
          -0.13664528558029665,
          -0.14841400977883185,
          -0.1622132035799741,
          -0.17556735252663092,
          -0.18908100120801724,
          -0.2047230715744907,
          -0.2214433531288881,
          -0.24055931589021856,
          -0.25901871053827935,
          -0.26939701599979554,
          -0.2710727222131324,
          -0.26894447192657317,
          -0.2638236401699848,
          -0.2539129898856953,
          -0.2422666726289156,
          -0.22882577801807413,
          -0.2106048451016997,
          -0.19138609222253147,
          -0.17460056506575622,
          -0.15760814368365098,
          -0.1370095425579978,
          -0.11414090652752426,
          -0.09289257455885572,
          -0.07448421810953099,
          -0.053418310190503984,
          -0.02614824308317338,
          0.0030487223855587137,
          0.03929329176404831,
          0.07598561921930838,
          0.11175352478490824,
          0.143664734308382,
          0.1706716617897511,
          0.1962591851061617,
          0.2229148877175672,
          0.25091447192065497,
          0.2815570943427518,
          0.31747698180820355,
          0.3534792187056372,
          0.3884253923277162,
          0.42062855691743267,
          0.4586211698568527,
          0.49873221158472625,
          0.5409534417114756,
          0.5829288836097508,
          0.6271829591361479,
          0.6720170102306581,
          0.7128321878943111,
          0.7552154781500684,
          0.7986476290807669,
          0.838100883715849,
          0.8732565859258906,
          0.9142482185656754,
          0.9595531217313705,
          1.0091944151923646,
          1.0679721601059848,
          1.126763080282827,
          1.1820035408105136,
          1.239133340863749,
          1.2849182599345452,
          1.3293507571146013,
          1.3764451950095267,
          1.4184519950759182,
          1.453838749800895,
          1.485970116442451,
          1.518300235720444,
          1.5505782150899419,
          1.5825661372869537,
          1.6126174543109726,
          1.6395936044205353,
          1.6612792558606235,
          1.6816005281016158,
          1.6992918299268553,
          1.7132805284081214,
          1.7269428649613072,
          1.7390642629848463,
          1.748813960604461,
          1.7567688870484226,
          1.7627615495843245,
          1.7658637713612508,
          1.768260095139358,
          1.771196129159842,
          1.7746125052879436,
          1.7785044868413868,
          1.7827361007475824,
          1.7868372225465463,
          1.7899156675788195,
          1.7912095053351487,
          1.7912572574436572,
          1.7902514746972158,
          1.7885145961703577,
          1.7861909935246754,
          1.7819539087957335,
          1.775387524943913,
          1.7682259370174414,
          1.7609795575133842,
          1.7550211805594558,
          1.7514247756141759,
          1.7493889202768977,
          1.7477534166566773,
          1.7462438062559928,
          1.7457354724179437,
          1.7459188861001866,
          1.7454978597671111,
          1.743775452710839,
          1.7400721920473274,
          1.734485660222175,
          1.7285523291051472,
          1.724018914066574,
          1.7220268093079159,
          1.7204776220622562,
          1.71845670725665,
          1.7185869882095148,
          1.7218853332214312,
          1.727057379482528,
          1.7347040748869893,
          1.745905917569028,
          1.7578358350881191,
          1.769600502725711,
          1.7817901925787756,
          1.793900662477696,
          1.8055375206962894,
          1.8169538205249456,
          1.8285675153113647,
          1.8422713145117737,
          1.8589008995547842,
          1.8793643681317578,
          1.9010231986807944,
          1.9235799809205094,
          1.945805703545354,
          1.9682710169511788,
          1.993581564732097,
          2.0172935234637515,
          2.0429050264028845,
          2.0678735814665123,
          2.095035908051856,
          2.1213154211027576,
          2.1484646880073077,
          2.1760611940826453,
          2.2064103718085364,
          2.2379667826609397,
          2.2734292293281593,
          2.309738839718424,
          2.344787848226739,
          2.378485915493709,
          2.4135337425273047,
          2.4485201538857035,
          2.486586037240505,
          2.528334233592714,
          2.5698164085323336,
          2.6097542224033012,
          2.6538784288638677,
          2.7005794745555676,
          2.7460767923269978,
          2.791733022534474,
          2.8364585019862676,
          2.8821978088274163,
          2.9288190524311295,
          2.978937954548317,
          3.035383541499745,
          3.089656856615303,
          3.1469656002827087,
          3.208515920640048,
          3.2689721729191215,
          3.3230003620454243,
          3.3795912087638014,
          3.442395473918748,
          3.507010275539808,
          3.5679705528245433,
          3.632336697332807,
          3.7008346360852644,
          3.76903365907338,
          3.844495352924897,
          3.9174485913080757,
          3.9967090841404835,
          4.080250513665966,
          4.16678021838235,
          4.252168935007812,
          4.341847014633583,
          4.433474913146876,
          4.527772195293846,
          4.628659578872393,
          4.72937027999585,
          4.835492039911721,
          4.942626559761287,
          5.051028548436924,
          5.159552999927318,
          5.272085670862847,
          5.384479391704259,
          5.500057265462965,
          5.6180015523942135,
          5.7367328910288595,
          5.851511032968007,
          5.969154724220253,
          6.092857699662689,
          6.218882048298687,
          6.339707694512295,
          6.45912108329542,
          6.566502072066964,
          6.670028179429115,
          6.777312121924679,
          6.879447800968035,
          6.990091869612963,
          7.100438702966936,
          7.213423323133007,
          7.323528269207612,
          7.423450350778741,
          7.517118645707785,
          7.606300083556532,
          7.697571506138401,
          7.78034544349591,
          7.857215185391362,
          7.932759412218068,
          8.00411103100274,
          8.074385633608596,
          8.140204938300263,
          8.209097968595954,
          8.27484092527035,
          8.340678222231686,
          8.409947824441513,
          8.486472815010522,
          8.572624788886937,
          8.663903028037508,
          8.76788222231126,
          8.87983110163677,
          9.0122320538845,
          9.155911062305904,
          9.301541699422666,
          9.443094682177358,
          9.58690832457758,
          9.72731882317616,
          9.878849094129095,
          10.03157750832178,
          10.17516847563527,
          10.31474678851431,
          10.453898201418315,
          10.587352636294423,
          10.708843366361744,
          10.82855613226423,
          10.94477532313783,
          11.052838919646737,
          11.158702762822857,
          11.261097325492885,
          11.357474820961365,
          11.450616666389658,
          11.539190912082555,
          11.621875714834395,
          11.700289693267168,
          11.774343288982227,
          11.84350546217452,
          11.910385136564242,
          11.972573690944508,
          12.028778979366527,
          12.08297178897274,
          12.131129136892651,
          12.175106525538235,
          12.215491045102466,
          12.251473553615295,
          12.282421094891067,
          12.310686589868997
         ],
         "yaxis": "y"
        },
        {
         "hovertemplate": "variable=acc_z<br>timestamp=%{x}<br>value=%{y}<extra></extra>",
         "legendgroup": "acc_z",
         "line": {
          "color": "#00cc96",
          "dash": "solid"
         },
         "marker": {
          "symbol": "circle"
         },
         "mode": "lines",
         "name": "acc_z",
         "orientation": "v",
         "showlegend": true,
         "type": "scatter",
         "x": [
          "2023-05-24T13:52:11.391647",
          "2023-05-24T13:52:11.520664",
          "2023-05-24T13:52:11.651807",
          "2023-05-24T13:52:11.786708",
          "2023-05-24T13:52:11.914416",
          "2023-05-24T13:52:12.041363",
          "2023-05-24T13:52:12.173362",
          "2023-05-24T13:52:12.302196",
          "2023-05-24T13:52:12.433154",
          "2023-05-24T13:52:12.564517",
          "2023-05-24T13:52:12.692224",
          "2023-05-24T13:52:12.820066",
          "2023-05-24T13:52:12.951295",
          "2023-05-24T13:52:13.082110",
          "2023-05-24T13:52:13.208994",
          "2023-05-24T13:52:13.338438",
          "2023-05-24T13:52:13.469232",
          "2023-05-24T13:52:13.597706",
          "2023-05-24T13:52:13.726025",
          "2023-05-24T13:52:13.855184",
          "2023-05-24T13:52:13.988957",
          "2023-05-24T13:52:14.119931",
          "2023-05-24T13:52:14.247031",
          "2023-05-24T13:52:14.373113",
          "2023-05-24T13:52:14.508851",
          "2023-05-24T13:52:14.634273",
          "2023-05-24T13:52:14.766044",
          "2023-05-24T13:52:14.894661",
          "2023-05-24T13:52:15.023545",
          "2023-05-24T13:52:15.152867",
          "2023-05-24T13:52:15.283219",
          "2023-05-24T13:52:15.412391",
          "2023-05-24T13:52:15.548353",
          "2023-05-24T13:52:15.674939",
          "2023-05-24T13:52:15.801423",
          "2023-05-24T13:52:15.932098",
          "2023-05-24T13:52:16.063932",
          "2023-05-24T13:52:16.189839",
          "2023-05-24T13:52:16.324364",
          "2023-05-24T13:52:16.451821",
          "2023-05-24T13:52:16.585015",
          "2023-05-24T13:52:16.711809",
          "2023-05-24T13:52:16.842164",
          "2023-05-24T13:52:16.969665",
          "2023-05-24T13:52:17.101157",
          "2023-05-24T13:52:17.232186",
          "2023-05-24T13:52:17.356793",
          "2023-05-24T13:52:17.487714",
          "2023-05-24T13:52:17.617107",
          "2023-05-24T13:52:17.745678",
          "2023-05-24T13:52:17.875636",
          "2023-05-24T13:52:18.007013",
          "2023-05-24T13:52:18.139500",
          "2023-05-24T13:52:18.266519",
          "2023-05-24T13:52:18.394417",
          "2023-05-24T13:52:18.527126",
          "2023-05-24T13:52:18.655824",
          "2023-05-24T13:52:18.785476",
          "2023-05-24T13:52:18.916053",
          "2023-05-24T13:52:19.045550",
          "2023-05-24T13:52:19.176565",
          "2023-05-24T13:52:19.305969",
          "2023-05-24T13:52:19.434095",
          "2023-05-24T13:52:19.562676",
          "2023-05-24T13:52:19.695088",
          "2023-05-24T13:52:19.822620",
          "2023-05-24T13:52:19.950858",
          "2023-05-24T13:52:20.086607",
          "2023-05-24T13:52:20.210072",
          "2023-05-24T13:52:20.344355",
          "2023-05-24T13:52:20.472593",
          "2023-05-24T13:52:20.602935",
          "2023-05-24T13:52:20.734394",
          "2023-05-24T13:52:20.861201",
          "2023-05-24T13:52:20.990362",
          "2023-05-24T13:52:21.122396",
          "2023-05-24T13:52:21.250852",
          "2023-05-24T13:52:21.379459",
          "2023-05-24T13:52:21.513279",
          "2023-05-24T13:52:21.640850",
          "2023-05-24T13:52:21.773563",
          "2023-05-24T13:52:21.899257",
          "2023-05-24T13:52:22.034329",
          "2023-05-24T13:52:22.163568",
          "2023-05-24T13:52:22.293827",
          "2023-05-24T13:52:22.420817",
          "2023-05-24T13:52:22.550565",
          "2023-05-24T13:52:22.683951",
          "2023-05-24T13:52:22.811706",
          "2023-05-24T13:52:22.942181",
          "2023-05-24T13:52:23.072496",
          "2023-05-24T13:52:23.203121",
          "2023-05-24T13:52:23.331887",
          "2023-05-24T13:52:23.464326",
          "2023-05-24T13:52:23.592470",
          "2023-05-24T13:52:23.719308",
          "2023-05-24T13:52:23.850855",
          "2023-05-24T13:52:23.981894",
          "2023-05-24T13:52:24.108448",
          "2023-05-24T13:52:24.241877",
          "2023-05-24T13:52:24.365569",
          "2023-05-24T13:52:24.494692",
          "2023-05-24T13:52:24.628486",
          "2023-05-24T13:52:24.759535",
          "2023-05-24T13:52:24.888022",
          "2023-05-24T13:52:25.016205",
          "2023-05-24T13:52:25.146885",
          "2023-05-24T13:52:25.275621",
          "2023-05-24T13:52:25.405785",
          "2023-05-24T13:52:25.536133",
          "2023-05-24T13:52:25.670073",
          "2023-05-24T13:52:25.797151",
          "2023-05-24T13:52:25.927636",
          "2023-05-24T13:52:26.057630",
          "2023-05-24T13:52:26.184043",
          "2023-05-24T13:52:26.314176",
          "2023-05-24T13:52:26.441512",
          "2023-05-24T13:52:26.574309",
          "2023-05-24T13:52:26.702778",
          "2023-05-24T13:52:26.835200",
          "2023-05-24T13:52:26.961170",
          "2023-05-24T13:52:27.090078",
          "2023-05-24T13:52:27.221977",
          "2023-05-24T13:52:27.353655",
          "2023-05-24T13:52:27.483782",
          "2023-05-24T13:52:27.609969",
          "2023-05-24T13:52:27.739128",
          "2023-05-24T13:52:27.869667",
          "2023-05-24T13:52:27.998201",
          "2023-05-24T13:52:28.130483",
          "2023-05-24T13:52:28.262630",
          "2023-05-24T13:52:28.393086",
          "2023-05-24T13:52:28.520782",
          "2023-05-24T13:52:28.647804",
          "2023-05-24T13:52:28.780794",
          "2023-05-24T13:52:28.908553",
          "2023-05-24T13:52:29.038906",
          "2023-05-24T13:52:29.169804",
          "2023-05-24T13:52:29.298854",
          "2023-05-24T13:52:29.428488",
          "2023-05-24T13:52:29.557114",
          "2023-05-24T13:52:29.686906",
          "2023-05-24T13:52:29.814044",
          "2023-05-24T13:52:29.945411",
          "2023-05-24T13:52:30.074897",
          "2023-05-24T13:52:30.206670",
          "2023-05-24T13:52:30.335075",
          "2023-05-24T13:52:30.464316",
          "2023-05-24T13:52:30.592519",
          "2023-05-24T13:52:30.725175",
          "2023-05-24T13:52:30.854663",
          "2023-05-24T13:52:30.983248",
          "2023-05-24T13:52:31.111938",
          "2023-05-24T13:52:31.244676",
          "2023-05-24T13:52:31.371375",
          "2023-05-24T13:52:31.502863",
          "2023-05-24T13:52:31.632101",
          "2023-05-24T13:52:31.761938",
          "2023-05-24T13:52:31.890935",
          "2023-05-24T13:52:32.021050",
          "2023-05-24T13:52:32.151095",
          "2023-05-24T13:52:32.281912",
          "2023-05-24T13:52:32.409227",
          "2023-05-24T13:52:32.539425",
          "2023-05-24T13:52:32.670666",
          "2023-05-24T13:52:32.800858",
          "2023-05-24T13:52:32.927365",
          "2023-05-24T13:52:33.058190",
          "2023-05-24T13:52:33.188280",
          "2023-05-24T13:52:33.321815",
          "2023-05-24T13:52:33.450109",
          "2023-05-24T13:52:33.577170",
          "2023-05-24T13:52:33.713856",
          "2023-05-24T13:52:33.835489",
          "2023-05-24T13:52:33.965236",
          "2023-05-24T13:52:34.092868",
          "2023-05-24T13:52:34.230156",
          "2023-05-24T13:52:34.358099",
          "2023-05-24T13:52:34.486281",
          "2023-05-24T13:52:34.612256",
          "2023-05-24T13:52:34.744243",
          "2023-05-24T13:52:34.872234",
          "2023-05-24T13:52:35.003177",
          "2023-05-24T13:52:35.132418",
          "2023-05-24T13:52:35.263054",
          "2023-05-24T13:52:35.391996",
          "2023-05-24T13:52:35.522845",
          "2023-05-24T13:52:35.650962",
          "2023-05-24T13:52:35.782400",
          "2023-05-24T13:52:35.915217",
          "2023-05-24T13:52:36.045338",
          "2023-05-24T13:52:36.170051",
          "2023-05-24T13:52:36.300363",
          "2023-05-24T13:52:36.432485",
          "2023-05-24T13:52:36.560782",
          "2023-05-24T13:52:36.691963",
          "2023-05-24T13:52:36.821627",
          "2023-05-24T13:52:36.951544",
          "2023-05-24T13:52:37.077560",
          "2023-05-24T13:52:37.205164",
          "2023-05-24T13:52:37.342845",
          "2023-05-24T13:52:37.469193",
          "2023-05-24T13:52:37.595470",
          "2023-05-24T13:52:37.728276",
          "2023-05-24T13:52:37.863200",
          "2023-05-24T13:52:37.988389",
          "2023-05-24T13:52:38.115007",
          "2023-05-24T13:52:38.246239",
          "2023-05-24T13:52:38.379274",
          "2023-05-24T13:52:38.505158",
          "2023-05-24T13:52:38.634115",
          "2023-05-24T13:52:38.765278",
          "2023-05-24T13:52:38.891531",
          "2023-05-24T13:52:39.027356",
          "2023-05-24T13:52:39.152065",
          "2023-05-24T13:52:39.281179",
          "2023-05-24T13:52:39.412587",
          "2023-05-24T13:52:39.543629",
          "2023-05-24T13:52:39.669873",
          "2023-05-24T13:52:39.801210",
          "2023-05-24T13:52:39.931998",
          "2023-05-24T13:52:40.061003",
          "2023-05-24T13:52:40.193874",
          "2023-05-24T13:52:40.322317",
          "2023-05-24T13:52:40.453333",
          "2023-05-24T13:52:40.582273",
          "2023-05-24T13:52:40.711636",
          "2023-05-24T13:52:40.840017",
          "2023-05-24T13:52:40.970234",
          "2023-05-24T13:52:41.097791",
          "2023-05-24T13:52:41.227736",
          "2023-05-24T13:52:41.358396",
          "2023-05-24T13:52:41.490157",
          "2023-05-24T13:52:41.620729",
          "2023-05-24T13:52:41.750555",
          "2023-05-24T13:52:41.878798",
          "2023-05-24T13:52:42.007546",
          "2023-05-24T13:52:42.135264",
          "2023-05-24T13:52:42.269143",
          "2023-05-24T13:52:42.396341",
          "2023-05-24T13:52:42.524820",
          "2023-05-24T13:52:42.659115",
          "2023-05-24T13:52:42.783034",
          "2023-05-24T13:52:42.914507",
          "2023-05-24T13:52:43.043511",
          "2023-05-24T13:52:43.174423",
          "2023-05-24T13:52:43.306857",
          "2023-05-24T13:52:43.435337",
          "2023-05-24T13:52:43.563764",
          "2023-05-24T13:52:43.691758",
          "2023-05-24T13:52:43.825228",
          "2023-05-24T13:52:43.954412",
          "2023-05-24T13:52:44.083896",
          "2023-05-24T13:52:44.212914",
          "2023-05-24T13:52:44.339799",
          "2023-05-24T13:52:44.472135",
          "2023-05-24T13:52:44.597600",
          "2023-05-24T13:52:44.730819",
          "2023-05-24T13:52:44.859719",
          "2023-05-24T13:52:44.987129",
          "2023-05-24T13:52:45.117858",
          "2023-05-24T13:52:45.249105",
          "2023-05-24T13:52:45.380759",
          "2023-05-24T13:52:45.508621",
          "2023-05-24T13:52:45.639962",
          "2023-05-24T13:52:45.767363",
          "2023-05-24T13:52:45.900832",
          "2023-05-24T13:52:46.030727",
          "2023-05-24T13:52:46.159243",
          "2023-05-24T13:52:46.287348",
          "2023-05-24T13:52:46.418024",
          "2023-05-24T13:52:46.546913",
          "2023-05-24T13:52:46.680453",
          "2023-05-24T13:52:46.809466",
          "2023-05-24T13:52:46.937554",
          "2023-05-24T13:52:47.066038",
          "2023-05-24T13:52:47.196400",
          "2023-05-24T13:52:47.328144",
          "2023-05-24T13:52:47.453972",
          "2023-05-24T13:52:47.584149",
          "2023-05-24T13:52:47.715837",
          "2023-05-24T13:52:47.842925",
          "2023-05-24T13:52:47.972183",
          "2023-05-24T13:52:48.102394",
          "2023-05-24T13:52:48.230614",
          "2023-05-24T13:52:48.360581",
          "2023-05-24T13:52:48.490755",
          "2023-05-24T13:52:48.619321",
          "2023-05-24T13:52:48.748451",
          "2023-05-24T13:52:48.877797",
          "2023-05-24T13:52:49.006150",
          "2023-05-24T13:52:49.138213",
          "2023-05-24T13:52:49.269425",
          "2023-05-24T13:52:49.396467",
          "2023-05-24T13:52:49.528609",
          "2023-05-24T13:52:49.657098",
          "2023-05-24T13:52:49.786378",
          "2023-05-24T13:52:49.917037",
          "2023-05-24T13:52:50.046483",
          "2023-05-24T13:52:50.173215",
          "2023-05-24T13:52:50.309393"
         ],
         "xaxis": "x",
         "y": [
          0,
          0.0016731496128658979,
          0.006381690049921666,
          0.013060469868894177,
          0.019008076451091857,
          0.023532424153309476,
          0.026593764773220396,
          0.027847613626829134,
          0.027535993864526823,
          0.02544929731975225,
          0.022277086751899076,
          0.01797990223473253,
          0.011734085780383654,
          0.003994577690930804,
          -0.005067610883071856,
          -0.01650973291602504,
          -0.030198083941782947,
          -0.045238573621978036,
          -0.06127087267807682,
          -0.07838731074455375,
          -0.0974087019482717,
          -0.1176016436863408,
          -0.13900607271919546,
          -0.16188319805174012,
          -0.18721916895523044,
          -0.21120178556085853,
          -0.23789602206605331,
          -0.2652275368743229,
          -0.293999308938926,
          -0.32397289501149923,
          -0.3546000729985533,
          -0.3851155665562533,
          -0.4185969731860552,
          -0.45308105345066835,
          -0.49130431217916737,
          -0.5346270020719125,
          -0.5829603351364807,
          -0.6344791884291046,
          -0.6956140279564582,
          -0.7593028340502241,
          -0.8326369949731423,
          -0.9101071680944708,
          -0.9969252670024351,
          -1.0882029385242427,
          -1.1897288118535738,
          -1.2980238004823932,
          -1.4088555816712762,
          -1.5338784761680953,
          -1.6628204089994107,
          -1.7946832319468358,
          -1.9325423416179635,
          -2.078353183060136,
          -2.2336683897138747,
          -2.390974252020712,
          -2.556237061532838,
          -2.73093843122723,
          -2.9007791070303104,
          -3.072044425485543,
          -3.24515662387252,
          -3.417868526655036,
          -3.5948698221908075,
          -3.7739434425668064,
          -3.955942954778172,
          -4.1432016118169885,
          -4.341636953443425,
          -4.537969120172445,
          -4.740858709461402,
          -4.961943015841911,
          -5.168647431216259,
          -5.399021344850334,
          -5.624327487909223,
          -5.861277727893737,
          -6.1079269690383455,
          -6.351026904072826,
          -6.604482717367076,
          -6.870082683922596,
          -7.133180891331538,
          -7.397478390856967,
          -7.670851026555951,
          -7.929663414982234,
          -8.198041558722576,
          -8.453626868239548,
          -8.732472205953139,
          -9.00360964998541,
          -9.278122321708057,
          -9.546209626527839,
          -9.821173659553162,
          -10.104366127465903,
          -10.375777127493846,
          -10.652386101074017,
          -10.928530505057799,
          -11.205957975691636,
          -11.481596959024138,
          -11.76715151519067,
          -12.04192138906348,
          -12.309811734187683,
          -12.581078778656238,
          -12.844757824633396,
          -13.0951685389603,
          -13.352173493883706,
          -13.581378764825628,
          -13.812181554771918,
          -14.044985258085438,
          -14.270483178693073,
          -14.489664226685996,
          -14.705463240802134,
          -14.924360318285862,
          -15.140247208397193,
          -15.35827849581812,
          -15.57707676507559,
          -15.803069591968473,
          -16.01781833417684,
          -16.239367710169674,
          -16.4622836319872,
          -16.68112662917032,
          -16.908166864563167,
          -17.1320922763986,
          -17.36726359732546,
          -17.5950318567359,
          -17.829775802312106,
          -18.053679665104916,
          -18.283694542814494,
          -18.520227437597985,
          -18.75670506366856,
          -18.990933291060994,
          -19.21977196791181,
          -19.455000431982384,
          -19.692783032149663,
          -19.927966777293747,
          -20.171949631162754,
          -20.417012092463857,
          -20.659904055758247,
          -20.898307385781123,
          -21.13584876935485,
          -21.385666667126486,
          -21.62745106661982,
          -21.875750289990563,
          -22.1263868292667,
          -22.374106287404523,
          -22.62368925255891,
          -22.873811757999896,
          -23.12874640398934,
          -23.37979225294994,
          -23.640059573737346,
          -23.8981256544672,
          -24.16238933995321,
          -24.420111128890607,
          -24.68053524162252,
          -24.94218206540005,
          -25.21681164671266,
          -25.486730456315776,
          -25.755457421097606,
          -26.02562224796155,
          -26.30529925968002,
          -26.572225673797867,
          -26.84870300489621,
          -27.120281539316444,
          -27.39287044580289,
          -27.663898523367983,
          -27.938392335347768,
          -28.21344294920413,
          -28.490713250295528,
          -28.761607008701255,
          -29.039495843505215,
          -29.321085573254035,
          -29.601431692965484,
          -29.87297504003576,
          -30.152469035314965,
          -30.429020231104207,
          -30.712216735746964,
          -30.98426306625914,
          -31.253613919601946,
          -31.543545573944336,
          -31.801121215545866,
          -32.07471839515439,
          -32.34284780235549,
          -32.63073991770206,
          -32.89919065386314,
          -33.16850472838644,
          -33.433106476327595,
          -33.709704515256384,
          -33.97655051726651,
          -34.2481448170735,
          -34.515548679634335,
          -34.784711343712054,
          -35.04857854373377,
          -35.31426424129116,
          -35.572729070253644,
          -35.836765493465705,
          -36.10202103474184,
          -36.36017097199175,
          -36.60637947912535,
          -36.86237425392763,
          -37.12052314975463,
          -37.36988921928652,
          -37.62335714275382,
          -37.8726485396589,
          -38.12168278827005,
          -38.36237392034444,
          -38.60434933984116,
          -38.86297637409572,
          -39.09854075789173,
          -39.332995408307866,
          -39.57902639963615,
          -39.82782442537547,
          -40.05814765845754,
          -40.291921091041885,
          -40.533477935962466,
          -40.77620095385453,
          -41.00586964012942,
          -41.24157190954174,
          -41.47781302836091,
          -41.6979502249471,
          -41.927622778521254,
          -42.13682519408762,
          -42.35433443060921,
          -42.57608415807286,
          -42.796543352530186,
          -43.00749656805806,
          -43.22546784086694,
          -43.44072101568685,
          -43.65090412828766,
          -43.86573187540593,
          -44.07277746935624,
          -44.28380404196491,
          -44.49152744188915,
          -44.69919345858745,
          -44.90281160957076,
          -45.1065813602368,
          -45.304650373468085,
          -45.505277817592884,
          -45.70609170614817,
          -45.908472950333675,
          -46.108526772140735,
          -46.3048307720163,
          -46.493718141352964,
          -46.67970391577556,
          -46.861957145257946,
          -47.047287326650995,
          -47.21973021399101,
          -47.39532466007992,
          -47.580045336528556,
          -47.75017992838113,
          -47.930822400217494,
          -48.10869052815292,
          -48.289814135256464,
          -48.473169137564035,
          -48.650438215490034,
          -48.82646078021301,
          -49.00060287697448,
          -49.17562498826557,
          -49.33252588673359,
          -49.480640673653866,
          -49.624377267299614,
          -49.76338563924649,
          -49.905231049743904,
          -50.035669887658635,
          -50.17064680315194,
          -50.30006329340874,
          -50.42766764832727,
          -50.55458634294967,
          -50.67589847307531,
          -50.79869962611879,
          -50.9251214040401,
          -51.05864751600914,
          -51.19186843676012,
          -51.339984559812294,
          -51.49004756371525,
          -51.64618509109107,
          -51.817051370281696,
          -52.00112759148364,
          -52.179478523458386,
          -52.36143709672747,
          -52.54705925723153,
          -52.75546518976425,
          -52.99089645161093,
          -53.23973197598842,
          -53.48496084413958,
          -53.70967861697404,
          -53.933725763910445,
          -54.153742594474686,
          -54.36007790361687,
          -54.56294718550411,
          -54.75973306357396,
          -54.9461560155653,
          -55.128004282690824,
          -55.30283570576603,
          -55.46812672661445,
          -55.626841238268,
          -55.77864967921181,
          -55.922237482968185,
          -56.06272777711731,
          -56.195451279434,
          -56.31772259825197,
          -56.438351376339405,
          -56.54883560759243,
          -56.65293300414631,
          -56.75114753336158,
          -56.84176363433722,
          -56.924033421986,
          -57.00510137552353
         ],
         "yaxis": "y"
        }
       ],
       "layout": {
        "legend": {
         "title": {
          "text": "variable"
         },
         "tracegroupgap": 0
        },
        "template": {
         "data": {
          "bar": [
           {
            "error_x": {
             "color": "#2a3f5f"
            },
            "error_y": {
             "color": "#2a3f5f"
            },
            "marker": {
             "line": {
              "color": "#E5ECF6",
              "width": 0.5
             },
             "pattern": {
              "fillmode": "overlay",
              "size": 10,
              "solidity": 0.2
             }
            },
            "type": "bar"
           }
          ],
          "barpolar": [
           {
            "marker": {
             "line": {
              "color": "#E5ECF6",
              "width": 0.5
             },
             "pattern": {
              "fillmode": "overlay",
              "size": 10,
              "solidity": 0.2
             }
            },
            "type": "barpolar"
           }
          ],
          "carpet": [
           {
            "aaxis": {
             "endlinecolor": "#2a3f5f",
             "gridcolor": "white",
             "linecolor": "white",
             "minorgridcolor": "white",
             "startlinecolor": "#2a3f5f"
            },
            "baxis": {
             "endlinecolor": "#2a3f5f",
             "gridcolor": "white",
             "linecolor": "white",
             "minorgridcolor": "white",
             "startlinecolor": "#2a3f5f"
            },
            "type": "carpet"
           }
          ],
          "choropleth": [
           {
            "colorbar": {
             "outlinewidth": 0,
             "ticks": ""
            },
            "type": "choropleth"
           }
          ],
          "contour": [
           {
            "colorbar": {
             "outlinewidth": 0,
             "ticks": ""
            },
            "colorscale": [
             [
              0,
              "#0d0887"
             ],
             [
              0.1111111111111111,
              "#46039f"
             ],
             [
              0.2222222222222222,
              "#7201a8"
             ],
             [
              0.3333333333333333,
              "#9c179e"
             ],
             [
              0.4444444444444444,
              "#bd3786"
             ],
             [
              0.5555555555555556,
              "#d8576b"
             ],
             [
              0.6666666666666666,
              "#ed7953"
             ],
             [
              0.7777777777777778,
              "#fb9f3a"
             ],
             [
              0.8888888888888888,
              "#fdca26"
             ],
             [
              1,
              "#f0f921"
             ]
            ],
            "type": "contour"
           }
          ],
          "contourcarpet": [
           {
            "colorbar": {
             "outlinewidth": 0,
             "ticks": ""
            },
            "type": "contourcarpet"
           }
          ],
          "heatmap": [
           {
            "colorbar": {
             "outlinewidth": 0,
             "ticks": ""
            },
            "colorscale": [
             [
              0,
              "#0d0887"
             ],
             [
              0.1111111111111111,
              "#46039f"
             ],
             [
              0.2222222222222222,
              "#7201a8"
             ],
             [
              0.3333333333333333,
              "#9c179e"
             ],
             [
              0.4444444444444444,
              "#bd3786"
             ],
             [
              0.5555555555555556,
              "#d8576b"
             ],
             [
              0.6666666666666666,
              "#ed7953"
             ],
             [
              0.7777777777777778,
              "#fb9f3a"
             ],
             [
              0.8888888888888888,
              "#fdca26"
             ],
             [
              1,
              "#f0f921"
             ]
            ],
            "type": "heatmap"
           }
          ],
          "heatmapgl": [
           {
            "colorbar": {
             "outlinewidth": 0,
             "ticks": ""
            },
            "colorscale": [
             [
              0,
              "#0d0887"
             ],
             [
              0.1111111111111111,
              "#46039f"
             ],
             [
              0.2222222222222222,
              "#7201a8"
             ],
             [
              0.3333333333333333,
              "#9c179e"
             ],
             [
              0.4444444444444444,
              "#bd3786"
             ],
             [
              0.5555555555555556,
              "#d8576b"
             ],
             [
              0.6666666666666666,
              "#ed7953"
             ],
             [
              0.7777777777777778,
              "#fb9f3a"
             ],
             [
              0.8888888888888888,
              "#fdca26"
             ],
             [
              1,
              "#f0f921"
             ]
            ],
            "type": "heatmapgl"
           }
          ],
          "histogram": [
           {
            "marker": {
             "pattern": {
              "fillmode": "overlay",
              "size": 10,
              "solidity": 0.2
             }
            },
            "type": "histogram"
           }
          ],
          "histogram2d": [
           {
            "colorbar": {
             "outlinewidth": 0,
             "ticks": ""
            },
            "colorscale": [
             [
              0,
              "#0d0887"
             ],
             [
              0.1111111111111111,
              "#46039f"
             ],
             [
              0.2222222222222222,
              "#7201a8"
             ],
             [
              0.3333333333333333,
              "#9c179e"
             ],
             [
              0.4444444444444444,
              "#bd3786"
             ],
             [
              0.5555555555555556,
              "#d8576b"
             ],
             [
              0.6666666666666666,
              "#ed7953"
             ],
             [
              0.7777777777777778,
              "#fb9f3a"
             ],
             [
              0.8888888888888888,
              "#fdca26"
             ],
             [
              1,
              "#f0f921"
             ]
            ],
            "type": "histogram2d"
           }
          ],
          "histogram2dcontour": [
           {
            "colorbar": {
             "outlinewidth": 0,
             "ticks": ""
            },
            "colorscale": [
             [
              0,
              "#0d0887"
             ],
             [
              0.1111111111111111,
              "#46039f"
             ],
             [
              0.2222222222222222,
              "#7201a8"
             ],
             [
              0.3333333333333333,
              "#9c179e"
             ],
             [
              0.4444444444444444,
              "#bd3786"
             ],
             [
              0.5555555555555556,
              "#d8576b"
             ],
             [
              0.6666666666666666,
              "#ed7953"
             ],
             [
              0.7777777777777778,
              "#fb9f3a"
             ],
             [
              0.8888888888888888,
              "#fdca26"
             ],
             [
              1,
              "#f0f921"
             ]
            ],
            "type": "histogram2dcontour"
           }
          ],
          "mesh3d": [
           {
            "colorbar": {
             "outlinewidth": 0,
             "ticks": ""
            },
            "type": "mesh3d"
           }
          ],
          "parcoords": [
           {
            "line": {
             "colorbar": {
              "outlinewidth": 0,
              "ticks": ""
             }
            },
            "type": "parcoords"
           }
          ],
          "pie": [
           {
            "automargin": true,
            "type": "pie"
           }
          ],
          "scatter": [
           {
            "fillpattern": {
             "fillmode": "overlay",
             "size": 10,
             "solidity": 0.2
            },
            "type": "scatter"
           }
          ],
          "scatter3d": [
           {
            "line": {
             "colorbar": {
              "outlinewidth": 0,
              "ticks": ""
             }
            },
            "marker": {
             "colorbar": {
              "outlinewidth": 0,
              "ticks": ""
             }
            },
            "type": "scatter3d"
           }
          ],
          "scattercarpet": [
           {
            "marker": {
             "colorbar": {
              "outlinewidth": 0,
              "ticks": ""
             }
            },
            "type": "scattercarpet"
           }
          ],
          "scattergeo": [
           {
            "marker": {
             "colorbar": {
              "outlinewidth": 0,
              "ticks": ""
             }
            },
            "type": "scattergeo"
           }
          ],
          "scattergl": [
           {
            "marker": {
             "colorbar": {
              "outlinewidth": 0,
              "ticks": ""
             }
            },
            "type": "scattergl"
           }
          ],
          "scattermapbox": [
           {
            "marker": {
             "colorbar": {
              "outlinewidth": 0,
              "ticks": ""
             }
            },
            "type": "scattermapbox"
           }
          ],
          "scatterpolar": [
           {
            "marker": {
             "colorbar": {
              "outlinewidth": 0,
              "ticks": ""
             }
            },
            "type": "scatterpolar"
           }
          ],
          "scatterpolargl": [
           {
            "marker": {
             "colorbar": {
              "outlinewidth": 0,
              "ticks": ""
             }
            },
            "type": "scatterpolargl"
           }
          ],
          "scatterternary": [
           {
            "marker": {
             "colorbar": {
              "outlinewidth": 0,
              "ticks": ""
             }
            },
            "type": "scatterternary"
           }
          ],
          "surface": [
           {
            "colorbar": {
             "outlinewidth": 0,
             "ticks": ""
            },
            "colorscale": [
             [
              0,
              "#0d0887"
             ],
             [
              0.1111111111111111,
              "#46039f"
             ],
             [
              0.2222222222222222,
              "#7201a8"
             ],
             [
              0.3333333333333333,
              "#9c179e"
             ],
             [
              0.4444444444444444,
              "#bd3786"
             ],
             [
              0.5555555555555556,
              "#d8576b"
             ],
             [
              0.6666666666666666,
              "#ed7953"
             ],
             [
              0.7777777777777778,
              "#fb9f3a"
             ],
             [
              0.8888888888888888,
              "#fdca26"
             ],
             [
              1,
              "#f0f921"
             ]
            ],
            "type": "surface"
           }
          ],
          "table": [
           {
            "cells": {
             "fill": {
              "color": "#EBF0F8"
             },
             "line": {
              "color": "white"
             }
            },
            "header": {
             "fill": {
              "color": "#C8D4E3"
             },
             "line": {
              "color": "white"
             }
            },
            "type": "table"
           }
          ]
         },
         "layout": {
          "annotationdefaults": {
           "arrowcolor": "#2a3f5f",
           "arrowhead": 0,
           "arrowwidth": 1
          },
          "autotypenumbers": "strict",
          "coloraxis": {
           "colorbar": {
            "outlinewidth": 0,
            "ticks": ""
           }
          },
          "colorscale": {
           "diverging": [
            [
             0,
             "#8e0152"
            ],
            [
             0.1,
             "#c51b7d"
            ],
            [
             0.2,
             "#de77ae"
            ],
            [
             0.3,
             "#f1b6da"
            ],
            [
             0.4,
             "#fde0ef"
            ],
            [
             0.5,
             "#f7f7f7"
            ],
            [
             0.6,
             "#e6f5d0"
            ],
            [
             0.7,
             "#b8e186"
            ],
            [
             0.8,
             "#7fbc41"
            ],
            [
             0.9,
             "#4d9221"
            ],
            [
             1,
             "#276419"
            ]
           ],
           "sequential": [
            [
             0,
             "#0d0887"
            ],
            [
             0.1111111111111111,
             "#46039f"
            ],
            [
             0.2222222222222222,
             "#7201a8"
            ],
            [
             0.3333333333333333,
             "#9c179e"
            ],
            [
             0.4444444444444444,
             "#bd3786"
            ],
            [
             0.5555555555555556,
             "#d8576b"
            ],
            [
             0.6666666666666666,
             "#ed7953"
            ],
            [
             0.7777777777777778,
             "#fb9f3a"
            ],
            [
             0.8888888888888888,
             "#fdca26"
            ],
            [
             1,
             "#f0f921"
            ]
           ],
           "sequentialminus": [
            [
             0,
             "#0d0887"
            ],
            [
             0.1111111111111111,
             "#46039f"
            ],
            [
             0.2222222222222222,
             "#7201a8"
            ],
            [
             0.3333333333333333,
             "#9c179e"
            ],
            [
             0.4444444444444444,
             "#bd3786"
            ],
            [
             0.5555555555555556,
             "#d8576b"
            ],
            [
             0.6666666666666666,
             "#ed7953"
            ],
            [
             0.7777777777777778,
             "#fb9f3a"
            ],
            [
             0.8888888888888888,
             "#fdca26"
            ],
            [
             1,
             "#f0f921"
            ]
           ]
          },
          "colorway": [
           "#636efa",
           "#EF553B",
           "#00cc96",
           "#ab63fa",
           "#FFA15A",
           "#19d3f3",
           "#FF6692",
           "#B6E880",
           "#FF97FF",
           "#FECB52"
          ],
          "font": {
           "color": "#2a3f5f"
          },
          "geo": {
           "bgcolor": "white",
           "lakecolor": "white",
           "landcolor": "#E5ECF6",
           "showlakes": true,
           "showland": true,
           "subunitcolor": "white"
          },
          "hoverlabel": {
           "align": "left"
          },
          "hovermode": "closest",
          "mapbox": {
           "style": "light"
          },
          "paper_bgcolor": "white",
          "plot_bgcolor": "#E5ECF6",
          "polar": {
           "angularaxis": {
            "gridcolor": "white",
            "linecolor": "white",
            "ticks": ""
           },
           "bgcolor": "#E5ECF6",
           "radialaxis": {
            "gridcolor": "white",
            "linecolor": "white",
            "ticks": ""
           }
          },
          "scene": {
           "xaxis": {
            "backgroundcolor": "#E5ECF6",
            "gridcolor": "white",
            "gridwidth": 2,
            "linecolor": "white",
            "showbackground": true,
            "ticks": "",
            "zerolinecolor": "white"
           },
           "yaxis": {
            "backgroundcolor": "#E5ECF6",
            "gridcolor": "white",
            "gridwidth": 2,
            "linecolor": "white",
            "showbackground": true,
            "ticks": "",
            "zerolinecolor": "white"
           },
           "zaxis": {
            "backgroundcolor": "#E5ECF6",
            "gridcolor": "white",
            "gridwidth": 2,
            "linecolor": "white",
            "showbackground": true,
            "ticks": "",
            "zerolinecolor": "white"
           }
          },
          "shapedefaults": {
           "line": {
            "color": "#2a3f5f"
           }
          },
          "ternary": {
           "aaxis": {
            "gridcolor": "white",
            "linecolor": "white",
            "ticks": ""
           },
           "baxis": {
            "gridcolor": "white",
            "linecolor": "white",
            "ticks": ""
           },
           "bgcolor": "#E5ECF6",
           "caxis": {
            "gridcolor": "white",
            "linecolor": "white",
            "ticks": ""
           }
          },
          "title": {
           "x": 0.05
          },
          "xaxis": {
           "automargin": true,
           "gridcolor": "white",
           "linecolor": "white",
           "ticks": "",
           "title": {
            "standoff": 15
           },
           "zerolinecolor": "white",
           "zerolinewidth": 2
          },
          "yaxis": {
           "automargin": true,
           "gridcolor": "white",
           "linecolor": "white",
           "ticks": "",
           "title": {
            "standoff": 15
           },
           "zerolinecolor": "white",
           "zerolinewidth": 2
          }
         }
        },
        "title": {
         "text": "Position"
        },
        "xaxis": {
         "anchor": "y",
         "domain": [
          0,
          1
         ],
         "title": {
          "text": "timestamp"
         }
        },
        "yaxis": {
         "anchor": "x",
         "domain": [
          0,
          1
         ],
         "title": {
          "text": "value"
         }
        }
       }
      }
     },
     "metadata": {},
     "output_type": "display_data"
    }
   ],
   "source": [
    "dpos = dv[[\"acc_x\", \"acc_y\", \"acc_z\"]].expanding().apply(lambda g: integrate.trapezoid(g, g.index.astype(np.int64) / 10**9))\n",
    "# dpos = dv[[\"acc_x\", \"acc_y\", \"acc_z\"]].rolling(\"1s\", min_periods=1).mean().cumsum()\n",
    "df[[\"pos_x\", \"pos_y\", \"pos_z\"]] = dv[[\"acc_x\", \"acc_y\", \"acc_z\"]].rolling(\"1s\", min_periods=1).mean().cumsum()\n",
    "px.line(dpos, title=\"Position\")"
   ]
  },
  {
   "cell_type": "code",
   "execution_count": 22,
   "metadata": {},
   "outputs": [],
   "source": [
    "import plotly.express as px\n",
    "\n",
    "# px.line(df, x=\"timestamp\", y=\"vector\")"
   ]
  },
  {
   "cell_type": "code",
   "execution_count": 23,
   "metadata": {},
   "outputs": [],
   "source": [
    "\n",
    "# px.line(df, x=\"timestamp\", y=[\"velocity_x\", \"velocity_y\", \"velocity_z\"])"
   ]
  },
  {
   "cell_type": "code",
   "execution_count": 24,
   "metadata": {},
   "outputs": [
    {
     "data": {
      "application/vnd.plotly.v1+json": {
       "config": {
        "plotlyServerURL": "https://plot.ly"
       },
       "data": [
        {
         "hovertemplate": "variable=pos_y<br>timestamp=%{x}<br>value=%{y}<extra></extra>",
         "legendgroup": "pos_y",
         "line": {
          "color": "#636efa",
          "dash": "solid"
         },
         "marker": {
          "symbol": "circle"
         },
         "mode": "lines",
         "name": "pos_y",
         "orientation": "v",
         "showlegend": true,
         "type": "scatter",
         "x": [
          "2023-05-24T13:52:11.391647",
          "2023-05-24T13:52:11.520664",
          "2023-05-24T13:52:11.651807",
          "2023-05-24T13:52:11.786708",
          "2023-05-24T13:52:11.914416",
          "2023-05-24T13:52:12.041363",
          "2023-05-24T13:52:12.173362",
          "2023-05-24T13:52:12.302196",
          "2023-05-24T13:52:12.433154",
          "2023-05-24T13:52:12.564517",
          "2023-05-24T13:52:12.692224",
          "2023-05-24T13:52:12.820066",
          "2023-05-24T13:52:12.951295",
          "2023-05-24T13:52:13.082110",
          "2023-05-24T13:52:13.208994",
          "2023-05-24T13:52:13.338438",
          "2023-05-24T13:52:13.469232",
          "2023-05-24T13:52:13.597706",
          "2023-05-24T13:52:13.726025",
          "2023-05-24T13:52:13.855184",
          "2023-05-24T13:52:13.988957",
          "2023-05-24T13:52:14.119931",
          "2023-05-24T13:52:14.247031",
          "2023-05-24T13:52:14.373113",
          "2023-05-24T13:52:14.508851",
          "2023-05-24T13:52:14.634273",
          "2023-05-24T13:52:14.766044",
          "2023-05-24T13:52:14.894661",
          "2023-05-24T13:52:15.023545",
          "2023-05-24T13:52:15.152867",
          "2023-05-24T13:52:15.283219",
          "2023-05-24T13:52:15.412391",
          "2023-05-24T13:52:15.548353",
          "2023-05-24T13:52:15.674939",
          "2023-05-24T13:52:15.801423",
          "2023-05-24T13:52:15.932098",
          "2023-05-24T13:52:16.063932",
          "2023-05-24T13:52:16.189839",
          "2023-05-24T13:52:16.324364",
          "2023-05-24T13:52:16.451821",
          "2023-05-24T13:52:16.585015",
          "2023-05-24T13:52:16.711809",
          "2023-05-24T13:52:16.842164",
          "2023-05-24T13:52:16.969665",
          "2023-05-24T13:52:17.101157",
          "2023-05-24T13:52:17.232186",
          "2023-05-24T13:52:17.356793",
          "2023-05-24T13:52:17.487714",
          "2023-05-24T13:52:17.617107",
          "2023-05-24T13:52:17.745678",
          "2023-05-24T13:52:17.875636",
          "2023-05-24T13:52:18.007013",
          "2023-05-24T13:52:18.139500",
          "2023-05-24T13:52:18.266519",
          "2023-05-24T13:52:18.394417",
          "2023-05-24T13:52:18.527126",
          "2023-05-24T13:52:18.655824",
          "2023-05-24T13:52:18.785476",
          "2023-05-24T13:52:18.916053",
          "2023-05-24T13:52:19.045550",
          "2023-05-24T13:52:19.176565",
          "2023-05-24T13:52:19.305969",
          "2023-05-24T13:52:19.434095",
          "2023-05-24T13:52:19.562676",
          "2023-05-24T13:52:19.695088",
          "2023-05-24T13:52:19.822620",
          "2023-05-24T13:52:19.950858",
          "2023-05-24T13:52:20.086607",
          "2023-05-24T13:52:20.210072",
          "2023-05-24T13:52:20.344355",
          "2023-05-24T13:52:20.472593",
          "2023-05-24T13:52:20.602935",
          "2023-05-24T13:52:20.734394",
          "2023-05-24T13:52:20.861201",
          "2023-05-24T13:52:20.990362",
          "2023-05-24T13:52:21.122396",
          "2023-05-24T13:52:21.250852",
          "2023-05-24T13:52:21.379459",
          "2023-05-24T13:52:21.513279",
          "2023-05-24T13:52:21.640850",
          "2023-05-24T13:52:21.773563",
          "2023-05-24T13:52:21.899257",
          "2023-05-24T13:52:22.034329",
          "2023-05-24T13:52:22.163568",
          "2023-05-24T13:52:22.293827",
          "2023-05-24T13:52:22.420817",
          "2023-05-24T13:52:22.550565",
          "2023-05-24T13:52:22.683951",
          "2023-05-24T13:52:22.811706",
          "2023-05-24T13:52:22.942181",
          "2023-05-24T13:52:23.072496",
          "2023-05-24T13:52:23.203121",
          "2023-05-24T13:52:23.331887",
          "2023-05-24T13:52:23.464326",
          "2023-05-24T13:52:23.592470",
          "2023-05-24T13:52:23.719308",
          "2023-05-24T13:52:23.850855",
          "2023-05-24T13:52:23.981894",
          "2023-05-24T13:52:24.108448",
          "2023-05-24T13:52:24.241877",
          "2023-05-24T13:52:24.365569",
          "2023-05-24T13:52:24.494692",
          "2023-05-24T13:52:24.628486",
          "2023-05-24T13:52:24.759535",
          "2023-05-24T13:52:24.888022",
          "2023-05-24T13:52:25.016205",
          "2023-05-24T13:52:25.146885",
          "2023-05-24T13:52:25.275621",
          "2023-05-24T13:52:25.405785",
          "2023-05-24T13:52:25.536133",
          "2023-05-24T13:52:25.670073",
          "2023-05-24T13:52:25.797151",
          "2023-05-24T13:52:25.927636",
          "2023-05-24T13:52:26.057630",
          "2023-05-24T13:52:26.184043",
          "2023-05-24T13:52:26.314176",
          "2023-05-24T13:52:26.441512",
          "2023-05-24T13:52:26.574309",
          "2023-05-24T13:52:26.702778",
          "2023-05-24T13:52:26.835200",
          "2023-05-24T13:52:26.961170",
          "2023-05-24T13:52:27.090078",
          "2023-05-24T13:52:27.221977",
          "2023-05-24T13:52:27.353655",
          "2023-05-24T13:52:27.483782",
          "2023-05-24T13:52:27.609969",
          "2023-05-24T13:52:27.739128",
          "2023-05-24T13:52:27.869667",
          "2023-05-24T13:52:27.998201",
          "2023-05-24T13:52:28.130483",
          "2023-05-24T13:52:28.262630",
          "2023-05-24T13:52:28.393086",
          "2023-05-24T13:52:28.520782",
          "2023-05-24T13:52:28.647804",
          "2023-05-24T13:52:28.780794",
          "2023-05-24T13:52:28.908553",
          "2023-05-24T13:52:29.038906",
          "2023-05-24T13:52:29.169804",
          "2023-05-24T13:52:29.298854",
          "2023-05-24T13:52:29.428488",
          "2023-05-24T13:52:29.557114",
          "2023-05-24T13:52:29.686906",
          "2023-05-24T13:52:29.814044",
          "2023-05-24T13:52:29.945411",
          "2023-05-24T13:52:30.074897",
          "2023-05-24T13:52:30.206670",
          "2023-05-24T13:52:30.335075",
          "2023-05-24T13:52:30.464316",
          "2023-05-24T13:52:30.592519",
          "2023-05-24T13:52:30.725175",
          "2023-05-24T13:52:30.854663",
          "2023-05-24T13:52:30.983248",
          "2023-05-24T13:52:31.111938",
          "2023-05-24T13:52:31.244676",
          "2023-05-24T13:52:31.371375",
          "2023-05-24T13:52:31.502863",
          "2023-05-24T13:52:31.632101",
          "2023-05-24T13:52:31.761938",
          "2023-05-24T13:52:31.890935",
          "2023-05-24T13:52:32.021050",
          "2023-05-24T13:52:32.151095",
          "2023-05-24T13:52:32.281912",
          "2023-05-24T13:52:32.409227",
          "2023-05-24T13:52:32.539425",
          "2023-05-24T13:52:32.670666",
          "2023-05-24T13:52:32.800858",
          "2023-05-24T13:52:32.927365",
          "2023-05-24T13:52:33.058190",
          "2023-05-24T13:52:33.188280",
          "2023-05-24T13:52:33.321815",
          "2023-05-24T13:52:33.450109",
          "2023-05-24T13:52:33.577170",
          "2023-05-24T13:52:33.713856",
          "2023-05-24T13:52:33.835489",
          "2023-05-24T13:52:33.965236",
          "2023-05-24T13:52:34.092868",
          "2023-05-24T13:52:34.230156",
          "2023-05-24T13:52:34.358099",
          "2023-05-24T13:52:34.486281",
          "2023-05-24T13:52:34.612256",
          "2023-05-24T13:52:34.744243",
          "2023-05-24T13:52:34.872234",
          "2023-05-24T13:52:35.003177",
          "2023-05-24T13:52:35.132418",
          "2023-05-24T13:52:35.263054",
          "2023-05-24T13:52:35.391996",
          "2023-05-24T13:52:35.522845",
          "2023-05-24T13:52:35.650962",
          "2023-05-24T13:52:35.782400",
          "2023-05-24T13:52:35.915217",
          "2023-05-24T13:52:36.045338",
          "2023-05-24T13:52:36.170051",
          "2023-05-24T13:52:36.300363",
          "2023-05-24T13:52:36.432485",
          "2023-05-24T13:52:36.560782",
          "2023-05-24T13:52:36.691963",
          "2023-05-24T13:52:36.821627",
          "2023-05-24T13:52:36.951544",
          "2023-05-24T13:52:37.077560",
          "2023-05-24T13:52:37.205164",
          "2023-05-24T13:52:37.342845",
          "2023-05-24T13:52:37.469193",
          "2023-05-24T13:52:37.595470",
          "2023-05-24T13:52:37.728276",
          "2023-05-24T13:52:37.863200",
          "2023-05-24T13:52:37.988389",
          "2023-05-24T13:52:38.115007",
          "2023-05-24T13:52:38.246239",
          "2023-05-24T13:52:38.379274",
          "2023-05-24T13:52:38.505158",
          "2023-05-24T13:52:38.634115",
          "2023-05-24T13:52:38.765278",
          "2023-05-24T13:52:38.891531",
          "2023-05-24T13:52:39.027356",
          "2023-05-24T13:52:39.152065",
          "2023-05-24T13:52:39.281179",
          "2023-05-24T13:52:39.412587",
          "2023-05-24T13:52:39.543629",
          "2023-05-24T13:52:39.669873",
          "2023-05-24T13:52:39.801210",
          "2023-05-24T13:52:39.931998",
          "2023-05-24T13:52:40.061003",
          "2023-05-24T13:52:40.193874",
          "2023-05-24T13:52:40.322317",
          "2023-05-24T13:52:40.453333",
          "2023-05-24T13:52:40.582273",
          "2023-05-24T13:52:40.711636",
          "2023-05-24T13:52:40.840017",
          "2023-05-24T13:52:40.970234",
          "2023-05-24T13:52:41.097791",
          "2023-05-24T13:52:41.227736",
          "2023-05-24T13:52:41.358396",
          "2023-05-24T13:52:41.490157",
          "2023-05-24T13:52:41.620729",
          "2023-05-24T13:52:41.750555",
          "2023-05-24T13:52:41.878798",
          "2023-05-24T13:52:42.007546",
          "2023-05-24T13:52:42.135264",
          "2023-05-24T13:52:42.269143",
          "2023-05-24T13:52:42.396341",
          "2023-05-24T13:52:42.524820",
          "2023-05-24T13:52:42.659115",
          "2023-05-24T13:52:42.783034",
          "2023-05-24T13:52:42.914507",
          "2023-05-24T13:52:43.043511",
          "2023-05-24T13:52:43.174423",
          "2023-05-24T13:52:43.306857",
          "2023-05-24T13:52:43.435337",
          "2023-05-24T13:52:43.563764",
          "2023-05-24T13:52:43.691758",
          "2023-05-24T13:52:43.825228",
          "2023-05-24T13:52:43.954412",
          "2023-05-24T13:52:44.083896",
          "2023-05-24T13:52:44.212914",
          "2023-05-24T13:52:44.339799",
          "2023-05-24T13:52:44.472135",
          "2023-05-24T13:52:44.597600",
          "2023-05-24T13:52:44.730819",
          "2023-05-24T13:52:44.859719",
          "2023-05-24T13:52:44.987129",
          "2023-05-24T13:52:45.117858",
          "2023-05-24T13:52:45.249105",
          "2023-05-24T13:52:45.380759",
          "2023-05-24T13:52:45.508621",
          "2023-05-24T13:52:45.639962",
          "2023-05-24T13:52:45.767363",
          "2023-05-24T13:52:45.900832",
          "2023-05-24T13:52:46.030727",
          "2023-05-24T13:52:46.159243",
          "2023-05-24T13:52:46.287348",
          "2023-05-24T13:52:46.418024",
          "2023-05-24T13:52:46.546913",
          "2023-05-24T13:52:46.680453",
          "2023-05-24T13:52:46.809466",
          "2023-05-24T13:52:46.937554",
          "2023-05-24T13:52:47.066038",
          "2023-05-24T13:52:47.196400",
          "2023-05-24T13:52:47.328144",
          "2023-05-24T13:52:47.453972",
          "2023-05-24T13:52:47.584149",
          "2023-05-24T13:52:47.715837",
          "2023-05-24T13:52:47.842925",
          "2023-05-24T13:52:47.972183",
          "2023-05-24T13:52:48.102394",
          "2023-05-24T13:52:48.230614",
          "2023-05-24T13:52:48.360581",
          "2023-05-24T13:52:48.490755",
          "2023-05-24T13:52:48.619321",
          "2023-05-24T13:52:48.748451",
          "2023-05-24T13:52:48.877797",
          "2023-05-24T13:52:49.006150",
          "2023-05-24T13:52:49.138213",
          "2023-05-24T13:52:49.269425",
          "2023-05-24T13:52:49.396467",
          "2023-05-24T13:52:49.528609",
          "2023-05-24T13:52:49.657098",
          "2023-05-24T13:52:49.786378",
          "2023-05-24T13:52:49.917037",
          "2023-05-24T13:52:50.046483",
          "2023-05-24T13:52:50.173215",
          "2023-05-24T13:52:50.309393"
         ],
         "xaxis": "x",
         "y": [
          0,
          0.01113387261419653,
          0.0313804936272451,
          0.05654728962732381,
          0.08769694272916895,
          0.12420456988527528,
          0.16307843643256087,
          0.20358484803986465,
          0.2496359058363316,
          0.294519079699997,
          0.3338762929587056,
          0.36722789423222146,
          0.3924544554523482,
          0.408785493479741,
          0.417203762244873,
          0.4152491353143098,
          0.40428560321470125,
          0.39117146454107726,
          0.3788841612738968,
          0.3678956024657788,
          0.3605791545796557,
          0.35701540457849285,
          0.3565806436392523,
          0.3599606643878633,
          0.3648417618528184,
          0.36954003101891614,
          0.3706807504857013,
          0.3638486681209761,
          0.343751659789544,
          0.3099891597034083,
          0.26381595125961643,
          0.20542257962719093,
          0.136889222758746,
          0.05551193752766301,
          -0.03906489484853014,
          -0.1412225982214893,
          -0.24529617928624653,
          -0.349200382096044,
          -0.45177014314493036,
          -0.5514982744602448,
          -0.6449598035272964,
          -0.7296703052743514,
          -0.8074819166853995,
          -0.883351332724597,
          -0.9593804986260008,
          -1.037253963307523,
          -1.1204427640787533,
          -1.2095145436272374,
          -1.3097271726069581,
          -1.4253216080955857,
          -1.5464855653723093,
          -1.6587533122058185,
          -1.7568435108295286,
          -1.839443015042499,
          -1.9004110719122773,
          -1.9344714044371163,
          -1.9405108308289893,
          -1.9114839900442009,
          -1.8471275610953681,
          -1.7612489777463307,
          -1.6617007058357032,
          -1.547182746210179,
          -1.4174520621731799,
          -1.277140407954009,
          -1.1299153143006673,
          -0.9794350347965117,
          -0.8260273969642438,
          -0.662428439626145,
          -0.4819306176182674,
          -0.2836819585231146,
          -0.07184431836628402,
          0.15054461593994986,
          0.3829510996137665,
          0.6224984764872565,
          0.8633632318347874,
          1.1031605984932256,
          1.339397854443579,
          1.5712836791519298,
          1.80309403079562,
          2.0369294380008856,
          2.2738834804169556,
          2.5185251988473665,
          2.776272157814325,
          3.048033441407031,
          3.3323210984709504,
          3.627151433750616,
          3.929603356483752,
          4.237910854243182,
          4.554402531058967,
          4.8798690218056215,
          5.209362938880441,
          5.532747266087547,
          5.849462961519943,
          6.167590242075836,
          6.487423410706954,
          6.819363853168037,
          7.171032017527772,
          7.533925990016487,
          7.9113967950668185,
          8.30582354623964,
          8.70757749649924,
          9.11065334460644,
          9.51201875778007,
          9.89738645445981,
          10.255899666690386,
          10.591771180306987,
          10.903010065306304,
          11.194522541361769,
          11.474661067988164,
          11.73778278101924,
          11.980274349114872,
          12.205922552496597,
          12.41849542926262,
          12.615499977477317,
          12.793887814002112,
          12.954456708389086,
          13.095204870337717,
          13.21649152567842,
          13.322368743378373,
          13.412306902348812,
          13.485406624015981,
          13.545968874344387,
          13.596968815272971,
          13.637770451353614,
          13.67244958608132,
          13.703280352696039,
          13.730417354357373,
          13.755830192981866,
          13.779327047985817,
          13.800182777916238,
          13.8162119379031,
          13.827252964677674,
          13.831255743904576,
          13.825573887878747,
          13.809294810299065,
          13.783703418961124,
          13.751010229484484,
          13.71394878209368,
          13.676191275529183,
          13.63853214885855,
          13.602144937440475,
          13.569917332422504,
          13.54487429278205,
          13.527009626353273,
          13.515051290924772,
          13.505298685264595,
          13.493097325996741,
          13.476464431989067,
          13.455871671356382,
          13.433602994406394,
          13.410163679759624,
          13.384533960642703,
          13.357981598418167,
          13.335864999800757,
          13.323030981669794,
          13.3215545057677,
          13.335082582278902,
          13.36371872223405,
          13.40421344176355,
          13.45846589321791,
          13.526320152275895,
          13.603471157389729,
          13.687667744329381,
          13.776906065714808,
          13.868433619980895,
          13.962417445334694,
          14.063687445083604,
          14.174171600004648,
          14.293630770799417,
          14.423201122580705,
          14.563119873374161,
          14.71497109557077,
          14.87906018417152,
          15.053333487117065,
          15.233908576658559,
          15.417984495950527,
          15.606399165906288,
          15.799594987627685,
          15.997650167916163,
          16.20140990558246,
          16.41065710869544,
          16.62731814622239,
          16.854922239478796,
          17.092912134913984,
          17.338127671474705,
          17.59010336378255,
          17.849330539230536,
          18.114810963570118,
          18.38895563869534,
          18.67138025534634,
          18.957518166921652,
          19.249766142246,
          19.553481350827266,
          19.8687607549361,
          20.194169850792445,
          20.528188889085143,
          20.867428712766657,
          21.210881893605627,
          21.5629134219313,
          21.924499379684946,
          22.294373221087863,
          22.674980464307772,
          23.069656338853015,
          23.479118685062357,
          23.89958024425543,
          24.328919474841225,
          24.768625710479647,
          25.21941624279455,
          25.678053553481302,
          26.142519882838275,
          26.612481136457347,
          27.091641139112106,
          27.584627477708082,
          28.094789450879542,
          28.62228710614102,
          29.166275606050878,
          29.731284004024726,
          30.319287963557624,
          30.928609041244364,
          31.556756100073514,
          32.206178998944154,
          32.87817055164082,
          33.5711688396454,
          34.28571210648387,
          35.022273214729104,
          35.77945817199554,
          36.556416224272986,
          37.35423230225574,
          38.172092136455575,
          39.00745027319967,
          39.857847079172736,
          40.72285395548691,
          41.59603002236319,
          42.473075931877446,
          43.363301603061366,
          44.27016354436548,
          45.18905232329226,
          46.1121416967066,
          47.03165854659413,
          47.94012827171668,
          48.8358137559026,
          49.72423956346728,
          50.599436957679046,
          51.45710700713193,
          52.301436889688844,
          53.13836252716553,
          53.96755407394998,
          54.7878597224343,
          55.59794323965474,
          56.39272254332407,
          57.16771168557462,
          57.912283687089285,
          58.62184472553358,
          59.29703530473587,
          59.93933077087273,
          60.552848456209944,
          61.14395656992354,
          61.71256929147845,
          62.26022634917473,
          62.79783670742584,
          63.32954641996367,
          63.86653864054436,
          64.42126044687399,
          65.00396491603476,
          65.62545421014083,
          66.29855178447326,
          67.04053291374557,
          67.86097593192812,
          68.75378146589782,
          69.70470353831783,
          70.70904810333512,
          71.75384745695598,
          72.84395319581937,
          73.96502948661164,
          75.0873944887442,
          76.20352801132,
          77.30945634517343,
          78.40259203344897,
          79.47476841969161,
          80.5254603675428,
          81.53459092900869,
          82.50190374539427,
          83.43552846087458,
          84.32784821030128,
          85.18253176313027,
          86.00076924300933,
          86.78417781497116,
          87.533294257976,
          88.24788164492111,
          88.92755255940891,
          89.57209807259156,
          90.18178087825342,
          90.75690075654454,
          91.29802314759932,
          91.80556306795572,
          92.2796020449985,
          92.72037275204057,
          93.12855182913611,
          93.50410456240616,
          93.84672763412303,
          94.15568216229423
         ],
         "yaxis": "y"
        },
        {
         "hovertemplate": "variable=pos_z<br>timestamp=%{x}<br>value=%{y}<extra></extra>",
         "legendgroup": "pos_z",
         "line": {
          "color": "#EF553B",
          "dash": "solid"
         },
         "marker": {
          "symbol": "circle"
         },
         "mode": "lines",
         "name": "pos_z",
         "orientation": "v",
         "showlegend": true,
         "type": "scatter",
         "x": [
          "2023-05-24T13:52:11.391647",
          "2023-05-24T13:52:11.520664",
          "2023-05-24T13:52:11.651807",
          "2023-05-24T13:52:11.786708",
          "2023-05-24T13:52:11.914416",
          "2023-05-24T13:52:12.041363",
          "2023-05-24T13:52:12.173362",
          "2023-05-24T13:52:12.302196",
          "2023-05-24T13:52:12.433154",
          "2023-05-24T13:52:12.564517",
          "2023-05-24T13:52:12.692224",
          "2023-05-24T13:52:12.820066",
          "2023-05-24T13:52:12.951295",
          "2023-05-24T13:52:13.082110",
          "2023-05-24T13:52:13.208994",
          "2023-05-24T13:52:13.338438",
          "2023-05-24T13:52:13.469232",
          "2023-05-24T13:52:13.597706",
          "2023-05-24T13:52:13.726025",
          "2023-05-24T13:52:13.855184",
          "2023-05-24T13:52:13.988957",
          "2023-05-24T13:52:14.119931",
          "2023-05-24T13:52:14.247031",
          "2023-05-24T13:52:14.373113",
          "2023-05-24T13:52:14.508851",
          "2023-05-24T13:52:14.634273",
          "2023-05-24T13:52:14.766044",
          "2023-05-24T13:52:14.894661",
          "2023-05-24T13:52:15.023545",
          "2023-05-24T13:52:15.152867",
          "2023-05-24T13:52:15.283219",
          "2023-05-24T13:52:15.412391",
          "2023-05-24T13:52:15.548353",
          "2023-05-24T13:52:15.674939",
          "2023-05-24T13:52:15.801423",
          "2023-05-24T13:52:15.932098",
          "2023-05-24T13:52:16.063932",
          "2023-05-24T13:52:16.189839",
          "2023-05-24T13:52:16.324364",
          "2023-05-24T13:52:16.451821",
          "2023-05-24T13:52:16.585015",
          "2023-05-24T13:52:16.711809",
          "2023-05-24T13:52:16.842164",
          "2023-05-24T13:52:16.969665",
          "2023-05-24T13:52:17.101157",
          "2023-05-24T13:52:17.232186",
          "2023-05-24T13:52:17.356793",
          "2023-05-24T13:52:17.487714",
          "2023-05-24T13:52:17.617107",
          "2023-05-24T13:52:17.745678",
          "2023-05-24T13:52:17.875636",
          "2023-05-24T13:52:18.007013",
          "2023-05-24T13:52:18.139500",
          "2023-05-24T13:52:18.266519",
          "2023-05-24T13:52:18.394417",
          "2023-05-24T13:52:18.527126",
          "2023-05-24T13:52:18.655824",
          "2023-05-24T13:52:18.785476",
          "2023-05-24T13:52:18.916053",
          "2023-05-24T13:52:19.045550",
          "2023-05-24T13:52:19.176565",
          "2023-05-24T13:52:19.305969",
          "2023-05-24T13:52:19.434095",
          "2023-05-24T13:52:19.562676",
          "2023-05-24T13:52:19.695088",
          "2023-05-24T13:52:19.822620",
          "2023-05-24T13:52:19.950858",
          "2023-05-24T13:52:20.086607",
          "2023-05-24T13:52:20.210072",
          "2023-05-24T13:52:20.344355",
          "2023-05-24T13:52:20.472593",
          "2023-05-24T13:52:20.602935",
          "2023-05-24T13:52:20.734394",
          "2023-05-24T13:52:20.861201",
          "2023-05-24T13:52:20.990362",
          "2023-05-24T13:52:21.122396",
          "2023-05-24T13:52:21.250852",
          "2023-05-24T13:52:21.379459",
          "2023-05-24T13:52:21.513279",
          "2023-05-24T13:52:21.640850",
          "2023-05-24T13:52:21.773563",
          "2023-05-24T13:52:21.899257",
          "2023-05-24T13:52:22.034329",
          "2023-05-24T13:52:22.163568",
          "2023-05-24T13:52:22.293827",
          "2023-05-24T13:52:22.420817",
          "2023-05-24T13:52:22.550565",
          "2023-05-24T13:52:22.683951",
          "2023-05-24T13:52:22.811706",
          "2023-05-24T13:52:22.942181",
          "2023-05-24T13:52:23.072496",
          "2023-05-24T13:52:23.203121",
          "2023-05-24T13:52:23.331887",
          "2023-05-24T13:52:23.464326",
          "2023-05-24T13:52:23.592470",
          "2023-05-24T13:52:23.719308",
          "2023-05-24T13:52:23.850855",
          "2023-05-24T13:52:23.981894",
          "2023-05-24T13:52:24.108448",
          "2023-05-24T13:52:24.241877",
          "2023-05-24T13:52:24.365569",
          "2023-05-24T13:52:24.494692",
          "2023-05-24T13:52:24.628486",
          "2023-05-24T13:52:24.759535",
          "2023-05-24T13:52:24.888022",
          "2023-05-24T13:52:25.016205",
          "2023-05-24T13:52:25.146885",
          "2023-05-24T13:52:25.275621",
          "2023-05-24T13:52:25.405785",
          "2023-05-24T13:52:25.536133",
          "2023-05-24T13:52:25.670073",
          "2023-05-24T13:52:25.797151",
          "2023-05-24T13:52:25.927636",
          "2023-05-24T13:52:26.057630",
          "2023-05-24T13:52:26.184043",
          "2023-05-24T13:52:26.314176",
          "2023-05-24T13:52:26.441512",
          "2023-05-24T13:52:26.574309",
          "2023-05-24T13:52:26.702778",
          "2023-05-24T13:52:26.835200",
          "2023-05-24T13:52:26.961170",
          "2023-05-24T13:52:27.090078",
          "2023-05-24T13:52:27.221977",
          "2023-05-24T13:52:27.353655",
          "2023-05-24T13:52:27.483782",
          "2023-05-24T13:52:27.609969",
          "2023-05-24T13:52:27.739128",
          "2023-05-24T13:52:27.869667",
          "2023-05-24T13:52:27.998201",
          "2023-05-24T13:52:28.130483",
          "2023-05-24T13:52:28.262630",
          "2023-05-24T13:52:28.393086",
          "2023-05-24T13:52:28.520782",
          "2023-05-24T13:52:28.647804",
          "2023-05-24T13:52:28.780794",
          "2023-05-24T13:52:28.908553",
          "2023-05-24T13:52:29.038906",
          "2023-05-24T13:52:29.169804",
          "2023-05-24T13:52:29.298854",
          "2023-05-24T13:52:29.428488",
          "2023-05-24T13:52:29.557114",
          "2023-05-24T13:52:29.686906",
          "2023-05-24T13:52:29.814044",
          "2023-05-24T13:52:29.945411",
          "2023-05-24T13:52:30.074897",
          "2023-05-24T13:52:30.206670",
          "2023-05-24T13:52:30.335075",
          "2023-05-24T13:52:30.464316",
          "2023-05-24T13:52:30.592519",
          "2023-05-24T13:52:30.725175",
          "2023-05-24T13:52:30.854663",
          "2023-05-24T13:52:30.983248",
          "2023-05-24T13:52:31.111938",
          "2023-05-24T13:52:31.244676",
          "2023-05-24T13:52:31.371375",
          "2023-05-24T13:52:31.502863",
          "2023-05-24T13:52:31.632101",
          "2023-05-24T13:52:31.761938",
          "2023-05-24T13:52:31.890935",
          "2023-05-24T13:52:32.021050",
          "2023-05-24T13:52:32.151095",
          "2023-05-24T13:52:32.281912",
          "2023-05-24T13:52:32.409227",
          "2023-05-24T13:52:32.539425",
          "2023-05-24T13:52:32.670666",
          "2023-05-24T13:52:32.800858",
          "2023-05-24T13:52:32.927365",
          "2023-05-24T13:52:33.058190",
          "2023-05-24T13:52:33.188280",
          "2023-05-24T13:52:33.321815",
          "2023-05-24T13:52:33.450109",
          "2023-05-24T13:52:33.577170",
          "2023-05-24T13:52:33.713856",
          "2023-05-24T13:52:33.835489",
          "2023-05-24T13:52:33.965236",
          "2023-05-24T13:52:34.092868",
          "2023-05-24T13:52:34.230156",
          "2023-05-24T13:52:34.358099",
          "2023-05-24T13:52:34.486281",
          "2023-05-24T13:52:34.612256",
          "2023-05-24T13:52:34.744243",
          "2023-05-24T13:52:34.872234",
          "2023-05-24T13:52:35.003177",
          "2023-05-24T13:52:35.132418",
          "2023-05-24T13:52:35.263054",
          "2023-05-24T13:52:35.391996",
          "2023-05-24T13:52:35.522845",
          "2023-05-24T13:52:35.650962",
          "2023-05-24T13:52:35.782400",
          "2023-05-24T13:52:35.915217",
          "2023-05-24T13:52:36.045338",
          "2023-05-24T13:52:36.170051",
          "2023-05-24T13:52:36.300363",
          "2023-05-24T13:52:36.432485",
          "2023-05-24T13:52:36.560782",
          "2023-05-24T13:52:36.691963",
          "2023-05-24T13:52:36.821627",
          "2023-05-24T13:52:36.951544",
          "2023-05-24T13:52:37.077560",
          "2023-05-24T13:52:37.205164",
          "2023-05-24T13:52:37.342845",
          "2023-05-24T13:52:37.469193",
          "2023-05-24T13:52:37.595470",
          "2023-05-24T13:52:37.728276",
          "2023-05-24T13:52:37.863200",
          "2023-05-24T13:52:37.988389",
          "2023-05-24T13:52:38.115007",
          "2023-05-24T13:52:38.246239",
          "2023-05-24T13:52:38.379274",
          "2023-05-24T13:52:38.505158",
          "2023-05-24T13:52:38.634115",
          "2023-05-24T13:52:38.765278",
          "2023-05-24T13:52:38.891531",
          "2023-05-24T13:52:39.027356",
          "2023-05-24T13:52:39.152065",
          "2023-05-24T13:52:39.281179",
          "2023-05-24T13:52:39.412587",
          "2023-05-24T13:52:39.543629",
          "2023-05-24T13:52:39.669873",
          "2023-05-24T13:52:39.801210",
          "2023-05-24T13:52:39.931998",
          "2023-05-24T13:52:40.061003",
          "2023-05-24T13:52:40.193874",
          "2023-05-24T13:52:40.322317",
          "2023-05-24T13:52:40.453333",
          "2023-05-24T13:52:40.582273",
          "2023-05-24T13:52:40.711636",
          "2023-05-24T13:52:40.840017",
          "2023-05-24T13:52:40.970234",
          "2023-05-24T13:52:41.097791",
          "2023-05-24T13:52:41.227736",
          "2023-05-24T13:52:41.358396",
          "2023-05-24T13:52:41.490157",
          "2023-05-24T13:52:41.620729",
          "2023-05-24T13:52:41.750555",
          "2023-05-24T13:52:41.878798",
          "2023-05-24T13:52:42.007546",
          "2023-05-24T13:52:42.135264",
          "2023-05-24T13:52:42.269143",
          "2023-05-24T13:52:42.396341",
          "2023-05-24T13:52:42.524820",
          "2023-05-24T13:52:42.659115",
          "2023-05-24T13:52:42.783034",
          "2023-05-24T13:52:42.914507",
          "2023-05-24T13:52:43.043511",
          "2023-05-24T13:52:43.174423",
          "2023-05-24T13:52:43.306857",
          "2023-05-24T13:52:43.435337",
          "2023-05-24T13:52:43.563764",
          "2023-05-24T13:52:43.691758",
          "2023-05-24T13:52:43.825228",
          "2023-05-24T13:52:43.954412",
          "2023-05-24T13:52:44.083896",
          "2023-05-24T13:52:44.212914",
          "2023-05-24T13:52:44.339799",
          "2023-05-24T13:52:44.472135",
          "2023-05-24T13:52:44.597600",
          "2023-05-24T13:52:44.730819",
          "2023-05-24T13:52:44.859719",
          "2023-05-24T13:52:44.987129",
          "2023-05-24T13:52:45.117858",
          "2023-05-24T13:52:45.249105",
          "2023-05-24T13:52:45.380759",
          "2023-05-24T13:52:45.508621",
          "2023-05-24T13:52:45.639962",
          "2023-05-24T13:52:45.767363",
          "2023-05-24T13:52:45.900832",
          "2023-05-24T13:52:46.030727",
          "2023-05-24T13:52:46.159243",
          "2023-05-24T13:52:46.287348",
          "2023-05-24T13:52:46.418024",
          "2023-05-24T13:52:46.546913",
          "2023-05-24T13:52:46.680453",
          "2023-05-24T13:52:46.809466",
          "2023-05-24T13:52:46.937554",
          "2023-05-24T13:52:47.066038",
          "2023-05-24T13:52:47.196400",
          "2023-05-24T13:52:47.328144",
          "2023-05-24T13:52:47.453972",
          "2023-05-24T13:52:47.584149",
          "2023-05-24T13:52:47.715837",
          "2023-05-24T13:52:47.842925",
          "2023-05-24T13:52:47.972183",
          "2023-05-24T13:52:48.102394",
          "2023-05-24T13:52:48.230614",
          "2023-05-24T13:52:48.360581",
          "2023-05-24T13:52:48.490755",
          "2023-05-24T13:52:48.619321",
          "2023-05-24T13:52:48.748451",
          "2023-05-24T13:52:48.877797",
          "2023-05-24T13:52:49.006150",
          "2023-05-24T13:52:49.138213",
          "2023-05-24T13:52:49.269425",
          "2023-05-24T13:52:49.396467",
          "2023-05-24T13:52:49.528609",
          "2023-05-24T13:52:49.657098",
          "2023-05-24T13:52:49.786378",
          "2023-05-24T13:52:49.917037",
          "2023-05-24T13:52:50.046483",
          "2023-05-24T13:52:50.173215",
          "2023-05-24T13:52:50.309393"
         ],
         "xaxis": "x",
         "y": [
          0,
          0.012968431494874472,
          0.036904323836723034,
          0.06814294951482283,
          0.1011332236811968,
          0.1338388671473717,
          0.16402967649875208,
          0.19099197949198768,
          0.2168140531098427,
          0.23656300462504018,
          0.24719918013266134,
          0.24616761201308504,
          0.23326212184764084,
          0.20852969568600285,
          0.17197093730678603,
          0.12270678540472671,
          0.060579018334144016,
          -0.013981465538839513,
          -0.10113458608708457,
          -0.20042231830332213,
          -0.311224600740716,
          -0.4342651769542552,
          -0.5693137830312516,
          -0.7156172390932236,
          -0.871165359217094,
          -1.0360050867888646,
          -1.2109631006325778,
          -1.3957979287655888,
          -1.5910175800534656,
          -1.7952523130217075,
          -2.0071098786527557,
          -2.2250428437748333,
          -2.4518009028761014,
          -2.690034098487904,
          -2.941696471628756,
          -3.209686468215346,
          -3.497195150347426,
          -3.809536762181834,
          -4.151918538247559,
          -4.530122386231942,
          -4.948585683974036,
          -5.411433726801104,
          -5.9208505726220855,
          -6.479790558399711,
          -7.090578100879096,
          -7.753847041214243,
          -8.473384537214033,
          -9.250468961566366,
          -10.081489794075011,
          -10.962226191963973,
          -11.89194399021846,
          -12.871171969901157,
          -13.900939443889476,
          -14.983154230393547,
          -16.113596190156457,
          -17.28617894010241,
          -18.49741343826436,
          -19.743835685405866,
          -21.021307556770253,
          -22.3236920686408,
          -23.645838267551365,
          -24.98456996713557,
          -26.338796990983,
          -27.712510732564173,
          -29.111471039242655,
          -30.539814179525113,
          -32.00287049881339,
          -33.5049407831904,
          -35.048795798735725,
          -36.633803895857966,
          -38.261776387446275,
          -39.93717404891594,
          -41.659553122751234,
          -43.42935416115989,
          -45.246779637243606,
          -47.11232664904998,
          -49.02324200084865,
          -50.97366247159312,
          -52.95605281439263,
          -54.959189589101555,
          -56.978079609526624,
          -59.010291023093714,
          -61.05470626816758,
          -63.10850537986225,
          -65.16774070923731,
          -67.23554342857209,
          -69.3138720217727,
          -71.40525706296835,
          -73.5091413199446,
          -75.62218280527125,
          -77.73972504376742,
          -79.85924005609256,
          -81.98507769944365,
          -84.11585033459164,
          -86.24794115755746,
          -88.3759539790526,
          -90.4924618895211,
          -92.59352599894135,
          -94.6749415920873,
          -96.72658170921378,
          -98.73610066978337,
          -100.69557627542389,
          -102.60404305273917,
          -104.46568091283417,
          -106.2850799413121,
          -108.06454321805317,
          -109.808036738962,
          -111.52520478155444,
          -113.22420330982388,
          -114.91414776765379,
          -116.59995908133808,
          -118.28219950006694,
          -119.96601844063603,
          -121.65608229660361,
          -123.35393019894649,
          -125.06091977746728,
          -126.77964039387756,
          -128.50971360736673,
          -130.24985275482456,
          -132.00062597484808,
          -133.76065154820162,
          -135.5288047090574,
          -137.30435773688885,
          -139.08531095431962,
          -140.87122859069885,
          -142.66282733838167,
          -144.4608162787326,
          -146.26462727300014,
          -148.07569092939772,
          -149.89452265857705,
          -151.72088160563464,
          -153.5562115034488,
          -155.39931005493955,
          -157.2487881882592,
          -159.10619695852233,
          -160.97341567437752,
          -162.8495944831279,
          -164.73439550816204,
          -166.62684871791888,
          -168.5275042462614,
          -170.43936014747004,
          -172.3635403182013,
          -174.29942755282136,
          -176.2457866711332,
          -178.20372078219881,
          -180.17275387826663,
          -182.1525715514891,
          -184.1440405617152,
          -186.1479357818482,
          -188.16591844943653,
          -190.19729300937595,
          -192.2424398748037,
          -194.3003983992193,
          -196.370930427647,
          -198.4538082238563,
          -200.54625245024496,
          -202.64425632572187,
          -204.74401055072076,
          -206.8461464305018,
          -208.95083565643412,
          -211.05689675680995,
          -213.16472238354723,
          -215.27602623075455,
          -217.3917698478071,
          -219.51412630842265,
          -221.6433334760846,
          -223.7770469159887,
          -225.91294782056457,
          -228.0493618442385,
          -230.18557237436514,
          -232.32017242660885,
          -234.4527591567749,
          -236.5812478326393,
          -238.70491393751192,
          -240.8239602971689,
          -242.93872721662856,
          -245.05056133991351,
          -247.1596876374731,
          -249.2666563313159,
          -251.3709256111228,
          -253.47151896446456,
          -255.56759736700656,
          -257.65955110319635,
          -259.74768716374473,
          -261.8304924105278,
          -263.9056786572256,
          -265.9708448480502,
          -268.02527770347456,
          -270.06873890885197,
          -272.10123887843093,
          -274.1221446291776,
          -276.13093774944963,
          -278.12786201757905,
          -280.1135204323283,
          -282.08874157127764,
          -284.0530971341,
          -286.00676020070426,
          -287.95104568966485,
          -289.88623060139196,
          -291.8110405450896,
          -293.72471913509173,
          -295.6271645758238,
          -297.51909448149706,
          -299.40162949899127,
          -301.27390720415053,
          -303.13717555484106,
          -304.99352435938016,
          -306.84288913206547,
          -308.6857516028056,
          -310.5251256711244,
          -312.36076108017596,
          -314.18727667035716,
          -315.9978196889002,
          -317.7871209100264,
          -319.55547203679504,
          -321.30575958188456,
          -323.0398569330726,
          -324.7546209625456,
          -326.4495283307008,
          -328.1289182266901,
          -329.799375994678,
          -331.46334544903544,
          -333.1186263693648,
          -334.76442863781097,
          -336.400510871456,
          -338.02847683423056,
          -339.648133538288,
          -341.2577038266585,
          -342.8571166299365,
          -344.44756862437123,
          -346.0287627511287,
          -347.60045468656284,
          -349.1629670048649,
          -350.71494121800765,
          -352.2541436518257,
          -353.7778267119591,
          -355.2869607416138,
          -356.7791961752605,
          -358.24842230291796,
          -359.6953535028587,
          -361.1222673683281,
          -362.5300350863833,
          -363.9221722828747,
          -365.30521673550834,
          -366.6809057413045,
          -368.0530886949809,
          -369.4288259396374,
          -370.80701737896464,
          -372.18372629438005,
          -373.5581836444222,
          -374.91948596090714,
          -376.25408396989405,
          -377.5566627659992,
          -378.8238930209873,
          -380.0542329592066,
          -381.2444932986527,
          -382.392092155099,
          -383.49551497565926,
          -384.5662850489328,
          -385.61645049193044,
          -386.6439631660149,
          -387.6466837441046,
          -388.63349888481747,
          -389.6154388191611,
          -390.59650228322596,
          -391.5865640374737,
          -392.59406112814884,
          -393.62255790276805,
          -394.6910727920169,
          -395.82194350105834,
          -397.0094313053513,
          -398.2390567233154,
          -399.5130296516021,
          -400.84093078544595,
          -402.24423194831843,
          -403.74141067053944,
          -405.3181815190431,
          -406.9472626582592,
          -408.61834943129634,
          -410.3317657798822,
          -412.07989404418475,
          -413.83950434165484,
          -415.57324168160216,
          -417.2525791686159,
          -418.87259863694356,
          -420.4363802717635,
          -421.94568683261275,
          -423.40060718491185,
          -424.7995051939721,
          -426.1419502629014,
          -427.42814966543347,
          -428.658726306926,
          -429.834323024614,
          -430.9557151334669,
          -432.0237647539998,
          -433.0387123905524,
          -434.00078757317766,
          -434.910241423653,
          -435.7676496784768,
          -436.57344217777944,
          -437.3267972464051
         ],
         "yaxis": "y"
        }
       ],
       "layout": {
        "legend": {
         "title": {
          "text": "variable"
         },
         "tracegroupgap": 0
        },
        "margin": {
         "t": 60
        },
        "template": {
         "data": {
          "bar": [
           {
            "error_x": {
             "color": "#2a3f5f"
            },
            "error_y": {
             "color": "#2a3f5f"
            },
            "marker": {
             "line": {
              "color": "#E5ECF6",
              "width": 0.5
             },
             "pattern": {
              "fillmode": "overlay",
              "size": 10,
              "solidity": 0.2
             }
            },
            "type": "bar"
           }
          ],
          "barpolar": [
           {
            "marker": {
             "line": {
              "color": "#E5ECF6",
              "width": 0.5
             },
             "pattern": {
              "fillmode": "overlay",
              "size": 10,
              "solidity": 0.2
             }
            },
            "type": "barpolar"
           }
          ],
          "carpet": [
           {
            "aaxis": {
             "endlinecolor": "#2a3f5f",
             "gridcolor": "white",
             "linecolor": "white",
             "minorgridcolor": "white",
             "startlinecolor": "#2a3f5f"
            },
            "baxis": {
             "endlinecolor": "#2a3f5f",
             "gridcolor": "white",
             "linecolor": "white",
             "minorgridcolor": "white",
             "startlinecolor": "#2a3f5f"
            },
            "type": "carpet"
           }
          ],
          "choropleth": [
           {
            "colorbar": {
             "outlinewidth": 0,
             "ticks": ""
            },
            "type": "choropleth"
           }
          ],
          "contour": [
           {
            "colorbar": {
             "outlinewidth": 0,
             "ticks": ""
            },
            "colorscale": [
             [
              0,
              "#0d0887"
             ],
             [
              0.1111111111111111,
              "#46039f"
             ],
             [
              0.2222222222222222,
              "#7201a8"
             ],
             [
              0.3333333333333333,
              "#9c179e"
             ],
             [
              0.4444444444444444,
              "#bd3786"
             ],
             [
              0.5555555555555556,
              "#d8576b"
             ],
             [
              0.6666666666666666,
              "#ed7953"
             ],
             [
              0.7777777777777778,
              "#fb9f3a"
             ],
             [
              0.8888888888888888,
              "#fdca26"
             ],
             [
              1,
              "#f0f921"
             ]
            ],
            "type": "contour"
           }
          ],
          "contourcarpet": [
           {
            "colorbar": {
             "outlinewidth": 0,
             "ticks": ""
            },
            "type": "contourcarpet"
           }
          ],
          "heatmap": [
           {
            "colorbar": {
             "outlinewidth": 0,
             "ticks": ""
            },
            "colorscale": [
             [
              0,
              "#0d0887"
             ],
             [
              0.1111111111111111,
              "#46039f"
             ],
             [
              0.2222222222222222,
              "#7201a8"
             ],
             [
              0.3333333333333333,
              "#9c179e"
             ],
             [
              0.4444444444444444,
              "#bd3786"
             ],
             [
              0.5555555555555556,
              "#d8576b"
             ],
             [
              0.6666666666666666,
              "#ed7953"
             ],
             [
              0.7777777777777778,
              "#fb9f3a"
             ],
             [
              0.8888888888888888,
              "#fdca26"
             ],
             [
              1,
              "#f0f921"
             ]
            ],
            "type": "heatmap"
           }
          ],
          "heatmapgl": [
           {
            "colorbar": {
             "outlinewidth": 0,
             "ticks": ""
            },
            "colorscale": [
             [
              0,
              "#0d0887"
             ],
             [
              0.1111111111111111,
              "#46039f"
             ],
             [
              0.2222222222222222,
              "#7201a8"
             ],
             [
              0.3333333333333333,
              "#9c179e"
             ],
             [
              0.4444444444444444,
              "#bd3786"
             ],
             [
              0.5555555555555556,
              "#d8576b"
             ],
             [
              0.6666666666666666,
              "#ed7953"
             ],
             [
              0.7777777777777778,
              "#fb9f3a"
             ],
             [
              0.8888888888888888,
              "#fdca26"
             ],
             [
              1,
              "#f0f921"
             ]
            ],
            "type": "heatmapgl"
           }
          ],
          "histogram": [
           {
            "marker": {
             "pattern": {
              "fillmode": "overlay",
              "size": 10,
              "solidity": 0.2
             }
            },
            "type": "histogram"
           }
          ],
          "histogram2d": [
           {
            "colorbar": {
             "outlinewidth": 0,
             "ticks": ""
            },
            "colorscale": [
             [
              0,
              "#0d0887"
             ],
             [
              0.1111111111111111,
              "#46039f"
             ],
             [
              0.2222222222222222,
              "#7201a8"
             ],
             [
              0.3333333333333333,
              "#9c179e"
             ],
             [
              0.4444444444444444,
              "#bd3786"
             ],
             [
              0.5555555555555556,
              "#d8576b"
             ],
             [
              0.6666666666666666,
              "#ed7953"
             ],
             [
              0.7777777777777778,
              "#fb9f3a"
             ],
             [
              0.8888888888888888,
              "#fdca26"
             ],
             [
              1,
              "#f0f921"
             ]
            ],
            "type": "histogram2d"
           }
          ],
          "histogram2dcontour": [
           {
            "colorbar": {
             "outlinewidth": 0,
             "ticks": ""
            },
            "colorscale": [
             [
              0,
              "#0d0887"
             ],
             [
              0.1111111111111111,
              "#46039f"
             ],
             [
              0.2222222222222222,
              "#7201a8"
             ],
             [
              0.3333333333333333,
              "#9c179e"
             ],
             [
              0.4444444444444444,
              "#bd3786"
             ],
             [
              0.5555555555555556,
              "#d8576b"
             ],
             [
              0.6666666666666666,
              "#ed7953"
             ],
             [
              0.7777777777777778,
              "#fb9f3a"
             ],
             [
              0.8888888888888888,
              "#fdca26"
             ],
             [
              1,
              "#f0f921"
             ]
            ],
            "type": "histogram2dcontour"
           }
          ],
          "mesh3d": [
           {
            "colorbar": {
             "outlinewidth": 0,
             "ticks": ""
            },
            "type": "mesh3d"
           }
          ],
          "parcoords": [
           {
            "line": {
             "colorbar": {
              "outlinewidth": 0,
              "ticks": ""
             }
            },
            "type": "parcoords"
           }
          ],
          "pie": [
           {
            "automargin": true,
            "type": "pie"
           }
          ],
          "scatter": [
           {
            "fillpattern": {
             "fillmode": "overlay",
             "size": 10,
             "solidity": 0.2
            },
            "type": "scatter"
           }
          ],
          "scatter3d": [
           {
            "line": {
             "colorbar": {
              "outlinewidth": 0,
              "ticks": ""
             }
            },
            "marker": {
             "colorbar": {
              "outlinewidth": 0,
              "ticks": ""
             }
            },
            "type": "scatter3d"
           }
          ],
          "scattercarpet": [
           {
            "marker": {
             "colorbar": {
              "outlinewidth": 0,
              "ticks": ""
             }
            },
            "type": "scattercarpet"
           }
          ],
          "scattergeo": [
           {
            "marker": {
             "colorbar": {
              "outlinewidth": 0,
              "ticks": ""
             }
            },
            "type": "scattergeo"
           }
          ],
          "scattergl": [
           {
            "marker": {
             "colorbar": {
              "outlinewidth": 0,
              "ticks": ""
             }
            },
            "type": "scattergl"
           }
          ],
          "scattermapbox": [
           {
            "marker": {
             "colorbar": {
              "outlinewidth": 0,
              "ticks": ""
             }
            },
            "type": "scattermapbox"
           }
          ],
          "scatterpolar": [
           {
            "marker": {
             "colorbar": {
              "outlinewidth": 0,
              "ticks": ""
             }
            },
            "type": "scatterpolar"
           }
          ],
          "scatterpolargl": [
           {
            "marker": {
             "colorbar": {
              "outlinewidth": 0,
              "ticks": ""
             }
            },
            "type": "scatterpolargl"
           }
          ],
          "scatterternary": [
           {
            "marker": {
             "colorbar": {
              "outlinewidth": 0,
              "ticks": ""
             }
            },
            "type": "scatterternary"
           }
          ],
          "surface": [
           {
            "colorbar": {
             "outlinewidth": 0,
             "ticks": ""
            },
            "colorscale": [
             [
              0,
              "#0d0887"
             ],
             [
              0.1111111111111111,
              "#46039f"
             ],
             [
              0.2222222222222222,
              "#7201a8"
             ],
             [
              0.3333333333333333,
              "#9c179e"
             ],
             [
              0.4444444444444444,
              "#bd3786"
             ],
             [
              0.5555555555555556,
              "#d8576b"
             ],
             [
              0.6666666666666666,
              "#ed7953"
             ],
             [
              0.7777777777777778,
              "#fb9f3a"
             ],
             [
              0.8888888888888888,
              "#fdca26"
             ],
             [
              1,
              "#f0f921"
             ]
            ],
            "type": "surface"
           }
          ],
          "table": [
           {
            "cells": {
             "fill": {
              "color": "#EBF0F8"
             },
             "line": {
              "color": "white"
             }
            },
            "header": {
             "fill": {
              "color": "#C8D4E3"
             },
             "line": {
              "color": "white"
             }
            },
            "type": "table"
           }
          ]
         },
         "layout": {
          "annotationdefaults": {
           "arrowcolor": "#2a3f5f",
           "arrowhead": 0,
           "arrowwidth": 1
          },
          "autotypenumbers": "strict",
          "coloraxis": {
           "colorbar": {
            "outlinewidth": 0,
            "ticks": ""
           }
          },
          "colorscale": {
           "diverging": [
            [
             0,
             "#8e0152"
            ],
            [
             0.1,
             "#c51b7d"
            ],
            [
             0.2,
             "#de77ae"
            ],
            [
             0.3,
             "#f1b6da"
            ],
            [
             0.4,
             "#fde0ef"
            ],
            [
             0.5,
             "#f7f7f7"
            ],
            [
             0.6,
             "#e6f5d0"
            ],
            [
             0.7,
             "#b8e186"
            ],
            [
             0.8,
             "#7fbc41"
            ],
            [
             0.9,
             "#4d9221"
            ],
            [
             1,
             "#276419"
            ]
           ],
           "sequential": [
            [
             0,
             "#0d0887"
            ],
            [
             0.1111111111111111,
             "#46039f"
            ],
            [
             0.2222222222222222,
             "#7201a8"
            ],
            [
             0.3333333333333333,
             "#9c179e"
            ],
            [
             0.4444444444444444,
             "#bd3786"
            ],
            [
             0.5555555555555556,
             "#d8576b"
            ],
            [
             0.6666666666666666,
             "#ed7953"
            ],
            [
             0.7777777777777778,
             "#fb9f3a"
            ],
            [
             0.8888888888888888,
             "#fdca26"
            ],
            [
             1,
             "#f0f921"
            ]
           ],
           "sequentialminus": [
            [
             0,
             "#0d0887"
            ],
            [
             0.1111111111111111,
             "#46039f"
            ],
            [
             0.2222222222222222,
             "#7201a8"
            ],
            [
             0.3333333333333333,
             "#9c179e"
            ],
            [
             0.4444444444444444,
             "#bd3786"
            ],
            [
             0.5555555555555556,
             "#d8576b"
            ],
            [
             0.6666666666666666,
             "#ed7953"
            ],
            [
             0.7777777777777778,
             "#fb9f3a"
            ],
            [
             0.8888888888888888,
             "#fdca26"
            ],
            [
             1,
             "#f0f921"
            ]
           ]
          },
          "colorway": [
           "#636efa",
           "#EF553B",
           "#00cc96",
           "#ab63fa",
           "#FFA15A",
           "#19d3f3",
           "#FF6692",
           "#B6E880",
           "#FF97FF",
           "#FECB52"
          ],
          "font": {
           "color": "#2a3f5f"
          },
          "geo": {
           "bgcolor": "white",
           "lakecolor": "white",
           "landcolor": "#E5ECF6",
           "showlakes": true,
           "showland": true,
           "subunitcolor": "white"
          },
          "hoverlabel": {
           "align": "left"
          },
          "hovermode": "closest",
          "mapbox": {
           "style": "light"
          },
          "paper_bgcolor": "white",
          "plot_bgcolor": "#E5ECF6",
          "polar": {
           "angularaxis": {
            "gridcolor": "white",
            "linecolor": "white",
            "ticks": ""
           },
           "bgcolor": "#E5ECF6",
           "radialaxis": {
            "gridcolor": "white",
            "linecolor": "white",
            "ticks": ""
           }
          },
          "scene": {
           "xaxis": {
            "backgroundcolor": "#E5ECF6",
            "gridcolor": "white",
            "gridwidth": 2,
            "linecolor": "white",
            "showbackground": true,
            "ticks": "",
            "zerolinecolor": "white"
           },
           "yaxis": {
            "backgroundcolor": "#E5ECF6",
            "gridcolor": "white",
            "gridwidth": 2,
            "linecolor": "white",
            "showbackground": true,
            "ticks": "",
            "zerolinecolor": "white"
           },
           "zaxis": {
            "backgroundcolor": "#E5ECF6",
            "gridcolor": "white",
            "gridwidth": 2,
            "linecolor": "white",
            "showbackground": true,
            "ticks": "",
            "zerolinecolor": "white"
           }
          },
          "shapedefaults": {
           "line": {
            "color": "#2a3f5f"
           }
          },
          "ternary": {
           "aaxis": {
            "gridcolor": "white",
            "linecolor": "white",
            "ticks": ""
           },
           "baxis": {
            "gridcolor": "white",
            "linecolor": "white",
            "ticks": ""
           },
           "bgcolor": "#E5ECF6",
           "caxis": {
            "gridcolor": "white",
            "linecolor": "white",
            "ticks": ""
           }
          },
          "title": {
           "x": 0.05
          },
          "xaxis": {
           "automargin": true,
           "gridcolor": "white",
           "linecolor": "white",
           "ticks": "",
           "title": {
            "standoff": 15
           },
           "zerolinecolor": "white",
           "zerolinewidth": 2
          },
          "yaxis": {
           "automargin": true,
           "gridcolor": "white",
           "linecolor": "white",
           "ticks": "",
           "title": {
            "standoff": 15
           },
           "zerolinecolor": "white",
           "zerolinewidth": 2
          }
         }
        },
        "xaxis": {
         "anchor": "y",
         "domain": [
          0,
          1
         ],
         "title": {
          "text": "timestamp"
         }
        },
        "yaxis": {
         "anchor": "x",
         "domain": [
          0,
          1
         ],
         "title": {
          "text": "value"
         }
        }
       }
      }
     },
     "metadata": {},
     "output_type": "display_data"
    }
   ],
   "source": [
    "px.line(df, x=\"timestamp\", y=[\"pos_y\", \"pos_z\"])"
   ]
  },
  {
   "cell_type": "code",
   "execution_count": 25,
   "metadata": {},
   "outputs": [
    {
     "data": {
      "application/vnd.plotly.v1+json": {
       "config": {
        "plotlyServerURL": "https://plot.ly"
       },
       "data": [
        {
         "hovertemplate": "pos_y=%{x}<br>pos_z=%{y}<extra></extra>",
         "legendgroup": "",
         "line": {
          "color": "#636efa",
          "dash": "solid"
         },
         "marker": {
          "symbol": "circle"
         },
         "mode": "lines",
         "name": "",
         "orientation": "v",
         "showlegend": false,
         "type": "scatter",
         "x": [
          0,
          0.01113387261419653,
          0.0313804936272451,
          0.05654728962732381,
          0.08769694272916895,
          0.12420456988527528,
          0.16307843643256087,
          0.20358484803986465,
          0.2496359058363316,
          0.294519079699997,
          0.3338762929587056,
          0.36722789423222146,
          0.3924544554523482,
          0.408785493479741,
          0.417203762244873,
          0.4152491353143098,
          0.40428560321470125,
          0.39117146454107726,
          0.3788841612738968,
          0.3678956024657788,
          0.3605791545796557,
          0.35701540457849285,
          0.3565806436392523,
          0.3599606643878633,
          0.3648417618528184,
          0.36954003101891614,
          0.3706807504857013,
          0.3638486681209761,
          0.343751659789544,
          0.3099891597034083,
          0.26381595125961643,
          0.20542257962719093,
          0.136889222758746,
          0.05551193752766301,
          -0.03906489484853014,
          -0.1412225982214893,
          -0.24529617928624653,
          -0.349200382096044,
          -0.45177014314493036,
          -0.5514982744602448,
          -0.6449598035272964,
          -0.7296703052743514,
          -0.8074819166853995,
          -0.883351332724597,
          -0.9593804986260008,
          -1.037253963307523,
          -1.1204427640787533,
          -1.2095145436272374,
          -1.3097271726069581,
          -1.4253216080955857,
          -1.5464855653723093,
          -1.6587533122058185,
          -1.7568435108295286,
          -1.839443015042499,
          -1.9004110719122773,
          -1.9344714044371163,
          -1.9405108308289893,
          -1.9114839900442009,
          -1.8471275610953681,
          -1.7612489777463307,
          -1.6617007058357032,
          -1.547182746210179,
          -1.4174520621731799,
          -1.277140407954009,
          -1.1299153143006673,
          -0.9794350347965117,
          -0.8260273969642438,
          -0.662428439626145,
          -0.4819306176182674,
          -0.2836819585231146,
          -0.07184431836628402,
          0.15054461593994986,
          0.3829510996137665,
          0.6224984764872565,
          0.8633632318347874,
          1.1031605984932256,
          1.339397854443579,
          1.5712836791519298,
          1.80309403079562,
          2.0369294380008856,
          2.2738834804169556,
          2.5185251988473665,
          2.776272157814325,
          3.048033441407031,
          3.3323210984709504,
          3.627151433750616,
          3.929603356483752,
          4.237910854243182,
          4.554402531058967,
          4.8798690218056215,
          5.209362938880441,
          5.532747266087547,
          5.849462961519943,
          6.167590242075836,
          6.487423410706954,
          6.819363853168037,
          7.171032017527772,
          7.533925990016487,
          7.9113967950668185,
          8.30582354623964,
          8.70757749649924,
          9.11065334460644,
          9.51201875778007,
          9.89738645445981,
          10.255899666690386,
          10.591771180306987,
          10.903010065306304,
          11.194522541361769,
          11.474661067988164,
          11.73778278101924,
          11.980274349114872,
          12.205922552496597,
          12.41849542926262,
          12.615499977477317,
          12.793887814002112,
          12.954456708389086,
          13.095204870337717,
          13.21649152567842,
          13.322368743378373,
          13.412306902348812,
          13.485406624015981,
          13.545968874344387,
          13.596968815272971,
          13.637770451353614,
          13.67244958608132,
          13.703280352696039,
          13.730417354357373,
          13.755830192981866,
          13.779327047985817,
          13.800182777916238,
          13.8162119379031,
          13.827252964677674,
          13.831255743904576,
          13.825573887878747,
          13.809294810299065,
          13.783703418961124,
          13.751010229484484,
          13.71394878209368,
          13.676191275529183,
          13.63853214885855,
          13.602144937440475,
          13.569917332422504,
          13.54487429278205,
          13.527009626353273,
          13.515051290924772,
          13.505298685264595,
          13.493097325996741,
          13.476464431989067,
          13.455871671356382,
          13.433602994406394,
          13.410163679759624,
          13.384533960642703,
          13.357981598418167,
          13.335864999800757,
          13.323030981669794,
          13.3215545057677,
          13.335082582278902,
          13.36371872223405,
          13.40421344176355,
          13.45846589321791,
          13.526320152275895,
          13.603471157389729,
          13.687667744329381,
          13.776906065714808,
          13.868433619980895,
          13.962417445334694,
          14.063687445083604,
          14.174171600004648,
          14.293630770799417,
          14.423201122580705,
          14.563119873374161,
          14.71497109557077,
          14.87906018417152,
          15.053333487117065,
          15.233908576658559,
          15.417984495950527,
          15.606399165906288,
          15.799594987627685,
          15.997650167916163,
          16.20140990558246,
          16.41065710869544,
          16.62731814622239,
          16.854922239478796,
          17.092912134913984,
          17.338127671474705,
          17.59010336378255,
          17.849330539230536,
          18.114810963570118,
          18.38895563869534,
          18.67138025534634,
          18.957518166921652,
          19.249766142246,
          19.553481350827266,
          19.8687607549361,
          20.194169850792445,
          20.528188889085143,
          20.867428712766657,
          21.210881893605627,
          21.5629134219313,
          21.924499379684946,
          22.294373221087863,
          22.674980464307772,
          23.069656338853015,
          23.479118685062357,
          23.89958024425543,
          24.328919474841225,
          24.768625710479647,
          25.21941624279455,
          25.678053553481302,
          26.142519882838275,
          26.612481136457347,
          27.091641139112106,
          27.584627477708082,
          28.094789450879542,
          28.62228710614102,
          29.166275606050878,
          29.731284004024726,
          30.319287963557624,
          30.928609041244364,
          31.556756100073514,
          32.206178998944154,
          32.87817055164082,
          33.5711688396454,
          34.28571210648387,
          35.022273214729104,
          35.77945817199554,
          36.556416224272986,
          37.35423230225574,
          38.172092136455575,
          39.00745027319967,
          39.857847079172736,
          40.72285395548691,
          41.59603002236319,
          42.473075931877446,
          43.363301603061366,
          44.27016354436548,
          45.18905232329226,
          46.1121416967066,
          47.03165854659413,
          47.94012827171668,
          48.8358137559026,
          49.72423956346728,
          50.599436957679046,
          51.45710700713193,
          52.301436889688844,
          53.13836252716553,
          53.96755407394998,
          54.7878597224343,
          55.59794323965474,
          56.39272254332407,
          57.16771168557462,
          57.912283687089285,
          58.62184472553358,
          59.29703530473587,
          59.93933077087273,
          60.552848456209944,
          61.14395656992354,
          61.71256929147845,
          62.26022634917473,
          62.79783670742584,
          63.32954641996367,
          63.86653864054436,
          64.42126044687399,
          65.00396491603476,
          65.62545421014083,
          66.29855178447326,
          67.04053291374557,
          67.86097593192812,
          68.75378146589782,
          69.70470353831783,
          70.70904810333512,
          71.75384745695598,
          72.84395319581937,
          73.96502948661164,
          75.0873944887442,
          76.20352801132,
          77.30945634517343,
          78.40259203344897,
          79.47476841969161,
          80.5254603675428,
          81.53459092900869,
          82.50190374539427,
          83.43552846087458,
          84.32784821030128,
          85.18253176313027,
          86.00076924300933,
          86.78417781497116,
          87.533294257976,
          88.24788164492111,
          88.92755255940891,
          89.57209807259156,
          90.18178087825342,
          90.75690075654454,
          91.29802314759932,
          91.80556306795572,
          92.2796020449985,
          92.72037275204057,
          93.12855182913611,
          93.50410456240616,
          93.84672763412303,
          94.15568216229423
         ],
         "xaxis": "x",
         "y": [
          0,
          0.012968431494874472,
          0.036904323836723034,
          0.06814294951482283,
          0.1011332236811968,
          0.1338388671473717,
          0.16402967649875208,
          0.19099197949198768,
          0.2168140531098427,
          0.23656300462504018,
          0.24719918013266134,
          0.24616761201308504,
          0.23326212184764084,
          0.20852969568600285,
          0.17197093730678603,
          0.12270678540472671,
          0.060579018334144016,
          -0.013981465538839513,
          -0.10113458608708457,
          -0.20042231830332213,
          -0.311224600740716,
          -0.4342651769542552,
          -0.5693137830312516,
          -0.7156172390932236,
          -0.871165359217094,
          -1.0360050867888646,
          -1.2109631006325778,
          -1.3957979287655888,
          -1.5910175800534656,
          -1.7952523130217075,
          -2.0071098786527557,
          -2.2250428437748333,
          -2.4518009028761014,
          -2.690034098487904,
          -2.941696471628756,
          -3.209686468215346,
          -3.497195150347426,
          -3.809536762181834,
          -4.151918538247559,
          -4.530122386231942,
          -4.948585683974036,
          -5.411433726801104,
          -5.9208505726220855,
          -6.479790558399711,
          -7.090578100879096,
          -7.753847041214243,
          -8.473384537214033,
          -9.250468961566366,
          -10.081489794075011,
          -10.962226191963973,
          -11.89194399021846,
          -12.871171969901157,
          -13.900939443889476,
          -14.983154230393547,
          -16.113596190156457,
          -17.28617894010241,
          -18.49741343826436,
          -19.743835685405866,
          -21.021307556770253,
          -22.3236920686408,
          -23.645838267551365,
          -24.98456996713557,
          -26.338796990983,
          -27.712510732564173,
          -29.111471039242655,
          -30.539814179525113,
          -32.00287049881339,
          -33.5049407831904,
          -35.048795798735725,
          -36.633803895857966,
          -38.261776387446275,
          -39.93717404891594,
          -41.659553122751234,
          -43.42935416115989,
          -45.246779637243606,
          -47.11232664904998,
          -49.02324200084865,
          -50.97366247159312,
          -52.95605281439263,
          -54.959189589101555,
          -56.978079609526624,
          -59.010291023093714,
          -61.05470626816758,
          -63.10850537986225,
          -65.16774070923731,
          -67.23554342857209,
          -69.3138720217727,
          -71.40525706296835,
          -73.5091413199446,
          -75.62218280527125,
          -77.73972504376742,
          -79.85924005609256,
          -81.98507769944365,
          -84.11585033459164,
          -86.24794115755746,
          -88.3759539790526,
          -90.4924618895211,
          -92.59352599894135,
          -94.6749415920873,
          -96.72658170921378,
          -98.73610066978337,
          -100.69557627542389,
          -102.60404305273917,
          -104.46568091283417,
          -106.2850799413121,
          -108.06454321805317,
          -109.808036738962,
          -111.52520478155444,
          -113.22420330982388,
          -114.91414776765379,
          -116.59995908133808,
          -118.28219950006694,
          -119.96601844063603,
          -121.65608229660361,
          -123.35393019894649,
          -125.06091977746728,
          -126.77964039387756,
          -128.50971360736673,
          -130.24985275482456,
          -132.00062597484808,
          -133.76065154820162,
          -135.5288047090574,
          -137.30435773688885,
          -139.08531095431962,
          -140.87122859069885,
          -142.66282733838167,
          -144.4608162787326,
          -146.26462727300014,
          -148.07569092939772,
          -149.89452265857705,
          -151.72088160563464,
          -153.5562115034488,
          -155.39931005493955,
          -157.2487881882592,
          -159.10619695852233,
          -160.97341567437752,
          -162.8495944831279,
          -164.73439550816204,
          -166.62684871791888,
          -168.5275042462614,
          -170.43936014747004,
          -172.3635403182013,
          -174.29942755282136,
          -176.2457866711332,
          -178.20372078219881,
          -180.17275387826663,
          -182.1525715514891,
          -184.1440405617152,
          -186.1479357818482,
          -188.16591844943653,
          -190.19729300937595,
          -192.2424398748037,
          -194.3003983992193,
          -196.370930427647,
          -198.4538082238563,
          -200.54625245024496,
          -202.64425632572187,
          -204.74401055072076,
          -206.8461464305018,
          -208.95083565643412,
          -211.05689675680995,
          -213.16472238354723,
          -215.27602623075455,
          -217.3917698478071,
          -219.51412630842265,
          -221.6433334760846,
          -223.7770469159887,
          -225.91294782056457,
          -228.0493618442385,
          -230.18557237436514,
          -232.32017242660885,
          -234.4527591567749,
          -236.5812478326393,
          -238.70491393751192,
          -240.8239602971689,
          -242.93872721662856,
          -245.05056133991351,
          -247.1596876374731,
          -249.2666563313159,
          -251.3709256111228,
          -253.47151896446456,
          -255.56759736700656,
          -257.65955110319635,
          -259.74768716374473,
          -261.8304924105278,
          -263.9056786572256,
          -265.9708448480502,
          -268.02527770347456,
          -270.06873890885197,
          -272.10123887843093,
          -274.1221446291776,
          -276.13093774944963,
          -278.12786201757905,
          -280.1135204323283,
          -282.08874157127764,
          -284.0530971341,
          -286.00676020070426,
          -287.95104568966485,
          -289.88623060139196,
          -291.8110405450896,
          -293.72471913509173,
          -295.6271645758238,
          -297.51909448149706,
          -299.40162949899127,
          -301.27390720415053,
          -303.13717555484106,
          -304.99352435938016,
          -306.84288913206547,
          -308.6857516028056,
          -310.5251256711244,
          -312.36076108017596,
          -314.18727667035716,
          -315.9978196889002,
          -317.7871209100264,
          -319.55547203679504,
          -321.30575958188456,
          -323.0398569330726,
          -324.7546209625456,
          -326.4495283307008,
          -328.1289182266901,
          -329.799375994678,
          -331.46334544903544,
          -333.1186263693648,
          -334.76442863781097,
          -336.400510871456,
          -338.02847683423056,
          -339.648133538288,
          -341.2577038266585,
          -342.8571166299365,
          -344.44756862437123,
          -346.0287627511287,
          -347.60045468656284,
          -349.1629670048649,
          -350.71494121800765,
          -352.2541436518257,
          -353.7778267119591,
          -355.2869607416138,
          -356.7791961752605,
          -358.24842230291796,
          -359.6953535028587,
          -361.1222673683281,
          -362.5300350863833,
          -363.9221722828747,
          -365.30521673550834,
          -366.6809057413045,
          -368.0530886949809,
          -369.4288259396374,
          -370.80701737896464,
          -372.18372629438005,
          -373.5581836444222,
          -374.91948596090714,
          -376.25408396989405,
          -377.5566627659992,
          -378.8238930209873,
          -380.0542329592066,
          -381.2444932986527,
          -382.392092155099,
          -383.49551497565926,
          -384.5662850489328,
          -385.61645049193044,
          -386.6439631660149,
          -387.6466837441046,
          -388.63349888481747,
          -389.6154388191611,
          -390.59650228322596,
          -391.5865640374737,
          -392.59406112814884,
          -393.62255790276805,
          -394.6910727920169,
          -395.82194350105834,
          -397.0094313053513,
          -398.2390567233154,
          -399.5130296516021,
          -400.84093078544595,
          -402.24423194831843,
          -403.74141067053944,
          -405.3181815190431,
          -406.9472626582592,
          -408.61834943129634,
          -410.3317657798822,
          -412.07989404418475,
          -413.83950434165484,
          -415.57324168160216,
          -417.2525791686159,
          -418.87259863694356,
          -420.4363802717635,
          -421.94568683261275,
          -423.40060718491185,
          -424.7995051939721,
          -426.1419502629014,
          -427.42814966543347,
          -428.658726306926,
          -429.834323024614,
          -430.9557151334669,
          -432.0237647539998,
          -433.0387123905524,
          -434.00078757317766,
          -434.910241423653,
          -435.7676496784768,
          -436.57344217777944,
          -437.3267972464051
         ],
         "yaxis": "y"
        }
       ],
       "layout": {
        "legend": {
         "tracegroupgap": 0
        },
        "margin": {
         "t": 60
        },
        "template": {
         "data": {
          "bar": [
           {
            "error_x": {
             "color": "#2a3f5f"
            },
            "error_y": {
             "color": "#2a3f5f"
            },
            "marker": {
             "line": {
              "color": "#E5ECF6",
              "width": 0.5
             },
             "pattern": {
              "fillmode": "overlay",
              "size": 10,
              "solidity": 0.2
             }
            },
            "type": "bar"
           }
          ],
          "barpolar": [
           {
            "marker": {
             "line": {
              "color": "#E5ECF6",
              "width": 0.5
             },
             "pattern": {
              "fillmode": "overlay",
              "size": 10,
              "solidity": 0.2
             }
            },
            "type": "barpolar"
           }
          ],
          "carpet": [
           {
            "aaxis": {
             "endlinecolor": "#2a3f5f",
             "gridcolor": "white",
             "linecolor": "white",
             "minorgridcolor": "white",
             "startlinecolor": "#2a3f5f"
            },
            "baxis": {
             "endlinecolor": "#2a3f5f",
             "gridcolor": "white",
             "linecolor": "white",
             "minorgridcolor": "white",
             "startlinecolor": "#2a3f5f"
            },
            "type": "carpet"
           }
          ],
          "choropleth": [
           {
            "colorbar": {
             "outlinewidth": 0,
             "ticks": ""
            },
            "type": "choropleth"
           }
          ],
          "contour": [
           {
            "colorbar": {
             "outlinewidth": 0,
             "ticks": ""
            },
            "colorscale": [
             [
              0,
              "#0d0887"
             ],
             [
              0.1111111111111111,
              "#46039f"
             ],
             [
              0.2222222222222222,
              "#7201a8"
             ],
             [
              0.3333333333333333,
              "#9c179e"
             ],
             [
              0.4444444444444444,
              "#bd3786"
             ],
             [
              0.5555555555555556,
              "#d8576b"
             ],
             [
              0.6666666666666666,
              "#ed7953"
             ],
             [
              0.7777777777777778,
              "#fb9f3a"
             ],
             [
              0.8888888888888888,
              "#fdca26"
             ],
             [
              1,
              "#f0f921"
             ]
            ],
            "type": "contour"
           }
          ],
          "contourcarpet": [
           {
            "colorbar": {
             "outlinewidth": 0,
             "ticks": ""
            },
            "type": "contourcarpet"
           }
          ],
          "heatmap": [
           {
            "colorbar": {
             "outlinewidth": 0,
             "ticks": ""
            },
            "colorscale": [
             [
              0,
              "#0d0887"
             ],
             [
              0.1111111111111111,
              "#46039f"
             ],
             [
              0.2222222222222222,
              "#7201a8"
             ],
             [
              0.3333333333333333,
              "#9c179e"
             ],
             [
              0.4444444444444444,
              "#bd3786"
             ],
             [
              0.5555555555555556,
              "#d8576b"
             ],
             [
              0.6666666666666666,
              "#ed7953"
             ],
             [
              0.7777777777777778,
              "#fb9f3a"
             ],
             [
              0.8888888888888888,
              "#fdca26"
             ],
             [
              1,
              "#f0f921"
             ]
            ],
            "type": "heatmap"
           }
          ],
          "heatmapgl": [
           {
            "colorbar": {
             "outlinewidth": 0,
             "ticks": ""
            },
            "colorscale": [
             [
              0,
              "#0d0887"
             ],
             [
              0.1111111111111111,
              "#46039f"
             ],
             [
              0.2222222222222222,
              "#7201a8"
             ],
             [
              0.3333333333333333,
              "#9c179e"
             ],
             [
              0.4444444444444444,
              "#bd3786"
             ],
             [
              0.5555555555555556,
              "#d8576b"
             ],
             [
              0.6666666666666666,
              "#ed7953"
             ],
             [
              0.7777777777777778,
              "#fb9f3a"
             ],
             [
              0.8888888888888888,
              "#fdca26"
             ],
             [
              1,
              "#f0f921"
             ]
            ],
            "type": "heatmapgl"
           }
          ],
          "histogram": [
           {
            "marker": {
             "pattern": {
              "fillmode": "overlay",
              "size": 10,
              "solidity": 0.2
             }
            },
            "type": "histogram"
           }
          ],
          "histogram2d": [
           {
            "colorbar": {
             "outlinewidth": 0,
             "ticks": ""
            },
            "colorscale": [
             [
              0,
              "#0d0887"
             ],
             [
              0.1111111111111111,
              "#46039f"
             ],
             [
              0.2222222222222222,
              "#7201a8"
             ],
             [
              0.3333333333333333,
              "#9c179e"
             ],
             [
              0.4444444444444444,
              "#bd3786"
             ],
             [
              0.5555555555555556,
              "#d8576b"
             ],
             [
              0.6666666666666666,
              "#ed7953"
             ],
             [
              0.7777777777777778,
              "#fb9f3a"
             ],
             [
              0.8888888888888888,
              "#fdca26"
             ],
             [
              1,
              "#f0f921"
             ]
            ],
            "type": "histogram2d"
           }
          ],
          "histogram2dcontour": [
           {
            "colorbar": {
             "outlinewidth": 0,
             "ticks": ""
            },
            "colorscale": [
             [
              0,
              "#0d0887"
             ],
             [
              0.1111111111111111,
              "#46039f"
             ],
             [
              0.2222222222222222,
              "#7201a8"
             ],
             [
              0.3333333333333333,
              "#9c179e"
             ],
             [
              0.4444444444444444,
              "#bd3786"
             ],
             [
              0.5555555555555556,
              "#d8576b"
             ],
             [
              0.6666666666666666,
              "#ed7953"
             ],
             [
              0.7777777777777778,
              "#fb9f3a"
             ],
             [
              0.8888888888888888,
              "#fdca26"
             ],
             [
              1,
              "#f0f921"
             ]
            ],
            "type": "histogram2dcontour"
           }
          ],
          "mesh3d": [
           {
            "colorbar": {
             "outlinewidth": 0,
             "ticks": ""
            },
            "type": "mesh3d"
           }
          ],
          "parcoords": [
           {
            "line": {
             "colorbar": {
              "outlinewidth": 0,
              "ticks": ""
             }
            },
            "type": "parcoords"
           }
          ],
          "pie": [
           {
            "automargin": true,
            "type": "pie"
           }
          ],
          "scatter": [
           {
            "fillpattern": {
             "fillmode": "overlay",
             "size": 10,
             "solidity": 0.2
            },
            "type": "scatter"
           }
          ],
          "scatter3d": [
           {
            "line": {
             "colorbar": {
              "outlinewidth": 0,
              "ticks": ""
             }
            },
            "marker": {
             "colorbar": {
              "outlinewidth": 0,
              "ticks": ""
             }
            },
            "type": "scatter3d"
           }
          ],
          "scattercarpet": [
           {
            "marker": {
             "colorbar": {
              "outlinewidth": 0,
              "ticks": ""
             }
            },
            "type": "scattercarpet"
           }
          ],
          "scattergeo": [
           {
            "marker": {
             "colorbar": {
              "outlinewidth": 0,
              "ticks": ""
             }
            },
            "type": "scattergeo"
           }
          ],
          "scattergl": [
           {
            "marker": {
             "colorbar": {
              "outlinewidth": 0,
              "ticks": ""
             }
            },
            "type": "scattergl"
           }
          ],
          "scattermapbox": [
           {
            "marker": {
             "colorbar": {
              "outlinewidth": 0,
              "ticks": ""
             }
            },
            "type": "scattermapbox"
           }
          ],
          "scatterpolar": [
           {
            "marker": {
             "colorbar": {
              "outlinewidth": 0,
              "ticks": ""
             }
            },
            "type": "scatterpolar"
           }
          ],
          "scatterpolargl": [
           {
            "marker": {
             "colorbar": {
              "outlinewidth": 0,
              "ticks": ""
             }
            },
            "type": "scatterpolargl"
           }
          ],
          "scatterternary": [
           {
            "marker": {
             "colorbar": {
              "outlinewidth": 0,
              "ticks": ""
             }
            },
            "type": "scatterternary"
           }
          ],
          "surface": [
           {
            "colorbar": {
             "outlinewidth": 0,
             "ticks": ""
            },
            "colorscale": [
             [
              0,
              "#0d0887"
             ],
             [
              0.1111111111111111,
              "#46039f"
             ],
             [
              0.2222222222222222,
              "#7201a8"
             ],
             [
              0.3333333333333333,
              "#9c179e"
             ],
             [
              0.4444444444444444,
              "#bd3786"
             ],
             [
              0.5555555555555556,
              "#d8576b"
             ],
             [
              0.6666666666666666,
              "#ed7953"
             ],
             [
              0.7777777777777778,
              "#fb9f3a"
             ],
             [
              0.8888888888888888,
              "#fdca26"
             ],
             [
              1,
              "#f0f921"
             ]
            ],
            "type": "surface"
           }
          ],
          "table": [
           {
            "cells": {
             "fill": {
              "color": "#EBF0F8"
             },
             "line": {
              "color": "white"
             }
            },
            "header": {
             "fill": {
              "color": "#C8D4E3"
             },
             "line": {
              "color": "white"
             }
            },
            "type": "table"
           }
          ]
         },
         "layout": {
          "annotationdefaults": {
           "arrowcolor": "#2a3f5f",
           "arrowhead": 0,
           "arrowwidth": 1
          },
          "autotypenumbers": "strict",
          "coloraxis": {
           "colorbar": {
            "outlinewidth": 0,
            "ticks": ""
           }
          },
          "colorscale": {
           "diverging": [
            [
             0,
             "#8e0152"
            ],
            [
             0.1,
             "#c51b7d"
            ],
            [
             0.2,
             "#de77ae"
            ],
            [
             0.3,
             "#f1b6da"
            ],
            [
             0.4,
             "#fde0ef"
            ],
            [
             0.5,
             "#f7f7f7"
            ],
            [
             0.6,
             "#e6f5d0"
            ],
            [
             0.7,
             "#b8e186"
            ],
            [
             0.8,
             "#7fbc41"
            ],
            [
             0.9,
             "#4d9221"
            ],
            [
             1,
             "#276419"
            ]
           ],
           "sequential": [
            [
             0,
             "#0d0887"
            ],
            [
             0.1111111111111111,
             "#46039f"
            ],
            [
             0.2222222222222222,
             "#7201a8"
            ],
            [
             0.3333333333333333,
             "#9c179e"
            ],
            [
             0.4444444444444444,
             "#bd3786"
            ],
            [
             0.5555555555555556,
             "#d8576b"
            ],
            [
             0.6666666666666666,
             "#ed7953"
            ],
            [
             0.7777777777777778,
             "#fb9f3a"
            ],
            [
             0.8888888888888888,
             "#fdca26"
            ],
            [
             1,
             "#f0f921"
            ]
           ],
           "sequentialminus": [
            [
             0,
             "#0d0887"
            ],
            [
             0.1111111111111111,
             "#46039f"
            ],
            [
             0.2222222222222222,
             "#7201a8"
            ],
            [
             0.3333333333333333,
             "#9c179e"
            ],
            [
             0.4444444444444444,
             "#bd3786"
            ],
            [
             0.5555555555555556,
             "#d8576b"
            ],
            [
             0.6666666666666666,
             "#ed7953"
            ],
            [
             0.7777777777777778,
             "#fb9f3a"
            ],
            [
             0.8888888888888888,
             "#fdca26"
            ],
            [
             1,
             "#f0f921"
            ]
           ]
          },
          "colorway": [
           "#636efa",
           "#EF553B",
           "#00cc96",
           "#ab63fa",
           "#FFA15A",
           "#19d3f3",
           "#FF6692",
           "#B6E880",
           "#FF97FF",
           "#FECB52"
          ],
          "font": {
           "color": "#2a3f5f"
          },
          "geo": {
           "bgcolor": "white",
           "lakecolor": "white",
           "landcolor": "#E5ECF6",
           "showlakes": true,
           "showland": true,
           "subunitcolor": "white"
          },
          "hoverlabel": {
           "align": "left"
          },
          "hovermode": "closest",
          "mapbox": {
           "style": "light"
          },
          "paper_bgcolor": "white",
          "plot_bgcolor": "#E5ECF6",
          "polar": {
           "angularaxis": {
            "gridcolor": "white",
            "linecolor": "white",
            "ticks": ""
           },
           "bgcolor": "#E5ECF6",
           "radialaxis": {
            "gridcolor": "white",
            "linecolor": "white",
            "ticks": ""
           }
          },
          "scene": {
           "xaxis": {
            "backgroundcolor": "#E5ECF6",
            "gridcolor": "white",
            "gridwidth": 2,
            "linecolor": "white",
            "showbackground": true,
            "ticks": "",
            "zerolinecolor": "white"
           },
           "yaxis": {
            "backgroundcolor": "#E5ECF6",
            "gridcolor": "white",
            "gridwidth": 2,
            "linecolor": "white",
            "showbackground": true,
            "ticks": "",
            "zerolinecolor": "white"
           },
           "zaxis": {
            "backgroundcolor": "#E5ECF6",
            "gridcolor": "white",
            "gridwidth": 2,
            "linecolor": "white",
            "showbackground": true,
            "ticks": "",
            "zerolinecolor": "white"
           }
          },
          "shapedefaults": {
           "line": {
            "color": "#2a3f5f"
           }
          },
          "ternary": {
           "aaxis": {
            "gridcolor": "white",
            "linecolor": "white",
            "ticks": ""
           },
           "baxis": {
            "gridcolor": "white",
            "linecolor": "white",
            "ticks": ""
           },
           "bgcolor": "#E5ECF6",
           "caxis": {
            "gridcolor": "white",
            "linecolor": "white",
            "ticks": ""
           }
          },
          "title": {
           "x": 0.05
          },
          "xaxis": {
           "automargin": true,
           "gridcolor": "white",
           "linecolor": "white",
           "ticks": "",
           "title": {
            "standoff": 15
           },
           "zerolinecolor": "white",
           "zerolinewidth": 2
          },
          "yaxis": {
           "automargin": true,
           "gridcolor": "white",
           "linecolor": "white",
           "ticks": "",
           "title": {
            "standoff": 15
           },
           "zerolinecolor": "white",
           "zerolinewidth": 2
          }
         }
        },
        "xaxis": {
         "anchor": "y",
         "domain": [
          0,
          1
         ],
         "title": {
          "text": "pos_y"
         }
        },
        "yaxis": {
         "anchor": "x",
         "domain": [
          0,
          1
         ],
         "title": {
          "text": "pos_z"
         }
        }
       }
      }
     },
     "metadata": {},
     "output_type": "display_data"
    }
   ],
   "source": [
    "px.line(df, x=\"pos_y\", y=\"pos_z\")\n",
    "# px.line_3d(df, x=\"pos_x\", y=\"pos_y\",z=\"pos_z\")"
   ]
  },
  {
   "cell_type": "code",
   "execution_count": 26,
   "metadata": {},
   "outputs": [
    {
     "data": {
      "application/vnd.plotly.v1+json": {
       "config": {
        "plotlyServerURL": "https://plot.ly"
       },
       "data": [
        {
         "hovertemplate": "timestamp=2023-05-24 13:52:11.391647<br>pos_y=%{x}<br>pos_z=%{y}<extra></extra>",
         "legendgroup": "",
         "marker": {
          "color": "#636efa",
          "symbol": "circle"
         },
         "mode": "markers",
         "name": "",
         "orientation": "v",
         "showlegend": false,
         "type": "scatter",
         "x": [
          0
         ],
         "xaxis": "x",
         "y": [
          0
         ],
         "yaxis": "y"
        }
       ],
       "frames": [
        {
         "data": [
          {
           "hovertemplate": "timestamp=2023-05-24 13:52:11.391647<br>pos_y=%{x}<br>pos_z=%{y}<extra></extra>",
           "legendgroup": "",
           "marker": {
            "color": "#636efa",
            "symbol": "circle"
           },
           "mode": "markers",
           "name": "",
           "orientation": "v",
           "showlegend": false,
           "type": "scatter",
           "x": [
            0
           ],
           "xaxis": "x",
           "y": [
            0
           ],
           "yaxis": "y"
          }
         ],
         "name": "2023-05-24 13:52:11.391647"
        },
        {
         "data": [
          {
           "hovertemplate": "timestamp=2023-05-24 13:52:11.520664<br>pos_y=%{x}<br>pos_z=%{y}<extra></extra>",
           "legendgroup": "",
           "marker": {
            "color": "#636efa",
            "symbol": "circle"
           },
           "mode": "markers",
           "name": "",
           "orientation": "v",
           "showlegend": false,
           "type": "scatter",
           "x": [
            0.01113387261419653
           ],
           "xaxis": "x",
           "y": [
            0.012968431494874472
           ],
           "yaxis": "y"
          }
         ],
         "name": "2023-05-24 13:52:11.520664"
        },
        {
         "data": [
          {
           "hovertemplate": "timestamp=2023-05-24 13:52:11.651807<br>pos_y=%{x}<br>pos_z=%{y}<extra></extra>",
           "legendgroup": "",
           "marker": {
            "color": "#636efa",
            "symbol": "circle"
           },
           "mode": "markers",
           "name": "",
           "orientation": "v",
           "showlegend": false,
           "type": "scatter",
           "x": [
            0.0313804936272451
           ],
           "xaxis": "x",
           "y": [
            0.036904323836723034
           ],
           "yaxis": "y"
          }
         ],
         "name": "2023-05-24 13:52:11.651807"
        },
        {
         "data": [
          {
           "hovertemplate": "timestamp=2023-05-24 13:52:11.786708<br>pos_y=%{x}<br>pos_z=%{y}<extra></extra>",
           "legendgroup": "",
           "marker": {
            "color": "#636efa",
            "symbol": "circle"
           },
           "mode": "markers",
           "name": "",
           "orientation": "v",
           "showlegend": false,
           "type": "scatter",
           "x": [
            0.05654728962732381
           ],
           "xaxis": "x",
           "y": [
            0.06814294951482283
           ],
           "yaxis": "y"
          }
         ],
         "name": "2023-05-24 13:52:11.786708"
        },
        {
         "data": [
          {
           "hovertemplate": "timestamp=2023-05-24 13:52:11.914416<br>pos_y=%{x}<br>pos_z=%{y}<extra></extra>",
           "legendgroup": "",
           "marker": {
            "color": "#636efa",
            "symbol": "circle"
           },
           "mode": "markers",
           "name": "",
           "orientation": "v",
           "showlegend": false,
           "type": "scatter",
           "x": [
            0.08769694272916895
           ],
           "xaxis": "x",
           "y": [
            0.1011332236811968
           ],
           "yaxis": "y"
          }
         ],
         "name": "2023-05-24 13:52:11.914416"
        },
        {
         "data": [
          {
           "hovertemplate": "timestamp=2023-05-24 13:52:12.041363<br>pos_y=%{x}<br>pos_z=%{y}<extra></extra>",
           "legendgroup": "",
           "marker": {
            "color": "#636efa",
            "symbol": "circle"
           },
           "mode": "markers",
           "name": "",
           "orientation": "v",
           "showlegend": false,
           "type": "scatter",
           "x": [
            0.12420456988527528
           ],
           "xaxis": "x",
           "y": [
            0.1338388671473717
           ],
           "yaxis": "y"
          }
         ],
         "name": "2023-05-24 13:52:12.041363"
        },
        {
         "data": [
          {
           "hovertemplate": "timestamp=2023-05-24 13:52:12.173362<br>pos_y=%{x}<br>pos_z=%{y}<extra></extra>",
           "legendgroup": "",
           "marker": {
            "color": "#636efa",
            "symbol": "circle"
           },
           "mode": "markers",
           "name": "",
           "orientation": "v",
           "showlegend": false,
           "type": "scatter",
           "x": [
            0.16307843643256087
           ],
           "xaxis": "x",
           "y": [
            0.16402967649875208
           ],
           "yaxis": "y"
          }
         ],
         "name": "2023-05-24 13:52:12.173362"
        },
        {
         "data": [
          {
           "hovertemplate": "timestamp=2023-05-24 13:52:12.302196<br>pos_y=%{x}<br>pos_z=%{y}<extra></extra>",
           "legendgroup": "",
           "marker": {
            "color": "#636efa",
            "symbol": "circle"
           },
           "mode": "markers",
           "name": "",
           "orientation": "v",
           "showlegend": false,
           "type": "scatter",
           "x": [
            0.20358484803986465
           ],
           "xaxis": "x",
           "y": [
            0.19099197949198768
           ],
           "yaxis": "y"
          }
         ],
         "name": "2023-05-24 13:52:12.302196"
        },
        {
         "data": [
          {
           "hovertemplate": "timestamp=2023-05-24 13:52:12.433154<br>pos_y=%{x}<br>pos_z=%{y}<extra></extra>",
           "legendgroup": "",
           "marker": {
            "color": "#636efa",
            "symbol": "circle"
           },
           "mode": "markers",
           "name": "",
           "orientation": "v",
           "showlegend": false,
           "type": "scatter",
           "x": [
            0.2496359058363316
           ],
           "xaxis": "x",
           "y": [
            0.2168140531098427
           ],
           "yaxis": "y"
          }
         ],
         "name": "2023-05-24 13:52:12.433154"
        },
        {
         "data": [
          {
           "hovertemplate": "timestamp=2023-05-24 13:52:12.564517<br>pos_y=%{x}<br>pos_z=%{y}<extra></extra>",
           "legendgroup": "",
           "marker": {
            "color": "#636efa",
            "symbol": "circle"
           },
           "mode": "markers",
           "name": "",
           "orientation": "v",
           "showlegend": false,
           "type": "scatter",
           "x": [
            0.294519079699997
           ],
           "xaxis": "x",
           "y": [
            0.23656300462504018
           ],
           "yaxis": "y"
          }
         ],
         "name": "2023-05-24 13:52:12.564517"
        },
        {
         "data": [
          {
           "hovertemplate": "timestamp=2023-05-24 13:52:12.692224<br>pos_y=%{x}<br>pos_z=%{y}<extra></extra>",
           "legendgroup": "",
           "marker": {
            "color": "#636efa",
            "symbol": "circle"
           },
           "mode": "markers",
           "name": "",
           "orientation": "v",
           "showlegend": false,
           "type": "scatter",
           "x": [
            0.3338762929587056
           ],
           "xaxis": "x",
           "y": [
            0.24719918013266134
           ],
           "yaxis": "y"
          }
         ],
         "name": "2023-05-24 13:52:12.692224"
        },
        {
         "data": [
          {
           "hovertemplate": "timestamp=2023-05-24 13:52:12.820066<br>pos_y=%{x}<br>pos_z=%{y}<extra></extra>",
           "legendgroup": "",
           "marker": {
            "color": "#636efa",
            "symbol": "circle"
           },
           "mode": "markers",
           "name": "",
           "orientation": "v",
           "showlegend": false,
           "type": "scatter",
           "x": [
            0.36722789423222146
           ],
           "xaxis": "x",
           "y": [
            0.24616761201308504
           ],
           "yaxis": "y"
          }
         ],
         "name": "2023-05-24 13:52:12.820066"
        },
        {
         "data": [
          {
           "hovertemplate": "timestamp=2023-05-24 13:52:12.951295<br>pos_y=%{x}<br>pos_z=%{y}<extra></extra>",
           "legendgroup": "",
           "marker": {
            "color": "#636efa",
            "symbol": "circle"
           },
           "mode": "markers",
           "name": "",
           "orientation": "v",
           "showlegend": false,
           "type": "scatter",
           "x": [
            0.3924544554523482
           ],
           "xaxis": "x",
           "y": [
            0.23326212184764084
           ],
           "yaxis": "y"
          }
         ],
         "name": "2023-05-24 13:52:12.951295"
        },
        {
         "data": [
          {
           "hovertemplate": "timestamp=2023-05-24 13:52:13.082110<br>pos_y=%{x}<br>pos_z=%{y}<extra></extra>",
           "legendgroup": "",
           "marker": {
            "color": "#636efa",
            "symbol": "circle"
           },
           "mode": "markers",
           "name": "",
           "orientation": "v",
           "showlegend": false,
           "type": "scatter",
           "x": [
            0.408785493479741
           ],
           "xaxis": "x",
           "y": [
            0.20852969568600285
           ],
           "yaxis": "y"
          }
         ],
         "name": "2023-05-24 13:52:13.082110"
        },
        {
         "data": [
          {
           "hovertemplate": "timestamp=2023-05-24 13:52:13.208994<br>pos_y=%{x}<br>pos_z=%{y}<extra></extra>",
           "legendgroup": "",
           "marker": {
            "color": "#636efa",
            "symbol": "circle"
           },
           "mode": "markers",
           "name": "",
           "orientation": "v",
           "showlegend": false,
           "type": "scatter",
           "x": [
            0.417203762244873
           ],
           "xaxis": "x",
           "y": [
            0.17197093730678603
           ],
           "yaxis": "y"
          }
         ],
         "name": "2023-05-24 13:52:13.208994"
        },
        {
         "data": [
          {
           "hovertemplate": "timestamp=2023-05-24 13:52:13.338438<br>pos_y=%{x}<br>pos_z=%{y}<extra></extra>",
           "legendgroup": "",
           "marker": {
            "color": "#636efa",
            "symbol": "circle"
           },
           "mode": "markers",
           "name": "",
           "orientation": "v",
           "showlegend": false,
           "type": "scatter",
           "x": [
            0.4152491353143098
           ],
           "xaxis": "x",
           "y": [
            0.12270678540472671
           ],
           "yaxis": "y"
          }
         ],
         "name": "2023-05-24 13:52:13.338438"
        },
        {
         "data": [
          {
           "hovertemplate": "timestamp=2023-05-24 13:52:13.469232<br>pos_y=%{x}<br>pos_z=%{y}<extra></extra>",
           "legendgroup": "",
           "marker": {
            "color": "#636efa",
            "symbol": "circle"
           },
           "mode": "markers",
           "name": "",
           "orientation": "v",
           "showlegend": false,
           "type": "scatter",
           "x": [
            0.40428560321470125
           ],
           "xaxis": "x",
           "y": [
            0.060579018334144016
           ],
           "yaxis": "y"
          }
         ],
         "name": "2023-05-24 13:52:13.469232"
        },
        {
         "data": [
          {
           "hovertemplate": "timestamp=2023-05-24 13:52:13.597706<br>pos_y=%{x}<br>pos_z=%{y}<extra></extra>",
           "legendgroup": "",
           "marker": {
            "color": "#636efa",
            "symbol": "circle"
           },
           "mode": "markers",
           "name": "",
           "orientation": "v",
           "showlegend": false,
           "type": "scatter",
           "x": [
            0.39117146454107726
           ],
           "xaxis": "x",
           "y": [
            -0.013981465538839513
           ],
           "yaxis": "y"
          }
         ],
         "name": "2023-05-24 13:52:13.597706"
        },
        {
         "data": [
          {
           "hovertemplate": "timestamp=2023-05-24 13:52:13.726025<br>pos_y=%{x}<br>pos_z=%{y}<extra></extra>",
           "legendgroup": "",
           "marker": {
            "color": "#636efa",
            "symbol": "circle"
           },
           "mode": "markers",
           "name": "",
           "orientation": "v",
           "showlegend": false,
           "type": "scatter",
           "x": [
            0.3788841612738968
           ],
           "xaxis": "x",
           "y": [
            -0.10113458608708457
           ],
           "yaxis": "y"
          }
         ],
         "name": "2023-05-24 13:52:13.726025"
        },
        {
         "data": [
          {
           "hovertemplate": "timestamp=2023-05-24 13:52:13.855184<br>pos_y=%{x}<br>pos_z=%{y}<extra></extra>",
           "legendgroup": "",
           "marker": {
            "color": "#636efa",
            "symbol": "circle"
           },
           "mode": "markers",
           "name": "",
           "orientation": "v",
           "showlegend": false,
           "type": "scatter",
           "x": [
            0.3678956024657788
           ],
           "xaxis": "x",
           "y": [
            -0.20042231830332213
           ],
           "yaxis": "y"
          }
         ],
         "name": "2023-05-24 13:52:13.855184"
        },
        {
         "data": [
          {
           "hovertemplate": "timestamp=2023-05-24 13:52:13.988957<br>pos_y=%{x}<br>pos_z=%{y}<extra></extra>",
           "legendgroup": "",
           "marker": {
            "color": "#636efa",
            "symbol": "circle"
           },
           "mode": "markers",
           "name": "",
           "orientation": "v",
           "showlegend": false,
           "type": "scatter",
           "x": [
            0.3605791545796557
           ],
           "xaxis": "x",
           "y": [
            -0.311224600740716
           ],
           "yaxis": "y"
          }
         ],
         "name": "2023-05-24 13:52:13.988957"
        },
        {
         "data": [
          {
           "hovertemplate": "timestamp=2023-05-24 13:52:14.119931<br>pos_y=%{x}<br>pos_z=%{y}<extra></extra>",
           "legendgroup": "",
           "marker": {
            "color": "#636efa",
            "symbol": "circle"
           },
           "mode": "markers",
           "name": "",
           "orientation": "v",
           "showlegend": false,
           "type": "scatter",
           "x": [
            0.35701540457849285
           ],
           "xaxis": "x",
           "y": [
            -0.4342651769542552
           ],
           "yaxis": "y"
          }
         ],
         "name": "2023-05-24 13:52:14.119931"
        },
        {
         "data": [
          {
           "hovertemplate": "timestamp=2023-05-24 13:52:14.247031<br>pos_y=%{x}<br>pos_z=%{y}<extra></extra>",
           "legendgroup": "",
           "marker": {
            "color": "#636efa",
            "symbol": "circle"
           },
           "mode": "markers",
           "name": "",
           "orientation": "v",
           "showlegend": false,
           "type": "scatter",
           "x": [
            0.3565806436392523
           ],
           "xaxis": "x",
           "y": [
            -0.5693137830312516
           ],
           "yaxis": "y"
          }
         ],
         "name": "2023-05-24 13:52:14.247031"
        },
        {
         "data": [
          {
           "hovertemplate": "timestamp=2023-05-24 13:52:14.373113<br>pos_y=%{x}<br>pos_z=%{y}<extra></extra>",
           "legendgroup": "",
           "marker": {
            "color": "#636efa",
            "symbol": "circle"
           },
           "mode": "markers",
           "name": "",
           "orientation": "v",
           "showlegend": false,
           "type": "scatter",
           "x": [
            0.3599606643878633
           ],
           "xaxis": "x",
           "y": [
            -0.7156172390932236
           ],
           "yaxis": "y"
          }
         ],
         "name": "2023-05-24 13:52:14.373113"
        },
        {
         "data": [
          {
           "hovertemplate": "timestamp=2023-05-24 13:52:14.508851<br>pos_y=%{x}<br>pos_z=%{y}<extra></extra>",
           "legendgroup": "",
           "marker": {
            "color": "#636efa",
            "symbol": "circle"
           },
           "mode": "markers",
           "name": "",
           "orientation": "v",
           "showlegend": false,
           "type": "scatter",
           "x": [
            0.3648417618528184
           ],
           "xaxis": "x",
           "y": [
            -0.871165359217094
           ],
           "yaxis": "y"
          }
         ],
         "name": "2023-05-24 13:52:14.508851"
        },
        {
         "data": [
          {
           "hovertemplate": "timestamp=2023-05-24 13:52:14.634273<br>pos_y=%{x}<br>pos_z=%{y}<extra></extra>",
           "legendgroup": "",
           "marker": {
            "color": "#636efa",
            "symbol": "circle"
           },
           "mode": "markers",
           "name": "",
           "orientation": "v",
           "showlegend": false,
           "type": "scatter",
           "x": [
            0.36954003101891614
           ],
           "xaxis": "x",
           "y": [
            -1.0360050867888646
           ],
           "yaxis": "y"
          }
         ],
         "name": "2023-05-24 13:52:14.634273"
        },
        {
         "data": [
          {
           "hovertemplate": "timestamp=2023-05-24 13:52:14.766044<br>pos_y=%{x}<br>pos_z=%{y}<extra></extra>",
           "legendgroup": "",
           "marker": {
            "color": "#636efa",
            "symbol": "circle"
           },
           "mode": "markers",
           "name": "",
           "orientation": "v",
           "showlegend": false,
           "type": "scatter",
           "x": [
            0.3706807504857013
           ],
           "xaxis": "x",
           "y": [
            -1.2109631006325778
           ],
           "yaxis": "y"
          }
         ],
         "name": "2023-05-24 13:52:14.766044"
        },
        {
         "data": [
          {
           "hovertemplate": "timestamp=2023-05-24 13:52:14.894661<br>pos_y=%{x}<br>pos_z=%{y}<extra></extra>",
           "legendgroup": "",
           "marker": {
            "color": "#636efa",
            "symbol": "circle"
           },
           "mode": "markers",
           "name": "",
           "orientation": "v",
           "showlegend": false,
           "type": "scatter",
           "x": [
            0.3638486681209761
           ],
           "xaxis": "x",
           "y": [
            -1.3957979287655888
           ],
           "yaxis": "y"
          }
         ],
         "name": "2023-05-24 13:52:14.894661"
        },
        {
         "data": [
          {
           "hovertemplate": "timestamp=2023-05-24 13:52:15.023545<br>pos_y=%{x}<br>pos_z=%{y}<extra></extra>",
           "legendgroup": "",
           "marker": {
            "color": "#636efa",
            "symbol": "circle"
           },
           "mode": "markers",
           "name": "",
           "orientation": "v",
           "showlegend": false,
           "type": "scatter",
           "x": [
            0.343751659789544
           ],
           "xaxis": "x",
           "y": [
            -1.5910175800534656
           ],
           "yaxis": "y"
          }
         ],
         "name": "2023-05-24 13:52:15.023545"
        },
        {
         "data": [
          {
           "hovertemplate": "timestamp=2023-05-24 13:52:15.152867<br>pos_y=%{x}<br>pos_z=%{y}<extra></extra>",
           "legendgroup": "",
           "marker": {
            "color": "#636efa",
            "symbol": "circle"
           },
           "mode": "markers",
           "name": "",
           "orientation": "v",
           "showlegend": false,
           "type": "scatter",
           "x": [
            0.3099891597034083
           ],
           "xaxis": "x",
           "y": [
            -1.7952523130217075
           ],
           "yaxis": "y"
          }
         ],
         "name": "2023-05-24 13:52:15.152867"
        },
        {
         "data": [
          {
           "hovertemplate": "timestamp=2023-05-24 13:52:15.283219<br>pos_y=%{x}<br>pos_z=%{y}<extra></extra>",
           "legendgroup": "",
           "marker": {
            "color": "#636efa",
            "symbol": "circle"
           },
           "mode": "markers",
           "name": "",
           "orientation": "v",
           "showlegend": false,
           "type": "scatter",
           "x": [
            0.26381595125961643
           ],
           "xaxis": "x",
           "y": [
            -2.0071098786527557
           ],
           "yaxis": "y"
          }
         ],
         "name": "2023-05-24 13:52:15.283219"
        },
        {
         "data": [
          {
           "hovertemplate": "timestamp=2023-05-24 13:52:15.412391<br>pos_y=%{x}<br>pos_z=%{y}<extra></extra>",
           "legendgroup": "",
           "marker": {
            "color": "#636efa",
            "symbol": "circle"
           },
           "mode": "markers",
           "name": "",
           "orientation": "v",
           "showlegend": false,
           "type": "scatter",
           "x": [
            0.20542257962719093
           ],
           "xaxis": "x",
           "y": [
            -2.2250428437748333
           ],
           "yaxis": "y"
          }
         ],
         "name": "2023-05-24 13:52:15.412391"
        },
        {
         "data": [
          {
           "hovertemplate": "timestamp=2023-05-24 13:52:15.548353<br>pos_y=%{x}<br>pos_z=%{y}<extra></extra>",
           "legendgroup": "",
           "marker": {
            "color": "#636efa",
            "symbol": "circle"
           },
           "mode": "markers",
           "name": "",
           "orientation": "v",
           "showlegend": false,
           "type": "scatter",
           "x": [
            0.136889222758746
           ],
           "xaxis": "x",
           "y": [
            -2.4518009028761014
           ],
           "yaxis": "y"
          }
         ],
         "name": "2023-05-24 13:52:15.548353"
        },
        {
         "data": [
          {
           "hovertemplate": "timestamp=2023-05-24 13:52:15.674939<br>pos_y=%{x}<br>pos_z=%{y}<extra></extra>",
           "legendgroup": "",
           "marker": {
            "color": "#636efa",
            "symbol": "circle"
           },
           "mode": "markers",
           "name": "",
           "orientation": "v",
           "showlegend": false,
           "type": "scatter",
           "x": [
            0.05551193752766301
           ],
           "xaxis": "x",
           "y": [
            -2.690034098487904
           ],
           "yaxis": "y"
          }
         ],
         "name": "2023-05-24 13:52:15.674939"
        },
        {
         "data": [
          {
           "hovertemplate": "timestamp=2023-05-24 13:52:15.801423<br>pos_y=%{x}<br>pos_z=%{y}<extra></extra>",
           "legendgroup": "",
           "marker": {
            "color": "#636efa",
            "symbol": "circle"
           },
           "mode": "markers",
           "name": "",
           "orientation": "v",
           "showlegend": false,
           "type": "scatter",
           "x": [
            -0.03906489484853014
           ],
           "xaxis": "x",
           "y": [
            -2.941696471628756
           ],
           "yaxis": "y"
          }
         ],
         "name": "2023-05-24 13:52:15.801423"
        },
        {
         "data": [
          {
           "hovertemplate": "timestamp=2023-05-24 13:52:15.932098<br>pos_y=%{x}<br>pos_z=%{y}<extra></extra>",
           "legendgroup": "",
           "marker": {
            "color": "#636efa",
            "symbol": "circle"
           },
           "mode": "markers",
           "name": "",
           "orientation": "v",
           "showlegend": false,
           "type": "scatter",
           "x": [
            -0.1412225982214893
           ],
           "xaxis": "x",
           "y": [
            -3.209686468215346
           ],
           "yaxis": "y"
          }
         ],
         "name": "2023-05-24 13:52:15.932098"
        },
        {
         "data": [
          {
           "hovertemplate": "timestamp=2023-05-24 13:52:16.063932<br>pos_y=%{x}<br>pos_z=%{y}<extra></extra>",
           "legendgroup": "",
           "marker": {
            "color": "#636efa",
            "symbol": "circle"
           },
           "mode": "markers",
           "name": "",
           "orientation": "v",
           "showlegend": false,
           "type": "scatter",
           "x": [
            -0.24529617928624653
           ],
           "xaxis": "x",
           "y": [
            -3.497195150347426
           ],
           "yaxis": "y"
          }
         ],
         "name": "2023-05-24 13:52:16.063932"
        },
        {
         "data": [
          {
           "hovertemplate": "timestamp=2023-05-24 13:52:16.189839<br>pos_y=%{x}<br>pos_z=%{y}<extra></extra>",
           "legendgroup": "",
           "marker": {
            "color": "#636efa",
            "symbol": "circle"
           },
           "mode": "markers",
           "name": "",
           "orientation": "v",
           "showlegend": false,
           "type": "scatter",
           "x": [
            -0.349200382096044
           ],
           "xaxis": "x",
           "y": [
            -3.809536762181834
           ],
           "yaxis": "y"
          }
         ],
         "name": "2023-05-24 13:52:16.189839"
        },
        {
         "data": [
          {
           "hovertemplate": "timestamp=2023-05-24 13:52:16.324364<br>pos_y=%{x}<br>pos_z=%{y}<extra></extra>",
           "legendgroup": "",
           "marker": {
            "color": "#636efa",
            "symbol": "circle"
           },
           "mode": "markers",
           "name": "",
           "orientation": "v",
           "showlegend": false,
           "type": "scatter",
           "x": [
            -0.45177014314493036
           ],
           "xaxis": "x",
           "y": [
            -4.151918538247559
           ],
           "yaxis": "y"
          }
         ],
         "name": "2023-05-24 13:52:16.324364"
        },
        {
         "data": [
          {
           "hovertemplate": "timestamp=2023-05-24 13:52:16.451821<br>pos_y=%{x}<br>pos_z=%{y}<extra></extra>",
           "legendgroup": "",
           "marker": {
            "color": "#636efa",
            "symbol": "circle"
           },
           "mode": "markers",
           "name": "",
           "orientation": "v",
           "showlegend": false,
           "type": "scatter",
           "x": [
            -0.5514982744602448
           ],
           "xaxis": "x",
           "y": [
            -4.530122386231942
           ],
           "yaxis": "y"
          }
         ],
         "name": "2023-05-24 13:52:16.451821"
        },
        {
         "data": [
          {
           "hovertemplate": "timestamp=2023-05-24 13:52:16.585015<br>pos_y=%{x}<br>pos_z=%{y}<extra></extra>",
           "legendgroup": "",
           "marker": {
            "color": "#636efa",
            "symbol": "circle"
           },
           "mode": "markers",
           "name": "",
           "orientation": "v",
           "showlegend": false,
           "type": "scatter",
           "x": [
            -0.6449598035272964
           ],
           "xaxis": "x",
           "y": [
            -4.948585683974036
           ],
           "yaxis": "y"
          }
         ],
         "name": "2023-05-24 13:52:16.585015"
        },
        {
         "data": [
          {
           "hovertemplate": "timestamp=2023-05-24 13:52:16.711809<br>pos_y=%{x}<br>pos_z=%{y}<extra></extra>",
           "legendgroup": "",
           "marker": {
            "color": "#636efa",
            "symbol": "circle"
           },
           "mode": "markers",
           "name": "",
           "orientation": "v",
           "showlegend": false,
           "type": "scatter",
           "x": [
            -0.7296703052743514
           ],
           "xaxis": "x",
           "y": [
            -5.411433726801104
           ],
           "yaxis": "y"
          }
         ],
         "name": "2023-05-24 13:52:16.711809"
        },
        {
         "data": [
          {
           "hovertemplate": "timestamp=2023-05-24 13:52:16.842164<br>pos_y=%{x}<br>pos_z=%{y}<extra></extra>",
           "legendgroup": "",
           "marker": {
            "color": "#636efa",
            "symbol": "circle"
           },
           "mode": "markers",
           "name": "",
           "orientation": "v",
           "showlegend": false,
           "type": "scatter",
           "x": [
            -0.8074819166853995
           ],
           "xaxis": "x",
           "y": [
            -5.9208505726220855
           ],
           "yaxis": "y"
          }
         ],
         "name": "2023-05-24 13:52:16.842164"
        },
        {
         "data": [
          {
           "hovertemplate": "timestamp=2023-05-24 13:52:16.969665<br>pos_y=%{x}<br>pos_z=%{y}<extra></extra>",
           "legendgroup": "",
           "marker": {
            "color": "#636efa",
            "symbol": "circle"
           },
           "mode": "markers",
           "name": "",
           "orientation": "v",
           "showlegend": false,
           "type": "scatter",
           "x": [
            -0.883351332724597
           ],
           "xaxis": "x",
           "y": [
            -6.479790558399711
           ],
           "yaxis": "y"
          }
         ],
         "name": "2023-05-24 13:52:16.969665"
        },
        {
         "data": [
          {
           "hovertemplate": "timestamp=2023-05-24 13:52:17.101157<br>pos_y=%{x}<br>pos_z=%{y}<extra></extra>",
           "legendgroup": "",
           "marker": {
            "color": "#636efa",
            "symbol": "circle"
           },
           "mode": "markers",
           "name": "",
           "orientation": "v",
           "showlegend": false,
           "type": "scatter",
           "x": [
            -0.9593804986260008
           ],
           "xaxis": "x",
           "y": [
            -7.090578100879096
           ],
           "yaxis": "y"
          }
         ],
         "name": "2023-05-24 13:52:17.101157"
        },
        {
         "data": [
          {
           "hovertemplate": "timestamp=2023-05-24 13:52:17.232186<br>pos_y=%{x}<br>pos_z=%{y}<extra></extra>",
           "legendgroup": "",
           "marker": {
            "color": "#636efa",
            "symbol": "circle"
           },
           "mode": "markers",
           "name": "",
           "orientation": "v",
           "showlegend": false,
           "type": "scatter",
           "x": [
            -1.037253963307523
           ],
           "xaxis": "x",
           "y": [
            -7.753847041214243
           ],
           "yaxis": "y"
          }
         ],
         "name": "2023-05-24 13:52:17.232186"
        },
        {
         "data": [
          {
           "hovertemplate": "timestamp=2023-05-24 13:52:17.356793<br>pos_y=%{x}<br>pos_z=%{y}<extra></extra>",
           "legendgroup": "",
           "marker": {
            "color": "#636efa",
            "symbol": "circle"
           },
           "mode": "markers",
           "name": "",
           "orientation": "v",
           "showlegend": false,
           "type": "scatter",
           "x": [
            -1.1204427640787533
           ],
           "xaxis": "x",
           "y": [
            -8.473384537214033
           ],
           "yaxis": "y"
          }
         ],
         "name": "2023-05-24 13:52:17.356793"
        },
        {
         "data": [
          {
           "hovertemplate": "timestamp=2023-05-24 13:52:17.487714<br>pos_y=%{x}<br>pos_z=%{y}<extra></extra>",
           "legendgroup": "",
           "marker": {
            "color": "#636efa",
            "symbol": "circle"
           },
           "mode": "markers",
           "name": "",
           "orientation": "v",
           "showlegend": false,
           "type": "scatter",
           "x": [
            -1.2095145436272374
           ],
           "xaxis": "x",
           "y": [
            -9.250468961566366
           ],
           "yaxis": "y"
          }
         ],
         "name": "2023-05-24 13:52:17.487714"
        },
        {
         "data": [
          {
           "hovertemplate": "timestamp=2023-05-24 13:52:17.617107<br>pos_y=%{x}<br>pos_z=%{y}<extra></extra>",
           "legendgroup": "",
           "marker": {
            "color": "#636efa",
            "symbol": "circle"
           },
           "mode": "markers",
           "name": "",
           "orientation": "v",
           "showlegend": false,
           "type": "scatter",
           "x": [
            -1.3097271726069581
           ],
           "xaxis": "x",
           "y": [
            -10.081489794075011
           ],
           "yaxis": "y"
          }
         ],
         "name": "2023-05-24 13:52:17.617107"
        },
        {
         "data": [
          {
           "hovertemplate": "timestamp=2023-05-24 13:52:17.745678<br>pos_y=%{x}<br>pos_z=%{y}<extra></extra>",
           "legendgroup": "",
           "marker": {
            "color": "#636efa",
            "symbol": "circle"
           },
           "mode": "markers",
           "name": "",
           "orientation": "v",
           "showlegend": false,
           "type": "scatter",
           "x": [
            -1.4253216080955857
           ],
           "xaxis": "x",
           "y": [
            -10.962226191963973
           ],
           "yaxis": "y"
          }
         ],
         "name": "2023-05-24 13:52:17.745678"
        },
        {
         "data": [
          {
           "hovertemplate": "timestamp=2023-05-24 13:52:17.875636<br>pos_y=%{x}<br>pos_z=%{y}<extra></extra>",
           "legendgroup": "",
           "marker": {
            "color": "#636efa",
            "symbol": "circle"
           },
           "mode": "markers",
           "name": "",
           "orientation": "v",
           "showlegend": false,
           "type": "scatter",
           "x": [
            -1.5464855653723093
           ],
           "xaxis": "x",
           "y": [
            -11.89194399021846
           ],
           "yaxis": "y"
          }
         ],
         "name": "2023-05-24 13:52:17.875636"
        },
        {
         "data": [
          {
           "hovertemplate": "timestamp=2023-05-24 13:52:18.007013<br>pos_y=%{x}<br>pos_z=%{y}<extra></extra>",
           "legendgroup": "",
           "marker": {
            "color": "#636efa",
            "symbol": "circle"
           },
           "mode": "markers",
           "name": "",
           "orientation": "v",
           "showlegend": false,
           "type": "scatter",
           "x": [
            -1.6587533122058185
           ],
           "xaxis": "x",
           "y": [
            -12.871171969901157
           ],
           "yaxis": "y"
          }
         ],
         "name": "2023-05-24 13:52:18.007013"
        },
        {
         "data": [
          {
           "hovertemplate": "timestamp=2023-05-24 13:52:18.139500<br>pos_y=%{x}<br>pos_z=%{y}<extra></extra>",
           "legendgroup": "",
           "marker": {
            "color": "#636efa",
            "symbol": "circle"
           },
           "mode": "markers",
           "name": "",
           "orientation": "v",
           "showlegend": false,
           "type": "scatter",
           "x": [
            -1.7568435108295286
           ],
           "xaxis": "x",
           "y": [
            -13.900939443889476
           ],
           "yaxis": "y"
          }
         ],
         "name": "2023-05-24 13:52:18.139500"
        },
        {
         "data": [
          {
           "hovertemplate": "timestamp=2023-05-24 13:52:18.266519<br>pos_y=%{x}<br>pos_z=%{y}<extra></extra>",
           "legendgroup": "",
           "marker": {
            "color": "#636efa",
            "symbol": "circle"
           },
           "mode": "markers",
           "name": "",
           "orientation": "v",
           "showlegend": false,
           "type": "scatter",
           "x": [
            -1.839443015042499
           ],
           "xaxis": "x",
           "y": [
            -14.983154230393547
           ],
           "yaxis": "y"
          }
         ],
         "name": "2023-05-24 13:52:18.266519"
        },
        {
         "data": [
          {
           "hovertemplate": "timestamp=2023-05-24 13:52:18.394417<br>pos_y=%{x}<br>pos_z=%{y}<extra></extra>",
           "legendgroup": "",
           "marker": {
            "color": "#636efa",
            "symbol": "circle"
           },
           "mode": "markers",
           "name": "",
           "orientation": "v",
           "showlegend": false,
           "type": "scatter",
           "x": [
            -1.9004110719122773
           ],
           "xaxis": "x",
           "y": [
            -16.113596190156457
           ],
           "yaxis": "y"
          }
         ],
         "name": "2023-05-24 13:52:18.394417"
        },
        {
         "data": [
          {
           "hovertemplate": "timestamp=2023-05-24 13:52:18.527126<br>pos_y=%{x}<br>pos_z=%{y}<extra></extra>",
           "legendgroup": "",
           "marker": {
            "color": "#636efa",
            "symbol": "circle"
           },
           "mode": "markers",
           "name": "",
           "orientation": "v",
           "showlegend": false,
           "type": "scatter",
           "x": [
            -1.9344714044371163
           ],
           "xaxis": "x",
           "y": [
            -17.28617894010241
           ],
           "yaxis": "y"
          }
         ],
         "name": "2023-05-24 13:52:18.527126"
        },
        {
         "data": [
          {
           "hovertemplate": "timestamp=2023-05-24 13:52:18.655824<br>pos_y=%{x}<br>pos_z=%{y}<extra></extra>",
           "legendgroup": "",
           "marker": {
            "color": "#636efa",
            "symbol": "circle"
           },
           "mode": "markers",
           "name": "",
           "orientation": "v",
           "showlegend": false,
           "type": "scatter",
           "x": [
            -1.9405108308289893
           ],
           "xaxis": "x",
           "y": [
            -18.49741343826436
           ],
           "yaxis": "y"
          }
         ],
         "name": "2023-05-24 13:52:18.655824"
        },
        {
         "data": [
          {
           "hovertemplate": "timestamp=2023-05-24 13:52:18.785476<br>pos_y=%{x}<br>pos_z=%{y}<extra></extra>",
           "legendgroup": "",
           "marker": {
            "color": "#636efa",
            "symbol": "circle"
           },
           "mode": "markers",
           "name": "",
           "orientation": "v",
           "showlegend": false,
           "type": "scatter",
           "x": [
            -1.9114839900442009
           ],
           "xaxis": "x",
           "y": [
            -19.743835685405866
           ],
           "yaxis": "y"
          }
         ],
         "name": "2023-05-24 13:52:18.785476"
        },
        {
         "data": [
          {
           "hovertemplate": "timestamp=2023-05-24 13:52:18.916053<br>pos_y=%{x}<br>pos_z=%{y}<extra></extra>",
           "legendgroup": "",
           "marker": {
            "color": "#636efa",
            "symbol": "circle"
           },
           "mode": "markers",
           "name": "",
           "orientation": "v",
           "showlegend": false,
           "type": "scatter",
           "x": [
            -1.8471275610953681
           ],
           "xaxis": "x",
           "y": [
            -21.021307556770253
           ],
           "yaxis": "y"
          }
         ],
         "name": "2023-05-24 13:52:18.916053"
        },
        {
         "data": [
          {
           "hovertemplate": "timestamp=2023-05-24 13:52:19.045550<br>pos_y=%{x}<br>pos_z=%{y}<extra></extra>",
           "legendgroup": "",
           "marker": {
            "color": "#636efa",
            "symbol": "circle"
           },
           "mode": "markers",
           "name": "",
           "orientation": "v",
           "showlegend": false,
           "type": "scatter",
           "x": [
            -1.7612489777463307
           ],
           "xaxis": "x",
           "y": [
            -22.3236920686408
           ],
           "yaxis": "y"
          }
         ],
         "name": "2023-05-24 13:52:19.045550"
        },
        {
         "data": [
          {
           "hovertemplate": "timestamp=2023-05-24 13:52:19.176565<br>pos_y=%{x}<br>pos_z=%{y}<extra></extra>",
           "legendgroup": "",
           "marker": {
            "color": "#636efa",
            "symbol": "circle"
           },
           "mode": "markers",
           "name": "",
           "orientation": "v",
           "showlegend": false,
           "type": "scatter",
           "x": [
            -1.6617007058357032
           ],
           "xaxis": "x",
           "y": [
            -23.645838267551365
           ],
           "yaxis": "y"
          }
         ],
         "name": "2023-05-24 13:52:19.176565"
        },
        {
         "data": [
          {
           "hovertemplate": "timestamp=2023-05-24 13:52:19.305969<br>pos_y=%{x}<br>pos_z=%{y}<extra></extra>",
           "legendgroup": "",
           "marker": {
            "color": "#636efa",
            "symbol": "circle"
           },
           "mode": "markers",
           "name": "",
           "orientation": "v",
           "showlegend": false,
           "type": "scatter",
           "x": [
            -1.547182746210179
           ],
           "xaxis": "x",
           "y": [
            -24.98456996713557
           ],
           "yaxis": "y"
          }
         ],
         "name": "2023-05-24 13:52:19.305969"
        },
        {
         "data": [
          {
           "hovertemplate": "timestamp=2023-05-24 13:52:19.434095<br>pos_y=%{x}<br>pos_z=%{y}<extra></extra>",
           "legendgroup": "",
           "marker": {
            "color": "#636efa",
            "symbol": "circle"
           },
           "mode": "markers",
           "name": "",
           "orientation": "v",
           "showlegend": false,
           "type": "scatter",
           "x": [
            -1.4174520621731799
           ],
           "xaxis": "x",
           "y": [
            -26.338796990983
           ],
           "yaxis": "y"
          }
         ],
         "name": "2023-05-24 13:52:19.434095"
        },
        {
         "data": [
          {
           "hovertemplate": "timestamp=2023-05-24 13:52:19.562676<br>pos_y=%{x}<br>pos_z=%{y}<extra></extra>",
           "legendgroup": "",
           "marker": {
            "color": "#636efa",
            "symbol": "circle"
           },
           "mode": "markers",
           "name": "",
           "orientation": "v",
           "showlegend": false,
           "type": "scatter",
           "x": [
            -1.277140407954009
           ],
           "xaxis": "x",
           "y": [
            -27.712510732564173
           ],
           "yaxis": "y"
          }
         ],
         "name": "2023-05-24 13:52:19.562676"
        },
        {
         "data": [
          {
           "hovertemplate": "timestamp=2023-05-24 13:52:19.695088<br>pos_y=%{x}<br>pos_z=%{y}<extra></extra>",
           "legendgroup": "",
           "marker": {
            "color": "#636efa",
            "symbol": "circle"
           },
           "mode": "markers",
           "name": "",
           "orientation": "v",
           "showlegend": false,
           "type": "scatter",
           "x": [
            -1.1299153143006673
           ],
           "xaxis": "x",
           "y": [
            -29.111471039242655
           ],
           "yaxis": "y"
          }
         ],
         "name": "2023-05-24 13:52:19.695088"
        },
        {
         "data": [
          {
           "hovertemplate": "timestamp=2023-05-24 13:52:19.822620<br>pos_y=%{x}<br>pos_z=%{y}<extra></extra>",
           "legendgroup": "",
           "marker": {
            "color": "#636efa",
            "symbol": "circle"
           },
           "mode": "markers",
           "name": "",
           "orientation": "v",
           "showlegend": false,
           "type": "scatter",
           "x": [
            -0.9794350347965117
           ],
           "xaxis": "x",
           "y": [
            -30.539814179525113
           ],
           "yaxis": "y"
          }
         ],
         "name": "2023-05-24 13:52:19.822620"
        },
        {
         "data": [
          {
           "hovertemplate": "timestamp=2023-05-24 13:52:19.950858<br>pos_y=%{x}<br>pos_z=%{y}<extra></extra>",
           "legendgroup": "",
           "marker": {
            "color": "#636efa",
            "symbol": "circle"
           },
           "mode": "markers",
           "name": "",
           "orientation": "v",
           "showlegend": false,
           "type": "scatter",
           "x": [
            -0.8260273969642438
           ],
           "xaxis": "x",
           "y": [
            -32.00287049881339
           ],
           "yaxis": "y"
          }
         ],
         "name": "2023-05-24 13:52:19.950858"
        },
        {
         "data": [
          {
           "hovertemplate": "timestamp=2023-05-24 13:52:20.086607<br>pos_y=%{x}<br>pos_z=%{y}<extra></extra>",
           "legendgroup": "",
           "marker": {
            "color": "#636efa",
            "symbol": "circle"
           },
           "mode": "markers",
           "name": "",
           "orientation": "v",
           "showlegend": false,
           "type": "scatter",
           "x": [
            -0.662428439626145
           ],
           "xaxis": "x",
           "y": [
            -33.5049407831904
           ],
           "yaxis": "y"
          }
         ],
         "name": "2023-05-24 13:52:20.086607"
        },
        {
         "data": [
          {
           "hovertemplate": "timestamp=2023-05-24 13:52:20.210072<br>pos_y=%{x}<br>pos_z=%{y}<extra></extra>",
           "legendgroup": "",
           "marker": {
            "color": "#636efa",
            "symbol": "circle"
           },
           "mode": "markers",
           "name": "",
           "orientation": "v",
           "showlegend": false,
           "type": "scatter",
           "x": [
            -0.4819306176182674
           ],
           "xaxis": "x",
           "y": [
            -35.048795798735725
           ],
           "yaxis": "y"
          }
         ],
         "name": "2023-05-24 13:52:20.210072"
        },
        {
         "data": [
          {
           "hovertemplate": "timestamp=2023-05-24 13:52:20.344355<br>pos_y=%{x}<br>pos_z=%{y}<extra></extra>",
           "legendgroup": "",
           "marker": {
            "color": "#636efa",
            "symbol": "circle"
           },
           "mode": "markers",
           "name": "",
           "orientation": "v",
           "showlegend": false,
           "type": "scatter",
           "x": [
            -0.2836819585231146
           ],
           "xaxis": "x",
           "y": [
            -36.633803895857966
           ],
           "yaxis": "y"
          }
         ],
         "name": "2023-05-24 13:52:20.344355"
        },
        {
         "data": [
          {
           "hovertemplate": "timestamp=2023-05-24 13:52:20.472593<br>pos_y=%{x}<br>pos_z=%{y}<extra></extra>",
           "legendgroup": "",
           "marker": {
            "color": "#636efa",
            "symbol": "circle"
           },
           "mode": "markers",
           "name": "",
           "orientation": "v",
           "showlegend": false,
           "type": "scatter",
           "x": [
            -0.07184431836628402
           ],
           "xaxis": "x",
           "y": [
            -38.261776387446275
           ],
           "yaxis": "y"
          }
         ],
         "name": "2023-05-24 13:52:20.472593"
        },
        {
         "data": [
          {
           "hovertemplate": "timestamp=2023-05-24 13:52:20.602935<br>pos_y=%{x}<br>pos_z=%{y}<extra></extra>",
           "legendgroup": "",
           "marker": {
            "color": "#636efa",
            "symbol": "circle"
           },
           "mode": "markers",
           "name": "",
           "orientation": "v",
           "showlegend": false,
           "type": "scatter",
           "x": [
            0.15054461593994986
           ],
           "xaxis": "x",
           "y": [
            -39.93717404891594
           ],
           "yaxis": "y"
          }
         ],
         "name": "2023-05-24 13:52:20.602935"
        },
        {
         "data": [
          {
           "hovertemplate": "timestamp=2023-05-24 13:52:20.734394<br>pos_y=%{x}<br>pos_z=%{y}<extra></extra>",
           "legendgroup": "",
           "marker": {
            "color": "#636efa",
            "symbol": "circle"
           },
           "mode": "markers",
           "name": "",
           "orientation": "v",
           "showlegend": false,
           "type": "scatter",
           "x": [
            0.3829510996137665
           ],
           "xaxis": "x",
           "y": [
            -41.659553122751234
           ],
           "yaxis": "y"
          }
         ],
         "name": "2023-05-24 13:52:20.734394"
        },
        {
         "data": [
          {
           "hovertemplate": "timestamp=2023-05-24 13:52:20.861201<br>pos_y=%{x}<br>pos_z=%{y}<extra></extra>",
           "legendgroup": "",
           "marker": {
            "color": "#636efa",
            "symbol": "circle"
           },
           "mode": "markers",
           "name": "",
           "orientation": "v",
           "showlegend": false,
           "type": "scatter",
           "x": [
            0.6224984764872565
           ],
           "xaxis": "x",
           "y": [
            -43.42935416115989
           ],
           "yaxis": "y"
          }
         ],
         "name": "2023-05-24 13:52:20.861201"
        },
        {
         "data": [
          {
           "hovertemplate": "timestamp=2023-05-24 13:52:20.990362<br>pos_y=%{x}<br>pos_z=%{y}<extra></extra>",
           "legendgroup": "",
           "marker": {
            "color": "#636efa",
            "symbol": "circle"
           },
           "mode": "markers",
           "name": "",
           "orientation": "v",
           "showlegend": false,
           "type": "scatter",
           "x": [
            0.8633632318347874
           ],
           "xaxis": "x",
           "y": [
            -45.246779637243606
           ],
           "yaxis": "y"
          }
         ],
         "name": "2023-05-24 13:52:20.990362"
        },
        {
         "data": [
          {
           "hovertemplate": "timestamp=2023-05-24 13:52:21.122396<br>pos_y=%{x}<br>pos_z=%{y}<extra></extra>",
           "legendgroup": "",
           "marker": {
            "color": "#636efa",
            "symbol": "circle"
           },
           "mode": "markers",
           "name": "",
           "orientation": "v",
           "showlegend": false,
           "type": "scatter",
           "x": [
            1.1031605984932256
           ],
           "xaxis": "x",
           "y": [
            -47.11232664904998
           ],
           "yaxis": "y"
          }
         ],
         "name": "2023-05-24 13:52:21.122396"
        },
        {
         "data": [
          {
           "hovertemplate": "timestamp=2023-05-24 13:52:21.250852<br>pos_y=%{x}<br>pos_z=%{y}<extra></extra>",
           "legendgroup": "",
           "marker": {
            "color": "#636efa",
            "symbol": "circle"
           },
           "mode": "markers",
           "name": "",
           "orientation": "v",
           "showlegend": false,
           "type": "scatter",
           "x": [
            1.339397854443579
           ],
           "xaxis": "x",
           "y": [
            -49.02324200084865
           ],
           "yaxis": "y"
          }
         ],
         "name": "2023-05-24 13:52:21.250852"
        },
        {
         "data": [
          {
           "hovertemplate": "timestamp=2023-05-24 13:52:21.379459<br>pos_y=%{x}<br>pos_z=%{y}<extra></extra>",
           "legendgroup": "",
           "marker": {
            "color": "#636efa",
            "symbol": "circle"
           },
           "mode": "markers",
           "name": "",
           "orientation": "v",
           "showlegend": false,
           "type": "scatter",
           "x": [
            1.5712836791519298
           ],
           "xaxis": "x",
           "y": [
            -50.97366247159312
           ],
           "yaxis": "y"
          }
         ],
         "name": "2023-05-24 13:52:21.379459"
        },
        {
         "data": [
          {
           "hovertemplate": "timestamp=2023-05-24 13:52:21.513279<br>pos_y=%{x}<br>pos_z=%{y}<extra></extra>",
           "legendgroup": "",
           "marker": {
            "color": "#636efa",
            "symbol": "circle"
           },
           "mode": "markers",
           "name": "",
           "orientation": "v",
           "showlegend": false,
           "type": "scatter",
           "x": [
            1.80309403079562
           ],
           "xaxis": "x",
           "y": [
            -52.95605281439263
           ],
           "yaxis": "y"
          }
         ],
         "name": "2023-05-24 13:52:21.513279"
        },
        {
         "data": [
          {
           "hovertemplate": "timestamp=2023-05-24 13:52:21.640850<br>pos_y=%{x}<br>pos_z=%{y}<extra></extra>",
           "legendgroup": "",
           "marker": {
            "color": "#636efa",
            "symbol": "circle"
           },
           "mode": "markers",
           "name": "",
           "orientation": "v",
           "showlegend": false,
           "type": "scatter",
           "x": [
            2.0369294380008856
           ],
           "xaxis": "x",
           "y": [
            -54.959189589101555
           ],
           "yaxis": "y"
          }
         ],
         "name": "2023-05-24 13:52:21.640850"
        },
        {
         "data": [
          {
           "hovertemplate": "timestamp=2023-05-24 13:52:21.773563<br>pos_y=%{x}<br>pos_z=%{y}<extra></extra>",
           "legendgroup": "",
           "marker": {
            "color": "#636efa",
            "symbol": "circle"
           },
           "mode": "markers",
           "name": "",
           "orientation": "v",
           "showlegend": false,
           "type": "scatter",
           "x": [
            2.2738834804169556
           ],
           "xaxis": "x",
           "y": [
            -56.978079609526624
           ],
           "yaxis": "y"
          }
         ],
         "name": "2023-05-24 13:52:21.773563"
        },
        {
         "data": [
          {
           "hovertemplate": "timestamp=2023-05-24 13:52:21.899257<br>pos_y=%{x}<br>pos_z=%{y}<extra></extra>",
           "legendgroup": "",
           "marker": {
            "color": "#636efa",
            "symbol": "circle"
           },
           "mode": "markers",
           "name": "",
           "orientation": "v",
           "showlegend": false,
           "type": "scatter",
           "x": [
            2.5185251988473665
           ],
           "xaxis": "x",
           "y": [
            -59.010291023093714
           ],
           "yaxis": "y"
          }
         ],
         "name": "2023-05-24 13:52:21.899257"
        },
        {
         "data": [
          {
           "hovertemplate": "timestamp=2023-05-24 13:52:22.034329<br>pos_y=%{x}<br>pos_z=%{y}<extra></extra>",
           "legendgroup": "",
           "marker": {
            "color": "#636efa",
            "symbol": "circle"
           },
           "mode": "markers",
           "name": "",
           "orientation": "v",
           "showlegend": false,
           "type": "scatter",
           "x": [
            2.776272157814325
           ],
           "xaxis": "x",
           "y": [
            -61.05470626816758
           ],
           "yaxis": "y"
          }
         ],
         "name": "2023-05-24 13:52:22.034329"
        },
        {
         "data": [
          {
           "hovertemplate": "timestamp=2023-05-24 13:52:22.163568<br>pos_y=%{x}<br>pos_z=%{y}<extra></extra>",
           "legendgroup": "",
           "marker": {
            "color": "#636efa",
            "symbol": "circle"
           },
           "mode": "markers",
           "name": "",
           "orientation": "v",
           "showlegend": false,
           "type": "scatter",
           "x": [
            3.048033441407031
           ],
           "xaxis": "x",
           "y": [
            -63.10850537986225
           ],
           "yaxis": "y"
          }
         ],
         "name": "2023-05-24 13:52:22.163568"
        },
        {
         "data": [
          {
           "hovertemplate": "timestamp=2023-05-24 13:52:22.293827<br>pos_y=%{x}<br>pos_z=%{y}<extra></extra>",
           "legendgroup": "",
           "marker": {
            "color": "#636efa",
            "symbol": "circle"
           },
           "mode": "markers",
           "name": "",
           "orientation": "v",
           "showlegend": false,
           "type": "scatter",
           "x": [
            3.3323210984709504
           ],
           "xaxis": "x",
           "y": [
            -65.16774070923731
           ],
           "yaxis": "y"
          }
         ],
         "name": "2023-05-24 13:52:22.293827"
        },
        {
         "data": [
          {
           "hovertemplate": "timestamp=2023-05-24 13:52:22.420817<br>pos_y=%{x}<br>pos_z=%{y}<extra></extra>",
           "legendgroup": "",
           "marker": {
            "color": "#636efa",
            "symbol": "circle"
           },
           "mode": "markers",
           "name": "",
           "orientation": "v",
           "showlegend": false,
           "type": "scatter",
           "x": [
            3.627151433750616
           ],
           "xaxis": "x",
           "y": [
            -67.23554342857209
           ],
           "yaxis": "y"
          }
         ],
         "name": "2023-05-24 13:52:22.420817"
        },
        {
         "data": [
          {
           "hovertemplate": "timestamp=2023-05-24 13:52:22.550565<br>pos_y=%{x}<br>pos_z=%{y}<extra></extra>",
           "legendgroup": "",
           "marker": {
            "color": "#636efa",
            "symbol": "circle"
           },
           "mode": "markers",
           "name": "",
           "orientation": "v",
           "showlegend": false,
           "type": "scatter",
           "x": [
            3.929603356483752
           ],
           "xaxis": "x",
           "y": [
            -69.3138720217727
           ],
           "yaxis": "y"
          }
         ],
         "name": "2023-05-24 13:52:22.550565"
        },
        {
         "data": [
          {
           "hovertemplate": "timestamp=2023-05-24 13:52:22.683951<br>pos_y=%{x}<br>pos_z=%{y}<extra></extra>",
           "legendgroup": "",
           "marker": {
            "color": "#636efa",
            "symbol": "circle"
           },
           "mode": "markers",
           "name": "",
           "orientation": "v",
           "showlegend": false,
           "type": "scatter",
           "x": [
            4.237910854243182
           ],
           "xaxis": "x",
           "y": [
            -71.40525706296835
           ],
           "yaxis": "y"
          }
         ],
         "name": "2023-05-24 13:52:22.683951"
        },
        {
         "data": [
          {
           "hovertemplate": "timestamp=2023-05-24 13:52:22.811706<br>pos_y=%{x}<br>pos_z=%{y}<extra></extra>",
           "legendgroup": "",
           "marker": {
            "color": "#636efa",
            "symbol": "circle"
           },
           "mode": "markers",
           "name": "",
           "orientation": "v",
           "showlegend": false,
           "type": "scatter",
           "x": [
            4.554402531058967
           ],
           "xaxis": "x",
           "y": [
            -73.5091413199446
           ],
           "yaxis": "y"
          }
         ],
         "name": "2023-05-24 13:52:22.811706"
        },
        {
         "data": [
          {
           "hovertemplate": "timestamp=2023-05-24 13:52:22.942181<br>pos_y=%{x}<br>pos_z=%{y}<extra></extra>",
           "legendgroup": "",
           "marker": {
            "color": "#636efa",
            "symbol": "circle"
           },
           "mode": "markers",
           "name": "",
           "orientation": "v",
           "showlegend": false,
           "type": "scatter",
           "x": [
            4.8798690218056215
           ],
           "xaxis": "x",
           "y": [
            -75.62218280527125
           ],
           "yaxis": "y"
          }
         ],
         "name": "2023-05-24 13:52:22.942181"
        },
        {
         "data": [
          {
           "hovertemplate": "timestamp=2023-05-24 13:52:23.072496<br>pos_y=%{x}<br>pos_z=%{y}<extra></extra>",
           "legendgroup": "",
           "marker": {
            "color": "#636efa",
            "symbol": "circle"
           },
           "mode": "markers",
           "name": "",
           "orientation": "v",
           "showlegend": false,
           "type": "scatter",
           "x": [
            5.209362938880441
           ],
           "xaxis": "x",
           "y": [
            -77.73972504376742
           ],
           "yaxis": "y"
          }
         ],
         "name": "2023-05-24 13:52:23.072496"
        },
        {
         "data": [
          {
           "hovertemplate": "timestamp=2023-05-24 13:52:23.203121<br>pos_y=%{x}<br>pos_z=%{y}<extra></extra>",
           "legendgroup": "",
           "marker": {
            "color": "#636efa",
            "symbol": "circle"
           },
           "mode": "markers",
           "name": "",
           "orientation": "v",
           "showlegend": false,
           "type": "scatter",
           "x": [
            5.532747266087547
           ],
           "xaxis": "x",
           "y": [
            -79.85924005609256
           ],
           "yaxis": "y"
          }
         ],
         "name": "2023-05-24 13:52:23.203121"
        },
        {
         "data": [
          {
           "hovertemplate": "timestamp=2023-05-24 13:52:23.331887<br>pos_y=%{x}<br>pos_z=%{y}<extra></extra>",
           "legendgroup": "",
           "marker": {
            "color": "#636efa",
            "symbol": "circle"
           },
           "mode": "markers",
           "name": "",
           "orientation": "v",
           "showlegend": false,
           "type": "scatter",
           "x": [
            5.849462961519943
           ],
           "xaxis": "x",
           "y": [
            -81.98507769944365
           ],
           "yaxis": "y"
          }
         ],
         "name": "2023-05-24 13:52:23.331887"
        },
        {
         "data": [
          {
           "hovertemplate": "timestamp=2023-05-24 13:52:23.464326<br>pos_y=%{x}<br>pos_z=%{y}<extra></extra>",
           "legendgroup": "",
           "marker": {
            "color": "#636efa",
            "symbol": "circle"
           },
           "mode": "markers",
           "name": "",
           "orientation": "v",
           "showlegend": false,
           "type": "scatter",
           "x": [
            6.167590242075836
           ],
           "xaxis": "x",
           "y": [
            -84.11585033459164
           ],
           "yaxis": "y"
          }
         ],
         "name": "2023-05-24 13:52:23.464326"
        },
        {
         "data": [
          {
           "hovertemplate": "timestamp=2023-05-24 13:52:23.592470<br>pos_y=%{x}<br>pos_z=%{y}<extra></extra>",
           "legendgroup": "",
           "marker": {
            "color": "#636efa",
            "symbol": "circle"
           },
           "mode": "markers",
           "name": "",
           "orientation": "v",
           "showlegend": false,
           "type": "scatter",
           "x": [
            6.487423410706954
           ],
           "xaxis": "x",
           "y": [
            -86.24794115755746
           ],
           "yaxis": "y"
          }
         ],
         "name": "2023-05-24 13:52:23.592470"
        },
        {
         "data": [
          {
           "hovertemplate": "timestamp=2023-05-24 13:52:23.719308<br>pos_y=%{x}<br>pos_z=%{y}<extra></extra>",
           "legendgroup": "",
           "marker": {
            "color": "#636efa",
            "symbol": "circle"
           },
           "mode": "markers",
           "name": "",
           "orientation": "v",
           "showlegend": false,
           "type": "scatter",
           "x": [
            6.819363853168037
           ],
           "xaxis": "x",
           "y": [
            -88.3759539790526
           ],
           "yaxis": "y"
          }
         ],
         "name": "2023-05-24 13:52:23.719308"
        },
        {
         "data": [
          {
           "hovertemplate": "timestamp=2023-05-24 13:52:23.850855<br>pos_y=%{x}<br>pos_z=%{y}<extra></extra>",
           "legendgroup": "",
           "marker": {
            "color": "#636efa",
            "symbol": "circle"
           },
           "mode": "markers",
           "name": "",
           "orientation": "v",
           "showlegend": false,
           "type": "scatter",
           "x": [
            7.171032017527772
           ],
           "xaxis": "x",
           "y": [
            -90.4924618895211
           ],
           "yaxis": "y"
          }
         ],
         "name": "2023-05-24 13:52:23.850855"
        },
        {
         "data": [
          {
           "hovertemplate": "timestamp=2023-05-24 13:52:23.981894<br>pos_y=%{x}<br>pos_z=%{y}<extra></extra>",
           "legendgroup": "",
           "marker": {
            "color": "#636efa",
            "symbol": "circle"
           },
           "mode": "markers",
           "name": "",
           "orientation": "v",
           "showlegend": false,
           "type": "scatter",
           "x": [
            7.533925990016487
           ],
           "xaxis": "x",
           "y": [
            -92.59352599894135
           ],
           "yaxis": "y"
          }
         ],
         "name": "2023-05-24 13:52:23.981894"
        },
        {
         "data": [
          {
           "hovertemplate": "timestamp=2023-05-24 13:52:24.108448<br>pos_y=%{x}<br>pos_z=%{y}<extra></extra>",
           "legendgroup": "",
           "marker": {
            "color": "#636efa",
            "symbol": "circle"
           },
           "mode": "markers",
           "name": "",
           "orientation": "v",
           "showlegend": false,
           "type": "scatter",
           "x": [
            7.9113967950668185
           ],
           "xaxis": "x",
           "y": [
            -94.6749415920873
           ],
           "yaxis": "y"
          }
         ],
         "name": "2023-05-24 13:52:24.108448"
        },
        {
         "data": [
          {
           "hovertemplate": "timestamp=2023-05-24 13:52:24.241877<br>pos_y=%{x}<br>pos_z=%{y}<extra></extra>",
           "legendgroup": "",
           "marker": {
            "color": "#636efa",
            "symbol": "circle"
           },
           "mode": "markers",
           "name": "",
           "orientation": "v",
           "showlegend": false,
           "type": "scatter",
           "x": [
            8.30582354623964
           ],
           "xaxis": "x",
           "y": [
            -96.72658170921378
           ],
           "yaxis": "y"
          }
         ],
         "name": "2023-05-24 13:52:24.241877"
        },
        {
         "data": [
          {
           "hovertemplate": "timestamp=2023-05-24 13:52:24.365569<br>pos_y=%{x}<br>pos_z=%{y}<extra></extra>",
           "legendgroup": "",
           "marker": {
            "color": "#636efa",
            "symbol": "circle"
           },
           "mode": "markers",
           "name": "",
           "orientation": "v",
           "showlegend": false,
           "type": "scatter",
           "x": [
            8.70757749649924
           ],
           "xaxis": "x",
           "y": [
            -98.73610066978337
           ],
           "yaxis": "y"
          }
         ],
         "name": "2023-05-24 13:52:24.365569"
        },
        {
         "data": [
          {
           "hovertemplate": "timestamp=2023-05-24 13:52:24.494692<br>pos_y=%{x}<br>pos_z=%{y}<extra></extra>",
           "legendgroup": "",
           "marker": {
            "color": "#636efa",
            "symbol": "circle"
           },
           "mode": "markers",
           "name": "",
           "orientation": "v",
           "showlegend": false,
           "type": "scatter",
           "x": [
            9.11065334460644
           ],
           "xaxis": "x",
           "y": [
            -100.69557627542389
           ],
           "yaxis": "y"
          }
         ],
         "name": "2023-05-24 13:52:24.494692"
        },
        {
         "data": [
          {
           "hovertemplate": "timestamp=2023-05-24 13:52:24.628486<br>pos_y=%{x}<br>pos_z=%{y}<extra></extra>",
           "legendgroup": "",
           "marker": {
            "color": "#636efa",
            "symbol": "circle"
           },
           "mode": "markers",
           "name": "",
           "orientation": "v",
           "showlegend": false,
           "type": "scatter",
           "x": [
            9.51201875778007
           ],
           "xaxis": "x",
           "y": [
            -102.60404305273917
           ],
           "yaxis": "y"
          }
         ],
         "name": "2023-05-24 13:52:24.628486"
        },
        {
         "data": [
          {
           "hovertemplate": "timestamp=2023-05-24 13:52:24.759535<br>pos_y=%{x}<br>pos_z=%{y}<extra></extra>",
           "legendgroup": "",
           "marker": {
            "color": "#636efa",
            "symbol": "circle"
           },
           "mode": "markers",
           "name": "",
           "orientation": "v",
           "showlegend": false,
           "type": "scatter",
           "x": [
            9.89738645445981
           ],
           "xaxis": "x",
           "y": [
            -104.46568091283417
           ],
           "yaxis": "y"
          }
         ],
         "name": "2023-05-24 13:52:24.759535"
        },
        {
         "data": [
          {
           "hovertemplate": "timestamp=2023-05-24 13:52:24.888022<br>pos_y=%{x}<br>pos_z=%{y}<extra></extra>",
           "legendgroup": "",
           "marker": {
            "color": "#636efa",
            "symbol": "circle"
           },
           "mode": "markers",
           "name": "",
           "orientation": "v",
           "showlegend": false,
           "type": "scatter",
           "x": [
            10.255899666690386
           ],
           "xaxis": "x",
           "y": [
            -106.2850799413121
           ],
           "yaxis": "y"
          }
         ],
         "name": "2023-05-24 13:52:24.888022"
        },
        {
         "data": [
          {
           "hovertemplate": "timestamp=2023-05-24 13:52:25.016205<br>pos_y=%{x}<br>pos_z=%{y}<extra></extra>",
           "legendgroup": "",
           "marker": {
            "color": "#636efa",
            "symbol": "circle"
           },
           "mode": "markers",
           "name": "",
           "orientation": "v",
           "showlegend": false,
           "type": "scatter",
           "x": [
            10.591771180306987
           ],
           "xaxis": "x",
           "y": [
            -108.06454321805317
           ],
           "yaxis": "y"
          }
         ],
         "name": "2023-05-24 13:52:25.016205"
        },
        {
         "data": [
          {
           "hovertemplate": "timestamp=2023-05-24 13:52:25.146885<br>pos_y=%{x}<br>pos_z=%{y}<extra></extra>",
           "legendgroup": "",
           "marker": {
            "color": "#636efa",
            "symbol": "circle"
           },
           "mode": "markers",
           "name": "",
           "orientation": "v",
           "showlegend": false,
           "type": "scatter",
           "x": [
            10.903010065306304
           ],
           "xaxis": "x",
           "y": [
            -109.808036738962
           ],
           "yaxis": "y"
          }
         ],
         "name": "2023-05-24 13:52:25.146885"
        },
        {
         "data": [
          {
           "hovertemplate": "timestamp=2023-05-24 13:52:25.275621<br>pos_y=%{x}<br>pos_z=%{y}<extra></extra>",
           "legendgroup": "",
           "marker": {
            "color": "#636efa",
            "symbol": "circle"
           },
           "mode": "markers",
           "name": "",
           "orientation": "v",
           "showlegend": false,
           "type": "scatter",
           "x": [
            11.194522541361769
           ],
           "xaxis": "x",
           "y": [
            -111.52520478155444
           ],
           "yaxis": "y"
          }
         ],
         "name": "2023-05-24 13:52:25.275621"
        },
        {
         "data": [
          {
           "hovertemplate": "timestamp=2023-05-24 13:52:25.405785<br>pos_y=%{x}<br>pos_z=%{y}<extra></extra>",
           "legendgroup": "",
           "marker": {
            "color": "#636efa",
            "symbol": "circle"
           },
           "mode": "markers",
           "name": "",
           "orientation": "v",
           "showlegend": false,
           "type": "scatter",
           "x": [
            11.474661067988164
           ],
           "xaxis": "x",
           "y": [
            -113.22420330982388
           ],
           "yaxis": "y"
          }
         ],
         "name": "2023-05-24 13:52:25.405785"
        },
        {
         "data": [
          {
           "hovertemplate": "timestamp=2023-05-24 13:52:25.536133<br>pos_y=%{x}<br>pos_z=%{y}<extra></extra>",
           "legendgroup": "",
           "marker": {
            "color": "#636efa",
            "symbol": "circle"
           },
           "mode": "markers",
           "name": "",
           "orientation": "v",
           "showlegend": false,
           "type": "scatter",
           "x": [
            11.73778278101924
           ],
           "xaxis": "x",
           "y": [
            -114.91414776765379
           ],
           "yaxis": "y"
          }
         ],
         "name": "2023-05-24 13:52:25.536133"
        },
        {
         "data": [
          {
           "hovertemplate": "timestamp=2023-05-24 13:52:25.670073<br>pos_y=%{x}<br>pos_z=%{y}<extra></extra>",
           "legendgroup": "",
           "marker": {
            "color": "#636efa",
            "symbol": "circle"
           },
           "mode": "markers",
           "name": "",
           "orientation": "v",
           "showlegend": false,
           "type": "scatter",
           "x": [
            11.980274349114872
           ],
           "xaxis": "x",
           "y": [
            -116.59995908133808
           ],
           "yaxis": "y"
          }
         ],
         "name": "2023-05-24 13:52:25.670073"
        },
        {
         "data": [
          {
           "hovertemplate": "timestamp=2023-05-24 13:52:25.797151<br>pos_y=%{x}<br>pos_z=%{y}<extra></extra>",
           "legendgroup": "",
           "marker": {
            "color": "#636efa",
            "symbol": "circle"
           },
           "mode": "markers",
           "name": "",
           "orientation": "v",
           "showlegend": false,
           "type": "scatter",
           "x": [
            12.205922552496597
           ],
           "xaxis": "x",
           "y": [
            -118.28219950006694
           ],
           "yaxis": "y"
          }
         ],
         "name": "2023-05-24 13:52:25.797151"
        },
        {
         "data": [
          {
           "hovertemplate": "timestamp=2023-05-24 13:52:25.927636<br>pos_y=%{x}<br>pos_z=%{y}<extra></extra>",
           "legendgroup": "",
           "marker": {
            "color": "#636efa",
            "symbol": "circle"
           },
           "mode": "markers",
           "name": "",
           "orientation": "v",
           "showlegend": false,
           "type": "scatter",
           "x": [
            12.41849542926262
           ],
           "xaxis": "x",
           "y": [
            -119.96601844063603
           ],
           "yaxis": "y"
          }
         ],
         "name": "2023-05-24 13:52:25.927636"
        },
        {
         "data": [
          {
           "hovertemplate": "timestamp=2023-05-24 13:52:26.057630<br>pos_y=%{x}<br>pos_z=%{y}<extra></extra>",
           "legendgroup": "",
           "marker": {
            "color": "#636efa",
            "symbol": "circle"
           },
           "mode": "markers",
           "name": "",
           "orientation": "v",
           "showlegend": false,
           "type": "scatter",
           "x": [
            12.615499977477317
           ],
           "xaxis": "x",
           "y": [
            -121.65608229660361
           ],
           "yaxis": "y"
          }
         ],
         "name": "2023-05-24 13:52:26.057630"
        },
        {
         "data": [
          {
           "hovertemplate": "timestamp=2023-05-24 13:52:26.184043<br>pos_y=%{x}<br>pos_z=%{y}<extra></extra>",
           "legendgroup": "",
           "marker": {
            "color": "#636efa",
            "symbol": "circle"
           },
           "mode": "markers",
           "name": "",
           "orientation": "v",
           "showlegend": false,
           "type": "scatter",
           "x": [
            12.793887814002112
           ],
           "xaxis": "x",
           "y": [
            -123.35393019894649
           ],
           "yaxis": "y"
          }
         ],
         "name": "2023-05-24 13:52:26.184043"
        },
        {
         "data": [
          {
           "hovertemplate": "timestamp=2023-05-24 13:52:26.314176<br>pos_y=%{x}<br>pos_z=%{y}<extra></extra>",
           "legendgroup": "",
           "marker": {
            "color": "#636efa",
            "symbol": "circle"
           },
           "mode": "markers",
           "name": "",
           "orientation": "v",
           "showlegend": false,
           "type": "scatter",
           "x": [
            12.954456708389086
           ],
           "xaxis": "x",
           "y": [
            -125.06091977746728
           ],
           "yaxis": "y"
          }
         ],
         "name": "2023-05-24 13:52:26.314176"
        },
        {
         "data": [
          {
           "hovertemplate": "timestamp=2023-05-24 13:52:26.441512<br>pos_y=%{x}<br>pos_z=%{y}<extra></extra>",
           "legendgroup": "",
           "marker": {
            "color": "#636efa",
            "symbol": "circle"
           },
           "mode": "markers",
           "name": "",
           "orientation": "v",
           "showlegend": false,
           "type": "scatter",
           "x": [
            13.095204870337717
           ],
           "xaxis": "x",
           "y": [
            -126.77964039387756
           ],
           "yaxis": "y"
          }
         ],
         "name": "2023-05-24 13:52:26.441512"
        },
        {
         "data": [
          {
           "hovertemplate": "timestamp=2023-05-24 13:52:26.574309<br>pos_y=%{x}<br>pos_z=%{y}<extra></extra>",
           "legendgroup": "",
           "marker": {
            "color": "#636efa",
            "symbol": "circle"
           },
           "mode": "markers",
           "name": "",
           "orientation": "v",
           "showlegend": false,
           "type": "scatter",
           "x": [
            13.21649152567842
           ],
           "xaxis": "x",
           "y": [
            -128.50971360736673
           ],
           "yaxis": "y"
          }
         ],
         "name": "2023-05-24 13:52:26.574309"
        },
        {
         "data": [
          {
           "hovertemplate": "timestamp=2023-05-24 13:52:26.702778<br>pos_y=%{x}<br>pos_z=%{y}<extra></extra>",
           "legendgroup": "",
           "marker": {
            "color": "#636efa",
            "symbol": "circle"
           },
           "mode": "markers",
           "name": "",
           "orientation": "v",
           "showlegend": false,
           "type": "scatter",
           "x": [
            13.322368743378373
           ],
           "xaxis": "x",
           "y": [
            -130.24985275482456
           ],
           "yaxis": "y"
          }
         ],
         "name": "2023-05-24 13:52:26.702778"
        },
        {
         "data": [
          {
           "hovertemplate": "timestamp=2023-05-24 13:52:26.835200<br>pos_y=%{x}<br>pos_z=%{y}<extra></extra>",
           "legendgroup": "",
           "marker": {
            "color": "#636efa",
            "symbol": "circle"
           },
           "mode": "markers",
           "name": "",
           "orientation": "v",
           "showlegend": false,
           "type": "scatter",
           "x": [
            13.412306902348812
           ],
           "xaxis": "x",
           "y": [
            -132.00062597484808
           ],
           "yaxis": "y"
          }
         ],
         "name": "2023-05-24 13:52:26.835200"
        },
        {
         "data": [
          {
           "hovertemplate": "timestamp=2023-05-24 13:52:26.961170<br>pos_y=%{x}<br>pos_z=%{y}<extra></extra>",
           "legendgroup": "",
           "marker": {
            "color": "#636efa",
            "symbol": "circle"
           },
           "mode": "markers",
           "name": "",
           "orientation": "v",
           "showlegend": false,
           "type": "scatter",
           "x": [
            13.485406624015981
           ],
           "xaxis": "x",
           "y": [
            -133.76065154820162
           ],
           "yaxis": "y"
          }
         ],
         "name": "2023-05-24 13:52:26.961170"
        },
        {
         "data": [
          {
           "hovertemplate": "timestamp=2023-05-24 13:52:27.090078<br>pos_y=%{x}<br>pos_z=%{y}<extra></extra>",
           "legendgroup": "",
           "marker": {
            "color": "#636efa",
            "symbol": "circle"
           },
           "mode": "markers",
           "name": "",
           "orientation": "v",
           "showlegend": false,
           "type": "scatter",
           "x": [
            13.545968874344387
           ],
           "xaxis": "x",
           "y": [
            -135.5288047090574
           ],
           "yaxis": "y"
          }
         ],
         "name": "2023-05-24 13:52:27.090078"
        },
        {
         "data": [
          {
           "hovertemplate": "timestamp=2023-05-24 13:52:27.221977<br>pos_y=%{x}<br>pos_z=%{y}<extra></extra>",
           "legendgroup": "",
           "marker": {
            "color": "#636efa",
            "symbol": "circle"
           },
           "mode": "markers",
           "name": "",
           "orientation": "v",
           "showlegend": false,
           "type": "scatter",
           "x": [
            13.596968815272971
           ],
           "xaxis": "x",
           "y": [
            -137.30435773688885
           ],
           "yaxis": "y"
          }
         ],
         "name": "2023-05-24 13:52:27.221977"
        },
        {
         "data": [
          {
           "hovertemplate": "timestamp=2023-05-24 13:52:27.353655<br>pos_y=%{x}<br>pos_z=%{y}<extra></extra>",
           "legendgroup": "",
           "marker": {
            "color": "#636efa",
            "symbol": "circle"
           },
           "mode": "markers",
           "name": "",
           "orientation": "v",
           "showlegend": false,
           "type": "scatter",
           "x": [
            13.637770451353614
           ],
           "xaxis": "x",
           "y": [
            -139.08531095431962
           ],
           "yaxis": "y"
          }
         ],
         "name": "2023-05-24 13:52:27.353655"
        },
        {
         "data": [
          {
           "hovertemplate": "timestamp=2023-05-24 13:52:27.483782<br>pos_y=%{x}<br>pos_z=%{y}<extra></extra>",
           "legendgroup": "",
           "marker": {
            "color": "#636efa",
            "symbol": "circle"
           },
           "mode": "markers",
           "name": "",
           "orientation": "v",
           "showlegend": false,
           "type": "scatter",
           "x": [
            13.67244958608132
           ],
           "xaxis": "x",
           "y": [
            -140.87122859069885
           ],
           "yaxis": "y"
          }
         ],
         "name": "2023-05-24 13:52:27.483782"
        },
        {
         "data": [
          {
           "hovertemplate": "timestamp=2023-05-24 13:52:27.609969<br>pos_y=%{x}<br>pos_z=%{y}<extra></extra>",
           "legendgroup": "",
           "marker": {
            "color": "#636efa",
            "symbol": "circle"
           },
           "mode": "markers",
           "name": "",
           "orientation": "v",
           "showlegend": false,
           "type": "scatter",
           "x": [
            13.703280352696039
           ],
           "xaxis": "x",
           "y": [
            -142.66282733838167
           ],
           "yaxis": "y"
          }
         ],
         "name": "2023-05-24 13:52:27.609969"
        },
        {
         "data": [
          {
           "hovertemplate": "timestamp=2023-05-24 13:52:27.739128<br>pos_y=%{x}<br>pos_z=%{y}<extra></extra>",
           "legendgroup": "",
           "marker": {
            "color": "#636efa",
            "symbol": "circle"
           },
           "mode": "markers",
           "name": "",
           "orientation": "v",
           "showlegend": false,
           "type": "scatter",
           "x": [
            13.730417354357373
           ],
           "xaxis": "x",
           "y": [
            -144.4608162787326
           ],
           "yaxis": "y"
          }
         ],
         "name": "2023-05-24 13:52:27.739128"
        },
        {
         "data": [
          {
           "hovertemplate": "timestamp=2023-05-24 13:52:27.869667<br>pos_y=%{x}<br>pos_z=%{y}<extra></extra>",
           "legendgroup": "",
           "marker": {
            "color": "#636efa",
            "symbol": "circle"
           },
           "mode": "markers",
           "name": "",
           "orientation": "v",
           "showlegend": false,
           "type": "scatter",
           "x": [
            13.755830192981866
           ],
           "xaxis": "x",
           "y": [
            -146.26462727300014
           ],
           "yaxis": "y"
          }
         ],
         "name": "2023-05-24 13:52:27.869667"
        },
        {
         "data": [
          {
           "hovertemplate": "timestamp=2023-05-24 13:52:27.998201<br>pos_y=%{x}<br>pos_z=%{y}<extra></extra>",
           "legendgroup": "",
           "marker": {
            "color": "#636efa",
            "symbol": "circle"
           },
           "mode": "markers",
           "name": "",
           "orientation": "v",
           "showlegend": false,
           "type": "scatter",
           "x": [
            13.779327047985817
           ],
           "xaxis": "x",
           "y": [
            -148.07569092939772
           ],
           "yaxis": "y"
          }
         ],
         "name": "2023-05-24 13:52:27.998201"
        },
        {
         "data": [
          {
           "hovertemplate": "timestamp=2023-05-24 13:52:28.130483<br>pos_y=%{x}<br>pos_z=%{y}<extra></extra>",
           "legendgroup": "",
           "marker": {
            "color": "#636efa",
            "symbol": "circle"
           },
           "mode": "markers",
           "name": "",
           "orientation": "v",
           "showlegend": false,
           "type": "scatter",
           "x": [
            13.800182777916238
           ],
           "xaxis": "x",
           "y": [
            -149.89452265857705
           ],
           "yaxis": "y"
          }
         ],
         "name": "2023-05-24 13:52:28.130483"
        },
        {
         "data": [
          {
           "hovertemplate": "timestamp=2023-05-24 13:52:28.262630<br>pos_y=%{x}<br>pos_z=%{y}<extra></extra>",
           "legendgroup": "",
           "marker": {
            "color": "#636efa",
            "symbol": "circle"
           },
           "mode": "markers",
           "name": "",
           "orientation": "v",
           "showlegend": false,
           "type": "scatter",
           "x": [
            13.8162119379031
           ],
           "xaxis": "x",
           "y": [
            -151.72088160563464
           ],
           "yaxis": "y"
          }
         ],
         "name": "2023-05-24 13:52:28.262630"
        },
        {
         "data": [
          {
           "hovertemplate": "timestamp=2023-05-24 13:52:28.393086<br>pos_y=%{x}<br>pos_z=%{y}<extra></extra>",
           "legendgroup": "",
           "marker": {
            "color": "#636efa",
            "symbol": "circle"
           },
           "mode": "markers",
           "name": "",
           "orientation": "v",
           "showlegend": false,
           "type": "scatter",
           "x": [
            13.827252964677674
           ],
           "xaxis": "x",
           "y": [
            -153.5562115034488
           ],
           "yaxis": "y"
          }
         ],
         "name": "2023-05-24 13:52:28.393086"
        },
        {
         "data": [
          {
           "hovertemplate": "timestamp=2023-05-24 13:52:28.520782<br>pos_y=%{x}<br>pos_z=%{y}<extra></extra>",
           "legendgroup": "",
           "marker": {
            "color": "#636efa",
            "symbol": "circle"
           },
           "mode": "markers",
           "name": "",
           "orientation": "v",
           "showlegend": false,
           "type": "scatter",
           "x": [
            13.831255743904576
           ],
           "xaxis": "x",
           "y": [
            -155.39931005493955
           ],
           "yaxis": "y"
          }
         ],
         "name": "2023-05-24 13:52:28.520782"
        },
        {
         "data": [
          {
           "hovertemplate": "timestamp=2023-05-24 13:52:28.647804<br>pos_y=%{x}<br>pos_z=%{y}<extra></extra>",
           "legendgroup": "",
           "marker": {
            "color": "#636efa",
            "symbol": "circle"
           },
           "mode": "markers",
           "name": "",
           "orientation": "v",
           "showlegend": false,
           "type": "scatter",
           "x": [
            13.825573887878747
           ],
           "xaxis": "x",
           "y": [
            -157.2487881882592
           ],
           "yaxis": "y"
          }
         ],
         "name": "2023-05-24 13:52:28.647804"
        },
        {
         "data": [
          {
           "hovertemplate": "timestamp=2023-05-24 13:52:28.780794<br>pos_y=%{x}<br>pos_z=%{y}<extra></extra>",
           "legendgroup": "",
           "marker": {
            "color": "#636efa",
            "symbol": "circle"
           },
           "mode": "markers",
           "name": "",
           "orientation": "v",
           "showlegend": false,
           "type": "scatter",
           "x": [
            13.809294810299065
           ],
           "xaxis": "x",
           "y": [
            -159.10619695852233
           ],
           "yaxis": "y"
          }
         ],
         "name": "2023-05-24 13:52:28.780794"
        },
        {
         "data": [
          {
           "hovertemplate": "timestamp=2023-05-24 13:52:28.908553<br>pos_y=%{x}<br>pos_z=%{y}<extra></extra>",
           "legendgroup": "",
           "marker": {
            "color": "#636efa",
            "symbol": "circle"
           },
           "mode": "markers",
           "name": "",
           "orientation": "v",
           "showlegend": false,
           "type": "scatter",
           "x": [
            13.783703418961124
           ],
           "xaxis": "x",
           "y": [
            -160.97341567437752
           ],
           "yaxis": "y"
          }
         ],
         "name": "2023-05-24 13:52:28.908553"
        },
        {
         "data": [
          {
           "hovertemplate": "timestamp=2023-05-24 13:52:29.038906<br>pos_y=%{x}<br>pos_z=%{y}<extra></extra>",
           "legendgroup": "",
           "marker": {
            "color": "#636efa",
            "symbol": "circle"
           },
           "mode": "markers",
           "name": "",
           "orientation": "v",
           "showlegend": false,
           "type": "scatter",
           "x": [
            13.751010229484484
           ],
           "xaxis": "x",
           "y": [
            -162.8495944831279
           ],
           "yaxis": "y"
          }
         ],
         "name": "2023-05-24 13:52:29.038906"
        },
        {
         "data": [
          {
           "hovertemplate": "timestamp=2023-05-24 13:52:29.169804<br>pos_y=%{x}<br>pos_z=%{y}<extra></extra>",
           "legendgroup": "",
           "marker": {
            "color": "#636efa",
            "symbol": "circle"
           },
           "mode": "markers",
           "name": "",
           "orientation": "v",
           "showlegend": false,
           "type": "scatter",
           "x": [
            13.71394878209368
           ],
           "xaxis": "x",
           "y": [
            -164.73439550816204
           ],
           "yaxis": "y"
          }
         ],
         "name": "2023-05-24 13:52:29.169804"
        },
        {
         "data": [
          {
           "hovertemplate": "timestamp=2023-05-24 13:52:29.298854<br>pos_y=%{x}<br>pos_z=%{y}<extra></extra>",
           "legendgroup": "",
           "marker": {
            "color": "#636efa",
            "symbol": "circle"
           },
           "mode": "markers",
           "name": "",
           "orientation": "v",
           "showlegend": false,
           "type": "scatter",
           "x": [
            13.676191275529183
           ],
           "xaxis": "x",
           "y": [
            -166.62684871791888
           ],
           "yaxis": "y"
          }
         ],
         "name": "2023-05-24 13:52:29.298854"
        },
        {
         "data": [
          {
           "hovertemplate": "timestamp=2023-05-24 13:52:29.428488<br>pos_y=%{x}<br>pos_z=%{y}<extra></extra>",
           "legendgroup": "",
           "marker": {
            "color": "#636efa",
            "symbol": "circle"
           },
           "mode": "markers",
           "name": "",
           "orientation": "v",
           "showlegend": false,
           "type": "scatter",
           "x": [
            13.63853214885855
           ],
           "xaxis": "x",
           "y": [
            -168.5275042462614
           ],
           "yaxis": "y"
          }
         ],
         "name": "2023-05-24 13:52:29.428488"
        },
        {
         "data": [
          {
           "hovertemplate": "timestamp=2023-05-24 13:52:29.557114<br>pos_y=%{x}<br>pos_z=%{y}<extra></extra>",
           "legendgroup": "",
           "marker": {
            "color": "#636efa",
            "symbol": "circle"
           },
           "mode": "markers",
           "name": "",
           "orientation": "v",
           "showlegend": false,
           "type": "scatter",
           "x": [
            13.602144937440475
           ],
           "xaxis": "x",
           "y": [
            -170.43936014747004
           ],
           "yaxis": "y"
          }
         ],
         "name": "2023-05-24 13:52:29.557114"
        },
        {
         "data": [
          {
           "hovertemplate": "timestamp=2023-05-24 13:52:29.686906<br>pos_y=%{x}<br>pos_z=%{y}<extra></extra>",
           "legendgroup": "",
           "marker": {
            "color": "#636efa",
            "symbol": "circle"
           },
           "mode": "markers",
           "name": "",
           "orientation": "v",
           "showlegend": false,
           "type": "scatter",
           "x": [
            13.569917332422504
           ],
           "xaxis": "x",
           "y": [
            -172.3635403182013
           ],
           "yaxis": "y"
          }
         ],
         "name": "2023-05-24 13:52:29.686906"
        },
        {
         "data": [
          {
           "hovertemplate": "timestamp=2023-05-24 13:52:29.814044<br>pos_y=%{x}<br>pos_z=%{y}<extra></extra>",
           "legendgroup": "",
           "marker": {
            "color": "#636efa",
            "symbol": "circle"
           },
           "mode": "markers",
           "name": "",
           "orientation": "v",
           "showlegend": false,
           "type": "scatter",
           "x": [
            13.54487429278205
           ],
           "xaxis": "x",
           "y": [
            -174.29942755282136
           ],
           "yaxis": "y"
          }
         ],
         "name": "2023-05-24 13:52:29.814044"
        },
        {
         "data": [
          {
           "hovertemplate": "timestamp=2023-05-24 13:52:29.945411<br>pos_y=%{x}<br>pos_z=%{y}<extra></extra>",
           "legendgroup": "",
           "marker": {
            "color": "#636efa",
            "symbol": "circle"
           },
           "mode": "markers",
           "name": "",
           "orientation": "v",
           "showlegend": false,
           "type": "scatter",
           "x": [
            13.527009626353273
           ],
           "xaxis": "x",
           "y": [
            -176.2457866711332
           ],
           "yaxis": "y"
          }
         ],
         "name": "2023-05-24 13:52:29.945411"
        },
        {
         "data": [
          {
           "hovertemplate": "timestamp=2023-05-24 13:52:30.074897<br>pos_y=%{x}<br>pos_z=%{y}<extra></extra>",
           "legendgroup": "",
           "marker": {
            "color": "#636efa",
            "symbol": "circle"
           },
           "mode": "markers",
           "name": "",
           "orientation": "v",
           "showlegend": false,
           "type": "scatter",
           "x": [
            13.515051290924772
           ],
           "xaxis": "x",
           "y": [
            -178.20372078219881
           ],
           "yaxis": "y"
          }
         ],
         "name": "2023-05-24 13:52:30.074897"
        },
        {
         "data": [
          {
           "hovertemplate": "timestamp=2023-05-24 13:52:30.206670<br>pos_y=%{x}<br>pos_z=%{y}<extra></extra>",
           "legendgroup": "",
           "marker": {
            "color": "#636efa",
            "symbol": "circle"
           },
           "mode": "markers",
           "name": "",
           "orientation": "v",
           "showlegend": false,
           "type": "scatter",
           "x": [
            13.505298685264595
           ],
           "xaxis": "x",
           "y": [
            -180.17275387826663
           ],
           "yaxis": "y"
          }
         ],
         "name": "2023-05-24 13:52:30.206670"
        },
        {
         "data": [
          {
           "hovertemplate": "timestamp=2023-05-24 13:52:30.335075<br>pos_y=%{x}<br>pos_z=%{y}<extra></extra>",
           "legendgroup": "",
           "marker": {
            "color": "#636efa",
            "symbol": "circle"
           },
           "mode": "markers",
           "name": "",
           "orientation": "v",
           "showlegend": false,
           "type": "scatter",
           "x": [
            13.493097325996741
           ],
           "xaxis": "x",
           "y": [
            -182.1525715514891
           ],
           "yaxis": "y"
          }
         ],
         "name": "2023-05-24 13:52:30.335075"
        },
        {
         "data": [
          {
           "hovertemplate": "timestamp=2023-05-24 13:52:30.464316<br>pos_y=%{x}<br>pos_z=%{y}<extra></extra>",
           "legendgroup": "",
           "marker": {
            "color": "#636efa",
            "symbol": "circle"
           },
           "mode": "markers",
           "name": "",
           "orientation": "v",
           "showlegend": false,
           "type": "scatter",
           "x": [
            13.476464431989067
           ],
           "xaxis": "x",
           "y": [
            -184.1440405617152
           ],
           "yaxis": "y"
          }
         ],
         "name": "2023-05-24 13:52:30.464316"
        },
        {
         "data": [
          {
           "hovertemplate": "timestamp=2023-05-24 13:52:30.592519<br>pos_y=%{x}<br>pos_z=%{y}<extra></extra>",
           "legendgroup": "",
           "marker": {
            "color": "#636efa",
            "symbol": "circle"
           },
           "mode": "markers",
           "name": "",
           "orientation": "v",
           "showlegend": false,
           "type": "scatter",
           "x": [
            13.455871671356382
           ],
           "xaxis": "x",
           "y": [
            -186.1479357818482
           ],
           "yaxis": "y"
          }
         ],
         "name": "2023-05-24 13:52:30.592519"
        },
        {
         "data": [
          {
           "hovertemplate": "timestamp=2023-05-24 13:52:30.725175<br>pos_y=%{x}<br>pos_z=%{y}<extra></extra>",
           "legendgroup": "",
           "marker": {
            "color": "#636efa",
            "symbol": "circle"
           },
           "mode": "markers",
           "name": "",
           "orientation": "v",
           "showlegend": false,
           "type": "scatter",
           "x": [
            13.433602994406394
           ],
           "xaxis": "x",
           "y": [
            -188.16591844943653
           ],
           "yaxis": "y"
          }
         ],
         "name": "2023-05-24 13:52:30.725175"
        },
        {
         "data": [
          {
           "hovertemplate": "timestamp=2023-05-24 13:52:30.854663<br>pos_y=%{x}<br>pos_z=%{y}<extra></extra>",
           "legendgroup": "",
           "marker": {
            "color": "#636efa",
            "symbol": "circle"
           },
           "mode": "markers",
           "name": "",
           "orientation": "v",
           "showlegend": false,
           "type": "scatter",
           "x": [
            13.410163679759624
           ],
           "xaxis": "x",
           "y": [
            -190.19729300937595
           ],
           "yaxis": "y"
          }
         ],
         "name": "2023-05-24 13:52:30.854663"
        },
        {
         "data": [
          {
           "hovertemplate": "timestamp=2023-05-24 13:52:30.983248<br>pos_y=%{x}<br>pos_z=%{y}<extra></extra>",
           "legendgroup": "",
           "marker": {
            "color": "#636efa",
            "symbol": "circle"
           },
           "mode": "markers",
           "name": "",
           "orientation": "v",
           "showlegend": false,
           "type": "scatter",
           "x": [
            13.384533960642703
           ],
           "xaxis": "x",
           "y": [
            -192.2424398748037
           ],
           "yaxis": "y"
          }
         ],
         "name": "2023-05-24 13:52:30.983248"
        },
        {
         "data": [
          {
           "hovertemplate": "timestamp=2023-05-24 13:52:31.111938<br>pos_y=%{x}<br>pos_z=%{y}<extra></extra>",
           "legendgroup": "",
           "marker": {
            "color": "#636efa",
            "symbol": "circle"
           },
           "mode": "markers",
           "name": "",
           "orientation": "v",
           "showlegend": false,
           "type": "scatter",
           "x": [
            13.357981598418167
           ],
           "xaxis": "x",
           "y": [
            -194.3003983992193
           ],
           "yaxis": "y"
          }
         ],
         "name": "2023-05-24 13:52:31.111938"
        },
        {
         "data": [
          {
           "hovertemplate": "timestamp=2023-05-24 13:52:31.244676<br>pos_y=%{x}<br>pos_z=%{y}<extra></extra>",
           "legendgroup": "",
           "marker": {
            "color": "#636efa",
            "symbol": "circle"
           },
           "mode": "markers",
           "name": "",
           "orientation": "v",
           "showlegend": false,
           "type": "scatter",
           "x": [
            13.335864999800757
           ],
           "xaxis": "x",
           "y": [
            -196.370930427647
           ],
           "yaxis": "y"
          }
         ],
         "name": "2023-05-24 13:52:31.244676"
        },
        {
         "data": [
          {
           "hovertemplate": "timestamp=2023-05-24 13:52:31.371375<br>pos_y=%{x}<br>pos_z=%{y}<extra></extra>",
           "legendgroup": "",
           "marker": {
            "color": "#636efa",
            "symbol": "circle"
           },
           "mode": "markers",
           "name": "",
           "orientation": "v",
           "showlegend": false,
           "type": "scatter",
           "x": [
            13.323030981669794
           ],
           "xaxis": "x",
           "y": [
            -198.4538082238563
           ],
           "yaxis": "y"
          }
         ],
         "name": "2023-05-24 13:52:31.371375"
        },
        {
         "data": [
          {
           "hovertemplate": "timestamp=2023-05-24 13:52:31.502863<br>pos_y=%{x}<br>pos_z=%{y}<extra></extra>",
           "legendgroup": "",
           "marker": {
            "color": "#636efa",
            "symbol": "circle"
           },
           "mode": "markers",
           "name": "",
           "orientation": "v",
           "showlegend": false,
           "type": "scatter",
           "x": [
            13.3215545057677
           ],
           "xaxis": "x",
           "y": [
            -200.54625245024496
           ],
           "yaxis": "y"
          }
         ],
         "name": "2023-05-24 13:52:31.502863"
        },
        {
         "data": [
          {
           "hovertemplate": "timestamp=2023-05-24 13:52:31.632101<br>pos_y=%{x}<br>pos_z=%{y}<extra></extra>",
           "legendgroup": "",
           "marker": {
            "color": "#636efa",
            "symbol": "circle"
           },
           "mode": "markers",
           "name": "",
           "orientation": "v",
           "showlegend": false,
           "type": "scatter",
           "x": [
            13.335082582278902
           ],
           "xaxis": "x",
           "y": [
            -202.64425632572187
           ],
           "yaxis": "y"
          }
         ],
         "name": "2023-05-24 13:52:31.632101"
        },
        {
         "data": [
          {
           "hovertemplate": "timestamp=2023-05-24 13:52:31.761938<br>pos_y=%{x}<br>pos_z=%{y}<extra></extra>",
           "legendgroup": "",
           "marker": {
            "color": "#636efa",
            "symbol": "circle"
           },
           "mode": "markers",
           "name": "",
           "orientation": "v",
           "showlegend": false,
           "type": "scatter",
           "x": [
            13.36371872223405
           ],
           "xaxis": "x",
           "y": [
            -204.74401055072076
           ],
           "yaxis": "y"
          }
         ],
         "name": "2023-05-24 13:52:31.761938"
        },
        {
         "data": [
          {
           "hovertemplate": "timestamp=2023-05-24 13:52:31.890935<br>pos_y=%{x}<br>pos_z=%{y}<extra></extra>",
           "legendgroup": "",
           "marker": {
            "color": "#636efa",
            "symbol": "circle"
           },
           "mode": "markers",
           "name": "",
           "orientation": "v",
           "showlegend": false,
           "type": "scatter",
           "x": [
            13.40421344176355
           ],
           "xaxis": "x",
           "y": [
            -206.8461464305018
           ],
           "yaxis": "y"
          }
         ],
         "name": "2023-05-24 13:52:31.890935"
        },
        {
         "data": [
          {
           "hovertemplate": "timestamp=2023-05-24 13:52:32.021050<br>pos_y=%{x}<br>pos_z=%{y}<extra></extra>",
           "legendgroup": "",
           "marker": {
            "color": "#636efa",
            "symbol": "circle"
           },
           "mode": "markers",
           "name": "",
           "orientation": "v",
           "showlegend": false,
           "type": "scatter",
           "x": [
            13.45846589321791
           ],
           "xaxis": "x",
           "y": [
            -208.95083565643412
           ],
           "yaxis": "y"
          }
         ],
         "name": "2023-05-24 13:52:32.021050"
        },
        {
         "data": [
          {
           "hovertemplate": "timestamp=2023-05-24 13:52:32.151095<br>pos_y=%{x}<br>pos_z=%{y}<extra></extra>",
           "legendgroup": "",
           "marker": {
            "color": "#636efa",
            "symbol": "circle"
           },
           "mode": "markers",
           "name": "",
           "orientation": "v",
           "showlegend": false,
           "type": "scatter",
           "x": [
            13.526320152275895
           ],
           "xaxis": "x",
           "y": [
            -211.05689675680995
           ],
           "yaxis": "y"
          }
         ],
         "name": "2023-05-24 13:52:32.151095"
        },
        {
         "data": [
          {
           "hovertemplate": "timestamp=2023-05-24 13:52:32.281912<br>pos_y=%{x}<br>pos_z=%{y}<extra></extra>",
           "legendgroup": "",
           "marker": {
            "color": "#636efa",
            "symbol": "circle"
           },
           "mode": "markers",
           "name": "",
           "orientation": "v",
           "showlegend": false,
           "type": "scatter",
           "x": [
            13.603471157389729
           ],
           "xaxis": "x",
           "y": [
            -213.16472238354723
           ],
           "yaxis": "y"
          }
         ],
         "name": "2023-05-24 13:52:32.281912"
        },
        {
         "data": [
          {
           "hovertemplate": "timestamp=2023-05-24 13:52:32.409227<br>pos_y=%{x}<br>pos_z=%{y}<extra></extra>",
           "legendgroup": "",
           "marker": {
            "color": "#636efa",
            "symbol": "circle"
           },
           "mode": "markers",
           "name": "",
           "orientation": "v",
           "showlegend": false,
           "type": "scatter",
           "x": [
            13.687667744329381
           ],
           "xaxis": "x",
           "y": [
            -215.27602623075455
           ],
           "yaxis": "y"
          }
         ],
         "name": "2023-05-24 13:52:32.409227"
        },
        {
         "data": [
          {
           "hovertemplate": "timestamp=2023-05-24 13:52:32.539425<br>pos_y=%{x}<br>pos_z=%{y}<extra></extra>",
           "legendgroup": "",
           "marker": {
            "color": "#636efa",
            "symbol": "circle"
           },
           "mode": "markers",
           "name": "",
           "orientation": "v",
           "showlegend": false,
           "type": "scatter",
           "x": [
            13.776906065714808
           ],
           "xaxis": "x",
           "y": [
            -217.3917698478071
           ],
           "yaxis": "y"
          }
         ],
         "name": "2023-05-24 13:52:32.539425"
        },
        {
         "data": [
          {
           "hovertemplate": "timestamp=2023-05-24 13:52:32.670666<br>pos_y=%{x}<br>pos_z=%{y}<extra></extra>",
           "legendgroup": "",
           "marker": {
            "color": "#636efa",
            "symbol": "circle"
           },
           "mode": "markers",
           "name": "",
           "orientation": "v",
           "showlegend": false,
           "type": "scatter",
           "x": [
            13.868433619980895
           ],
           "xaxis": "x",
           "y": [
            -219.51412630842265
           ],
           "yaxis": "y"
          }
         ],
         "name": "2023-05-24 13:52:32.670666"
        },
        {
         "data": [
          {
           "hovertemplate": "timestamp=2023-05-24 13:52:32.800858<br>pos_y=%{x}<br>pos_z=%{y}<extra></extra>",
           "legendgroup": "",
           "marker": {
            "color": "#636efa",
            "symbol": "circle"
           },
           "mode": "markers",
           "name": "",
           "orientation": "v",
           "showlegend": false,
           "type": "scatter",
           "x": [
            13.962417445334694
           ],
           "xaxis": "x",
           "y": [
            -221.6433334760846
           ],
           "yaxis": "y"
          }
         ],
         "name": "2023-05-24 13:52:32.800858"
        },
        {
         "data": [
          {
           "hovertemplate": "timestamp=2023-05-24 13:52:32.927365<br>pos_y=%{x}<br>pos_z=%{y}<extra></extra>",
           "legendgroup": "",
           "marker": {
            "color": "#636efa",
            "symbol": "circle"
           },
           "mode": "markers",
           "name": "",
           "orientation": "v",
           "showlegend": false,
           "type": "scatter",
           "x": [
            14.063687445083604
           ],
           "xaxis": "x",
           "y": [
            -223.7770469159887
           ],
           "yaxis": "y"
          }
         ],
         "name": "2023-05-24 13:52:32.927365"
        },
        {
         "data": [
          {
           "hovertemplate": "timestamp=2023-05-24 13:52:33.058190<br>pos_y=%{x}<br>pos_z=%{y}<extra></extra>",
           "legendgroup": "",
           "marker": {
            "color": "#636efa",
            "symbol": "circle"
           },
           "mode": "markers",
           "name": "",
           "orientation": "v",
           "showlegend": false,
           "type": "scatter",
           "x": [
            14.174171600004648
           ],
           "xaxis": "x",
           "y": [
            -225.91294782056457
           ],
           "yaxis": "y"
          }
         ],
         "name": "2023-05-24 13:52:33.058190"
        },
        {
         "data": [
          {
           "hovertemplate": "timestamp=2023-05-24 13:52:33.188280<br>pos_y=%{x}<br>pos_z=%{y}<extra></extra>",
           "legendgroup": "",
           "marker": {
            "color": "#636efa",
            "symbol": "circle"
           },
           "mode": "markers",
           "name": "",
           "orientation": "v",
           "showlegend": false,
           "type": "scatter",
           "x": [
            14.293630770799417
           ],
           "xaxis": "x",
           "y": [
            -228.0493618442385
           ],
           "yaxis": "y"
          }
         ],
         "name": "2023-05-24 13:52:33.188280"
        },
        {
         "data": [
          {
           "hovertemplate": "timestamp=2023-05-24 13:52:33.321815<br>pos_y=%{x}<br>pos_z=%{y}<extra></extra>",
           "legendgroup": "",
           "marker": {
            "color": "#636efa",
            "symbol": "circle"
           },
           "mode": "markers",
           "name": "",
           "orientation": "v",
           "showlegend": false,
           "type": "scatter",
           "x": [
            14.423201122580705
           ],
           "xaxis": "x",
           "y": [
            -230.18557237436514
           ],
           "yaxis": "y"
          }
         ],
         "name": "2023-05-24 13:52:33.321815"
        },
        {
         "data": [
          {
           "hovertemplate": "timestamp=2023-05-24 13:52:33.450109<br>pos_y=%{x}<br>pos_z=%{y}<extra></extra>",
           "legendgroup": "",
           "marker": {
            "color": "#636efa",
            "symbol": "circle"
           },
           "mode": "markers",
           "name": "",
           "orientation": "v",
           "showlegend": false,
           "type": "scatter",
           "x": [
            14.563119873374161
           ],
           "xaxis": "x",
           "y": [
            -232.32017242660885
           ],
           "yaxis": "y"
          }
         ],
         "name": "2023-05-24 13:52:33.450109"
        },
        {
         "data": [
          {
           "hovertemplate": "timestamp=2023-05-24 13:52:33.577170<br>pos_y=%{x}<br>pos_z=%{y}<extra></extra>",
           "legendgroup": "",
           "marker": {
            "color": "#636efa",
            "symbol": "circle"
           },
           "mode": "markers",
           "name": "",
           "orientation": "v",
           "showlegend": false,
           "type": "scatter",
           "x": [
            14.71497109557077
           ],
           "xaxis": "x",
           "y": [
            -234.4527591567749
           ],
           "yaxis": "y"
          }
         ],
         "name": "2023-05-24 13:52:33.577170"
        },
        {
         "data": [
          {
           "hovertemplate": "timestamp=2023-05-24 13:52:33.713856<br>pos_y=%{x}<br>pos_z=%{y}<extra></extra>",
           "legendgroup": "",
           "marker": {
            "color": "#636efa",
            "symbol": "circle"
           },
           "mode": "markers",
           "name": "",
           "orientation": "v",
           "showlegend": false,
           "type": "scatter",
           "x": [
            14.87906018417152
           ],
           "xaxis": "x",
           "y": [
            -236.5812478326393
           ],
           "yaxis": "y"
          }
         ],
         "name": "2023-05-24 13:52:33.713856"
        },
        {
         "data": [
          {
           "hovertemplate": "timestamp=2023-05-24 13:52:33.835489<br>pos_y=%{x}<br>pos_z=%{y}<extra></extra>",
           "legendgroup": "",
           "marker": {
            "color": "#636efa",
            "symbol": "circle"
           },
           "mode": "markers",
           "name": "",
           "orientation": "v",
           "showlegend": false,
           "type": "scatter",
           "x": [
            15.053333487117065
           ],
           "xaxis": "x",
           "y": [
            -238.70491393751192
           ],
           "yaxis": "y"
          }
         ],
         "name": "2023-05-24 13:52:33.835489"
        },
        {
         "data": [
          {
           "hovertemplate": "timestamp=2023-05-24 13:52:33.965236<br>pos_y=%{x}<br>pos_z=%{y}<extra></extra>",
           "legendgroup": "",
           "marker": {
            "color": "#636efa",
            "symbol": "circle"
           },
           "mode": "markers",
           "name": "",
           "orientation": "v",
           "showlegend": false,
           "type": "scatter",
           "x": [
            15.233908576658559
           ],
           "xaxis": "x",
           "y": [
            -240.8239602971689
           ],
           "yaxis": "y"
          }
         ],
         "name": "2023-05-24 13:52:33.965236"
        },
        {
         "data": [
          {
           "hovertemplate": "timestamp=2023-05-24 13:52:34.092868<br>pos_y=%{x}<br>pos_z=%{y}<extra></extra>",
           "legendgroup": "",
           "marker": {
            "color": "#636efa",
            "symbol": "circle"
           },
           "mode": "markers",
           "name": "",
           "orientation": "v",
           "showlegend": false,
           "type": "scatter",
           "x": [
            15.417984495950527
           ],
           "xaxis": "x",
           "y": [
            -242.93872721662856
           ],
           "yaxis": "y"
          }
         ],
         "name": "2023-05-24 13:52:34.092868"
        },
        {
         "data": [
          {
           "hovertemplate": "timestamp=2023-05-24 13:52:34.230156<br>pos_y=%{x}<br>pos_z=%{y}<extra></extra>",
           "legendgroup": "",
           "marker": {
            "color": "#636efa",
            "symbol": "circle"
           },
           "mode": "markers",
           "name": "",
           "orientation": "v",
           "showlegend": false,
           "type": "scatter",
           "x": [
            15.606399165906288
           ],
           "xaxis": "x",
           "y": [
            -245.05056133991351
           ],
           "yaxis": "y"
          }
         ],
         "name": "2023-05-24 13:52:34.230156"
        },
        {
         "data": [
          {
           "hovertemplate": "timestamp=2023-05-24 13:52:34.358099<br>pos_y=%{x}<br>pos_z=%{y}<extra></extra>",
           "legendgroup": "",
           "marker": {
            "color": "#636efa",
            "symbol": "circle"
           },
           "mode": "markers",
           "name": "",
           "orientation": "v",
           "showlegend": false,
           "type": "scatter",
           "x": [
            15.799594987627685
           ],
           "xaxis": "x",
           "y": [
            -247.1596876374731
           ],
           "yaxis": "y"
          }
         ],
         "name": "2023-05-24 13:52:34.358099"
        },
        {
         "data": [
          {
           "hovertemplate": "timestamp=2023-05-24 13:52:34.486281<br>pos_y=%{x}<br>pos_z=%{y}<extra></extra>",
           "legendgroup": "",
           "marker": {
            "color": "#636efa",
            "symbol": "circle"
           },
           "mode": "markers",
           "name": "",
           "orientation": "v",
           "showlegend": false,
           "type": "scatter",
           "x": [
            15.997650167916163
           ],
           "xaxis": "x",
           "y": [
            -249.2666563313159
           ],
           "yaxis": "y"
          }
         ],
         "name": "2023-05-24 13:52:34.486281"
        },
        {
         "data": [
          {
           "hovertemplate": "timestamp=2023-05-24 13:52:34.612256<br>pos_y=%{x}<br>pos_z=%{y}<extra></extra>",
           "legendgroup": "",
           "marker": {
            "color": "#636efa",
            "symbol": "circle"
           },
           "mode": "markers",
           "name": "",
           "orientation": "v",
           "showlegend": false,
           "type": "scatter",
           "x": [
            16.20140990558246
           ],
           "xaxis": "x",
           "y": [
            -251.3709256111228
           ],
           "yaxis": "y"
          }
         ],
         "name": "2023-05-24 13:52:34.612256"
        },
        {
         "data": [
          {
           "hovertemplate": "timestamp=2023-05-24 13:52:34.744243<br>pos_y=%{x}<br>pos_z=%{y}<extra></extra>",
           "legendgroup": "",
           "marker": {
            "color": "#636efa",
            "symbol": "circle"
           },
           "mode": "markers",
           "name": "",
           "orientation": "v",
           "showlegend": false,
           "type": "scatter",
           "x": [
            16.41065710869544
           ],
           "xaxis": "x",
           "y": [
            -253.47151896446456
           ],
           "yaxis": "y"
          }
         ],
         "name": "2023-05-24 13:52:34.744243"
        },
        {
         "data": [
          {
           "hovertemplate": "timestamp=2023-05-24 13:52:34.872234<br>pos_y=%{x}<br>pos_z=%{y}<extra></extra>",
           "legendgroup": "",
           "marker": {
            "color": "#636efa",
            "symbol": "circle"
           },
           "mode": "markers",
           "name": "",
           "orientation": "v",
           "showlegend": false,
           "type": "scatter",
           "x": [
            16.62731814622239
           ],
           "xaxis": "x",
           "y": [
            -255.56759736700656
           ],
           "yaxis": "y"
          }
         ],
         "name": "2023-05-24 13:52:34.872234"
        },
        {
         "data": [
          {
           "hovertemplate": "timestamp=2023-05-24 13:52:35.003177<br>pos_y=%{x}<br>pos_z=%{y}<extra></extra>",
           "legendgroup": "",
           "marker": {
            "color": "#636efa",
            "symbol": "circle"
           },
           "mode": "markers",
           "name": "",
           "orientation": "v",
           "showlegend": false,
           "type": "scatter",
           "x": [
            16.854922239478796
           ],
           "xaxis": "x",
           "y": [
            -257.65955110319635
           ],
           "yaxis": "y"
          }
         ],
         "name": "2023-05-24 13:52:35.003177"
        },
        {
         "data": [
          {
           "hovertemplate": "timestamp=2023-05-24 13:52:35.132418<br>pos_y=%{x}<br>pos_z=%{y}<extra></extra>",
           "legendgroup": "",
           "marker": {
            "color": "#636efa",
            "symbol": "circle"
           },
           "mode": "markers",
           "name": "",
           "orientation": "v",
           "showlegend": false,
           "type": "scatter",
           "x": [
            17.092912134913984
           ],
           "xaxis": "x",
           "y": [
            -259.74768716374473
           ],
           "yaxis": "y"
          }
         ],
         "name": "2023-05-24 13:52:35.132418"
        },
        {
         "data": [
          {
           "hovertemplate": "timestamp=2023-05-24 13:52:35.263054<br>pos_y=%{x}<br>pos_z=%{y}<extra></extra>",
           "legendgroup": "",
           "marker": {
            "color": "#636efa",
            "symbol": "circle"
           },
           "mode": "markers",
           "name": "",
           "orientation": "v",
           "showlegend": false,
           "type": "scatter",
           "x": [
            17.338127671474705
           ],
           "xaxis": "x",
           "y": [
            -261.8304924105278
           ],
           "yaxis": "y"
          }
         ],
         "name": "2023-05-24 13:52:35.263054"
        },
        {
         "data": [
          {
           "hovertemplate": "timestamp=2023-05-24 13:52:35.391996<br>pos_y=%{x}<br>pos_z=%{y}<extra></extra>",
           "legendgroup": "",
           "marker": {
            "color": "#636efa",
            "symbol": "circle"
           },
           "mode": "markers",
           "name": "",
           "orientation": "v",
           "showlegend": false,
           "type": "scatter",
           "x": [
            17.59010336378255
           ],
           "xaxis": "x",
           "y": [
            -263.9056786572256
           ],
           "yaxis": "y"
          }
         ],
         "name": "2023-05-24 13:52:35.391996"
        },
        {
         "data": [
          {
           "hovertemplate": "timestamp=2023-05-24 13:52:35.522845<br>pos_y=%{x}<br>pos_z=%{y}<extra></extra>",
           "legendgroup": "",
           "marker": {
            "color": "#636efa",
            "symbol": "circle"
           },
           "mode": "markers",
           "name": "",
           "orientation": "v",
           "showlegend": false,
           "type": "scatter",
           "x": [
            17.849330539230536
           ],
           "xaxis": "x",
           "y": [
            -265.9708448480502
           ],
           "yaxis": "y"
          }
         ],
         "name": "2023-05-24 13:52:35.522845"
        },
        {
         "data": [
          {
           "hovertemplate": "timestamp=2023-05-24 13:52:35.650962<br>pos_y=%{x}<br>pos_z=%{y}<extra></extra>",
           "legendgroup": "",
           "marker": {
            "color": "#636efa",
            "symbol": "circle"
           },
           "mode": "markers",
           "name": "",
           "orientation": "v",
           "showlegend": false,
           "type": "scatter",
           "x": [
            18.114810963570118
           ],
           "xaxis": "x",
           "y": [
            -268.02527770347456
           ],
           "yaxis": "y"
          }
         ],
         "name": "2023-05-24 13:52:35.650962"
        },
        {
         "data": [
          {
           "hovertemplate": "timestamp=2023-05-24 13:52:35.782400<br>pos_y=%{x}<br>pos_z=%{y}<extra></extra>",
           "legendgroup": "",
           "marker": {
            "color": "#636efa",
            "symbol": "circle"
           },
           "mode": "markers",
           "name": "",
           "orientation": "v",
           "showlegend": false,
           "type": "scatter",
           "x": [
            18.38895563869534
           ],
           "xaxis": "x",
           "y": [
            -270.06873890885197
           ],
           "yaxis": "y"
          }
         ],
         "name": "2023-05-24 13:52:35.782400"
        },
        {
         "data": [
          {
           "hovertemplate": "timestamp=2023-05-24 13:52:35.915217<br>pos_y=%{x}<br>pos_z=%{y}<extra></extra>",
           "legendgroup": "",
           "marker": {
            "color": "#636efa",
            "symbol": "circle"
           },
           "mode": "markers",
           "name": "",
           "orientation": "v",
           "showlegend": false,
           "type": "scatter",
           "x": [
            18.67138025534634
           ],
           "xaxis": "x",
           "y": [
            -272.10123887843093
           ],
           "yaxis": "y"
          }
         ],
         "name": "2023-05-24 13:52:35.915217"
        },
        {
         "data": [
          {
           "hovertemplate": "timestamp=2023-05-24 13:52:36.045338<br>pos_y=%{x}<br>pos_z=%{y}<extra></extra>",
           "legendgroup": "",
           "marker": {
            "color": "#636efa",
            "symbol": "circle"
           },
           "mode": "markers",
           "name": "",
           "orientation": "v",
           "showlegend": false,
           "type": "scatter",
           "x": [
            18.957518166921652
           ],
           "xaxis": "x",
           "y": [
            -274.1221446291776
           ],
           "yaxis": "y"
          }
         ],
         "name": "2023-05-24 13:52:36.045338"
        },
        {
         "data": [
          {
           "hovertemplate": "timestamp=2023-05-24 13:52:36.170051<br>pos_y=%{x}<br>pos_z=%{y}<extra></extra>",
           "legendgroup": "",
           "marker": {
            "color": "#636efa",
            "symbol": "circle"
           },
           "mode": "markers",
           "name": "",
           "orientation": "v",
           "showlegend": false,
           "type": "scatter",
           "x": [
            19.249766142246
           ],
           "xaxis": "x",
           "y": [
            -276.13093774944963
           ],
           "yaxis": "y"
          }
         ],
         "name": "2023-05-24 13:52:36.170051"
        },
        {
         "data": [
          {
           "hovertemplate": "timestamp=2023-05-24 13:52:36.300363<br>pos_y=%{x}<br>pos_z=%{y}<extra></extra>",
           "legendgroup": "",
           "marker": {
            "color": "#636efa",
            "symbol": "circle"
           },
           "mode": "markers",
           "name": "",
           "orientation": "v",
           "showlegend": false,
           "type": "scatter",
           "x": [
            19.553481350827266
           ],
           "xaxis": "x",
           "y": [
            -278.12786201757905
           ],
           "yaxis": "y"
          }
         ],
         "name": "2023-05-24 13:52:36.300363"
        },
        {
         "data": [
          {
           "hovertemplate": "timestamp=2023-05-24 13:52:36.432485<br>pos_y=%{x}<br>pos_z=%{y}<extra></extra>",
           "legendgroup": "",
           "marker": {
            "color": "#636efa",
            "symbol": "circle"
           },
           "mode": "markers",
           "name": "",
           "orientation": "v",
           "showlegend": false,
           "type": "scatter",
           "x": [
            19.8687607549361
           ],
           "xaxis": "x",
           "y": [
            -280.1135204323283
           ],
           "yaxis": "y"
          }
         ],
         "name": "2023-05-24 13:52:36.432485"
        },
        {
         "data": [
          {
           "hovertemplate": "timestamp=2023-05-24 13:52:36.560782<br>pos_y=%{x}<br>pos_z=%{y}<extra></extra>",
           "legendgroup": "",
           "marker": {
            "color": "#636efa",
            "symbol": "circle"
           },
           "mode": "markers",
           "name": "",
           "orientation": "v",
           "showlegend": false,
           "type": "scatter",
           "x": [
            20.194169850792445
           ],
           "xaxis": "x",
           "y": [
            -282.08874157127764
           ],
           "yaxis": "y"
          }
         ],
         "name": "2023-05-24 13:52:36.560782"
        },
        {
         "data": [
          {
           "hovertemplate": "timestamp=2023-05-24 13:52:36.691963<br>pos_y=%{x}<br>pos_z=%{y}<extra></extra>",
           "legendgroup": "",
           "marker": {
            "color": "#636efa",
            "symbol": "circle"
           },
           "mode": "markers",
           "name": "",
           "orientation": "v",
           "showlegend": false,
           "type": "scatter",
           "x": [
            20.528188889085143
           ],
           "xaxis": "x",
           "y": [
            -284.0530971341
           ],
           "yaxis": "y"
          }
         ],
         "name": "2023-05-24 13:52:36.691963"
        },
        {
         "data": [
          {
           "hovertemplate": "timestamp=2023-05-24 13:52:36.821627<br>pos_y=%{x}<br>pos_z=%{y}<extra></extra>",
           "legendgroup": "",
           "marker": {
            "color": "#636efa",
            "symbol": "circle"
           },
           "mode": "markers",
           "name": "",
           "orientation": "v",
           "showlegend": false,
           "type": "scatter",
           "x": [
            20.867428712766657
           ],
           "xaxis": "x",
           "y": [
            -286.00676020070426
           ],
           "yaxis": "y"
          }
         ],
         "name": "2023-05-24 13:52:36.821627"
        },
        {
         "data": [
          {
           "hovertemplate": "timestamp=2023-05-24 13:52:36.951544<br>pos_y=%{x}<br>pos_z=%{y}<extra></extra>",
           "legendgroup": "",
           "marker": {
            "color": "#636efa",
            "symbol": "circle"
           },
           "mode": "markers",
           "name": "",
           "orientation": "v",
           "showlegend": false,
           "type": "scatter",
           "x": [
            21.210881893605627
           ],
           "xaxis": "x",
           "y": [
            -287.95104568966485
           ],
           "yaxis": "y"
          }
         ],
         "name": "2023-05-24 13:52:36.951544"
        },
        {
         "data": [
          {
           "hovertemplate": "timestamp=2023-05-24 13:52:37.077560<br>pos_y=%{x}<br>pos_z=%{y}<extra></extra>",
           "legendgroup": "",
           "marker": {
            "color": "#636efa",
            "symbol": "circle"
           },
           "mode": "markers",
           "name": "",
           "orientation": "v",
           "showlegend": false,
           "type": "scatter",
           "x": [
            21.5629134219313
           ],
           "xaxis": "x",
           "y": [
            -289.88623060139196
           ],
           "yaxis": "y"
          }
         ],
         "name": "2023-05-24 13:52:37.077560"
        },
        {
         "data": [
          {
           "hovertemplate": "timestamp=2023-05-24 13:52:37.205164<br>pos_y=%{x}<br>pos_z=%{y}<extra></extra>",
           "legendgroup": "",
           "marker": {
            "color": "#636efa",
            "symbol": "circle"
           },
           "mode": "markers",
           "name": "",
           "orientation": "v",
           "showlegend": false,
           "type": "scatter",
           "x": [
            21.924499379684946
           ],
           "xaxis": "x",
           "y": [
            -291.8110405450896
           ],
           "yaxis": "y"
          }
         ],
         "name": "2023-05-24 13:52:37.205164"
        },
        {
         "data": [
          {
           "hovertemplate": "timestamp=2023-05-24 13:52:37.342845<br>pos_y=%{x}<br>pos_z=%{y}<extra></extra>",
           "legendgroup": "",
           "marker": {
            "color": "#636efa",
            "symbol": "circle"
           },
           "mode": "markers",
           "name": "",
           "orientation": "v",
           "showlegend": false,
           "type": "scatter",
           "x": [
            22.294373221087863
           ],
           "xaxis": "x",
           "y": [
            -293.72471913509173
           ],
           "yaxis": "y"
          }
         ],
         "name": "2023-05-24 13:52:37.342845"
        },
        {
         "data": [
          {
           "hovertemplate": "timestamp=2023-05-24 13:52:37.469193<br>pos_y=%{x}<br>pos_z=%{y}<extra></extra>",
           "legendgroup": "",
           "marker": {
            "color": "#636efa",
            "symbol": "circle"
           },
           "mode": "markers",
           "name": "",
           "orientation": "v",
           "showlegend": false,
           "type": "scatter",
           "x": [
            22.674980464307772
           ],
           "xaxis": "x",
           "y": [
            -295.6271645758238
           ],
           "yaxis": "y"
          }
         ],
         "name": "2023-05-24 13:52:37.469193"
        },
        {
         "data": [
          {
           "hovertemplate": "timestamp=2023-05-24 13:52:37.595470<br>pos_y=%{x}<br>pos_z=%{y}<extra></extra>",
           "legendgroup": "",
           "marker": {
            "color": "#636efa",
            "symbol": "circle"
           },
           "mode": "markers",
           "name": "",
           "orientation": "v",
           "showlegend": false,
           "type": "scatter",
           "x": [
            23.069656338853015
           ],
           "xaxis": "x",
           "y": [
            -297.51909448149706
           ],
           "yaxis": "y"
          }
         ],
         "name": "2023-05-24 13:52:37.595470"
        },
        {
         "data": [
          {
           "hovertemplate": "timestamp=2023-05-24 13:52:37.728276<br>pos_y=%{x}<br>pos_z=%{y}<extra></extra>",
           "legendgroup": "",
           "marker": {
            "color": "#636efa",
            "symbol": "circle"
           },
           "mode": "markers",
           "name": "",
           "orientation": "v",
           "showlegend": false,
           "type": "scatter",
           "x": [
            23.479118685062357
           ],
           "xaxis": "x",
           "y": [
            -299.40162949899127
           ],
           "yaxis": "y"
          }
         ],
         "name": "2023-05-24 13:52:37.728276"
        },
        {
         "data": [
          {
           "hovertemplate": "timestamp=2023-05-24 13:52:37.863200<br>pos_y=%{x}<br>pos_z=%{y}<extra></extra>",
           "legendgroup": "",
           "marker": {
            "color": "#636efa",
            "symbol": "circle"
           },
           "mode": "markers",
           "name": "",
           "orientation": "v",
           "showlegend": false,
           "type": "scatter",
           "x": [
            23.89958024425543
           ],
           "xaxis": "x",
           "y": [
            -301.27390720415053
           ],
           "yaxis": "y"
          }
         ],
         "name": "2023-05-24 13:52:37.863200"
        },
        {
         "data": [
          {
           "hovertemplate": "timestamp=2023-05-24 13:52:37.988389<br>pos_y=%{x}<br>pos_z=%{y}<extra></extra>",
           "legendgroup": "",
           "marker": {
            "color": "#636efa",
            "symbol": "circle"
           },
           "mode": "markers",
           "name": "",
           "orientation": "v",
           "showlegend": false,
           "type": "scatter",
           "x": [
            24.328919474841225
           ],
           "xaxis": "x",
           "y": [
            -303.13717555484106
           ],
           "yaxis": "y"
          }
         ],
         "name": "2023-05-24 13:52:37.988389"
        },
        {
         "data": [
          {
           "hovertemplate": "timestamp=2023-05-24 13:52:38.115007<br>pos_y=%{x}<br>pos_z=%{y}<extra></extra>",
           "legendgroup": "",
           "marker": {
            "color": "#636efa",
            "symbol": "circle"
           },
           "mode": "markers",
           "name": "",
           "orientation": "v",
           "showlegend": false,
           "type": "scatter",
           "x": [
            24.768625710479647
           ],
           "xaxis": "x",
           "y": [
            -304.99352435938016
           ],
           "yaxis": "y"
          }
         ],
         "name": "2023-05-24 13:52:38.115007"
        },
        {
         "data": [
          {
           "hovertemplate": "timestamp=2023-05-24 13:52:38.246239<br>pos_y=%{x}<br>pos_z=%{y}<extra></extra>",
           "legendgroup": "",
           "marker": {
            "color": "#636efa",
            "symbol": "circle"
           },
           "mode": "markers",
           "name": "",
           "orientation": "v",
           "showlegend": false,
           "type": "scatter",
           "x": [
            25.21941624279455
           ],
           "xaxis": "x",
           "y": [
            -306.84288913206547
           ],
           "yaxis": "y"
          }
         ],
         "name": "2023-05-24 13:52:38.246239"
        },
        {
         "data": [
          {
           "hovertemplate": "timestamp=2023-05-24 13:52:38.379274<br>pos_y=%{x}<br>pos_z=%{y}<extra></extra>",
           "legendgroup": "",
           "marker": {
            "color": "#636efa",
            "symbol": "circle"
           },
           "mode": "markers",
           "name": "",
           "orientation": "v",
           "showlegend": false,
           "type": "scatter",
           "x": [
            25.678053553481302
           ],
           "xaxis": "x",
           "y": [
            -308.6857516028056
           ],
           "yaxis": "y"
          }
         ],
         "name": "2023-05-24 13:52:38.379274"
        },
        {
         "data": [
          {
           "hovertemplate": "timestamp=2023-05-24 13:52:38.505158<br>pos_y=%{x}<br>pos_z=%{y}<extra></extra>",
           "legendgroup": "",
           "marker": {
            "color": "#636efa",
            "symbol": "circle"
           },
           "mode": "markers",
           "name": "",
           "orientation": "v",
           "showlegend": false,
           "type": "scatter",
           "x": [
            26.142519882838275
           ],
           "xaxis": "x",
           "y": [
            -310.5251256711244
           ],
           "yaxis": "y"
          }
         ],
         "name": "2023-05-24 13:52:38.505158"
        },
        {
         "data": [
          {
           "hovertemplate": "timestamp=2023-05-24 13:52:38.634115<br>pos_y=%{x}<br>pos_z=%{y}<extra></extra>",
           "legendgroup": "",
           "marker": {
            "color": "#636efa",
            "symbol": "circle"
           },
           "mode": "markers",
           "name": "",
           "orientation": "v",
           "showlegend": false,
           "type": "scatter",
           "x": [
            26.612481136457347
           ],
           "xaxis": "x",
           "y": [
            -312.36076108017596
           ],
           "yaxis": "y"
          }
         ],
         "name": "2023-05-24 13:52:38.634115"
        },
        {
         "data": [
          {
           "hovertemplate": "timestamp=2023-05-24 13:52:38.765278<br>pos_y=%{x}<br>pos_z=%{y}<extra></extra>",
           "legendgroup": "",
           "marker": {
            "color": "#636efa",
            "symbol": "circle"
           },
           "mode": "markers",
           "name": "",
           "orientation": "v",
           "showlegend": false,
           "type": "scatter",
           "x": [
            27.091641139112106
           ],
           "xaxis": "x",
           "y": [
            -314.18727667035716
           ],
           "yaxis": "y"
          }
         ],
         "name": "2023-05-24 13:52:38.765278"
        },
        {
         "data": [
          {
           "hovertemplate": "timestamp=2023-05-24 13:52:38.891531<br>pos_y=%{x}<br>pos_z=%{y}<extra></extra>",
           "legendgroup": "",
           "marker": {
            "color": "#636efa",
            "symbol": "circle"
           },
           "mode": "markers",
           "name": "",
           "orientation": "v",
           "showlegend": false,
           "type": "scatter",
           "x": [
            27.584627477708082
           ],
           "xaxis": "x",
           "y": [
            -315.9978196889002
           ],
           "yaxis": "y"
          }
         ],
         "name": "2023-05-24 13:52:38.891531"
        },
        {
         "data": [
          {
           "hovertemplate": "timestamp=2023-05-24 13:52:39.027356<br>pos_y=%{x}<br>pos_z=%{y}<extra></extra>",
           "legendgroup": "",
           "marker": {
            "color": "#636efa",
            "symbol": "circle"
           },
           "mode": "markers",
           "name": "",
           "orientation": "v",
           "showlegend": false,
           "type": "scatter",
           "x": [
            28.094789450879542
           ],
           "xaxis": "x",
           "y": [
            -317.7871209100264
           ],
           "yaxis": "y"
          }
         ],
         "name": "2023-05-24 13:52:39.027356"
        },
        {
         "data": [
          {
           "hovertemplate": "timestamp=2023-05-24 13:52:39.152065<br>pos_y=%{x}<br>pos_z=%{y}<extra></extra>",
           "legendgroup": "",
           "marker": {
            "color": "#636efa",
            "symbol": "circle"
           },
           "mode": "markers",
           "name": "",
           "orientation": "v",
           "showlegend": false,
           "type": "scatter",
           "x": [
            28.62228710614102
           ],
           "xaxis": "x",
           "y": [
            -319.55547203679504
           ],
           "yaxis": "y"
          }
         ],
         "name": "2023-05-24 13:52:39.152065"
        },
        {
         "data": [
          {
           "hovertemplate": "timestamp=2023-05-24 13:52:39.281179<br>pos_y=%{x}<br>pos_z=%{y}<extra></extra>",
           "legendgroup": "",
           "marker": {
            "color": "#636efa",
            "symbol": "circle"
           },
           "mode": "markers",
           "name": "",
           "orientation": "v",
           "showlegend": false,
           "type": "scatter",
           "x": [
            29.166275606050878
           ],
           "xaxis": "x",
           "y": [
            -321.30575958188456
           ],
           "yaxis": "y"
          }
         ],
         "name": "2023-05-24 13:52:39.281179"
        },
        {
         "data": [
          {
           "hovertemplate": "timestamp=2023-05-24 13:52:39.412587<br>pos_y=%{x}<br>pos_z=%{y}<extra></extra>",
           "legendgroup": "",
           "marker": {
            "color": "#636efa",
            "symbol": "circle"
           },
           "mode": "markers",
           "name": "",
           "orientation": "v",
           "showlegend": false,
           "type": "scatter",
           "x": [
            29.731284004024726
           ],
           "xaxis": "x",
           "y": [
            -323.0398569330726
           ],
           "yaxis": "y"
          }
         ],
         "name": "2023-05-24 13:52:39.412587"
        },
        {
         "data": [
          {
           "hovertemplate": "timestamp=2023-05-24 13:52:39.543629<br>pos_y=%{x}<br>pos_z=%{y}<extra></extra>",
           "legendgroup": "",
           "marker": {
            "color": "#636efa",
            "symbol": "circle"
           },
           "mode": "markers",
           "name": "",
           "orientation": "v",
           "showlegend": false,
           "type": "scatter",
           "x": [
            30.319287963557624
           ],
           "xaxis": "x",
           "y": [
            -324.7546209625456
           ],
           "yaxis": "y"
          }
         ],
         "name": "2023-05-24 13:52:39.543629"
        },
        {
         "data": [
          {
           "hovertemplate": "timestamp=2023-05-24 13:52:39.669873<br>pos_y=%{x}<br>pos_z=%{y}<extra></extra>",
           "legendgroup": "",
           "marker": {
            "color": "#636efa",
            "symbol": "circle"
           },
           "mode": "markers",
           "name": "",
           "orientation": "v",
           "showlegend": false,
           "type": "scatter",
           "x": [
            30.928609041244364
           ],
           "xaxis": "x",
           "y": [
            -326.4495283307008
           ],
           "yaxis": "y"
          }
         ],
         "name": "2023-05-24 13:52:39.669873"
        },
        {
         "data": [
          {
           "hovertemplate": "timestamp=2023-05-24 13:52:39.801210<br>pos_y=%{x}<br>pos_z=%{y}<extra></extra>",
           "legendgroup": "",
           "marker": {
            "color": "#636efa",
            "symbol": "circle"
           },
           "mode": "markers",
           "name": "",
           "orientation": "v",
           "showlegend": false,
           "type": "scatter",
           "x": [
            31.556756100073514
           ],
           "xaxis": "x",
           "y": [
            -328.1289182266901
           ],
           "yaxis": "y"
          }
         ],
         "name": "2023-05-24 13:52:39.801210"
        },
        {
         "data": [
          {
           "hovertemplate": "timestamp=2023-05-24 13:52:39.931998<br>pos_y=%{x}<br>pos_z=%{y}<extra></extra>",
           "legendgroup": "",
           "marker": {
            "color": "#636efa",
            "symbol": "circle"
           },
           "mode": "markers",
           "name": "",
           "orientation": "v",
           "showlegend": false,
           "type": "scatter",
           "x": [
            32.206178998944154
           ],
           "xaxis": "x",
           "y": [
            -329.799375994678
           ],
           "yaxis": "y"
          }
         ],
         "name": "2023-05-24 13:52:39.931998"
        },
        {
         "data": [
          {
           "hovertemplate": "timestamp=2023-05-24 13:52:40.061003<br>pos_y=%{x}<br>pos_z=%{y}<extra></extra>",
           "legendgroup": "",
           "marker": {
            "color": "#636efa",
            "symbol": "circle"
           },
           "mode": "markers",
           "name": "",
           "orientation": "v",
           "showlegend": false,
           "type": "scatter",
           "x": [
            32.87817055164082
           ],
           "xaxis": "x",
           "y": [
            -331.46334544903544
           ],
           "yaxis": "y"
          }
         ],
         "name": "2023-05-24 13:52:40.061003"
        },
        {
         "data": [
          {
           "hovertemplate": "timestamp=2023-05-24 13:52:40.193874<br>pos_y=%{x}<br>pos_z=%{y}<extra></extra>",
           "legendgroup": "",
           "marker": {
            "color": "#636efa",
            "symbol": "circle"
           },
           "mode": "markers",
           "name": "",
           "orientation": "v",
           "showlegend": false,
           "type": "scatter",
           "x": [
            33.5711688396454
           ],
           "xaxis": "x",
           "y": [
            -333.1186263693648
           ],
           "yaxis": "y"
          }
         ],
         "name": "2023-05-24 13:52:40.193874"
        },
        {
         "data": [
          {
           "hovertemplate": "timestamp=2023-05-24 13:52:40.322317<br>pos_y=%{x}<br>pos_z=%{y}<extra></extra>",
           "legendgroup": "",
           "marker": {
            "color": "#636efa",
            "symbol": "circle"
           },
           "mode": "markers",
           "name": "",
           "orientation": "v",
           "showlegend": false,
           "type": "scatter",
           "x": [
            34.28571210648387
           ],
           "xaxis": "x",
           "y": [
            -334.76442863781097
           ],
           "yaxis": "y"
          }
         ],
         "name": "2023-05-24 13:52:40.322317"
        },
        {
         "data": [
          {
           "hovertemplate": "timestamp=2023-05-24 13:52:40.453333<br>pos_y=%{x}<br>pos_z=%{y}<extra></extra>",
           "legendgroup": "",
           "marker": {
            "color": "#636efa",
            "symbol": "circle"
           },
           "mode": "markers",
           "name": "",
           "orientation": "v",
           "showlegend": false,
           "type": "scatter",
           "x": [
            35.022273214729104
           ],
           "xaxis": "x",
           "y": [
            -336.400510871456
           ],
           "yaxis": "y"
          }
         ],
         "name": "2023-05-24 13:52:40.453333"
        },
        {
         "data": [
          {
           "hovertemplate": "timestamp=2023-05-24 13:52:40.582273<br>pos_y=%{x}<br>pos_z=%{y}<extra></extra>",
           "legendgroup": "",
           "marker": {
            "color": "#636efa",
            "symbol": "circle"
           },
           "mode": "markers",
           "name": "",
           "orientation": "v",
           "showlegend": false,
           "type": "scatter",
           "x": [
            35.77945817199554
           ],
           "xaxis": "x",
           "y": [
            -338.02847683423056
           ],
           "yaxis": "y"
          }
         ],
         "name": "2023-05-24 13:52:40.582273"
        },
        {
         "data": [
          {
           "hovertemplate": "timestamp=2023-05-24 13:52:40.711636<br>pos_y=%{x}<br>pos_z=%{y}<extra></extra>",
           "legendgroup": "",
           "marker": {
            "color": "#636efa",
            "symbol": "circle"
           },
           "mode": "markers",
           "name": "",
           "orientation": "v",
           "showlegend": false,
           "type": "scatter",
           "x": [
            36.556416224272986
           ],
           "xaxis": "x",
           "y": [
            -339.648133538288
           ],
           "yaxis": "y"
          }
         ],
         "name": "2023-05-24 13:52:40.711636"
        },
        {
         "data": [
          {
           "hovertemplate": "timestamp=2023-05-24 13:52:40.840017<br>pos_y=%{x}<br>pos_z=%{y}<extra></extra>",
           "legendgroup": "",
           "marker": {
            "color": "#636efa",
            "symbol": "circle"
           },
           "mode": "markers",
           "name": "",
           "orientation": "v",
           "showlegend": false,
           "type": "scatter",
           "x": [
            37.35423230225574
           ],
           "xaxis": "x",
           "y": [
            -341.2577038266585
           ],
           "yaxis": "y"
          }
         ],
         "name": "2023-05-24 13:52:40.840017"
        },
        {
         "data": [
          {
           "hovertemplate": "timestamp=2023-05-24 13:52:40.970234<br>pos_y=%{x}<br>pos_z=%{y}<extra></extra>",
           "legendgroup": "",
           "marker": {
            "color": "#636efa",
            "symbol": "circle"
           },
           "mode": "markers",
           "name": "",
           "orientation": "v",
           "showlegend": false,
           "type": "scatter",
           "x": [
            38.172092136455575
           ],
           "xaxis": "x",
           "y": [
            -342.8571166299365
           ],
           "yaxis": "y"
          }
         ],
         "name": "2023-05-24 13:52:40.970234"
        },
        {
         "data": [
          {
           "hovertemplate": "timestamp=2023-05-24 13:52:41.097791<br>pos_y=%{x}<br>pos_z=%{y}<extra></extra>",
           "legendgroup": "",
           "marker": {
            "color": "#636efa",
            "symbol": "circle"
           },
           "mode": "markers",
           "name": "",
           "orientation": "v",
           "showlegend": false,
           "type": "scatter",
           "x": [
            39.00745027319967
           ],
           "xaxis": "x",
           "y": [
            -344.44756862437123
           ],
           "yaxis": "y"
          }
         ],
         "name": "2023-05-24 13:52:41.097791"
        },
        {
         "data": [
          {
           "hovertemplate": "timestamp=2023-05-24 13:52:41.227736<br>pos_y=%{x}<br>pos_z=%{y}<extra></extra>",
           "legendgroup": "",
           "marker": {
            "color": "#636efa",
            "symbol": "circle"
           },
           "mode": "markers",
           "name": "",
           "orientation": "v",
           "showlegend": false,
           "type": "scatter",
           "x": [
            39.857847079172736
           ],
           "xaxis": "x",
           "y": [
            -346.0287627511287
           ],
           "yaxis": "y"
          }
         ],
         "name": "2023-05-24 13:52:41.227736"
        },
        {
         "data": [
          {
           "hovertemplate": "timestamp=2023-05-24 13:52:41.358396<br>pos_y=%{x}<br>pos_z=%{y}<extra></extra>",
           "legendgroup": "",
           "marker": {
            "color": "#636efa",
            "symbol": "circle"
           },
           "mode": "markers",
           "name": "",
           "orientation": "v",
           "showlegend": false,
           "type": "scatter",
           "x": [
            40.72285395548691
           ],
           "xaxis": "x",
           "y": [
            -347.60045468656284
           ],
           "yaxis": "y"
          }
         ],
         "name": "2023-05-24 13:52:41.358396"
        },
        {
         "data": [
          {
           "hovertemplate": "timestamp=2023-05-24 13:52:41.490157<br>pos_y=%{x}<br>pos_z=%{y}<extra></extra>",
           "legendgroup": "",
           "marker": {
            "color": "#636efa",
            "symbol": "circle"
           },
           "mode": "markers",
           "name": "",
           "orientation": "v",
           "showlegend": false,
           "type": "scatter",
           "x": [
            41.59603002236319
           ],
           "xaxis": "x",
           "y": [
            -349.1629670048649
           ],
           "yaxis": "y"
          }
         ],
         "name": "2023-05-24 13:52:41.490157"
        },
        {
         "data": [
          {
           "hovertemplate": "timestamp=2023-05-24 13:52:41.620729<br>pos_y=%{x}<br>pos_z=%{y}<extra></extra>",
           "legendgroup": "",
           "marker": {
            "color": "#636efa",
            "symbol": "circle"
           },
           "mode": "markers",
           "name": "",
           "orientation": "v",
           "showlegend": false,
           "type": "scatter",
           "x": [
            42.473075931877446
           ],
           "xaxis": "x",
           "y": [
            -350.71494121800765
           ],
           "yaxis": "y"
          }
         ],
         "name": "2023-05-24 13:52:41.620729"
        },
        {
         "data": [
          {
           "hovertemplate": "timestamp=2023-05-24 13:52:41.750555<br>pos_y=%{x}<br>pos_z=%{y}<extra></extra>",
           "legendgroup": "",
           "marker": {
            "color": "#636efa",
            "symbol": "circle"
           },
           "mode": "markers",
           "name": "",
           "orientation": "v",
           "showlegend": false,
           "type": "scatter",
           "x": [
            43.363301603061366
           ],
           "xaxis": "x",
           "y": [
            -352.2541436518257
           ],
           "yaxis": "y"
          }
         ],
         "name": "2023-05-24 13:52:41.750555"
        },
        {
         "data": [
          {
           "hovertemplate": "timestamp=2023-05-24 13:52:41.878798<br>pos_y=%{x}<br>pos_z=%{y}<extra></extra>",
           "legendgroup": "",
           "marker": {
            "color": "#636efa",
            "symbol": "circle"
           },
           "mode": "markers",
           "name": "",
           "orientation": "v",
           "showlegend": false,
           "type": "scatter",
           "x": [
            44.27016354436548
           ],
           "xaxis": "x",
           "y": [
            -353.7778267119591
           ],
           "yaxis": "y"
          }
         ],
         "name": "2023-05-24 13:52:41.878798"
        },
        {
         "data": [
          {
           "hovertemplate": "timestamp=2023-05-24 13:52:42.007546<br>pos_y=%{x}<br>pos_z=%{y}<extra></extra>",
           "legendgroup": "",
           "marker": {
            "color": "#636efa",
            "symbol": "circle"
           },
           "mode": "markers",
           "name": "",
           "orientation": "v",
           "showlegend": false,
           "type": "scatter",
           "x": [
            45.18905232329226
           ],
           "xaxis": "x",
           "y": [
            -355.2869607416138
           ],
           "yaxis": "y"
          }
         ],
         "name": "2023-05-24 13:52:42.007546"
        },
        {
         "data": [
          {
           "hovertemplate": "timestamp=2023-05-24 13:52:42.135264<br>pos_y=%{x}<br>pos_z=%{y}<extra></extra>",
           "legendgroup": "",
           "marker": {
            "color": "#636efa",
            "symbol": "circle"
           },
           "mode": "markers",
           "name": "",
           "orientation": "v",
           "showlegend": false,
           "type": "scatter",
           "x": [
            46.1121416967066
           ],
           "xaxis": "x",
           "y": [
            -356.7791961752605
           ],
           "yaxis": "y"
          }
         ],
         "name": "2023-05-24 13:52:42.135264"
        },
        {
         "data": [
          {
           "hovertemplate": "timestamp=2023-05-24 13:52:42.269143<br>pos_y=%{x}<br>pos_z=%{y}<extra></extra>",
           "legendgroup": "",
           "marker": {
            "color": "#636efa",
            "symbol": "circle"
           },
           "mode": "markers",
           "name": "",
           "orientation": "v",
           "showlegend": false,
           "type": "scatter",
           "x": [
            47.03165854659413
           ],
           "xaxis": "x",
           "y": [
            -358.24842230291796
           ],
           "yaxis": "y"
          }
         ],
         "name": "2023-05-24 13:52:42.269143"
        },
        {
         "data": [
          {
           "hovertemplate": "timestamp=2023-05-24 13:52:42.396341<br>pos_y=%{x}<br>pos_z=%{y}<extra></extra>",
           "legendgroup": "",
           "marker": {
            "color": "#636efa",
            "symbol": "circle"
           },
           "mode": "markers",
           "name": "",
           "orientation": "v",
           "showlegend": false,
           "type": "scatter",
           "x": [
            47.94012827171668
           ],
           "xaxis": "x",
           "y": [
            -359.6953535028587
           ],
           "yaxis": "y"
          }
         ],
         "name": "2023-05-24 13:52:42.396341"
        },
        {
         "data": [
          {
           "hovertemplate": "timestamp=2023-05-24 13:52:42.524820<br>pos_y=%{x}<br>pos_z=%{y}<extra></extra>",
           "legendgroup": "",
           "marker": {
            "color": "#636efa",
            "symbol": "circle"
           },
           "mode": "markers",
           "name": "",
           "orientation": "v",
           "showlegend": false,
           "type": "scatter",
           "x": [
            48.8358137559026
           ],
           "xaxis": "x",
           "y": [
            -361.1222673683281
           ],
           "yaxis": "y"
          }
         ],
         "name": "2023-05-24 13:52:42.524820"
        },
        {
         "data": [
          {
           "hovertemplate": "timestamp=2023-05-24 13:52:42.659115<br>pos_y=%{x}<br>pos_z=%{y}<extra></extra>",
           "legendgroup": "",
           "marker": {
            "color": "#636efa",
            "symbol": "circle"
           },
           "mode": "markers",
           "name": "",
           "orientation": "v",
           "showlegend": false,
           "type": "scatter",
           "x": [
            49.72423956346728
           ],
           "xaxis": "x",
           "y": [
            -362.5300350863833
           ],
           "yaxis": "y"
          }
         ],
         "name": "2023-05-24 13:52:42.659115"
        },
        {
         "data": [
          {
           "hovertemplate": "timestamp=2023-05-24 13:52:42.783034<br>pos_y=%{x}<br>pos_z=%{y}<extra></extra>",
           "legendgroup": "",
           "marker": {
            "color": "#636efa",
            "symbol": "circle"
           },
           "mode": "markers",
           "name": "",
           "orientation": "v",
           "showlegend": false,
           "type": "scatter",
           "x": [
            50.599436957679046
           ],
           "xaxis": "x",
           "y": [
            -363.9221722828747
           ],
           "yaxis": "y"
          }
         ],
         "name": "2023-05-24 13:52:42.783034"
        },
        {
         "data": [
          {
           "hovertemplate": "timestamp=2023-05-24 13:52:42.914507<br>pos_y=%{x}<br>pos_z=%{y}<extra></extra>",
           "legendgroup": "",
           "marker": {
            "color": "#636efa",
            "symbol": "circle"
           },
           "mode": "markers",
           "name": "",
           "orientation": "v",
           "showlegend": false,
           "type": "scatter",
           "x": [
            51.45710700713193
           ],
           "xaxis": "x",
           "y": [
            -365.30521673550834
           ],
           "yaxis": "y"
          }
         ],
         "name": "2023-05-24 13:52:42.914507"
        },
        {
         "data": [
          {
           "hovertemplate": "timestamp=2023-05-24 13:52:43.043511<br>pos_y=%{x}<br>pos_z=%{y}<extra></extra>",
           "legendgroup": "",
           "marker": {
            "color": "#636efa",
            "symbol": "circle"
           },
           "mode": "markers",
           "name": "",
           "orientation": "v",
           "showlegend": false,
           "type": "scatter",
           "x": [
            52.301436889688844
           ],
           "xaxis": "x",
           "y": [
            -366.6809057413045
           ],
           "yaxis": "y"
          }
         ],
         "name": "2023-05-24 13:52:43.043511"
        },
        {
         "data": [
          {
           "hovertemplate": "timestamp=2023-05-24 13:52:43.174423<br>pos_y=%{x}<br>pos_z=%{y}<extra></extra>",
           "legendgroup": "",
           "marker": {
            "color": "#636efa",
            "symbol": "circle"
           },
           "mode": "markers",
           "name": "",
           "orientation": "v",
           "showlegend": false,
           "type": "scatter",
           "x": [
            53.13836252716553
           ],
           "xaxis": "x",
           "y": [
            -368.0530886949809
           ],
           "yaxis": "y"
          }
         ],
         "name": "2023-05-24 13:52:43.174423"
        },
        {
         "data": [
          {
           "hovertemplate": "timestamp=2023-05-24 13:52:43.306857<br>pos_y=%{x}<br>pos_z=%{y}<extra></extra>",
           "legendgroup": "",
           "marker": {
            "color": "#636efa",
            "symbol": "circle"
           },
           "mode": "markers",
           "name": "",
           "orientation": "v",
           "showlegend": false,
           "type": "scatter",
           "x": [
            53.96755407394998
           ],
           "xaxis": "x",
           "y": [
            -369.4288259396374
           ],
           "yaxis": "y"
          }
         ],
         "name": "2023-05-24 13:52:43.306857"
        },
        {
         "data": [
          {
           "hovertemplate": "timestamp=2023-05-24 13:52:43.435337<br>pos_y=%{x}<br>pos_z=%{y}<extra></extra>",
           "legendgroup": "",
           "marker": {
            "color": "#636efa",
            "symbol": "circle"
           },
           "mode": "markers",
           "name": "",
           "orientation": "v",
           "showlegend": false,
           "type": "scatter",
           "x": [
            54.7878597224343
           ],
           "xaxis": "x",
           "y": [
            -370.80701737896464
           ],
           "yaxis": "y"
          }
         ],
         "name": "2023-05-24 13:52:43.435337"
        },
        {
         "data": [
          {
           "hovertemplate": "timestamp=2023-05-24 13:52:43.563764<br>pos_y=%{x}<br>pos_z=%{y}<extra></extra>",
           "legendgroup": "",
           "marker": {
            "color": "#636efa",
            "symbol": "circle"
           },
           "mode": "markers",
           "name": "",
           "orientation": "v",
           "showlegend": false,
           "type": "scatter",
           "x": [
            55.59794323965474
           ],
           "xaxis": "x",
           "y": [
            -372.18372629438005
           ],
           "yaxis": "y"
          }
         ],
         "name": "2023-05-24 13:52:43.563764"
        },
        {
         "data": [
          {
           "hovertemplate": "timestamp=2023-05-24 13:52:43.691758<br>pos_y=%{x}<br>pos_z=%{y}<extra></extra>",
           "legendgroup": "",
           "marker": {
            "color": "#636efa",
            "symbol": "circle"
           },
           "mode": "markers",
           "name": "",
           "orientation": "v",
           "showlegend": false,
           "type": "scatter",
           "x": [
            56.39272254332407
           ],
           "xaxis": "x",
           "y": [
            -373.5581836444222
           ],
           "yaxis": "y"
          }
         ],
         "name": "2023-05-24 13:52:43.691758"
        },
        {
         "data": [
          {
           "hovertemplate": "timestamp=2023-05-24 13:52:43.825228<br>pos_y=%{x}<br>pos_z=%{y}<extra></extra>",
           "legendgroup": "",
           "marker": {
            "color": "#636efa",
            "symbol": "circle"
           },
           "mode": "markers",
           "name": "",
           "orientation": "v",
           "showlegend": false,
           "type": "scatter",
           "x": [
            57.16771168557462
           ],
           "xaxis": "x",
           "y": [
            -374.91948596090714
           ],
           "yaxis": "y"
          }
         ],
         "name": "2023-05-24 13:52:43.825228"
        },
        {
         "data": [
          {
           "hovertemplate": "timestamp=2023-05-24 13:52:43.954412<br>pos_y=%{x}<br>pos_z=%{y}<extra></extra>",
           "legendgroup": "",
           "marker": {
            "color": "#636efa",
            "symbol": "circle"
           },
           "mode": "markers",
           "name": "",
           "orientation": "v",
           "showlegend": false,
           "type": "scatter",
           "x": [
            57.912283687089285
           ],
           "xaxis": "x",
           "y": [
            -376.25408396989405
           ],
           "yaxis": "y"
          }
         ],
         "name": "2023-05-24 13:52:43.954412"
        },
        {
         "data": [
          {
           "hovertemplate": "timestamp=2023-05-24 13:52:44.083896<br>pos_y=%{x}<br>pos_z=%{y}<extra></extra>",
           "legendgroup": "",
           "marker": {
            "color": "#636efa",
            "symbol": "circle"
           },
           "mode": "markers",
           "name": "",
           "orientation": "v",
           "showlegend": false,
           "type": "scatter",
           "x": [
            58.62184472553358
           ],
           "xaxis": "x",
           "y": [
            -377.5566627659992
           ],
           "yaxis": "y"
          }
         ],
         "name": "2023-05-24 13:52:44.083896"
        },
        {
         "data": [
          {
           "hovertemplate": "timestamp=2023-05-24 13:52:44.212914<br>pos_y=%{x}<br>pos_z=%{y}<extra></extra>",
           "legendgroup": "",
           "marker": {
            "color": "#636efa",
            "symbol": "circle"
           },
           "mode": "markers",
           "name": "",
           "orientation": "v",
           "showlegend": false,
           "type": "scatter",
           "x": [
            59.29703530473587
           ],
           "xaxis": "x",
           "y": [
            -378.8238930209873
           ],
           "yaxis": "y"
          }
         ],
         "name": "2023-05-24 13:52:44.212914"
        },
        {
         "data": [
          {
           "hovertemplate": "timestamp=2023-05-24 13:52:44.339799<br>pos_y=%{x}<br>pos_z=%{y}<extra></extra>",
           "legendgroup": "",
           "marker": {
            "color": "#636efa",
            "symbol": "circle"
           },
           "mode": "markers",
           "name": "",
           "orientation": "v",
           "showlegend": false,
           "type": "scatter",
           "x": [
            59.93933077087273
           ],
           "xaxis": "x",
           "y": [
            -380.0542329592066
           ],
           "yaxis": "y"
          }
         ],
         "name": "2023-05-24 13:52:44.339799"
        },
        {
         "data": [
          {
           "hovertemplate": "timestamp=2023-05-24 13:52:44.472135<br>pos_y=%{x}<br>pos_z=%{y}<extra></extra>",
           "legendgroup": "",
           "marker": {
            "color": "#636efa",
            "symbol": "circle"
           },
           "mode": "markers",
           "name": "",
           "orientation": "v",
           "showlegend": false,
           "type": "scatter",
           "x": [
            60.552848456209944
           ],
           "xaxis": "x",
           "y": [
            -381.2444932986527
           ],
           "yaxis": "y"
          }
         ],
         "name": "2023-05-24 13:52:44.472135"
        },
        {
         "data": [
          {
           "hovertemplate": "timestamp=2023-05-24 13:52:44.597600<br>pos_y=%{x}<br>pos_z=%{y}<extra></extra>",
           "legendgroup": "",
           "marker": {
            "color": "#636efa",
            "symbol": "circle"
           },
           "mode": "markers",
           "name": "",
           "orientation": "v",
           "showlegend": false,
           "type": "scatter",
           "x": [
            61.14395656992354
           ],
           "xaxis": "x",
           "y": [
            -382.392092155099
           ],
           "yaxis": "y"
          }
         ],
         "name": "2023-05-24 13:52:44.597600"
        },
        {
         "data": [
          {
           "hovertemplate": "timestamp=2023-05-24 13:52:44.730819<br>pos_y=%{x}<br>pos_z=%{y}<extra></extra>",
           "legendgroup": "",
           "marker": {
            "color": "#636efa",
            "symbol": "circle"
           },
           "mode": "markers",
           "name": "",
           "orientation": "v",
           "showlegend": false,
           "type": "scatter",
           "x": [
            61.71256929147845
           ],
           "xaxis": "x",
           "y": [
            -383.49551497565926
           ],
           "yaxis": "y"
          }
         ],
         "name": "2023-05-24 13:52:44.730819"
        },
        {
         "data": [
          {
           "hovertemplate": "timestamp=2023-05-24 13:52:44.859719<br>pos_y=%{x}<br>pos_z=%{y}<extra></extra>",
           "legendgroup": "",
           "marker": {
            "color": "#636efa",
            "symbol": "circle"
           },
           "mode": "markers",
           "name": "",
           "orientation": "v",
           "showlegend": false,
           "type": "scatter",
           "x": [
            62.26022634917473
           ],
           "xaxis": "x",
           "y": [
            -384.5662850489328
           ],
           "yaxis": "y"
          }
         ],
         "name": "2023-05-24 13:52:44.859719"
        },
        {
         "data": [
          {
           "hovertemplate": "timestamp=2023-05-24 13:52:44.987129<br>pos_y=%{x}<br>pos_z=%{y}<extra></extra>",
           "legendgroup": "",
           "marker": {
            "color": "#636efa",
            "symbol": "circle"
           },
           "mode": "markers",
           "name": "",
           "orientation": "v",
           "showlegend": false,
           "type": "scatter",
           "x": [
            62.79783670742584
           ],
           "xaxis": "x",
           "y": [
            -385.61645049193044
           ],
           "yaxis": "y"
          }
         ],
         "name": "2023-05-24 13:52:44.987129"
        },
        {
         "data": [
          {
           "hovertemplate": "timestamp=2023-05-24 13:52:45.117858<br>pos_y=%{x}<br>pos_z=%{y}<extra></extra>",
           "legendgroup": "",
           "marker": {
            "color": "#636efa",
            "symbol": "circle"
           },
           "mode": "markers",
           "name": "",
           "orientation": "v",
           "showlegend": false,
           "type": "scatter",
           "x": [
            63.32954641996367
           ],
           "xaxis": "x",
           "y": [
            -386.6439631660149
           ],
           "yaxis": "y"
          }
         ],
         "name": "2023-05-24 13:52:45.117858"
        },
        {
         "data": [
          {
           "hovertemplate": "timestamp=2023-05-24 13:52:45.249105<br>pos_y=%{x}<br>pos_z=%{y}<extra></extra>",
           "legendgroup": "",
           "marker": {
            "color": "#636efa",
            "symbol": "circle"
           },
           "mode": "markers",
           "name": "",
           "orientation": "v",
           "showlegend": false,
           "type": "scatter",
           "x": [
            63.86653864054436
           ],
           "xaxis": "x",
           "y": [
            -387.6466837441046
           ],
           "yaxis": "y"
          }
         ],
         "name": "2023-05-24 13:52:45.249105"
        },
        {
         "data": [
          {
           "hovertemplate": "timestamp=2023-05-24 13:52:45.380759<br>pos_y=%{x}<br>pos_z=%{y}<extra></extra>",
           "legendgroup": "",
           "marker": {
            "color": "#636efa",
            "symbol": "circle"
           },
           "mode": "markers",
           "name": "",
           "orientation": "v",
           "showlegend": false,
           "type": "scatter",
           "x": [
            64.42126044687399
           ],
           "xaxis": "x",
           "y": [
            -388.63349888481747
           ],
           "yaxis": "y"
          }
         ],
         "name": "2023-05-24 13:52:45.380759"
        },
        {
         "data": [
          {
           "hovertemplate": "timestamp=2023-05-24 13:52:45.508621<br>pos_y=%{x}<br>pos_z=%{y}<extra></extra>",
           "legendgroup": "",
           "marker": {
            "color": "#636efa",
            "symbol": "circle"
           },
           "mode": "markers",
           "name": "",
           "orientation": "v",
           "showlegend": false,
           "type": "scatter",
           "x": [
            65.00396491603476
           ],
           "xaxis": "x",
           "y": [
            -389.6154388191611
           ],
           "yaxis": "y"
          }
         ],
         "name": "2023-05-24 13:52:45.508621"
        },
        {
         "data": [
          {
           "hovertemplate": "timestamp=2023-05-24 13:52:45.639962<br>pos_y=%{x}<br>pos_z=%{y}<extra></extra>",
           "legendgroup": "",
           "marker": {
            "color": "#636efa",
            "symbol": "circle"
           },
           "mode": "markers",
           "name": "",
           "orientation": "v",
           "showlegend": false,
           "type": "scatter",
           "x": [
            65.62545421014083
           ],
           "xaxis": "x",
           "y": [
            -390.59650228322596
           ],
           "yaxis": "y"
          }
         ],
         "name": "2023-05-24 13:52:45.639962"
        },
        {
         "data": [
          {
           "hovertemplate": "timestamp=2023-05-24 13:52:45.767363<br>pos_y=%{x}<br>pos_z=%{y}<extra></extra>",
           "legendgroup": "",
           "marker": {
            "color": "#636efa",
            "symbol": "circle"
           },
           "mode": "markers",
           "name": "",
           "orientation": "v",
           "showlegend": false,
           "type": "scatter",
           "x": [
            66.29855178447326
           ],
           "xaxis": "x",
           "y": [
            -391.5865640374737
           ],
           "yaxis": "y"
          }
         ],
         "name": "2023-05-24 13:52:45.767363"
        },
        {
         "data": [
          {
           "hovertemplate": "timestamp=2023-05-24 13:52:45.900832<br>pos_y=%{x}<br>pos_z=%{y}<extra></extra>",
           "legendgroup": "",
           "marker": {
            "color": "#636efa",
            "symbol": "circle"
           },
           "mode": "markers",
           "name": "",
           "orientation": "v",
           "showlegend": false,
           "type": "scatter",
           "x": [
            67.04053291374557
           ],
           "xaxis": "x",
           "y": [
            -392.59406112814884
           ],
           "yaxis": "y"
          }
         ],
         "name": "2023-05-24 13:52:45.900832"
        },
        {
         "data": [
          {
           "hovertemplate": "timestamp=2023-05-24 13:52:46.030727<br>pos_y=%{x}<br>pos_z=%{y}<extra></extra>",
           "legendgroup": "",
           "marker": {
            "color": "#636efa",
            "symbol": "circle"
           },
           "mode": "markers",
           "name": "",
           "orientation": "v",
           "showlegend": false,
           "type": "scatter",
           "x": [
            67.86097593192812
           ],
           "xaxis": "x",
           "y": [
            -393.62255790276805
           ],
           "yaxis": "y"
          }
         ],
         "name": "2023-05-24 13:52:46.030727"
        },
        {
         "data": [
          {
           "hovertemplate": "timestamp=2023-05-24 13:52:46.159243<br>pos_y=%{x}<br>pos_z=%{y}<extra></extra>",
           "legendgroup": "",
           "marker": {
            "color": "#636efa",
            "symbol": "circle"
           },
           "mode": "markers",
           "name": "",
           "orientation": "v",
           "showlegend": false,
           "type": "scatter",
           "x": [
            68.75378146589782
           ],
           "xaxis": "x",
           "y": [
            -394.6910727920169
           ],
           "yaxis": "y"
          }
         ],
         "name": "2023-05-24 13:52:46.159243"
        },
        {
         "data": [
          {
           "hovertemplate": "timestamp=2023-05-24 13:52:46.287348<br>pos_y=%{x}<br>pos_z=%{y}<extra></extra>",
           "legendgroup": "",
           "marker": {
            "color": "#636efa",
            "symbol": "circle"
           },
           "mode": "markers",
           "name": "",
           "orientation": "v",
           "showlegend": false,
           "type": "scatter",
           "x": [
            69.70470353831783
           ],
           "xaxis": "x",
           "y": [
            -395.82194350105834
           ],
           "yaxis": "y"
          }
         ],
         "name": "2023-05-24 13:52:46.287348"
        },
        {
         "data": [
          {
           "hovertemplate": "timestamp=2023-05-24 13:52:46.418024<br>pos_y=%{x}<br>pos_z=%{y}<extra></extra>",
           "legendgroup": "",
           "marker": {
            "color": "#636efa",
            "symbol": "circle"
           },
           "mode": "markers",
           "name": "",
           "orientation": "v",
           "showlegend": false,
           "type": "scatter",
           "x": [
            70.70904810333512
           ],
           "xaxis": "x",
           "y": [
            -397.0094313053513
           ],
           "yaxis": "y"
          }
         ],
         "name": "2023-05-24 13:52:46.418024"
        },
        {
         "data": [
          {
           "hovertemplate": "timestamp=2023-05-24 13:52:46.546913<br>pos_y=%{x}<br>pos_z=%{y}<extra></extra>",
           "legendgroup": "",
           "marker": {
            "color": "#636efa",
            "symbol": "circle"
           },
           "mode": "markers",
           "name": "",
           "orientation": "v",
           "showlegend": false,
           "type": "scatter",
           "x": [
            71.75384745695598
           ],
           "xaxis": "x",
           "y": [
            -398.2390567233154
           ],
           "yaxis": "y"
          }
         ],
         "name": "2023-05-24 13:52:46.546913"
        },
        {
         "data": [
          {
           "hovertemplate": "timestamp=2023-05-24 13:52:46.680453<br>pos_y=%{x}<br>pos_z=%{y}<extra></extra>",
           "legendgroup": "",
           "marker": {
            "color": "#636efa",
            "symbol": "circle"
           },
           "mode": "markers",
           "name": "",
           "orientation": "v",
           "showlegend": false,
           "type": "scatter",
           "x": [
            72.84395319581937
           ],
           "xaxis": "x",
           "y": [
            -399.5130296516021
           ],
           "yaxis": "y"
          }
         ],
         "name": "2023-05-24 13:52:46.680453"
        },
        {
         "data": [
          {
           "hovertemplate": "timestamp=2023-05-24 13:52:46.809466<br>pos_y=%{x}<br>pos_z=%{y}<extra></extra>",
           "legendgroup": "",
           "marker": {
            "color": "#636efa",
            "symbol": "circle"
           },
           "mode": "markers",
           "name": "",
           "orientation": "v",
           "showlegend": false,
           "type": "scatter",
           "x": [
            73.96502948661164
           ],
           "xaxis": "x",
           "y": [
            -400.84093078544595
           ],
           "yaxis": "y"
          }
         ],
         "name": "2023-05-24 13:52:46.809466"
        },
        {
         "data": [
          {
           "hovertemplate": "timestamp=2023-05-24 13:52:46.937554<br>pos_y=%{x}<br>pos_z=%{y}<extra></extra>",
           "legendgroup": "",
           "marker": {
            "color": "#636efa",
            "symbol": "circle"
           },
           "mode": "markers",
           "name": "",
           "orientation": "v",
           "showlegend": false,
           "type": "scatter",
           "x": [
            75.0873944887442
           ],
           "xaxis": "x",
           "y": [
            -402.24423194831843
           ],
           "yaxis": "y"
          }
         ],
         "name": "2023-05-24 13:52:46.937554"
        },
        {
         "data": [
          {
           "hovertemplate": "timestamp=2023-05-24 13:52:47.066038<br>pos_y=%{x}<br>pos_z=%{y}<extra></extra>",
           "legendgroup": "",
           "marker": {
            "color": "#636efa",
            "symbol": "circle"
           },
           "mode": "markers",
           "name": "",
           "orientation": "v",
           "showlegend": false,
           "type": "scatter",
           "x": [
            76.20352801132
           ],
           "xaxis": "x",
           "y": [
            -403.74141067053944
           ],
           "yaxis": "y"
          }
         ],
         "name": "2023-05-24 13:52:47.066038"
        },
        {
         "data": [
          {
           "hovertemplate": "timestamp=2023-05-24 13:52:47.196400<br>pos_y=%{x}<br>pos_z=%{y}<extra></extra>",
           "legendgroup": "",
           "marker": {
            "color": "#636efa",
            "symbol": "circle"
           },
           "mode": "markers",
           "name": "",
           "orientation": "v",
           "showlegend": false,
           "type": "scatter",
           "x": [
            77.30945634517343
           ],
           "xaxis": "x",
           "y": [
            -405.3181815190431
           ],
           "yaxis": "y"
          }
         ],
         "name": "2023-05-24 13:52:47.196400"
        },
        {
         "data": [
          {
           "hovertemplate": "timestamp=2023-05-24 13:52:47.328144<br>pos_y=%{x}<br>pos_z=%{y}<extra></extra>",
           "legendgroup": "",
           "marker": {
            "color": "#636efa",
            "symbol": "circle"
           },
           "mode": "markers",
           "name": "",
           "orientation": "v",
           "showlegend": false,
           "type": "scatter",
           "x": [
            78.40259203344897
           ],
           "xaxis": "x",
           "y": [
            -406.9472626582592
           ],
           "yaxis": "y"
          }
         ],
         "name": "2023-05-24 13:52:47.328144"
        },
        {
         "data": [
          {
           "hovertemplate": "timestamp=2023-05-24 13:52:47.453972<br>pos_y=%{x}<br>pos_z=%{y}<extra></extra>",
           "legendgroup": "",
           "marker": {
            "color": "#636efa",
            "symbol": "circle"
           },
           "mode": "markers",
           "name": "",
           "orientation": "v",
           "showlegend": false,
           "type": "scatter",
           "x": [
            79.47476841969161
           ],
           "xaxis": "x",
           "y": [
            -408.61834943129634
           ],
           "yaxis": "y"
          }
         ],
         "name": "2023-05-24 13:52:47.453972"
        },
        {
         "data": [
          {
           "hovertemplate": "timestamp=2023-05-24 13:52:47.584149<br>pos_y=%{x}<br>pos_z=%{y}<extra></extra>",
           "legendgroup": "",
           "marker": {
            "color": "#636efa",
            "symbol": "circle"
           },
           "mode": "markers",
           "name": "",
           "orientation": "v",
           "showlegend": false,
           "type": "scatter",
           "x": [
            80.5254603675428
           ],
           "xaxis": "x",
           "y": [
            -410.3317657798822
           ],
           "yaxis": "y"
          }
         ],
         "name": "2023-05-24 13:52:47.584149"
        },
        {
         "data": [
          {
           "hovertemplate": "timestamp=2023-05-24 13:52:47.715837<br>pos_y=%{x}<br>pos_z=%{y}<extra></extra>",
           "legendgroup": "",
           "marker": {
            "color": "#636efa",
            "symbol": "circle"
           },
           "mode": "markers",
           "name": "",
           "orientation": "v",
           "showlegend": false,
           "type": "scatter",
           "x": [
            81.53459092900869
           ],
           "xaxis": "x",
           "y": [
            -412.07989404418475
           ],
           "yaxis": "y"
          }
         ],
         "name": "2023-05-24 13:52:47.715837"
        },
        {
         "data": [
          {
           "hovertemplate": "timestamp=2023-05-24 13:52:47.842925<br>pos_y=%{x}<br>pos_z=%{y}<extra></extra>",
           "legendgroup": "",
           "marker": {
            "color": "#636efa",
            "symbol": "circle"
           },
           "mode": "markers",
           "name": "",
           "orientation": "v",
           "showlegend": false,
           "type": "scatter",
           "x": [
            82.50190374539427
           ],
           "xaxis": "x",
           "y": [
            -413.83950434165484
           ],
           "yaxis": "y"
          }
         ],
         "name": "2023-05-24 13:52:47.842925"
        },
        {
         "data": [
          {
           "hovertemplate": "timestamp=2023-05-24 13:52:47.972183<br>pos_y=%{x}<br>pos_z=%{y}<extra></extra>",
           "legendgroup": "",
           "marker": {
            "color": "#636efa",
            "symbol": "circle"
           },
           "mode": "markers",
           "name": "",
           "orientation": "v",
           "showlegend": false,
           "type": "scatter",
           "x": [
            83.43552846087458
           ],
           "xaxis": "x",
           "y": [
            -415.57324168160216
           ],
           "yaxis": "y"
          }
         ],
         "name": "2023-05-24 13:52:47.972183"
        },
        {
         "data": [
          {
           "hovertemplate": "timestamp=2023-05-24 13:52:48.102394<br>pos_y=%{x}<br>pos_z=%{y}<extra></extra>",
           "legendgroup": "",
           "marker": {
            "color": "#636efa",
            "symbol": "circle"
           },
           "mode": "markers",
           "name": "",
           "orientation": "v",
           "showlegend": false,
           "type": "scatter",
           "x": [
            84.32784821030128
           ],
           "xaxis": "x",
           "y": [
            -417.2525791686159
           ],
           "yaxis": "y"
          }
         ],
         "name": "2023-05-24 13:52:48.102394"
        },
        {
         "data": [
          {
           "hovertemplate": "timestamp=2023-05-24 13:52:48.230614<br>pos_y=%{x}<br>pos_z=%{y}<extra></extra>",
           "legendgroup": "",
           "marker": {
            "color": "#636efa",
            "symbol": "circle"
           },
           "mode": "markers",
           "name": "",
           "orientation": "v",
           "showlegend": false,
           "type": "scatter",
           "x": [
            85.18253176313027
           ],
           "xaxis": "x",
           "y": [
            -418.87259863694356
           ],
           "yaxis": "y"
          }
         ],
         "name": "2023-05-24 13:52:48.230614"
        },
        {
         "data": [
          {
           "hovertemplate": "timestamp=2023-05-24 13:52:48.360581<br>pos_y=%{x}<br>pos_z=%{y}<extra></extra>",
           "legendgroup": "",
           "marker": {
            "color": "#636efa",
            "symbol": "circle"
           },
           "mode": "markers",
           "name": "",
           "orientation": "v",
           "showlegend": false,
           "type": "scatter",
           "x": [
            86.00076924300933
           ],
           "xaxis": "x",
           "y": [
            -420.4363802717635
           ],
           "yaxis": "y"
          }
         ],
         "name": "2023-05-24 13:52:48.360581"
        },
        {
         "data": [
          {
           "hovertemplate": "timestamp=2023-05-24 13:52:48.490755<br>pos_y=%{x}<br>pos_z=%{y}<extra></extra>",
           "legendgroup": "",
           "marker": {
            "color": "#636efa",
            "symbol": "circle"
           },
           "mode": "markers",
           "name": "",
           "orientation": "v",
           "showlegend": false,
           "type": "scatter",
           "x": [
            86.78417781497116
           ],
           "xaxis": "x",
           "y": [
            -421.94568683261275
           ],
           "yaxis": "y"
          }
         ],
         "name": "2023-05-24 13:52:48.490755"
        },
        {
         "data": [
          {
           "hovertemplate": "timestamp=2023-05-24 13:52:48.619321<br>pos_y=%{x}<br>pos_z=%{y}<extra></extra>",
           "legendgroup": "",
           "marker": {
            "color": "#636efa",
            "symbol": "circle"
           },
           "mode": "markers",
           "name": "",
           "orientation": "v",
           "showlegend": false,
           "type": "scatter",
           "x": [
            87.533294257976
           ],
           "xaxis": "x",
           "y": [
            -423.40060718491185
           ],
           "yaxis": "y"
          }
         ],
         "name": "2023-05-24 13:52:48.619321"
        },
        {
         "data": [
          {
           "hovertemplate": "timestamp=2023-05-24 13:52:48.748451<br>pos_y=%{x}<br>pos_z=%{y}<extra></extra>",
           "legendgroup": "",
           "marker": {
            "color": "#636efa",
            "symbol": "circle"
           },
           "mode": "markers",
           "name": "",
           "orientation": "v",
           "showlegend": false,
           "type": "scatter",
           "x": [
            88.24788164492111
           ],
           "xaxis": "x",
           "y": [
            -424.7995051939721
           ],
           "yaxis": "y"
          }
         ],
         "name": "2023-05-24 13:52:48.748451"
        },
        {
         "data": [
          {
           "hovertemplate": "timestamp=2023-05-24 13:52:48.877797<br>pos_y=%{x}<br>pos_z=%{y}<extra></extra>",
           "legendgroup": "",
           "marker": {
            "color": "#636efa",
            "symbol": "circle"
           },
           "mode": "markers",
           "name": "",
           "orientation": "v",
           "showlegend": false,
           "type": "scatter",
           "x": [
            88.92755255940891
           ],
           "xaxis": "x",
           "y": [
            -426.1419502629014
           ],
           "yaxis": "y"
          }
         ],
         "name": "2023-05-24 13:52:48.877797"
        },
        {
         "data": [
          {
           "hovertemplate": "timestamp=2023-05-24 13:52:49.006150<br>pos_y=%{x}<br>pos_z=%{y}<extra></extra>",
           "legendgroup": "",
           "marker": {
            "color": "#636efa",
            "symbol": "circle"
           },
           "mode": "markers",
           "name": "",
           "orientation": "v",
           "showlegend": false,
           "type": "scatter",
           "x": [
            89.57209807259156
           ],
           "xaxis": "x",
           "y": [
            -427.42814966543347
           ],
           "yaxis": "y"
          }
         ],
         "name": "2023-05-24 13:52:49.006150"
        },
        {
         "data": [
          {
           "hovertemplate": "timestamp=2023-05-24 13:52:49.138213<br>pos_y=%{x}<br>pos_z=%{y}<extra></extra>",
           "legendgroup": "",
           "marker": {
            "color": "#636efa",
            "symbol": "circle"
           },
           "mode": "markers",
           "name": "",
           "orientation": "v",
           "showlegend": false,
           "type": "scatter",
           "x": [
            90.18178087825342
           ],
           "xaxis": "x",
           "y": [
            -428.658726306926
           ],
           "yaxis": "y"
          }
         ],
         "name": "2023-05-24 13:52:49.138213"
        },
        {
         "data": [
          {
           "hovertemplate": "timestamp=2023-05-24 13:52:49.269425<br>pos_y=%{x}<br>pos_z=%{y}<extra></extra>",
           "legendgroup": "",
           "marker": {
            "color": "#636efa",
            "symbol": "circle"
           },
           "mode": "markers",
           "name": "",
           "orientation": "v",
           "showlegend": false,
           "type": "scatter",
           "x": [
            90.75690075654454
           ],
           "xaxis": "x",
           "y": [
            -429.834323024614
           ],
           "yaxis": "y"
          }
         ],
         "name": "2023-05-24 13:52:49.269425"
        },
        {
         "data": [
          {
           "hovertemplate": "timestamp=2023-05-24 13:52:49.396467<br>pos_y=%{x}<br>pos_z=%{y}<extra></extra>",
           "legendgroup": "",
           "marker": {
            "color": "#636efa",
            "symbol": "circle"
           },
           "mode": "markers",
           "name": "",
           "orientation": "v",
           "showlegend": false,
           "type": "scatter",
           "x": [
            91.29802314759932
           ],
           "xaxis": "x",
           "y": [
            -430.9557151334669
           ],
           "yaxis": "y"
          }
         ],
         "name": "2023-05-24 13:52:49.396467"
        },
        {
         "data": [
          {
           "hovertemplate": "timestamp=2023-05-24 13:52:49.528609<br>pos_y=%{x}<br>pos_z=%{y}<extra></extra>",
           "legendgroup": "",
           "marker": {
            "color": "#636efa",
            "symbol": "circle"
           },
           "mode": "markers",
           "name": "",
           "orientation": "v",
           "showlegend": false,
           "type": "scatter",
           "x": [
            91.80556306795572
           ],
           "xaxis": "x",
           "y": [
            -432.0237647539998
           ],
           "yaxis": "y"
          }
         ],
         "name": "2023-05-24 13:52:49.528609"
        },
        {
         "data": [
          {
           "hovertemplate": "timestamp=2023-05-24 13:52:49.657098<br>pos_y=%{x}<br>pos_z=%{y}<extra></extra>",
           "legendgroup": "",
           "marker": {
            "color": "#636efa",
            "symbol": "circle"
           },
           "mode": "markers",
           "name": "",
           "orientation": "v",
           "showlegend": false,
           "type": "scatter",
           "x": [
            92.2796020449985
           ],
           "xaxis": "x",
           "y": [
            -433.0387123905524
           ],
           "yaxis": "y"
          }
         ],
         "name": "2023-05-24 13:52:49.657098"
        },
        {
         "data": [
          {
           "hovertemplate": "timestamp=2023-05-24 13:52:49.786378<br>pos_y=%{x}<br>pos_z=%{y}<extra></extra>",
           "legendgroup": "",
           "marker": {
            "color": "#636efa",
            "symbol": "circle"
           },
           "mode": "markers",
           "name": "",
           "orientation": "v",
           "showlegend": false,
           "type": "scatter",
           "x": [
            92.72037275204057
           ],
           "xaxis": "x",
           "y": [
            -434.00078757317766
           ],
           "yaxis": "y"
          }
         ],
         "name": "2023-05-24 13:52:49.786378"
        },
        {
         "data": [
          {
           "hovertemplate": "timestamp=2023-05-24 13:52:49.917037<br>pos_y=%{x}<br>pos_z=%{y}<extra></extra>",
           "legendgroup": "",
           "marker": {
            "color": "#636efa",
            "symbol": "circle"
           },
           "mode": "markers",
           "name": "",
           "orientation": "v",
           "showlegend": false,
           "type": "scatter",
           "x": [
            93.12855182913611
           ],
           "xaxis": "x",
           "y": [
            -434.910241423653
           ],
           "yaxis": "y"
          }
         ],
         "name": "2023-05-24 13:52:49.917037"
        },
        {
         "data": [
          {
           "hovertemplate": "timestamp=2023-05-24 13:52:50.046483<br>pos_y=%{x}<br>pos_z=%{y}<extra></extra>",
           "legendgroup": "",
           "marker": {
            "color": "#636efa",
            "symbol": "circle"
           },
           "mode": "markers",
           "name": "",
           "orientation": "v",
           "showlegend": false,
           "type": "scatter",
           "x": [
            93.50410456240616
           ],
           "xaxis": "x",
           "y": [
            -435.7676496784768
           ],
           "yaxis": "y"
          }
         ],
         "name": "2023-05-24 13:52:50.046483"
        },
        {
         "data": [
          {
           "hovertemplate": "timestamp=2023-05-24 13:52:50.173215<br>pos_y=%{x}<br>pos_z=%{y}<extra></extra>",
           "legendgroup": "",
           "marker": {
            "color": "#636efa",
            "symbol": "circle"
           },
           "mode": "markers",
           "name": "",
           "orientation": "v",
           "showlegend": false,
           "type": "scatter",
           "x": [
            93.84672763412303
           ],
           "xaxis": "x",
           "y": [
            -436.57344217777944
           ],
           "yaxis": "y"
          }
         ],
         "name": "2023-05-24 13:52:50.173215"
        },
        {
         "data": [
          {
           "hovertemplate": "timestamp=2023-05-24 13:52:50.309393<br>pos_y=%{x}<br>pos_z=%{y}<extra></extra>",
           "legendgroup": "",
           "marker": {
            "color": "#636efa",
            "symbol": "circle"
           },
           "mode": "markers",
           "name": "",
           "orientation": "v",
           "showlegend": false,
           "type": "scatter",
           "x": [
            94.15568216229423
           ],
           "xaxis": "x",
           "y": [
            -437.3267972464051
           ],
           "yaxis": "y"
          }
         ],
         "name": "2023-05-24 13:52:50.309393"
        }
       ],
       "layout": {
        "legend": {
         "tracegroupgap": 0
        },
        "margin": {
         "t": 60
        },
        "sliders": [
         {
          "active": 0,
          "currentvalue": {
           "prefix": "timestamp="
          },
          "len": 0.9,
          "pad": {
           "b": 10,
           "t": 60
          },
          "steps": [
           {
            "args": [
             [
              "2023-05-24 13:52:11.391647"
             ],
             {
              "frame": {
               "duration": 0,
               "redraw": false
              },
              "fromcurrent": true,
              "mode": "immediate",
              "transition": {
               "duration": 0,
               "easing": "linear"
              }
             }
            ],
            "label": "2023-05-24 13:52:11.391647",
            "method": "animate"
           },
           {
            "args": [
             [
              "2023-05-24 13:52:11.520664"
             ],
             {
              "frame": {
               "duration": 0,
               "redraw": false
              },
              "fromcurrent": true,
              "mode": "immediate",
              "transition": {
               "duration": 0,
               "easing": "linear"
              }
             }
            ],
            "label": "2023-05-24 13:52:11.520664",
            "method": "animate"
           },
           {
            "args": [
             [
              "2023-05-24 13:52:11.651807"
             ],
             {
              "frame": {
               "duration": 0,
               "redraw": false
              },
              "fromcurrent": true,
              "mode": "immediate",
              "transition": {
               "duration": 0,
               "easing": "linear"
              }
             }
            ],
            "label": "2023-05-24 13:52:11.651807",
            "method": "animate"
           },
           {
            "args": [
             [
              "2023-05-24 13:52:11.786708"
             ],
             {
              "frame": {
               "duration": 0,
               "redraw": false
              },
              "fromcurrent": true,
              "mode": "immediate",
              "transition": {
               "duration": 0,
               "easing": "linear"
              }
             }
            ],
            "label": "2023-05-24 13:52:11.786708",
            "method": "animate"
           },
           {
            "args": [
             [
              "2023-05-24 13:52:11.914416"
             ],
             {
              "frame": {
               "duration": 0,
               "redraw": false
              },
              "fromcurrent": true,
              "mode": "immediate",
              "transition": {
               "duration": 0,
               "easing": "linear"
              }
             }
            ],
            "label": "2023-05-24 13:52:11.914416",
            "method": "animate"
           },
           {
            "args": [
             [
              "2023-05-24 13:52:12.041363"
             ],
             {
              "frame": {
               "duration": 0,
               "redraw": false
              },
              "fromcurrent": true,
              "mode": "immediate",
              "transition": {
               "duration": 0,
               "easing": "linear"
              }
             }
            ],
            "label": "2023-05-24 13:52:12.041363",
            "method": "animate"
           },
           {
            "args": [
             [
              "2023-05-24 13:52:12.173362"
             ],
             {
              "frame": {
               "duration": 0,
               "redraw": false
              },
              "fromcurrent": true,
              "mode": "immediate",
              "transition": {
               "duration": 0,
               "easing": "linear"
              }
             }
            ],
            "label": "2023-05-24 13:52:12.173362",
            "method": "animate"
           },
           {
            "args": [
             [
              "2023-05-24 13:52:12.302196"
             ],
             {
              "frame": {
               "duration": 0,
               "redraw": false
              },
              "fromcurrent": true,
              "mode": "immediate",
              "transition": {
               "duration": 0,
               "easing": "linear"
              }
             }
            ],
            "label": "2023-05-24 13:52:12.302196",
            "method": "animate"
           },
           {
            "args": [
             [
              "2023-05-24 13:52:12.433154"
             ],
             {
              "frame": {
               "duration": 0,
               "redraw": false
              },
              "fromcurrent": true,
              "mode": "immediate",
              "transition": {
               "duration": 0,
               "easing": "linear"
              }
             }
            ],
            "label": "2023-05-24 13:52:12.433154",
            "method": "animate"
           },
           {
            "args": [
             [
              "2023-05-24 13:52:12.564517"
             ],
             {
              "frame": {
               "duration": 0,
               "redraw": false
              },
              "fromcurrent": true,
              "mode": "immediate",
              "transition": {
               "duration": 0,
               "easing": "linear"
              }
             }
            ],
            "label": "2023-05-24 13:52:12.564517",
            "method": "animate"
           },
           {
            "args": [
             [
              "2023-05-24 13:52:12.692224"
             ],
             {
              "frame": {
               "duration": 0,
               "redraw": false
              },
              "fromcurrent": true,
              "mode": "immediate",
              "transition": {
               "duration": 0,
               "easing": "linear"
              }
             }
            ],
            "label": "2023-05-24 13:52:12.692224",
            "method": "animate"
           },
           {
            "args": [
             [
              "2023-05-24 13:52:12.820066"
             ],
             {
              "frame": {
               "duration": 0,
               "redraw": false
              },
              "fromcurrent": true,
              "mode": "immediate",
              "transition": {
               "duration": 0,
               "easing": "linear"
              }
             }
            ],
            "label": "2023-05-24 13:52:12.820066",
            "method": "animate"
           },
           {
            "args": [
             [
              "2023-05-24 13:52:12.951295"
             ],
             {
              "frame": {
               "duration": 0,
               "redraw": false
              },
              "fromcurrent": true,
              "mode": "immediate",
              "transition": {
               "duration": 0,
               "easing": "linear"
              }
             }
            ],
            "label": "2023-05-24 13:52:12.951295",
            "method": "animate"
           },
           {
            "args": [
             [
              "2023-05-24 13:52:13.082110"
             ],
             {
              "frame": {
               "duration": 0,
               "redraw": false
              },
              "fromcurrent": true,
              "mode": "immediate",
              "transition": {
               "duration": 0,
               "easing": "linear"
              }
             }
            ],
            "label": "2023-05-24 13:52:13.082110",
            "method": "animate"
           },
           {
            "args": [
             [
              "2023-05-24 13:52:13.208994"
             ],
             {
              "frame": {
               "duration": 0,
               "redraw": false
              },
              "fromcurrent": true,
              "mode": "immediate",
              "transition": {
               "duration": 0,
               "easing": "linear"
              }
             }
            ],
            "label": "2023-05-24 13:52:13.208994",
            "method": "animate"
           },
           {
            "args": [
             [
              "2023-05-24 13:52:13.338438"
             ],
             {
              "frame": {
               "duration": 0,
               "redraw": false
              },
              "fromcurrent": true,
              "mode": "immediate",
              "transition": {
               "duration": 0,
               "easing": "linear"
              }
             }
            ],
            "label": "2023-05-24 13:52:13.338438",
            "method": "animate"
           },
           {
            "args": [
             [
              "2023-05-24 13:52:13.469232"
             ],
             {
              "frame": {
               "duration": 0,
               "redraw": false
              },
              "fromcurrent": true,
              "mode": "immediate",
              "transition": {
               "duration": 0,
               "easing": "linear"
              }
             }
            ],
            "label": "2023-05-24 13:52:13.469232",
            "method": "animate"
           },
           {
            "args": [
             [
              "2023-05-24 13:52:13.597706"
             ],
             {
              "frame": {
               "duration": 0,
               "redraw": false
              },
              "fromcurrent": true,
              "mode": "immediate",
              "transition": {
               "duration": 0,
               "easing": "linear"
              }
             }
            ],
            "label": "2023-05-24 13:52:13.597706",
            "method": "animate"
           },
           {
            "args": [
             [
              "2023-05-24 13:52:13.726025"
             ],
             {
              "frame": {
               "duration": 0,
               "redraw": false
              },
              "fromcurrent": true,
              "mode": "immediate",
              "transition": {
               "duration": 0,
               "easing": "linear"
              }
             }
            ],
            "label": "2023-05-24 13:52:13.726025",
            "method": "animate"
           },
           {
            "args": [
             [
              "2023-05-24 13:52:13.855184"
             ],
             {
              "frame": {
               "duration": 0,
               "redraw": false
              },
              "fromcurrent": true,
              "mode": "immediate",
              "transition": {
               "duration": 0,
               "easing": "linear"
              }
             }
            ],
            "label": "2023-05-24 13:52:13.855184",
            "method": "animate"
           },
           {
            "args": [
             [
              "2023-05-24 13:52:13.988957"
             ],
             {
              "frame": {
               "duration": 0,
               "redraw": false
              },
              "fromcurrent": true,
              "mode": "immediate",
              "transition": {
               "duration": 0,
               "easing": "linear"
              }
             }
            ],
            "label": "2023-05-24 13:52:13.988957",
            "method": "animate"
           },
           {
            "args": [
             [
              "2023-05-24 13:52:14.119931"
             ],
             {
              "frame": {
               "duration": 0,
               "redraw": false
              },
              "fromcurrent": true,
              "mode": "immediate",
              "transition": {
               "duration": 0,
               "easing": "linear"
              }
             }
            ],
            "label": "2023-05-24 13:52:14.119931",
            "method": "animate"
           },
           {
            "args": [
             [
              "2023-05-24 13:52:14.247031"
             ],
             {
              "frame": {
               "duration": 0,
               "redraw": false
              },
              "fromcurrent": true,
              "mode": "immediate",
              "transition": {
               "duration": 0,
               "easing": "linear"
              }
             }
            ],
            "label": "2023-05-24 13:52:14.247031",
            "method": "animate"
           },
           {
            "args": [
             [
              "2023-05-24 13:52:14.373113"
             ],
             {
              "frame": {
               "duration": 0,
               "redraw": false
              },
              "fromcurrent": true,
              "mode": "immediate",
              "transition": {
               "duration": 0,
               "easing": "linear"
              }
             }
            ],
            "label": "2023-05-24 13:52:14.373113",
            "method": "animate"
           },
           {
            "args": [
             [
              "2023-05-24 13:52:14.508851"
             ],
             {
              "frame": {
               "duration": 0,
               "redraw": false
              },
              "fromcurrent": true,
              "mode": "immediate",
              "transition": {
               "duration": 0,
               "easing": "linear"
              }
             }
            ],
            "label": "2023-05-24 13:52:14.508851",
            "method": "animate"
           },
           {
            "args": [
             [
              "2023-05-24 13:52:14.634273"
             ],
             {
              "frame": {
               "duration": 0,
               "redraw": false
              },
              "fromcurrent": true,
              "mode": "immediate",
              "transition": {
               "duration": 0,
               "easing": "linear"
              }
             }
            ],
            "label": "2023-05-24 13:52:14.634273",
            "method": "animate"
           },
           {
            "args": [
             [
              "2023-05-24 13:52:14.766044"
             ],
             {
              "frame": {
               "duration": 0,
               "redraw": false
              },
              "fromcurrent": true,
              "mode": "immediate",
              "transition": {
               "duration": 0,
               "easing": "linear"
              }
             }
            ],
            "label": "2023-05-24 13:52:14.766044",
            "method": "animate"
           },
           {
            "args": [
             [
              "2023-05-24 13:52:14.894661"
             ],
             {
              "frame": {
               "duration": 0,
               "redraw": false
              },
              "fromcurrent": true,
              "mode": "immediate",
              "transition": {
               "duration": 0,
               "easing": "linear"
              }
             }
            ],
            "label": "2023-05-24 13:52:14.894661",
            "method": "animate"
           },
           {
            "args": [
             [
              "2023-05-24 13:52:15.023545"
             ],
             {
              "frame": {
               "duration": 0,
               "redraw": false
              },
              "fromcurrent": true,
              "mode": "immediate",
              "transition": {
               "duration": 0,
               "easing": "linear"
              }
             }
            ],
            "label": "2023-05-24 13:52:15.023545",
            "method": "animate"
           },
           {
            "args": [
             [
              "2023-05-24 13:52:15.152867"
             ],
             {
              "frame": {
               "duration": 0,
               "redraw": false
              },
              "fromcurrent": true,
              "mode": "immediate",
              "transition": {
               "duration": 0,
               "easing": "linear"
              }
             }
            ],
            "label": "2023-05-24 13:52:15.152867",
            "method": "animate"
           },
           {
            "args": [
             [
              "2023-05-24 13:52:15.283219"
             ],
             {
              "frame": {
               "duration": 0,
               "redraw": false
              },
              "fromcurrent": true,
              "mode": "immediate",
              "transition": {
               "duration": 0,
               "easing": "linear"
              }
             }
            ],
            "label": "2023-05-24 13:52:15.283219",
            "method": "animate"
           },
           {
            "args": [
             [
              "2023-05-24 13:52:15.412391"
             ],
             {
              "frame": {
               "duration": 0,
               "redraw": false
              },
              "fromcurrent": true,
              "mode": "immediate",
              "transition": {
               "duration": 0,
               "easing": "linear"
              }
             }
            ],
            "label": "2023-05-24 13:52:15.412391",
            "method": "animate"
           },
           {
            "args": [
             [
              "2023-05-24 13:52:15.548353"
             ],
             {
              "frame": {
               "duration": 0,
               "redraw": false
              },
              "fromcurrent": true,
              "mode": "immediate",
              "transition": {
               "duration": 0,
               "easing": "linear"
              }
             }
            ],
            "label": "2023-05-24 13:52:15.548353",
            "method": "animate"
           },
           {
            "args": [
             [
              "2023-05-24 13:52:15.674939"
             ],
             {
              "frame": {
               "duration": 0,
               "redraw": false
              },
              "fromcurrent": true,
              "mode": "immediate",
              "transition": {
               "duration": 0,
               "easing": "linear"
              }
             }
            ],
            "label": "2023-05-24 13:52:15.674939",
            "method": "animate"
           },
           {
            "args": [
             [
              "2023-05-24 13:52:15.801423"
             ],
             {
              "frame": {
               "duration": 0,
               "redraw": false
              },
              "fromcurrent": true,
              "mode": "immediate",
              "transition": {
               "duration": 0,
               "easing": "linear"
              }
             }
            ],
            "label": "2023-05-24 13:52:15.801423",
            "method": "animate"
           },
           {
            "args": [
             [
              "2023-05-24 13:52:15.932098"
             ],
             {
              "frame": {
               "duration": 0,
               "redraw": false
              },
              "fromcurrent": true,
              "mode": "immediate",
              "transition": {
               "duration": 0,
               "easing": "linear"
              }
             }
            ],
            "label": "2023-05-24 13:52:15.932098",
            "method": "animate"
           },
           {
            "args": [
             [
              "2023-05-24 13:52:16.063932"
             ],
             {
              "frame": {
               "duration": 0,
               "redraw": false
              },
              "fromcurrent": true,
              "mode": "immediate",
              "transition": {
               "duration": 0,
               "easing": "linear"
              }
             }
            ],
            "label": "2023-05-24 13:52:16.063932",
            "method": "animate"
           },
           {
            "args": [
             [
              "2023-05-24 13:52:16.189839"
             ],
             {
              "frame": {
               "duration": 0,
               "redraw": false
              },
              "fromcurrent": true,
              "mode": "immediate",
              "transition": {
               "duration": 0,
               "easing": "linear"
              }
             }
            ],
            "label": "2023-05-24 13:52:16.189839",
            "method": "animate"
           },
           {
            "args": [
             [
              "2023-05-24 13:52:16.324364"
             ],
             {
              "frame": {
               "duration": 0,
               "redraw": false
              },
              "fromcurrent": true,
              "mode": "immediate",
              "transition": {
               "duration": 0,
               "easing": "linear"
              }
             }
            ],
            "label": "2023-05-24 13:52:16.324364",
            "method": "animate"
           },
           {
            "args": [
             [
              "2023-05-24 13:52:16.451821"
             ],
             {
              "frame": {
               "duration": 0,
               "redraw": false
              },
              "fromcurrent": true,
              "mode": "immediate",
              "transition": {
               "duration": 0,
               "easing": "linear"
              }
             }
            ],
            "label": "2023-05-24 13:52:16.451821",
            "method": "animate"
           },
           {
            "args": [
             [
              "2023-05-24 13:52:16.585015"
             ],
             {
              "frame": {
               "duration": 0,
               "redraw": false
              },
              "fromcurrent": true,
              "mode": "immediate",
              "transition": {
               "duration": 0,
               "easing": "linear"
              }
             }
            ],
            "label": "2023-05-24 13:52:16.585015",
            "method": "animate"
           },
           {
            "args": [
             [
              "2023-05-24 13:52:16.711809"
             ],
             {
              "frame": {
               "duration": 0,
               "redraw": false
              },
              "fromcurrent": true,
              "mode": "immediate",
              "transition": {
               "duration": 0,
               "easing": "linear"
              }
             }
            ],
            "label": "2023-05-24 13:52:16.711809",
            "method": "animate"
           },
           {
            "args": [
             [
              "2023-05-24 13:52:16.842164"
             ],
             {
              "frame": {
               "duration": 0,
               "redraw": false
              },
              "fromcurrent": true,
              "mode": "immediate",
              "transition": {
               "duration": 0,
               "easing": "linear"
              }
             }
            ],
            "label": "2023-05-24 13:52:16.842164",
            "method": "animate"
           },
           {
            "args": [
             [
              "2023-05-24 13:52:16.969665"
             ],
             {
              "frame": {
               "duration": 0,
               "redraw": false
              },
              "fromcurrent": true,
              "mode": "immediate",
              "transition": {
               "duration": 0,
               "easing": "linear"
              }
             }
            ],
            "label": "2023-05-24 13:52:16.969665",
            "method": "animate"
           },
           {
            "args": [
             [
              "2023-05-24 13:52:17.101157"
             ],
             {
              "frame": {
               "duration": 0,
               "redraw": false
              },
              "fromcurrent": true,
              "mode": "immediate",
              "transition": {
               "duration": 0,
               "easing": "linear"
              }
             }
            ],
            "label": "2023-05-24 13:52:17.101157",
            "method": "animate"
           },
           {
            "args": [
             [
              "2023-05-24 13:52:17.232186"
             ],
             {
              "frame": {
               "duration": 0,
               "redraw": false
              },
              "fromcurrent": true,
              "mode": "immediate",
              "transition": {
               "duration": 0,
               "easing": "linear"
              }
             }
            ],
            "label": "2023-05-24 13:52:17.232186",
            "method": "animate"
           },
           {
            "args": [
             [
              "2023-05-24 13:52:17.356793"
             ],
             {
              "frame": {
               "duration": 0,
               "redraw": false
              },
              "fromcurrent": true,
              "mode": "immediate",
              "transition": {
               "duration": 0,
               "easing": "linear"
              }
             }
            ],
            "label": "2023-05-24 13:52:17.356793",
            "method": "animate"
           },
           {
            "args": [
             [
              "2023-05-24 13:52:17.487714"
             ],
             {
              "frame": {
               "duration": 0,
               "redraw": false
              },
              "fromcurrent": true,
              "mode": "immediate",
              "transition": {
               "duration": 0,
               "easing": "linear"
              }
             }
            ],
            "label": "2023-05-24 13:52:17.487714",
            "method": "animate"
           },
           {
            "args": [
             [
              "2023-05-24 13:52:17.617107"
             ],
             {
              "frame": {
               "duration": 0,
               "redraw": false
              },
              "fromcurrent": true,
              "mode": "immediate",
              "transition": {
               "duration": 0,
               "easing": "linear"
              }
             }
            ],
            "label": "2023-05-24 13:52:17.617107",
            "method": "animate"
           },
           {
            "args": [
             [
              "2023-05-24 13:52:17.745678"
             ],
             {
              "frame": {
               "duration": 0,
               "redraw": false
              },
              "fromcurrent": true,
              "mode": "immediate",
              "transition": {
               "duration": 0,
               "easing": "linear"
              }
             }
            ],
            "label": "2023-05-24 13:52:17.745678",
            "method": "animate"
           },
           {
            "args": [
             [
              "2023-05-24 13:52:17.875636"
             ],
             {
              "frame": {
               "duration": 0,
               "redraw": false
              },
              "fromcurrent": true,
              "mode": "immediate",
              "transition": {
               "duration": 0,
               "easing": "linear"
              }
             }
            ],
            "label": "2023-05-24 13:52:17.875636",
            "method": "animate"
           },
           {
            "args": [
             [
              "2023-05-24 13:52:18.007013"
             ],
             {
              "frame": {
               "duration": 0,
               "redraw": false
              },
              "fromcurrent": true,
              "mode": "immediate",
              "transition": {
               "duration": 0,
               "easing": "linear"
              }
             }
            ],
            "label": "2023-05-24 13:52:18.007013",
            "method": "animate"
           },
           {
            "args": [
             [
              "2023-05-24 13:52:18.139500"
             ],
             {
              "frame": {
               "duration": 0,
               "redraw": false
              },
              "fromcurrent": true,
              "mode": "immediate",
              "transition": {
               "duration": 0,
               "easing": "linear"
              }
             }
            ],
            "label": "2023-05-24 13:52:18.139500",
            "method": "animate"
           },
           {
            "args": [
             [
              "2023-05-24 13:52:18.266519"
             ],
             {
              "frame": {
               "duration": 0,
               "redraw": false
              },
              "fromcurrent": true,
              "mode": "immediate",
              "transition": {
               "duration": 0,
               "easing": "linear"
              }
             }
            ],
            "label": "2023-05-24 13:52:18.266519",
            "method": "animate"
           },
           {
            "args": [
             [
              "2023-05-24 13:52:18.394417"
             ],
             {
              "frame": {
               "duration": 0,
               "redraw": false
              },
              "fromcurrent": true,
              "mode": "immediate",
              "transition": {
               "duration": 0,
               "easing": "linear"
              }
             }
            ],
            "label": "2023-05-24 13:52:18.394417",
            "method": "animate"
           },
           {
            "args": [
             [
              "2023-05-24 13:52:18.527126"
             ],
             {
              "frame": {
               "duration": 0,
               "redraw": false
              },
              "fromcurrent": true,
              "mode": "immediate",
              "transition": {
               "duration": 0,
               "easing": "linear"
              }
             }
            ],
            "label": "2023-05-24 13:52:18.527126",
            "method": "animate"
           },
           {
            "args": [
             [
              "2023-05-24 13:52:18.655824"
             ],
             {
              "frame": {
               "duration": 0,
               "redraw": false
              },
              "fromcurrent": true,
              "mode": "immediate",
              "transition": {
               "duration": 0,
               "easing": "linear"
              }
             }
            ],
            "label": "2023-05-24 13:52:18.655824",
            "method": "animate"
           },
           {
            "args": [
             [
              "2023-05-24 13:52:18.785476"
             ],
             {
              "frame": {
               "duration": 0,
               "redraw": false
              },
              "fromcurrent": true,
              "mode": "immediate",
              "transition": {
               "duration": 0,
               "easing": "linear"
              }
             }
            ],
            "label": "2023-05-24 13:52:18.785476",
            "method": "animate"
           },
           {
            "args": [
             [
              "2023-05-24 13:52:18.916053"
             ],
             {
              "frame": {
               "duration": 0,
               "redraw": false
              },
              "fromcurrent": true,
              "mode": "immediate",
              "transition": {
               "duration": 0,
               "easing": "linear"
              }
             }
            ],
            "label": "2023-05-24 13:52:18.916053",
            "method": "animate"
           },
           {
            "args": [
             [
              "2023-05-24 13:52:19.045550"
             ],
             {
              "frame": {
               "duration": 0,
               "redraw": false
              },
              "fromcurrent": true,
              "mode": "immediate",
              "transition": {
               "duration": 0,
               "easing": "linear"
              }
             }
            ],
            "label": "2023-05-24 13:52:19.045550",
            "method": "animate"
           },
           {
            "args": [
             [
              "2023-05-24 13:52:19.176565"
             ],
             {
              "frame": {
               "duration": 0,
               "redraw": false
              },
              "fromcurrent": true,
              "mode": "immediate",
              "transition": {
               "duration": 0,
               "easing": "linear"
              }
             }
            ],
            "label": "2023-05-24 13:52:19.176565",
            "method": "animate"
           },
           {
            "args": [
             [
              "2023-05-24 13:52:19.305969"
             ],
             {
              "frame": {
               "duration": 0,
               "redraw": false
              },
              "fromcurrent": true,
              "mode": "immediate",
              "transition": {
               "duration": 0,
               "easing": "linear"
              }
             }
            ],
            "label": "2023-05-24 13:52:19.305969",
            "method": "animate"
           },
           {
            "args": [
             [
              "2023-05-24 13:52:19.434095"
             ],
             {
              "frame": {
               "duration": 0,
               "redraw": false
              },
              "fromcurrent": true,
              "mode": "immediate",
              "transition": {
               "duration": 0,
               "easing": "linear"
              }
             }
            ],
            "label": "2023-05-24 13:52:19.434095",
            "method": "animate"
           },
           {
            "args": [
             [
              "2023-05-24 13:52:19.562676"
             ],
             {
              "frame": {
               "duration": 0,
               "redraw": false
              },
              "fromcurrent": true,
              "mode": "immediate",
              "transition": {
               "duration": 0,
               "easing": "linear"
              }
             }
            ],
            "label": "2023-05-24 13:52:19.562676",
            "method": "animate"
           },
           {
            "args": [
             [
              "2023-05-24 13:52:19.695088"
             ],
             {
              "frame": {
               "duration": 0,
               "redraw": false
              },
              "fromcurrent": true,
              "mode": "immediate",
              "transition": {
               "duration": 0,
               "easing": "linear"
              }
             }
            ],
            "label": "2023-05-24 13:52:19.695088",
            "method": "animate"
           },
           {
            "args": [
             [
              "2023-05-24 13:52:19.822620"
             ],
             {
              "frame": {
               "duration": 0,
               "redraw": false
              },
              "fromcurrent": true,
              "mode": "immediate",
              "transition": {
               "duration": 0,
               "easing": "linear"
              }
             }
            ],
            "label": "2023-05-24 13:52:19.822620",
            "method": "animate"
           },
           {
            "args": [
             [
              "2023-05-24 13:52:19.950858"
             ],
             {
              "frame": {
               "duration": 0,
               "redraw": false
              },
              "fromcurrent": true,
              "mode": "immediate",
              "transition": {
               "duration": 0,
               "easing": "linear"
              }
             }
            ],
            "label": "2023-05-24 13:52:19.950858",
            "method": "animate"
           },
           {
            "args": [
             [
              "2023-05-24 13:52:20.086607"
             ],
             {
              "frame": {
               "duration": 0,
               "redraw": false
              },
              "fromcurrent": true,
              "mode": "immediate",
              "transition": {
               "duration": 0,
               "easing": "linear"
              }
             }
            ],
            "label": "2023-05-24 13:52:20.086607",
            "method": "animate"
           },
           {
            "args": [
             [
              "2023-05-24 13:52:20.210072"
             ],
             {
              "frame": {
               "duration": 0,
               "redraw": false
              },
              "fromcurrent": true,
              "mode": "immediate",
              "transition": {
               "duration": 0,
               "easing": "linear"
              }
             }
            ],
            "label": "2023-05-24 13:52:20.210072",
            "method": "animate"
           },
           {
            "args": [
             [
              "2023-05-24 13:52:20.344355"
             ],
             {
              "frame": {
               "duration": 0,
               "redraw": false
              },
              "fromcurrent": true,
              "mode": "immediate",
              "transition": {
               "duration": 0,
               "easing": "linear"
              }
             }
            ],
            "label": "2023-05-24 13:52:20.344355",
            "method": "animate"
           },
           {
            "args": [
             [
              "2023-05-24 13:52:20.472593"
             ],
             {
              "frame": {
               "duration": 0,
               "redraw": false
              },
              "fromcurrent": true,
              "mode": "immediate",
              "transition": {
               "duration": 0,
               "easing": "linear"
              }
             }
            ],
            "label": "2023-05-24 13:52:20.472593",
            "method": "animate"
           },
           {
            "args": [
             [
              "2023-05-24 13:52:20.602935"
             ],
             {
              "frame": {
               "duration": 0,
               "redraw": false
              },
              "fromcurrent": true,
              "mode": "immediate",
              "transition": {
               "duration": 0,
               "easing": "linear"
              }
             }
            ],
            "label": "2023-05-24 13:52:20.602935",
            "method": "animate"
           },
           {
            "args": [
             [
              "2023-05-24 13:52:20.734394"
             ],
             {
              "frame": {
               "duration": 0,
               "redraw": false
              },
              "fromcurrent": true,
              "mode": "immediate",
              "transition": {
               "duration": 0,
               "easing": "linear"
              }
             }
            ],
            "label": "2023-05-24 13:52:20.734394",
            "method": "animate"
           },
           {
            "args": [
             [
              "2023-05-24 13:52:20.861201"
             ],
             {
              "frame": {
               "duration": 0,
               "redraw": false
              },
              "fromcurrent": true,
              "mode": "immediate",
              "transition": {
               "duration": 0,
               "easing": "linear"
              }
             }
            ],
            "label": "2023-05-24 13:52:20.861201",
            "method": "animate"
           },
           {
            "args": [
             [
              "2023-05-24 13:52:20.990362"
             ],
             {
              "frame": {
               "duration": 0,
               "redraw": false
              },
              "fromcurrent": true,
              "mode": "immediate",
              "transition": {
               "duration": 0,
               "easing": "linear"
              }
             }
            ],
            "label": "2023-05-24 13:52:20.990362",
            "method": "animate"
           },
           {
            "args": [
             [
              "2023-05-24 13:52:21.122396"
             ],
             {
              "frame": {
               "duration": 0,
               "redraw": false
              },
              "fromcurrent": true,
              "mode": "immediate",
              "transition": {
               "duration": 0,
               "easing": "linear"
              }
             }
            ],
            "label": "2023-05-24 13:52:21.122396",
            "method": "animate"
           },
           {
            "args": [
             [
              "2023-05-24 13:52:21.250852"
             ],
             {
              "frame": {
               "duration": 0,
               "redraw": false
              },
              "fromcurrent": true,
              "mode": "immediate",
              "transition": {
               "duration": 0,
               "easing": "linear"
              }
             }
            ],
            "label": "2023-05-24 13:52:21.250852",
            "method": "animate"
           },
           {
            "args": [
             [
              "2023-05-24 13:52:21.379459"
             ],
             {
              "frame": {
               "duration": 0,
               "redraw": false
              },
              "fromcurrent": true,
              "mode": "immediate",
              "transition": {
               "duration": 0,
               "easing": "linear"
              }
             }
            ],
            "label": "2023-05-24 13:52:21.379459",
            "method": "animate"
           },
           {
            "args": [
             [
              "2023-05-24 13:52:21.513279"
             ],
             {
              "frame": {
               "duration": 0,
               "redraw": false
              },
              "fromcurrent": true,
              "mode": "immediate",
              "transition": {
               "duration": 0,
               "easing": "linear"
              }
             }
            ],
            "label": "2023-05-24 13:52:21.513279",
            "method": "animate"
           },
           {
            "args": [
             [
              "2023-05-24 13:52:21.640850"
             ],
             {
              "frame": {
               "duration": 0,
               "redraw": false
              },
              "fromcurrent": true,
              "mode": "immediate",
              "transition": {
               "duration": 0,
               "easing": "linear"
              }
             }
            ],
            "label": "2023-05-24 13:52:21.640850",
            "method": "animate"
           },
           {
            "args": [
             [
              "2023-05-24 13:52:21.773563"
             ],
             {
              "frame": {
               "duration": 0,
               "redraw": false
              },
              "fromcurrent": true,
              "mode": "immediate",
              "transition": {
               "duration": 0,
               "easing": "linear"
              }
             }
            ],
            "label": "2023-05-24 13:52:21.773563",
            "method": "animate"
           },
           {
            "args": [
             [
              "2023-05-24 13:52:21.899257"
             ],
             {
              "frame": {
               "duration": 0,
               "redraw": false
              },
              "fromcurrent": true,
              "mode": "immediate",
              "transition": {
               "duration": 0,
               "easing": "linear"
              }
             }
            ],
            "label": "2023-05-24 13:52:21.899257",
            "method": "animate"
           },
           {
            "args": [
             [
              "2023-05-24 13:52:22.034329"
             ],
             {
              "frame": {
               "duration": 0,
               "redraw": false
              },
              "fromcurrent": true,
              "mode": "immediate",
              "transition": {
               "duration": 0,
               "easing": "linear"
              }
             }
            ],
            "label": "2023-05-24 13:52:22.034329",
            "method": "animate"
           },
           {
            "args": [
             [
              "2023-05-24 13:52:22.163568"
             ],
             {
              "frame": {
               "duration": 0,
               "redraw": false
              },
              "fromcurrent": true,
              "mode": "immediate",
              "transition": {
               "duration": 0,
               "easing": "linear"
              }
             }
            ],
            "label": "2023-05-24 13:52:22.163568",
            "method": "animate"
           },
           {
            "args": [
             [
              "2023-05-24 13:52:22.293827"
             ],
             {
              "frame": {
               "duration": 0,
               "redraw": false
              },
              "fromcurrent": true,
              "mode": "immediate",
              "transition": {
               "duration": 0,
               "easing": "linear"
              }
             }
            ],
            "label": "2023-05-24 13:52:22.293827",
            "method": "animate"
           },
           {
            "args": [
             [
              "2023-05-24 13:52:22.420817"
             ],
             {
              "frame": {
               "duration": 0,
               "redraw": false
              },
              "fromcurrent": true,
              "mode": "immediate",
              "transition": {
               "duration": 0,
               "easing": "linear"
              }
             }
            ],
            "label": "2023-05-24 13:52:22.420817",
            "method": "animate"
           },
           {
            "args": [
             [
              "2023-05-24 13:52:22.550565"
             ],
             {
              "frame": {
               "duration": 0,
               "redraw": false
              },
              "fromcurrent": true,
              "mode": "immediate",
              "transition": {
               "duration": 0,
               "easing": "linear"
              }
             }
            ],
            "label": "2023-05-24 13:52:22.550565",
            "method": "animate"
           },
           {
            "args": [
             [
              "2023-05-24 13:52:22.683951"
             ],
             {
              "frame": {
               "duration": 0,
               "redraw": false
              },
              "fromcurrent": true,
              "mode": "immediate",
              "transition": {
               "duration": 0,
               "easing": "linear"
              }
             }
            ],
            "label": "2023-05-24 13:52:22.683951",
            "method": "animate"
           },
           {
            "args": [
             [
              "2023-05-24 13:52:22.811706"
             ],
             {
              "frame": {
               "duration": 0,
               "redraw": false
              },
              "fromcurrent": true,
              "mode": "immediate",
              "transition": {
               "duration": 0,
               "easing": "linear"
              }
             }
            ],
            "label": "2023-05-24 13:52:22.811706",
            "method": "animate"
           },
           {
            "args": [
             [
              "2023-05-24 13:52:22.942181"
             ],
             {
              "frame": {
               "duration": 0,
               "redraw": false
              },
              "fromcurrent": true,
              "mode": "immediate",
              "transition": {
               "duration": 0,
               "easing": "linear"
              }
             }
            ],
            "label": "2023-05-24 13:52:22.942181",
            "method": "animate"
           },
           {
            "args": [
             [
              "2023-05-24 13:52:23.072496"
             ],
             {
              "frame": {
               "duration": 0,
               "redraw": false
              },
              "fromcurrent": true,
              "mode": "immediate",
              "transition": {
               "duration": 0,
               "easing": "linear"
              }
             }
            ],
            "label": "2023-05-24 13:52:23.072496",
            "method": "animate"
           },
           {
            "args": [
             [
              "2023-05-24 13:52:23.203121"
             ],
             {
              "frame": {
               "duration": 0,
               "redraw": false
              },
              "fromcurrent": true,
              "mode": "immediate",
              "transition": {
               "duration": 0,
               "easing": "linear"
              }
             }
            ],
            "label": "2023-05-24 13:52:23.203121",
            "method": "animate"
           },
           {
            "args": [
             [
              "2023-05-24 13:52:23.331887"
             ],
             {
              "frame": {
               "duration": 0,
               "redraw": false
              },
              "fromcurrent": true,
              "mode": "immediate",
              "transition": {
               "duration": 0,
               "easing": "linear"
              }
             }
            ],
            "label": "2023-05-24 13:52:23.331887",
            "method": "animate"
           },
           {
            "args": [
             [
              "2023-05-24 13:52:23.464326"
             ],
             {
              "frame": {
               "duration": 0,
               "redraw": false
              },
              "fromcurrent": true,
              "mode": "immediate",
              "transition": {
               "duration": 0,
               "easing": "linear"
              }
             }
            ],
            "label": "2023-05-24 13:52:23.464326",
            "method": "animate"
           },
           {
            "args": [
             [
              "2023-05-24 13:52:23.592470"
             ],
             {
              "frame": {
               "duration": 0,
               "redraw": false
              },
              "fromcurrent": true,
              "mode": "immediate",
              "transition": {
               "duration": 0,
               "easing": "linear"
              }
             }
            ],
            "label": "2023-05-24 13:52:23.592470",
            "method": "animate"
           },
           {
            "args": [
             [
              "2023-05-24 13:52:23.719308"
             ],
             {
              "frame": {
               "duration": 0,
               "redraw": false
              },
              "fromcurrent": true,
              "mode": "immediate",
              "transition": {
               "duration": 0,
               "easing": "linear"
              }
             }
            ],
            "label": "2023-05-24 13:52:23.719308",
            "method": "animate"
           },
           {
            "args": [
             [
              "2023-05-24 13:52:23.850855"
             ],
             {
              "frame": {
               "duration": 0,
               "redraw": false
              },
              "fromcurrent": true,
              "mode": "immediate",
              "transition": {
               "duration": 0,
               "easing": "linear"
              }
             }
            ],
            "label": "2023-05-24 13:52:23.850855",
            "method": "animate"
           },
           {
            "args": [
             [
              "2023-05-24 13:52:23.981894"
             ],
             {
              "frame": {
               "duration": 0,
               "redraw": false
              },
              "fromcurrent": true,
              "mode": "immediate",
              "transition": {
               "duration": 0,
               "easing": "linear"
              }
             }
            ],
            "label": "2023-05-24 13:52:23.981894",
            "method": "animate"
           },
           {
            "args": [
             [
              "2023-05-24 13:52:24.108448"
             ],
             {
              "frame": {
               "duration": 0,
               "redraw": false
              },
              "fromcurrent": true,
              "mode": "immediate",
              "transition": {
               "duration": 0,
               "easing": "linear"
              }
             }
            ],
            "label": "2023-05-24 13:52:24.108448",
            "method": "animate"
           },
           {
            "args": [
             [
              "2023-05-24 13:52:24.241877"
             ],
             {
              "frame": {
               "duration": 0,
               "redraw": false
              },
              "fromcurrent": true,
              "mode": "immediate",
              "transition": {
               "duration": 0,
               "easing": "linear"
              }
             }
            ],
            "label": "2023-05-24 13:52:24.241877",
            "method": "animate"
           },
           {
            "args": [
             [
              "2023-05-24 13:52:24.365569"
             ],
             {
              "frame": {
               "duration": 0,
               "redraw": false
              },
              "fromcurrent": true,
              "mode": "immediate",
              "transition": {
               "duration": 0,
               "easing": "linear"
              }
             }
            ],
            "label": "2023-05-24 13:52:24.365569",
            "method": "animate"
           },
           {
            "args": [
             [
              "2023-05-24 13:52:24.494692"
             ],
             {
              "frame": {
               "duration": 0,
               "redraw": false
              },
              "fromcurrent": true,
              "mode": "immediate",
              "transition": {
               "duration": 0,
               "easing": "linear"
              }
             }
            ],
            "label": "2023-05-24 13:52:24.494692",
            "method": "animate"
           },
           {
            "args": [
             [
              "2023-05-24 13:52:24.628486"
             ],
             {
              "frame": {
               "duration": 0,
               "redraw": false
              },
              "fromcurrent": true,
              "mode": "immediate",
              "transition": {
               "duration": 0,
               "easing": "linear"
              }
             }
            ],
            "label": "2023-05-24 13:52:24.628486",
            "method": "animate"
           },
           {
            "args": [
             [
              "2023-05-24 13:52:24.759535"
             ],
             {
              "frame": {
               "duration": 0,
               "redraw": false
              },
              "fromcurrent": true,
              "mode": "immediate",
              "transition": {
               "duration": 0,
               "easing": "linear"
              }
             }
            ],
            "label": "2023-05-24 13:52:24.759535",
            "method": "animate"
           },
           {
            "args": [
             [
              "2023-05-24 13:52:24.888022"
             ],
             {
              "frame": {
               "duration": 0,
               "redraw": false
              },
              "fromcurrent": true,
              "mode": "immediate",
              "transition": {
               "duration": 0,
               "easing": "linear"
              }
             }
            ],
            "label": "2023-05-24 13:52:24.888022",
            "method": "animate"
           },
           {
            "args": [
             [
              "2023-05-24 13:52:25.016205"
             ],
             {
              "frame": {
               "duration": 0,
               "redraw": false
              },
              "fromcurrent": true,
              "mode": "immediate",
              "transition": {
               "duration": 0,
               "easing": "linear"
              }
             }
            ],
            "label": "2023-05-24 13:52:25.016205",
            "method": "animate"
           },
           {
            "args": [
             [
              "2023-05-24 13:52:25.146885"
             ],
             {
              "frame": {
               "duration": 0,
               "redraw": false
              },
              "fromcurrent": true,
              "mode": "immediate",
              "transition": {
               "duration": 0,
               "easing": "linear"
              }
             }
            ],
            "label": "2023-05-24 13:52:25.146885",
            "method": "animate"
           },
           {
            "args": [
             [
              "2023-05-24 13:52:25.275621"
             ],
             {
              "frame": {
               "duration": 0,
               "redraw": false
              },
              "fromcurrent": true,
              "mode": "immediate",
              "transition": {
               "duration": 0,
               "easing": "linear"
              }
             }
            ],
            "label": "2023-05-24 13:52:25.275621",
            "method": "animate"
           },
           {
            "args": [
             [
              "2023-05-24 13:52:25.405785"
             ],
             {
              "frame": {
               "duration": 0,
               "redraw": false
              },
              "fromcurrent": true,
              "mode": "immediate",
              "transition": {
               "duration": 0,
               "easing": "linear"
              }
             }
            ],
            "label": "2023-05-24 13:52:25.405785",
            "method": "animate"
           },
           {
            "args": [
             [
              "2023-05-24 13:52:25.536133"
             ],
             {
              "frame": {
               "duration": 0,
               "redraw": false
              },
              "fromcurrent": true,
              "mode": "immediate",
              "transition": {
               "duration": 0,
               "easing": "linear"
              }
             }
            ],
            "label": "2023-05-24 13:52:25.536133",
            "method": "animate"
           },
           {
            "args": [
             [
              "2023-05-24 13:52:25.670073"
             ],
             {
              "frame": {
               "duration": 0,
               "redraw": false
              },
              "fromcurrent": true,
              "mode": "immediate",
              "transition": {
               "duration": 0,
               "easing": "linear"
              }
             }
            ],
            "label": "2023-05-24 13:52:25.670073",
            "method": "animate"
           },
           {
            "args": [
             [
              "2023-05-24 13:52:25.797151"
             ],
             {
              "frame": {
               "duration": 0,
               "redraw": false
              },
              "fromcurrent": true,
              "mode": "immediate",
              "transition": {
               "duration": 0,
               "easing": "linear"
              }
             }
            ],
            "label": "2023-05-24 13:52:25.797151",
            "method": "animate"
           },
           {
            "args": [
             [
              "2023-05-24 13:52:25.927636"
             ],
             {
              "frame": {
               "duration": 0,
               "redraw": false
              },
              "fromcurrent": true,
              "mode": "immediate",
              "transition": {
               "duration": 0,
               "easing": "linear"
              }
             }
            ],
            "label": "2023-05-24 13:52:25.927636",
            "method": "animate"
           },
           {
            "args": [
             [
              "2023-05-24 13:52:26.057630"
             ],
             {
              "frame": {
               "duration": 0,
               "redraw": false
              },
              "fromcurrent": true,
              "mode": "immediate",
              "transition": {
               "duration": 0,
               "easing": "linear"
              }
             }
            ],
            "label": "2023-05-24 13:52:26.057630",
            "method": "animate"
           },
           {
            "args": [
             [
              "2023-05-24 13:52:26.184043"
             ],
             {
              "frame": {
               "duration": 0,
               "redraw": false
              },
              "fromcurrent": true,
              "mode": "immediate",
              "transition": {
               "duration": 0,
               "easing": "linear"
              }
             }
            ],
            "label": "2023-05-24 13:52:26.184043",
            "method": "animate"
           },
           {
            "args": [
             [
              "2023-05-24 13:52:26.314176"
             ],
             {
              "frame": {
               "duration": 0,
               "redraw": false
              },
              "fromcurrent": true,
              "mode": "immediate",
              "transition": {
               "duration": 0,
               "easing": "linear"
              }
             }
            ],
            "label": "2023-05-24 13:52:26.314176",
            "method": "animate"
           },
           {
            "args": [
             [
              "2023-05-24 13:52:26.441512"
             ],
             {
              "frame": {
               "duration": 0,
               "redraw": false
              },
              "fromcurrent": true,
              "mode": "immediate",
              "transition": {
               "duration": 0,
               "easing": "linear"
              }
             }
            ],
            "label": "2023-05-24 13:52:26.441512",
            "method": "animate"
           },
           {
            "args": [
             [
              "2023-05-24 13:52:26.574309"
             ],
             {
              "frame": {
               "duration": 0,
               "redraw": false
              },
              "fromcurrent": true,
              "mode": "immediate",
              "transition": {
               "duration": 0,
               "easing": "linear"
              }
             }
            ],
            "label": "2023-05-24 13:52:26.574309",
            "method": "animate"
           },
           {
            "args": [
             [
              "2023-05-24 13:52:26.702778"
             ],
             {
              "frame": {
               "duration": 0,
               "redraw": false
              },
              "fromcurrent": true,
              "mode": "immediate",
              "transition": {
               "duration": 0,
               "easing": "linear"
              }
             }
            ],
            "label": "2023-05-24 13:52:26.702778",
            "method": "animate"
           },
           {
            "args": [
             [
              "2023-05-24 13:52:26.835200"
             ],
             {
              "frame": {
               "duration": 0,
               "redraw": false
              },
              "fromcurrent": true,
              "mode": "immediate",
              "transition": {
               "duration": 0,
               "easing": "linear"
              }
             }
            ],
            "label": "2023-05-24 13:52:26.835200",
            "method": "animate"
           },
           {
            "args": [
             [
              "2023-05-24 13:52:26.961170"
             ],
             {
              "frame": {
               "duration": 0,
               "redraw": false
              },
              "fromcurrent": true,
              "mode": "immediate",
              "transition": {
               "duration": 0,
               "easing": "linear"
              }
             }
            ],
            "label": "2023-05-24 13:52:26.961170",
            "method": "animate"
           },
           {
            "args": [
             [
              "2023-05-24 13:52:27.090078"
             ],
             {
              "frame": {
               "duration": 0,
               "redraw": false
              },
              "fromcurrent": true,
              "mode": "immediate",
              "transition": {
               "duration": 0,
               "easing": "linear"
              }
             }
            ],
            "label": "2023-05-24 13:52:27.090078",
            "method": "animate"
           },
           {
            "args": [
             [
              "2023-05-24 13:52:27.221977"
             ],
             {
              "frame": {
               "duration": 0,
               "redraw": false
              },
              "fromcurrent": true,
              "mode": "immediate",
              "transition": {
               "duration": 0,
               "easing": "linear"
              }
             }
            ],
            "label": "2023-05-24 13:52:27.221977",
            "method": "animate"
           },
           {
            "args": [
             [
              "2023-05-24 13:52:27.353655"
             ],
             {
              "frame": {
               "duration": 0,
               "redraw": false
              },
              "fromcurrent": true,
              "mode": "immediate",
              "transition": {
               "duration": 0,
               "easing": "linear"
              }
             }
            ],
            "label": "2023-05-24 13:52:27.353655",
            "method": "animate"
           },
           {
            "args": [
             [
              "2023-05-24 13:52:27.483782"
             ],
             {
              "frame": {
               "duration": 0,
               "redraw": false
              },
              "fromcurrent": true,
              "mode": "immediate",
              "transition": {
               "duration": 0,
               "easing": "linear"
              }
             }
            ],
            "label": "2023-05-24 13:52:27.483782",
            "method": "animate"
           },
           {
            "args": [
             [
              "2023-05-24 13:52:27.609969"
             ],
             {
              "frame": {
               "duration": 0,
               "redraw": false
              },
              "fromcurrent": true,
              "mode": "immediate",
              "transition": {
               "duration": 0,
               "easing": "linear"
              }
             }
            ],
            "label": "2023-05-24 13:52:27.609969",
            "method": "animate"
           },
           {
            "args": [
             [
              "2023-05-24 13:52:27.739128"
             ],
             {
              "frame": {
               "duration": 0,
               "redraw": false
              },
              "fromcurrent": true,
              "mode": "immediate",
              "transition": {
               "duration": 0,
               "easing": "linear"
              }
             }
            ],
            "label": "2023-05-24 13:52:27.739128",
            "method": "animate"
           },
           {
            "args": [
             [
              "2023-05-24 13:52:27.869667"
             ],
             {
              "frame": {
               "duration": 0,
               "redraw": false
              },
              "fromcurrent": true,
              "mode": "immediate",
              "transition": {
               "duration": 0,
               "easing": "linear"
              }
             }
            ],
            "label": "2023-05-24 13:52:27.869667",
            "method": "animate"
           },
           {
            "args": [
             [
              "2023-05-24 13:52:27.998201"
             ],
             {
              "frame": {
               "duration": 0,
               "redraw": false
              },
              "fromcurrent": true,
              "mode": "immediate",
              "transition": {
               "duration": 0,
               "easing": "linear"
              }
             }
            ],
            "label": "2023-05-24 13:52:27.998201",
            "method": "animate"
           },
           {
            "args": [
             [
              "2023-05-24 13:52:28.130483"
             ],
             {
              "frame": {
               "duration": 0,
               "redraw": false
              },
              "fromcurrent": true,
              "mode": "immediate",
              "transition": {
               "duration": 0,
               "easing": "linear"
              }
             }
            ],
            "label": "2023-05-24 13:52:28.130483",
            "method": "animate"
           },
           {
            "args": [
             [
              "2023-05-24 13:52:28.262630"
             ],
             {
              "frame": {
               "duration": 0,
               "redraw": false
              },
              "fromcurrent": true,
              "mode": "immediate",
              "transition": {
               "duration": 0,
               "easing": "linear"
              }
             }
            ],
            "label": "2023-05-24 13:52:28.262630",
            "method": "animate"
           },
           {
            "args": [
             [
              "2023-05-24 13:52:28.393086"
             ],
             {
              "frame": {
               "duration": 0,
               "redraw": false
              },
              "fromcurrent": true,
              "mode": "immediate",
              "transition": {
               "duration": 0,
               "easing": "linear"
              }
             }
            ],
            "label": "2023-05-24 13:52:28.393086",
            "method": "animate"
           },
           {
            "args": [
             [
              "2023-05-24 13:52:28.520782"
             ],
             {
              "frame": {
               "duration": 0,
               "redraw": false
              },
              "fromcurrent": true,
              "mode": "immediate",
              "transition": {
               "duration": 0,
               "easing": "linear"
              }
             }
            ],
            "label": "2023-05-24 13:52:28.520782",
            "method": "animate"
           },
           {
            "args": [
             [
              "2023-05-24 13:52:28.647804"
             ],
             {
              "frame": {
               "duration": 0,
               "redraw": false
              },
              "fromcurrent": true,
              "mode": "immediate",
              "transition": {
               "duration": 0,
               "easing": "linear"
              }
             }
            ],
            "label": "2023-05-24 13:52:28.647804",
            "method": "animate"
           },
           {
            "args": [
             [
              "2023-05-24 13:52:28.780794"
             ],
             {
              "frame": {
               "duration": 0,
               "redraw": false
              },
              "fromcurrent": true,
              "mode": "immediate",
              "transition": {
               "duration": 0,
               "easing": "linear"
              }
             }
            ],
            "label": "2023-05-24 13:52:28.780794",
            "method": "animate"
           },
           {
            "args": [
             [
              "2023-05-24 13:52:28.908553"
             ],
             {
              "frame": {
               "duration": 0,
               "redraw": false
              },
              "fromcurrent": true,
              "mode": "immediate",
              "transition": {
               "duration": 0,
               "easing": "linear"
              }
             }
            ],
            "label": "2023-05-24 13:52:28.908553",
            "method": "animate"
           },
           {
            "args": [
             [
              "2023-05-24 13:52:29.038906"
             ],
             {
              "frame": {
               "duration": 0,
               "redraw": false
              },
              "fromcurrent": true,
              "mode": "immediate",
              "transition": {
               "duration": 0,
               "easing": "linear"
              }
             }
            ],
            "label": "2023-05-24 13:52:29.038906",
            "method": "animate"
           },
           {
            "args": [
             [
              "2023-05-24 13:52:29.169804"
             ],
             {
              "frame": {
               "duration": 0,
               "redraw": false
              },
              "fromcurrent": true,
              "mode": "immediate",
              "transition": {
               "duration": 0,
               "easing": "linear"
              }
             }
            ],
            "label": "2023-05-24 13:52:29.169804",
            "method": "animate"
           },
           {
            "args": [
             [
              "2023-05-24 13:52:29.298854"
             ],
             {
              "frame": {
               "duration": 0,
               "redraw": false
              },
              "fromcurrent": true,
              "mode": "immediate",
              "transition": {
               "duration": 0,
               "easing": "linear"
              }
             }
            ],
            "label": "2023-05-24 13:52:29.298854",
            "method": "animate"
           },
           {
            "args": [
             [
              "2023-05-24 13:52:29.428488"
             ],
             {
              "frame": {
               "duration": 0,
               "redraw": false
              },
              "fromcurrent": true,
              "mode": "immediate",
              "transition": {
               "duration": 0,
               "easing": "linear"
              }
             }
            ],
            "label": "2023-05-24 13:52:29.428488",
            "method": "animate"
           },
           {
            "args": [
             [
              "2023-05-24 13:52:29.557114"
             ],
             {
              "frame": {
               "duration": 0,
               "redraw": false
              },
              "fromcurrent": true,
              "mode": "immediate",
              "transition": {
               "duration": 0,
               "easing": "linear"
              }
             }
            ],
            "label": "2023-05-24 13:52:29.557114",
            "method": "animate"
           },
           {
            "args": [
             [
              "2023-05-24 13:52:29.686906"
             ],
             {
              "frame": {
               "duration": 0,
               "redraw": false
              },
              "fromcurrent": true,
              "mode": "immediate",
              "transition": {
               "duration": 0,
               "easing": "linear"
              }
             }
            ],
            "label": "2023-05-24 13:52:29.686906",
            "method": "animate"
           },
           {
            "args": [
             [
              "2023-05-24 13:52:29.814044"
             ],
             {
              "frame": {
               "duration": 0,
               "redraw": false
              },
              "fromcurrent": true,
              "mode": "immediate",
              "transition": {
               "duration": 0,
               "easing": "linear"
              }
             }
            ],
            "label": "2023-05-24 13:52:29.814044",
            "method": "animate"
           },
           {
            "args": [
             [
              "2023-05-24 13:52:29.945411"
             ],
             {
              "frame": {
               "duration": 0,
               "redraw": false
              },
              "fromcurrent": true,
              "mode": "immediate",
              "transition": {
               "duration": 0,
               "easing": "linear"
              }
             }
            ],
            "label": "2023-05-24 13:52:29.945411",
            "method": "animate"
           },
           {
            "args": [
             [
              "2023-05-24 13:52:30.074897"
             ],
             {
              "frame": {
               "duration": 0,
               "redraw": false
              },
              "fromcurrent": true,
              "mode": "immediate",
              "transition": {
               "duration": 0,
               "easing": "linear"
              }
             }
            ],
            "label": "2023-05-24 13:52:30.074897",
            "method": "animate"
           },
           {
            "args": [
             [
              "2023-05-24 13:52:30.206670"
             ],
             {
              "frame": {
               "duration": 0,
               "redraw": false
              },
              "fromcurrent": true,
              "mode": "immediate",
              "transition": {
               "duration": 0,
               "easing": "linear"
              }
             }
            ],
            "label": "2023-05-24 13:52:30.206670",
            "method": "animate"
           },
           {
            "args": [
             [
              "2023-05-24 13:52:30.335075"
             ],
             {
              "frame": {
               "duration": 0,
               "redraw": false
              },
              "fromcurrent": true,
              "mode": "immediate",
              "transition": {
               "duration": 0,
               "easing": "linear"
              }
             }
            ],
            "label": "2023-05-24 13:52:30.335075",
            "method": "animate"
           },
           {
            "args": [
             [
              "2023-05-24 13:52:30.464316"
             ],
             {
              "frame": {
               "duration": 0,
               "redraw": false
              },
              "fromcurrent": true,
              "mode": "immediate",
              "transition": {
               "duration": 0,
               "easing": "linear"
              }
             }
            ],
            "label": "2023-05-24 13:52:30.464316",
            "method": "animate"
           },
           {
            "args": [
             [
              "2023-05-24 13:52:30.592519"
             ],
             {
              "frame": {
               "duration": 0,
               "redraw": false
              },
              "fromcurrent": true,
              "mode": "immediate",
              "transition": {
               "duration": 0,
               "easing": "linear"
              }
             }
            ],
            "label": "2023-05-24 13:52:30.592519",
            "method": "animate"
           },
           {
            "args": [
             [
              "2023-05-24 13:52:30.725175"
             ],
             {
              "frame": {
               "duration": 0,
               "redraw": false
              },
              "fromcurrent": true,
              "mode": "immediate",
              "transition": {
               "duration": 0,
               "easing": "linear"
              }
             }
            ],
            "label": "2023-05-24 13:52:30.725175",
            "method": "animate"
           },
           {
            "args": [
             [
              "2023-05-24 13:52:30.854663"
             ],
             {
              "frame": {
               "duration": 0,
               "redraw": false
              },
              "fromcurrent": true,
              "mode": "immediate",
              "transition": {
               "duration": 0,
               "easing": "linear"
              }
             }
            ],
            "label": "2023-05-24 13:52:30.854663",
            "method": "animate"
           },
           {
            "args": [
             [
              "2023-05-24 13:52:30.983248"
             ],
             {
              "frame": {
               "duration": 0,
               "redraw": false
              },
              "fromcurrent": true,
              "mode": "immediate",
              "transition": {
               "duration": 0,
               "easing": "linear"
              }
             }
            ],
            "label": "2023-05-24 13:52:30.983248",
            "method": "animate"
           },
           {
            "args": [
             [
              "2023-05-24 13:52:31.111938"
             ],
             {
              "frame": {
               "duration": 0,
               "redraw": false
              },
              "fromcurrent": true,
              "mode": "immediate",
              "transition": {
               "duration": 0,
               "easing": "linear"
              }
             }
            ],
            "label": "2023-05-24 13:52:31.111938",
            "method": "animate"
           },
           {
            "args": [
             [
              "2023-05-24 13:52:31.244676"
             ],
             {
              "frame": {
               "duration": 0,
               "redraw": false
              },
              "fromcurrent": true,
              "mode": "immediate",
              "transition": {
               "duration": 0,
               "easing": "linear"
              }
             }
            ],
            "label": "2023-05-24 13:52:31.244676",
            "method": "animate"
           },
           {
            "args": [
             [
              "2023-05-24 13:52:31.371375"
             ],
             {
              "frame": {
               "duration": 0,
               "redraw": false
              },
              "fromcurrent": true,
              "mode": "immediate",
              "transition": {
               "duration": 0,
               "easing": "linear"
              }
             }
            ],
            "label": "2023-05-24 13:52:31.371375",
            "method": "animate"
           },
           {
            "args": [
             [
              "2023-05-24 13:52:31.502863"
             ],
             {
              "frame": {
               "duration": 0,
               "redraw": false
              },
              "fromcurrent": true,
              "mode": "immediate",
              "transition": {
               "duration": 0,
               "easing": "linear"
              }
             }
            ],
            "label": "2023-05-24 13:52:31.502863",
            "method": "animate"
           },
           {
            "args": [
             [
              "2023-05-24 13:52:31.632101"
             ],
             {
              "frame": {
               "duration": 0,
               "redraw": false
              },
              "fromcurrent": true,
              "mode": "immediate",
              "transition": {
               "duration": 0,
               "easing": "linear"
              }
             }
            ],
            "label": "2023-05-24 13:52:31.632101",
            "method": "animate"
           },
           {
            "args": [
             [
              "2023-05-24 13:52:31.761938"
             ],
             {
              "frame": {
               "duration": 0,
               "redraw": false
              },
              "fromcurrent": true,
              "mode": "immediate",
              "transition": {
               "duration": 0,
               "easing": "linear"
              }
             }
            ],
            "label": "2023-05-24 13:52:31.761938",
            "method": "animate"
           },
           {
            "args": [
             [
              "2023-05-24 13:52:31.890935"
             ],
             {
              "frame": {
               "duration": 0,
               "redraw": false
              },
              "fromcurrent": true,
              "mode": "immediate",
              "transition": {
               "duration": 0,
               "easing": "linear"
              }
             }
            ],
            "label": "2023-05-24 13:52:31.890935",
            "method": "animate"
           },
           {
            "args": [
             [
              "2023-05-24 13:52:32.021050"
             ],
             {
              "frame": {
               "duration": 0,
               "redraw": false
              },
              "fromcurrent": true,
              "mode": "immediate",
              "transition": {
               "duration": 0,
               "easing": "linear"
              }
             }
            ],
            "label": "2023-05-24 13:52:32.021050",
            "method": "animate"
           },
           {
            "args": [
             [
              "2023-05-24 13:52:32.151095"
             ],
             {
              "frame": {
               "duration": 0,
               "redraw": false
              },
              "fromcurrent": true,
              "mode": "immediate",
              "transition": {
               "duration": 0,
               "easing": "linear"
              }
             }
            ],
            "label": "2023-05-24 13:52:32.151095",
            "method": "animate"
           },
           {
            "args": [
             [
              "2023-05-24 13:52:32.281912"
             ],
             {
              "frame": {
               "duration": 0,
               "redraw": false
              },
              "fromcurrent": true,
              "mode": "immediate",
              "transition": {
               "duration": 0,
               "easing": "linear"
              }
             }
            ],
            "label": "2023-05-24 13:52:32.281912",
            "method": "animate"
           },
           {
            "args": [
             [
              "2023-05-24 13:52:32.409227"
             ],
             {
              "frame": {
               "duration": 0,
               "redraw": false
              },
              "fromcurrent": true,
              "mode": "immediate",
              "transition": {
               "duration": 0,
               "easing": "linear"
              }
             }
            ],
            "label": "2023-05-24 13:52:32.409227",
            "method": "animate"
           },
           {
            "args": [
             [
              "2023-05-24 13:52:32.539425"
             ],
             {
              "frame": {
               "duration": 0,
               "redraw": false
              },
              "fromcurrent": true,
              "mode": "immediate",
              "transition": {
               "duration": 0,
               "easing": "linear"
              }
             }
            ],
            "label": "2023-05-24 13:52:32.539425",
            "method": "animate"
           },
           {
            "args": [
             [
              "2023-05-24 13:52:32.670666"
             ],
             {
              "frame": {
               "duration": 0,
               "redraw": false
              },
              "fromcurrent": true,
              "mode": "immediate",
              "transition": {
               "duration": 0,
               "easing": "linear"
              }
             }
            ],
            "label": "2023-05-24 13:52:32.670666",
            "method": "animate"
           },
           {
            "args": [
             [
              "2023-05-24 13:52:32.800858"
             ],
             {
              "frame": {
               "duration": 0,
               "redraw": false
              },
              "fromcurrent": true,
              "mode": "immediate",
              "transition": {
               "duration": 0,
               "easing": "linear"
              }
             }
            ],
            "label": "2023-05-24 13:52:32.800858",
            "method": "animate"
           },
           {
            "args": [
             [
              "2023-05-24 13:52:32.927365"
             ],
             {
              "frame": {
               "duration": 0,
               "redraw": false
              },
              "fromcurrent": true,
              "mode": "immediate",
              "transition": {
               "duration": 0,
               "easing": "linear"
              }
             }
            ],
            "label": "2023-05-24 13:52:32.927365",
            "method": "animate"
           },
           {
            "args": [
             [
              "2023-05-24 13:52:33.058190"
             ],
             {
              "frame": {
               "duration": 0,
               "redraw": false
              },
              "fromcurrent": true,
              "mode": "immediate",
              "transition": {
               "duration": 0,
               "easing": "linear"
              }
             }
            ],
            "label": "2023-05-24 13:52:33.058190",
            "method": "animate"
           },
           {
            "args": [
             [
              "2023-05-24 13:52:33.188280"
             ],
             {
              "frame": {
               "duration": 0,
               "redraw": false
              },
              "fromcurrent": true,
              "mode": "immediate",
              "transition": {
               "duration": 0,
               "easing": "linear"
              }
             }
            ],
            "label": "2023-05-24 13:52:33.188280",
            "method": "animate"
           },
           {
            "args": [
             [
              "2023-05-24 13:52:33.321815"
             ],
             {
              "frame": {
               "duration": 0,
               "redraw": false
              },
              "fromcurrent": true,
              "mode": "immediate",
              "transition": {
               "duration": 0,
               "easing": "linear"
              }
             }
            ],
            "label": "2023-05-24 13:52:33.321815",
            "method": "animate"
           },
           {
            "args": [
             [
              "2023-05-24 13:52:33.450109"
             ],
             {
              "frame": {
               "duration": 0,
               "redraw": false
              },
              "fromcurrent": true,
              "mode": "immediate",
              "transition": {
               "duration": 0,
               "easing": "linear"
              }
             }
            ],
            "label": "2023-05-24 13:52:33.450109",
            "method": "animate"
           },
           {
            "args": [
             [
              "2023-05-24 13:52:33.577170"
             ],
             {
              "frame": {
               "duration": 0,
               "redraw": false
              },
              "fromcurrent": true,
              "mode": "immediate",
              "transition": {
               "duration": 0,
               "easing": "linear"
              }
             }
            ],
            "label": "2023-05-24 13:52:33.577170",
            "method": "animate"
           },
           {
            "args": [
             [
              "2023-05-24 13:52:33.713856"
             ],
             {
              "frame": {
               "duration": 0,
               "redraw": false
              },
              "fromcurrent": true,
              "mode": "immediate",
              "transition": {
               "duration": 0,
               "easing": "linear"
              }
             }
            ],
            "label": "2023-05-24 13:52:33.713856",
            "method": "animate"
           },
           {
            "args": [
             [
              "2023-05-24 13:52:33.835489"
             ],
             {
              "frame": {
               "duration": 0,
               "redraw": false
              },
              "fromcurrent": true,
              "mode": "immediate",
              "transition": {
               "duration": 0,
               "easing": "linear"
              }
             }
            ],
            "label": "2023-05-24 13:52:33.835489",
            "method": "animate"
           },
           {
            "args": [
             [
              "2023-05-24 13:52:33.965236"
             ],
             {
              "frame": {
               "duration": 0,
               "redraw": false
              },
              "fromcurrent": true,
              "mode": "immediate",
              "transition": {
               "duration": 0,
               "easing": "linear"
              }
             }
            ],
            "label": "2023-05-24 13:52:33.965236",
            "method": "animate"
           },
           {
            "args": [
             [
              "2023-05-24 13:52:34.092868"
             ],
             {
              "frame": {
               "duration": 0,
               "redraw": false
              },
              "fromcurrent": true,
              "mode": "immediate",
              "transition": {
               "duration": 0,
               "easing": "linear"
              }
             }
            ],
            "label": "2023-05-24 13:52:34.092868",
            "method": "animate"
           },
           {
            "args": [
             [
              "2023-05-24 13:52:34.230156"
             ],
             {
              "frame": {
               "duration": 0,
               "redraw": false
              },
              "fromcurrent": true,
              "mode": "immediate",
              "transition": {
               "duration": 0,
               "easing": "linear"
              }
             }
            ],
            "label": "2023-05-24 13:52:34.230156",
            "method": "animate"
           },
           {
            "args": [
             [
              "2023-05-24 13:52:34.358099"
             ],
             {
              "frame": {
               "duration": 0,
               "redraw": false
              },
              "fromcurrent": true,
              "mode": "immediate",
              "transition": {
               "duration": 0,
               "easing": "linear"
              }
             }
            ],
            "label": "2023-05-24 13:52:34.358099",
            "method": "animate"
           },
           {
            "args": [
             [
              "2023-05-24 13:52:34.486281"
             ],
             {
              "frame": {
               "duration": 0,
               "redraw": false
              },
              "fromcurrent": true,
              "mode": "immediate",
              "transition": {
               "duration": 0,
               "easing": "linear"
              }
             }
            ],
            "label": "2023-05-24 13:52:34.486281",
            "method": "animate"
           },
           {
            "args": [
             [
              "2023-05-24 13:52:34.612256"
             ],
             {
              "frame": {
               "duration": 0,
               "redraw": false
              },
              "fromcurrent": true,
              "mode": "immediate",
              "transition": {
               "duration": 0,
               "easing": "linear"
              }
             }
            ],
            "label": "2023-05-24 13:52:34.612256",
            "method": "animate"
           },
           {
            "args": [
             [
              "2023-05-24 13:52:34.744243"
             ],
             {
              "frame": {
               "duration": 0,
               "redraw": false
              },
              "fromcurrent": true,
              "mode": "immediate",
              "transition": {
               "duration": 0,
               "easing": "linear"
              }
             }
            ],
            "label": "2023-05-24 13:52:34.744243",
            "method": "animate"
           },
           {
            "args": [
             [
              "2023-05-24 13:52:34.872234"
             ],
             {
              "frame": {
               "duration": 0,
               "redraw": false
              },
              "fromcurrent": true,
              "mode": "immediate",
              "transition": {
               "duration": 0,
               "easing": "linear"
              }
             }
            ],
            "label": "2023-05-24 13:52:34.872234",
            "method": "animate"
           },
           {
            "args": [
             [
              "2023-05-24 13:52:35.003177"
             ],
             {
              "frame": {
               "duration": 0,
               "redraw": false
              },
              "fromcurrent": true,
              "mode": "immediate",
              "transition": {
               "duration": 0,
               "easing": "linear"
              }
             }
            ],
            "label": "2023-05-24 13:52:35.003177",
            "method": "animate"
           },
           {
            "args": [
             [
              "2023-05-24 13:52:35.132418"
             ],
             {
              "frame": {
               "duration": 0,
               "redraw": false
              },
              "fromcurrent": true,
              "mode": "immediate",
              "transition": {
               "duration": 0,
               "easing": "linear"
              }
             }
            ],
            "label": "2023-05-24 13:52:35.132418",
            "method": "animate"
           },
           {
            "args": [
             [
              "2023-05-24 13:52:35.263054"
             ],
             {
              "frame": {
               "duration": 0,
               "redraw": false
              },
              "fromcurrent": true,
              "mode": "immediate",
              "transition": {
               "duration": 0,
               "easing": "linear"
              }
             }
            ],
            "label": "2023-05-24 13:52:35.263054",
            "method": "animate"
           },
           {
            "args": [
             [
              "2023-05-24 13:52:35.391996"
             ],
             {
              "frame": {
               "duration": 0,
               "redraw": false
              },
              "fromcurrent": true,
              "mode": "immediate",
              "transition": {
               "duration": 0,
               "easing": "linear"
              }
             }
            ],
            "label": "2023-05-24 13:52:35.391996",
            "method": "animate"
           },
           {
            "args": [
             [
              "2023-05-24 13:52:35.522845"
             ],
             {
              "frame": {
               "duration": 0,
               "redraw": false
              },
              "fromcurrent": true,
              "mode": "immediate",
              "transition": {
               "duration": 0,
               "easing": "linear"
              }
             }
            ],
            "label": "2023-05-24 13:52:35.522845",
            "method": "animate"
           },
           {
            "args": [
             [
              "2023-05-24 13:52:35.650962"
             ],
             {
              "frame": {
               "duration": 0,
               "redraw": false
              },
              "fromcurrent": true,
              "mode": "immediate",
              "transition": {
               "duration": 0,
               "easing": "linear"
              }
             }
            ],
            "label": "2023-05-24 13:52:35.650962",
            "method": "animate"
           },
           {
            "args": [
             [
              "2023-05-24 13:52:35.782400"
             ],
             {
              "frame": {
               "duration": 0,
               "redraw": false
              },
              "fromcurrent": true,
              "mode": "immediate",
              "transition": {
               "duration": 0,
               "easing": "linear"
              }
             }
            ],
            "label": "2023-05-24 13:52:35.782400",
            "method": "animate"
           },
           {
            "args": [
             [
              "2023-05-24 13:52:35.915217"
             ],
             {
              "frame": {
               "duration": 0,
               "redraw": false
              },
              "fromcurrent": true,
              "mode": "immediate",
              "transition": {
               "duration": 0,
               "easing": "linear"
              }
             }
            ],
            "label": "2023-05-24 13:52:35.915217",
            "method": "animate"
           },
           {
            "args": [
             [
              "2023-05-24 13:52:36.045338"
             ],
             {
              "frame": {
               "duration": 0,
               "redraw": false
              },
              "fromcurrent": true,
              "mode": "immediate",
              "transition": {
               "duration": 0,
               "easing": "linear"
              }
             }
            ],
            "label": "2023-05-24 13:52:36.045338",
            "method": "animate"
           },
           {
            "args": [
             [
              "2023-05-24 13:52:36.170051"
             ],
             {
              "frame": {
               "duration": 0,
               "redraw": false
              },
              "fromcurrent": true,
              "mode": "immediate",
              "transition": {
               "duration": 0,
               "easing": "linear"
              }
             }
            ],
            "label": "2023-05-24 13:52:36.170051",
            "method": "animate"
           },
           {
            "args": [
             [
              "2023-05-24 13:52:36.300363"
             ],
             {
              "frame": {
               "duration": 0,
               "redraw": false
              },
              "fromcurrent": true,
              "mode": "immediate",
              "transition": {
               "duration": 0,
               "easing": "linear"
              }
             }
            ],
            "label": "2023-05-24 13:52:36.300363",
            "method": "animate"
           },
           {
            "args": [
             [
              "2023-05-24 13:52:36.432485"
             ],
             {
              "frame": {
               "duration": 0,
               "redraw": false
              },
              "fromcurrent": true,
              "mode": "immediate",
              "transition": {
               "duration": 0,
               "easing": "linear"
              }
             }
            ],
            "label": "2023-05-24 13:52:36.432485",
            "method": "animate"
           },
           {
            "args": [
             [
              "2023-05-24 13:52:36.560782"
             ],
             {
              "frame": {
               "duration": 0,
               "redraw": false
              },
              "fromcurrent": true,
              "mode": "immediate",
              "transition": {
               "duration": 0,
               "easing": "linear"
              }
             }
            ],
            "label": "2023-05-24 13:52:36.560782",
            "method": "animate"
           },
           {
            "args": [
             [
              "2023-05-24 13:52:36.691963"
             ],
             {
              "frame": {
               "duration": 0,
               "redraw": false
              },
              "fromcurrent": true,
              "mode": "immediate",
              "transition": {
               "duration": 0,
               "easing": "linear"
              }
             }
            ],
            "label": "2023-05-24 13:52:36.691963",
            "method": "animate"
           },
           {
            "args": [
             [
              "2023-05-24 13:52:36.821627"
             ],
             {
              "frame": {
               "duration": 0,
               "redraw": false
              },
              "fromcurrent": true,
              "mode": "immediate",
              "transition": {
               "duration": 0,
               "easing": "linear"
              }
             }
            ],
            "label": "2023-05-24 13:52:36.821627",
            "method": "animate"
           },
           {
            "args": [
             [
              "2023-05-24 13:52:36.951544"
             ],
             {
              "frame": {
               "duration": 0,
               "redraw": false
              },
              "fromcurrent": true,
              "mode": "immediate",
              "transition": {
               "duration": 0,
               "easing": "linear"
              }
             }
            ],
            "label": "2023-05-24 13:52:36.951544",
            "method": "animate"
           },
           {
            "args": [
             [
              "2023-05-24 13:52:37.077560"
             ],
             {
              "frame": {
               "duration": 0,
               "redraw": false
              },
              "fromcurrent": true,
              "mode": "immediate",
              "transition": {
               "duration": 0,
               "easing": "linear"
              }
             }
            ],
            "label": "2023-05-24 13:52:37.077560",
            "method": "animate"
           },
           {
            "args": [
             [
              "2023-05-24 13:52:37.205164"
             ],
             {
              "frame": {
               "duration": 0,
               "redraw": false
              },
              "fromcurrent": true,
              "mode": "immediate",
              "transition": {
               "duration": 0,
               "easing": "linear"
              }
             }
            ],
            "label": "2023-05-24 13:52:37.205164",
            "method": "animate"
           },
           {
            "args": [
             [
              "2023-05-24 13:52:37.342845"
             ],
             {
              "frame": {
               "duration": 0,
               "redraw": false
              },
              "fromcurrent": true,
              "mode": "immediate",
              "transition": {
               "duration": 0,
               "easing": "linear"
              }
             }
            ],
            "label": "2023-05-24 13:52:37.342845",
            "method": "animate"
           },
           {
            "args": [
             [
              "2023-05-24 13:52:37.469193"
             ],
             {
              "frame": {
               "duration": 0,
               "redraw": false
              },
              "fromcurrent": true,
              "mode": "immediate",
              "transition": {
               "duration": 0,
               "easing": "linear"
              }
             }
            ],
            "label": "2023-05-24 13:52:37.469193",
            "method": "animate"
           },
           {
            "args": [
             [
              "2023-05-24 13:52:37.595470"
             ],
             {
              "frame": {
               "duration": 0,
               "redraw": false
              },
              "fromcurrent": true,
              "mode": "immediate",
              "transition": {
               "duration": 0,
               "easing": "linear"
              }
             }
            ],
            "label": "2023-05-24 13:52:37.595470",
            "method": "animate"
           },
           {
            "args": [
             [
              "2023-05-24 13:52:37.728276"
             ],
             {
              "frame": {
               "duration": 0,
               "redraw": false
              },
              "fromcurrent": true,
              "mode": "immediate",
              "transition": {
               "duration": 0,
               "easing": "linear"
              }
             }
            ],
            "label": "2023-05-24 13:52:37.728276",
            "method": "animate"
           },
           {
            "args": [
             [
              "2023-05-24 13:52:37.863200"
             ],
             {
              "frame": {
               "duration": 0,
               "redraw": false
              },
              "fromcurrent": true,
              "mode": "immediate",
              "transition": {
               "duration": 0,
               "easing": "linear"
              }
             }
            ],
            "label": "2023-05-24 13:52:37.863200",
            "method": "animate"
           },
           {
            "args": [
             [
              "2023-05-24 13:52:37.988389"
             ],
             {
              "frame": {
               "duration": 0,
               "redraw": false
              },
              "fromcurrent": true,
              "mode": "immediate",
              "transition": {
               "duration": 0,
               "easing": "linear"
              }
             }
            ],
            "label": "2023-05-24 13:52:37.988389",
            "method": "animate"
           },
           {
            "args": [
             [
              "2023-05-24 13:52:38.115007"
             ],
             {
              "frame": {
               "duration": 0,
               "redraw": false
              },
              "fromcurrent": true,
              "mode": "immediate",
              "transition": {
               "duration": 0,
               "easing": "linear"
              }
             }
            ],
            "label": "2023-05-24 13:52:38.115007",
            "method": "animate"
           },
           {
            "args": [
             [
              "2023-05-24 13:52:38.246239"
             ],
             {
              "frame": {
               "duration": 0,
               "redraw": false
              },
              "fromcurrent": true,
              "mode": "immediate",
              "transition": {
               "duration": 0,
               "easing": "linear"
              }
             }
            ],
            "label": "2023-05-24 13:52:38.246239",
            "method": "animate"
           },
           {
            "args": [
             [
              "2023-05-24 13:52:38.379274"
             ],
             {
              "frame": {
               "duration": 0,
               "redraw": false
              },
              "fromcurrent": true,
              "mode": "immediate",
              "transition": {
               "duration": 0,
               "easing": "linear"
              }
             }
            ],
            "label": "2023-05-24 13:52:38.379274",
            "method": "animate"
           },
           {
            "args": [
             [
              "2023-05-24 13:52:38.505158"
             ],
             {
              "frame": {
               "duration": 0,
               "redraw": false
              },
              "fromcurrent": true,
              "mode": "immediate",
              "transition": {
               "duration": 0,
               "easing": "linear"
              }
             }
            ],
            "label": "2023-05-24 13:52:38.505158",
            "method": "animate"
           },
           {
            "args": [
             [
              "2023-05-24 13:52:38.634115"
             ],
             {
              "frame": {
               "duration": 0,
               "redraw": false
              },
              "fromcurrent": true,
              "mode": "immediate",
              "transition": {
               "duration": 0,
               "easing": "linear"
              }
             }
            ],
            "label": "2023-05-24 13:52:38.634115",
            "method": "animate"
           },
           {
            "args": [
             [
              "2023-05-24 13:52:38.765278"
             ],
             {
              "frame": {
               "duration": 0,
               "redraw": false
              },
              "fromcurrent": true,
              "mode": "immediate",
              "transition": {
               "duration": 0,
               "easing": "linear"
              }
             }
            ],
            "label": "2023-05-24 13:52:38.765278",
            "method": "animate"
           },
           {
            "args": [
             [
              "2023-05-24 13:52:38.891531"
             ],
             {
              "frame": {
               "duration": 0,
               "redraw": false
              },
              "fromcurrent": true,
              "mode": "immediate",
              "transition": {
               "duration": 0,
               "easing": "linear"
              }
             }
            ],
            "label": "2023-05-24 13:52:38.891531",
            "method": "animate"
           },
           {
            "args": [
             [
              "2023-05-24 13:52:39.027356"
             ],
             {
              "frame": {
               "duration": 0,
               "redraw": false
              },
              "fromcurrent": true,
              "mode": "immediate",
              "transition": {
               "duration": 0,
               "easing": "linear"
              }
             }
            ],
            "label": "2023-05-24 13:52:39.027356",
            "method": "animate"
           },
           {
            "args": [
             [
              "2023-05-24 13:52:39.152065"
             ],
             {
              "frame": {
               "duration": 0,
               "redraw": false
              },
              "fromcurrent": true,
              "mode": "immediate",
              "transition": {
               "duration": 0,
               "easing": "linear"
              }
             }
            ],
            "label": "2023-05-24 13:52:39.152065",
            "method": "animate"
           },
           {
            "args": [
             [
              "2023-05-24 13:52:39.281179"
             ],
             {
              "frame": {
               "duration": 0,
               "redraw": false
              },
              "fromcurrent": true,
              "mode": "immediate",
              "transition": {
               "duration": 0,
               "easing": "linear"
              }
             }
            ],
            "label": "2023-05-24 13:52:39.281179",
            "method": "animate"
           },
           {
            "args": [
             [
              "2023-05-24 13:52:39.412587"
             ],
             {
              "frame": {
               "duration": 0,
               "redraw": false
              },
              "fromcurrent": true,
              "mode": "immediate",
              "transition": {
               "duration": 0,
               "easing": "linear"
              }
             }
            ],
            "label": "2023-05-24 13:52:39.412587",
            "method": "animate"
           },
           {
            "args": [
             [
              "2023-05-24 13:52:39.543629"
             ],
             {
              "frame": {
               "duration": 0,
               "redraw": false
              },
              "fromcurrent": true,
              "mode": "immediate",
              "transition": {
               "duration": 0,
               "easing": "linear"
              }
             }
            ],
            "label": "2023-05-24 13:52:39.543629",
            "method": "animate"
           },
           {
            "args": [
             [
              "2023-05-24 13:52:39.669873"
             ],
             {
              "frame": {
               "duration": 0,
               "redraw": false
              },
              "fromcurrent": true,
              "mode": "immediate",
              "transition": {
               "duration": 0,
               "easing": "linear"
              }
             }
            ],
            "label": "2023-05-24 13:52:39.669873",
            "method": "animate"
           },
           {
            "args": [
             [
              "2023-05-24 13:52:39.801210"
             ],
             {
              "frame": {
               "duration": 0,
               "redraw": false
              },
              "fromcurrent": true,
              "mode": "immediate",
              "transition": {
               "duration": 0,
               "easing": "linear"
              }
             }
            ],
            "label": "2023-05-24 13:52:39.801210",
            "method": "animate"
           },
           {
            "args": [
             [
              "2023-05-24 13:52:39.931998"
             ],
             {
              "frame": {
               "duration": 0,
               "redraw": false
              },
              "fromcurrent": true,
              "mode": "immediate",
              "transition": {
               "duration": 0,
               "easing": "linear"
              }
             }
            ],
            "label": "2023-05-24 13:52:39.931998",
            "method": "animate"
           },
           {
            "args": [
             [
              "2023-05-24 13:52:40.061003"
             ],
             {
              "frame": {
               "duration": 0,
               "redraw": false
              },
              "fromcurrent": true,
              "mode": "immediate",
              "transition": {
               "duration": 0,
               "easing": "linear"
              }
             }
            ],
            "label": "2023-05-24 13:52:40.061003",
            "method": "animate"
           },
           {
            "args": [
             [
              "2023-05-24 13:52:40.193874"
             ],
             {
              "frame": {
               "duration": 0,
               "redraw": false
              },
              "fromcurrent": true,
              "mode": "immediate",
              "transition": {
               "duration": 0,
               "easing": "linear"
              }
             }
            ],
            "label": "2023-05-24 13:52:40.193874",
            "method": "animate"
           },
           {
            "args": [
             [
              "2023-05-24 13:52:40.322317"
             ],
             {
              "frame": {
               "duration": 0,
               "redraw": false
              },
              "fromcurrent": true,
              "mode": "immediate",
              "transition": {
               "duration": 0,
               "easing": "linear"
              }
             }
            ],
            "label": "2023-05-24 13:52:40.322317",
            "method": "animate"
           },
           {
            "args": [
             [
              "2023-05-24 13:52:40.453333"
             ],
             {
              "frame": {
               "duration": 0,
               "redraw": false
              },
              "fromcurrent": true,
              "mode": "immediate",
              "transition": {
               "duration": 0,
               "easing": "linear"
              }
             }
            ],
            "label": "2023-05-24 13:52:40.453333",
            "method": "animate"
           },
           {
            "args": [
             [
              "2023-05-24 13:52:40.582273"
             ],
             {
              "frame": {
               "duration": 0,
               "redraw": false
              },
              "fromcurrent": true,
              "mode": "immediate",
              "transition": {
               "duration": 0,
               "easing": "linear"
              }
             }
            ],
            "label": "2023-05-24 13:52:40.582273",
            "method": "animate"
           },
           {
            "args": [
             [
              "2023-05-24 13:52:40.711636"
             ],
             {
              "frame": {
               "duration": 0,
               "redraw": false
              },
              "fromcurrent": true,
              "mode": "immediate",
              "transition": {
               "duration": 0,
               "easing": "linear"
              }
             }
            ],
            "label": "2023-05-24 13:52:40.711636",
            "method": "animate"
           },
           {
            "args": [
             [
              "2023-05-24 13:52:40.840017"
             ],
             {
              "frame": {
               "duration": 0,
               "redraw": false
              },
              "fromcurrent": true,
              "mode": "immediate",
              "transition": {
               "duration": 0,
               "easing": "linear"
              }
             }
            ],
            "label": "2023-05-24 13:52:40.840017",
            "method": "animate"
           },
           {
            "args": [
             [
              "2023-05-24 13:52:40.970234"
             ],
             {
              "frame": {
               "duration": 0,
               "redraw": false
              },
              "fromcurrent": true,
              "mode": "immediate",
              "transition": {
               "duration": 0,
               "easing": "linear"
              }
             }
            ],
            "label": "2023-05-24 13:52:40.970234",
            "method": "animate"
           },
           {
            "args": [
             [
              "2023-05-24 13:52:41.097791"
             ],
             {
              "frame": {
               "duration": 0,
               "redraw": false
              },
              "fromcurrent": true,
              "mode": "immediate",
              "transition": {
               "duration": 0,
               "easing": "linear"
              }
             }
            ],
            "label": "2023-05-24 13:52:41.097791",
            "method": "animate"
           },
           {
            "args": [
             [
              "2023-05-24 13:52:41.227736"
             ],
             {
              "frame": {
               "duration": 0,
               "redraw": false
              },
              "fromcurrent": true,
              "mode": "immediate",
              "transition": {
               "duration": 0,
               "easing": "linear"
              }
             }
            ],
            "label": "2023-05-24 13:52:41.227736",
            "method": "animate"
           },
           {
            "args": [
             [
              "2023-05-24 13:52:41.358396"
             ],
             {
              "frame": {
               "duration": 0,
               "redraw": false
              },
              "fromcurrent": true,
              "mode": "immediate",
              "transition": {
               "duration": 0,
               "easing": "linear"
              }
             }
            ],
            "label": "2023-05-24 13:52:41.358396",
            "method": "animate"
           },
           {
            "args": [
             [
              "2023-05-24 13:52:41.490157"
             ],
             {
              "frame": {
               "duration": 0,
               "redraw": false
              },
              "fromcurrent": true,
              "mode": "immediate",
              "transition": {
               "duration": 0,
               "easing": "linear"
              }
             }
            ],
            "label": "2023-05-24 13:52:41.490157",
            "method": "animate"
           },
           {
            "args": [
             [
              "2023-05-24 13:52:41.620729"
             ],
             {
              "frame": {
               "duration": 0,
               "redraw": false
              },
              "fromcurrent": true,
              "mode": "immediate",
              "transition": {
               "duration": 0,
               "easing": "linear"
              }
             }
            ],
            "label": "2023-05-24 13:52:41.620729",
            "method": "animate"
           },
           {
            "args": [
             [
              "2023-05-24 13:52:41.750555"
             ],
             {
              "frame": {
               "duration": 0,
               "redraw": false
              },
              "fromcurrent": true,
              "mode": "immediate",
              "transition": {
               "duration": 0,
               "easing": "linear"
              }
             }
            ],
            "label": "2023-05-24 13:52:41.750555",
            "method": "animate"
           },
           {
            "args": [
             [
              "2023-05-24 13:52:41.878798"
             ],
             {
              "frame": {
               "duration": 0,
               "redraw": false
              },
              "fromcurrent": true,
              "mode": "immediate",
              "transition": {
               "duration": 0,
               "easing": "linear"
              }
             }
            ],
            "label": "2023-05-24 13:52:41.878798",
            "method": "animate"
           },
           {
            "args": [
             [
              "2023-05-24 13:52:42.007546"
             ],
             {
              "frame": {
               "duration": 0,
               "redraw": false
              },
              "fromcurrent": true,
              "mode": "immediate",
              "transition": {
               "duration": 0,
               "easing": "linear"
              }
             }
            ],
            "label": "2023-05-24 13:52:42.007546",
            "method": "animate"
           },
           {
            "args": [
             [
              "2023-05-24 13:52:42.135264"
             ],
             {
              "frame": {
               "duration": 0,
               "redraw": false
              },
              "fromcurrent": true,
              "mode": "immediate",
              "transition": {
               "duration": 0,
               "easing": "linear"
              }
             }
            ],
            "label": "2023-05-24 13:52:42.135264",
            "method": "animate"
           },
           {
            "args": [
             [
              "2023-05-24 13:52:42.269143"
             ],
             {
              "frame": {
               "duration": 0,
               "redraw": false
              },
              "fromcurrent": true,
              "mode": "immediate",
              "transition": {
               "duration": 0,
               "easing": "linear"
              }
             }
            ],
            "label": "2023-05-24 13:52:42.269143",
            "method": "animate"
           },
           {
            "args": [
             [
              "2023-05-24 13:52:42.396341"
             ],
             {
              "frame": {
               "duration": 0,
               "redraw": false
              },
              "fromcurrent": true,
              "mode": "immediate",
              "transition": {
               "duration": 0,
               "easing": "linear"
              }
             }
            ],
            "label": "2023-05-24 13:52:42.396341",
            "method": "animate"
           },
           {
            "args": [
             [
              "2023-05-24 13:52:42.524820"
             ],
             {
              "frame": {
               "duration": 0,
               "redraw": false
              },
              "fromcurrent": true,
              "mode": "immediate",
              "transition": {
               "duration": 0,
               "easing": "linear"
              }
             }
            ],
            "label": "2023-05-24 13:52:42.524820",
            "method": "animate"
           },
           {
            "args": [
             [
              "2023-05-24 13:52:42.659115"
             ],
             {
              "frame": {
               "duration": 0,
               "redraw": false
              },
              "fromcurrent": true,
              "mode": "immediate",
              "transition": {
               "duration": 0,
               "easing": "linear"
              }
             }
            ],
            "label": "2023-05-24 13:52:42.659115",
            "method": "animate"
           },
           {
            "args": [
             [
              "2023-05-24 13:52:42.783034"
             ],
             {
              "frame": {
               "duration": 0,
               "redraw": false
              },
              "fromcurrent": true,
              "mode": "immediate",
              "transition": {
               "duration": 0,
               "easing": "linear"
              }
             }
            ],
            "label": "2023-05-24 13:52:42.783034",
            "method": "animate"
           },
           {
            "args": [
             [
              "2023-05-24 13:52:42.914507"
             ],
             {
              "frame": {
               "duration": 0,
               "redraw": false
              },
              "fromcurrent": true,
              "mode": "immediate",
              "transition": {
               "duration": 0,
               "easing": "linear"
              }
             }
            ],
            "label": "2023-05-24 13:52:42.914507",
            "method": "animate"
           },
           {
            "args": [
             [
              "2023-05-24 13:52:43.043511"
             ],
             {
              "frame": {
               "duration": 0,
               "redraw": false
              },
              "fromcurrent": true,
              "mode": "immediate",
              "transition": {
               "duration": 0,
               "easing": "linear"
              }
             }
            ],
            "label": "2023-05-24 13:52:43.043511",
            "method": "animate"
           },
           {
            "args": [
             [
              "2023-05-24 13:52:43.174423"
             ],
             {
              "frame": {
               "duration": 0,
               "redraw": false
              },
              "fromcurrent": true,
              "mode": "immediate",
              "transition": {
               "duration": 0,
               "easing": "linear"
              }
             }
            ],
            "label": "2023-05-24 13:52:43.174423",
            "method": "animate"
           },
           {
            "args": [
             [
              "2023-05-24 13:52:43.306857"
             ],
             {
              "frame": {
               "duration": 0,
               "redraw": false
              },
              "fromcurrent": true,
              "mode": "immediate",
              "transition": {
               "duration": 0,
               "easing": "linear"
              }
             }
            ],
            "label": "2023-05-24 13:52:43.306857",
            "method": "animate"
           },
           {
            "args": [
             [
              "2023-05-24 13:52:43.435337"
             ],
             {
              "frame": {
               "duration": 0,
               "redraw": false
              },
              "fromcurrent": true,
              "mode": "immediate",
              "transition": {
               "duration": 0,
               "easing": "linear"
              }
             }
            ],
            "label": "2023-05-24 13:52:43.435337",
            "method": "animate"
           },
           {
            "args": [
             [
              "2023-05-24 13:52:43.563764"
             ],
             {
              "frame": {
               "duration": 0,
               "redraw": false
              },
              "fromcurrent": true,
              "mode": "immediate",
              "transition": {
               "duration": 0,
               "easing": "linear"
              }
             }
            ],
            "label": "2023-05-24 13:52:43.563764",
            "method": "animate"
           },
           {
            "args": [
             [
              "2023-05-24 13:52:43.691758"
             ],
             {
              "frame": {
               "duration": 0,
               "redraw": false
              },
              "fromcurrent": true,
              "mode": "immediate",
              "transition": {
               "duration": 0,
               "easing": "linear"
              }
             }
            ],
            "label": "2023-05-24 13:52:43.691758",
            "method": "animate"
           },
           {
            "args": [
             [
              "2023-05-24 13:52:43.825228"
             ],
             {
              "frame": {
               "duration": 0,
               "redraw": false
              },
              "fromcurrent": true,
              "mode": "immediate",
              "transition": {
               "duration": 0,
               "easing": "linear"
              }
             }
            ],
            "label": "2023-05-24 13:52:43.825228",
            "method": "animate"
           },
           {
            "args": [
             [
              "2023-05-24 13:52:43.954412"
             ],
             {
              "frame": {
               "duration": 0,
               "redraw": false
              },
              "fromcurrent": true,
              "mode": "immediate",
              "transition": {
               "duration": 0,
               "easing": "linear"
              }
             }
            ],
            "label": "2023-05-24 13:52:43.954412",
            "method": "animate"
           },
           {
            "args": [
             [
              "2023-05-24 13:52:44.083896"
             ],
             {
              "frame": {
               "duration": 0,
               "redraw": false
              },
              "fromcurrent": true,
              "mode": "immediate",
              "transition": {
               "duration": 0,
               "easing": "linear"
              }
             }
            ],
            "label": "2023-05-24 13:52:44.083896",
            "method": "animate"
           },
           {
            "args": [
             [
              "2023-05-24 13:52:44.212914"
             ],
             {
              "frame": {
               "duration": 0,
               "redraw": false
              },
              "fromcurrent": true,
              "mode": "immediate",
              "transition": {
               "duration": 0,
               "easing": "linear"
              }
             }
            ],
            "label": "2023-05-24 13:52:44.212914",
            "method": "animate"
           },
           {
            "args": [
             [
              "2023-05-24 13:52:44.339799"
             ],
             {
              "frame": {
               "duration": 0,
               "redraw": false
              },
              "fromcurrent": true,
              "mode": "immediate",
              "transition": {
               "duration": 0,
               "easing": "linear"
              }
             }
            ],
            "label": "2023-05-24 13:52:44.339799",
            "method": "animate"
           },
           {
            "args": [
             [
              "2023-05-24 13:52:44.472135"
             ],
             {
              "frame": {
               "duration": 0,
               "redraw": false
              },
              "fromcurrent": true,
              "mode": "immediate",
              "transition": {
               "duration": 0,
               "easing": "linear"
              }
             }
            ],
            "label": "2023-05-24 13:52:44.472135",
            "method": "animate"
           },
           {
            "args": [
             [
              "2023-05-24 13:52:44.597600"
             ],
             {
              "frame": {
               "duration": 0,
               "redraw": false
              },
              "fromcurrent": true,
              "mode": "immediate",
              "transition": {
               "duration": 0,
               "easing": "linear"
              }
             }
            ],
            "label": "2023-05-24 13:52:44.597600",
            "method": "animate"
           },
           {
            "args": [
             [
              "2023-05-24 13:52:44.730819"
             ],
             {
              "frame": {
               "duration": 0,
               "redraw": false
              },
              "fromcurrent": true,
              "mode": "immediate",
              "transition": {
               "duration": 0,
               "easing": "linear"
              }
             }
            ],
            "label": "2023-05-24 13:52:44.730819",
            "method": "animate"
           },
           {
            "args": [
             [
              "2023-05-24 13:52:44.859719"
             ],
             {
              "frame": {
               "duration": 0,
               "redraw": false
              },
              "fromcurrent": true,
              "mode": "immediate",
              "transition": {
               "duration": 0,
               "easing": "linear"
              }
             }
            ],
            "label": "2023-05-24 13:52:44.859719",
            "method": "animate"
           },
           {
            "args": [
             [
              "2023-05-24 13:52:44.987129"
             ],
             {
              "frame": {
               "duration": 0,
               "redraw": false
              },
              "fromcurrent": true,
              "mode": "immediate",
              "transition": {
               "duration": 0,
               "easing": "linear"
              }
             }
            ],
            "label": "2023-05-24 13:52:44.987129",
            "method": "animate"
           },
           {
            "args": [
             [
              "2023-05-24 13:52:45.117858"
             ],
             {
              "frame": {
               "duration": 0,
               "redraw": false
              },
              "fromcurrent": true,
              "mode": "immediate",
              "transition": {
               "duration": 0,
               "easing": "linear"
              }
             }
            ],
            "label": "2023-05-24 13:52:45.117858",
            "method": "animate"
           },
           {
            "args": [
             [
              "2023-05-24 13:52:45.249105"
             ],
             {
              "frame": {
               "duration": 0,
               "redraw": false
              },
              "fromcurrent": true,
              "mode": "immediate",
              "transition": {
               "duration": 0,
               "easing": "linear"
              }
             }
            ],
            "label": "2023-05-24 13:52:45.249105",
            "method": "animate"
           },
           {
            "args": [
             [
              "2023-05-24 13:52:45.380759"
             ],
             {
              "frame": {
               "duration": 0,
               "redraw": false
              },
              "fromcurrent": true,
              "mode": "immediate",
              "transition": {
               "duration": 0,
               "easing": "linear"
              }
             }
            ],
            "label": "2023-05-24 13:52:45.380759",
            "method": "animate"
           },
           {
            "args": [
             [
              "2023-05-24 13:52:45.508621"
             ],
             {
              "frame": {
               "duration": 0,
               "redraw": false
              },
              "fromcurrent": true,
              "mode": "immediate",
              "transition": {
               "duration": 0,
               "easing": "linear"
              }
             }
            ],
            "label": "2023-05-24 13:52:45.508621",
            "method": "animate"
           },
           {
            "args": [
             [
              "2023-05-24 13:52:45.639962"
             ],
             {
              "frame": {
               "duration": 0,
               "redraw": false
              },
              "fromcurrent": true,
              "mode": "immediate",
              "transition": {
               "duration": 0,
               "easing": "linear"
              }
             }
            ],
            "label": "2023-05-24 13:52:45.639962",
            "method": "animate"
           },
           {
            "args": [
             [
              "2023-05-24 13:52:45.767363"
             ],
             {
              "frame": {
               "duration": 0,
               "redraw": false
              },
              "fromcurrent": true,
              "mode": "immediate",
              "transition": {
               "duration": 0,
               "easing": "linear"
              }
             }
            ],
            "label": "2023-05-24 13:52:45.767363",
            "method": "animate"
           },
           {
            "args": [
             [
              "2023-05-24 13:52:45.900832"
             ],
             {
              "frame": {
               "duration": 0,
               "redraw": false
              },
              "fromcurrent": true,
              "mode": "immediate",
              "transition": {
               "duration": 0,
               "easing": "linear"
              }
             }
            ],
            "label": "2023-05-24 13:52:45.900832",
            "method": "animate"
           },
           {
            "args": [
             [
              "2023-05-24 13:52:46.030727"
             ],
             {
              "frame": {
               "duration": 0,
               "redraw": false
              },
              "fromcurrent": true,
              "mode": "immediate",
              "transition": {
               "duration": 0,
               "easing": "linear"
              }
             }
            ],
            "label": "2023-05-24 13:52:46.030727",
            "method": "animate"
           },
           {
            "args": [
             [
              "2023-05-24 13:52:46.159243"
             ],
             {
              "frame": {
               "duration": 0,
               "redraw": false
              },
              "fromcurrent": true,
              "mode": "immediate",
              "transition": {
               "duration": 0,
               "easing": "linear"
              }
             }
            ],
            "label": "2023-05-24 13:52:46.159243",
            "method": "animate"
           },
           {
            "args": [
             [
              "2023-05-24 13:52:46.287348"
             ],
             {
              "frame": {
               "duration": 0,
               "redraw": false
              },
              "fromcurrent": true,
              "mode": "immediate",
              "transition": {
               "duration": 0,
               "easing": "linear"
              }
             }
            ],
            "label": "2023-05-24 13:52:46.287348",
            "method": "animate"
           },
           {
            "args": [
             [
              "2023-05-24 13:52:46.418024"
             ],
             {
              "frame": {
               "duration": 0,
               "redraw": false
              },
              "fromcurrent": true,
              "mode": "immediate",
              "transition": {
               "duration": 0,
               "easing": "linear"
              }
             }
            ],
            "label": "2023-05-24 13:52:46.418024",
            "method": "animate"
           },
           {
            "args": [
             [
              "2023-05-24 13:52:46.546913"
             ],
             {
              "frame": {
               "duration": 0,
               "redraw": false
              },
              "fromcurrent": true,
              "mode": "immediate",
              "transition": {
               "duration": 0,
               "easing": "linear"
              }
             }
            ],
            "label": "2023-05-24 13:52:46.546913",
            "method": "animate"
           },
           {
            "args": [
             [
              "2023-05-24 13:52:46.680453"
             ],
             {
              "frame": {
               "duration": 0,
               "redraw": false
              },
              "fromcurrent": true,
              "mode": "immediate",
              "transition": {
               "duration": 0,
               "easing": "linear"
              }
             }
            ],
            "label": "2023-05-24 13:52:46.680453",
            "method": "animate"
           },
           {
            "args": [
             [
              "2023-05-24 13:52:46.809466"
             ],
             {
              "frame": {
               "duration": 0,
               "redraw": false
              },
              "fromcurrent": true,
              "mode": "immediate",
              "transition": {
               "duration": 0,
               "easing": "linear"
              }
             }
            ],
            "label": "2023-05-24 13:52:46.809466",
            "method": "animate"
           },
           {
            "args": [
             [
              "2023-05-24 13:52:46.937554"
             ],
             {
              "frame": {
               "duration": 0,
               "redraw": false
              },
              "fromcurrent": true,
              "mode": "immediate",
              "transition": {
               "duration": 0,
               "easing": "linear"
              }
             }
            ],
            "label": "2023-05-24 13:52:46.937554",
            "method": "animate"
           },
           {
            "args": [
             [
              "2023-05-24 13:52:47.066038"
             ],
             {
              "frame": {
               "duration": 0,
               "redraw": false
              },
              "fromcurrent": true,
              "mode": "immediate",
              "transition": {
               "duration": 0,
               "easing": "linear"
              }
             }
            ],
            "label": "2023-05-24 13:52:47.066038",
            "method": "animate"
           },
           {
            "args": [
             [
              "2023-05-24 13:52:47.196400"
             ],
             {
              "frame": {
               "duration": 0,
               "redraw": false
              },
              "fromcurrent": true,
              "mode": "immediate",
              "transition": {
               "duration": 0,
               "easing": "linear"
              }
             }
            ],
            "label": "2023-05-24 13:52:47.196400",
            "method": "animate"
           },
           {
            "args": [
             [
              "2023-05-24 13:52:47.328144"
             ],
             {
              "frame": {
               "duration": 0,
               "redraw": false
              },
              "fromcurrent": true,
              "mode": "immediate",
              "transition": {
               "duration": 0,
               "easing": "linear"
              }
             }
            ],
            "label": "2023-05-24 13:52:47.328144",
            "method": "animate"
           },
           {
            "args": [
             [
              "2023-05-24 13:52:47.453972"
             ],
             {
              "frame": {
               "duration": 0,
               "redraw": false
              },
              "fromcurrent": true,
              "mode": "immediate",
              "transition": {
               "duration": 0,
               "easing": "linear"
              }
             }
            ],
            "label": "2023-05-24 13:52:47.453972",
            "method": "animate"
           },
           {
            "args": [
             [
              "2023-05-24 13:52:47.584149"
             ],
             {
              "frame": {
               "duration": 0,
               "redraw": false
              },
              "fromcurrent": true,
              "mode": "immediate",
              "transition": {
               "duration": 0,
               "easing": "linear"
              }
             }
            ],
            "label": "2023-05-24 13:52:47.584149",
            "method": "animate"
           },
           {
            "args": [
             [
              "2023-05-24 13:52:47.715837"
             ],
             {
              "frame": {
               "duration": 0,
               "redraw": false
              },
              "fromcurrent": true,
              "mode": "immediate",
              "transition": {
               "duration": 0,
               "easing": "linear"
              }
             }
            ],
            "label": "2023-05-24 13:52:47.715837",
            "method": "animate"
           },
           {
            "args": [
             [
              "2023-05-24 13:52:47.842925"
             ],
             {
              "frame": {
               "duration": 0,
               "redraw": false
              },
              "fromcurrent": true,
              "mode": "immediate",
              "transition": {
               "duration": 0,
               "easing": "linear"
              }
             }
            ],
            "label": "2023-05-24 13:52:47.842925",
            "method": "animate"
           },
           {
            "args": [
             [
              "2023-05-24 13:52:47.972183"
             ],
             {
              "frame": {
               "duration": 0,
               "redraw": false
              },
              "fromcurrent": true,
              "mode": "immediate",
              "transition": {
               "duration": 0,
               "easing": "linear"
              }
             }
            ],
            "label": "2023-05-24 13:52:47.972183",
            "method": "animate"
           },
           {
            "args": [
             [
              "2023-05-24 13:52:48.102394"
             ],
             {
              "frame": {
               "duration": 0,
               "redraw": false
              },
              "fromcurrent": true,
              "mode": "immediate",
              "transition": {
               "duration": 0,
               "easing": "linear"
              }
             }
            ],
            "label": "2023-05-24 13:52:48.102394",
            "method": "animate"
           },
           {
            "args": [
             [
              "2023-05-24 13:52:48.230614"
             ],
             {
              "frame": {
               "duration": 0,
               "redraw": false
              },
              "fromcurrent": true,
              "mode": "immediate",
              "transition": {
               "duration": 0,
               "easing": "linear"
              }
             }
            ],
            "label": "2023-05-24 13:52:48.230614",
            "method": "animate"
           },
           {
            "args": [
             [
              "2023-05-24 13:52:48.360581"
             ],
             {
              "frame": {
               "duration": 0,
               "redraw": false
              },
              "fromcurrent": true,
              "mode": "immediate",
              "transition": {
               "duration": 0,
               "easing": "linear"
              }
             }
            ],
            "label": "2023-05-24 13:52:48.360581",
            "method": "animate"
           },
           {
            "args": [
             [
              "2023-05-24 13:52:48.490755"
             ],
             {
              "frame": {
               "duration": 0,
               "redraw": false
              },
              "fromcurrent": true,
              "mode": "immediate",
              "transition": {
               "duration": 0,
               "easing": "linear"
              }
             }
            ],
            "label": "2023-05-24 13:52:48.490755",
            "method": "animate"
           },
           {
            "args": [
             [
              "2023-05-24 13:52:48.619321"
             ],
             {
              "frame": {
               "duration": 0,
               "redraw": false
              },
              "fromcurrent": true,
              "mode": "immediate",
              "transition": {
               "duration": 0,
               "easing": "linear"
              }
             }
            ],
            "label": "2023-05-24 13:52:48.619321",
            "method": "animate"
           },
           {
            "args": [
             [
              "2023-05-24 13:52:48.748451"
             ],
             {
              "frame": {
               "duration": 0,
               "redraw": false
              },
              "fromcurrent": true,
              "mode": "immediate",
              "transition": {
               "duration": 0,
               "easing": "linear"
              }
             }
            ],
            "label": "2023-05-24 13:52:48.748451",
            "method": "animate"
           },
           {
            "args": [
             [
              "2023-05-24 13:52:48.877797"
             ],
             {
              "frame": {
               "duration": 0,
               "redraw": false
              },
              "fromcurrent": true,
              "mode": "immediate",
              "transition": {
               "duration": 0,
               "easing": "linear"
              }
             }
            ],
            "label": "2023-05-24 13:52:48.877797",
            "method": "animate"
           },
           {
            "args": [
             [
              "2023-05-24 13:52:49.006150"
             ],
             {
              "frame": {
               "duration": 0,
               "redraw": false
              },
              "fromcurrent": true,
              "mode": "immediate",
              "transition": {
               "duration": 0,
               "easing": "linear"
              }
             }
            ],
            "label": "2023-05-24 13:52:49.006150",
            "method": "animate"
           },
           {
            "args": [
             [
              "2023-05-24 13:52:49.138213"
             ],
             {
              "frame": {
               "duration": 0,
               "redraw": false
              },
              "fromcurrent": true,
              "mode": "immediate",
              "transition": {
               "duration": 0,
               "easing": "linear"
              }
             }
            ],
            "label": "2023-05-24 13:52:49.138213",
            "method": "animate"
           },
           {
            "args": [
             [
              "2023-05-24 13:52:49.269425"
             ],
             {
              "frame": {
               "duration": 0,
               "redraw": false
              },
              "fromcurrent": true,
              "mode": "immediate",
              "transition": {
               "duration": 0,
               "easing": "linear"
              }
             }
            ],
            "label": "2023-05-24 13:52:49.269425",
            "method": "animate"
           },
           {
            "args": [
             [
              "2023-05-24 13:52:49.396467"
             ],
             {
              "frame": {
               "duration": 0,
               "redraw": false
              },
              "fromcurrent": true,
              "mode": "immediate",
              "transition": {
               "duration": 0,
               "easing": "linear"
              }
             }
            ],
            "label": "2023-05-24 13:52:49.396467",
            "method": "animate"
           },
           {
            "args": [
             [
              "2023-05-24 13:52:49.528609"
             ],
             {
              "frame": {
               "duration": 0,
               "redraw": false
              },
              "fromcurrent": true,
              "mode": "immediate",
              "transition": {
               "duration": 0,
               "easing": "linear"
              }
             }
            ],
            "label": "2023-05-24 13:52:49.528609",
            "method": "animate"
           },
           {
            "args": [
             [
              "2023-05-24 13:52:49.657098"
             ],
             {
              "frame": {
               "duration": 0,
               "redraw": false
              },
              "fromcurrent": true,
              "mode": "immediate",
              "transition": {
               "duration": 0,
               "easing": "linear"
              }
             }
            ],
            "label": "2023-05-24 13:52:49.657098",
            "method": "animate"
           },
           {
            "args": [
             [
              "2023-05-24 13:52:49.786378"
             ],
             {
              "frame": {
               "duration": 0,
               "redraw": false
              },
              "fromcurrent": true,
              "mode": "immediate",
              "transition": {
               "duration": 0,
               "easing": "linear"
              }
             }
            ],
            "label": "2023-05-24 13:52:49.786378",
            "method": "animate"
           },
           {
            "args": [
             [
              "2023-05-24 13:52:49.917037"
             ],
             {
              "frame": {
               "duration": 0,
               "redraw": false
              },
              "fromcurrent": true,
              "mode": "immediate",
              "transition": {
               "duration": 0,
               "easing": "linear"
              }
             }
            ],
            "label": "2023-05-24 13:52:49.917037",
            "method": "animate"
           },
           {
            "args": [
             [
              "2023-05-24 13:52:50.046483"
             ],
             {
              "frame": {
               "duration": 0,
               "redraw": false
              },
              "fromcurrent": true,
              "mode": "immediate",
              "transition": {
               "duration": 0,
               "easing": "linear"
              }
             }
            ],
            "label": "2023-05-24 13:52:50.046483",
            "method": "animate"
           },
           {
            "args": [
             [
              "2023-05-24 13:52:50.173215"
             ],
             {
              "frame": {
               "duration": 0,
               "redraw": false
              },
              "fromcurrent": true,
              "mode": "immediate",
              "transition": {
               "duration": 0,
               "easing": "linear"
              }
             }
            ],
            "label": "2023-05-24 13:52:50.173215",
            "method": "animate"
           },
           {
            "args": [
             [
              "2023-05-24 13:52:50.309393"
             ],
             {
              "frame": {
               "duration": 0,
               "redraw": false
              },
              "fromcurrent": true,
              "mode": "immediate",
              "transition": {
               "duration": 0,
               "easing": "linear"
              }
             }
            ],
            "label": "2023-05-24 13:52:50.309393",
            "method": "animate"
           }
          ],
          "x": 0.1,
          "xanchor": "left",
          "y": 0,
          "yanchor": "top"
         }
        ],
        "template": {
         "data": {
          "bar": [
           {
            "error_x": {
             "color": "#2a3f5f"
            },
            "error_y": {
             "color": "#2a3f5f"
            },
            "marker": {
             "line": {
              "color": "#E5ECF6",
              "width": 0.5
             },
             "pattern": {
              "fillmode": "overlay",
              "size": 10,
              "solidity": 0.2
             }
            },
            "type": "bar"
           }
          ],
          "barpolar": [
           {
            "marker": {
             "line": {
              "color": "#E5ECF6",
              "width": 0.5
             },
             "pattern": {
              "fillmode": "overlay",
              "size": 10,
              "solidity": 0.2
             }
            },
            "type": "barpolar"
           }
          ],
          "carpet": [
           {
            "aaxis": {
             "endlinecolor": "#2a3f5f",
             "gridcolor": "white",
             "linecolor": "white",
             "minorgridcolor": "white",
             "startlinecolor": "#2a3f5f"
            },
            "baxis": {
             "endlinecolor": "#2a3f5f",
             "gridcolor": "white",
             "linecolor": "white",
             "minorgridcolor": "white",
             "startlinecolor": "#2a3f5f"
            },
            "type": "carpet"
           }
          ],
          "choropleth": [
           {
            "colorbar": {
             "outlinewidth": 0,
             "ticks": ""
            },
            "type": "choropleth"
           }
          ],
          "contour": [
           {
            "colorbar": {
             "outlinewidth": 0,
             "ticks": ""
            },
            "colorscale": [
             [
              0,
              "#0d0887"
             ],
             [
              0.1111111111111111,
              "#46039f"
             ],
             [
              0.2222222222222222,
              "#7201a8"
             ],
             [
              0.3333333333333333,
              "#9c179e"
             ],
             [
              0.4444444444444444,
              "#bd3786"
             ],
             [
              0.5555555555555556,
              "#d8576b"
             ],
             [
              0.6666666666666666,
              "#ed7953"
             ],
             [
              0.7777777777777778,
              "#fb9f3a"
             ],
             [
              0.8888888888888888,
              "#fdca26"
             ],
             [
              1,
              "#f0f921"
             ]
            ],
            "type": "contour"
           }
          ],
          "contourcarpet": [
           {
            "colorbar": {
             "outlinewidth": 0,
             "ticks": ""
            },
            "type": "contourcarpet"
           }
          ],
          "heatmap": [
           {
            "colorbar": {
             "outlinewidth": 0,
             "ticks": ""
            },
            "colorscale": [
             [
              0,
              "#0d0887"
             ],
             [
              0.1111111111111111,
              "#46039f"
             ],
             [
              0.2222222222222222,
              "#7201a8"
             ],
             [
              0.3333333333333333,
              "#9c179e"
             ],
             [
              0.4444444444444444,
              "#bd3786"
             ],
             [
              0.5555555555555556,
              "#d8576b"
             ],
             [
              0.6666666666666666,
              "#ed7953"
             ],
             [
              0.7777777777777778,
              "#fb9f3a"
             ],
             [
              0.8888888888888888,
              "#fdca26"
             ],
             [
              1,
              "#f0f921"
             ]
            ],
            "type": "heatmap"
           }
          ],
          "heatmapgl": [
           {
            "colorbar": {
             "outlinewidth": 0,
             "ticks": ""
            },
            "colorscale": [
             [
              0,
              "#0d0887"
             ],
             [
              0.1111111111111111,
              "#46039f"
             ],
             [
              0.2222222222222222,
              "#7201a8"
             ],
             [
              0.3333333333333333,
              "#9c179e"
             ],
             [
              0.4444444444444444,
              "#bd3786"
             ],
             [
              0.5555555555555556,
              "#d8576b"
             ],
             [
              0.6666666666666666,
              "#ed7953"
             ],
             [
              0.7777777777777778,
              "#fb9f3a"
             ],
             [
              0.8888888888888888,
              "#fdca26"
             ],
             [
              1,
              "#f0f921"
             ]
            ],
            "type": "heatmapgl"
           }
          ],
          "histogram": [
           {
            "marker": {
             "pattern": {
              "fillmode": "overlay",
              "size": 10,
              "solidity": 0.2
             }
            },
            "type": "histogram"
           }
          ],
          "histogram2d": [
           {
            "colorbar": {
             "outlinewidth": 0,
             "ticks": ""
            },
            "colorscale": [
             [
              0,
              "#0d0887"
             ],
             [
              0.1111111111111111,
              "#46039f"
             ],
             [
              0.2222222222222222,
              "#7201a8"
             ],
             [
              0.3333333333333333,
              "#9c179e"
             ],
             [
              0.4444444444444444,
              "#bd3786"
             ],
             [
              0.5555555555555556,
              "#d8576b"
             ],
             [
              0.6666666666666666,
              "#ed7953"
             ],
             [
              0.7777777777777778,
              "#fb9f3a"
             ],
             [
              0.8888888888888888,
              "#fdca26"
             ],
             [
              1,
              "#f0f921"
             ]
            ],
            "type": "histogram2d"
           }
          ],
          "histogram2dcontour": [
           {
            "colorbar": {
             "outlinewidth": 0,
             "ticks": ""
            },
            "colorscale": [
             [
              0,
              "#0d0887"
             ],
             [
              0.1111111111111111,
              "#46039f"
             ],
             [
              0.2222222222222222,
              "#7201a8"
             ],
             [
              0.3333333333333333,
              "#9c179e"
             ],
             [
              0.4444444444444444,
              "#bd3786"
             ],
             [
              0.5555555555555556,
              "#d8576b"
             ],
             [
              0.6666666666666666,
              "#ed7953"
             ],
             [
              0.7777777777777778,
              "#fb9f3a"
             ],
             [
              0.8888888888888888,
              "#fdca26"
             ],
             [
              1,
              "#f0f921"
             ]
            ],
            "type": "histogram2dcontour"
           }
          ],
          "mesh3d": [
           {
            "colorbar": {
             "outlinewidth": 0,
             "ticks": ""
            },
            "type": "mesh3d"
           }
          ],
          "parcoords": [
           {
            "line": {
             "colorbar": {
              "outlinewidth": 0,
              "ticks": ""
             }
            },
            "type": "parcoords"
           }
          ],
          "pie": [
           {
            "automargin": true,
            "type": "pie"
           }
          ],
          "scatter": [
           {
            "fillpattern": {
             "fillmode": "overlay",
             "size": 10,
             "solidity": 0.2
            },
            "type": "scatter"
           }
          ],
          "scatter3d": [
           {
            "line": {
             "colorbar": {
              "outlinewidth": 0,
              "ticks": ""
             }
            },
            "marker": {
             "colorbar": {
              "outlinewidth": 0,
              "ticks": ""
             }
            },
            "type": "scatter3d"
           }
          ],
          "scattercarpet": [
           {
            "marker": {
             "colorbar": {
              "outlinewidth": 0,
              "ticks": ""
             }
            },
            "type": "scattercarpet"
           }
          ],
          "scattergeo": [
           {
            "marker": {
             "colorbar": {
              "outlinewidth": 0,
              "ticks": ""
             }
            },
            "type": "scattergeo"
           }
          ],
          "scattergl": [
           {
            "marker": {
             "colorbar": {
              "outlinewidth": 0,
              "ticks": ""
             }
            },
            "type": "scattergl"
           }
          ],
          "scattermapbox": [
           {
            "marker": {
             "colorbar": {
              "outlinewidth": 0,
              "ticks": ""
             }
            },
            "type": "scattermapbox"
           }
          ],
          "scatterpolar": [
           {
            "marker": {
             "colorbar": {
              "outlinewidth": 0,
              "ticks": ""
             }
            },
            "type": "scatterpolar"
           }
          ],
          "scatterpolargl": [
           {
            "marker": {
             "colorbar": {
              "outlinewidth": 0,
              "ticks": ""
             }
            },
            "type": "scatterpolargl"
           }
          ],
          "scatterternary": [
           {
            "marker": {
             "colorbar": {
              "outlinewidth": 0,
              "ticks": ""
             }
            },
            "type": "scatterternary"
           }
          ],
          "surface": [
           {
            "colorbar": {
             "outlinewidth": 0,
             "ticks": ""
            },
            "colorscale": [
             [
              0,
              "#0d0887"
             ],
             [
              0.1111111111111111,
              "#46039f"
             ],
             [
              0.2222222222222222,
              "#7201a8"
             ],
             [
              0.3333333333333333,
              "#9c179e"
             ],
             [
              0.4444444444444444,
              "#bd3786"
             ],
             [
              0.5555555555555556,
              "#d8576b"
             ],
             [
              0.6666666666666666,
              "#ed7953"
             ],
             [
              0.7777777777777778,
              "#fb9f3a"
             ],
             [
              0.8888888888888888,
              "#fdca26"
             ],
             [
              1,
              "#f0f921"
             ]
            ],
            "type": "surface"
           }
          ],
          "table": [
           {
            "cells": {
             "fill": {
              "color": "#EBF0F8"
             },
             "line": {
              "color": "white"
             }
            },
            "header": {
             "fill": {
              "color": "#C8D4E3"
             },
             "line": {
              "color": "white"
             }
            },
            "type": "table"
           }
          ]
         },
         "layout": {
          "annotationdefaults": {
           "arrowcolor": "#2a3f5f",
           "arrowhead": 0,
           "arrowwidth": 1
          },
          "autotypenumbers": "strict",
          "coloraxis": {
           "colorbar": {
            "outlinewidth": 0,
            "ticks": ""
           }
          },
          "colorscale": {
           "diverging": [
            [
             0,
             "#8e0152"
            ],
            [
             0.1,
             "#c51b7d"
            ],
            [
             0.2,
             "#de77ae"
            ],
            [
             0.3,
             "#f1b6da"
            ],
            [
             0.4,
             "#fde0ef"
            ],
            [
             0.5,
             "#f7f7f7"
            ],
            [
             0.6,
             "#e6f5d0"
            ],
            [
             0.7,
             "#b8e186"
            ],
            [
             0.8,
             "#7fbc41"
            ],
            [
             0.9,
             "#4d9221"
            ],
            [
             1,
             "#276419"
            ]
           ],
           "sequential": [
            [
             0,
             "#0d0887"
            ],
            [
             0.1111111111111111,
             "#46039f"
            ],
            [
             0.2222222222222222,
             "#7201a8"
            ],
            [
             0.3333333333333333,
             "#9c179e"
            ],
            [
             0.4444444444444444,
             "#bd3786"
            ],
            [
             0.5555555555555556,
             "#d8576b"
            ],
            [
             0.6666666666666666,
             "#ed7953"
            ],
            [
             0.7777777777777778,
             "#fb9f3a"
            ],
            [
             0.8888888888888888,
             "#fdca26"
            ],
            [
             1,
             "#f0f921"
            ]
           ],
           "sequentialminus": [
            [
             0,
             "#0d0887"
            ],
            [
             0.1111111111111111,
             "#46039f"
            ],
            [
             0.2222222222222222,
             "#7201a8"
            ],
            [
             0.3333333333333333,
             "#9c179e"
            ],
            [
             0.4444444444444444,
             "#bd3786"
            ],
            [
             0.5555555555555556,
             "#d8576b"
            ],
            [
             0.6666666666666666,
             "#ed7953"
            ],
            [
             0.7777777777777778,
             "#fb9f3a"
            ],
            [
             0.8888888888888888,
             "#fdca26"
            ],
            [
             1,
             "#f0f921"
            ]
           ]
          },
          "colorway": [
           "#636efa",
           "#EF553B",
           "#00cc96",
           "#ab63fa",
           "#FFA15A",
           "#19d3f3",
           "#FF6692",
           "#B6E880",
           "#FF97FF",
           "#FECB52"
          ],
          "font": {
           "color": "#2a3f5f"
          },
          "geo": {
           "bgcolor": "white",
           "lakecolor": "white",
           "landcolor": "#E5ECF6",
           "showlakes": true,
           "showland": true,
           "subunitcolor": "white"
          },
          "hoverlabel": {
           "align": "left"
          },
          "hovermode": "closest",
          "mapbox": {
           "style": "light"
          },
          "paper_bgcolor": "white",
          "plot_bgcolor": "#E5ECF6",
          "polar": {
           "angularaxis": {
            "gridcolor": "white",
            "linecolor": "white",
            "ticks": ""
           },
           "bgcolor": "#E5ECF6",
           "radialaxis": {
            "gridcolor": "white",
            "linecolor": "white",
            "ticks": ""
           }
          },
          "scene": {
           "xaxis": {
            "backgroundcolor": "#E5ECF6",
            "gridcolor": "white",
            "gridwidth": 2,
            "linecolor": "white",
            "showbackground": true,
            "ticks": "",
            "zerolinecolor": "white"
           },
           "yaxis": {
            "backgroundcolor": "#E5ECF6",
            "gridcolor": "white",
            "gridwidth": 2,
            "linecolor": "white",
            "showbackground": true,
            "ticks": "",
            "zerolinecolor": "white"
           },
           "zaxis": {
            "backgroundcolor": "#E5ECF6",
            "gridcolor": "white",
            "gridwidth": 2,
            "linecolor": "white",
            "showbackground": true,
            "ticks": "",
            "zerolinecolor": "white"
           }
          },
          "shapedefaults": {
           "line": {
            "color": "#2a3f5f"
           }
          },
          "ternary": {
           "aaxis": {
            "gridcolor": "white",
            "linecolor": "white",
            "ticks": ""
           },
           "baxis": {
            "gridcolor": "white",
            "linecolor": "white",
            "ticks": ""
           },
           "bgcolor": "#E5ECF6",
           "caxis": {
            "gridcolor": "white",
            "linecolor": "white",
            "ticks": ""
           }
          },
          "title": {
           "x": 0.05
          },
          "xaxis": {
           "automargin": true,
           "gridcolor": "white",
           "linecolor": "white",
           "ticks": "",
           "title": {
            "standoff": 15
           },
           "zerolinecolor": "white",
           "zerolinewidth": 2
          },
          "yaxis": {
           "automargin": true,
           "gridcolor": "white",
           "linecolor": "white",
           "ticks": "",
           "title": {
            "standoff": 15
           },
           "zerolinecolor": "white",
           "zerolinewidth": 2
          }
         }
        },
        "updatemenus": [
         {
          "buttons": [
           {
            "args": [
             null,
             {
              "frame": {
               "duration": 500,
               "redraw": false
              },
              "fromcurrent": true,
              "mode": "immediate",
              "transition": {
               "duration": 500,
               "easing": "linear"
              }
             }
            ],
            "label": "&#9654;",
            "method": "animate"
           },
           {
            "args": [
             [
              null
             ],
             {
              "frame": {
               "duration": 0,
               "redraw": false
              },
              "fromcurrent": true,
              "mode": "immediate",
              "transition": {
               "duration": 0,
               "easing": "linear"
              }
             }
            ],
            "label": "&#9724;",
            "method": "animate"
           }
          ],
          "direction": "left",
          "pad": {
           "r": 10,
           "t": 70
          },
          "showactive": false,
          "type": "buttons",
          "x": 0.1,
          "xanchor": "right",
          "y": 0,
          "yanchor": "top"
         }
        ],
        "xaxis": {
         "anchor": "y",
         "domain": [
          0,
          1
         ],
         "range": [
          -1.9405108308289893,
          94.15568216229423
         ],
         "title": {
          "text": "pos_y"
         }
        },
        "yaxis": {
         "anchor": "x",
         "domain": [
          0,
          1
         ],
         "range": [
          -437.3267972464051,
          0.24719918013266134
         ],
         "title": {
          "text": "pos_z"
         }
        }
       }
      }
     },
     "metadata": {},
     "output_type": "display_data"
    }
   ],
   "source": [
    "px.scatter(df, x=\"pos_y\", y=\"pos_z\", animation_frame=\"timestamp\",\n",
    "            range_x=[df[\"pos_y\"].min(), df[\"pos_y\"].max()],\n",
    "            range_y=[df[\"pos_z\"].min(), df[\"pos_z\"].max()]\n",
    "            )"
   ]
  }
 ],
 "metadata": {
  "kernelspec": {
   "display_name": ".venv",
   "language": "python",
   "name": "python3"
  },
  "language_info": {
   "codemirror_mode": {
    "name": "ipython",
    "version": 3
   },
   "file_extension": ".py",
   "mimetype": "text/x-python",
   "name": "python",
   "nbconvert_exporter": "python",
   "pygments_lexer": "ipython3",
   "version": "3.11.3"
  },
  "orig_nbformat": 4
 },
 "nbformat": 4,
 "nbformat_minor": 2
}
