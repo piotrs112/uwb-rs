{
 "cells": [
  {
   "cell_type": "code",
   "execution_count": 57,
   "metadata": {},
   "outputs": [],
   "source": [
    "import pandas as pd\n",
    "\n",
    "from data.points import ANCHORS\n",
    "\n",
    "df = pd.read_csv(\"/home/piotr/Documents/mgr/uwb-rs/data-processing/data/2023-05-21-20:44:03.341245P3-1-h.csv\", index_col=0)\n",
    "df[\"timestamp\"] = pd.to_datetime(df[\"timestamp\"])\n",
    "df = df[df.anchor.isin(ANCHORS.keys())]"
   ]
  },
  {
   "cell_type": "code",
   "execution_count": 58,
   "metadata": {},
   "outputs": [],
   "source": [
    "factor = 3\n",
    "\n",
    "data = dict()\n",
    "data[\"timestamp\"] = df[df.anchor == df.anchor.iloc[0]][\"timestamp\"].to_list()\n",
    "\n",
    "for anchor in ANCHORS.keys():\n",
    "    data[anchor] = df[df.anchor == anchor][\"distance\"].rolling(window=factor).mean().to_list()\n",
    "df = pd.DataFrame(data, index=data[\"timestamp\"])\n",
    "df.pop(\"timestamp\")\n",
    "df.dropna(inplace=True)\n"
   ]
  },
  {
   "cell_type": "code",
   "execution_count": 59,
   "metadata": {},
   "outputs": [],
   "source": [
    "from easy_trilateration.model import *\n",
    "from easy_trilateration.least_squares import easy_least_squares, solve_history\n",
    "from easy_trilateration.graph import *\n",
    "from helpers import distance\n",
    "\n",
    "history = []\n",
    "\n",
    "for timestamp, row in df.iterrows():\n",
    "    c = [Circle(*ANCHORS[anchor], row[anchor]) for anchor in ANCHORS.keys()]\n",
    "    history.append(Trilateration(c))\n",
    "\n",
    "solve_history(history)\n"
   ]
  },
  {
   "cell_type": "code",
   "execution_count": 60,
   "metadata": {},
   "outputs": [],
   "source": [
    "# import matplotlib.pyplot as plt\n",
    "# from matplotlib.lines import Line2D\n",
    "\n",
    "# ax = plt.subplot()\n",
    "# ax.add_line(Line2D((0,0),(1,1)))\n",
    "# a = animate(history, ax)\n",
    "# # with open(\"video.html\", \"w\") as file:\n",
    "# #     file.write(a.to_html5_video())\n",
    "# # pass"
   ]
  },
  {
   "cell_type": "code",
   "execution_count": 61,
   "metadata": {},
   "outputs": [],
   "source": [
    "data = {\n",
    "    \"x\": [],\n",
    "    \"y\": [],\n",
    "    \"radius\": [],\n",
    "    \"timestamp\": df.index.to_list()\n",
    "}\n",
    "for t in history:\n",
    "    t: Trilateration\n",
    "    data[\"x\"].append(t.result.center.x)\n",
    "    data[\"y\"].append(t.result.center.y)\n",
    "    data[\"radius\"].append(t.result.radius)\n",
    "\n",
    "df = pd.DataFrame(data)"
   ]
  },
  {
   "cell_type": "code",
   "execution_count": 63,
   "metadata": {},
   "outputs": [
    {
     "data": {
      "application/vnd.plotly.v1+json": {
       "config": {
        "plotlyServerURL": "https://plot.ly"
       },
       "data": [
        {
         "hovertemplate": "timestamp=2023-05-21 20:44:04.207780<br>x=%{x}<br>y=%{y}<extra></extra>",
         "legendgroup": "",
         "marker": {
          "color": "#636efa",
          "symbol": "circle"
         },
         "mode": "markers",
         "name": "",
         "orientation": "v",
         "showlegend": false,
         "type": "scatter",
         "x": [
          1709.3964913686705
         ],
         "xaxis": "x",
         "y": [
          2653.846900952212
         ],
         "yaxis": "y"
        }
       ],
       "frames": [
        {
         "data": [
          {
           "hovertemplate": "timestamp=2023-05-21 20:44:04.207780<br>x=%{x}<br>y=%{y}<extra></extra>",
           "legendgroup": "",
           "marker": {
            "color": "#636efa",
            "symbol": "circle"
           },
           "mode": "markers",
           "name": "",
           "orientation": "v",
           "showlegend": false,
           "type": "scatter",
           "x": [
            1709.3964913686705
           ],
           "xaxis": "x",
           "y": [
            2653.846900952212
           ],
           "yaxis": "y"
          }
         ],
         "name": "2023-05-21 20:44:04.207780"
        },
        {
         "data": [
          {
           "hovertemplate": "timestamp=2023-05-21 20:44:04.588206<br>x=%{x}<br>y=%{y}<extra></extra>",
           "legendgroup": "",
           "marker": {
            "color": "#636efa",
            "symbol": "circle"
           },
           "mode": "markers",
           "name": "",
           "orientation": "v",
           "showlegend": false,
           "type": "scatter",
           "x": [
            1697.4032422004786
           ],
           "xaxis": "x",
           "y": [
            2654.578502313171
           ],
           "yaxis": "y"
          }
         ],
         "name": "2023-05-21 20:44:04.588206"
        },
        {
         "data": [
          {
           "hovertemplate": "timestamp=2023-05-21 20:44:04.968640<br>x=%{x}<br>y=%{y}<extra></extra>",
           "legendgroup": "",
           "marker": {
            "color": "#636efa",
            "symbol": "circle"
           },
           "mode": "markers",
           "name": "",
           "orientation": "v",
           "showlegend": false,
           "type": "scatter",
           "x": [
            1704.1602688526452
           ],
           "xaxis": "x",
           "y": [
            2651.535745915958
           ],
           "yaxis": "y"
          }
         ],
         "name": "2023-05-21 20:44:04.968640"
        },
        {
         "data": [
          {
           "hovertemplate": "timestamp=2023-05-21 20:44:05.349070<br>x=%{x}<br>y=%{y}<extra></extra>",
           "legendgroup": "",
           "marker": {
            "color": "#636efa",
            "symbol": "circle"
           },
           "mode": "markers",
           "name": "",
           "orientation": "v",
           "showlegend": false,
           "type": "scatter",
           "x": [
            1690.0617390395082
           ],
           "xaxis": "x",
           "y": [
            2674.2956871247707
           ],
           "yaxis": "y"
          }
         ],
         "name": "2023-05-21 20:44:05.349070"
        },
        {
         "data": [
          {
           "hovertemplate": "timestamp=2023-05-21 20:44:05.729642<br>x=%{x}<br>y=%{y}<extra></extra>",
           "legendgroup": "",
           "marker": {
            "color": "#636efa",
            "symbol": "circle"
           },
           "mode": "markers",
           "name": "",
           "orientation": "v",
           "showlegend": false,
           "type": "scatter",
           "x": [
            1696.0528391142252
           ],
           "xaxis": "x",
           "y": [
            2669.7161119125026
           ],
           "yaxis": "y"
          }
         ],
         "name": "2023-05-21 20:44:05.729642"
        },
        {
         "data": [
          {
           "hovertemplate": "timestamp=2023-05-21 20:44:06.110264<br>x=%{x}<br>y=%{y}<extra></extra>",
           "legendgroup": "",
           "marker": {
            "color": "#636efa",
            "symbol": "circle"
           },
           "mode": "markers",
           "name": "",
           "orientation": "v",
           "showlegend": false,
           "type": "scatter",
           "x": [
            1670.2923198841747
           ],
           "xaxis": "x",
           "y": [
            2669.6153793499525
           ],
           "yaxis": "y"
          }
         ],
         "name": "2023-05-21 20:44:06.110264"
        },
        {
         "data": [
          {
           "hovertemplate": "timestamp=2023-05-21 20:44:06.490762<br>x=%{x}<br>y=%{y}<extra></extra>",
           "legendgroup": "",
           "marker": {
            "color": "#636efa",
            "symbol": "circle"
           },
           "mode": "markers",
           "name": "",
           "orientation": "v",
           "showlegend": false,
           "type": "scatter",
           "x": [
            1643.4564578331242
           ],
           "xaxis": "x",
           "y": [
            2650.5000179130866
           ],
           "yaxis": "y"
          }
         ],
         "name": "2023-05-21 20:44:06.490762"
        },
        {
         "data": [
          {
           "hovertemplate": "timestamp=2023-05-21 20:44:06.871309<br>x=%{x}<br>y=%{y}<extra></extra>",
           "legendgroup": "",
           "marker": {
            "color": "#636efa",
            "symbol": "circle"
           },
           "mode": "markers",
           "name": "",
           "orientation": "v",
           "showlegend": false,
           "type": "scatter",
           "x": [
            1600.2674906205227
           ],
           "xaxis": "x",
           "y": [
            2661.4701053180092
           ],
           "yaxis": "y"
          }
         ],
         "name": "2023-05-21 20:44:06.871309"
        },
        {
         "data": [
          {
           "hovertemplate": "timestamp=2023-05-21 20:44:07.251708<br>x=%{x}<br>y=%{y}<extra></extra>",
           "legendgroup": "",
           "marker": {
            "color": "#636efa",
            "symbol": "circle"
           },
           "mode": "markers",
           "name": "",
           "orientation": "v",
           "showlegend": false,
           "type": "scatter",
           "x": [
            1603.6577836234965
           ],
           "xaxis": "x",
           "y": [
            2628.7283623426006
           ],
           "yaxis": "y"
          }
         ],
         "name": "2023-05-21 20:44:07.251708"
        },
        {
         "data": [
          {
           "hovertemplate": "timestamp=2023-05-21 20:44:07.632008<br>x=%{x}<br>y=%{y}<extra></extra>",
           "legendgroup": "",
           "marker": {
            "color": "#636efa",
            "symbol": "circle"
           },
           "mode": "markers",
           "name": "",
           "orientation": "v",
           "showlegend": false,
           "type": "scatter",
           "x": [
            1608.672366510764
           ],
           "xaxis": "x",
           "y": [
            2614.71923555021
           ],
           "yaxis": "y"
          }
         ],
         "name": "2023-05-21 20:44:07.632008"
        },
        {
         "data": [
          {
           "hovertemplate": "timestamp=2023-05-21 20:44:08.012653<br>x=%{x}<br>y=%{y}<extra></extra>",
           "legendgroup": "",
           "marker": {
            "color": "#636efa",
            "symbol": "circle"
           },
           "mode": "markers",
           "name": "",
           "orientation": "v",
           "showlegend": false,
           "type": "scatter",
           "x": [
            1646.2705299052334
           ],
           "xaxis": "x",
           "y": [
            2569.9020978336307
           ],
           "yaxis": "y"
          }
         ],
         "name": "2023-05-21 20:44:08.012653"
        },
        {
         "data": [
          {
           "hovertemplate": "timestamp=2023-05-21 20:44:08.393169<br>x=%{x}<br>y=%{y}<extra></extra>",
           "legendgroup": "",
           "marker": {
            "color": "#636efa",
            "symbol": "circle"
           },
           "mode": "markers",
           "name": "",
           "orientation": "v",
           "showlegend": false,
           "type": "scatter",
           "x": [
            1653.262111362126
           ],
           "xaxis": "x",
           "y": [
            2555.326929280898
           ],
           "yaxis": "y"
          }
         ],
         "name": "2023-05-21 20:44:08.393169"
        },
        {
         "data": [
          {
           "hovertemplate": "timestamp=2023-05-21 20:44:08.773909<br>x=%{x}<br>y=%{y}<extra></extra>",
           "legendgroup": "",
           "marker": {
            "color": "#636efa",
            "symbol": "circle"
           },
           "mode": "markers",
           "name": "",
           "orientation": "v",
           "showlegend": false,
           "type": "scatter",
           "x": [
            1657.3928865533517
           ],
           "xaxis": "x",
           "y": [
            2500.091059545116
           ],
           "yaxis": "y"
          }
         ],
         "name": "2023-05-21 20:44:08.773909"
        },
        {
         "data": [
          {
           "hovertemplate": "timestamp=2023-05-21 20:44:09.154939<br>x=%{x}<br>y=%{y}<extra></extra>",
           "legendgroup": "",
           "marker": {
            "color": "#636efa",
            "symbol": "circle"
           },
           "mode": "markers",
           "name": "",
           "orientation": "v",
           "showlegend": false,
           "type": "scatter",
           "x": [
            1656.934312730901
           ],
           "xaxis": "x",
           "y": [
            2403.1642766731284
           ],
           "yaxis": "y"
          }
         ],
         "name": "2023-05-21 20:44:09.154939"
        },
        {
         "data": [
          {
           "hovertemplate": "timestamp=2023-05-21 20:44:09.536108<br>x=%{x}<br>y=%{y}<extra></extra>",
           "legendgroup": "",
           "marker": {
            "color": "#636efa",
            "symbol": "circle"
           },
           "mode": "markers",
           "name": "",
           "orientation": "v",
           "showlegend": false,
           "type": "scatter",
           "x": [
            1659.1059238408004
           ],
           "xaxis": "x",
           "y": [
            2309.601296797064
           ],
           "yaxis": "y"
          }
         ],
         "name": "2023-05-21 20:44:09.536108"
        },
        {
         "data": [
          {
           "hovertemplate": "timestamp=2023-05-21 20:44:09.916332<br>x=%{x}<br>y=%{y}<extra></extra>",
           "legendgroup": "",
           "marker": {
            "color": "#636efa",
            "symbol": "circle"
           },
           "mode": "markers",
           "name": "",
           "orientation": "v",
           "showlegend": false,
           "type": "scatter",
           "x": [
            1647.27957230222
           ],
           "xaxis": "x",
           "y": [
            2307.9145886694478
           ],
           "yaxis": "y"
          }
         ],
         "name": "2023-05-21 20:44:09.916332"
        },
        {
         "data": [
          {
           "hovertemplate": "timestamp=2023-05-21 20:44:10.296436<br>x=%{x}<br>y=%{y}<extra></extra>",
           "legendgroup": "",
           "marker": {
            "color": "#636efa",
            "symbol": "circle"
           },
           "mode": "markers",
           "name": "",
           "orientation": "v",
           "showlegend": false,
           "type": "scatter",
           "x": [
            1651.3010167457471
           ],
           "xaxis": "x",
           "y": [
            2305.326061853675
           ],
           "yaxis": "y"
          }
         ],
         "name": "2023-05-21 20:44:10.296436"
        },
        {
         "data": [
          {
           "hovertemplate": "timestamp=2023-05-21 20:44:10.676533<br>x=%{x}<br>y=%{y}<extra></extra>",
           "legendgroup": "",
           "marker": {
            "color": "#636efa",
            "symbol": "circle"
           },
           "mode": "markers",
           "name": "",
           "orientation": "v",
           "showlegend": false,
           "type": "scatter",
           "x": [
            1655.657143319529
           ],
           "xaxis": "x",
           "y": [
            2375.5038385352323
           ],
           "yaxis": "y"
          }
         ],
         "name": "2023-05-21 20:44:10.676533"
        },
        {
         "data": [
          {
           "hovertemplate": "timestamp=2023-05-21 20:44:11.057148<br>x=%{x}<br>y=%{y}<extra></extra>",
           "legendgroup": "",
           "marker": {
            "color": "#636efa",
            "symbol": "circle"
           },
           "mode": "markers",
           "name": "",
           "orientation": "v",
           "showlegend": false,
           "type": "scatter",
           "x": [
            1704.2218727379072
           ],
           "xaxis": "x",
           "y": [
            2330.5072554247845
           ],
           "yaxis": "y"
          }
         ],
         "name": "2023-05-21 20:44:11.057148"
        },
        {
         "data": [
          {
           "hovertemplate": "timestamp=2023-05-21 20:44:11.437830<br>x=%{x}<br>y=%{y}<extra></extra>",
           "legendgroup": "",
           "marker": {
            "color": "#636efa",
            "symbol": "circle"
           },
           "mode": "markers",
           "name": "",
           "orientation": "v",
           "showlegend": false,
           "type": "scatter",
           "x": [
            1720.9615787833282
           ],
           "xaxis": "x",
           "y": [
            2379.95958287692
           ],
           "yaxis": "y"
          }
         ],
         "name": "2023-05-21 20:44:11.437830"
        },
        {
         "data": [
          {
           "hovertemplate": "timestamp=2023-05-21 20:44:11.818222<br>x=%{x}<br>y=%{y}<extra></extra>",
           "legendgroup": "",
           "marker": {
            "color": "#636efa",
            "symbol": "circle"
           },
           "mode": "markers",
           "name": "",
           "orientation": "v",
           "showlegend": false,
           "type": "scatter",
           "x": [
            1729.6097364970744
           ],
           "xaxis": "x",
           "y": [
            2360.172302258578
           ],
           "yaxis": "y"
          }
         ],
         "name": "2023-05-21 20:44:11.818222"
        },
        {
         "data": [
          {
           "hovertemplate": "timestamp=2023-05-21 20:44:12.198708<br>x=%{x}<br>y=%{y}<extra></extra>",
           "legendgroup": "",
           "marker": {
            "color": "#636efa",
            "symbol": "circle"
           },
           "mode": "markers",
           "name": "",
           "orientation": "v",
           "showlegend": false,
           "type": "scatter",
           "x": [
            1745.259494174642
           ],
           "xaxis": "x",
           "y": [
            2335.127054205875
           ],
           "yaxis": "y"
          }
         ],
         "name": "2023-05-21 20:44:12.198708"
        },
        {
         "data": [
          {
           "hovertemplate": "timestamp=2023-05-21 20:44:12.579116<br>x=%{x}<br>y=%{y}<extra></extra>",
           "legendgroup": "",
           "marker": {
            "color": "#636efa",
            "symbol": "circle"
           },
           "mode": "markers",
           "name": "",
           "orientation": "v",
           "showlegend": false,
           "type": "scatter",
           "x": [
            1752.1953895271897
           ],
           "xaxis": "x",
           "y": [
            2271.234962906252
           ],
           "yaxis": "y"
          }
         ],
         "name": "2023-05-21 20:44:12.579116"
        },
        {
         "data": [
          {
           "hovertemplate": "timestamp=2023-05-21 20:44:12.959084<br>x=%{x}<br>y=%{y}<extra></extra>",
           "legendgroup": "",
           "marker": {
            "color": "#636efa",
            "symbol": "circle"
           },
           "mode": "markers",
           "name": "",
           "orientation": "v",
           "showlegend": false,
           "type": "scatter",
           "x": [
            1765.3531057679481
           ],
           "xaxis": "x",
           "y": [
            2156.5978456614857
           ],
           "yaxis": "y"
          }
         ],
         "name": "2023-05-21 20:44:12.959084"
        },
        {
         "data": [
          {
           "hovertemplate": "timestamp=2023-05-21 20:44:13.339313<br>x=%{x}<br>y=%{y}<extra></extra>",
           "legendgroup": "",
           "marker": {
            "color": "#636efa",
            "symbol": "circle"
           },
           "mode": "markers",
           "name": "",
           "orientation": "v",
           "showlegend": false,
           "type": "scatter",
           "x": [
            1755.3870894114518
           ],
           "xaxis": "x",
           "y": [
            2217.3546334479074
           ],
           "yaxis": "y"
          }
         ],
         "name": "2023-05-21 20:44:13.339313"
        },
        {
         "data": [
          {
           "hovertemplate": "timestamp=2023-05-21 20:44:13.719668<br>x=%{x}<br>y=%{y}<extra></extra>",
           "legendgroup": "",
           "marker": {
            "color": "#636efa",
            "symbol": "circle"
           },
           "mode": "markers",
           "name": "",
           "orientation": "v",
           "showlegend": false,
           "type": "scatter",
           "x": [
            1781.4086822507643
           ],
           "xaxis": "x",
           "y": [
            2157.7239437398357
           ],
           "yaxis": "y"
          }
         ],
         "name": "2023-05-21 20:44:13.719668"
        },
        {
         "data": [
          {
           "hovertemplate": "timestamp=2023-05-21 20:44:14.100170<br>x=%{x}<br>y=%{y}<extra></extra>",
           "legendgroup": "",
           "marker": {
            "color": "#636efa",
            "symbol": "circle"
           },
           "mode": "markers",
           "name": "",
           "orientation": "v",
           "showlegend": false,
           "type": "scatter",
           "x": [
            1806.116341805515
           ],
           "xaxis": "x",
           "y": [
            2186.7578356256795
           ],
           "yaxis": "y"
          }
         ],
         "name": "2023-05-21 20:44:14.100170"
        },
        {
         "data": [
          {
           "hovertemplate": "timestamp=2023-05-21 20:44:14.480857<br>x=%{x}<br>y=%{y}<extra></extra>",
           "legendgroup": "",
           "marker": {
            "color": "#636efa",
            "symbol": "circle"
           },
           "mode": "markers",
           "name": "",
           "orientation": "v",
           "showlegend": false,
           "type": "scatter",
           "x": [
            1837.5736354823534
           ],
           "xaxis": "x",
           "y": [
            2080.105070968929
           ],
           "yaxis": "y"
          }
         ],
         "name": "2023-05-21 20:44:14.480857"
        },
        {
         "data": [
          {
           "hovertemplate": "timestamp=2023-05-21 20:44:14.861079<br>x=%{x}<br>y=%{y}<extra></extra>",
           "legendgroup": "",
           "marker": {
            "color": "#636efa",
            "symbol": "circle"
           },
           "mode": "markers",
           "name": "",
           "orientation": "v",
           "showlegend": false,
           "type": "scatter",
           "x": [
            1839.6611607827442
           ],
           "xaxis": "x",
           "y": [
            2075.072466238386
           ],
           "yaxis": "y"
          }
         ],
         "name": "2023-05-21 20:44:14.861079"
        },
        {
         "data": [
          {
           "hovertemplate": "timestamp=2023-05-21 20:44:15.241879<br>x=%{x}<br>y=%{y}<extra></extra>",
           "legendgroup": "",
           "marker": {
            "color": "#636efa",
            "symbol": "circle"
           },
           "mode": "markers",
           "name": "",
           "orientation": "v",
           "showlegend": false,
           "type": "scatter",
           "x": [
            1887.4852696435828
           ],
           "xaxis": "x",
           "y": [
            2024.6462094109422
           ],
           "yaxis": "y"
          }
         ],
         "name": "2023-05-21 20:44:15.241879"
        },
        {
         "data": [
          {
           "hovertemplate": "timestamp=2023-05-21 20:44:15.622116<br>x=%{x}<br>y=%{y}<extra></extra>",
           "legendgroup": "",
           "marker": {
            "color": "#636efa",
            "symbol": "circle"
           },
           "mode": "markers",
           "name": "",
           "orientation": "v",
           "showlegend": false,
           "type": "scatter",
           "x": [
            1918.7957606488612
           ],
           "xaxis": "x",
           "y": [
            1999.0544596779662
           ],
           "yaxis": "y"
          }
         ],
         "name": "2023-05-21 20:44:15.622116"
        },
        {
         "data": [
          {
           "hovertemplate": "timestamp=2023-05-21 20:44:16.002600<br>x=%{x}<br>y=%{y}<extra></extra>",
           "legendgroup": "",
           "marker": {
            "color": "#636efa",
            "symbol": "circle"
           },
           "mode": "markers",
           "name": "",
           "orientation": "v",
           "showlegend": false,
           "type": "scatter",
           "x": [
            1941.882924203865
           ],
           "xaxis": "x",
           "y": [
            1972.5867965058692
           ],
           "yaxis": "y"
          }
         ],
         "name": "2023-05-21 20:44:16.002600"
        },
        {
         "data": [
          {
           "hovertemplate": "timestamp=2023-05-21 20:44:16.383052<br>x=%{x}<br>y=%{y}<extra></extra>",
           "legendgroup": "",
           "marker": {
            "color": "#636efa",
            "symbol": "circle"
           },
           "mode": "markers",
           "name": "",
           "orientation": "v",
           "showlegend": false,
           "type": "scatter",
           "x": [
            1892.5877277427278
           ],
           "xaxis": "x",
           "y": [
            1957.84703698151
           ],
           "yaxis": "y"
          }
         ],
         "name": "2023-05-21 20:44:16.383052"
        },
        {
         "data": [
          {
           "hovertemplate": "timestamp=2023-05-21 20:44:16.763681<br>x=%{x}<br>y=%{y}<extra></extra>",
           "legendgroup": "",
           "marker": {
            "color": "#636efa",
            "symbol": "circle"
           },
           "mode": "markers",
           "name": "",
           "orientation": "v",
           "showlegend": false,
           "type": "scatter",
           "x": [
            1851.5385603871555
           ],
           "xaxis": "x",
           "y": [
            1939.6282497421007
           ],
           "yaxis": "y"
          }
         ],
         "name": "2023-05-21 20:44:16.763681"
        },
        {
         "data": [
          {
           "hovertemplate": "timestamp=2023-05-21 20:44:17.144399<br>x=%{x}<br>y=%{y}<extra></extra>",
           "legendgroup": "",
           "marker": {
            "color": "#636efa",
            "symbol": "circle"
           },
           "mode": "markers",
           "name": "",
           "orientation": "v",
           "showlegend": false,
           "type": "scatter",
           "x": [
            1833.0517559831371
           ],
           "xaxis": "x",
           "y": [
            1929.3935625474517
           ],
           "yaxis": "y"
          }
         ],
         "name": "2023-05-21 20:44:17.144399"
        },
        {
         "data": [
          {
           "hovertemplate": "timestamp=2023-05-21 20:44:17.524615<br>x=%{x}<br>y=%{y}<extra></extra>",
           "legendgroup": "",
           "marker": {
            "color": "#636efa",
            "symbol": "circle"
           },
           "mode": "markers",
           "name": "",
           "orientation": "v",
           "showlegend": false,
           "type": "scatter",
           "x": [
            1934.1013656880425
           ],
           "xaxis": "x",
           "y": [
            1918.1523372636166
           ],
           "yaxis": "y"
          }
         ],
         "name": "2023-05-21 20:44:17.524615"
        },
        {
         "data": [
          {
           "hovertemplate": "timestamp=2023-05-21 20:44:17.904733<br>x=%{x}<br>y=%{y}<extra></extra>",
           "legendgroup": "",
           "marker": {
            "color": "#636efa",
            "symbol": "circle"
           },
           "mode": "markers",
           "name": "",
           "orientation": "v",
           "showlegend": false,
           "type": "scatter",
           "x": [
            1894.244514699984
           ],
           "xaxis": "x",
           "y": [
            1883.328044471005
           ],
           "yaxis": "y"
          }
         ],
         "name": "2023-05-21 20:44:17.904733"
        },
        {
         "data": [
          {
           "hovertemplate": "timestamp=2023-05-21 20:44:18.285179<br>x=%{x}<br>y=%{y}<extra></extra>",
           "legendgroup": "",
           "marker": {
            "color": "#636efa",
            "symbol": "circle"
           },
           "mode": "markers",
           "name": "",
           "orientation": "v",
           "showlegend": false,
           "type": "scatter",
           "x": [
            1873.2129217460838
           ],
           "xaxis": "x",
           "y": [
            1848.9259887192432
           ],
           "yaxis": "y"
          }
         ],
         "name": "2023-05-21 20:44:18.285179"
        },
        {
         "data": [
          {
           "hovertemplate": "timestamp=2023-05-21 20:44:18.665630<br>x=%{x}<br>y=%{y}<extra></extra>",
           "legendgroup": "",
           "marker": {
            "color": "#636efa",
            "symbol": "circle"
           },
           "mode": "markers",
           "name": "",
           "orientation": "v",
           "showlegend": false,
           "type": "scatter",
           "x": [
            1707.7504622112713
           ],
           "xaxis": "x",
           "y": [
            1784.94639762217
           ],
           "yaxis": "y"
          }
         ],
         "name": "2023-05-21 20:44:18.665630"
        },
        {
         "data": [
          {
           "hovertemplate": "timestamp=2023-05-21 20:44:19.046287<br>x=%{x}<br>y=%{y}<extra></extra>",
           "legendgroup": "",
           "marker": {
            "color": "#636efa",
            "symbol": "circle"
           },
           "mode": "markers",
           "name": "",
           "orientation": "v",
           "showlegend": false,
           "type": "scatter",
           "x": [
            1666.645530812482
           ],
           "xaxis": "x",
           "y": [
            1729.8523446118845
           ],
           "yaxis": "y"
          }
         ],
         "name": "2023-05-21 20:44:19.046287"
        },
        {
         "data": [
          {
           "hovertemplate": "timestamp=2023-05-21 20:44:19.427288<br>x=%{x}<br>y=%{y}<extra></extra>",
           "legendgroup": "",
           "marker": {
            "color": "#636efa",
            "symbol": "circle"
           },
           "mode": "markers",
           "name": "",
           "orientation": "v",
           "showlegend": false,
           "type": "scatter",
           "x": [
            1609.2585150200764
           ],
           "xaxis": "x",
           "y": [
            1689.1980242705718
           ],
           "yaxis": "y"
          }
         ],
         "name": "2023-05-21 20:44:19.427288"
        },
        {
         "data": [
          {
           "hovertemplate": "timestamp=2023-05-21 20:44:19.807555<br>x=%{x}<br>y=%{y}<extra></extra>",
           "legendgroup": "",
           "marker": {
            "color": "#636efa",
            "symbol": "circle"
           },
           "mode": "markers",
           "name": "",
           "orientation": "v",
           "showlegend": false,
           "type": "scatter",
           "x": [
            1597.5418799482047
           ],
           "xaxis": "x",
           "y": [
            1692.0618023386905
           ],
           "yaxis": "y"
          }
         ],
         "name": "2023-05-21 20:44:19.807555"
        },
        {
         "data": [
          {
           "hovertemplate": "timestamp=2023-05-21 20:44:20.188467<br>x=%{x}<br>y=%{y}<extra></extra>",
           "legendgroup": "",
           "marker": {
            "color": "#636efa",
            "symbol": "circle"
           },
           "mode": "markers",
           "name": "",
           "orientation": "v",
           "showlegend": false,
           "type": "scatter",
           "x": [
            1594.2971949840498
           ],
           "xaxis": "x",
           "y": [
            1702.0664188611765
           ],
           "yaxis": "y"
          }
         ],
         "name": "2023-05-21 20:44:20.188467"
        },
        {
         "data": [
          {
           "hovertemplate": "timestamp=2023-05-21 20:44:20.569244<br>x=%{x}<br>y=%{y}<extra></extra>",
           "legendgroup": "",
           "marker": {
            "color": "#636efa",
            "symbol": "circle"
           },
           "mode": "markers",
           "name": "",
           "orientation": "v",
           "showlegend": false,
           "type": "scatter",
           "x": [
            1595.9698426699845
           ],
           "xaxis": "x",
           "y": [
            1707.0997190036592
           ],
           "yaxis": "y"
          }
         ],
         "name": "2023-05-21 20:44:20.569244"
        },
        {
         "data": [
          {
           "hovertemplate": "timestamp=2023-05-21 20:44:20.949483<br>x=%{x}<br>y=%{y}<extra></extra>",
           "legendgroup": "",
           "marker": {
            "color": "#636efa",
            "symbol": "circle"
           },
           "mode": "markers",
           "name": "",
           "orientation": "v",
           "showlegend": false,
           "type": "scatter",
           "x": [
            1605.1241594534044
           ],
           "xaxis": "x",
           "y": [
            1690.2715294600057
           ],
           "yaxis": "y"
          }
         ],
         "name": "2023-05-21 20:44:20.949483"
        },
        {
         "data": [
          {
           "hovertemplate": "timestamp=2023-05-21 20:44:21.329771<br>x=%{x}<br>y=%{y}<extra></extra>",
           "legendgroup": "",
           "marker": {
            "color": "#636efa",
            "symbol": "circle"
           },
           "mode": "markers",
           "name": "",
           "orientation": "v",
           "showlegend": false,
           "type": "scatter",
           "x": [
            1629.016132465315
           ],
           "xaxis": "x",
           "y": [
            1690.9140592881301
           ],
           "yaxis": "y"
          }
         ],
         "name": "2023-05-21 20:44:21.329771"
        },
        {
         "data": [
          {
           "hovertemplate": "timestamp=2023-05-21 20:44:21.710026<br>x=%{x}<br>y=%{y}<extra></extra>",
           "legendgroup": "",
           "marker": {
            "color": "#636efa",
            "symbol": "circle"
           },
           "mode": "markers",
           "name": "",
           "orientation": "v",
           "showlegend": false,
           "type": "scatter",
           "x": [
            1621.9661310721058
           ],
           "xaxis": "x",
           "y": [
            1689.3309008071278
           ],
           "yaxis": "y"
          }
         ],
         "name": "2023-05-21 20:44:21.710026"
        },
        {
         "data": [
          {
           "hovertemplate": "timestamp=2023-05-21 20:44:22.090848<br>x=%{x}<br>y=%{y}<extra></extra>",
           "legendgroup": "",
           "marker": {
            "color": "#636efa",
            "symbol": "circle"
           },
           "mode": "markers",
           "name": "",
           "orientation": "v",
           "showlegend": false,
           "type": "scatter",
           "x": [
            1614.4591972509047
           ],
           "xaxis": "x",
           "y": [
            1694.4763812138146
           ],
           "yaxis": "y"
          }
         ],
         "name": "2023-05-21 20:44:22.090848"
        },
        {
         "data": [
          {
           "hovertemplate": "timestamp=2023-05-21 20:44:22.471877<br>x=%{x}<br>y=%{y}<extra></extra>",
           "legendgroup": "",
           "marker": {
            "color": "#636efa",
            "symbol": "circle"
           },
           "mode": "markers",
           "name": "",
           "orientation": "v",
           "showlegend": false,
           "type": "scatter",
           "x": [
            1607.449038962328
           ],
           "xaxis": "x",
           "y": [
            1688.454565687521
           ],
           "yaxis": "y"
          }
         ],
         "name": "2023-05-21 20:44:22.471877"
        }
       ],
       "layout": {
        "height": 600,
        "legend": {
         "tracegroupgap": 0
        },
        "margin": {
         "t": 60
        },
        "sliders": [
         {
          "active": 0,
          "currentvalue": {
           "prefix": "timestamp="
          },
          "len": 0.9,
          "pad": {
           "b": 10,
           "t": 60
          },
          "steps": [
           {
            "args": [
             [
              "2023-05-21 20:44:04.207780"
             ],
             {
              "frame": {
               "duration": 0,
               "redraw": false
              },
              "fromcurrent": true,
              "mode": "immediate",
              "transition": {
               "duration": 0,
               "easing": "linear"
              }
             }
            ],
            "label": "2023-05-21 20:44:04.207780",
            "method": "animate"
           },
           {
            "args": [
             [
              "2023-05-21 20:44:04.588206"
             ],
             {
              "frame": {
               "duration": 0,
               "redraw": false
              },
              "fromcurrent": true,
              "mode": "immediate",
              "transition": {
               "duration": 0,
               "easing": "linear"
              }
             }
            ],
            "label": "2023-05-21 20:44:04.588206",
            "method": "animate"
           },
           {
            "args": [
             [
              "2023-05-21 20:44:04.968640"
             ],
             {
              "frame": {
               "duration": 0,
               "redraw": false
              },
              "fromcurrent": true,
              "mode": "immediate",
              "transition": {
               "duration": 0,
               "easing": "linear"
              }
             }
            ],
            "label": "2023-05-21 20:44:04.968640",
            "method": "animate"
           },
           {
            "args": [
             [
              "2023-05-21 20:44:05.349070"
             ],
             {
              "frame": {
               "duration": 0,
               "redraw": false
              },
              "fromcurrent": true,
              "mode": "immediate",
              "transition": {
               "duration": 0,
               "easing": "linear"
              }
             }
            ],
            "label": "2023-05-21 20:44:05.349070",
            "method": "animate"
           },
           {
            "args": [
             [
              "2023-05-21 20:44:05.729642"
             ],
             {
              "frame": {
               "duration": 0,
               "redraw": false
              },
              "fromcurrent": true,
              "mode": "immediate",
              "transition": {
               "duration": 0,
               "easing": "linear"
              }
             }
            ],
            "label": "2023-05-21 20:44:05.729642",
            "method": "animate"
           },
           {
            "args": [
             [
              "2023-05-21 20:44:06.110264"
             ],
             {
              "frame": {
               "duration": 0,
               "redraw": false
              },
              "fromcurrent": true,
              "mode": "immediate",
              "transition": {
               "duration": 0,
               "easing": "linear"
              }
             }
            ],
            "label": "2023-05-21 20:44:06.110264",
            "method": "animate"
           },
           {
            "args": [
             [
              "2023-05-21 20:44:06.490762"
             ],
             {
              "frame": {
               "duration": 0,
               "redraw": false
              },
              "fromcurrent": true,
              "mode": "immediate",
              "transition": {
               "duration": 0,
               "easing": "linear"
              }
             }
            ],
            "label": "2023-05-21 20:44:06.490762",
            "method": "animate"
           },
           {
            "args": [
             [
              "2023-05-21 20:44:06.871309"
             ],
             {
              "frame": {
               "duration": 0,
               "redraw": false
              },
              "fromcurrent": true,
              "mode": "immediate",
              "transition": {
               "duration": 0,
               "easing": "linear"
              }
             }
            ],
            "label": "2023-05-21 20:44:06.871309",
            "method": "animate"
           },
           {
            "args": [
             [
              "2023-05-21 20:44:07.251708"
             ],
             {
              "frame": {
               "duration": 0,
               "redraw": false
              },
              "fromcurrent": true,
              "mode": "immediate",
              "transition": {
               "duration": 0,
               "easing": "linear"
              }
             }
            ],
            "label": "2023-05-21 20:44:07.251708",
            "method": "animate"
           },
           {
            "args": [
             [
              "2023-05-21 20:44:07.632008"
             ],
             {
              "frame": {
               "duration": 0,
               "redraw": false
              },
              "fromcurrent": true,
              "mode": "immediate",
              "transition": {
               "duration": 0,
               "easing": "linear"
              }
             }
            ],
            "label": "2023-05-21 20:44:07.632008",
            "method": "animate"
           },
           {
            "args": [
             [
              "2023-05-21 20:44:08.012653"
             ],
             {
              "frame": {
               "duration": 0,
               "redraw": false
              },
              "fromcurrent": true,
              "mode": "immediate",
              "transition": {
               "duration": 0,
               "easing": "linear"
              }
             }
            ],
            "label": "2023-05-21 20:44:08.012653",
            "method": "animate"
           },
           {
            "args": [
             [
              "2023-05-21 20:44:08.393169"
             ],
             {
              "frame": {
               "duration": 0,
               "redraw": false
              },
              "fromcurrent": true,
              "mode": "immediate",
              "transition": {
               "duration": 0,
               "easing": "linear"
              }
             }
            ],
            "label": "2023-05-21 20:44:08.393169",
            "method": "animate"
           },
           {
            "args": [
             [
              "2023-05-21 20:44:08.773909"
             ],
             {
              "frame": {
               "duration": 0,
               "redraw": false
              },
              "fromcurrent": true,
              "mode": "immediate",
              "transition": {
               "duration": 0,
               "easing": "linear"
              }
             }
            ],
            "label": "2023-05-21 20:44:08.773909",
            "method": "animate"
           },
           {
            "args": [
             [
              "2023-05-21 20:44:09.154939"
             ],
             {
              "frame": {
               "duration": 0,
               "redraw": false
              },
              "fromcurrent": true,
              "mode": "immediate",
              "transition": {
               "duration": 0,
               "easing": "linear"
              }
             }
            ],
            "label": "2023-05-21 20:44:09.154939",
            "method": "animate"
           },
           {
            "args": [
             [
              "2023-05-21 20:44:09.536108"
             ],
             {
              "frame": {
               "duration": 0,
               "redraw": false
              },
              "fromcurrent": true,
              "mode": "immediate",
              "transition": {
               "duration": 0,
               "easing": "linear"
              }
             }
            ],
            "label": "2023-05-21 20:44:09.536108",
            "method": "animate"
           },
           {
            "args": [
             [
              "2023-05-21 20:44:09.916332"
             ],
             {
              "frame": {
               "duration": 0,
               "redraw": false
              },
              "fromcurrent": true,
              "mode": "immediate",
              "transition": {
               "duration": 0,
               "easing": "linear"
              }
             }
            ],
            "label": "2023-05-21 20:44:09.916332",
            "method": "animate"
           },
           {
            "args": [
             [
              "2023-05-21 20:44:10.296436"
             ],
             {
              "frame": {
               "duration": 0,
               "redraw": false
              },
              "fromcurrent": true,
              "mode": "immediate",
              "transition": {
               "duration": 0,
               "easing": "linear"
              }
             }
            ],
            "label": "2023-05-21 20:44:10.296436",
            "method": "animate"
           },
           {
            "args": [
             [
              "2023-05-21 20:44:10.676533"
             ],
             {
              "frame": {
               "duration": 0,
               "redraw": false
              },
              "fromcurrent": true,
              "mode": "immediate",
              "transition": {
               "duration": 0,
               "easing": "linear"
              }
             }
            ],
            "label": "2023-05-21 20:44:10.676533",
            "method": "animate"
           },
           {
            "args": [
             [
              "2023-05-21 20:44:11.057148"
             ],
             {
              "frame": {
               "duration": 0,
               "redraw": false
              },
              "fromcurrent": true,
              "mode": "immediate",
              "transition": {
               "duration": 0,
               "easing": "linear"
              }
             }
            ],
            "label": "2023-05-21 20:44:11.057148",
            "method": "animate"
           },
           {
            "args": [
             [
              "2023-05-21 20:44:11.437830"
             ],
             {
              "frame": {
               "duration": 0,
               "redraw": false
              },
              "fromcurrent": true,
              "mode": "immediate",
              "transition": {
               "duration": 0,
               "easing": "linear"
              }
             }
            ],
            "label": "2023-05-21 20:44:11.437830",
            "method": "animate"
           },
           {
            "args": [
             [
              "2023-05-21 20:44:11.818222"
             ],
             {
              "frame": {
               "duration": 0,
               "redraw": false
              },
              "fromcurrent": true,
              "mode": "immediate",
              "transition": {
               "duration": 0,
               "easing": "linear"
              }
             }
            ],
            "label": "2023-05-21 20:44:11.818222",
            "method": "animate"
           },
           {
            "args": [
             [
              "2023-05-21 20:44:12.198708"
             ],
             {
              "frame": {
               "duration": 0,
               "redraw": false
              },
              "fromcurrent": true,
              "mode": "immediate",
              "transition": {
               "duration": 0,
               "easing": "linear"
              }
             }
            ],
            "label": "2023-05-21 20:44:12.198708",
            "method": "animate"
           },
           {
            "args": [
             [
              "2023-05-21 20:44:12.579116"
             ],
             {
              "frame": {
               "duration": 0,
               "redraw": false
              },
              "fromcurrent": true,
              "mode": "immediate",
              "transition": {
               "duration": 0,
               "easing": "linear"
              }
             }
            ],
            "label": "2023-05-21 20:44:12.579116",
            "method": "animate"
           },
           {
            "args": [
             [
              "2023-05-21 20:44:12.959084"
             ],
             {
              "frame": {
               "duration": 0,
               "redraw": false
              },
              "fromcurrent": true,
              "mode": "immediate",
              "transition": {
               "duration": 0,
               "easing": "linear"
              }
             }
            ],
            "label": "2023-05-21 20:44:12.959084",
            "method": "animate"
           },
           {
            "args": [
             [
              "2023-05-21 20:44:13.339313"
             ],
             {
              "frame": {
               "duration": 0,
               "redraw": false
              },
              "fromcurrent": true,
              "mode": "immediate",
              "transition": {
               "duration": 0,
               "easing": "linear"
              }
             }
            ],
            "label": "2023-05-21 20:44:13.339313",
            "method": "animate"
           },
           {
            "args": [
             [
              "2023-05-21 20:44:13.719668"
             ],
             {
              "frame": {
               "duration": 0,
               "redraw": false
              },
              "fromcurrent": true,
              "mode": "immediate",
              "transition": {
               "duration": 0,
               "easing": "linear"
              }
             }
            ],
            "label": "2023-05-21 20:44:13.719668",
            "method": "animate"
           },
           {
            "args": [
             [
              "2023-05-21 20:44:14.100170"
             ],
             {
              "frame": {
               "duration": 0,
               "redraw": false
              },
              "fromcurrent": true,
              "mode": "immediate",
              "transition": {
               "duration": 0,
               "easing": "linear"
              }
             }
            ],
            "label": "2023-05-21 20:44:14.100170",
            "method": "animate"
           },
           {
            "args": [
             [
              "2023-05-21 20:44:14.480857"
             ],
             {
              "frame": {
               "duration": 0,
               "redraw": false
              },
              "fromcurrent": true,
              "mode": "immediate",
              "transition": {
               "duration": 0,
               "easing": "linear"
              }
             }
            ],
            "label": "2023-05-21 20:44:14.480857",
            "method": "animate"
           },
           {
            "args": [
             [
              "2023-05-21 20:44:14.861079"
             ],
             {
              "frame": {
               "duration": 0,
               "redraw": false
              },
              "fromcurrent": true,
              "mode": "immediate",
              "transition": {
               "duration": 0,
               "easing": "linear"
              }
             }
            ],
            "label": "2023-05-21 20:44:14.861079",
            "method": "animate"
           },
           {
            "args": [
             [
              "2023-05-21 20:44:15.241879"
             ],
             {
              "frame": {
               "duration": 0,
               "redraw": false
              },
              "fromcurrent": true,
              "mode": "immediate",
              "transition": {
               "duration": 0,
               "easing": "linear"
              }
             }
            ],
            "label": "2023-05-21 20:44:15.241879",
            "method": "animate"
           },
           {
            "args": [
             [
              "2023-05-21 20:44:15.622116"
             ],
             {
              "frame": {
               "duration": 0,
               "redraw": false
              },
              "fromcurrent": true,
              "mode": "immediate",
              "transition": {
               "duration": 0,
               "easing": "linear"
              }
             }
            ],
            "label": "2023-05-21 20:44:15.622116",
            "method": "animate"
           },
           {
            "args": [
             [
              "2023-05-21 20:44:16.002600"
             ],
             {
              "frame": {
               "duration": 0,
               "redraw": false
              },
              "fromcurrent": true,
              "mode": "immediate",
              "transition": {
               "duration": 0,
               "easing": "linear"
              }
             }
            ],
            "label": "2023-05-21 20:44:16.002600",
            "method": "animate"
           },
           {
            "args": [
             [
              "2023-05-21 20:44:16.383052"
             ],
             {
              "frame": {
               "duration": 0,
               "redraw": false
              },
              "fromcurrent": true,
              "mode": "immediate",
              "transition": {
               "duration": 0,
               "easing": "linear"
              }
             }
            ],
            "label": "2023-05-21 20:44:16.383052",
            "method": "animate"
           },
           {
            "args": [
             [
              "2023-05-21 20:44:16.763681"
             ],
             {
              "frame": {
               "duration": 0,
               "redraw": false
              },
              "fromcurrent": true,
              "mode": "immediate",
              "transition": {
               "duration": 0,
               "easing": "linear"
              }
             }
            ],
            "label": "2023-05-21 20:44:16.763681",
            "method": "animate"
           },
           {
            "args": [
             [
              "2023-05-21 20:44:17.144399"
             ],
             {
              "frame": {
               "duration": 0,
               "redraw": false
              },
              "fromcurrent": true,
              "mode": "immediate",
              "transition": {
               "duration": 0,
               "easing": "linear"
              }
             }
            ],
            "label": "2023-05-21 20:44:17.144399",
            "method": "animate"
           },
           {
            "args": [
             [
              "2023-05-21 20:44:17.524615"
             ],
             {
              "frame": {
               "duration": 0,
               "redraw": false
              },
              "fromcurrent": true,
              "mode": "immediate",
              "transition": {
               "duration": 0,
               "easing": "linear"
              }
             }
            ],
            "label": "2023-05-21 20:44:17.524615",
            "method": "animate"
           },
           {
            "args": [
             [
              "2023-05-21 20:44:17.904733"
             ],
             {
              "frame": {
               "duration": 0,
               "redraw": false
              },
              "fromcurrent": true,
              "mode": "immediate",
              "transition": {
               "duration": 0,
               "easing": "linear"
              }
             }
            ],
            "label": "2023-05-21 20:44:17.904733",
            "method": "animate"
           },
           {
            "args": [
             [
              "2023-05-21 20:44:18.285179"
             ],
             {
              "frame": {
               "duration": 0,
               "redraw": false
              },
              "fromcurrent": true,
              "mode": "immediate",
              "transition": {
               "duration": 0,
               "easing": "linear"
              }
             }
            ],
            "label": "2023-05-21 20:44:18.285179",
            "method": "animate"
           },
           {
            "args": [
             [
              "2023-05-21 20:44:18.665630"
             ],
             {
              "frame": {
               "duration": 0,
               "redraw": false
              },
              "fromcurrent": true,
              "mode": "immediate",
              "transition": {
               "duration": 0,
               "easing": "linear"
              }
             }
            ],
            "label": "2023-05-21 20:44:18.665630",
            "method": "animate"
           },
           {
            "args": [
             [
              "2023-05-21 20:44:19.046287"
             ],
             {
              "frame": {
               "duration": 0,
               "redraw": false
              },
              "fromcurrent": true,
              "mode": "immediate",
              "transition": {
               "duration": 0,
               "easing": "linear"
              }
             }
            ],
            "label": "2023-05-21 20:44:19.046287",
            "method": "animate"
           },
           {
            "args": [
             [
              "2023-05-21 20:44:19.427288"
             ],
             {
              "frame": {
               "duration": 0,
               "redraw": false
              },
              "fromcurrent": true,
              "mode": "immediate",
              "transition": {
               "duration": 0,
               "easing": "linear"
              }
             }
            ],
            "label": "2023-05-21 20:44:19.427288",
            "method": "animate"
           },
           {
            "args": [
             [
              "2023-05-21 20:44:19.807555"
             ],
             {
              "frame": {
               "duration": 0,
               "redraw": false
              },
              "fromcurrent": true,
              "mode": "immediate",
              "transition": {
               "duration": 0,
               "easing": "linear"
              }
             }
            ],
            "label": "2023-05-21 20:44:19.807555",
            "method": "animate"
           },
           {
            "args": [
             [
              "2023-05-21 20:44:20.188467"
             ],
             {
              "frame": {
               "duration": 0,
               "redraw": false
              },
              "fromcurrent": true,
              "mode": "immediate",
              "transition": {
               "duration": 0,
               "easing": "linear"
              }
             }
            ],
            "label": "2023-05-21 20:44:20.188467",
            "method": "animate"
           },
           {
            "args": [
             [
              "2023-05-21 20:44:20.569244"
             ],
             {
              "frame": {
               "duration": 0,
               "redraw": false
              },
              "fromcurrent": true,
              "mode": "immediate",
              "transition": {
               "duration": 0,
               "easing": "linear"
              }
             }
            ],
            "label": "2023-05-21 20:44:20.569244",
            "method": "animate"
           },
           {
            "args": [
             [
              "2023-05-21 20:44:20.949483"
             ],
             {
              "frame": {
               "duration": 0,
               "redraw": false
              },
              "fromcurrent": true,
              "mode": "immediate",
              "transition": {
               "duration": 0,
               "easing": "linear"
              }
             }
            ],
            "label": "2023-05-21 20:44:20.949483",
            "method": "animate"
           },
           {
            "args": [
             [
              "2023-05-21 20:44:21.329771"
             ],
             {
              "frame": {
               "duration": 0,
               "redraw": false
              },
              "fromcurrent": true,
              "mode": "immediate",
              "transition": {
               "duration": 0,
               "easing": "linear"
              }
             }
            ],
            "label": "2023-05-21 20:44:21.329771",
            "method": "animate"
           },
           {
            "args": [
             [
              "2023-05-21 20:44:21.710026"
             ],
             {
              "frame": {
               "duration": 0,
               "redraw": false
              },
              "fromcurrent": true,
              "mode": "immediate",
              "transition": {
               "duration": 0,
               "easing": "linear"
              }
             }
            ],
            "label": "2023-05-21 20:44:21.710026",
            "method": "animate"
           },
           {
            "args": [
             [
              "2023-05-21 20:44:22.090848"
             ],
             {
              "frame": {
               "duration": 0,
               "redraw": false
              },
              "fromcurrent": true,
              "mode": "immediate",
              "transition": {
               "duration": 0,
               "easing": "linear"
              }
             }
            ],
            "label": "2023-05-21 20:44:22.090848",
            "method": "animate"
           },
           {
            "args": [
             [
              "2023-05-21 20:44:22.471877"
             ],
             {
              "frame": {
               "duration": 0,
               "redraw": false
              },
              "fromcurrent": true,
              "mode": "immediate",
              "transition": {
               "duration": 0,
               "easing": "linear"
              }
             }
            ],
            "label": "2023-05-21 20:44:22.471877",
            "method": "animate"
           }
          ],
          "x": 0.1,
          "xanchor": "left",
          "y": 0,
          "yanchor": "top"
         }
        ],
        "template": {
         "data": {
          "bar": [
           {
            "error_x": {
             "color": "#2a3f5f"
            },
            "error_y": {
             "color": "#2a3f5f"
            },
            "marker": {
             "line": {
              "color": "#E5ECF6",
              "width": 0.5
             },
             "pattern": {
              "fillmode": "overlay",
              "size": 10,
              "solidity": 0.2
             }
            },
            "type": "bar"
           }
          ],
          "barpolar": [
           {
            "marker": {
             "line": {
              "color": "#E5ECF6",
              "width": 0.5
             },
             "pattern": {
              "fillmode": "overlay",
              "size": 10,
              "solidity": 0.2
             }
            },
            "type": "barpolar"
           }
          ],
          "carpet": [
           {
            "aaxis": {
             "endlinecolor": "#2a3f5f",
             "gridcolor": "white",
             "linecolor": "white",
             "minorgridcolor": "white",
             "startlinecolor": "#2a3f5f"
            },
            "baxis": {
             "endlinecolor": "#2a3f5f",
             "gridcolor": "white",
             "linecolor": "white",
             "minorgridcolor": "white",
             "startlinecolor": "#2a3f5f"
            },
            "type": "carpet"
           }
          ],
          "choropleth": [
           {
            "colorbar": {
             "outlinewidth": 0,
             "ticks": ""
            },
            "type": "choropleth"
           }
          ],
          "contour": [
           {
            "colorbar": {
             "outlinewidth": 0,
             "ticks": ""
            },
            "colorscale": [
             [
              0,
              "#0d0887"
             ],
             [
              0.1111111111111111,
              "#46039f"
             ],
             [
              0.2222222222222222,
              "#7201a8"
             ],
             [
              0.3333333333333333,
              "#9c179e"
             ],
             [
              0.4444444444444444,
              "#bd3786"
             ],
             [
              0.5555555555555556,
              "#d8576b"
             ],
             [
              0.6666666666666666,
              "#ed7953"
             ],
             [
              0.7777777777777778,
              "#fb9f3a"
             ],
             [
              0.8888888888888888,
              "#fdca26"
             ],
             [
              1,
              "#f0f921"
             ]
            ],
            "type": "contour"
           }
          ],
          "contourcarpet": [
           {
            "colorbar": {
             "outlinewidth": 0,
             "ticks": ""
            },
            "type": "contourcarpet"
           }
          ],
          "heatmap": [
           {
            "colorbar": {
             "outlinewidth": 0,
             "ticks": ""
            },
            "colorscale": [
             [
              0,
              "#0d0887"
             ],
             [
              0.1111111111111111,
              "#46039f"
             ],
             [
              0.2222222222222222,
              "#7201a8"
             ],
             [
              0.3333333333333333,
              "#9c179e"
             ],
             [
              0.4444444444444444,
              "#bd3786"
             ],
             [
              0.5555555555555556,
              "#d8576b"
             ],
             [
              0.6666666666666666,
              "#ed7953"
             ],
             [
              0.7777777777777778,
              "#fb9f3a"
             ],
             [
              0.8888888888888888,
              "#fdca26"
             ],
             [
              1,
              "#f0f921"
             ]
            ],
            "type": "heatmap"
           }
          ],
          "heatmapgl": [
           {
            "colorbar": {
             "outlinewidth": 0,
             "ticks": ""
            },
            "colorscale": [
             [
              0,
              "#0d0887"
             ],
             [
              0.1111111111111111,
              "#46039f"
             ],
             [
              0.2222222222222222,
              "#7201a8"
             ],
             [
              0.3333333333333333,
              "#9c179e"
             ],
             [
              0.4444444444444444,
              "#bd3786"
             ],
             [
              0.5555555555555556,
              "#d8576b"
             ],
             [
              0.6666666666666666,
              "#ed7953"
             ],
             [
              0.7777777777777778,
              "#fb9f3a"
             ],
             [
              0.8888888888888888,
              "#fdca26"
             ],
             [
              1,
              "#f0f921"
             ]
            ],
            "type": "heatmapgl"
           }
          ],
          "histogram": [
           {
            "marker": {
             "pattern": {
              "fillmode": "overlay",
              "size": 10,
              "solidity": 0.2
             }
            },
            "type": "histogram"
           }
          ],
          "histogram2d": [
           {
            "colorbar": {
             "outlinewidth": 0,
             "ticks": ""
            },
            "colorscale": [
             [
              0,
              "#0d0887"
             ],
             [
              0.1111111111111111,
              "#46039f"
             ],
             [
              0.2222222222222222,
              "#7201a8"
             ],
             [
              0.3333333333333333,
              "#9c179e"
             ],
             [
              0.4444444444444444,
              "#bd3786"
             ],
             [
              0.5555555555555556,
              "#d8576b"
             ],
             [
              0.6666666666666666,
              "#ed7953"
             ],
             [
              0.7777777777777778,
              "#fb9f3a"
             ],
             [
              0.8888888888888888,
              "#fdca26"
             ],
             [
              1,
              "#f0f921"
             ]
            ],
            "type": "histogram2d"
           }
          ],
          "histogram2dcontour": [
           {
            "colorbar": {
             "outlinewidth": 0,
             "ticks": ""
            },
            "colorscale": [
             [
              0,
              "#0d0887"
             ],
             [
              0.1111111111111111,
              "#46039f"
             ],
             [
              0.2222222222222222,
              "#7201a8"
             ],
             [
              0.3333333333333333,
              "#9c179e"
             ],
             [
              0.4444444444444444,
              "#bd3786"
             ],
             [
              0.5555555555555556,
              "#d8576b"
             ],
             [
              0.6666666666666666,
              "#ed7953"
             ],
             [
              0.7777777777777778,
              "#fb9f3a"
             ],
             [
              0.8888888888888888,
              "#fdca26"
             ],
             [
              1,
              "#f0f921"
             ]
            ],
            "type": "histogram2dcontour"
           }
          ],
          "mesh3d": [
           {
            "colorbar": {
             "outlinewidth": 0,
             "ticks": ""
            },
            "type": "mesh3d"
           }
          ],
          "parcoords": [
           {
            "line": {
             "colorbar": {
              "outlinewidth": 0,
              "ticks": ""
             }
            },
            "type": "parcoords"
           }
          ],
          "pie": [
           {
            "automargin": true,
            "type": "pie"
           }
          ],
          "scatter": [
           {
            "fillpattern": {
             "fillmode": "overlay",
             "size": 10,
             "solidity": 0.2
            },
            "type": "scatter"
           }
          ],
          "scatter3d": [
           {
            "line": {
             "colorbar": {
              "outlinewidth": 0,
              "ticks": ""
             }
            },
            "marker": {
             "colorbar": {
              "outlinewidth": 0,
              "ticks": ""
             }
            },
            "type": "scatter3d"
           }
          ],
          "scattercarpet": [
           {
            "marker": {
             "colorbar": {
              "outlinewidth": 0,
              "ticks": ""
             }
            },
            "type": "scattercarpet"
           }
          ],
          "scattergeo": [
           {
            "marker": {
             "colorbar": {
              "outlinewidth": 0,
              "ticks": ""
             }
            },
            "type": "scattergeo"
           }
          ],
          "scattergl": [
           {
            "marker": {
             "colorbar": {
              "outlinewidth": 0,
              "ticks": ""
             }
            },
            "type": "scattergl"
           }
          ],
          "scattermapbox": [
           {
            "marker": {
             "colorbar": {
              "outlinewidth": 0,
              "ticks": ""
             }
            },
            "type": "scattermapbox"
           }
          ],
          "scatterpolar": [
           {
            "marker": {
             "colorbar": {
              "outlinewidth": 0,
              "ticks": ""
             }
            },
            "type": "scatterpolar"
           }
          ],
          "scatterpolargl": [
           {
            "marker": {
             "colorbar": {
              "outlinewidth": 0,
              "ticks": ""
             }
            },
            "type": "scatterpolargl"
           }
          ],
          "scatterternary": [
           {
            "marker": {
             "colorbar": {
              "outlinewidth": 0,
              "ticks": ""
             }
            },
            "type": "scatterternary"
           }
          ],
          "surface": [
           {
            "colorbar": {
             "outlinewidth": 0,
             "ticks": ""
            },
            "colorscale": [
             [
              0,
              "#0d0887"
             ],
             [
              0.1111111111111111,
              "#46039f"
             ],
             [
              0.2222222222222222,
              "#7201a8"
             ],
             [
              0.3333333333333333,
              "#9c179e"
             ],
             [
              0.4444444444444444,
              "#bd3786"
             ],
             [
              0.5555555555555556,
              "#d8576b"
             ],
             [
              0.6666666666666666,
              "#ed7953"
             ],
             [
              0.7777777777777778,
              "#fb9f3a"
             ],
             [
              0.8888888888888888,
              "#fdca26"
             ],
             [
              1,
              "#f0f921"
             ]
            ],
            "type": "surface"
           }
          ],
          "table": [
           {
            "cells": {
             "fill": {
              "color": "#EBF0F8"
             },
             "line": {
              "color": "white"
             }
            },
            "header": {
             "fill": {
              "color": "#C8D4E3"
             },
             "line": {
              "color": "white"
             }
            },
            "type": "table"
           }
          ]
         },
         "layout": {
          "annotationdefaults": {
           "arrowcolor": "#2a3f5f",
           "arrowhead": 0,
           "arrowwidth": 1
          },
          "autotypenumbers": "strict",
          "coloraxis": {
           "colorbar": {
            "outlinewidth": 0,
            "ticks": ""
           }
          },
          "colorscale": {
           "diverging": [
            [
             0,
             "#8e0152"
            ],
            [
             0.1,
             "#c51b7d"
            ],
            [
             0.2,
             "#de77ae"
            ],
            [
             0.3,
             "#f1b6da"
            ],
            [
             0.4,
             "#fde0ef"
            ],
            [
             0.5,
             "#f7f7f7"
            ],
            [
             0.6,
             "#e6f5d0"
            ],
            [
             0.7,
             "#b8e186"
            ],
            [
             0.8,
             "#7fbc41"
            ],
            [
             0.9,
             "#4d9221"
            ],
            [
             1,
             "#276419"
            ]
           ],
           "sequential": [
            [
             0,
             "#0d0887"
            ],
            [
             0.1111111111111111,
             "#46039f"
            ],
            [
             0.2222222222222222,
             "#7201a8"
            ],
            [
             0.3333333333333333,
             "#9c179e"
            ],
            [
             0.4444444444444444,
             "#bd3786"
            ],
            [
             0.5555555555555556,
             "#d8576b"
            ],
            [
             0.6666666666666666,
             "#ed7953"
            ],
            [
             0.7777777777777778,
             "#fb9f3a"
            ],
            [
             0.8888888888888888,
             "#fdca26"
            ],
            [
             1,
             "#f0f921"
            ]
           ],
           "sequentialminus": [
            [
             0,
             "#0d0887"
            ],
            [
             0.1111111111111111,
             "#46039f"
            ],
            [
             0.2222222222222222,
             "#7201a8"
            ],
            [
             0.3333333333333333,
             "#9c179e"
            ],
            [
             0.4444444444444444,
             "#bd3786"
            ],
            [
             0.5555555555555556,
             "#d8576b"
            ],
            [
             0.6666666666666666,
             "#ed7953"
            ],
            [
             0.7777777777777778,
             "#fb9f3a"
            ],
            [
             0.8888888888888888,
             "#fdca26"
            ],
            [
             1,
             "#f0f921"
            ]
           ]
          },
          "colorway": [
           "#636efa",
           "#EF553B",
           "#00cc96",
           "#ab63fa",
           "#FFA15A",
           "#19d3f3",
           "#FF6692",
           "#B6E880",
           "#FF97FF",
           "#FECB52"
          ],
          "font": {
           "color": "#2a3f5f"
          },
          "geo": {
           "bgcolor": "white",
           "lakecolor": "white",
           "landcolor": "#E5ECF6",
           "showlakes": true,
           "showland": true,
           "subunitcolor": "white"
          },
          "hoverlabel": {
           "align": "left"
          },
          "hovermode": "closest",
          "mapbox": {
           "style": "light"
          },
          "paper_bgcolor": "white",
          "plot_bgcolor": "#E5ECF6",
          "polar": {
           "angularaxis": {
            "gridcolor": "white",
            "linecolor": "white",
            "ticks": ""
           },
           "bgcolor": "#E5ECF6",
           "radialaxis": {
            "gridcolor": "white",
            "linecolor": "white",
            "ticks": ""
           }
          },
          "scene": {
           "xaxis": {
            "backgroundcolor": "#E5ECF6",
            "gridcolor": "white",
            "gridwidth": 2,
            "linecolor": "white",
            "showbackground": true,
            "ticks": "",
            "zerolinecolor": "white"
           },
           "yaxis": {
            "backgroundcolor": "#E5ECF6",
            "gridcolor": "white",
            "gridwidth": 2,
            "linecolor": "white",
            "showbackground": true,
            "ticks": "",
            "zerolinecolor": "white"
           },
           "zaxis": {
            "backgroundcolor": "#E5ECF6",
            "gridcolor": "white",
            "gridwidth": 2,
            "linecolor": "white",
            "showbackground": true,
            "ticks": "",
            "zerolinecolor": "white"
           }
          },
          "shapedefaults": {
           "line": {
            "color": "#2a3f5f"
           }
          },
          "ternary": {
           "aaxis": {
            "gridcolor": "white",
            "linecolor": "white",
            "ticks": ""
           },
           "baxis": {
            "gridcolor": "white",
            "linecolor": "white",
            "ticks": ""
           },
           "bgcolor": "#E5ECF6",
           "caxis": {
            "gridcolor": "white",
            "linecolor": "white",
            "ticks": ""
           }
          },
          "title": {
           "x": 0.05
          },
          "xaxis": {
           "automargin": true,
           "gridcolor": "white",
           "linecolor": "white",
           "ticks": "",
           "title": {
            "standoff": 15
           },
           "zerolinecolor": "white",
           "zerolinewidth": 2
          },
          "yaxis": {
           "automargin": true,
           "gridcolor": "white",
           "linecolor": "white",
           "ticks": "",
           "title": {
            "standoff": 15
           },
           "zerolinecolor": "white",
           "zerolinewidth": 2
          }
         }
        },
        "updatemenus": [
         {
          "buttons": [
           {
            "args": [
             null,
             {
              "frame": {
               "duration": 500,
               "redraw": false
              },
              "fromcurrent": true,
              "mode": "immediate",
              "transition": {
               "duration": 500,
               "easing": "linear"
              }
             }
            ],
            "label": "&#9654;",
            "method": "animate"
           },
           {
            "args": [
             [
              null
             ],
             {
              "frame": {
               "duration": 0,
               "redraw": false
              },
              "fromcurrent": true,
              "mode": "immediate",
              "transition": {
               "duration": 0,
               "easing": "linear"
              }
             }
            ],
            "label": "&#9724;",
            "method": "animate"
           }
          ],
          "direction": "left",
          "pad": {
           "r": 10,
           "t": 70
          },
          "showactive": false,
          "type": "buttons",
          "x": 0.1,
          "xanchor": "right",
          "y": 0,
          "yanchor": "top"
         }
        ],
        "width": 600,
        "xaxis": {
         "anchor": "y",
         "domain": [
          0,
          1
         ],
         "range": [
          0,
          2000
         ],
         "title": {
          "text": "x"
         }
        },
        "yaxis": {
         "anchor": "x",
         "domain": [
          0,
          1
         ],
         "range": [
          0,
          4000
         ],
         "title": {
          "text": "y"
         }
        }
       }
      }
     },
     "metadata": {},
     "output_type": "display_data"
    }
   ],
   "source": [
    "import plotly.express as px\n",
    "\n",
    "px.scatter(df, x=\"x\", y=\"y\", animation_frame=\"timestamp\",\n",
    "        #    size=\"radius\",\n",
    "           range_x=[0,2000], range_y=[0,4000],\n",
    "           width=600, height=600)"
   ]
  }
 ],
 "metadata": {
  "kernelspec": {
   "display_name": ".venv",
   "language": "python",
   "name": "python3"
  },
  "language_info": {
   "codemirror_mode": {
    "name": "ipython",
    "version": 3
   },
   "file_extension": ".py",
   "mimetype": "text/x-python",
   "name": "python",
   "nbconvert_exporter": "python",
   "pygments_lexer": "ipython3",
   "version": "3.11.3"
  },
  "orig_nbformat": 4
 },
 "nbformat": 4,
 "nbformat_minor": 2
}
