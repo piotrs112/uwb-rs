{
 "cells": [
  {
   "cell_type": "code",
   "execution_count": 43,
   "metadata": {},
   "outputs": [],
   "source": [
    "import pandas as pd\n",
    "from pathlib import Path\n",
    "\n",
    "from data.points import ANCHORS\n",
    "filename = \"data/movement/2023-05-24-13:52:11.266488_P3-1-6-5_normalized_high_up.csv\"\n",
    "# filename = \"data/movement/2023-05-24-14:18:43.048591P3-1-6-5_high_los.csv\"\n",
    "# filename = \"data/movement/2023-05-24-14:35:08.828772P3-1-6-5_high_los.csv\"\n",
    "df = pd.read_csv(filename, index_col=0)\n",
    "df[\"timestamp\"] = pd.to_datetime(df[\"timestamp\"])\n",
    "df = df[df.anchor.isin(ANCHORS.keys())]\n",
    "df = df.set_index(\"timestamp\")"
   ]
  },
  {
   "cell_type": "code",
   "execution_count": 44,
   "metadata": {},
   "outputs": [],
   "source": [
    "# Create column for every anchor\n",
    "n_anchors = len(ANCHORS)\n",
    "df = df.pivot(columns=\"anchor\", values=\"distance\").fillna(0).rolling(window=n_anchors, step=n_anchors).sum().dropna()"
   ]
  },
  {
   "cell_type": "code",
   "execution_count": 45,
   "metadata": {},
   "outputs": [],
   "source": [
    "# Simple filtering\n",
    "df=df.rolling(window=3).mean().dropna()"
   ]
  },
  {
   "cell_type": "code",
   "execution_count": 46,
   "metadata": {},
   "outputs": [],
   "source": [
    "from easy_trilateration.model import *\n",
    "from easy_trilateration.least_squares import easy_least_squares, solve_history\n",
    "from easy_trilateration.graph import *\n",
    "from helpers import distance\n",
    "\n",
    "history = []\n",
    "\n",
    "for timestamp, row in df.iterrows():\n",
    "    c = [Circle(*ANCHORS[anchor], row[anchor]) for anchor in ANCHORS.keys()]\n",
    "    history.append(Trilateration(c))\n",
    "\n",
    "solve_history(history)\n"
   ]
  },
  {
   "cell_type": "code",
   "execution_count": 47,
   "metadata": {},
   "outputs": [
    {
     "data": {
      "image/png": "[encoded data removed]",
      "text/plain": [
       "<Figure size 640x480 with 1 Axes>"
      ]
     },
     "metadata": {},
     "output_type": "display_data"
    },
    {
     "name": "stderr",
     "output_type": "stream",
     "text": [
      "/home/piotr/Documents/mgr/uwb-rs/data-processing/.venv/lib/python3.11/site-packages/matplotlib/animation.py:884: UserWarning:\n",
      "\n",
      "Animation was deleted without rendering anything. This is most likely not intended. To prevent deletion, assign the Animation to a variable, e.g. `anim`, that exists until you output the Animation using `plt.show()` or `anim.save()`.\n",
      "\n"
     ]
    }
   ],
   "source": [
    "import matplotlib.pyplot as plt\n",
    "from matplotlib.lines import Line2D\n",
    "\n",
    "ax = plt.subplot()\n",
    "ax.add_line(Line2D((1560,-5000),(1560,5000)))\n",
    "a = animate(history, ax)\n",
    "# with open(\"video.html\", \"w\") as file:\n",
    "#     file.write(a.to_html5_video())\n"
   ]
  },
  {
   "cell_type": "code",
   "execution_count": 48,
   "metadata": {},
   "outputs": [],
   "source": [
    "data = {\n",
    "    \"x\": [],\n",
    "    \"y\": [],\n",
    "    \"radius\": [],\n",
    "    \"timestamp\": df.index.to_list()\n",
    "}\n",
    "for t in history:\n",
    "    t: Trilateration\n",
    "    data[\"x\"].append(t.result.center.x)\n",
    "    data[\"y\"].append(t.result.center.y)\n",
    "    data[\"radius\"].append(t.result.radius)\n",
    "\n",
    "df = pd.DataFrame(data)"
   ]
  },
  {
   "cell_type": "code",
   "execution_count": 49,
   "metadata": {},
   "outputs": [
    {
     "data": {
      "application/vnd.plotly.v1+json": {
       "config": {
        "plotlyServerURL": "https://plot.ly"
       },
       "data": [
        {
         "hovertemplate": "x=%{x}<br>y=%{y}<extra></extra>",
         "legendgroup": "",
         "marker": {
          "color": "#636efa",
          "symbol": "circle"
         },
         "mode": "markers",
         "name": "",
         "orientation": "v",
         "showlegend": false,
         "type": "scatter",
         "x": [
          -143.1216928183606,
          -120.83955309382456,
          -67.19236696711327,
          -37.79701120605514,
          30.678906805016055,
          47.241845781639675,
          48.62521541600852,
          -0.956778595265741,
          9.555575364829105,
          22.088535078678696,
          40.863457541575265,
          24.075486615401218,
          32.18019111469114,
          150.4029734035367,
          252.2304125098206,
          328.81274362563266,
          284.18902742450393,
          315.427497450068,
          338.5760693264493,
          411.4866239276767,
          443.73415769218184,
          522.1764618300961,
          578.2787850227417,
          634.2064768520204,
          491.5212378248279,
          710.995929575823,
          806.4034093017858,
          725.5133842222511,
          551.6050711058748,
          416.06553422991993,
          419.3869294930499,
          443.3643123949243,
          338.2437015058862,
          419.730066853756,
          493.2029217018438,
          632.1600538612395,
          588.2102119743812,
          665.074667705448,
          672.1310808529527,
          764.8341292985456,
          838.3301452266402,
          879.4064236890797,
          866.5209733797117,
          843.6505612065778,
          843.3271798745527,
          868.0804977477717,
          904.3423318378141,
          -468.08572397328015,
          -570.2076060158772,
          -659.8823956476903,
          891.2636868765786,
          888.5658008616867,
          878.6623308128193,
          853.9855204609308,
          818.2944924704261,
          785.2153927787662,
          756.1684117734246,
          732.6951905038151,
          705.9985468308801,
          696.6153929652793,
          673.610842415875,
          678.0103458709484,
          661.2986431166761,
          640.5307524395118,
          587.7796293384101,
          541.3381595999282,
          501.44505737145533,
          444.49430046610127,
          396.03271229131957,
          329.943381382433,
          372.7590994433544,
          380.08897183110724,
          421.91350429721757,
          373.90352980372944,
          304.13729039147967,
          225.38054258778075,
          136.32707268728393,
          160.62590921436,
          121.34250633677945,
          173.62439211376196,
          132.6455076061085,
          204.35992486297104,
          244.11457954252475,
          414.8992355343529,
          544.6039694007063,
          617.6058872876877,
          641.2267574388667,
          619.6448511473407,
          595.207037674323,
          579.4513378895141,
          592.6789317257301
         ],
         "xaxis": "x",
         "y": [
          3143.5338301324928,
          3158.210678601236,
          3137.257772724297,
          3157.197964966547,
          3129.160076668816,
          3146.8759797185685,
          3139.6046746069255,
          3172.9774107552,
          3148.1560565579416,
          3150.6689374250677,
          3122.6072420814985,
          3120.2721550850447,
          3074.6534243424057,
          2759.5984670276184,
          2548.026835407929,
          2343.1365196940533,
          2461.7485040089364,
          2400.9855659692166,
          2353.3926138565853,
          2192.7586808763,
          2070.9647410712187,
          1893.2287527596607,
          1719.001330686711,
          1538.74475174376,
          1374.170087447585,
          719.5389305053548,
          16.568331209805056,
          -1090.3772837500708,
          -1535.325027404253,
          -1826.1845139829031,
          -1824.4901702577574,
          -1743.4213296850385,
          -1988.449113366176,
          -1790.0850779597847,
          -1663.6222692316178,
          -1345.7291983980267,
          -1493.0817531340524,
          -1296.6968650294782,
          -1297.0701669409827,
          -1161.2578528184745,
          -915.408054261555,
          -678.0021093672754,
          -410.006406255968,
          -246.24564967804952,
          -99.58087239201777,
          -75.59853763127617,
          -65.55402689016053,
          1965.1023106693954,
          2061.7901877722725,
          2140.3699006620313,
          204.6759198780485,
          213.17688401585235,
          271.6842521006808,
          431.55111857639645,
          610.4734834980536,
          802.7420619133532,
          930.8859705811637,
          1047.918893623754,
          1135.3182718688333,
          1203.1176782435411,
          1289.0174858532412,
          1377.9332112731818,
          1495.0910086703816,
          1627.284711154748,
          1786.3365160349217,
          1931.6362722256558,
          2065.2596671650595,
          2190.710487647017,
          2294.018660259002,
          2436.7773337163544,
          2400.6632498115846,
          2413.451561172028,
          2360.488905917139,
          2419.6499977835856,
          2602.983845012893,
          2771.4342464428523,
          2989.3000365950747,
          2984.8103401228614,
          3017.6919443496604,
          3004.335440796223,
          3019.2438576608874,
          2959.7526643020537,
          2918.0895919508816,
          2853.92607190082,
          2775.600829893951,
          2765.3708420463154,
          2736.1184531932568,
          2809.9853939161712,
          2839.050631761454,
          2839.0788454806434,
          2801.92528954115
         ],
         "yaxis": "y"
        },
        {
         "hovertemplate": "x=%{x}<br>y=%{y}<extra></extra>",
         "legendgroup": "",
         "marker": {
          "color": "#636efa",
          "symbol": "circle"
         },
         "mode": "markers",
         "name": "",
         "orientation": "v",
         "showlegend": false,
         "type": "scatter",
         "x": [
          0,
          3400,
          3400
         ],
         "xaxis": "x",
         "y": [
          0,
          0,
          4350
         ],
         "yaxis": "y"
        }
       ],
       "layout": {
        "height": 700,
        "template": {
         "data": {
          "bar": [
           {
            "error_x": {
             "color": "#2a3f5f"
            },
            "error_y": {
             "color": "#2a3f5f"
            },
            "marker": {
             "line": {
              "color": "#E5ECF6",
              "width": 0.5
             },
             "pattern": {
              "fillmode": "overlay",
              "size": 10,
              "solidity": 0.2
             }
            },
            "type": "bar"
           }
          ],
          "barpolar": [
           {
            "marker": {
             "line": {
              "color": "#E5ECF6",
              "width": 0.5
             },
             "pattern": {
              "fillmode": "overlay",
              "size": 10,
              "solidity": 0.2
             }
            },
            "type": "barpolar"
           }
          ],
          "carpet": [
           {
            "aaxis": {
             "endlinecolor": "#2a3f5f",
             "gridcolor": "white",
             "linecolor": "white",
             "minorgridcolor": "white",
             "startlinecolor": "#2a3f5f"
            },
            "baxis": {
             "endlinecolor": "#2a3f5f",
             "gridcolor": "white",
             "linecolor": "white",
             "minorgridcolor": "white",
             "startlinecolor": "#2a3f5f"
            },
            "type": "carpet"
           }
          ],
          "choropleth": [
           {
            "colorbar": {
             "outlinewidth": 0,
             "ticks": ""
            },
            "type": "choropleth"
           }
          ],
          "contour": [
           {
            "colorbar": {
             "outlinewidth": 0,
             "ticks": ""
            },
            "colorscale": [
             [
              0,
              "#0d0887"
             ],
             [
              0.1111111111111111,
              "#46039f"
             ],
             [
              0.2222222222222222,
              "#7201a8"
             ],
             [
              0.3333333333333333,
              "#9c179e"
             ],
             [
              0.4444444444444444,
              "#bd3786"
             ],
             [
              0.5555555555555556,
              "#d8576b"
             ],
             [
              0.6666666666666666,
              "#ed7953"
             ],
             [
              0.7777777777777778,
              "#fb9f3a"
             ],
             [
              0.8888888888888888,
              "#fdca26"
             ],
             [
              1,
              "#f0f921"
             ]
            ],
            "type": "contour"
           }
          ],
          "contourcarpet": [
           {
            "colorbar": {
             "outlinewidth": 0,
             "ticks": ""
            },
            "type": "contourcarpet"
           }
          ],
          "heatmap": [
           {
            "colorbar": {
             "outlinewidth": 0,
             "ticks": ""
            },
            "colorscale": [
             [
              0,
              "#0d0887"
             ],
             [
              0.1111111111111111,
              "#46039f"
             ],
             [
              0.2222222222222222,
              "#7201a8"
             ],
             [
              0.3333333333333333,
              "#9c179e"
             ],
             [
              0.4444444444444444,
              "#bd3786"
             ],
             [
              0.5555555555555556,
              "#d8576b"
             ],
             [
              0.6666666666666666,
              "#ed7953"
             ],
             [
              0.7777777777777778,
              "#fb9f3a"
             ],
             [
              0.8888888888888888,
              "#fdca26"
             ],
             [
              1,
              "#f0f921"
             ]
            ],
            "type": "heatmap"
           }
          ],
          "heatmapgl": [
           {
            "colorbar": {
             "outlinewidth": 0,
             "ticks": ""
            },
            "colorscale": [
             [
              0,
              "#0d0887"
             ],
             [
              0.1111111111111111,
              "#46039f"
             ],
             [
              0.2222222222222222,
              "#7201a8"
             ],
             [
              0.3333333333333333,
              "#9c179e"
             ],
             [
              0.4444444444444444,
              "#bd3786"
             ],
             [
              0.5555555555555556,
              "#d8576b"
             ],
             [
              0.6666666666666666,
              "#ed7953"
             ],
             [
              0.7777777777777778,
              "#fb9f3a"
             ],
             [
              0.8888888888888888,
              "#fdca26"
             ],
             [
              1,
              "#f0f921"
             ]
            ],
            "type": "heatmapgl"
           }
          ],
          "histogram": [
           {
            "marker": {
             "pattern": {
              "fillmode": "overlay",
              "size": 10,
              "solidity": 0.2
             }
            },
            "type": "histogram"
           }
          ],
          "histogram2d": [
           {
            "colorbar": {
             "outlinewidth": 0,
             "ticks": ""
            },
            "colorscale": [
             [
              0,
              "#0d0887"
             ],
             [
              0.1111111111111111,
              "#46039f"
             ],
             [
              0.2222222222222222,
              "#7201a8"
             ],
             [
              0.3333333333333333,
              "#9c179e"
             ],
             [
              0.4444444444444444,
              "#bd3786"
             ],
             [
              0.5555555555555556,
              "#d8576b"
             ],
             [
              0.6666666666666666,
              "#ed7953"
             ],
             [
              0.7777777777777778,
              "#fb9f3a"
             ],
             [
              0.8888888888888888,
              "#fdca26"
             ],
             [
              1,
              "#f0f921"
             ]
            ],
            "type": "histogram2d"
           }
          ],
          "histogram2dcontour": [
           {
            "colorbar": {
             "outlinewidth": 0,
             "ticks": ""
            },
            "colorscale": [
             [
              0,
              "#0d0887"
             ],
             [
              0.1111111111111111,
              "#46039f"
             ],
             [
              0.2222222222222222,
              "#7201a8"
             ],
             [
              0.3333333333333333,
              "#9c179e"
             ],
             [
              0.4444444444444444,
              "#bd3786"
             ],
             [
              0.5555555555555556,
              "#d8576b"
             ],
             [
              0.6666666666666666,
              "#ed7953"
             ],
             [
              0.7777777777777778,
              "#fb9f3a"
             ],
             [
              0.8888888888888888,
              "#fdca26"
             ],
             [
              1,
              "#f0f921"
             ]
            ],
            "type": "histogram2dcontour"
           }
          ],
          "mesh3d": [
           {
            "colorbar": {
             "outlinewidth": 0,
             "ticks": ""
            },
            "type": "mesh3d"
           }
          ],
          "parcoords": [
           {
            "line": {
             "colorbar": {
              "outlinewidth": 0,
              "ticks": ""
             }
            },
            "type": "parcoords"
           }
          ],
          "pie": [
           {
            "automargin": true,
            "type": "pie"
           }
          ],
          "scatter": [
           {
            "fillpattern": {
             "fillmode": "overlay",
             "size": 10,
             "solidity": 0.2
            },
            "type": "scatter"
           }
          ],
          "scatter3d": [
           {
            "line": {
             "colorbar": {
              "outlinewidth": 0,
              "ticks": ""
             }
            },
            "marker": {
             "colorbar": {
              "outlinewidth": 0,
              "ticks": ""
             }
            },
            "type": "scatter3d"
           }
          ],
          "scattercarpet": [
           {
            "marker": {
             "colorbar": {
              "outlinewidth": 0,
              "ticks": ""
             }
            },
            "type": "scattercarpet"
           }
          ],
          "scattergeo": [
           {
            "marker": {
             "colorbar": {
              "outlinewidth": 0,
              "ticks": ""
             }
            },
            "type": "scattergeo"
           }
          ],
          "scattergl": [
           {
            "marker": {
             "colorbar": {
              "outlinewidth": 0,
              "ticks": ""
             }
            },
            "type": "scattergl"
           }
          ],
          "scattermapbox": [
           {
            "marker": {
             "colorbar": {
              "outlinewidth": 0,
              "ticks": ""
             }
            },
            "type": "scattermapbox"
           }
          ],
          "scatterpolar": [
           {
            "marker": {
             "colorbar": {
              "outlinewidth": 0,
              "ticks": ""
             }
            },
            "type": "scatterpolar"
           }
          ],
          "scatterpolargl": [
           {
            "marker": {
             "colorbar": {
              "outlinewidth": 0,
              "ticks": ""
             }
            },
            "type": "scatterpolargl"
           }
          ],
          "scatterternary": [
           {
            "marker": {
             "colorbar": {
              "outlinewidth": 0,
              "ticks": ""
             }
            },
            "type": "scatterternary"
           }
          ],
          "surface": [
           {
            "colorbar": {
             "outlinewidth": 0,
             "ticks": ""
            },
            "colorscale": [
             [
              0,
              "#0d0887"
             ],
             [
              0.1111111111111111,
              "#46039f"
             ],
             [
              0.2222222222222222,
              "#7201a8"
             ],
             [
              0.3333333333333333,
              "#9c179e"
             ],
             [
              0.4444444444444444,
              "#bd3786"
             ],
             [
              0.5555555555555556,
              "#d8576b"
             ],
             [
              0.6666666666666666,
              "#ed7953"
             ],
             [
              0.7777777777777778,
              "#fb9f3a"
             ],
             [
              0.8888888888888888,
              "#fdca26"
             ],
             [
              1,
              "#f0f921"
             ]
            ],
            "type": "surface"
           }
          ],
          "table": [
           {
            "cells": {
             "fill": {
              "color": "#EBF0F8"
             },
             "line": {
              "color": "white"
             }
            },
            "header": {
             "fill": {
              "color": "#C8D4E3"
             },
             "line": {
              "color": "white"
             }
            },
            "type": "table"
           }
          ]
         },
         "layout": {
          "annotationdefaults": {
           "arrowcolor": "#2a3f5f",
           "arrowhead": 0,
           "arrowwidth": 1
          },
          "autotypenumbers": "strict",
          "coloraxis": {
           "colorbar": {
            "outlinewidth": 0,
            "ticks": ""
           }
          },
          "colorscale": {
           "diverging": [
            [
             0,
             "#8e0152"
            ],
            [
             0.1,
             "#c51b7d"
            ],
            [
             0.2,
             "#de77ae"
            ],
            [
             0.3,
             "#f1b6da"
            ],
            [
             0.4,
             "#fde0ef"
            ],
            [
             0.5,
             "#f7f7f7"
            ],
            [
             0.6,
             "#e6f5d0"
            ],
            [
             0.7,
             "#b8e186"
            ],
            [
             0.8,
             "#7fbc41"
            ],
            [
             0.9,
             "#4d9221"
            ],
            [
             1,
             "#276419"
            ]
           ],
           "sequential": [
            [
             0,
             "#0d0887"
            ],
            [
             0.1111111111111111,
             "#46039f"
            ],
            [
             0.2222222222222222,
             "#7201a8"
            ],
            [
             0.3333333333333333,
             "#9c179e"
            ],
            [
             0.4444444444444444,
             "#bd3786"
            ],
            [
             0.5555555555555556,
             "#d8576b"
            ],
            [
             0.6666666666666666,
             "#ed7953"
            ],
            [
             0.7777777777777778,
             "#fb9f3a"
            ],
            [
             0.8888888888888888,
             "#fdca26"
            ],
            [
             1,
             "#f0f921"
            ]
           ],
           "sequentialminus": [
            [
             0,
             "#0d0887"
            ],
            [
             0.1111111111111111,
             "#46039f"
            ],
            [
             0.2222222222222222,
             "#7201a8"
            ],
            [
             0.3333333333333333,
             "#9c179e"
            ],
            [
             0.4444444444444444,
             "#bd3786"
            ],
            [
             0.5555555555555556,
             "#d8576b"
            ],
            [
             0.6666666666666666,
             "#ed7953"
            ],
            [
             0.7777777777777778,
             "#fb9f3a"
            ],
            [
             0.8888888888888888,
             "#fdca26"
            ],
            [
             1,
             "#f0f921"
            ]
           ]
          },
          "colorway": [
           "#636efa",
           "#EF553B",
           "#00cc96",
           "#ab63fa",
           "#FFA15A",
           "#19d3f3",
           "#FF6692",
           "#B6E880",
           "#FF97FF",
           "#FECB52"
          ],
          "font": {
           "color": "#2a3f5f"
          },
          "geo": {
           "bgcolor": "white",
           "lakecolor": "white",
           "landcolor": "#E5ECF6",
           "showlakes": true,
           "showland": true,
           "subunitcolor": "white"
          },
          "hoverlabel": {
           "align": "left"
          },
          "hovermode": "closest",
          "mapbox": {
           "style": "light"
          },
          "paper_bgcolor": "white",
          "plot_bgcolor": "#E5ECF6",
          "polar": {
           "angularaxis": {
            "gridcolor": "white",
            "linecolor": "white",
            "ticks": ""
           },
           "bgcolor": "#E5ECF6",
           "radialaxis": {
            "gridcolor": "white",
            "linecolor": "white",
            "ticks": ""
           }
          },
          "scene": {
           "xaxis": {
            "backgroundcolor": "#E5ECF6",
            "gridcolor": "white",
            "gridwidth": 2,
            "linecolor": "white",
            "showbackground": true,
            "ticks": "",
            "zerolinecolor": "white"
           },
           "yaxis": {
            "backgroundcolor": "#E5ECF6",
            "gridcolor": "white",
            "gridwidth": 2,
            "linecolor": "white",
            "showbackground": true,
            "ticks": "",
            "zerolinecolor": "white"
           },
           "zaxis": {
            "backgroundcolor": "#E5ECF6",
            "gridcolor": "white",
            "gridwidth": 2,
            "linecolor": "white",
            "showbackground": true,
            "ticks": "",
            "zerolinecolor": "white"
           }
          },
          "shapedefaults": {
           "line": {
            "color": "#2a3f5f"
           }
          },
          "ternary": {
           "aaxis": {
            "gridcolor": "white",
            "linecolor": "white",
            "ticks": ""
           },
           "baxis": {
            "gridcolor": "white",
            "linecolor": "white",
            "ticks": ""
           },
           "bgcolor": "#E5ECF6",
           "caxis": {
            "gridcolor": "white",
            "linecolor": "white",
            "ticks": ""
           }
          },
          "title": {
           "x": 0.05
          },
          "xaxis": {
           "automargin": true,
           "gridcolor": "white",
           "linecolor": "white",
           "ticks": "",
           "title": {
            "standoff": 15
           },
           "zerolinecolor": "white",
           "zerolinewidth": 2
          },
          "yaxis": {
           "automargin": true,
           "gridcolor": "white",
           "linecolor": "white",
           "ticks": "",
           "title": {
            "standoff": 15
           },
           "zerolinecolor": "white",
           "zerolinewidth": 2
          }
         }
        },
        "width": 700,
        "xaxis": {
         "range": [
          -100,
          3600
         ]
        },
        "yaxis": {
         "range": [
          -1000,
          4600
         ]
        }
       }
      }
     },
     "metadata": {},
     "output_type": "display_data"
    }
   ],
   "source": [
    "import plotly.graph_objects as go\n",
    "import plotly.express as px\n",
    "\n",
    "anchors_df = pd.DataFrame(ANCHORS, index=[\"x\",\"y\"]).transpose()\n",
    "\n",
    "trace = px.scatter(df, x=\"x\", y=\"y\")\n",
    "anchors = px.scatter(anchors_df, x=\"x\", y=\"y\")\n",
    "\n",
    "fig = go.Figure(trace.data + anchors.data)\n",
    "fig.update_xaxes(range=[-100,3600])\n",
    "fig.update_yaxes(range=[-1000,4600])\n",
    "fig.update_layout(width=700, height=700)\n",
    "fig.show()"
   ]
  },
  {
   "cell_type": "code",
   "execution_count": 50,
   "metadata": {},
   "outputs": [
    {
     "data": {
      "application/vnd.plotly.v1+json": {
       "config": {
        "plotlyServerURL": "https://plot.ly"
       },
       "data": [
        {
         "hovertemplate": "timestamp=2023-05-24 14:18:45.968762<br>x=%{x}<br>y=%{y}<extra></extra>",
         "legendgroup": "",
         "marker": {
          "color": "#636efa",
          "symbol": "circle"
         },
         "mode": "markers",
         "name": "",
         "orientation": "v",
         "showlegend": false,
         "type": "scatter",
         "x": [
          -143.1216928183606
         ],
         "xaxis": "x",
         "y": [
          3143.5338301324928
         ],
         "yaxis": "y"
        }
       ],
       "frames": [
        {
         "data": [
          {
           "hovertemplate": "timestamp=2023-05-24 14:18:45.968762<br>x=%{x}<br>y=%{y}<extra></extra>",
           "legendgroup": "",
           "marker": {
            "color": "#636efa",
            "symbol": "circle"
           },
           "mode": "markers",
           "name": "",
           "orientation": "v",
           "showlegend": false,
           "type": "scatter",
           "x": [
            -143.1216928183606
           ],
           "xaxis": "x",
           "y": [
            3143.5338301324928
           ],
           "yaxis": "y"
          }
         ],
         "name": "2023-05-24 14:18:45.968762"
        },
        {
         "data": [
          {
           "hovertemplate": "timestamp=2023-05-24 14:18:46.357670<br>x=%{x}<br>y=%{y}<extra></extra>",
           "legendgroup": "",
           "marker": {
            "color": "#636efa",
            "symbol": "circle"
           },
           "mode": "markers",
           "name": "",
           "orientation": "v",
           "showlegend": false,
           "type": "scatter",
           "x": [
            -120.83955309382456
           ],
           "xaxis": "x",
           "y": [
            3158.210678601236
           ],
           "yaxis": "y"
          }
         ],
         "name": "2023-05-24 14:18:46.357670"
        },
        {
         "data": [
          {
           "hovertemplate": "timestamp=2023-05-24 14:18:46.753032<br>x=%{x}<br>y=%{y}<extra></extra>",
           "legendgroup": "",
           "marker": {
            "color": "#636efa",
            "symbol": "circle"
           },
           "mode": "markers",
           "name": "",
           "orientation": "v",
           "showlegend": false,
           "type": "scatter",
           "x": [
            -67.19236696711327
           ],
           "xaxis": "x",
           "y": [
            3137.257772724297
           ],
           "yaxis": "y"
          }
         ],
         "name": "2023-05-24 14:18:46.753032"
        },
        {
         "data": [
          {
           "hovertemplate": "timestamp=2023-05-24 14:18:47.140552<br>x=%{x}<br>y=%{y}<extra></extra>",
           "legendgroup": "",
           "marker": {
            "color": "#636efa",
            "symbol": "circle"
           },
           "mode": "markers",
           "name": "",
           "orientation": "v",
           "showlegend": false,
           "type": "scatter",
           "x": [
            -37.79701120605514
           ],
           "xaxis": "x",
           "y": [
            3157.197964966547
           ],
           "yaxis": "y"
          }
         ],
         "name": "2023-05-24 14:18:47.140552"
        },
        {
         "data": [
          {
           "hovertemplate": "timestamp=2023-05-24 14:18:47.528731<br>x=%{x}<br>y=%{y}<extra></extra>",
           "legendgroup": "",
           "marker": {
            "color": "#636efa",
            "symbol": "circle"
           },
           "mode": "markers",
           "name": "",
           "orientation": "v",
           "showlegend": false,
           "type": "scatter",
           "x": [
            30.678906805016055
           ],
           "xaxis": "x",
           "y": [
            3129.160076668816
           ],
           "yaxis": "y"
          }
         ],
         "name": "2023-05-24 14:18:47.528731"
        },
        {
         "data": [
          {
           "hovertemplate": "timestamp=2023-05-24 14:18:47.918672<br>x=%{x}<br>y=%{y}<extra></extra>",
           "legendgroup": "",
           "marker": {
            "color": "#636efa",
            "symbol": "circle"
           },
           "mode": "markers",
           "name": "",
           "orientation": "v",
           "showlegend": false,
           "type": "scatter",
           "x": [
            47.241845781639675
           ],
           "xaxis": "x",
           "y": [
            3146.8759797185685
           ],
           "yaxis": "y"
          }
         ],
         "name": "2023-05-24 14:18:47.918672"
        },
        {
         "data": [
          {
           "hovertemplate": "timestamp=2023-05-24 14:18:48.308656<br>x=%{x}<br>y=%{y}<extra></extra>",
           "legendgroup": "",
           "marker": {
            "color": "#636efa",
            "symbol": "circle"
           },
           "mode": "markers",
           "name": "",
           "orientation": "v",
           "showlegend": false,
           "type": "scatter",
           "x": [
            48.62521541600852
           ],
           "xaxis": "x",
           "y": [
            3139.6046746069255
           ],
           "yaxis": "y"
          }
         ],
         "name": "2023-05-24 14:18:48.308656"
        },
        {
         "data": [
          {
           "hovertemplate": "timestamp=2023-05-24 14:18:48.696638<br>x=%{x}<br>y=%{y}<extra></extra>",
           "legendgroup": "",
           "marker": {
            "color": "#636efa",
            "symbol": "circle"
           },
           "mode": "markers",
           "name": "",
           "orientation": "v",
           "showlegend": false,
           "type": "scatter",
           "x": [
            -0.956778595265741
           ],
           "xaxis": "x",
           "y": [
            3172.9774107552
           ],
           "yaxis": "y"
          }
         ],
         "name": "2023-05-24 14:18:48.696638"
        },
        {
         "data": [
          {
           "hovertemplate": "timestamp=2023-05-24 14:18:49.087711<br>x=%{x}<br>y=%{y}<extra></extra>",
           "legendgroup": "",
           "marker": {
            "color": "#636efa",
            "symbol": "circle"
           },
           "mode": "markers",
           "name": "",
           "orientation": "v",
           "showlegend": false,
           "type": "scatter",
           "x": [
            9.555575364829105
           ],
           "xaxis": "x",
           "y": [
            3148.1560565579416
           ],
           "yaxis": "y"
          }
         ],
         "name": "2023-05-24 14:18:49.087711"
        },
        {
         "data": [
          {
           "hovertemplate": "timestamp=2023-05-24 14:18:49.477717<br>x=%{x}<br>y=%{y}<extra></extra>",
           "legendgroup": "",
           "marker": {
            "color": "#636efa",
            "symbol": "circle"
           },
           "mode": "markers",
           "name": "",
           "orientation": "v",
           "showlegend": false,
           "type": "scatter",
           "x": [
            22.088535078678696
           ],
           "xaxis": "x",
           "y": [
            3150.6689374250677
           ],
           "yaxis": "y"
          }
         ],
         "name": "2023-05-24 14:18:49.477717"
        },
        {
         "data": [
          {
           "hovertemplate": "timestamp=2023-05-24 14:18:49.867727<br>x=%{x}<br>y=%{y}<extra></extra>",
           "legendgroup": "",
           "marker": {
            "color": "#636efa",
            "symbol": "circle"
           },
           "mode": "markers",
           "name": "",
           "orientation": "v",
           "showlegend": false,
           "type": "scatter",
           "x": [
            40.863457541575265
           ],
           "xaxis": "x",
           "y": [
            3122.6072420814985
           ],
           "yaxis": "y"
          }
         ],
         "name": "2023-05-24 14:18:49.867727"
        },
        {
         "data": [
          {
           "hovertemplate": "timestamp=2023-05-24 14:18:50.257658<br>x=%{x}<br>y=%{y}<extra></extra>",
           "legendgroup": "",
           "marker": {
            "color": "#636efa",
            "symbol": "circle"
           },
           "mode": "markers",
           "name": "",
           "orientation": "v",
           "showlegend": false,
           "type": "scatter",
           "x": [
            24.075486615401218
           ],
           "xaxis": "x",
           "y": [
            3120.2721550850447
           ],
           "yaxis": "y"
          }
         ],
         "name": "2023-05-24 14:18:50.257658"
        },
        {
         "data": [
          {
           "hovertemplate": "timestamp=2023-05-24 14:18:50.645386<br>x=%{x}<br>y=%{y}<extra></extra>",
           "legendgroup": "",
           "marker": {
            "color": "#636efa",
            "symbol": "circle"
           },
           "mode": "markers",
           "name": "",
           "orientation": "v",
           "showlegend": false,
           "type": "scatter",
           "x": [
            32.18019111469114
           ],
           "xaxis": "x",
           "y": [
            3074.6534243424057
           ],
           "yaxis": "y"
          }
         ],
         "name": "2023-05-24 14:18:50.645386"
        },
        {
         "data": [
          {
           "hovertemplate": "timestamp=2023-05-24 14:18:51.039605<br>x=%{x}<br>y=%{y}<extra></extra>",
           "legendgroup": "",
           "marker": {
            "color": "#636efa",
            "symbol": "circle"
           },
           "mode": "markers",
           "name": "",
           "orientation": "v",
           "showlegend": false,
           "type": "scatter",
           "x": [
            150.4029734035367
           ],
           "xaxis": "x",
           "y": [
            2759.5984670276184
           ],
           "yaxis": "y"
          }
         ],
         "name": "2023-05-24 14:18:51.039605"
        },
        {
         "data": [
          {
           "hovertemplate": "timestamp=2023-05-24 14:18:51.425663<br>x=%{x}<br>y=%{y}<extra></extra>",
           "legendgroup": "",
           "marker": {
            "color": "#636efa",
            "symbol": "circle"
           },
           "mode": "markers",
           "name": "",
           "orientation": "v",
           "showlegend": false,
           "type": "scatter",
           "x": [
            252.2304125098206
           ],
           "xaxis": "x",
           "y": [
            2548.026835407929
           ],
           "yaxis": "y"
          }
         ],
         "name": "2023-05-24 14:18:51.425663"
        },
        {
         "data": [
          {
           "hovertemplate": "timestamp=2023-05-24 14:18:51.815680<br>x=%{x}<br>y=%{y}<extra></extra>",
           "legendgroup": "",
           "marker": {
            "color": "#636efa",
            "symbol": "circle"
           },
           "mode": "markers",
           "name": "",
           "orientation": "v",
           "showlegend": false,
           "type": "scatter",
           "x": [
            328.81274362563266
           ],
           "xaxis": "x",
           "y": [
            2343.1365196940533
           ],
           "yaxis": "y"
          }
         ],
         "name": "2023-05-24 14:18:51.815680"
        },
        {
         "data": [
          {
           "hovertemplate": "timestamp=2023-05-24 14:18:52.208972<br>x=%{x}<br>y=%{y}<extra></extra>",
           "legendgroup": "",
           "marker": {
            "color": "#636efa",
            "symbol": "circle"
           },
           "mode": "markers",
           "name": "",
           "orientation": "v",
           "showlegend": false,
           "type": "scatter",
           "x": [
            284.18902742450393
           ],
           "xaxis": "x",
           "y": [
            2461.7485040089364
           ],
           "yaxis": "y"
          }
         ],
         "name": "2023-05-24 14:18:52.208972"
        },
        {
         "data": [
          {
           "hovertemplate": "timestamp=2023-05-24 14:18:52.595666<br>x=%{x}<br>y=%{y}<extra></extra>",
           "legendgroup": "",
           "marker": {
            "color": "#636efa",
            "symbol": "circle"
           },
           "mode": "markers",
           "name": "",
           "orientation": "v",
           "showlegend": false,
           "type": "scatter",
           "x": [
            315.427497450068
           ],
           "xaxis": "x",
           "y": [
            2400.9855659692166
           ],
           "yaxis": "y"
          }
         ],
         "name": "2023-05-24 14:18:52.595666"
        },
        {
         "data": [
          {
           "hovertemplate": "timestamp=2023-05-24 14:18:52.987187<br>x=%{x}<br>y=%{y}<extra></extra>",
           "legendgroup": "",
           "marker": {
            "color": "#636efa",
            "symbol": "circle"
           },
           "mode": "markers",
           "name": "",
           "orientation": "v",
           "showlegend": false,
           "type": "scatter",
           "x": [
            338.5760693264493
           ],
           "xaxis": "x",
           "y": [
            2353.3926138565853
           ],
           "yaxis": "y"
          }
         ],
         "name": "2023-05-24 14:18:52.987187"
        },
        {
         "data": [
          {
           "hovertemplate": "timestamp=2023-05-24 14:18:53.376778<br>x=%{x}<br>y=%{y}<extra></extra>",
           "legendgroup": "",
           "marker": {
            "color": "#636efa",
            "symbol": "circle"
           },
           "mode": "markers",
           "name": "",
           "orientation": "v",
           "showlegend": false,
           "type": "scatter",
           "x": [
            411.4866239276767
           ],
           "xaxis": "x",
           "y": [
            2192.7586808763
           ],
           "yaxis": "y"
          }
         ],
         "name": "2023-05-24 14:18:53.376778"
        },
        {
         "data": [
          {
           "hovertemplate": "timestamp=2023-05-24 14:18:53.765941<br>x=%{x}<br>y=%{y}<extra></extra>",
           "legendgroup": "",
           "marker": {
            "color": "#636efa",
            "symbol": "circle"
           },
           "mode": "markers",
           "name": "",
           "orientation": "v",
           "showlegend": false,
           "type": "scatter",
           "x": [
            443.73415769218184
           ],
           "xaxis": "x",
           "y": [
            2070.9647410712187
           ],
           "yaxis": "y"
          }
         ],
         "name": "2023-05-24 14:18:53.765941"
        },
        {
         "data": [
          {
           "hovertemplate": "timestamp=2023-05-24 14:18:54.156255<br>x=%{x}<br>y=%{y}<extra></extra>",
           "legendgroup": "",
           "marker": {
            "color": "#636efa",
            "symbol": "circle"
           },
           "mode": "markers",
           "name": "",
           "orientation": "v",
           "showlegend": false,
           "type": "scatter",
           "x": [
            522.1764618300961
           ],
           "xaxis": "x",
           "y": [
            1893.2287527596607
           ],
           "yaxis": "y"
          }
         ],
         "name": "2023-05-24 14:18:54.156255"
        },
        {
         "data": [
          {
           "hovertemplate": "timestamp=2023-05-24 14:18:54.543177<br>x=%{x}<br>y=%{y}<extra></extra>",
           "legendgroup": "",
           "marker": {
            "color": "#636efa",
            "symbol": "circle"
           },
           "mode": "markers",
           "name": "",
           "orientation": "v",
           "showlegend": false,
           "type": "scatter",
           "x": [
            578.2787850227417
           ],
           "xaxis": "x",
           "y": [
            1719.001330686711
           ],
           "yaxis": "y"
          }
         ],
         "name": "2023-05-24 14:18:54.543177"
        },
        {
         "data": [
          {
           "hovertemplate": "timestamp=2023-05-24 14:18:54.933632<br>x=%{x}<br>y=%{y}<extra></extra>",
           "legendgroup": "",
           "marker": {
            "color": "#636efa",
            "symbol": "circle"
           },
           "mode": "markers",
           "name": "",
           "orientation": "v",
           "showlegend": false,
           "type": "scatter",
           "x": [
            634.2064768520204
           ],
           "xaxis": "x",
           "y": [
            1538.74475174376
           ],
           "yaxis": "y"
          }
         ],
         "name": "2023-05-24 14:18:54.933632"
        },
        {
         "data": [
          {
           "hovertemplate": "timestamp=2023-05-24 14:19:00.419236<br>x=%{x}<br>y=%{y}<extra></extra>",
           "legendgroup": "",
           "marker": {
            "color": "#636efa",
            "symbol": "circle"
           },
           "mode": "markers",
           "name": "",
           "orientation": "v",
           "showlegend": false,
           "type": "scatter",
           "x": [
            491.5212378248279
           ],
           "xaxis": "x",
           "y": [
            1374.170087447585
           ],
           "yaxis": "y"
          }
         ],
         "name": "2023-05-24 14:19:00.419236"
        },
        {
         "data": [
          {
           "hovertemplate": "timestamp=2023-05-24 14:19:00.807257<br>x=%{x}<br>y=%{y}<extra></extra>",
           "legendgroup": "",
           "marker": {
            "color": "#636efa",
            "symbol": "circle"
           },
           "mode": "markers",
           "name": "",
           "orientation": "v",
           "showlegend": false,
           "type": "scatter",
           "x": [
            710.995929575823
           ],
           "xaxis": "x",
           "y": [
            719.5389305053548
           ],
           "yaxis": "y"
          }
         ],
         "name": "2023-05-24 14:19:00.807257"
        },
        {
         "data": [
          {
           "hovertemplate": "timestamp=2023-05-24 14:19:01.197157<br>x=%{x}<br>y=%{y}<extra></extra>",
           "legendgroup": "",
           "marker": {
            "color": "#636efa",
            "symbol": "circle"
           },
           "mode": "markers",
           "name": "",
           "orientation": "v",
           "showlegend": false,
           "type": "scatter",
           "x": [
            806.4034093017858
           ],
           "xaxis": "x",
           "y": [
            16.568331209805056
           ],
           "yaxis": "y"
          }
         ],
         "name": "2023-05-24 14:19:01.197157"
        },
        {
         "data": [
          {
           "hovertemplate": "timestamp=2023-05-24 14:19:01.586633<br>x=%{x}<br>y=%{y}<extra></extra>",
           "legendgroup": "",
           "marker": {
            "color": "#636efa",
            "symbol": "circle"
           },
           "mode": "markers",
           "name": "",
           "orientation": "v",
           "showlegend": false,
           "type": "scatter",
           "x": [
            725.5133842222511
           ],
           "xaxis": "x",
           "y": [
            -1090.3772837500708
           ],
           "yaxis": "y"
          }
         ],
         "name": "2023-05-24 14:19:01.586633"
        },
        {
         "data": [
          {
           "hovertemplate": "timestamp=2023-05-24 14:19:01.978603<br>x=%{x}<br>y=%{y}<extra></extra>",
           "legendgroup": "",
           "marker": {
            "color": "#636efa",
            "symbol": "circle"
           },
           "mode": "markers",
           "name": "",
           "orientation": "v",
           "showlegend": false,
           "type": "scatter",
           "x": [
            551.6050711058748
           ],
           "xaxis": "x",
           "y": [
            -1535.325027404253
           ],
           "yaxis": "y"
          }
         ],
         "name": "2023-05-24 14:19:01.978603"
        },
        {
         "data": [
          {
           "hovertemplate": "timestamp=2023-05-24 14:19:02.367345<br>x=%{x}<br>y=%{y}<extra></extra>",
           "legendgroup": "",
           "marker": {
            "color": "#636efa",
            "symbol": "circle"
           },
           "mode": "markers",
           "name": "",
           "orientation": "v",
           "showlegend": false,
           "type": "scatter",
           "x": [
            416.06553422991993
           ],
           "xaxis": "x",
           "y": [
            -1826.1845139829031
           ],
           "yaxis": "y"
          }
         ],
         "name": "2023-05-24 14:19:02.367345"
        },
        {
         "data": [
          {
           "hovertemplate": "timestamp=2023-05-24 14:19:02.761185<br>x=%{x}<br>y=%{y}<extra></extra>",
           "legendgroup": "",
           "marker": {
            "color": "#636efa",
            "symbol": "circle"
           },
           "mode": "markers",
           "name": "",
           "orientation": "v",
           "showlegend": false,
           "type": "scatter",
           "x": [
            419.3869294930499
           ],
           "xaxis": "x",
           "y": [
            -1824.4901702577574
           ],
           "yaxis": "y"
          }
         ],
         "name": "2023-05-24 14:19:02.761185"
        },
        {
         "data": [
          {
           "hovertemplate": "timestamp=2023-05-24 14:19:03.149749<br>x=%{x}<br>y=%{y}<extra></extra>",
           "legendgroup": "",
           "marker": {
            "color": "#636efa",
            "symbol": "circle"
           },
           "mode": "markers",
           "name": "",
           "orientation": "v",
           "showlegend": false,
           "type": "scatter",
           "x": [
            443.3643123949243
           ],
           "xaxis": "x",
           "y": [
            -1743.4213296850385
           ],
           "yaxis": "y"
          }
         ],
         "name": "2023-05-24 14:19:03.149749"
        },
        {
         "data": [
          {
           "hovertemplate": "timestamp=2023-05-24 14:19:03.537813<br>x=%{x}<br>y=%{y}<extra></extra>",
           "legendgroup": "",
           "marker": {
            "color": "#636efa",
            "symbol": "circle"
           },
           "mode": "markers",
           "name": "",
           "orientation": "v",
           "showlegend": false,
           "type": "scatter",
           "x": [
            338.2437015058862
           ],
           "xaxis": "x",
           "y": [
            -1988.449113366176
           ],
           "yaxis": "y"
          }
         ],
         "name": "2023-05-24 14:19:03.537813"
        },
        {
         "data": [
          {
           "hovertemplate": "timestamp=2023-05-24 14:19:03.927477<br>x=%{x}<br>y=%{y}<extra></extra>",
           "legendgroup": "",
           "marker": {
            "color": "#636efa",
            "symbol": "circle"
           },
           "mode": "markers",
           "name": "",
           "orientation": "v",
           "showlegend": false,
           "type": "scatter",
           "x": [
            419.730066853756
           ],
           "xaxis": "x",
           "y": [
            -1790.0850779597847
           ],
           "yaxis": "y"
          }
         ],
         "name": "2023-05-24 14:19:03.927477"
        },
        {
         "data": [
          {
           "hovertemplate": "timestamp=2023-05-24 14:19:04.316504<br>x=%{x}<br>y=%{y}<extra></extra>",
           "legendgroup": "",
           "marker": {
            "color": "#636efa",
            "symbol": "circle"
           },
           "mode": "markers",
           "name": "",
           "orientation": "v",
           "showlegend": false,
           "type": "scatter",
           "x": [
            493.2029217018438
           ],
           "xaxis": "x",
           "y": [
            -1663.6222692316178
           ],
           "yaxis": "y"
          }
         ],
         "name": "2023-05-24 14:19:04.316504"
        },
        {
         "data": [
          {
           "hovertemplate": "timestamp=2023-05-24 14:19:04.708996<br>x=%{x}<br>y=%{y}<extra></extra>",
           "legendgroup": "",
           "marker": {
            "color": "#636efa",
            "symbol": "circle"
           },
           "mode": "markers",
           "name": "",
           "orientation": "v",
           "showlegend": false,
           "type": "scatter",
           "x": [
            632.1600538612395
           ],
           "xaxis": "x",
           "y": [
            -1345.7291983980267
           ],
           "yaxis": "y"
          }
         ],
         "name": "2023-05-24 14:19:04.708996"
        },
        {
         "data": [
          {
           "hovertemplate": "timestamp=2023-05-24 14:19:05.100097<br>x=%{x}<br>y=%{y}<extra></extra>",
           "legendgroup": "",
           "marker": {
            "color": "#636efa",
            "symbol": "circle"
           },
           "mode": "markers",
           "name": "",
           "orientation": "v",
           "showlegend": false,
           "type": "scatter",
           "x": [
            588.2102119743812
           ],
           "xaxis": "x",
           "y": [
            -1493.0817531340524
           ],
           "yaxis": "y"
          }
         ],
         "name": "2023-05-24 14:19:05.100097"
        },
        {
         "data": [
          {
           "hovertemplate": "timestamp=2023-05-24 14:19:05.485367<br>x=%{x}<br>y=%{y}<extra></extra>",
           "legendgroup": "",
           "marker": {
            "color": "#636efa",
            "symbol": "circle"
           },
           "mode": "markers",
           "name": "",
           "orientation": "v",
           "showlegend": false,
           "type": "scatter",
           "x": [
            665.074667705448
           ],
           "xaxis": "x",
           "y": [
            -1296.6968650294782
           ],
           "yaxis": "y"
          }
         ],
         "name": "2023-05-24 14:19:05.485367"
        },
        {
         "data": [
          {
           "hovertemplate": "timestamp=2023-05-24 14:19:05.879895<br>x=%{x}<br>y=%{y}<extra></extra>",
           "legendgroup": "",
           "marker": {
            "color": "#636efa",
            "symbol": "circle"
           },
           "mode": "markers",
           "name": "",
           "orientation": "v",
           "showlegend": false,
           "type": "scatter",
           "x": [
            672.1310808529527
           ],
           "xaxis": "x",
           "y": [
            -1297.0701669409827
           ],
           "yaxis": "y"
          }
         ],
         "name": "2023-05-24 14:19:05.879895"
        },
        {
         "data": [
          {
           "hovertemplate": "timestamp=2023-05-24 14:19:06.269240<br>x=%{x}<br>y=%{y}<extra></extra>",
           "legendgroup": "",
           "marker": {
            "color": "#636efa",
            "symbol": "circle"
           },
           "mode": "markers",
           "name": "",
           "orientation": "v",
           "showlegend": false,
           "type": "scatter",
           "x": [
            764.8341292985456
           ],
           "xaxis": "x",
           "y": [
            -1161.2578528184745
           ],
           "yaxis": "y"
          }
         ],
         "name": "2023-05-24 14:19:06.269240"
        },
        {
         "data": [
          {
           "hovertemplate": "timestamp=2023-05-24 14:19:06.659194<br>x=%{x}<br>y=%{y}<extra></extra>",
           "legendgroup": "",
           "marker": {
            "color": "#636efa",
            "symbol": "circle"
           },
           "mode": "markers",
           "name": "",
           "orientation": "v",
           "showlegend": false,
           "type": "scatter",
           "x": [
            838.3301452266402
           ],
           "xaxis": "x",
           "y": [
            -915.408054261555
           ],
           "yaxis": "y"
          }
         ],
         "name": "2023-05-24 14:19:06.659194"
        },
        {
         "data": [
          {
           "hovertemplate": "timestamp=2023-05-24 14:19:07.051173<br>x=%{x}<br>y=%{y}<extra></extra>",
           "legendgroup": "",
           "marker": {
            "color": "#636efa",
            "symbol": "circle"
           },
           "mode": "markers",
           "name": "",
           "orientation": "v",
           "showlegend": false,
           "type": "scatter",
           "x": [
            879.4064236890797
           ],
           "xaxis": "x",
           "y": [
            -678.0021093672754
           ],
           "yaxis": "y"
          }
         ],
         "name": "2023-05-24 14:19:07.051173"
        },
        {
         "data": [
          {
           "hovertemplate": "timestamp=2023-05-24 14:19:07.441794<br>x=%{x}<br>y=%{y}<extra></extra>",
           "legendgroup": "",
           "marker": {
            "color": "#636efa",
            "symbol": "circle"
           },
           "mode": "markers",
           "name": "",
           "orientation": "v",
           "showlegend": false,
           "type": "scatter",
           "x": [
            866.5209733797117
           ],
           "xaxis": "x",
           "y": [
            -410.006406255968
           ],
           "yaxis": "y"
          }
         ],
         "name": "2023-05-24 14:19:07.441794"
        },
        {
         "data": [
          {
           "hovertemplate": "timestamp=2023-05-24 14:19:07.830278<br>x=%{x}<br>y=%{y}<extra></extra>",
           "legendgroup": "",
           "marker": {
            "color": "#636efa",
            "symbol": "circle"
           },
           "mode": "markers",
           "name": "",
           "orientation": "v",
           "showlegend": false,
           "type": "scatter",
           "x": [
            843.6505612065778
           ],
           "xaxis": "x",
           "y": [
            -246.24564967804952
           ],
           "yaxis": "y"
          }
         ],
         "name": "2023-05-24 14:19:07.830278"
        },
        {
         "data": [
          {
           "hovertemplate": "timestamp=2023-05-24 14:19:08.219254<br>x=%{x}<br>y=%{y}<extra></extra>",
           "legendgroup": "",
           "marker": {
            "color": "#636efa",
            "symbol": "circle"
           },
           "mode": "markers",
           "name": "",
           "orientation": "v",
           "showlegend": false,
           "type": "scatter",
           "x": [
            843.3271798745527
           ],
           "xaxis": "x",
           "y": [
            -99.58087239201777
           ],
           "yaxis": "y"
          }
         ],
         "name": "2023-05-24 14:19:08.219254"
        },
        {
         "data": [
          {
           "hovertemplate": "timestamp=2023-05-24 14:19:08.606870<br>x=%{x}<br>y=%{y}<extra></extra>",
           "legendgroup": "",
           "marker": {
            "color": "#636efa",
            "symbol": "circle"
           },
           "mode": "markers",
           "name": "",
           "orientation": "v",
           "showlegend": false,
           "type": "scatter",
           "x": [
            868.0804977477717
           ],
           "xaxis": "x",
           "y": [
            -75.59853763127617
           ],
           "yaxis": "y"
          }
         ],
         "name": "2023-05-24 14:19:08.606870"
        },
        {
         "data": [
          {
           "hovertemplate": "timestamp=2023-05-24 14:19:08.998858<br>x=%{x}<br>y=%{y}<extra></extra>",
           "legendgroup": "",
           "marker": {
            "color": "#636efa",
            "symbol": "circle"
           },
           "mode": "markers",
           "name": "",
           "orientation": "v",
           "showlegend": false,
           "type": "scatter",
           "x": [
            904.3423318378141
           ],
           "xaxis": "x",
           "y": [
            -65.55402689016053
           ],
           "yaxis": "y"
          }
         ],
         "name": "2023-05-24 14:19:08.998858"
        },
        {
         "data": [
          {
           "hovertemplate": "timestamp=2023-05-24 14:19:09.957747<br>x=%{x}<br>y=%{y}<extra></extra>",
           "legendgroup": "",
           "marker": {
            "color": "#636efa",
            "symbol": "circle"
           },
           "mode": "markers",
           "name": "",
           "orientation": "v",
           "showlegend": false,
           "type": "scatter",
           "x": [
            -468.08572397328015
           ],
           "xaxis": "x",
           "y": [
            1965.1023106693954
           ],
           "yaxis": "y"
          }
         ],
         "name": "2023-05-24 14:19:09.957747"
        },
        {
         "data": [
          {
           "hovertemplate": "timestamp=2023-05-24 14:19:10.346062<br>x=%{x}<br>y=%{y}<extra></extra>",
           "legendgroup": "",
           "marker": {
            "color": "#636efa",
            "symbol": "circle"
           },
           "mode": "markers",
           "name": "",
           "orientation": "v",
           "showlegend": false,
           "type": "scatter",
           "x": [
            -570.2076060158772
           ],
           "xaxis": "x",
           "y": [
            2061.7901877722725
           ],
           "yaxis": "y"
          }
         ],
         "name": "2023-05-24 14:19:10.346062"
        },
        {
         "data": [
          {
           "hovertemplate": "timestamp=2023-05-24 14:19:10.734952<br>x=%{x}<br>y=%{y}<extra></extra>",
           "legendgroup": "",
           "marker": {
            "color": "#636efa",
            "symbol": "circle"
           },
           "mode": "markers",
           "name": "",
           "orientation": "v",
           "showlegend": false,
           "type": "scatter",
           "x": [
            -659.8823956476903
           ],
           "xaxis": "x",
           "y": [
            2140.3699006620313
           ],
           "yaxis": "y"
          }
         ],
         "name": "2023-05-24 14:19:10.734952"
        },
        {
         "data": [
          {
           "hovertemplate": "timestamp=2023-05-24 14:19:11.127843<br>x=%{x}<br>y=%{y}<extra></extra>",
           "legendgroup": "",
           "marker": {
            "color": "#636efa",
            "symbol": "circle"
           },
           "mode": "markers",
           "name": "",
           "orientation": "v",
           "showlegend": false,
           "type": "scatter",
           "x": [
            891.2636868765786
           ],
           "xaxis": "x",
           "y": [
            204.6759198780485
           ],
           "yaxis": "y"
          }
         ],
         "name": "2023-05-24 14:19:11.127843"
        },
        {
         "data": [
          {
           "hovertemplate": "timestamp=2023-05-24 14:19:11.515501<br>x=%{x}<br>y=%{y}<extra></extra>",
           "legendgroup": "",
           "marker": {
            "color": "#636efa",
            "symbol": "circle"
           },
           "mode": "markers",
           "name": "",
           "orientation": "v",
           "showlegend": false,
           "type": "scatter",
           "x": [
            888.5658008616867
           ],
           "xaxis": "x",
           "y": [
            213.17688401585235
           ],
           "yaxis": "y"
          }
         ],
         "name": "2023-05-24 14:19:11.515501"
        },
        {
         "data": [
          {
           "hovertemplate": "timestamp=2023-05-24 14:19:11.909159<br>x=%{x}<br>y=%{y}<extra></extra>",
           "legendgroup": "",
           "marker": {
            "color": "#636efa",
            "symbol": "circle"
           },
           "mode": "markers",
           "name": "",
           "orientation": "v",
           "showlegend": false,
           "type": "scatter",
           "x": [
            878.6623308128193
           ],
           "xaxis": "x",
           "y": [
            271.6842521006808
           ],
           "yaxis": "y"
          }
         ],
         "name": "2023-05-24 14:19:11.909159"
        },
        {
         "data": [
          {
           "hovertemplate": "timestamp=2023-05-24 14:19:12.299560<br>x=%{x}<br>y=%{y}<extra></extra>",
           "legendgroup": "",
           "marker": {
            "color": "#636efa",
            "symbol": "circle"
           },
           "mode": "markers",
           "name": "",
           "orientation": "v",
           "showlegend": false,
           "type": "scatter",
           "x": [
            853.9855204609308
           ],
           "xaxis": "x",
           "y": [
            431.55111857639645
           ],
           "yaxis": "y"
          }
         ],
         "name": "2023-05-24 14:19:12.299560"
        },
        {
         "data": [
          {
           "hovertemplate": "timestamp=2023-05-24 14:19:12.685976<br>x=%{x}<br>y=%{y}<extra></extra>",
           "legendgroup": "",
           "marker": {
            "color": "#636efa",
            "symbol": "circle"
           },
           "mode": "markers",
           "name": "",
           "orientation": "v",
           "showlegend": false,
           "type": "scatter",
           "x": [
            818.2944924704261
           ],
           "xaxis": "x",
           "y": [
            610.4734834980536
           ],
           "yaxis": "y"
          }
         ],
         "name": "2023-05-24 14:19:12.685976"
        },
        {
         "data": [
          {
           "hovertemplate": "timestamp=2023-05-24 14:19:13.073237<br>x=%{x}<br>y=%{y}<extra></extra>",
           "legendgroup": "",
           "marker": {
            "color": "#636efa",
            "symbol": "circle"
           },
           "mode": "markers",
           "name": "",
           "orientation": "v",
           "showlegend": false,
           "type": "scatter",
           "x": [
            785.2153927787662
           ],
           "xaxis": "x",
           "y": [
            802.7420619133532
           ],
           "yaxis": "y"
          }
         ],
         "name": "2023-05-24 14:19:13.073237"
        },
        {
         "data": [
          {
           "hovertemplate": "timestamp=2023-05-24 14:19:13.464262<br>x=%{x}<br>y=%{y}<extra></extra>",
           "legendgroup": "",
           "marker": {
            "color": "#636efa",
            "symbol": "circle"
           },
           "mode": "markers",
           "name": "",
           "orientation": "v",
           "showlegend": false,
           "type": "scatter",
           "x": [
            756.1684117734246
           ],
           "xaxis": "x",
           "y": [
            930.8859705811637
           ],
           "yaxis": "y"
          }
         ],
         "name": "2023-05-24 14:19:13.464262"
        },
        {
         "data": [
          {
           "hovertemplate": "timestamp=2023-05-24 14:19:13.859992<br>x=%{x}<br>y=%{y}<extra></extra>",
           "legendgroup": "",
           "marker": {
            "color": "#636efa",
            "symbol": "circle"
           },
           "mode": "markers",
           "name": "",
           "orientation": "v",
           "showlegend": false,
           "type": "scatter",
           "x": [
            732.6951905038151
           ],
           "xaxis": "x",
           "y": [
            1047.918893623754
           ],
           "yaxis": "y"
          }
         ],
         "name": "2023-05-24 14:19:13.859992"
        },
        {
         "data": [
          {
           "hovertemplate": "timestamp=2023-05-24 14:19:14.244608<br>x=%{x}<br>y=%{y}<extra></extra>",
           "legendgroup": "",
           "marker": {
            "color": "#636efa",
            "symbol": "circle"
           },
           "mode": "markers",
           "name": "",
           "orientation": "v",
           "showlegend": false,
           "type": "scatter",
           "x": [
            705.9985468308801
           ],
           "xaxis": "x",
           "y": [
            1135.3182718688333
           ],
           "yaxis": "y"
          }
         ],
         "name": "2023-05-24 14:19:14.244608"
        },
        {
         "data": [
          {
           "hovertemplate": "timestamp=2023-05-24 14:19:14.633253<br>x=%{x}<br>y=%{y}<extra></extra>",
           "legendgroup": "",
           "marker": {
            "color": "#636efa",
            "symbol": "circle"
           },
           "mode": "markers",
           "name": "",
           "orientation": "v",
           "showlegend": false,
           "type": "scatter",
           "x": [
            696.6153929652793
           ],
           "xaxis": "x",
           "y": [
            1203.1176782435411
           ],
           "yaxis": "y"
          }
         ],
         "name": "2023-05-24 14:19:14.633253"
        },
        {
         "data": [
          {
           "hovertemplate": "timestamp=2023-05-24 14:19:15.028379<br>x=%{x}<br>y=%{y}<extra></extra>",
           "legendgroup": "",
           "marker": {
            "color": "#636efa",
            "symbol": "circle"
           },
           "mode": "markers",
           "name": "",
           "orientation": "v",
           "showlegend": false,
           "type": "scatter",
           "x": [
            673.610842415875
           ],
           "xaxis": "x",
           "y": [
            1289.0174858532412
           ],
           "yaxis": "y"
          }
         ],
         "name": "2023-05-24 14:19:15.028379"
        },
        {
         "data": [
          {
           "hovertemplate": "timestamp=2023-05-24 14:19:15.411647<br>x=%{x}<br>y=%{y}<extra></extra>",
           "legendgroup": "",
           "marker": {
            "color": "#636efa",
            "symbol": "circle"
           },
           "mode": "markers",
           "name": "",
           "orientation": "v",
           "showlegend": false,
           "type": "scatter",
           "x": [
            678.0103458709484
           ],
           "xaxis": "x",
           "y": [
            1377.9332112731818
           ],
           "yaxis": "y"
          }
         ],
         "name": "2023-05-24 14:19:15.411647"
        },
        {
         "data": [
          {
           "hovertemplate": "timestamp=2023-05-24 14:19:15.804041<br>x=%{x}<br>y=%{y}<extra></extra>",
           "legendgroup": "",
           "marker": {
            "color": "#636efa",
            "symbol": "circle"
           },
           "mode": "markers",
           "name": "",
           "orientation": "v",
           "showlegend": false,
           "type": "scatter",
           "x": [
            661.2986431166761
           ],
           "xaxis": "x",
           "y": [
            1495.0910086703816
           ],
           "yaxis": "y"
          }
         ],
         "name": "2023-05-24 14:19:15.804041"
        },
        {
         "data": [
          {
           "hovertemplate": "timestamp=2023-05-24 14:19:16.193905<br>x=%{x}<br>y=%{y}<extra></extra>",
           "legendgroup": "",
           "marker": {
            "color": "#636efa",
            "symbol": "circle"
           },
           "mode": "markers",
           "name": "",
           "orientation": "v",
           "showlegend": false,
           "type": "scatter",
           "x": [
            640.5307524395118
           ],
           "xaxis": "x",
           "y": [
            1627.284711154748
           ],
           "yaxis": "y"
          }
         ],
         "name": "2023-05-24 14:19:16.193905"
        },
        {
         "data": [
          {
           "hovertemplate": "timestamp=2023-05-24 14:19:16.582379<br>x=%{x}<br>y=%{y}<extra></extra>",
           "legendgroup": "",
           "marker": {
            "color": "#636efa",
            "symbol": "circle"
           },
           "mode": "markers",
           "name": "",
           "orientation": "v",
           "showlegend": false,
           "type": "scatter",
           "x": [
            587.7796293384101
           ],
           "xaxis": "x",
           "y": [
            1786.3365160349217
           ],
           "yaxis": "y"
          }
         ],
         "name": "2023-05-24 14:19:16.582379"
        },
        {
         "data": [
          {
           "hovertemplate": "timestamp=2023-05-24 14:19:16.969382<br>x=%{x}<br>y=%{y}<extra></extra>",
           "legendgroup": "",
           "marker": {
            "color": "#636efa",
            "symbol": "circle"
           },
           "mode": "markers",
           "name": "",
           "orientation": "v",
           "showlegend": false,
           "type": "scatter",
           "x": [
            541.3381595999282
           ],
           "xaxis": "x",
           "y": [
            1931.6362722256558
           ],
           "yaxis": "y"
          }
         ],
         "name": "2023-05-24 14:19:16.969382"
        },
        {
         "data": [
          {
           "hovertemplate": "timestamp=2023-05-24 14:19:17.359363<br>x=%{x}<br>y=%{y}<extra></extra>",
           "legendgroup": "",
           "marker": {
            "color": "#636efa",
            "symbol": "circle"
           },
           "mode": "markers",
           "name": "",
           "orientation": "v",
           "showlegend": false,
           "type": "scatter",
           "x": [
            501.44505737145533
           ],
           "xaxis": "x",
           "y": [
            2065.2596671650595
           ],
           "yaxis": "y"
          }
         ],
         "name": "2023-05-24 14:19:17.359363"
        },
        {
         "data": [
          {
           "hovertemplate": "timestamp=2023-05-24 14:19:17.752079<br>x=%{x}<br>y=%{y}<extra></extra>",
           "legendgroup": "",
           "marker": {
            "color": "#636efa",
            "symbol": "circle"
           },
           "mode": "markers",
           "name": "",
           "orientation": "v",
           "showlegend": false,
           "type": "scatter",
           "x": [
            444.49430046610127
           ],
           "xaxis": "x",
           "y": [
            2190.710487647017
           ],
           "yaxis": "y"
          }
         ],
         "name": "2023-05-24 14:19:17.752079"
        },
        {
         "data": [
          {
           "hovertemplate": "timestamp=2023-05-24 14:19:18.140822<br>x=%{x}<br>y=%{y}<extra></extra>",
           "legendgroup": "",
           "marker": {
            "color": "#636efa",
            "symbol": "circle"
           },
           "mode": "markers",
           "name": "",
           "orientation": "v",
           "showlegend": false,
           "type": "scatter",
           "x": [
            396.03271229131957
           ],
           "xaxis": "x",
           "y": [
            2294.018660259002
           ],
           "yaxis": "y"
          }
         ],
         "name": "2023-05-24 14:19:18.140822"
        },
        {
         "data": [
          {
           "hovertemplate": "timestamp=2023-05-24 14:19:18.533388<br>x=%{x}<br>y=%{y}<extra></extra>",
           "legendgroup": "",
           "marker": {
            "color": "#636efa",
            "symbol": "circle"
           },
           "mode": "markers",
           "name": "",
           "orientation": "v",
           "showlegend": false,
           "type": "scatter",
           "x": [
            329.943381382433
           ],
           "xaxis": "x",
           "y": [
            2436.7773337163544
           ],
           "yaxis": "y"
          }
         ],
         "name": "2023-05-24 14:19:18.533388"
        },
        {
         "data": [
          {
           "hovertemplate": "timestamp=2023-05-24 14:19:18.924996<br>x=%{x}<br>y=%{y}<extra></extra>",
           "legendgroup": "",
           "marker": {
            "color": "#636efa",
            "symbol": "circle"
           },
           "mode": "markers",
           "name": "",
           "orientation": "v",
           "showlegend": false,
           "type": "scatter",
           "x": [
            372.7590994433544
           ],
           "xaxis": "x",
           "y": [
            2400.6632498115846
           ],
           "yaxis": "y"
          }
         ],
         "name": "2023-05-24 14:19:18.924996"
        },
        {
         "data": [
          {
           "hovertemplate": "timestamp=2023-05-24 14:19:19.316727<br>x=%{x}<br>y=%{y}<extra></extra>",
           "legendgroup": "",
           "marker": {
            "color": "#636efa",
            "symbol": "circle"
           },
           "mode": "markers",
           "name": "",
           "orientation": "v",
           "showlegend": false,
           "type": "scatter",
           "x": [
            380.08897183110724
           ],
           "xaxis": "x",
           "y": [
            2413.451561172028
           ],
           "yaxis": "y"
          }
         ],
         "name": "2023-05-24 14:19:19.316727"
        },
        {
         "data": [
          {
           "hovertemplate": "timestamp=2023-05-24 14:19:19.706549<br>x=%{x}<br>y=%{y}<extra></extra>",
           "legendgroup": "",
           "marker": {
            "color": "#636efa",
            "symbol": "circle"
           },
           "mode": "markers",
           "name": "",
           "orientation": "v",
           "showlegend": false,
           "type": "scatter",
           "x": [
            421.91350429721757
           ],
           "xaxis": "x",
           "y": [
            2360.488905917139
           ],
           "yaxis": "y"
          }
         ],
         "name": "2023-05-24 14:19:19.706549"
        },
        {
         "data": [
          {
           "hovertemplate": "timestamp=2023-05-24 14:19:20.098610<br>x=%{x}<br>y=%{y}<extra></extra>",
           "legendgroup": "",
           "marker": {
            "color": "#636efa",
            "symbol": "circle"
           },
           "mode": "markers",
           "name": "",
           "orientation": "v",
           "showlegend": false,
           "type": "scatter",
           "x": [
            373.90352980372944
           ],
           "xaxis": "x",
           "y": [
            2419.6499977835856
           ],
           "yaxis": "y"
          }
         ],
         "name": "2023-05-24 14:19:20.098610"
        },
        {
         "data": [
          {
           "hovertemplate": "timestamp=2023-05-24 14:19:20.486345<br>x=%{x}<br>y=%{y}<extra></extra>",
           "legendgroup": "",
           "marker": {
            "color": "#636efa",
            "symbol": "circle"
           },
           "mode": "markers",
           "name": "",
           "orientation": "v",
           "showlegend": false,
           "type": "scatter",
           "x": [
            304.13729039147967
           ],
           "xaxis": "x",
           "y": [
            2602.983845012893
           ],
           "yaxis": "y"
          }
         ],
         "name": "2023-05-24 14:19:20.486345"
        },
        {
         "data": [
          {
           "hovertemplate": "timestamp=2023-05-24 14:19:20.880156<br>x=%{x}<br>y=%{y}<extra></extra>",
           "legendgroup": "",
           "marker": {
            "color": "#636efa",
            "symbol": "circle"
           },
           "mode": "markers",
           "name": "",
           "orientation": "v",
           "showlegend": false,
           "type": "scatter",
           "x": [
            225.38054258778075
           ],
           "xaxis": "x",
           "y": [
            2771.4342464428523
           ],
           "yaxis": "y"
          }
         ],
         "name": "2023-05-24 14:19:20.880156"
        },
        {
         "data": [
          {
           "hovertemplate": "timestamp=2023-05-24 14:19:21.266697<br>x=%{x}<br>y=%{y}<extra></extra>",
           "legendgroup": "",
           "marker": {
            "color": "#636efa",
            "symbol": "circle"
           },
           "mode": "markers",
           "name": "",
           "orientation": "v",
           "showlegend": false,
           "type": "scatter",
           "x": [
            136.32707268728393
           ],
           "xaxis": "x",
           "y": [
            2989.3000365950747
           ],
           "yaxis": "y"
          }
         ],
         "name": "2023-05-24 14:19:21.266697"
        },
        {
         "data": [
          {
           "hovertemplate": "timestamp=2023-05-24 14:19:21.653950<br>x=%{x}<br>y=%{y}<extra></extra>",
           "legendgroup": "",
           "marker": {
            "color": "#636efa",
            "symbol": "circle"
           },
           "mode": "markers",
           "name": "",
           "orientation": "v",
           "showlegend": false,
           "type": "scatter",
           "x": [
            160.62590921436
           ],
           "xaxis": "x",
           "y": [
            2984.8103401228614
           ],
           "yaxis": "y"
          }
         ],
         "name": "2023-05-24 14:19:21.653950"
        },
        {
         "data": [
          {
           "hovertemplate": "timestamp=2023-05-24 14:19:22.045422<br>x=%{x}<br>y=%{y}<extra></extra>",
           "legendgroup": "",
           "marker": {
            "color": "#636efa",
            "symbol": "circle"
           },
           "mode": "markers",
           "name": "",
           "orientation": "v",
           "showlegend": false,
           "type": "scatter",
           "x": [
            121.34250633677945
           ],
           "xaxis": "x",
           "y": [
            3017.6919443496604
           ],
           "yaxis": "y"
          }
         ],
         "name": "2023-05-24 14:19:22.045422"
        },
        {
         "data": [
          {
           "hovertemplate": "timestamp=2023-05-24 14:19:22.438068<br>x=%{x}<br>y=%{y}<extra></extra>",
           "legendgroup": "",
           "marker": {
            "color": "#636efa",
            "symbol": "circle"
           },
           "mode": "markers",
           "name": "",
           "orientation": "v",
           "showlegend": false,
           "type": "scatter",
           "x": [
            173.62439211376196
           ],
           "xaxis": "x",
           "y": [
            3004.335440796223
           ],
           "yaxis": "y"
          }
         ],
         "name": "2023-05-24 14:19:22.438068"
        },
        {
         "data": [
          {
           "hovertemplate": "timestamp=2023-05-24 14:19:22.828317<br>x=%{x}<br>y=%{y}<extra></extra>",
           "legendgroup": "",
           "marker": {
            "color": "#636efa",
            "symbol": "circle"
           },
           "mode": "markers",
           "name": "",
           "orientation": "v",
           "showlegend": false,
           "type": "scatter",
           "x": [
            132.6455076061085
           ],
           "xaxis": "x",
           "y": [
            3019.2438576608874
           ],
           "yaxis": "y"
          }
         ],
         "name": "2023-05-24 14:19:22.828317"
        },
        {
         "data": [
          {
           "hovertemplate": "timestamp=2023-05-24 14:19:23.219181<br>x=%{x}<br>y=%{y}<extra></extra>",
           "legendgroup": "",
           "marker": {
            "color": "#636efa",
            "symbol": "circle"
           },
           "mode": "markers",
           "name": "",
           "orientation": "v",
           "showlegend": false,
           "type": "scatter",
           "x": [
            204.35992486297104
           ],
           "xaxis": "x",
           "y": [
            2959.7526643020537
           ],
           "yaxis": "y"
          }
         ],
         "name": "2023-05-24 14:19:23.219181"
        },
        {
         "data": [
          {
           "hovertemplate": "timestamp=2023-05-24 14:19:23.611168<br>x=%{x}<br>y=%{y}<extra></extra>",
           "legendgroup": "",
           "marker": {
            "color": "#636efa",
            "symbol": "circle"
           },
           "mode": "markers",
           "name": "",
           "orientation": "v",
           "showlegend": false,
           "type": "scatter",
           "x": [
            244.11457954252475
           ],
           "xaxis": "x",
           "y": [
            2918.0895919508816
           ],
           "yaxis": "y"
          }
         ],
         "name": "2023-05-24 14:19:23.611168"
        },
        {
         "data": [
          {
           "hovertemplate": "timestamp=2023-05-24 14:19:24.002057<br>x=%{x}<br>y=%{y}<extra></extra>",
           "legendgroup": "",
           "marker": {
            "color": "#636efa",
            "symbol": "circle"
           },
           "mode": "markers",
           "name": "",
           "orientation": "v",
           "showlegend": false,
           "type": "scatter",
           "x": [
            414.8992355343529
           ],
           "xaxis": "x",
           "y": [
            2853.92607190082
           ],
           "yaxis": "y"
          }
         ],
         "name": "2023-05-24 14:19:24.002057"
        },
        {
         "data": [
          {
           "hovertemplate": "timestamp=2023-05-24 14:19:24.391271<br>x=%{x}<br>y=%{y}<extra></extra>",
           "legendgroup": "",
           "marker": {
            "color": "#636efa",
            "symbol": "circle"
           },
           "mode": "markers",
           "name": "",
           "orientation": "v",
           "showlegend": false,
           "type": "scatter",
           "x": [
            544.6039694007063
           ],
           "xaxis": "x",
           "y": [
            2775.600829893951
           ],
           "yaxis": "y"
          }
         ],
         "name": "2023-05-24 14:19:24.391271"
        },
        {
         "data": [
          {
           "hovertemplate": "timestamp=2023-05-24 14:19:24.784989<br>x=%{x}<br>y=%{y}<extra></extra>",
           "legendgroup": "",
           "marker": {
            "color": "#636efa",
            "symbol": "circle"
           },
           "mode": "markers",
           "name": "",
           "orientation": "v",
           "showlegend": false,
           "type": "scatter",
           "x": [
            617.6058872876877
           ],
           "xaxis": "x",
           "y": [
            2765.3708420463154
           ],
           "yaxis": "y"
          }
         ],
         "name": "2023-05-24 14:19:24.784989"
        },
        {
         "data": [
          {
           "hovertemplate": "timestamp=2023-05-24 14:19:25.173560<br>x=%{x}<br>y=%{y}<extra></extra>",
           "legendgroup": "",
           "marker": {
            "color": "#636efa",
            "symbol": "circle"
           },
           "mode": "markers",
           "name": "",
           "orientation": "v",
           "showlegend": false,
           "type": "scatter",
           "x": [
            641.2267574388667
           ],
           "xaxis": "x",
           "y": [
            2736.1184531932568
           ],
           "yaxis": "y"
          }
         ],
         "name": "2023-05-24 14:19:25.173560"
        },
        {
         "data": [
          {
           "hovertemplate": "timestamp=2023-05-24 14:19:25.563660<br>x=%{x}<br>y=%{y}<extra></extra>",
           "legendgroup": "",
           "marker": {
            "color": "#636efa",
            "symbol": "circle"
           },
           "mode": "markers",
           "name": "",
           "orientation": "v",
           "showlegend": false,
           "type": "scatter",
           "x": [
            619.6448511473407
           ],
           "xaxis": "x",
           "y": [
            2809.9853939161712
           ],
           "yaxis": "y"
          }
         ],
         "name": "2023-05-24 14:19:25.563660"
        },
        {
         "data": [
          {
           "hovertemplate": "timestamp=2023-05-24 14:19:25.957685<br>x=%{x}<br>y=%{y}<extra></extra>",
           "legendgroup": "",
           "marker": {
            "color": "#636efa",
            "symbol": "circle"
           },
           "mode": "markers",
           "name": "",
           "orientation": "v",
           "showlegend": false,
           "type": "scatter",
           "x": [
            595.207037674323
           ],
           "xaxis": "x",
           "y": [
            2839.050631761454
           ],
           "yaxis": "y"
          }
         ],
         "name": "2023-05-24 14:19:25.957685"
        },
        {
         "data": [
          {
           "hovertemplate": "timestamp=2023-05-24 14:19:26.347688<br>x=%{x}<br>y=%{y}<extra></extra>",
           "legendgroup": "",
           "marker": {
            "color": "#636efa",
            "symbol": "circle"
           },
           "mode": "markers",
           "name": "",
           "orientation": "v",
           "showlegend": false,
           "type": "scatter",
           "x": [
            579.4513378895141
           ],
           "xaxis": "x",
           "y": [
            2839.0788454806434
           ],
           "yaxis": "y"
          }
         ],
         "name": "2023-05-24 14:19:26.347688"
        },
        {
         "data": [
          {
           "hovertemplate": "timestamp=2023-05-24 14:19:26.734587<br>x=%{x}<br>y=%{y}<extra></extra>",
           "legendgroup": "",
           "marker": {
            "color": "#636efa",
            "symbol": "circle"
           },
           "mode": "markers",
           "name": "",
           "orientation": "v",
           "showlegend": false,
           "type": "scatter",
           "x": [
            592.6789317257301
           ],
           "xaxis": "x",
           "y": [
            2801.92528954115
           ],
           "yaxis": "y"
          }
         ],
         "name": "2023-05-24 14:19:26.734587"
        }
       ],
       "layout": {
        "height": 600,
        "legend": {
         "tracegroupgap": 0
        },
        "margin": {
         "t": 60
        },
        "sliders": [
         {
          "active": 0,
          "currentvalue": {
           "prefix": "timestamp="
          },
          "len": 0.9,
          "pad": {
           "b": 10,
           "t": 60
          },
          "steps": [
           {
            "args": [
             [
              "2023-05-24 14:18:45.968762"
             ],
             {
              "frame": {
               "duration": 0,
               "redraw": false
              },
              "fromcurrent": true,
              "mode": "immediate",
              "transition": {
               "duration": 0,
               "easing": "linear"
              }
             }
            ],
            "label": "2023-05-24 14:18:45.968762",
            "method": "animate"
           },
           {
            "args": [
             [
              "2023-05-24 14:18:46.357670"
             ],
             {
              "frame": {
               "duration": 0,
               "redraw": false
              },
              "fromcurrent": true,
              "mode": "immediate",
              "transition": {
               "duration": 0,
               "easing": "linear"
              }
             }
            ],
            "label": "2023-05-24 14:18:46.357670",
            "method": "animate"
           },
           {
            "args": [
             [
              "2023-05-24 14:18:46.753032"
             ],
             {
              "frame": {
               "duration": 0,
               "redraw": false
              },
              "fromcurrent": true,
              "mode": "immediate",
              "transition": {
               "duration": 0,
               "easing": "linear"
              }
             }
            ],
            "label": "2023-05-24 14:18:46.753032",
            "method": "animate"
           },
           {
            "args": [
             [
              "2023-05-24 14:18:47.140552"
             ],
             {
              "frame": {
               "duration": 0,
               "redraw": false
              },
              "fromcurrent": true,
              "mode": "immediate",
              "transition": {
               "duration": 0,
               "easing": "linear"
              }
             }
            ],
            "label": "2023-05-24 14:18:47.140552",
            "method": "animate"
           },
           {
            "args": [
             [
              "2023-05-24 14:18:47.528731"
             ],
             {
              "frame": {
               "duration": 0,
               "redraw": false
              },
              "fromcurrent": true,
              "mode": "immediate",
              "transition": {
               "duration": 0,
               "easing": "linear"
              }
             }
            ],
            "label": "2023-05-24 14:18:47.528731",
            "method": "animate"
           },
           {
            "args": [
             [
              "2023-05-24 14:18:47.918672"
             ],
             {
              "frame": {
               "duration": 0,
               "redraw": false
              },
              "fromcurrent": true,
              "mode": "immediate",
              "transition": {
               "duration": 0,
               "easing": "linear"
              }
             }
            ],
            "label": "2023-05-24 14:18:47.918672",
            "method": "animate"
           },
           {
            "args": [
             [
              "2023-05-24 14:18:48.308656"
             ],
             {
              "frame": {
               "duration": 0,
               "redraw": false
              },
              "fromcurrent": true,
              "mode": "immediate",
              "transition": {
               "duration": 0,
               "easing": "linear"
              }
             }
            ],
            "label": "2023-05-24 14:18:48.308656",
            "method": "animate"
           },
           {
            "args": [
             [
              "2023-05-24 14:18:48.696638"
             ],
             {
              "frame": {
               "duration": 0,
               "redraw": false
              },
              "fromcurrent": true,
              "mode": "immediate",
              "transition": {
               "duration": 0,
               "easing": "linear"
              }
             }
            ],
            "label": "2023-05-24 14:18:48.696638",
            "method": "animate"
           },
           {
            "args": [
             [
              "2023-05-24 14:18:49.087711"
             ],
             {
              "frame": {
               "duration": 0,
               "redraw": false
              },
              "fromcurrent": true,
              "mode": "immediate",
              "transition": {
               "duration": 0,
               "easing": "linear"
              }
             }
            ],
            "label": "2023-05-24 14:18:49.087711",
            "method": "animate"
           },
           {
            "args": [
             [
              "2023-05-24 14:18:49.477717"
             ],
             {
              "frame": {
               "duration": 0,
               "redraw": false
              },
              "fromcurrent": true,
              "mode": "immediate",
              "transition": {
               "duration": 0,
               "easing": "linear"
              }
             }
            ],
            "label": "2023-05-24 14:18:49.477717",
            "method": "animate"
           },
           {
            "args": [
             [
              "2023-05-24 14:18:49.867727"
             ],
             {
              "frame": {
               "duration": 0,
               "redraw": false
              },
              "fromcurrent": true,
              "mode": "immediate",
              "transition": {
               "duration": 0,
               "easing": "linear"
              }
             }
            ],
            "label": "2023-05-24 14:18:49.867727",
            "method": "animate"
           },
           {
            "args": [
             [
              "2023-05-24 14:18:50.257658"
             ],
             {
              "frame": {
               "duration": 0,
               "redraw": false
              },
              "fromcurrent": true,
              "mode": "immediate",
              "transition": {
               "duration": 0,
               "easing": "linear"
              }
             }
            ],
            "label": "2023-05-24 14:18:50.257658",
            "method": "animate"
           },
           {
            "args": [
             [
              "2023-05-24 14:18:50.645386"
             ],
             {
              "frame": {
               "duration": 0,
               "redraw": false
              },
              "fromcurrent": true,
              "mode": "immediate",
              "transition": {
               "duration": 0,
               "easing": "linear"
              }
             }
            ],
            "label": "2023-05-24 14:18:50.645386",
            "method": "animate"
           },
           {
            "args": [
             [
              "2023-05-24 14:18:51.039605"
             ],
             {
              "frame": {
               "duration": 0,
               "redraw": false
              },
              "fromcurrent": true,
              "mode": "immediate",
              "transition": {
               "duration": 0,
               "easing": "linear"
              }
             }
            ],
            "label": "2023-05-24 14:18:51.039605",
            "method": "animate"
           },
           {
            "args": [
             [
              "2023-05-24 14:18:51.425663"
             ],
             {
              "frame": {
               "duration": 0,
               "redraw": false
              },
              "fromcurrent": true,
              "mode": "immediate",
              "transition": {
               "duration": 0,
               "easing": "linear"
              }
             }
            ],
            "label": "2023-05-24 14:18:51.425663",
            "method": "animate"
           },
           {
            "args": [
             [
              "2023-05-24 14:18:51.815680"
             ],
             {
              "frame": {
               "duration": 0,
               "redraw": false
              },
              "fromcurrent": true,
              "mode": "immediate",
              "transition": {
               "duration": 0,
               "easing": "linear"
              }
             }
            ],
            "label": "2023-05-24 14:18:51.815680",
            "method": "animate"
           },
           {
            "args": [
             [
              "2023-05-24 14:18:52.208972"
             ],
             {
              "frame": {
               "duration": 0,
               "redraw": false
              },
              "fromcurrent": true,
              "mode": "immediate",
              "transition": {
               "duration": 0,
               "easing": "linear"
              }
             }
            ],
            "label": "2023-05-24 14:18:52.208972",
            "method": "animate"
           },
           {
            "args": [
             [
              "2023-05-24 14:18:52.595666"
             ],
             {
              "frame": {
               "duration": 0,
               "redraw": false
              },
              "fromcurrent": true,
              "mode": "immediate",
              "transition": {
               "duration": 0,
               "easing": "linear"
              }
             }
            ],
            "label": "2023-05-24 14:18:52.595666",
            "method": "animate"
           },
           {
            "args": [
             [
              "2023-05-24 14:18:52.987187"
             ],
             {
              "frame": {
               "duration": 0,
               "redraw": false
              },
              "fromcurrent": true,
              "mode": "immediate",
              "transition": {
               "duration": 0,
               "easing": "linear"
              }
             }
            ],
            "label": "2023-05-24 14:18:52.987187",
            "method": "animate"
           },
           {
            "args": [
             [
              "2023-05-24 14:18:53.376778"
             ],
             {
              "frame": {
               "duration": 0,
               "redraw": false
              },
              "fromcurrent": true,
              "mode": "immediate",
              "transition": {
               "duration": 0,
               "easing": "linear"
              }
             }
            ],
            "label": "2023-05-24 14:18:53.376778",
            "method": "animate"
           },
           {
            "args": [
             [
              "2023-05-24 14:18:53.765941"
             ],
             {
              "frame": {
               "duration": 0,
               "redraw": false
              },
              "fromcurrent": true,
              "mode": "immediate",
              "transition": {
               "duration": 0,
               "easing": "linear"
              }
             }
            ],
            "label": "2023-05-24 14:18:53.765941",
            "method": "animate"
           },
           {
            "args": [
             [
              "2023-05-24 14:18:54.156255"
             ],
             {
              "frame": {
               "duration": 0,
               "redraw": false
              },
              "fromcurrent": true,
              "mode": "immediate",
              "transition": {
               "duration": 0,
               "easing": "linear"
              }
             }
            ],
            "label": "2023-05-24 14:18:54.156255",
            "method": "animate"
           },
           {
            "args": [
             [
              "2023-05-24 14:18:54.543177"
             ],
             {
              "frame": {
               "duration": 0,
               "redraw": false
              },
              "fromcurrent": true,
              "mode": "immediate",
              "transition": {
               "duration": 0,
               "easing": "linear"
              }
             }
            ],
            "label": "2023-05-24 14:18:54.543177",
            "method": "animate"
           },
           {
            "args": [
             [
              "2023-05-24 14:18:54.933632"
             ],
             {
              "frame": {
               "duration": 0,
               "redraw": false
              },
              "fromcurrent": true,
              "mode": "immediate",
              "transition": {
               "duration": 0,
               "easing": "linear"
              }
             }
            ],
            "label": "2023-05-24 14:18:54.933632",
            "method": "animate"
           },
           {
            "args": [
             [
              "2023-05-24 14:19:00.419236"
             ],
             {
              "frame": {
               "duration": 0,
               "redraw": false
              },
              "fromcurrent": true,
              "mode": "immediate",
              "transition": {
               "duration": 0,
               "easing": "linear"
              }
             }
            ],
            "label": "2023-05-24 14:19:00.419236",
            "method": "animate"
           },
           {
            "args": [
             [
              "2023-05-24 14:19:00.807257"
             ],
             {
              "frame": {
               "duration": 0,
               "redraw": false
              },
              "fromcurrent": true,
              "mode": "immediate",
              "transition": {
               "duration": 0,
               "easing": "linear"
              }
             }
            ],
            "label": "2023-05-24 14:19:00.807257",
            "method": "animate"
           },
           {
            "args": [
             [
              "2023-05-24 14:19:01.197157"
             ],
             {
              "frame": {
               "duration": 0,
               "redraw": false
              },
              "fromcurrent": true,
              "mode": "immediate",
              "transition": {
               "duration": 0,
               "easing": "linear"
              }
             }
            ],
            "label": "2023-05-24 14:19:01.197157",
            "method": "animate"
           },
           {
            "args": [
             [
              "2023-05-24 14:19:01.586633"
             ],
             {
              "frame": {
               "duration": 0,
               "redraw": false
              },
              "fromcurrent": true,
              "mode": "immediate",
              "transition": {
               "duration": 0,
               "easing": "linear"
              }
             }
            ],
            "label": "2023-05-24 14:19:01.586633",
            "method": "animate"
           },
           {
            "args": [
             [
              "2023-05-24 14:19:01.978603"
             ],
             {
              "frame": {
               "duration": 0,
               "redraw": false
              },
              "fromcurrent": true,
              "mode": "immediate",
              "transition": {
               "duration": 0,
               "easing": "linear"
              }
             }
            ],
            "label": "2023-05-24 14:19:01.978603",
            "method": "animate"
           },
           {
            "args": [
             [
              "2023-05-24 14:19:02.367345"
             ],
             {
              "frame": {
               "duration": 0,
               "redraw": false
              },
              "fromcurrent": true,
              "mode": "immediate",
              "transition": {
               "duration": 0,
               "easing": "linear"
              }
             }
            ],
            "label": "2023-05-24 14:19:02.367345",
            "method": "animate"
           },
           {
            "args": [
             [
              "2023-05-24 14:19:02.761185"
             ],
             {
              "frame": {
               "duration": 0,
               "redraw": false
              },
              "fromcurrent": true,
              "mode": "immediate",
              "transition": {
               "duration": 0,
               "easing": "linear"
              }
             }
            ],
            "label": "2023-05-24 14:19:02.761185",
            "method": "animate"
           },
           {
            "args": [
             [
              "2023-05-24 14:19:03.149749"
             ],
             {
              "frame": {
               "duration": 0,
               "redraw": false
              },
              "fromcurrent": true,
              "mode": "immediate",
              "transition": {
               "duration": 0,
               "easing": "linear"
              }
             }
            ],
            "label": "2023-05-24 14:19:03.149749",
            "method": "animate"
           },
           {
            "args": [
             [
              "2023-05-24 14:19:03.537813"
             ],
             {
              "frame": {
               "duration": 0,
               "redraw": false
              },
              "fromcurrent": true,
              "mode": "immediate",
              "transition": {
               "duration": 0,
               "easing": "linear"
              }
             }
            ],
            "label": "2023-05-24 14:19:03.537813",
            "method": "animate"
           },
           {
            "args": [
             [
              "2023-05-24 14:19:03.927477"
             ],
             {
              "frame": {
               "duration": 0,
               "redraw": false
              },
              "fromcurrent": true,
              "mode": "immediate",
              "transition": {
               "duration": 0,
               "easing": "linear"
              }
             }
            ],
            "label": "2023-05-24 14:19:03.927477",
            "method": "animate"
           },
           {
            "args": [
             [
              "2023-05-24 14:19:04.316504"
             ],
             {
              "frame": {
               "duration": 0,
               "redraw": false
              },
              "fromcurrent": true,
              "mode": "immediate",
              "transition": {
               "duration": 0,
               "easing": "linear"
              }
             }
            ],
            "label": "2023-05-24 14:19:04.316504",
            "method": "animate"
           },
           {
            "args": [
             [
              "2023-05-24 14:19:04.708996"
             ],
             {
              "frame": {
               "duration": 0,
               "redraw": false
              },
              "fromcurrent": true,
              "mode": "immediate",
              "transition": {
               "duration": 0,
               "easing": "linear"
              }
             }
            ],
            "label": "2023-05-24 14:19:04.708996",
            "method": "animate"
           },
           {
            "args": [
             [
              "2023-05-24 14:19:05.100097"
             ],
             {
              "frame": {
               "duration": 0,
               "redraw": false
              },
              "fromcurrent": true,
              "mode": "immediate",
              "transition": {
               "duration": 0,
               "easing": "linear"
              }
             }
            ],
            "label": "2023-05-24 14:19:05.100097",
            "method": "animate"
           },
           {
            "args": [
             [
              "2023-05-24 14:19:05.485367"
             ],
             {
              "frame": {
               "duration": 0,
               "redraw": false
              },
              "fromcurrent": true,
              "mode": "immediate",
              "transition": {
               "duration": 0,
               "easing": "linear"
              }
             }
            ],
            "label": "2023-05-24 14:19:05.485367",
            "method": "animate"
           },
           {
            "args": [
             [
              "2023-05-24 14:19:05.879895"
             ],
             {
              "frame": {
               "duration": 0,
               "redraw": false
              },
              "fromcurrent": true,
              "mode": "immediate",
              "transition": {
               "duration": 0,
               "easing": "linear"
              }
             }
            ],
            "label": "2023-05-24 14:19:05.879895",
            "method": "animate"
           },
           {
            "args": [
             [
              "2023-05-24 14:19:06.269240"
             ],
             {
              "frame": {
               "duration": 0,
               "redraw": false
              },
              "fromcurrent": true,
              "mode": "immediate",
              "transition": {
               "duration": 0,
               "easing": "linear"
              }
             }
            ],
            "label": "2023-05-24 14:19:06.269240",
            "method": "animate"
           },
           {
            "args": [
             [
              "2023-05-24 14:19:06.659194"
             ],
             {
              "frame": {
               "duration": 0,
               "redraw": false
              },
              "fromcurrent": true,
              "mode": "immediate",
              "transition": {
               "duration": 0,
               "easing": "linear"
              }
             }
            ],
            "label": "2023-05-24 14:19:06.659194",
            "method": "animate"
           },
           {
            "args": [
             [
              "2023-05-24 14:19:07.051173"
             ],
             {
              "frame": {
               "duration": 0,
               "redraw": false
              },
              "fromcurrent": true,
              "mode": "immediate",
              "transition": {
               "duration": 0,
               "easing": "linear"
              }
             }
            ],
            "label": "2023-05-24 14:19:07.051173",
            "method": "animate"
           },
           {
            "args": [
             [
              "2023-05-24 14:19:07.441794"
             ],
             {
              "frame": {
               "duration": 0,
               "redraw": false
              },
              "fromcurrent": true,
              "mode": "immediate",
              "transition": {
               "duration": 0,
               "easing": "linear"
              }
             }
            ],
            "label": "2023-05-24 14:19:07.441794",
            "method": "animate"
           },
           {
            "args": [
             [
              "2023-05-24 14:19:07.830278"
             ],
             {
              "frame": {
               "duration": 0,
               "redraw": false
              },
              "fromcurrent": true,
              "mode": "immediate",
              "transition": {
               "duration": 0,
               "easing": "linear"
              }
             }
            ],
            "label": "2023-05-24 14:19:07.830278",
            "method": "animate"
           },
           {
            "args": [
             [
              "2023-05-24 14:19:08.219254"
             ],
             {
              "frame": {
               "duration": 0,
               "redraw": false
              },
              "fromcurrent": true,
              "mode": "immediate",
              "transition": {
               "duration": 0,
               "easing": "linear"
              }
             }
            ],
            "label": "2023-05-24 14:19:08.219254",
            "method": "animate"
           },
           {
            "args": [
             [
              "2023-05-24 14:19:08.606870"
             ],
             {
              "frame": {
               "duration": 0,
               "redraw": false
              },
              "fromcurrent": true,
              "mode": "immediate",
              "transition": {
               "duration": 0,
               "easing": "linear"
              }
             }
            ],
            "label": "2023-05-24 14:19:08.606870",
            "method": "animate"
           },
           {
            "args": [
             [
              "2023-05-24 14:19:08.998858"
             ],
             {
              "frame": {
               "duration": 0,
               "redraw": false
              },
              "fromcurrent": true,
              "mode": "immediate",
              "transition": {
               "duration": 0,
               "easing": "linear"
              }
             }
            ],
            "label": "2023-05-24 14:19:08.998858",
            "method": "animate"
           },
           {
            "args": [
             [
              "2023-05-24 14:19:09.957747"
             ],
             {
              "frame": {
               "duration": 0,
               "redraw": false
              },
              "fromcurrent": true,
              "mode": "immediate",
              "transition": {
               "duration": 0,
               "easing": "linear"
              }
             }
            ],
            "label": "2023-05-24 14:19:09.957747",
            "method": "animate"
           },
           {
            "args": [
             [
              "2023-05-24 14:19:10.346062"
             ],
             {
              "frame": {
               "duration": 0,
               "redraw": false
              },
              "fromcurrent": true,
              "mode": "immediate",
              "transition": {
               "duration": 0,
               "easing": "linear"
              }
             }
            ],
            "label": "2023-05-24 14:19:10.346062",
            "method": "animate"
           },
           {
            "args": [
             [
              "2023-05-24 14:19:10.734952"
             ],
             {
              "frame": {
               "duration": 0,
               "redraw": false
              },
              "fromcurrent": true,
              "mode": "immediate",
              "transition": {
               "duration": 0,
               "easing": "linear"
              }
             }
            ],
            "label": "2023-05-24 14:19:10.734952",
            "method": "animate"
           },
           {
            "args": [
             [
              "2023-05-24 14:19:11.127843"
             ],
             {
              "frame": {
               "duration": 0,
               "redraw": false
              },
              "fromcurrent": true,
              "mode": "immediate",
              "transition": {
               "duration": 0,
               "easing": "linear"
              }
             }
            ],
            "label": "2023-05-24 14:19:11.127843",
            "method": "animate"
           },
           {
            "args": [
             [
              "2023-05-24 14:19:11.515501"
             ],
             {
              "frame": {
               "duration": 0,
               "redraw": false
              },
              "fromcurrent": true,
              "mode": "immediate",
              "transition": {
               "duration": 0,
               "easing": "linear"
              }
             }
            ],
            "label": "2023-05-24 14:19:11.515501",
            "method": "animate"
           },
           {
            "args": [
             [
              "2023-05-24 14:19:11.909159"
             ],
             {
              "frame": {
               "duration": 0,
               "redraw": false
              },
              "fromcurrent": true,
              "mode": "immediate",
              "transition": {
               "duration": 0,
               "easing": "linear"
              }
             }
            ],
            "label": "2023-05-24 14:19:11.909159",
            "method": "animate"
           },
           {
            "args": [
             [
              "2023-05-24 14:19:12.299560"
             ],
             {
              "frame": {
               "duration": 0,
               "redraw": false
              },
              "fromcurrent": true,
              "mode": "immediate",
              "transition": {
               "duration": 0,
               "easing": "linear"
              }
             }
            ],
            "label": "2023-05-24 14:19:12.299560",
            "method": "animate"
           },
           {
            "args": [
             [
              "2023-05-24 14:19:12.685976"
             ],
             {
              "frame": {
               "duration": 0,
               "redraw": false
              },
              "fromcurrent": true,
              "mode": "immediate",
              "transition": {
               "duration": 0,
               "easing": "linear"
              }
             }
            ],
            "label": "2023-05-24 14:19:12.685976",
            "method": "animate"
           },
           {
            "args": [
             [
              "2023-05-24 14:19:13.073237"
             ],
             {
              "frame": {
               "duration": 0,
               "redraw": false
              },
              "fromcurrent": true,
              "mode": "immediate",
              "transition": {
               "duration": 0,
               "easing": "linear"
              }
             }
            ],
            "label": "2023-05-24 14:19:13.073237",
            "method": "animate"
           },
           {
            "args": [
             [
              "2023-05-24 14:19:13.464262"
             ],
             {
              "frame": {
               "duration": 0,
               "redraw": false
              },
              "fromcurrent": true,
              "mode": "immediate",
              "transition": {
               "duration": 0,
               "easing": "linear"
              }
             }
            ],
            "label": "2023-05-24 14:19:13.464262",
            "method": "animate"
           },
           {
            "args": [
             [
              "2023-05-24 14:19:13.859992"
             ],
             {
              "frame": {
               "duration": 0,
               "redraw": false
              },
              "fromcurrent": true,
              "mode": "immediate",
              "transition": {
               "duration": 0,
               "easing": "linear"
              }
             }
            ],
            "label": "2023-05-24 14:19:13.859992",
            "method": "animate"
           },
           {
            "args": [
             [
              "2023-05-24 14:19:14.244608"
             ],
             {
              "frame": {
               "duration": 0,
               "redraw": false
              },
              "fromcurrent": true,
              "mode": "immediate",
              "transition": {
               "duration": 0,
               "easing": "linear"
              }
             }
            ],
            "label": "2023-05-24 14:19:14.244608",
            "method": "animate"
           },
           {
            "args": [
             [
              "2023-05-24 14:19:14.633253"
             ],
             {
              "frame": {
               "duration": 0,
               "redraw": false
              },
              "fromcurrent": true,
              "mode": "immediate",
              "transition": {
               "duration": 0,
               "easing": "linear"
              }
             }
            ],
            "label": "2023-05-24 14:19:14.633253",
            "method": "animate"
           },
           {
            "args": [
             [
              "2023-05-24 14:19:15.028379"
             ],
             {
              "frame": {
               "duration": 0,
               "redraw": false
              },
              "fromcurrent": true,
              "mode": "immediate",
              "transition": {
               "duration": 0,
               "easing": "linear"
              }
             }
            ],
            "label": "2023-05-24 14:19:15.028379",
            "method": "animate"
           },
           {
            "args": [
             [
              "2023-05-24 14:19:15.411647"
             ],
             {
              "frame": {
               "duration": 0,
               "redraw": false
              },
              "fromcurrent": true,
              "mode": "immediate",
              "transition": {
               "duration": 0,
               "easing": "linear"
              }
             }
            ],
            "label": "2023-05-24 14:19:15.411647",
            "method": "animate"
           },
           {
            "args": [
             [
              "2023-05-24 14:19:15.804041"
             ],
             {
              "frame": {
               "duration": 0,
               "redraw": false
              },
              "fromcurrent": true,
              "mode": "immediate",
              "transition": {
               "duration": 0,
               "easing": "linear"
              }
             }
            ],
            "label": "2023-05-24 14:19:15.804041",
            "method": "animate"
           },
           {
            "args": [
             [
              "2023-05-24 14:19:16.193905"
             ],
             {
              "frame": {
               "duration": 0,
               "redraw": false
              },
              "fromcurrent": true,
              "mode": "immediate",
              "transition": {
               "duration": 0,
               "easing": "linear"
              }
             }
            ],
            "label": "2023-05-24 14:19:16.193905",
            "method": "animate"
           },
           {
            "args": [
             [
              "2023-05-24 14:19:16.582379"
             ],
             {
              "frame": {
               "duration": 0,
               "redraw": false
              },
              "fromcurrent": true,
              "mode": "immediate",
              "transition": {
               "duration": 0,
               "easing": "linear"
              }
             }
            ],
            "label": "2023-05-24 14:19:16.582379",
            "method": "animate"
           },
           {
            "args": [
             [
              "2023-05-24 14:19:16.969382"
             ],
             {
              "frame": {
               "duration": 0,
               "redraw": false
              },
              "fromcurrent": true,
              "mode": "immediate",
              "transition": {
               "duration": 0,
               "easing": "linear"
              }
             }
            ],
            "label": "2023-05-24 14:19:16.969382",
            "method": "animate"
           },
           {
            "args": [
             [
              "2023-05-24 14:19:17.359363"
             ],
             {
              "frame": {
               "duration": 0,
               "redraw": false
              },
              "fromcurrent": true,
              "mode": "immediate",
              "transition": {
               "duration": 0,
               "easing": "linear"
              }
             }
            ],
            "label": "2023-05-24 14:19:17.359363",
            "method": "animate"
           },
           {
            "args": [
             [
              "2023-05-24 14:19:17.752079"
             ],
             {
              "frame": {
               "duration": 0,
               "redraw": false
              },
              "fromcurrent": true,
              "mode": "immediate",
              "transition": {
               "duration": 0,
               "easing": "linear"
              }
             }
            ],
            "label": "2023-05-24 14:19:17.752079",
            "method": "animate"
           },
           {
            "args": [
             [
              "2023-05-24 14:19:18.140822"
             ],
             {
              "frame": {
               "duration": 0,
               "redraw": false
              },
              "fromcurrent": true,
              "mode": "immediate",
              "transition": {
               "duration": 0,
               "easing": "linear"
              }
             }
            ],
            "label": "2023-05-24 14:19:18.140822",
            "method": "animate"
           },
           {
            "args": [
             [
              "2023-05-24 14:19:18.533388"
             ],
             {
              "frame": {
               "duration": 0,
               "redraw": false
              },
              "fromcurrent": true,
              "mode": "immediate",
              "transition": {
               "duration": 0,
               "easing": "linear"
              }
             }
            ],
            "label": "2023-05-24 14:19:18.533388",
            "method": "animate"
           },
           {
            "args": [
             [
              "2023-05-24 14:19:18.924996"
             ],
             {
              "frame": {
               "duration": 0,
               "redraw": false
              },
              "fromcurrent": true,
              "mode": "immediate",
              "transition": {
               "duration": 0,
               "easing": "linear"
              }
             }
            ],
            "label": "2023-05-24 14:19:18.924996",
            "method": "animate"
           },
           {
            "args": [
             [
              "2023-05-24 14:19:19.316727"
             ],
             {
              "frame": {
               "duration": 0,
               "redraw": false
              },
              "fromcurrent": true,
              "mode": "immediate",
              "transition": {
               "duration": 0,
               "easing": "linear"
              }
             }
            ],
            "label": "2023-05-24 14:19:19.316727",
            "method": "animate"
           },
           {
            "args": [
             [
              "2023-05-24 14:19:19.706549"
             ],
             {
              "frame": {
               "duration": 0,
               "redraw": false
              },
              "fromcurrent": true,
              "mode": "immediate",
              "transition": {
               "duration": 0,
               "easing": "linear"
              }
             }
            ],
            "label": "2023-05-24 14:19:19.706549",
            "method": "animate"
           },
           {
            "args": [
             [
              "2023-05-24 14:19:20.098610"
             ],
             {
              "frame": {
               "duration": 0,
               "redraw": false
              },
              "fromcurrent": true,
              "mode": "immediate",
              "transition": {
               "duration": 0,
               "easing": "linear"
              }
             }
            ],
            "label": "2023-05-24 14:19:20.098610",
            "method": "animate"
           },
           {
            "args": [
             [
              "2023-05-24 14:19:20.486345"
             ],
             {
              "frame": {
               "duration": 0,
               "redraw": false
              },
              "fromcurrent": true,
              "mode": "immediate",
              "transition": {
               "duration": 0,
               "easing": "linear"
              }
             }
            ],
            "label": "2023-05-24 14:19:20.486345",
            "method": "animate"
           },
           {
            "args": [
             [
              "2023-05-24 14:19:20.880156"
             ],
             {
              "frame": {
               "duration": 0,
               "redraw": false
              },
              "fromcurrent": true,
              "mode": "immediate",
              "transition": {
               "duration": 0,
               "easing": "linear"
              }
             }
            ],
            "label": "2023-05-24 14:19:20.880156",
            "method": "animate"
           },
           {
            "args": [
             [
              "2023-05-24 14:19:21.266697"
             ],
             {
              "frame": {
               "duration": 0,
               "redraw": false
              },
              "fromcurrent": true,
              "mode": "immediate",
              "transition": {
               "duration": 0,
               "easing": "linear"
              }
             }
            ],
            "label": "2023-05-24 14:19:21.266697",
            "method": "animate"
           },
           {
            "args": [
             [
              "2023-05-24 14:19:21.653950"
             ],
             {
              "frame": {
               "duration": 0,
               "redraw": false
              },
              "fromcurrent": true,
              "mode": "immediate",
              "transition": {
               "duration": 0,
               "easing": "linear"
              }
             }
            ],
            "label": "2023-05-24 14:19:21.653950",
            "method": "animate"
           },
           {
            "args": [
             [
              "2023-05-24 14:19:22.045422"
             ],
             {
              "frame": {
               "duration": 0,
               "redraw": false
              },
              "fromcurrent": true,
              "mode": "immediate",
              "transition": {
               "duration": 0,
               "easing": "linear"
              }
             }
            ],
            "label": "2023-05-24 14:19:22.045422",
            "method": "animate"
           },
           {
            "args": [
             [
              "2023-05-24 14:19:22.438068"
             ],
             {
              "frame": {
               "duration": 0,
               "redraw": false
              },
              "fromcurrent": true,
              "mode": "immediate",
              "transition": {
               "duration": 0,
               "easing": "linear"
              }
             }
            ],
            "label": "2023-05-24 14:19:22.438068",
            "method": "animate"
           },
           {
            "args": [
             [
              "2023-05-24 14:19:22.828317"
             ],
             {
              "frame": {
               "duration": 0,
               "redraw": false
              },
              "fromcurrent": true,
              "mode": "immediate",
              "transition": {
               "duration": 0,
               "easing": "linear"
              }
             }
            ],
            "label": "2023-05-24 14:19:22.828317",
            "method": "animate"
           },
           {
            "args": [
             [
              "2023-05-24 14:19:23.219181"
             ],
             {
              "frame": {
               "duration": 0,
               "redraw": false
              },
              "fromcurrent": true,
              "mode": "immediate",
              "transition": {
               "duration": 0,
               "easing": "linear"
              }
             }
            ],
            "label": "2023-05-24 14:19:23.219181",
            "method": "animate"
           },
           {
            "args": [
             [
              "2023-05-24 14:19:23.611168"
             ],
             {
              "frame": {
               "duration": 0,
               "redraw": false
              },
              "fromcurrent": true,
              "mode": "immediate",
              "transition": {
               "duration": 0,
               "easing": "linear"
              }
             }
            ],
            "label": "2023-05-24 14:19:23.611168",
            "method": "animate"
           },
           {
            "args": [
             [
              "2023-05-24 14:19:24.002057"
             ],
             {
              "frame": {
               "duration": 0,
               "redraw": false
              },
              "fromcurrent": true,
              "mode": "immediate",
              "transition": {
               "duration": 0,
               "easing": "linear"
              }
             }
            ],
            "label": "2023-05-24 14:19:24.002057",
            "method": "animate"
           },
           {
            "args": [
             [
              "2023-05-24 14:19:24.391271"
             ],
             {
              "frame": {
               "duration": 0,
               "redraw": false
              },
              "fromcurrent": true,
              "mode": "immediate",
              "transition": {
               "duration": 0,
               "easing": "linear"
              }
             }
            ],
            "label": "2023-05-24 14:19:24.391271",
            "method": "animate"
           },
           {
            "args": [
             [
              "2023-05-24 14:19:24.784989"
             ],
             {
              "frame": {
               "duration": 0,
               "redraw": false
              },
              "fromcurrent": true,
              "mode": "immediate",
              "transition": {
               "duration": 0,
               "easing": "linear"
              }
             }
            ],
            "label": "2023-05-24 14:19:24.784989",
            "method": "animate"
           },
           {
            "args": [
             [
              "2023-05-24 14:19:25.173560"
             ],
             {
              "frame": {
               "duration": 0,
               "redraw": false
              },
              "fromcurrent": true,
              "mode": "immediate",
              "transition": {
               "duration": 0,
               "easing": "linear"
              }
             }
            ],
            "label": "2023-05-24 14:19:25.173560",
            "method": "animate"
           },
           {
            "args": [
             [
              "2023-05-24 14:19:25.563660"
             ],
             {
              "frame": {
               "duration": 0,
               "redraw": false
              },
              "fromcurrent": true,
              "mode": "immediate",
              "transition": {
               "duration": 0,
               "easing": "linear"
              }
             }
            ],
            "label": "2023-05-24 14:19:25.563660",
            "method": "animate"
           },
           {
            "args": [
             [
              "2023-05-24 14:19:25.957685"
             ],
             {
              "frame": {
               "duration": 0,
               "redraw": false
              },
              "fromcurrent": true,
              "mode": "immediate",
              "transition": {
               "duration": 0,
               "easing": "linear"
              }
             }
            ],
            "label": "2023-05-24 14:19:25.957685",
            "method": "animate"
           },
           {
            "args": [
             [
              "2023-05-24 14:19:26.347688"
             ],
             {
              "frame": {
               "duration": 0,
               "redraw": false
              },
              "fromcurrent": true,
              "mode": "immediate",
              "transition": {
               "duration": 0,
               "easing": "linear"
              }
             }
            ],
            "label": "2023-05-24 14:19:26.347688",
            "method": "animate"
           },
           {
            "args": [
             [
              "2023-05-24 14:19:26.734587"
             ],
             {
              "frame": {
               "duration": 0,
               "redraw": false
              },
              "fromcurrent": true,
              "mode": "immediate",
              "transition": {
               "duration": 0,
               "easing": "linear"
              }
             }
            ],
            "label": "2023-05-24 14:19:26.734587",
            "method": "animate"
           }
          ],
          "x": 0.1,
          "xanchor": "left",
          "y": 0,
          "yanchor": "top"
         }
        ],
        "template": {
         "data": {
          "bar": [
           {
            "error_x": {
             "color": "#2a3f5f"
            },
            "error_y": {
             "color": "#2a3f5f"
            },
            "marker": {
             "line": {
              "color": "#E5ECF6",
              "width": 0.5
             },
             "pattern": {
              "fillmode": "overlay",
              "size": 10,
              "solidity": 0.2
             }
            },
            "type": "bar"
           }
          ],
          "barpolar": [
           {
            "marker": {
             "line": {
              "color": "#E5ECF6",
              "width": 0.5
             },
             "pattern": {
              "fillmode": "overlay",
              "size": 10,
              "solidity": 0.2
             }
            },
            "type": "barpolar"
           }
          ],
          "carpet": [
           {
            "aaxis": {
             "endlinecolor": "#2a3f5f",
             "gridcolor": "white",
             "linecolor": "white",
             "minorgridcolor": "white",
             "startlinecolor": "#2a3f5f"
            },
            "baxis": {
             "endlinecolor": "#2a3f5f",
             "gridcolor": "white",
             "linecolor": "white",
             "minorgridcolor": "white",
             "startlinecolor": "#2a3f5f"
            },
            "type": "carpet"
           }
          ],
          "choropleth": [
           {
            "colorbar": {
             "outlinewidth": 0,
             "ticks": ""
            },
            "type": "choropleth"
           }
          ],
          "contour": [
           {
            "colorbar": {
             "outlinewidth": 0,
             "ticks": ""
            },
            "colorscale": [
             [
              0,
              "#0d0887"
             ],
             [
              0.1111111111111111,
              "#46039f"
             ],
             [
              0.2222222222222222,
              "#7201a8"
             ],
             [
              0.3333333333333333,
              "#9c179e"
             ],
             [
              0.4444444444444444,
              "#bd3786"
             ],
             [
              0.5555555555555556,
              "#d8576b"
             ],
             [
              0.6666666666666666,
              "#ed7953"
             ],
             [
              0.7777777777777778,
              "#fb9f3a"
             ],
             [
              0.8888888888888888,
              "#fdca26"
             ],
             [
              1,
              "#f0f921"
             ]
            ],
            "type": "contour"
           }
          ],
          "contourcarpet": [
           {
            "colorbar": {
             "outlinewidth": 0,
             "ticks": ""
            },
            "type": "contourcarpet"
           }
          ],
          "heatmap": [
           {
            "colorbar": {
             "outlinewidth": 0,
             "ticks": ""
            },
            "colorscale": [
             [
              0,
              "#0d0887"
             ],
             [
              0.1111111111111111,
              "#46039f"
             ],
             [
              0.2222222222222222,
              "#7201a8"
             ],
             [
              0.3333333333333333,
              "#9c179e"
             ],
             [
              0.4444444444444444,
              "#bd3786"
             ],
             [
              0.5555555555555556,
              "#d8576b"
             ],
             [
              0.6666666666666666,
              "#ed7953"
             ],
             [
              0.7777777777777778,
              "#fb9f3a"
             ],
             [
              0.8888888888888888,
              "#fdca26"
             ],
             [
              1,
              "#f0f921"
             ]
            ],
            "type": "heatmap"
           }
          ],
          "heatmapgl": [
           {
            "colorbar": {
             "outlinewidth": 0,
             "ticks": ""
            },
            "colorscale": [
             [
              0,
              "#0d0887"
             ],
             [
              0.1111111111111111,
              "#46039f"
             ],
             [
              0.2222222222222222,
              "#7201a8"
             ],
             [
              0.3333333333333333,
              "#9c179e"
             ],
             [
              0.4444444444444444,
              "#bd3786"
             ],
             [
              0.5555555555555556,
              "#d8576b"
             ],
             [
              0.6666666666666666,
              "#ed7953"
             ],
             [
              0.7777777777777778,
              "#fb9f3a"
             ],
             [
              0.8888888888888888,
              "#fdca26"
             ],
             [
              1,
              "#f0f921"
             ]
            ],
            "type": "heatmapgl"
           }
          ],
          "histogram": [
           {
            "marker": {
             "pattern": {
              "fillmode": "overlay",
              "size": 10,
              "solidity": 0.2
             }
            },
            "type": "histogram"
           }
          ],
          "histogram2d": [
           {
            "colorbar": {
             "outlinewidth": 0,
             "ticks": ""
            },
            "colorscale": [
             [
              0,
              "#0d0887"
             ],
             [
              0.1111111111111111,
              "#46039f"
             ],
             [
              0.2222222222222222,
              "#7201a8"
             ],
             [
              0.3333333333333333,
              "#9c179e"
             ],
             [
              0.4444444444444444,
              "#bd3786"
             ],
             [
              0.5555555555555556,
              "#d8576b"
             ],
             [
              0.6666666666666666,
              "#ed7953"
             ],
             [
              0.7777777777777778,
              "#fb9f3a"
             ],
             [
              0.8888888888888888,
              "#fdca26"
             ],
             [
              1,
              "#f0f921"
             ]
            ],
            "type": "histogram2d"
           }
          ],
          "histogram2dcontour": [
           {
            "colorbar": {
             "outlinewidth": 0,
             "ticks": ""
            },
            "colorscale": [
             [
              0,
              "#0d0887"
             ],
             [
              0.1111111111111111,
              "#46039f"
             ],
             [
              0.2222222222222222,
              "#7201a8"
             ],
             [
              0.3333333333333333,
              "#9c179e"
             ],
             [
              0.4444444444444444,
              "#bd3786"
             ],
             [
              0.5555555555555556,
              "#d8576b"
             ],
             [
              0.6666666666666666,
              "#ed7953"
             ],
             [
              0.7777777777777778,
              "#fb9f3a"
             ],
             [
              0.8888888888888888,
              "#fdca26"
             ],
             [
              1,
              "#f0f921"
             ]
            ],
            "type": "histogram2dcontour"
           }
          ],
          "mesh3d": [
           {
            "colorbar": {
             "outlinewidth": 0,
             "ticks": ""
            },
            "type": "mesh3d"
           }
          ],
          "parcoords": [
           {
            "line": {
             "colorbar": {
              "outlinewidth": 0,
              "ticks": ""
             }
            },
            "type": "parcoords"
           }
          ],
          "pie": [
           {
            "automargin": true,
            "type": "pie"
           }
          ],
          "scatter": [
           {
            "fillpattern": {
             "fillmode": "overlay",
             "size": 10,
             "solidity": 0.2
            },
            "type": "scatter"
           }
          ],
          "scatter3d": [
           {
            "line": {
             "colorbar": {
              "outlinewidth": 0,
              "ticks": ""
             }
            },
            "marker": {
             "colorbar": {
              "outlinewidth": 0,
              "ticks": ""
             }
            },
            "type": "scatter3d"
           }
          ],
          "scattercarpet": [
           {
            "marker": {
             "colorbar": {
              "outlinewidth": 0,
              "ticks": ""
             }
            },
            "type": "scattercarpet"
           }
          ],
          "scattergeo": [
           {
            "marker": {
             "colorbar": {
              "outlinewidth": 0,
              "ticks": ""
             }
            },
            "type": "scattergeo"
           }
          ],
          "scattergl": [
           {
            "marker": {
             "colorbar": {
              "outlinewidth": 0,
              "ticks": ""
             }
            },
            "type": "scattergl"
           }
          ],
          "scattermapbox": [
           {
            "marker": {
             "colorbar": {
              "outlinewidth": 0,
              "ticks": ""
             }
            },
            "type": "scattermapbox"
           }
          ],
          "scatterpolar": [
           {
            "marker": {
             "colorbar": {
              "outlinewidth": 0,
              "ticks": ""
             }
            },
            "type": "scatterpolar"
           }
          ],
          "scatterpolargl": [
           {
            "marker": {
             "colorbar": {
              "outlinewidth": 0,
              "ticks": ""
             }
            },
            "type": "scatterpolargl"
           }
          ],
          "scatterternary": [
           {
            "marker": {
             "colorbar": {
              "outlinewidth": 0,
              "ticks": ""
             }
            },
            "type": "scatterternary"
           }
          ],
          "surface": [
           {
            "colorbar": {
             "outlinewidth": 0,
             "ticks": ""
            },
            "colorscale": [
             [
              0,
              "#0d0887"
             ],
             [
              0.1111111111111111,
              "#46039f"
             ],
             [
              0.2222222222222222,
              "#7201a8"
             ],
             [
              0.3333333333333333,
              "#9c179e"
             ],
             [
              0.4444444444444444,
              "#bd3786"
             ],
             [
              0.5555555555555556,
              "#d8576b"
             ],
             [
              0.6666666666666666,
              "#ed7953"
             ],
             [
              0.7777777777777778,
              "#fb9f3a"
             ],
             [
              0.8888888888888888,
              "#fdca26"
             ],
             [
              1,
              "#f0f921"
             ]
            ],
            "type": "surface"
           }
          ],
          "table": [
           {
            "cells": {
             "fill": {
              "color": "#EBF0F8"
             },
             "line": {
              "color": "white"
             }
            },
            "header": {
             "fill": {
              "color": "#C8D4E3"
             },
             "line": {
              "color": "white"
             }
            },
            "type": "table"
           }
          ]
         },
         "layout": {
          "annotationdefaults": {
           "arrowcolor": "#2a3f5f",
           "arrowhead": 0,
           "arrowwidth": 1
          },
          "autotypenumbers": "strict",
          "coloraxis": {
           "colorbar": {
            "outlinewidth": 0,
            "ticks": ""
           }
          },
          "colorscale": {
           "diverging": [
            [
             0,
             "#8e0152"
            ],
            [
             0.1,
             "#c51b7d"
            ],
            [
             0.2,
             "#de77ae"
            ],
            [
             0.3,
             "#f1b6da"
            ],
            [
             0.4,
             "#fde0ef"
            ],
            [
             0.5,
             "#f7f7f7"
            ],
            [
             0.6,
             "#e6f5d0"
            ],
            [
             0.7,
             "#b8e186"
            ],
            [
             0.8,
             "#7fbc41"
            ],
            [
             0.9,
             "#4d9221"
            ],
            [
             1,
             "#276419"
            ]
           ],
           "sequential": [
            [
             0,
             "#0d0887"
            ],
            [
             0.1111111111111111,
             "#46039f"
            ],
            [
             0.2222222222222222,
             "#7201a8"
            ],
            [
             0.3333333333333333,
             "#9c179e"
            ],
            [
             0.4444444444444444,
             "#bd3786"
            ],
            [
             0.5555555555555556,
             "#d8576b"
            ],
            [
             0.6666666666666666,
             "#ed7953"
            ],
            [
             0.7777777777777778,
             "#fb9f3a"
            ],
            [
             0.8888888888888888,
             "#fdca26"
            ],
            [
             1,
             "#f0f921"
            ]
           ],
           "sequentialminus": [
            [
             0,
             "#0d0887"
            ],
            [
             0.1111111111111111,
             "#46039f"
            ],
            [
             0.2222222222222222,
             "#7201a8"
            ],
            [
             0.3333333333333333,
             "#9c179e"
            ],
            [
             0.4444444444444444,
             "#bd3786"
            ],
            [
             0.5555555555555556,
             "#d8576b"
            ],
            [
             0.6666666666666666,
             "#ed7953"
            ],
            [
             0.7777777777777778,
             "#fb9f3a"
            ],
            [
             0.8888888888888888,
             "#fdca26"
            ],
            [
             1,
             "#f0f921"
            ]
           ]
          },
          "colorway": [
           "#636efa",
           "#EF553B",
           "#00cc96",
           "#ab63fa",
           "#FFA15A",
           "#19d3f3",
           "#FF6692",
           "#B6E880",
           "#FF97FF",
           "#FECB52"
          ],
          "font": {
           "color": "#2a3f5f"
          },
          "geo": {
           "bgcolor": "white",
           "lakecolor": "white",
           "landcolor": "#E5ECF6",
           "showlakes": true,
           "showland": true,
           "subunitcolor": "white"
          },
          "hoverlabel": {
           "align": "left"
          },
          "hovermode": "closest",
          "mapbox": {
           "style": "light"
          },
          "paper_bgcolor": "white",
          "plot_bgcolor": "#E5ECF6",
          "polar": {
           "angularaxis": {
            "gridcolor": "white",
            "linecolor": "white",
            "ticks": ""
           },
           "bgcolor": "#E5ECF6",
           "radialaxis": {
            "gridcolor": "white",
            "linecolor": "white",
            "ticks": ""
           }
          },
          "scene": {
           "xaxis": {
            "backgroundcolor": "#E5ECF6",
            "gridcolor": "white",
            "gridwidth": 2,
            "linecolor": "white",
            "showbackground": true,
            "ticks": "",
            "zerolinecolor": "white"
           },
           "yaxis": {
            "backgroundcolor": "#E5ECF6",
            "gridcolor": "white",
            "gridwidth": 2,
            "linecolor": "white",
            "showbackground": true,
            "ticks": "",
            "zerolinecolor": "white"
           },
           "zaxis": {
            "backgroundcolor": "#E5ECF6",
            "gridcolor": "white",
            "gridwidth": 2,
            "linecolor": "white",
            "showbackground": true,
            "ticks": "",
            "zerolinecolor": "white"
           }
          },
          "shapedefaults": {
           "line": {
            "color": "#2a3f5f"
           }
          },
          "ternary": {
           "aaxis": {
            "gridcolor": "white",
            "linecolor": "white",
            "ticks": ""
           },
           "baxis": {
            "gridcolor": "white",
            "linecolor": "white",
            "ticks": ""
           },
           "bgcolor": "#E5ECF6",
           "caxis": {
            "gridcolor": "white",
            "linecolor": "white",
            "ticks": ""
           }
          },
          "title": {
           "x": 0.05
          },
          "xaxis": {
           "automargin": true,
           "gridcolor": "white",
           "linecolor": "white",
           "ticks": "",
           "title": {
            "standoff": 15
           },
           "zerolinecolor": "white",
           "zerolinewidth": 2
          },
          "yaxis": {
           "automargin": true,
           "gridcolor": "white",
           "linecolor": "white",
           "ticks": "",
           "title": {
            "standoff": 15
           },
           "zerolinecolor": "white",
           "zerolinewidth": 2
          }
         }
        },
        "updatemenus": [
         {
          "buttons": [
           {
            "args": [
             null,
             {
              "frame": {
               "duration": 500,
               "redraw": false
              },
              "fromcurrent": true,
              "mode": "immediate",
              "transition": {
               "duration": 500,
               "easing": "linear"
              }
             }
            ],
            "label": "&#9654;",
            "method": "animate"
           },
           {
            "args": [
             [
              null
             ],
             {
              "frame": {
               "duration": 0,
               "redraw": false
              },
              "fromcurrent": true,
              "mode": "immediate",
              "transition": {
               "duration": 0,
               "easing": "linear"
              }
             }
            ],
            "label": "&#9724;",
            "method": "animate"
           }
          ],
          "direction": "left",
          "pad": {
           "r": 10,
           "t": 70
          },
          "showactive": false,
          "type": "buttons",
          "x": 0.1,
          "xanchor": "right",
          "y": 0,
          "yanchor": "top"
         }
        ],
        "width": 300,
        "xaxis": {
         "anchor": "y",
         "domain": [
          0,
          1
         ],
         "range": [
          0,
          2000
         ],
         "title": {
          "text": "x"
         }
        },
        "yaxis": {
         "anchor": "x",
         "domain": [
          0,
          1
         ],
         "range": [
          0,
          4000
         ],
         "title": {
          "text": "y"
         }
        }
       }
      }
     },
     "metadata": {},
     "output_type": "display_data"
    }
   ],
   "source": [
    "px.scatter(df, x=\"x\", y=\"y\", animation_frame=\"timestamp\",\n",
    "        #    size=\"radius\",\n",
    "           range_x=[0,2000], range_y=[0,4000],\n",
    "           width=300, height=600)"
   ]
  },
  {
   "cell_type": "code",
   "execution_count": 51,
   "metadata": {},
   "outputs": [],
   "source": [
    "orig = pd.read_csv(filename, index_col=0)\n",
    "orig[\"timestamp\"] = pd.to_datetime(orig[\"timestamp\"])\n",
    "df = orig.merge(df, on=\"timestamp\")\n",
    "\n",
    "df[[\"timestamp\", \"acc_x\", \"acc_y\", \"acc_z\", \"x\", \"y\", \"radius\"]].to_csv(f\"data/triangulated/{Path(filename).name}\")\n"
   ]
  }
 ],
 "metadata": {
  "kernelspec": {
   "display_name": ".venv",
   "language": "python",
   "name": "python3"
  },
  "language_info": {
   "codemirror_mode": {
    "name": "ipython",
    "version": 3
   },
   "file_extension": ".py",
   "mimetype": "text/x-python",
   "name": "python",
   "nbconvert_exporter": "python",
   "pygments_lexer": "ipython3",
   "version": "3.11.3"
  },
  "orig_nbformat": 4
 },
 "nbformat": 4,
 "nbformat_minor": 2
}
