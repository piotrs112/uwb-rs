{
 "cells": [
  {
   "cell_type": "code",
   "execution_count": 213,
   "metadata": {},
   "outputs": [],
   "source": [
    "import pandas as pd\n",
    "import numpy as np\n",
    "import matplotlib.pyplot as plt\n",
    "from pathlib import Path\n",
    "\n",
    "MULTILATERATION_METHOD = \"2d\"\n",
    "samples_dir = Path(\"data/p1/\")"
   ]
  },
  {
   "cell_type": "code",
   "execution_count": 214,
   "metadata": {},
   "outputs": [],
   "source": [
    "# Try to get test environment conditions from JSON\n",
    "import json\n",
    "\n",
    "try:\n",
    "    with open(samples_dir / \"environment.json\", \"r\") as file:\n",
    "        settings = json.loads(file.read())\n",
    "except:\n",
    "    settings = dict()\n",
    "\n",
    "if (TAG:=settings.get(\"tag\")) is None:\n",
    "    from data.points import TAG\n",
    "if (ANCHORS := settings.get(\"anchors\")) is None:\n",
    "    from data.points import ANCHORS"
   ]
  },
  {
   "cell_type": "code",
   "execution_count": 215,
   "metadata": {},
   "outputs": [],
   "source": [
    "class AccelerometerOrientation:\n",
    "    x_sign: int\n",
    "    global_x: str\n",
    "    y_sign: int\n",
    "    global_y: str\n",
    "\n",
    "    def __init__(self, setting: str) -> None:\n",
    "        \"\"\"\n",
    "        Module orientation\n",
    "        The arrow should point the same way as the back of the module (accelerometer's +Z axis)\n",
    "        <------x-------\n",
    "               ^       |\n",
    "              -y       |\n",
    "                       |\n",
    "         <+x     -x>   y\n",
    "                       |\n",
    "              +y       |\n",
    "               v       v\n",
    "        \"\"\"\n",
    "        match setting:\n",
    "            case \"+x\":\n",
    "                data = (1, \"acc_z\", -1, \"acc_y\")\n",
    "            case \"-x\":\n",
    "                data = (-1, \"acc_z\", 1, \"acc_y\")\n",
    "            case \"+y\":\n",
    "                data = (1, \"acc_y\", 1, \"acc_z\")\n",
    "            case \"-y\":\n",
    "                data = (-1, \"acc_y\", -1, \"acc_z\")\n",
    "            case _:\n",
    "                raise ValueError(setting)\n",
    "\n",
    "        self.x_sign, self.global_x, self.y_sign, self.global_y = data\n",
    "\n",
    "ACCELEROMETER_ORIENTATION = AccelerometerOrientation(settings.get(\"acc_orientation\") or \"-y\")"
   ]
  },
  {
   "cell_type": "code",
   "execution_count": 216,
   "metadata": {},
   "outputs": [],
   "source": [
    "folder_name = samples_dir.name.upper()\n",
    "\n",
    "MOVEMENT=False\n",
    "REF_POINT=\"P1\"\n",
    "if folder_name.startswith(\"P\"): \n",
    "    REF_POINT = samples_dir.name.upper()[:2]\n",
    "else:\n",
    "    MOVEMENT=True\n",
    "\n",
    "\n",
    "# filenames = [\n",
    "#     \"data/p4/2023-07-04-23:02:13.565225living-room-p1-17.csv\",\n",
    "#     \"data/p4/2023-07-04-22:48:07.757069living-room-p1-3.csv\",\n",
    "# ]\n",
    "filenames = [f for f in samples_dir.iterdir() if f.name.endswith(\".csv\")]\n",
    "# filenames = ['data/movement_2/2023-07-07-21:14:24.733384move2-23.csv',\n",
    "#  'data/movement_2/2023-07-07-17:43:26.951057move2-3.csv',\n",
    "#  'data/movement_2/2023-07-07-21:12:44.952500move2-21.csv',\n",
    "#  'data/movement_2/2023-07-07-21:23:23.068246move2-35.csv',\n",
    "#  'data/movement_2/2023-07-07-21:15:01.929822move2-24.csv',\n",
    "#  'data/movement_2/2023-07-07-21:19:22.894199move2-30.csv',\n",
    "#  'data/movement_2/2023-07-07-21:17:05.202935move2-27.csv',\n",
    "#  'data/movement_2/2023-07-07-21:16:25.211085move2-26.csv',\n",
    "#  'data/movement_2/2023-07-07-21:20:59.197137move2-32.csv',\n",
    "#  'data/movement_2/2023-07-07-21:22:39.944005move2-34.csv']\n",
    "filenames.sort()\n",
    "# filenames\n"
   ]
  },
  {
   "cell_type": "code",
   "execution_count": 217,
   "metadata": {},
   "outputs": [],
   "source": [
    "dfs = [pd.read_csv(f, index_col=0) for f in filenames]"
   ]
  },
  {
   "cell_type": "code",
   "execution_count": 218,
   "metadata": {},
   "outputs": [],
   "source": [
    "# Enforce same number of samples\n",
    "if not MOVEMENT:\n",
    "    min_samples = min(len(df) for df in dfs)\n",
    "    dfs = [df.head(min_samples) for df in dfs]"
   ]
  },
  {
   "cell_type": "code",
   "execution_count": 219,
   "metadata": {},
   "outputs": [],
   "source": [
    "for df in dfs:\n",
    "    df[\"timestamp\"] = pd.to_datetime(df[\"timestamp\"])\n",
    "    df[[\"acc_x\", \"acc_y\", \"acc_z\"]] = df[[\"acc_x\", \"acc_y\", \"acc_z\"]].rolling(window=5).mean().fillna(0)\n",
    "\n",
    "dfs = [df[df.anchor.isin(ANCHORS.keys())] for df in dfs]\n",
    "dfs = [df.set_index(\"timestamp\") for df in dfs]\n",
    "\n",
    "anchors = dfs[0][\"anchor\"].unique()"
   ]
  },
  {
   "attachments": {},
   "cell_type": "markdown",
   "metadata": {},
   "source": [
    "# Multilateration"
   ]
  },
  {
   "cell_type": "code",
   "execution_count": 220,
   "metadata": {},
   "outputs": [],
   "source": [
    "from multilateration.solve import solve\n",
    "\n",
    "solved_dfs = [solve(df, ANCHORS, MULTILATERATION_METHOD) for df in dfs]"
   ]
  },
  {
   "cell_type": "code",
   "execution_count": 221,
   "metadata": {},
   "outputs": [],
   "source": [
    "solved_dfs = [df.merge(solved_df, on=\"timestamp\")[\n",
    "    [\n",
    "        \"timestamp\",\n",
    "        \"acc_x\",\n",
    "        \"acc_y\",\n",
    "        \"acc_z\",\n",
    "        \"x\",\n",
    "        \"y\",\n",
    "        \"radius\",\n",
    "    ]\n",
    "] for df, solved_df in zip(dfs, solved_dfs)]\n",
    "\n",
    "# Convert to metric, remove gravitation\n",
    "for df in solved_dfs:\n",
    "    df[[\"x\", \"y\"]] /= 1000\n",
    "    df[[\"acc_x\", \"acc_y\", \"acc_z\"]] *= 9.80665\n",
    "    df[[\"acc_x\", \"acc_y\", \"acc_z\"]] -= df[[\"acc_x\", \"acc_y\", \"acc_z\"]].head(5).mean()\n"
   ]
  },
  {
   "cell_type": "code",
   "execution_count": 222,
   "metadata": {},
   "outputs": [
    {
     "data": {
      "image/png": "[encoded data removed]",
      "text/plain": [
       "<Figure size 640x480 with 1 Axes>"
      ]
     },
     "metadata": {},
     "output_type": "display_data"
    }
   ],
   "source": [
    "for df in solved_dfs:\n",
    "    plt.scatter(df[\"x\"], df[\"y\"])\n",
    "plt.show()"
   ]
  },
  {
   "cell_type": "code",
   "execution_count": 223,
   "metadata": {},
   "outputs": [
    {
     "data": {
      "text/plain": [
       "'Deleted 59 samples. Left 3061 out of 3120 samples.'"
      ]
     },
     "metadata": {},
     "output_type": "display_data"
    }
   ],
   "source": [
    "# Remove outliers\n",
    "n_samples_before = sum(len(df) for df in solved_dfs)\n",
    "\n",
    "def remove_outliers(df, columns, threshold=3):\n",
    "    z_scores = np.abs((df[columns] - df[columns].mean()) / df[columns].std())\n",
    "    df_no_outliers = df[(z_scores < threshold).all(axis=1)]\n",
    "    return df_no_outliers\n",
    "\n",
    "# Remove outliers from the DataFrame\n",
    "solved_dfs = [remove_outliers(df, ['x', 'y']) for df in solved_dfs]\n",
    "n_samples_after = sum(len(df) for df in solved_dfs)\n",
    "display(f\"Deleted {n_samples_before-n_samples_after} samples. Left {n_samples_after} out of {n_samples_before} samples.\")"
   ]
  },
  {
   "cell_type": "code",
   "execution_count": 224,
   "metadata": {},
   "outputs": [
    {
     "data": {
      "image/png": "[encoded data removed]",
      "text/plain": [
       "<Figure size 640x480 with 1 Axes>"
      ]
     },
     "metadata": {},
     "output_type": "display_data"
    }
   ],
   "source": [
    "for df in solved_dfs:\n",
    "    if MOVEMENT:\n",
    "        plt.plot(df[\"x\"], df[\"y\"])\n",
    "    else:\n",
    "        plt.scatter(df[\"x\"], df[\"y\"])\n",
    "\n",
    "\n",
    "if MOVEMENT:\n",
    "    plt.axvline(TAG[REF_POINT][0] / 1000, color=\"green\", linestyle=\"--\")\n",
    "plt.show()"
   ]
  },
  {
   "cell_type": "code",
   "execution_count": 225,
   "metadata": {},
   "outputs": [],
   "source": [
    "from math import sqrt\n",
    "def p2p_dist(ax, ay, bx, by):\n",
    "    return sqrt((bx - ax) ** 2 + (by - ay) ** 2)\n",
    "\n",
    "def point_line_distance(x, y, a, b, c):\n",
    "    return abs(a * x + b * y + c) / sqrt(a**2 + b**2)"
   ]
  },
  {
   "cell_type": "code",
   "execution_count": 226,
   "metadata": {},
   "outputs": [],
   "source": [
    "if MOVEMENT:\n",
    "    # ax + by + c = 0\n",
    "    a = 1\n",
    "    b = 0\n",
    "    c = - TAG[REF_POINT][0] / 1000\n",
    "    calc_dist = lambda x: point_line_distance(x[0], x[1], a, b, c)\n",
    "else:\n",
    "    calc_dist = lambda x: p2p_dist(x[0], x[1], TAG[REF_POINT][0] / 1000, TAG[REF_POINT][1] / 1000)\n",
    "\n",
    "for df in solved_dfs:\n",
    "    df[\"error\"] = df[[\"x\", \"y\"]].apply(calc_dist, axis=1)\n",
    "    "
   ]
  },
  {
   "attachments": {},
   "cell_type": "markdown",
   "metadata": {},
   "source": [
    "# Kalman filter"
   ]
  },
  {
   "cell_type": "code",
   "execution_count": 227,
   "metadata": {},
   "outputs": [],
   "source": [
    "def kalman_step(x, P, measurement, R, motion, Q, F, H):\n",
    "    # PREDICT x, P based on motion\n",
    "    x = F * x + motion\n",
    "    P = F * P * F.T + Q\n",
    "\n",
    "    # UPDATE x, P based on measurement m\n",
    "    # distance between measured and current position-belief\n",
    "    y = np.matrix(measurement).T - H * x\n",
    "    S = H * P * H.T + R  # residual convariance\n",
    "    K = P * H.T * S.I  # Kalman gain\n",
    "    x = x + K * y\n",
    "    I = np.matrix(np.eye(F.shape[0]))  # identity matrix\n",
    "    P = (I - K * H) * P\n",
    "\n",
    "    return x, P"
   ]
  },
  {
   "cell_type": "code",
   "execution_count": 228,
   "metadata": {},
   "outputs": [
    {
     "data": {
      "text/plain": [
       "30"
      ]
     },
     "execution_count": 228,
     "metadata": {},
     "output_type": "execute_result"
    }
   ],
   "source": [
    "kalman_dfs = []\n",
    "for df in solved_dfs:\n",
    "    dt = df[\"timestamp\"].diff().mean().to_pytimedelta().microseconds / 10**6\n",
    "\n",
    "    F = np.matrix(\n",
    "        [[1, 0, dt**2 / 2, 0], [0, 1, 0, dt**2 / 2], [0, 0, 1, 0], [0, 0, 0, 1]]\n",
    "    )\n",
    "    H = np.matrix(np.eye(4))\n",
    "\n",
    "    # Q = np.matrix(np.diag([0.0001, 0.0001, 0.01, 0.00000001])) # best one\n",
    "    Q = np.matrix(np.diag([0.0001, 0.0001, 0.01, 0.01]))\n",
    "    # Q = np.matrix(np.diag([0.001, 0.001, 0.001, 0.001]))\n",
    "    R = np.matrix(\n",
    "        np.diag(\n",
    "            [\n",
    "                df[\"x\"].std() ** 2,\n",
    "                df[\"y\"].std() ** 2,\n",
    "                df[ACCELEROMETER_ORIENTATION.global_x].std() ** 2,\n",
    "                df[ACCELEROMETER_ORIENTATION.global_y].std() ** 2,\n",
    "            ]\n",
    "        )\n",
    "    )\n",
    "\n",
    "    P = np.matrix(np.eye(4)) * 100\n",
    "    x = np.matrix(\"0. 0. 0. 0.\").T\n",
    "\n",
    "\n",
    "    # Filter\n",
    "    filtered = []\n",
    "    motion = np.matrix(\"0. 0. 0. 0.\").T\n",
    "    for _, measurement in df[\n",
    "        [\n",
    "            \"x\",\n",
    "            \"y\",\n",
    "            ACCELEROMETER_ORIENTATION.global_x,\n",
    "            ACCELEROMETER_ORIENTATION.global_y,\n",
    "        ]\n",
    "    ].iterrows():\n",
    "        measurement = measurement.to_list()\n",
    "        measurement = [\n",
    "            measurement[0],  # x\n",
    "            measurement[1],  # y\n",
    "            ACCELEROMETER_ORIENTATION.x_sign * measurement[2],  # x\n",
    "            ACCELEROMETER_ORIENTATION.y_sign * measurement[3],  # y\n",
    "        ]\n",
    "        x, P = kalman_step(x, P, measurement, R, motion, Q, F, H)\n",
    "        filtered.append(x.tolist())\n",
    "\n",
    "    filtered_pos = [[x[0], y[0]] for (x, y, _, _) in filtered]\n",
    "    kalman_dfs.append(pd.DataFrame(filtered_pos, columns=[\"x\", \"y\"]))\n",
    "\n",
    "len(kalman_dfs)"
   ]
  },
  {
   "cell_type": "code",
   "execution_count": 229,
   "metadata": {},
   "outputs": [],
   "source": [
    "for df in kalman_dfs:\n",
    "    df[\"error\"] = df.apply(calc_dist, axis=1)"
   ]
  },
  {
   "cell_type": "code",
   "execution_count": 230,
   "metadata": {},
   "outputs": [
    {
     "name": "stderr",
     "output_type": "stream",
     "text": [
      "/home/piotr/Documents/mgr/uwb-rs/data-processing/.venv/lib/python3.11/site-packages/plotly/graph_objs/_deprecations.py:378: DeprecationWarning:\n",
      "\n",
      "plotly.graph_objs.Line is deprecated.\n",
      "Please replace it with one of the following more specific types\n",
      "  - plotly.graph_objs.scatter.Line\n",
      "  - plotly.graph_objs.layout.shape.Line\n",
      "  - etc.\n",
      "\n",
      "\n"
     ]
    },
    {
     "data": {
      "application/vnd.plotly.v1+json": {
       "config": {
        "plotlyServerURL": "https://plot.ly"
       },
       "data": [
        {
         "name": "0",
         "type": "scatter",
         "y": [
          0.013921632303244004,
          0.02474464128983638,
          0.005209031616593004,
          0.03772700086300595,
          0.028885295381397703,
          0.031740299228052674,
          0.01637407042994067,
          0.005664896426612657,
          0.05942967074995684,
          0.054626811688242,
          0.029717126234745574,
          0.019156012255413007,
          0.005048005805318443,
          0.02624900550677933,
          0.011976004414772786,
          0.007550582645739788,
          0.021819526870650675,
          0.0069927229162850225,
          0.014720407772160044,
          0.011673955785277074,
          0.030175310828893052,
          0.01400877658220725,
          0.00723788326535422,
          0.01879016722129853,
          0.025046645892882653,
          0.016750593289686387,
          0.035440516947792926,
          0.031784457099159356,
          0.03349747422930908,
          0.02223682640474925,
          0.04743119302004439,
          0.023294564826390095,
          0.028875265376264656,
          0.013243192685251683,
          0.03300196593072326,
          0.023292936282088342,
          0.04595446510282717,
          13.20649672766255,
          0.003962710262043886,
          0.04508654385078621,
          0.05879852885378241,
          0.024450158053793,
          0.01835822416878776,
          0.029759547588481094,
          0.017513764771546956,
          0.02747184178113236,
          0.04662087603431065,
          0.028087271086929398,
          0.024484181971927307,
          0.004840687574616231,
          0.024548828332750097,
          0.02686622003180687,
          0.021735958599777457,
          0.04641272494047363,
          6.3655595064318495,
          0.017591826911693895,
          0.03574226699834272,
          0.062480028665968704,
          0.05822166453806635,
          0.011453076088946815,
          0.017429978829896508,
          0.039592062972373894,
          0.040398726037090764,
          0.04381492132345938,
          0.03610118702132143,
          0.0437866707610581,
          0.03922876390846488,
          0.007861149976579582,
          0.02264348395471872,
          0.03150385366398591,
          0.043858236004988185,
          0.04337114304468545,
          0.006891440149204932,
          11.09089438358699,
          3.030843353997464,
          0.03583289481456486,
          0.03217214229928367,
          4.808439878290433,
          0.04691000840396029,
          5.649354020395305,
          0.04409147717088757,
          0.04242469528402639,
          0.04282301808110829,
          0.010180237320183501,
          0.04546479898139663,
          0.025578322931268615,
          0.017309010534627346,
          0.06577583030076599,
          0.06224900543818475,
          0.04314333041829763,
          0.028288216635667537,
          8.799503521744363,
          0.030416829761531528,
          0.015960157300286854,
          0.011259594645623962,
          3.2177006446605145,
          0.027976690170122165,
          3.788299945532605,
          0.053400795997806304,
          0.038531283405739684,
          0.0383887682647424
         ]
        },
        {
         "name": "1",
         "type": "scatter",
         "y": [
          0.015146328110050239,
          0.022011734373802022,
          0.021232069996054894,
          0.009805223875126796,
          0.014023744718250247,
          0.022977554064033005,
          0.04270257410310298,
          0.031035883519761127,
          0.0032390102258969045,
          0.058162596918289976,
          0.03697998960581551,
          0.028542423505451775,
          0.03207908257470503,
          0.029962793422385538,
          0.02011482268615085,
          0.02329972187747614,
          0.04696449500190686,
          0.020027913421975897,
          0.027752890565221427,
          0.02991406486978019,
          0.0140001322718324,
          0.04185982339183178,
          0.01656193369281028,
          2.5293790282863147,
          0.04500351008800593,
          0.03993966800374549,
          0.031961400041217294,
          0.021516688335866136,
          0.032841363709993326,
          0.03697200004934933,
          0.026127550249462648,
          0.021119637166659256,
          0.017277193029269777,
          0.03407192230220445,
          0.009729238993544975,
          0.9172976250726533,
          0.013604023028762728,
          0.005504948527107732,
          0.03278594843653631,
          0.057270383277411185,
          0.02131389180577713,
          0.025720088405067353,
          0.028922177667417902,
          0.011579701673906468,
          0.01761683900637797,
          0.05253302018449192,
          0.040531402418625344,
          0.012297352104821642,
          0.025003655110883517,
          0.014721441629493607,
          0.022680807795133713,
          0.015907034741361244,
          0.05339257754770896,
          0.04100755641837821,
          0.031238805715567343,
          0.015600219450158766,
          0.03140970155201038,
          0.016842709018036202,
          0.0519148146042503,
          0.030664462106832147,
          0.041541555672027636,
          0.03585800183233715,
          0.0191010684096996,
          0.014591273585861363,
          0.046868145107725336,
          0.0351418678793078,
          0.03247297532412754,
          0.012512478117611116,
          0.04845868585217475,
          0.010630301147510002,
          0.01597238166131275,
          0.06103525880088949,
          0.026734347454810622,
          0.032067491835252704,
          0.04016303945706943,
          0.03989346556775824,
          0.022518683193967055,
          0.0233003999297417,
          0.01265316869757194,
          0.0171272880381373,
          0.011611622872608944,
          0.011583833244516731,
          0.023377514649740402,
          1.1696474330439532,
          0.01762379099786108,
          0.03076483097904552,
          0.03742433422072593,
          0.017405274919858743,
          0.05642590513965233,
          0.019119552003051744,
          0.031996754797609425,
          0.031211066562182983,
          0.02049468143714708,
          0.044829855892702976,
          0.005457090461885838,
          0.027694888011497523,
          0.032540361419751085,
          0.04010612890655319,
          0.028017491899544954,
          0.021784716872902267,
          0.017011011796936,
          0.043760196921836705,
          0.02565606781469295
         ]
        },
        {
         "name": "2",
         "type": "scatter",
         "y": [
          0.037232160311394404,
          0.009116372450342178,
          0.018364671989888802,
          0.037549274652115175,
          0.023015339317298603,
          0.0020414092189087684,
          0.029876223630976216,
          0.023141002983047453,
          0.03393209204684096,
          0.04191821907579775,
          0.048250474480397466,
          0.016533218993904142,
          0.029480332819418496,
          0.12967751219483073,
          0.008011477287014046,
          0.027191501554258413,
          0.021245221164138264,
          0.0065788968630749595,
          0.046199719965906196,
          0.031018836718187632,
          0.020343385329944154,
          0.010891837591579098,
          0.02700733488484666,
          0.03241030021771024,
          0.024547642326116777,
          0.031090456899173703,
          0.09427445629553224,
          0.016411809950347633,
          0.045353312290971164,
          0.031098032571045285,
          0.024767199664643868,
          0.013370634103377145,
          0.02641686193325163,
          0.028250876522776604,
          0.027366480899267666,
          0.034425343496823774,
          0.005148120035545606,
          0.032029636377758144,
          0.0270474633747119,
          0.02320969075603371,
          0.009700494860791085,
          0.00467246923973413,
          0.013855654793923946,
          0.03193818610514519,
          0.057254888300946286,
          0.019701990956227416,
          0.04064745108929514,
          0.023197863563885035,
          0.025834924831222083,
          0.0316873611388749,
          0.03115258782613916,
          0.011719475623516993,
          0.053840107710364335,
          0.018901187935513427,
          0.014121803759649049,
          0.035909703739475635,
          0.028947535651749585,
          0.027809467684031672,
          0.0166970783532533,
          0.011451456131552356,
          0.03154725762103145,
          0.028476502764766598,
          0.01955804467109222,
          0.015893552506699812,
          0.013479135160497901,
          0.04660630547790798,
          0.018707162409724636,
          0.024350313611513977,
          0.017594200709672683,
          0.03833626176411322,
          0.00886925955319536,
          8.291225044778145,
          0.03851544566422502,
          0.01890220512462812,
          6.982146789877867,
          0.02123966768092666,
          0.007251462714558233,
          0.04598513876903339,
          0.01290511370484096,
          0.05314679219158084,
          0.0023941076889065446,
          0.014862169015984309,
          0.05639474410356193,
          0.02461932429721466,
          0.03500424611913559,
          0.027489960022982436,
          0.027457959553615692,
          0.022971964971290594,
          0.012170345823858864,
          0.025173445660069058,
          0.021048723514321452,
          0.017429493801902174,
          0.023101476042428296,
          0.008457104561594653,
          0.037052985147701986,
          0.04147171402160386,
          0.015249816370104844,
          0.04450376624104377,
          0.013673710277385086,
          0.013931285544737269,
          0.02859551401172136,
          0.02499762181465244
         ]
        },
        {
         "name": "3",
         "type": "scatter",
         "y": [
          0.04053124462881016,
          0.011771332323868846,
          0.009139763762235319,
          0.02776325805154371,
          0.027842656336749542,
          0.03212958940780983,
          0.012536293071354827,
          0.035829517238637525,
          0.015455582264634149,
          0.02147074974049166,
          0.026131255394518976,
          0.02122567232767007,
          0.03368852939841644,
          0.014002349969923276,
          0.011614482173169056,
          0.029677249784599766,
          0.005987707224498793,
          0.033383256428492075,
          0.04057448386137278,
          0.039102268688994836,
          0.03277265707889134,
          0.0022412827383412903,
          0.01474079357048709,
          0.010930908643752598,
          0.007747238406796583,
          0.028794400045719926,
          0.04451422325968823,
          0.03810509740101972,
          0.02163124748110864,
          0.029440705191058444,
          0.004977397734997997,
          0.009443025495141274,
          0.005926483521250806,
          0.026653086192349705,
          0.014007433126684036,
          0.013297808409272577,
          0.033423232275424854,
          0.019068981452439824,
          0.032938481287981165,
          0.009278300436860613,
          0.006352639643155914,
          0.004136587663122684,
          0.0337612130365477,
          0.04651926531154997,
          0.03381674823440759,
          0.027183638435113688,
          0.01808279105697328,
          0.04614254512901764,
          0.0521243167018691,
          0.04151134222503559,
          0.009624534053341774,
          0.027027368698587097,
          0.019278145311010082,
          0.03708778973306637,
          0.00934141883404346,
          0.01583819274449868,
          0.024172009674157776,
          0.018606440225452072,
          0.016348870482188065,
          0.04314910967349247,
          0.0038238860732983868,
          0.008188471101573239,
          0.017932152507598813,
          0.036083923331260294,
          0.011202517381358265,
          0.012245588513924441,
          0.03732221018874338,
          0.023550324702753114,
          0.02272695267669446,
          0.03792420834976092,
          0.05419241415104745,
          0.020216286929757358,
          0.039922880826156436,
          0.01226918562719566,
          0.014856479626828704,
          0.024592978820715393,
          0.013663217091357042,
          0.009682543309041058,
          0.017877007263124654,
          0.04118325161623381,
          0.029705686168503703,
          0.01384990445941396,
          0.04048419529679679,
          0.051919489991384245,
          0.00872992362676585,
          0.013657894693400709,
          0.01669347568233778,
          0.04336106016037712,
          0.022441774984892464,
          0.039120694043094685,
          0.022684813688713338,
          0.017102820796827223,
          0.017818490605443965,
          0.015965152714011735,
          0.04524281382140921,
          0.018758469226427772,
          0.028035524292081757,
          0.03833586851304364,
          0.04085517116695233,
          0.062117161284542505
         ]
        },
        {
         "name": "4",
         "type": "scatter",
         "y": [
          0.018098909416631642,
          0.042069792413200156,
          0.006325739667236753,
          0.028336151747580803,
          0.03938721694529575,
          2.116027112889218,
          0.013990800311358652,
          0.02509655892447818,
          0.02875363940319218,
          0.014352911115307478,
          0.04138639278072802,
          0.0368139160089981,
          0.043439432569701855,
          0.04451841198840453,
          2.39355158552317,
          0.030515254400219606,
          0.022682631887698288,
          0.03380563339119753,
          0.05718536823803332,
          0.007154420715835395,
          0.017991924727805787,
          0.022093261708235924,
          0.020358053252534043,
          0.005393049310950688,
          0.02165540228185392,
          0.06477024233747707,
          0.034158022297596846,
          0.005814453483353233,
          0.018367452963151492,
          0.0368796696157241,
          0.025613451978857397,
          0.028298686188639142,
          0.01430116520026511,
          0.005911175858034721,
          0.016294115221034116,
          0.04242656779512489,
          0.015898968902573866,
          0.017231429374185932,
          0.026665898456295564,
          0.014839709931662698,
          0.045487453949756194,
          0.026670985456483273,
          0.04529881446324529,
          0.022978608013253275,
          0.03297365934801538,
          0.02648976081751631,
          0.02306658425396031,
          0.03930004073893078,
          0.009333885037950048,
          0.03460656634711602,
          0.030782260071523647,
          0.045968575764910896,
          0.022684109599359268,
          0.04582318050133567,
          0.02574889632076138,
          0.02150647586916463,
          0.007562203466030403,
          0.008710730637771296,
          0.006246963035501729,
          0.03154222417940312,
          0.011316042694299465,
          0.030150237223159623,
          0.00774876747271516,
          0.03113094138300546,
          0.034415954870486466,
          0.04027065416410073,
          0.02767000861558442,
          0.014846854409173967,
          0.04320577340977036,
          0.023096609946662367,
          0.005275084294927406,
          0.030463305051429194,
          0.006600270727069145,
          0.03552733798514879,
          0.024873147906033115,
          0.04312653111291273,
          0.0019029887688150606,
          1.5446055850840914,
          0.029438476545902974,
          7.741829818264423,
          0.01985620421792546,
          0.03950789384609739,
          0.02968049274268573,
          0.021895864908794065,
          0.024565172390502633,
          0.029034075497357554,
          0.03358268333798506,
          0.03312736562353931,
          0.022683528409010893,
          0.020142389468216566,
          0.01161100824702907,
          0.0042833011315982885,
          0.010308759649314363,
          0.015414253440402441,
          4.381413727075171,
          0.014348220567295233,
          0.021870053169808622,
          0.002906031163316768,
          0.03184256477355821,
          0.05339761221326219,
          1.7814055359980079,
          0.02956193552952897
         ]
        },
        {
         "name": "5",
         "type": "scatter",
         "y": [
          0.013960776887358925,
          0.05729253658231955,
          0.013194854100186634,
          0.026336986682679413,
          0.021476735960468372,
          0.014215873176725255,
          0.009556510396160697,
          0.05171338556127619,
          0.029018183526983772,
          7.97392577537496,
          0.03415618229810409,
          0.03524063044990415,
          0.019874381445741825,
          0.02137800322459269,
          0.036932880360702455,
          0.016420761104189413,
          0.006022195369736865,
          0.02556031315346862,
          0.011418098737933856,
          0.015948448985962232,
          0.0009478195661672323,
          0.022014697941672955,
          0.03315510689494633,
          0.0740658202717144,
          0.028582094955968897,
          0.02309442683935691,
          0.03618308182307079,
          0.03252224153217284,
          0.03288910981503346,
          0.02185783827779718,
          0.001501884503453905,
          0.022398066469567487,
          0.04761656603692492,
          0.015882036847424903,
          0.03707092592482927,
          0.020369337012038805,
          0.037746457201645545,
          0.029683060100297403,
          0.019983865807320852,
          0.03328580230584103,
          0.026071381479415137,
          0.014178846285394262,
          0.020911483782407723,
          0.024767729226051378,
          0.009333587367922811,
          0.01494905685466926,
          0.020065654598887258,
          0.01138515158371172,
          0.02787939271122577,
          0.024000754851565945,
          0.04681019957658436,
          0.0409368215318238,
          2.815408759970944,
          0.03593598003499056,
          0.022176551721312266,
          0.028172431120756704,
          0.006256809762614683,
          0.01002133641314802,
          0.017988850414292858,
          0.02310221838303772,
          0.00897193411798456,
          0.03498001584656766,
          0.03411326815160628,
          0.01713605781056242,
          0.03642531111958121,
          0.01772024696384153,
          0.01630328188177862,
          0.0032784462266298186,
          0.032103684903984846,
          0.011959296232742746,
          0.011929248042935624,
          0.020878102936156058,
          0.05603167828086652,
          0.007115192826354007,
          0.010006321859045179,
          0.02768785904261672,
          0.019405311264750452,
          0.011451347851838408,
          0.018014438308615672,
          0.017159510438195583,
          0.05467854094891306,
          0.03446919730079097,
          0.014146006576366688,
          0.018708383785196715,
          0.02015798863189188,
          0.03338497843502855,
          0.032567713119265734,
          0.03428465622394769,
          0.027927752717954862,
          0.024817027764840932,
          0.01653893902449984,
          0.040846118632860376,
          0.0331692232352944,
          0.018291023156448902,
          0.013260325849070713,
          0.018820059610371517,
          0.02014537241247032,
          0.027796944754994196,
          0.0182110499698737,
          0.018347989152705756,
          0.007739976970360116,
          0.025190212226837667,
          0.011432459564291293
         ]
        },
        {
         "name": "6",
         "type": "scatter",
         "y": [
          0.028447746796793984,
          0.040946217252513246,
          0.03947288614580692,
          0.012797967574404004,
          0.016155102934584085,
          0.04625778401053328,
          0.016791962492973014,
          0.005907370472467115,
          0.05810493837190637,
          0.047576218011421215,
          0.014145380716938726,
          0.04296976076042717,
          0.02332479910392414,
          0.023558384412625855,
          0.04966239629764093,
          0.006530401173642841,
          1.349404517351715,
          0.032858987432668504,
          0.03082368436966573,
          0.011836074240721224,
          0.042691395768450255,
          0.047968322560521345,
          0.04635095541198795,
          0.03699209591377007,
          0.01330263935832097,
          0.039054156116500795,
          0.03296207735867374,
          0.03353730118979272,
          0.029159155588699727,
          0.04222791894985171,
          0.030767538081445635,
          1.2284974397646307,
          0.06222959365271106,
          0.04441778775292494,
          0.023797306090180305,
          0.03162372125205406,
          0.02681462083993723,
          0.030930627968388653,
          0.008465654690305947,
          0.027171212687412984,
          0.01140113053199981,
          0.025311096959418408,
          0.042204044304871305,
          0.01980393497928717,
          0.03563251675187191,
          0.02436826554417923,
          0.03365027645375416,
          0.017179898224069155,
          0.02715326665276105,
          0.008096003739155507,
          0.050957393707027204,
          0.02390451868806723,
          0.04984819484372422,
          0.01316841033405437,
          0.04368250003322591,
          0.04094992434354757,
          0.031362740471635064,
          0.03420455558432182,
          0.04015612806924372,
          0.014467497781939535,
          0.010215740254212173,
          0.029619306253889602,
          0.017993047653904075,
          0.014110282446838396,
          0.013885483132305325,
          0.010202464632106474,
          0.02032967200774461,
          0.9265064039035471,
          0.006425192036799912,
          0.043194062079187745,
          0.025834070286079616,
          0.027383771183794405,
          0.017340972693745745,
          7.268742458722479,
          0.026049953010118896,
          0.011038859954541111,
          0.04069825161212186,
          0.007965211190795131,
          0.03712212285218934,
          0.03360207394084486,
          0.03149543898170264,
          0.04343314147524169,
          0.013314872638904936,
          0.05767332235617588,
          1.4964979195033377,
          0.04318041551828335,
          0.02626654140478536,
          0.024839287390502025,
          0.030477929615662803,
          0.012746742443597435,
          0.011244152976742744,
          0.05251368276960879,
          0.04096166169122144,
          0.025225417997132134,
          0.011946492866012497,
          0.05239227571090143,
          0.029441824816992007,
          0.012839145384489247,
          0.021965513412762705,
          0.024946452423342067,
          0.0035939840269668265,
          0.007058453229362339
         ]
        },
        {
         "name": "7",
         "type": "scatter",
         "y": [
          0.014889953511053093,
          0.025241569066977925,
          0.04408844116255755,
          0.011400310953959145,
          1.466132288075495,
          0.015355564011766484,
          0.02676854900134138,
          0.01527941775221981,
          0.018741574285986887,
          0.03740378750992519,
          0.01968376034834085,
          0.011406810662462349,
          3.6766809832466545,
          0.02915922353656716,
          0.02159393944258142,
          0.0175814111153079,
          0.03178933233854948,
          0.00738723810025407,
          0.03591861263503425,
          0.04279172085752758,
          0.002430223910471794,
          0.03180452288348522,
          0.009538939088306954,
          0.026713263841330128,
          0.03647852589669513,
          0.030364191701568573,
          0.035127626416545314,
          0.04250325713675875,
          0.0204780854286672,
          0.02542936045507053,
          0.049094375719781196,
          0.024073240852282265,
          0.015476301702706743,
          0.029743914472424835,
          0.031138128947372327,
          0.0287897889662332,
          0.02194756014660234,
          0.01806624359856058,
          0.011201477568902458,
          0.017621115592008067,
          0.006159206293800823,
          0.05006271882111711,
          0.028660315045373377,
          0.060483243377284224,
          0.013407210796884209,
          0.011440068299337903,
          0.02484251660207934,
          0.02314229027171505,
          0.024540760613681673,
          0.022245567481173477,
          0.023127418964028982,
          0.010116256850972727,
          0.046818926807513116,
          0.001105453940277748,
          0.008861264665730062,
          0.014587635510960218,
          3.8268406610132706,
          0.04004624129296015,
          0.05644469863260887,
          0.0423584489208117,
          0.004893745079881361,
          0.03593951134856182,
          0.016709903680338856,
          0.016009080884972094,
          0.004692664231447259,
          0.024374249790595465,
          0.030052263164270933,
          0.019952599239356893,
          0.04163856122447513,
          0.007357636927087149,
          0.023575092241364067,
          0.02849569590168134,
          0.01594767496150015,
          0.055103811720010415,
          0.03270357611392649,
          0.04214239583812734,
          0.02012584791946709,
          0.020856343048196793,
          0.025451379336836638,
          0.061243968271178194,
          0.05308406396322797,
          0.03366759257797671,
          0.02370305601507966,
          0.022344103043946132,
          0.029227119261369616,
          0.01352850438314079,
          0.015401517547908104,
          0.025096745575755263,
          0.033912133371377905,
          0.04754021558694207,
          0.006033162369666341,
          0.03257952370174347,
          0.016829879401391645,
          0.020932474821782395,
          14.156689096372936,
          0.020929081520572015,
          0.012642713634211636,
          0.01698607079987205,
          1.965544532587472,
          0.022976802748118696,
          0.04183245817295718,
          0.004529923626280188
         ]
        },
        {
         "name": "8",
         "type": "scatter",
         "y": [
          0.02483014758456878,
          0.029656461757188935,
          0.054054033927624104,
          0.01161913780031081,
          0.006987061109411579,
          0.011245763521335612,
          0.009933976824018084,
          2.077000534011538,
          0.028583107964000296,
          0.016475755296800624,
          0.025443868201973183,
          0.004426946685069502,
          0.005405683355834556,
          0.024586147389855015,
          0.008848550797250495,
          0.020019972477482897,
          0.02380872608259944,
          0.05422330971636106,
          0.040839888011128825,
          0.032610498130758704,
          0.03831435973187717,
          0.02105483605627179,
          0.01295463172777194,
          0.02309258059838623,
          0.02218634703722594,
          0.015245390742308913,
          0.0066023609858978614,
          0.02327584607262277,
          0.061552504019103456,
          0.051294287960513545,
          0.016832096062399788,
          0.05205613743074062,
          0.03438144535494089,
          0.01921202374413543,
          0.035027413938930954,
          0.0082715125932386,
          0.04556473999286173,
          0.040807268880117264,
          0.04585148365563239,
          6.735085351188108,
          0.05187357869243983,
          0.007482193225562789,
          0.04207234548950049,
          0.02670899274152691,
          0.02614363343421516,
          0.04261863717462026,
          0.023725477543600965,
          0.03686818243764649,
          0.0030519467790603204,
          0.012127488310437506,
          0.05347819098340893,
          0.031027104757323728,
          0.017689529420143003,
          0.05313409800847729,
          0.021320581328524543,
          13.034731941412758,
          2.028532816015281,
          0.025152268609154753,
          0.041493039106241976,
          0.02252517553455649,
          0.004229451723944909,
          0.021759470646015043,
          0.016337932651500613,
          0.03561028591002816,
          0.032887455868403304,
          0.05279225742924508,
          0.01651274532626726,
          0.03955315717026111,
          0.04497680282171109,
          0.016943688999539228,
          0.05353070545089275,
          0.029407532179353938,
          0.04644518938107053,
          0.051564596616023244,
          0.04514679711887561,
          0.04303668101349108,
          0.04155481808972558,
          0.022179695660218098,
          0.03380836683075322,
          0.053391681518285855,
          0.044443601647947556,
          6.152996688591851,
          0.011777026305919286,
          0.017692072965636234,
          0.038171890912342146,
          0.06126655035682851,
          0.009167046550075327,
          0.015832718889883655,
          0.04302177566344199,
          0.005412464348246424,
          0.023747402170692253,
          0.024150109112476763,
          0.023657627166843942,
          0.022754496525548916,
          0.030464351138280738,
          0.032492464441109085,
          0.030533243158392606,
          0.04551874446158295,
          0.007708857935638413,
          0.051595980815415964,
          0.03553953160095606,
          0.0076209550266500324,
          0.035260135909333044
         ]
        },
        {
         "name": "9",
         "type": "scatter",
         "y": [
          0.008675431929085658,
          0.04995785404094785,
          0.020817377921541626,
          0.032618944888328026,
          0.02404239994798955,
          0.034171153480499525,
          0.049041995278339634,
          0.017666473832768155,
          0.035063207848855575,
          0.018062655031239227,
          0.022912445736123842,
          0.03605957558858852,
          0.016966661823518,
          0.04020420529222465,
          0.02880880920698182,
          0.03711564712866163,
          0.03589385497679877,
          0.042180819617310544,
          0.011779610926124515,
          0.03307746698949175,
          0.01273449291972392,
          0.008218214817734945,
          0.016036250814114195,
          0.0371243711880962,
          0.022237773681370337,
          0.0027077065355598073,
          0.036104864481051255,
          0.026111131441510657,
          0.006241151983650009,
          0.028787471134014142,
          0.049705047794253394,
          0.029529310197137844,
          0.03257402731698023,
          0.030003277837528625,
          0.025712614099994906,
          0.02700807074532661,
          0.021354597668119996,
          0.024157389952812382,
          0.013029276965653752,
          0.01783001180211321,
          0.017344200789501905,
          0.00852312914401107,
          0.02666253352692032,
          0.02782344315838809,
          0.03559002158454803,
          0.020586709363126475,
          0.007760562386816337,
          0.03941077388497979,
          0.019206732186852492,
          0.019446337871840486,
          0.01913368994785293,
          0.04862157692740964,
          0.016464129707563526,
          1.8955501602430516,
          0.039615014974498104,
          0.014893609501595245,
          0.03957654487886394,
          0.036685604689140096,
          0.005788328073681589,
          0.04563030955345906,
          0.004067892774279544,
          0.005422815062821159,
          0.02326973526452642,
          0.02101387810325615,
          0.025261275717784904,
          0.028115449141068043,
          0.02004699213265352,
          0.007961636790112008,
          0.01787180307755194,
          0.02622233859257766,
          0.04708379277047714,
          0.027122123982213125,
          0.030572898950569992,
          0.02846843814653422,
          0.016328895587089744,
          0.02757158696808319,
          0.03601387037961019,
          0.040981395335459504,
          0.019798657864920497,
          0.048143848167207695,
          0.03461292515049352,
          0.04675776831700127,
          0.03278893641961629,
          0.03894241506140913,
          0.04737455490168901,
          0.024470926601440502,
          0.04124198766200335,
          0.03852192881206765,
          0.015334004002435913,
          0.03649498572979272,
          0.041667886790795396,
          0.02959135338563626,
          0.023543377523254676,
          0.02677950633986088,
          0.05508220679743478,
          0.008276106954173908,
          0.008473117960425335,
          12.991427695157425,
          0.01518114131223632,
          0.024593195617270056,
          0.03449440814406669
         ]
        },
        {
         "name": "10",
         "type": "scatter",
         "y": [
          0.03036787330257013,
          0.040427666018819086,
          0.02922432194013412,
          0.009997298251980062,
          0.006730266597123957,
          0.03835207327376578,
          0.037386630567513554,
          0.03160421540996285,
          0.015485927508227719,
          0.036059821141550166,
          0.02689147105327527,
          0.029627118419669928,
          0.03427434838114667,
          0.03926824220430782,
          0.011638923970881869,
          0.026236369854169106,
          0.01751637848711404,
          0.012555394908955688,
          0.010281038816175411,
          0.004047087271758046,
          0.05557378852974295,
          0.0170211192076201,
          0.04261097104436648,
          0.010843865430199284,
          0.021921871847070503,
          0.025510956917506364,
          0.03971180127538151,
          0.010839132346900726,
          0.040848300382136944,
          0.038591612517030215,
          0.020803532005282017,
          0.02387417940810144,
          0.041545528163389966,
          0.02947242882108657,
          6.015294032719123,
          0.01843721336724161,
          0.036853836618235804,
          0.038009343055337215,
          0.020405513803556697,
          0.01707500959268524,
          0.023111550260018383,
          0.022572756239717964,
          0.014708856735793268,
          0.03460126403959923,
          0.028405038677025218,
          0.05664376698010484,
          0.03915474284556489,
          0.030930068764181928,
          0.020569495689968922,
          0.029031484144344744,
          2.720899095491287,
          0.01690944674702353,
          0.015857144043026666,
          0.018611357575431947,
          0.011818788792317961,
          0.011028223203553485,
          0.03894571283114088,
          0.017236370863842384,
          0.005308210380408387,
          0.015784977462686384,
          0.009344351176282429,
          0.040137987763948224,
          0.03339357028757037,
          0.00980932720010523,
          0.03236125877545954,
          0.029429767306504075,
          0.05681848908909819,
          0.007820969127418606,
          0.0275668769906887,
          0.030365801372872613,
          0.014707617795705523,
          0.009738003185438406,
          0.019505625651582013,
          0.05224103161701072,
          0.03683214655542508,
          0.024461435333533864,
          0.0061912073095525665,
          0.04163729195395496,
          0.03343835972318455,
          0.03493776421687763,
          0.011629550264770912,
          0.031561688932305314,
          0.01027903235772644,
          0.013204554016682891,
          0.021815309650066346,
          0.057573659381891885,
          0.008739611483738469,
          0.015145119687322586,
          0.024215063404729023,
          0.03227864563811939,
          0.055935285111175743,
          0.030933338784790845,
          0.03192849379605822,
          0.023742230054420558,
          0.0425147139690238,
          0.00802372229879313,
          0.027102489335332047,
          0.01039756458820755,
          0.01939230341582042,
          0.03164292764618866,
          0.042045895283706655,
          0.058918667431794906,
          0.01433087773227339
         ]
        },
        {
         "name": "11",
         "type": "scatter",
         "y": [
          0.03745130970837299,
          0.02861702106937487,
          0.01449512285960132,
          0.014695670095470254,
          0.025301493912741443,
          0.016946828315113193,
          0.036877133282752966,
          0.012740477138576648,
          0.015058502325700844,
          0.018282609743775616,
          0.013814507175190787,
          0.05063164042448037,
          0.03055076189742184,
          0.020336712024317867,
          0.030885923493648274,
          0.018458123486187077,
          3.9417015579118666,
          0.014566083645156096,
          0.0252790119852069,
          0.010068294984879822,
          0.01978850738424054,
          0.013589378051613032,
          0.022503390537911398,
          0.029397417327571725,
          0.023379994375930645,
          0.01863465837894214,
          0.011758196540882176,
          0.04970031008618979,
          0.03604285403985084,
          0.00884474031735947,
          0.006197619073120386,
          0.004840683967395167,
          0.008537883890320876,
          0.01624366570678678,
          0.05016588741263428,
          0.027618679035649487,
          0.02100943861178551,
          0.052507060470557636,
          0.03430647803061008,
          0.0342371462296055,
          0.03663423741451675,
          0.047831591949815656,
          0.018637014519458425,
          0.04774768611531851,
          0.04828947740707103,
          5.111538070853514,
          0.015846386971903787,
          0.040086835136098675,
          0.016517645043829216,
          0.0528676556523403,
          0.027789992320238602,
          0.018772846169105538,
          0.0372516872167512,
          0.01397884949720198,
          0.013214528132663309,
          0.023608419636713892,
          0.023627660091946494,
          0.017252257994873323,
          0.01932800937246318,
          0.02895585207997982,
          0.021415150199380225,
          0.005637727982965044,
          0.02498371610465191,
          0.0046943367606071115,
          0.02322349333107312,
          0.05242944546650192,
          0.009318886129830561,
          0.030236540103918783,
          0.03650724175923883,
          0.039246151990281745,
          0.03690926728940617,
          0.020722567178174826,
          0.03315610919983106,
          0.003516697175557276,
          0.008841680212628267,
          0.027782039018968883,
          0.02221370674608671,
          0.01443289687764095,
          0.02471772755392816,
          0.03206614946126285,
          0.018603652389307758,
          0.04431271837542019,
          0.02113138768998446,
          0.015253618381077553,
          0.02562624488129188,
          0.02129744496193395,
          0.0347730717958127,
          2.3933900649400206,
          0.03483700799689873,
          0.008650136557607668,
          0.014055741738983217,
          0.03891559734792588,
          0.05032626683801675,
          0.01812809151161367,
          0.03204954648122706,
          0.03804123012367085,
          0.029344104491817898,
          0.03149369928222455,
          0.014385041848732617,
          0.04473430628232165,
          0.01597924529237485,
          0.013574720419646368,
          0.005208205048101638
         ]
        },
        {
         "name": "12",
         "type": "scatter",
         "y": [
          0.024851670026319553,
          0.04647946836844622,
          0.0062504755110489784,
          0.02995631169110456,
          0.06464582807677749,
          0.02627709324591752,
          0.013958434653405759,
          0.024078223283484888,
          0.03264100929439507,
          0.03552370198349342,
          0.04807283487914306,
          0.011533779111098534,
          0.014073754147887604,
          0.02512735981803008,
          0.017706432174287717,
          0.0047906692977740875,
          0.02396550579998386,
          0.02234114470407474,
          0.009309945779509539,
          0.021324312706500998,
          0.026171156846272917,
          0.016183148619869782,
          0.011509651801619456,
          0.05164263689191249,
          0.03367529371599269,
          0.00914964215440545,
          0.0330936296029418,
          0.042932278312625735,
          0.013244705917106069,
          0.04569573509540117,
          1.8311706042141407,
          0.016739261212584577,
          0.026527684268804846,
          0.04506267581266359,
          0.03053014682816649,
          0.04411414004431172,
          0.021241158268971782,
          0.039736459960454856,
          0.020322957992911006,
          0.011671119411079608,
          8.07189707798346,
          0.01562532287350172,
          0.027739736049104978,
          0.03647930691769007,
          0.020044072696029702,
          0.013577719928480694,
          0.010159820589935694,
          0.023175939178160843,
          0.013748072311266114,
          0.02161128309959672,
          0.016680888484347494,
          0.006550381709517079,
          0.028914049418427377,
          0.06314061405929115,
          0.01690052993978633,
          0.01361424790259801,
          0.036075083053315284,
          0.01714189579200261,
          0.006192815360307998,
          3.7426529405826754,
          0.0428386123034891,
          0.02267577473758486,
          0.037730117969242596,
          0.025760688887471028,
          15.308900962882337,
          0.020797121784758663,
          0.03279148891552842,
          0.01692292745955905,
          0.030487424541004712,
          0.04918771968117074,
          0.02465330735431709,
          0.038485013895150424,
          0.041635724683026,
          3.6328778877562953,
          34.20780884647631,
          0.02625527579371473,
          0.010372465800486626,
          0.01936458822738945,
          0.0356261938533048,
          1.2958729473892339,
          0.014368070680748371,
          2.6599431147291175,
          0.021141662051467034,
          0.019878092283708123,
          0.02353521714892767,
          0.04267770002580297,
          0.017657880324858183,
          0.013875891630842869,
          0.01776393105474945,
          0.011610121206721637,
          0.012578265963982815,
          0.018516222670908147,
          0.03275124324498912,
          0.0257667395446741,
          4.216379819666966,
          0.045837893236497125,
          0.041753096417070895,
          0.018796056437393942,
          0.032457813574147835,
          0.022406240170589585,
          2.9260406379832022
         ]
        },
        {
         "name": "13",
         "type": "scatter",
         "y": [
          0.016811222722571267,
          0.04814744673953296,
          0.02398487586629523,
          0.051762694114674365,
          0.03258565029787275,
          0.011049209544821678,
          0.016157116467975727,
          0.048111351062074446,
          0.04502601247352891,
          0.01572313351801392,
          0.029340071459235603,
          0.01246943044298052,
          0.03679665267138489,
          0.04795869759728296,
          0.044026125165544695,
          0.005864275165621875,
          0.02044249918765107,
          0.016440352077372208,
          0.03350868904073555,
          0.035266324767588855,
          0.027898261388528637,
          0.013163640904442586,
          0.026699142366993608,
          0.02635567565366961,
          0.008253900817304238,
          0.002400356805620045,
          0.044889430427136535,
          0.06973330919462155,
          0.0409652231093768,
          0.05474609529298734,
          0.02510152979924244,
          0.04479470504775479,
          0.03084471069752863,
          0.016948132910371113,
          0.011831484702314788,
          0.02218197902977332,
          0.02245711793772754,
          0.009962530652514163,
          0.014500474091715627,
          0.017390091954172068,
          0.03459582940629137,
          0.015013971260038015,
          0.06301114709622303,
          0.0036748927641857445,
          0.010853033197572944,
          0.010592953129831497,
          0.009434446696328352,
          9.619257985641827,
          0.04231871903334478,
          0.037362153708591354,
          0.01000683547651861,
          0.04885866950827079,
          0.033984897504454346,
          4.335584489750308,
          10.503360798593587,
          0.044416434903833346,
          0.03688695338875537,
          0.009094135782359333,
          0.04011400701734331,
          0.028433696506456337,
          0.028674869288520453,
          0.032276425982140436,
          0.023260500295237723,
          0.01613881154713123,
          0.01737141068560338,
          0.012090924975074515,
          0.03977357442543594,
          0.035960454787288265,
          0.009665216149517935,
          0.038423822118926414,
          0.04364706921050355,
          0.004980394499496443,
          0.013535266243075073,
          0.04427362382402455,
          0.038276396795541796,
          0.02868596260549332,
          0.031831342632983484,
          0.02233630969860548,
          0.017877060992363945,
          0.024184365540716755,
          0.028546572207522797,
          0.01967188288574147,
          0.04718484849937969,
          0.024653569488035744,
          0.015548360679631432,
          0.03143114846401588,
          0.02889828573369971,
          12.894840113562653,
          0.0205782413903152,
          0.04319931807669155,
          0.032483244667200754,
          0.03920387728553675,
          0.032820223772666315,
          0.05262413586638092,
          0.05873591948517174,
          0.007814412022610774,
          0.00568048011075895,
          0.019475681886185352,
          0.040622263457057495,
          0.04663050752893775,
          0.014515924572580403
         ]
        },
        {
         "name": "14",
         "type": "scatter",
         "y": [
          6.907515442241051,
          0.026574136796909117,
          0.03891159060495088,
          0.04065585141869323,
          0.008284508554007553,
          0.14587929516188217,
          0.018981410763257708,
          0.02190215801902446,
          0.019269179453191787,
          0.01855073265270599,
          0.026879152081467676,
          0.03525147545315121,
          0.013743457232371338,
          0.05114387791217658,
          0.03269153102878828,
          0.03109901152964924,
          0.03304287649588021,
          0.005875405903087473,
          0.037929024999174346,
          0.0398109659351389,
          0.04516533322462113,
          0.004243035258159306,
          0.05620820288616676,
          1.4914245321618615,
          9.451569374025956,
          0.07251128553395118,
          0.012648982445025232,
          0.044292507759066325,
          4.663553107218284,
          0.034133292761846304,
          0.01682561629121292,
          0.025606858935155456,
          0.03758407217326581,
          0.008556854897353262,
          0.012229714742538896,
          0.010578100603413616,
          0.03275065228273582,
          0.016199016604801577,
          0.019940675097157246,
          0.05232336646215694,
          0.046813994114066775,
          0.030562078595175436,
          0.012137437355681631,
          0.016960386750226795,
          0.03677999595611353,
          0.012987257885543847,
          0.017436145228743753,
          0.010636368483437839,
          0.028337782236000756,
          0.021024977575413835,
          0.018012663834187592,
          14.177985213519811,
          0.018876210428332683,
          0.03613756929195999,
          0.0422748557168999,
          0.026780615609649137,
          0.03139267614465241,
          0.013479000346656491,
          0.06236232622753869,
          0.018681885620267194,
          0.02714330671012195,
          0.01760393311925083,
          0.03443877993425898,
          0.01739913478116124,
          0.030991578030836735,
          3.678839840926574,
          2.953259481104929,
          0.029847388896008135,
          0.05609857424581555,
          0.060502587838394406,
          0.032409446899042585,
          0.01043830041934264,
          0.056403463150953285,
          0.03046406220275845,
          0.007954212141596275,
          0.04963601196825674,
          15.88601490077999,
          0.02226573624210339,
          0.04148067243218036,
          0.07107595545728958,
          0.025311440864007093,
          0.015794225760918833,
          0.007850665351478017,
          1.6344519427984123,
          0.0179938044198284,
          0.038644821818261704,
          0.035366348504592963,
          0.022406601278386163,
          8.996169366310951,
          0.019873232731280915,
          0.018364611189503905,
          0.049240583708453745,
          0.0332667898573966,
          0.018058493559707896,
          0.028093055123088535,
          0.043537082327710704,
          0.032563432888947814,
          0.024817200021079688,
          0.051902510102224804,
          0.026037306878469346,
          0.04891860073285965,
          0.02985035179079084
         ]
        },
        {
         "name": "15",
         "type": "scatter",
         "y": [
          0.022535940086216948,
          0.05016239240596035,
          0.03358074313193287,
          0.00230833230392759,
          0.02212201708602982,
          0.0076798543302763886,
          3.9153544340262405,
          0.012176068724167356,
          0.02799524440188331,
          0.029082634838419785,
          0.012600458870147302,
          0.039880584863960386,
          0.0480404338138041,
          0.024980444659582986,
          0.014738823506909594,
          0.01365396298409705,
          9.381601023113099,
          0.033059318386960274,
          0.026046142582191564,
          0.040290539991925944,
          0.021597739331143073,
          0.024890379921958975,
          0.03327090246885814,
          0.027153219473986887,
          0.006192145160227786,
          0.032033238723566164,
          1.2495163941473255,
          1.3636953795818558,
          0.015470851450500494,
          0.014159065205580877,
          2.3572446577687747,
          0.006266054558933993,
          0.012704571830534658,
          0.0137498954632397,
          0.003684778921378278,
          0.04858205103428306,
          0.021361907518725805,
          0.0285773031554207,
          0.024032968377644875,
          0.03186393630977112,
          0.01778612467220652,
          0.04118975467337152,
          0.05225984226556816,
          0.04729841190562012,
          0.01742008676754601,
          0.049031035092101896,
          0.05547890501297408,
          0.018099222295348976,
          0.02100704314493724,
          0.02040918602158681,
          0.05348724590629924,
          0.047096751705414254,
          0.03696175212429667,
          0.008700135602416087,
          0.027733943059825017,
          0.02730094326628316,
          0.05438871981327042,
          0.02607504310694534,
          0.01196862916044509,
          0.016543969639097662,
          0.02909852905852809,
          9.382564313264695,
          0.01610450066683175,
          0.05099271592443256,
          0.008700037287813132,
          6.173497715537471,
          0.03909881399143745,
          0.04731215518700647,
          0.020820296640039673,
          0.017120572817883813,
          0.012569448018527342,
          7.354191124998467,
          0.06102213033718736,
          0.00852199330042201,
          0.031544720625035085,
          4.659263906039309,
          0.020409780994980767,
          0.02987775469345787,
          0.047393601233205164,
          0.060003199694227474,
          0.020170595012815117,
          0.017831155564869968,
          0.021381810448405873,
          0.022082322338817566,
          0.03503360561480173,
          0.024481362590720757,
          0.02933561074071976,
          0.01446860411183745,
          0.041354239835492586,
          0.0240834908785958,
          0.008922273729318862,
          0.03198459741861049,
          0.024967820246056913,
          0.039166394938620015,
          0.029782236617278673,
          1.5820884750940516,
          0.018069254968815226,
          0.039180021237291106,
          0.045659241088611684,
          0.011983881269685909
         ]
        },
        {
         "name": "16",
         "type": "scatter",
         "y": [
          0.03390691844927168,
          0.014068501020358963,
          0.008847782277728998,
          0.011601622408314905,
          0.019427820707624555,
          0.0417456039535735,
          0.03305614733674875,
          0.0028709773082960556,
          0.016408170896472715,
          0.030527260293105124,
          9.948560093536075,
          0.057308816915900014,
          0.009855493686910514,
          0.029275589582527864,
          0.049425771471943374,
          0.013961662582578622,
          0.057589698689799664,
          0.037146998258979526,
          0.013725714257093072,
          0.03489703615627604,
          0.03069662137023078,
          0.023990095853523335,
          0.04203194311740386,
          0.009209033848685278,
          0.03914130005360604,
          0.016617246280486605,
          0.025264663683135465,
          10.767705252512929,
          0.02718318737386472,
          0.05443747984518592,
          0.01882805762833244,
          0.004283523021198528,
          0.05124871913472024,
          0.011803006937755987,
          0.05224833943057044,
          0.011358476317689721,
          0.019975670828419403,
          0.03891813026085864,
          0.017461458742032795,
          0.04537955539954702,
          0.032360768867174115,
          0.046337175756665655,
          0.015459423538935244,
          0.0303257268299273,
          0.05023355284865378,
          0.014678682566740155,
          0.019819858784104402,
          0.03496746087366325,
          0.014323923023790625,
          0.01830930056355485,
          0.034437302797826676,
          0.0333885654951493,
          0.02015034449723627,
          0.01474443949936689,
          0.031179265206114706,
          0.023773346961754527,
          0.029580907646487076,
          0.02809656412174013,
          0.01137511013369756,
          0.0302239855651686,
          0.04438922902562603,
          0.022103140211193122,
          0.009797698984143966,
          0.04593026277667537,
          0.034382994888680046,
          0.04139201374923299,
          0.03934193662322668,
          0.03963972305708023,
          0.019643753745893028,
          0.03392381217846207,
          0.03661908195409797,
          0.05272153629244952,
          0.00886876101217205,
          0.034129826948009506,
          0.00930778036972804,
          0.03741479277665402,
          0.023998567102645498,
          0.019696134230228566,
          0.020319496381991525,
          0.011636792147268843,
          0.021493330284214355,
          0.01465837294251918,
          0.006520258239176164,
          0.029147755469363327,
          0.012715147208777769,
          2.9865711140073024,
          0.03254473581402907,
          0.016189135149783884,
          0.021110098648578393,
          0.04298742409495544,
          0.010479949015368719,
          0.04603141544262178,
          0.04722680792102487,
          6.153570158576902,
          0.021347634951813365,
          0.06233494470811706,
          0.021195387592705815,
          0.02672749727915253,
          0.03786157036079621,
          0.0257552421074699,
          5.888130727328148,
          0.03511412127804382,
          0.03664132671212555
         ]
        },
        {
         "name": "17",
         "type": "scatter",
         "y": [
          0.034559502211629706,
          0.017124576227700417,
          0.04204125683317063,
          0.03615413544751588,
          0.03160404202548773,
          4.494832561721837,
          0.018041422052316052,
          0.028489908292976766,
          0.025137866212651086,
          0.02277210740812757,
          0.021786865386765643,
          0.019725764534222413,
          0.010176771922949291,
          0.020507463650116225,
          0.025529735393922993,
          0.010298639293470857,
          0.012770087608726851,
          0.02270822987192717,
          0.017360146313563023,
          0.019589980943341877,
          0.0196226089240042,
          0.0228053426212912,
          0.03250118749281854,
          0.03350342959228567,
          0.033802928637135826,
          0.023820732404667894,
          0.012821798633959733,
          0.027367477407415006,
          0.02687241624724658,
          0.032767570281864715,
          0.022584432339949407,
          0.03544392653263491,
          0.04042928480453287,
          0.020368522130266378,
          0.019933520036898494,
          0.03764417486085252,
          0.05565056884724939,
          0.03969670042300384,
          0.03990870682928988,
          0.04017872579600955,
          0.03435993258460878,
          0.02392133556403959,
          0.026797968816790994,
          2.3041548633991598,
          0.05796794207550493,
          0.016135427740462716,
          0.024810176697024677,
          0.007913580044621608,
          0.020890648777458755,
          0.03550425489840281,
          0.04051597246850247,
          0.02086880395057043,
          0.02296711026799205,
          0.025119805682551084,
          0.015374546650554839,
          0.029437824200231066,
          0.016561822295076373,
          0.031828161801598025,
          0.013654782865598762,
          0.020697931098781906,
          0.028436411092605408,
          0.04064888276789962,
          0.007113263695218138,
          0.016438572906215188,
          0.015559749893945547,
          0.029648902990908336,
          0.014342715643688829,
          0.03146751824214389,
          0.015341870559292425,
          0.01069604196745033,
          0.025358851217245185,
          0.028858123454290154,
          2.4707133911189127,
          0.008351954375571591,
          0.030474806987260745,
          0.027624848142759912,
          0.0013680297846410249,
          0.009826598605317306,
          0.02749022767142054,
          0.01640212837341659,
          0.01957583063758082,
          0.02501595011054669,
          0.01071947686141399,
          0.01994519195214875,
          0.02958542292983306,
          0.0157204923863462,
          0.005791141060336146,
          0.02325840123863158,
          0.016119302678324992,
          0.024061923897589512,
          0.01799317956764622,
          0.031279338752788724,
          0.042693959518265004,
          0.003024415778981028,
          0.007004583168809735,
          0.013812809278129994,
          0.026191718512051848,
          0.01816834822671954,
          0.008607005683830401,
          0.031829053193110676,
          0.016240933921788738,
          0.024963854311801904,
          0.01798136511196808
         ]
        },
        {
         "name": "18",
         "type": "scatter",
         "y": [
          0.008529191941432568,
          0.03912671972263063,
          0.03933608281962433,
          0.03564555011395785,
          0.028459055623991432,
          0.02741663615522594,
          0.01487454081891154,
          0.02248400596821166,
          0.017011018275316644,
          0.03917208404366176,
          0.02968875065997823,
          0.024514833217311145,
          0.008661032037600932,
          0.028424600478575153,
          0.03187248381203242,
          0.02963435592985803,
          0.023474633590184448,
          0.01662221715174914,
          0.017263063909072278,
          0.03239013190731768,
          0.041932855139564615,
          0.03435499859644705,
          0.031689410579495765,
          0.009883539406591011,
          0.009560635538866168,
          0.018802501510774706,
          0.04485680717131564,
          0.04876654015453868,
          0.0278249530892161,
          0.050190811942895895,
          0.02819227727306879,
          0.012294062931383536,
          0.021924362860601513,
          0.032639406979684,
          0.040077141517225315,
          0.011963522398975397,
          0.023572677885465163,
          0.014642885868677997,
          0.007570397848839658,
          0.010606125068763544,
          0.022683329840971034,
          0.01614871007959846,
          0.006897331407881628,
          4.1008957999720055,
          0.007212120817667229,
          0.015526128379155566,
          0.06473134378324283,
          0.003688168205887756,
          0.01118746602914233,
          0.023843278795155635,
          0.014404217217279167,
          0.04274472892425786,
          0.022766429877108436,
          0.032011143375652265,
          0.028131409641689756,
          0.017545723426036792,
          0.04745009214143192,
          0.019479520287864767,
          0.012005667779305236,
          0.04169054001442232,
          0.036215552733301945,
          0.019502889902824,
          0.023845945293411334,
          0.0021384342695850425,
          0.020435013666860017,
          0.03856474348925323,
          0.009275841502254994,
          0.03314564850817721,
          0.026555711449786145,
          0.04586007169864631,
          0.02998502713359184,
          0.013545239684263697,
          0.027400392969104105,
          0.01830486081335374,
          0.033980843352167805,
          0.021275905283410577,
          0.025755857616556327,
          0.029576239801501005,
          0.0480088663468462,
          0.04338780956272904,
          0.02472100588356778,
          1.8308698326908217,
          0.14599559309578014,
          0.01950060453893264,
          0.03896139072874847,
          0.023837075293688153,
          0.020292571645870446,
          0.030160027779120118,
          0.03854268145772386,
          0.03826559734089925,
          0.026257806016538508,
          0.015082908039923529,
          0.008167387231822235,
          0.02685303883315439,
          0.034585448583008126,
          0.021516277741265515,
          0.0263436209575102,
          0.03788307930211886,
          0.01927478787690535
         ]
        },
        {
         "name": "19",
         "type": "scatter",
         "y": [
          0.04416949679166148,
          0.022871785397188486,
          0.0409299456998405,
          0.04812374910180361,
          0.05053366279646584,
          0.03374683399023634,
          0.03225453068492368,
          0.017641976012002954,
          0.038423438742035194,
          0.050585365590402664,
          0.05453179620930152,
          0.018453880135163282,
          0.009030849218228306,
          0.034004596332650176,
          0.011204591237526393,
          0.03960291366853789,
          0.017328414103523464,
          0.041835614188992544,
          0.029254013273037623,
          0.02155960602377786,
          0.026478196802357884,
          0.02911090830777336,
          0.021687001729424463,
          0.03158923296001723,
          0.046361277270840134,
          0.037352877001717945,
          0.006653273197209082,
          0.024035643457707884,
          0.010787554904856219,
          0.016730956051125033,
          0.010125868785557273,
          0.020427614652170013,
          0.027908649311863844,
          0.04044109890308986,
          0.016289308181420038,
          0.01762867770956727,
          0.03906184693880263,
          0.019772073661039963,
          0.054674881762134725,
          0.030331534514437035,
          0.01614349534822129,
          0.007954936608085312,
          0.013468204783265146,
          0.013226697790604832,
          0.03649692632590298,
          0.01207614294756624,
          0.033680780394909786,
          0.014796897579058466,
          0.016179647235004778,
          0.02052891652474057,
          0.03692570456145653,
          0.026360384771599202,
          0.012303300567580434,
          0.03841233907722529,
          0.035551931393274956,
          0.021772674415729245,
          0.023097236977525568,
          0.007078471807248103,
          0.02156176596380749,
          0.024023129997610013,
          0.04894402318193605,
          0.022073944582089146,
          0.044976982640026995,
          0.03631295705161052,
          0.0334684258925121,
          0.02363994107238319,
          0.006450707195664562,
          0.03495985773797279,
          0.02642657908695288,
          0.045864737750801514,
          0.046558823144579854,
          0.032531470205688105,
          0.0028767579658307,
          0.0029499338967305345,
          0.03339907674910315,
          0.03419625012752466,
          0.018620671767515903,
          0.027886219193322893,
          0.013660467062664371,
          0.02869710641638554,
          0.009111449621609409,
          0.016849920519406023,
          0.025213623713693553,
          0.013838721899203784,
          0.015780690076132017,
          0.008592631252818415,
          0.02611149643737272,
          0.041855444337545074,
          0.0419431913293164,
          0.15242392270637192,
          0.027070232567506954,
          0.012932913439777455,
          0.030008835208368063,
          0.03436431392918326,
          0.04540168648653149,
          0.023068961521436164,
          0.022411491047597282,
          0.021025340140250603,
          0.009761847494465362,
          0.018352791786901617,
          0.04593479207270024,
          0.012935829081460975
         ]
        },
        {
         "name": "20",
         "type": "scatter",
         "y": [
          0.050015648661140014,
          0.01310448408379214,
          0.02643361971667332,
          0.0076937154806962955,
          0.06585441453670958,
          0.04270713316785982,
          0.03473188709387443,
          0.01194374665098361,
          0.011087571981137778,
          3.0668226903212257,
          0.021754864981429988,
          0.044060831135749205,
          0.015433845314741393,
          0.021722663791538397,
          0.03202710086252394,
          0.010662807832766881,
          0.02687810859063932,
          0.017326393941374786,
          0.04332729456608144,
          0.040887710635604396,
          0.025622332076784594,
          0.01945268200158578,
          0.013492305765743211,
          0.02537863373593373,
          0.006697193493274744,
          0.008830643142682686,
          0.036196489434899906,
          0.024775531973776025,
          0.03545353377996297,
          0.03461871312476168,
          0.009458466343923047,
          0.038263741815937426,
          0.045036182234711473,
          0.027883666335949533,
          0.031027792784413966,
          0.0176423215265164,
          0.027957144279845185,
          0.02812370811116411,
          0.03147047131616001,
          0.03990041616551898,
          0.026754977696409558,
          0.03077654296106984,
          0.0282487744067444,
          0.021026283772756105,
          0.036871766257962756,
          0.05404121084372409,
          0.03489589966994684,
          0.04901111320529743,
          0.005034491653197756,
          0.02893054026360941,
          0.04087067937180519,
          0.024233605217699367,
          0.03656013140945547,
          0.015643028656105833,
          0.030777668414512308,
          0.009762908706500173,
          0.03597638935881787,
          0.024233019513478615,
          0.020587019851944107,
          0.022548955435297818,
          0.011188577815482085,
          0.015481909332279643,
          0.04145966610142463,
          0.02568520213161497,
          0.027611913096882063,
          0.0432990974960671,
          0.017525719738287097,
          0.03895603016251061,
          0.03801128922884719,
          0.03612792278541608,
          0.017696313890396498,
          0.017627817516983155,
          0.012524464355533246,
          0.023955541567700044,
          0.034119753304287424,
          0.026242444765249152,
          0.041781013226082526,
          0.03908031348875076,
          0.05031017049573356,
          0.01225330178802852,
          0.035490200094589586,
          0.028046059571570463,
          0.02875228353364285,
          0.03130407372121268,
          0.052113508471011386,
          0.016128739314586686,
          0.02728833450190153,
          0.03861214187381154,
          0.04861164115967694,
          0.021815858625308535,
          0.037875093839902424,
          0.03537600293037962,
          0.02671543981894015,
          0.021350652119167084,
          0.016858342523205665,
          0.01372648961677155,
          0.055843769850334145,
          0.03375988040205231,
          0.01860538026008914,
          0.016533485249832922,
          0.013002848455584972,
          0.014061273229090827,
          0.02876437149898084
         ]
        },
        {
         "name": "21",
         "type": "scatter",
         "y": [
          0.03323735447256924,
          0.017595124631074013,
          0.011664782243222252,
          0.007804355464307554,
          0.032877265473164864,
          0.013989702111045131,
          0.02958833762916693,
          0.025856202170860397,
          0.04336793006317157,
          0.03234317963869753,
          0.040436874886865905,
          0.037802633593666084,
          0.04601329996716524,
          0.01679950430172012,
          5.251268782309734,
          0.02887038938136779,
          0.026570277884615787,
          0.062158576603121296,
          0.03935505740907332,
          0.019512841120663427,
          0.056270795103005145,
          0.03390997186728406,
          0.02052776721675471,
          0.020733884032933476,
          0.02351405410274879,
          0.039115089063091614,
          0.04420390746746918,
          0.022394589376807147,
          0.02330335844962464,
          0.018991956322146984,
          0.011948604078707131,
          0.027171628929962305,
          0.0192852912312118,
          0.02960851486445935,
          0.05186773589268718,
          0.051684813632493866,
          0.01564792324872475,
          0.026370951872947204,
          0.03712148724369744,
          0.013078239818851735,
          0.03404259178537752,
          0.01226478081221557,
          0.02357964353225712,
          0.02271766589089421,
          6.549580788144867,
          0.04065229296750091,
          0.034426171434314985,
          0.033386872846715744,
          0.051735617901344504,
          0.03292977512565568,
          1.8501484422359695,
          0.025658523289965735,
          0.006327580231681675,
          0.0168277350134138,
          0.013879861493425065,
          0.012726821082727319,
          0.03165231724730797,
          0.02278057223759179,
          0.027566001886649687,
          0.035948515146530614,
          0.134498630406591,
          6.80174194459166,
          4.7669600384353625,
          0.019833252106670814,
          0.022688957997514674,
          0.04450240294456321,
          0.03125923946593442,
          0.027563624637458588,
          0.02009249998842564,
          0.049797359208839514,
          0.04065663309150432,
          0.02748204358608097,
          0.02570302073739788,
          0.04231053580632099,
          0.041127611946657684,
          0.039207325922444525,
          0.030688925446953265,
          0.02544302317331207,
          0.03816712037911089,
          0.03672575355506748,
          0.04539336936745093,
          0.01876140175592401,
          3.100791473990945,
          0.033312405608171856,
          0.051307463410038945,
          0.024141786326005513,
          0.03237949090887906,
          2.069933106454367,
          0.01868851070589755,
          0.004191083417460122,
          0.01789693657352032,
          0.03214064965139846,
          0.00938679394083895,
          0.02887026135227346,
          0.021880088304495095,
          0.026065568596912593,
          0.023474882637324623,
          0.02172873918528406,
          0.035224884285793207,
          0.01587483443826387,
          0.01204266812799715,
          0.017935899944758905
         ]
        },
        {
         "name": "22",
         "type": "scatter",
         "y": [
          0.039103220879446766,
          0.022819391759693095,
          0.0353832475468196,
          0.03686808116379082,
          0.027865887113042,
          0.032232078553199685,
          0.025490111087386844,
          0.0472811461998355,
          0.013891740946005827,
          0.02550149146249205,
          0.02106138068545729,
          0.017332755583203577,
          0.021069599656309036,
          0.037908000461474065,
          0.007833148158211584,
          0.015177810509496003,
          0.010159858999973664,
          0.026335172658228986,
          0.012888110077031948,
          0.03245458822172726,
          0.008266122964716786,
          0.021381565385842655,
          0.02591509279578526,
          0.0179264721074452,
          0.031572842767292233,
          0.034662257939655376,
          0.026017841161472308,
          0.019520478515821255,
          0.020907768744079416,
          0.03623047456171746,
          0.03774043675943661,
          0.01091479983432641,
          0.032553232399929036,
          0.04230537037385308,
          0.04790941145283013,
          0.022808253811114784,
          0.012475814813272932,
          0.03367786648313872,
          0.0474291788580324,
          0.021409923423634174,
          0.02861071898935857,
          0.023107678261363812,
          0.024848351601638927,
          0.01642277363780272,
          0.03754260294806679,
          0.03180161393549526,
          0.030578103603924035,
          0.03560353661580045,
          0.008916682587593533,
          0.025567180122207437,
          0.03100215100510372,
          0.06280221552076046,
          0.01324485186899968,
          0.018059354029962747,
          0.044807913532823145,
          0.025357244143770323,
          0.03877799061397198,
          0.023031467374255397,
          0.023260416623665497,
          0.02497189126538578,
          0.044617057977913196,
          0.028072414978456663,
          0.014762486454525037,
          0.028177056761836093,
          0.019905196798878002,
          0.025034039736248535,
          0.007647602656999711,
          0.024766950035866073,
          0.014584632335219845,
          0.008802926214000003,
          0.02798993985887284,
          0.02592044699500494,
          0.009509174090096493,
          0.03422554564324788,
          0.041617042063297784,
          0.03716429304927742,
          0.03695115902372823,
          0.03769128633878021,
          0.024978693769220107,
          0.03584087813729887,
          0.00340844732610897,
          0.034231644746698535,
          0.038848816078435745,
          0.007640830280623248,
          0.024518512457302816,
          0.04066225161124667,
          0.017986091232483473,
          0.01126494695934789,
          0.00806696670858722,
          0.01385983410661968,
          0.02976001237006852,
          0.028998142056979048,
          0.04074321042918988,
          0.007599076708289408,
          0.04013637874012352,
          0.03208550781343616,
          0.030481188606624736,
          0.027638917253418674,
          3.6948035703587996,
          0.02990687305659132,
          0.02861670421283113,
          0.010107496983898777
         ]
        },
        {
         "name": "23",
         "type": "scatter",
         "y": [
          0.009565634228300278,
          1.7336096397090968,
          0.027900956798771956,
          0.02416621021427117,
          0.03688720919694827,
          0.005741529488245668,
          0.04423349778360257,
          0.03619060861711238,
          0.044486673130909635,
          0.029062097498383746,
          0.0013143710553273266,
          0.01343760839345261,
          0.04157041390809621,
          0.03358401497452735,
          0.016139781667178974,
          0.029955379947388262,
          0.03517926833053105,
          0.04905451609569808,
          0.04938160283341627,
          0.01992964380953441,
          0.029582570254478285,
          0.027406745213235773,
          23.4395329638272,
          0.02559285523375751,
          0.06960106837351579,
          0.0407280266834194,
          0.035044138611796526,
          0.04488465417383191,
          0.0075280627488573965,
          0.019850473032973735,
          0.060732568511398924,
          0.026486943495779763,
          0.045117607067128265,
          0.034266341031260056,
          0.03039460782054359,
          0.028566136988908246,
          0.035368719071132426,
          0.0211989708493987,
          0.024319626552811394,
          0.024724716826989502,
          0.012800212386301423,
          0.05654121082956039,
          0.027604111406064377,
          0.024514497667620903,
          0.019749017811522118,
          0.015072911242738626,
          0.029711108863618562,
          0.03315847570525747,
          0.021713609546883353,
          3.135614739162342,
          0.025272966946076676,
          0.035060167632442185,
          0.032413965629232405,
          0.031313185413624316,
          0.03980597866161045,
          0.020030708836941413,
          0.07133560949121201,
          0.0410007820360011,
          0.03771999610105796,
          0.019427036060024397,
          0.04119157434286569,
          0.01002715773459049,
          0.00938669287731359,
          0.04704583299984739,
          0.022888260310918288,
          0.020027707167950937,
          0.034248773943416175,
          0.02000660564791551,
          0.04673262571221084,
          0.030407022876126098,
          0.028377490164208,
          0.005950546171242322,
          0.012156385104639256,
          0.019640349609334945,
          0.06114715777381764,
          0.012736980193988725,
          0.05934593603554386,
          0.022989994904282007,
          0.03160902035361775,
          0.025304016833768504,
          0.0300723062320875,
          0.02520492796654217,
          0.04604537491357222,
          0.0366161234926692,
          0.01427063507101487,
          0.019588725673565517,
          0.02480485339108017,
          0.0223601285174647,
          0.009822098041801694,
          0.059377156175854345,
          0.015239082699511724,
          0.017866112063530955,
          2.6821825168305,
          0.04238439571124122,
          0.04160403225145013,
          0.027404241134105417,
          1.156655444991116,
          0.01764187478098736,
          0.013562131358520824,
          0.06358903109229473,
          0.02019918228101993,
          0.028946430733483464,
          0.031838277919923774
         ]
        },
        {
         "name": "24",
         "type": "scatter",
         "y": [
          0.015808271344813794,
          0.029766769125586057,
          0.021206785873212466,
          0.03141079399119549,
          0.04589677044616802,
          0.0105254505060703,
          0.04305468617048579,
          2.0491082276383827,
          0.049182660534287596,
          0.002747926216689659,
          0.006405569630500442,
          0.03743147049926059,
          0.035084551848181655,
          0.046364817618132055,
          0.03145548424547424,
          0.017657764588354292,
          0.020821546113188302,
          0.014222074113023172,
          0.038940651347507585,
          0.0344716453921486,
          0.03174631505000642,
          0.03633538604560987,
          0.04414733180745804,
          0.023506230859187474,
          0.01878526316523631,
          0.010202200808619374,
          0.03905408768415555,
          0.059979922374480285,
          0.020832317404519407,
          0.032257560138210364,
          0.014833524970017525,
          0.0531478476450259,
          0.05503266935554117,
          0.03430398380094895,
          0.05684549662021011,
          0.04047959202235742,
          0.03593104280711065,
          0.04794332694384819,
          0.01374492367923565,
          0.015351999646252393,
          0.033955762354480536,
          6.595926548638717,
          0.048230160278175165,
          0.047948154100438824,
          0.053662206655867475,
          0.019778855899256077,
          0.0284878098978495,
          0.014058285032358335,
          0.0438251508729262,
          0.00965639248205873,
          0.019682798813344057,
          0.04031876338560588,
          0.026809173696426398,
          0.027581905587056362,
          0.03590653364130632,
          0.021340326949084935,
          0.017613281552206803,
          0.027413198884686074,
          0.023556178911736694,
          0.027594048139119993,
          0.019877793752425085,
          0.03281399090530327,
          0.021490101607468132,
          0.039597402948367125,
          0.014136476629102454,
          0.037248839258551825,
          0.023286167748726078,
          0.051156078795061344,
          0.030444246548341988,
          0.01764599050437423,
          0.03015400223034077,
          0.0519553406156216,
          5.038352771166897,
          0.0469488233745768,
          0.007894912659821668,
          0.035171466677211376,
          0.04008716156708025,
          0.02449873714450804,
          0.03761009778097695,
          0.05317379228332271,
          0.03433815212484727,
          0.04255514611957122,
          0.0362255276578994,
          0.02000094101527863,
          0.013469081597936371,
          0.006156314823806935,
          7.388503308775388,
          0.039843629800329634,
          0.0394325309396511,
          0.02399008552709959,
          0.0062939991908562715,
          0.030735978168376532,
          0.04063147585922208,
          0.05608003995989418,
          0.034276741568950046,
          0.031234482291919753,
          0.6044496921102924,
          0.06320506644386437,
          0.030246583861111922,
          0.014054192601910065,
          0.042726263473620754,
          0.03636258688946392,
          0.02477657781906709
         ]
        },
        {
         "name": "25",
         "type": "scatter",
         "y": [
          0.030280604205987036,
          0.03397713810966461,
          0.02681984296916664,
          0.04918359008148137,
          7.3266061773867035,
          0.026239019596812786,
          0.053086316923440735,
          0.02849411582032227,
          0.017541107407988216,
          0.01486008663762221,
          0.027321687658623996,
          0.027300071425137358,
          0.009967397096163054,
          0.04433920327180613,
          0.01733809603011942,
          0.022788508642045114,
          0.03606015435067701,
          9.747963282041963,
          0.027406525749718115,
          0.0278978264263816,
          0.02083818960556728,
          0.025001874955462106,
          0.05263831076658836,
          0.016038965276400953,
          0.03918433591385777,
          0.015267807763538156,
          0.007462628153433251,
          0.028213117308926602,
          0.02089826398799022,
          0.027049727914531505,
          0.009531131274583283,
          0.020354727291177724,
          0.015368397297427505,
          0.02697262150966134,
          0.03544280105176993,
          0.051071932256040314,
          0.038597308685412356,
          0.005385498054095372,
          0.05097437506203148,
          0.02389305776446588,
          0.060949994144496956,
          0.03435233867303208,
          0.03865456389285615,
          0.04576867980188669,
          0.01832705865222084,
          0.024652565946621692,
          0.048239938357163864,
          0.035434172318937834,
          0.015211768501090567,
          0.034799916509874906,
          0.03926799999255654,
          0.07078398221178539,
          0.05219311148687512,
          0.041675256181095945,
          0.013854033209396478,
          0.02609528746489649,
          0.06112394163902708,
          0.055800496364576464,
          0.015254090440351921,
          0.02630459806015037,
          0.07060817378065506,
          0.043918843148425354,
          0.05939492433607289,
          0.032535359674216995,
          0.04010190413584022,
          0.022885005288799082,
          0.03256668229260649,
          0.04209164579985597,
          0.009093702080121679,
          0.017288498174934566,
          1.708124052360496,
          0.0067848398547377484,
          0.014425655324245513,
          0.03157619866452753,
          0.04901326923411271,
          0.04967273053294724,
          0.017101027251353273,
          0.006356824065752839,
          0.04154703234554853,
          0.02032541408335721,
          0.02472136387622326,
          0.03567297116675745,
          0.03436432844318626,
          0.03834957925074714,
          0.0785064083520042,
          0.03724697508658899,
          0.03647854120830279,
          0.03388115884603031,
          0.07522900865917255,
          0.02807330014587119,
          0.02240768001400435,
          0.04741965512226487,
          0.034912215142310236,
          0.010177663606793513,
          0.052994376820180725,
          0.03472184555733474,
          0.016697451763854378,
          0.04558793740164331,
          0.016253363655641288,
          0.03427769150617035,
          0.006882643107006466,
          0.06265047331149778
         ]
        },
        {
         "name": "26",
         "type": "scatter",
         "y": [
          0.03927961321098604,
          6.473727801870096,
          0.08188591737889064,
          0.06537717448793988,
          0.052970651187212454,
          0.019807336528315664,
          0.04959576049443624,
          0.027642668907982774,
          0.03321525953339656,
          0.038405074716384165,
          0.04311666555324242,
          0.02316322608326551,
          0.014065065479160976,
          0.02436776563892541,
          0.03788266833494987,
          0.016162739969424824,
          0.04547347509774536,
          0.03442684463863424,
          0.033203339886917205,
          0.04210615233209556,
          0.03811275936237138,
          0.056925054734552796,
          0.03176876124743673,
          0.02200954955722632,
          0.025965205840290353,
          0.04158222062329531,
          0.0154782237786942,
          0.061314487262368246,
          0.040617100829615053,
          0.005116837293439644,
          0.03440889890275416,
          0.03515759922094486,
          0.021704589478634153,
          0.07220147229025128,
          0.015621461317994835,
          0.019501066913411157,
          0.00800051554416057,
          0.020591027241739942,
          0.9269498063018838,
          0.038668577252005266,
          0.04610318159603877,
          0.02393717914396653,
          0.026094113115505174,
          0.03485419769972031,
          0.032318090314393866,
          0.04320995993818801,
          0.03142920419229642,
          0.0244894248782618,
          0.02023063510291133,
          0.027086982732594855,
          0.040014522589773796,
          0.052302990237214624,
          0.032557445951916855,
          0.0071818615880902955,
          0.02562957586711331,
          0.050940810774703936,
          0.029393386352610195,
          0.030009731946551852,
          0.0472524672358437,
          0.03000382713897972,
          0.012779670156989918,
          0.05230413229155469,
          0.011852071599841554,
          0.03498205310484955,
          0.020363859269453933,
          0.056223100299496453,
          0.05143097797676354,
          0.005143419258015749,
          0.07050755153010481,
          0.016649351124832047,
          0.03863125960165656,
          0.03572956482469401,
          0.04395059067589775,
          0.04852177059714493,
          0.016045661808994714,
          0.05344901237183267,
          0.04891312475835956,
          0.05115176547548824,
          0.0009814049394821765,
          0.020166802680309175,
          0.03992267502134486,
          0.05678878757783114,
          0.032792940031544454,
          0.028892431020375153,
          0.0473723894565763,
          0.040915945738598546,
          0.006910954329112654,
          0.03721785476164232,
          0.031838662521674874,
          0.006346831133821109,
          0.00800332057913876,
          0.03884967286299412,
          0.012814684680722593,
          0.03171474211526816,
          0.014295156571181583,
          0.03138597264923306,
          0.03544681405931689,
          0.0719840595761293,
          0.031730020272506466,
          0.04456613607622896,
          0.05184196795237778,
          0.052709164562489086,
          0.010497951359987077
         ]
        },
        {
         "name": "27",
         "type": "scatter",
         "y": [
          0.030858190256192828,
          0.014797631889111103,
          0.040556192163082545,
          0.027551775516644193,
          0.016945346341212888,
          0.04121204781164448,
          0.034793344474968096,
          0.03450285375921047,
          0.03788138304001058,
          0.05407536924257822,
          0.02547963005364303,
          0.033289107955049524,
          0.1303557530332005,
          0.019452891380056708,
          0.05649474286484916,
          0.039699928224668675,
          4.101150115712342,
          0.025007324389791717,
          0.029791814467183597,
          0.010340770787845585,
          0.009323283501635193,
          0.0443275901936003,
          0.010015081301775733,
          0.06669082690985105,
          0.03719420042903754,
          0.03694391741291143,
          0.04581860185783345,
          0.020430496491151452,
          0.03542694331418099,
          0.037745808516808185,
          0.050445052911022185,
          0.024322649497695765,
          0.038371792289219185,
          0.033839495779468466,
          0.011969784100905179,
          0.012182708825073541,
          0.02239568990106195,
          0.044148120454403694,
          0.04148696022555482,
          0.07352856604234533,
          0.006252509609846094,
          0.02742094171974662,
          0.007882814674904383,
          0.04042323126804817,
          0.02588477757358833,
          0.04436729228987974,
          0.022381759979817676,
          0.04949262864043061,
          0.04966536365143405,
          0.03572140145200894,
          0.01273943554287748,
          0.027472781598387893,
          0.06176387543855949,
          0.007483248444517791,
          0.05819118995210469,
          0.019807259599402476,
          0.019781013709945214,
          0.013430047627655428,
          0.027748298509213017,
          0.04462559411519458,
          0.06496531045373836,
          0.037492064144314774,
          0.044776564574077096,
          0.04549125180520835,
          0.008317281632019774,
          0.003217785907301389,
          0.01195082689262027,
          0.0027718230492603827,
          3.8334225097657235,
          0.04779663103843109,
          0.034032422817852355,
          0.033182535358113795,
          0.06050563509455123,
          0.050469318766102195,
          0.015194728253795354,
          0.019577244305338408,
          0.07208028103008907,
          0.025364215116454036,
          0.01504847087794089,
          0.03150542966291917,
          0.0069286718992722365,
          0.028080697650708586,
          0.024036818411853962,
          0.03358794600136523,
          0.011731212003794,
          0.022551943179395968,
          0.0388705868401073,
          0.011912742787962319,
          0.018234766764886834,
          0.047242492129514105,
          0.05863489766059204,
          0.033638425460708235,
          0.019886474330636728,
          0.042004925548262,
          0.06074063189774284,
          0.03977263304066502,
          0.04640239591453044,
          0.021834625702512513,
          0.009801325281021362,
          0.04007440469286861,
          0.0519088711051178,
          0.004900323690709854,
          0.016835172602714624
         ]
        },
        {
         "name": "28",
         "type": "scatter",
         "y": [
          0.014132432552306439,
          0.0660913878703724,
          0.02689906883602728,
          0.012759732026173413,
          0.01705877407675153,
          0.018221791311427128,
          0.02590331913563365,
          0.023199982875738774,
          0.04453400756659388,
          0.032631698749604976,
          0.05627474900481623,
          0.07231740994703237,
          0.03382145060047733,
          0.0411568872739638,
          0.026049500739307764,
          0.05287199135303621,
          0.015083500893989667,
          0.008716539664278412,
          0.036547678126228604,
          0.014379758771113842,
          0.054972768612117265,
          0.017613903834170386,
          0.022930484931838392,
          0.05470366702603297,
          0.028767074864710848,
          0.008445807154736688,
          0.028743948075947507,
          0.04474460810773435,
          0.030134525038013303,
          0.052822042508753976,
          0.03414816532388886,
          0.00798196929812334,
          0.033976309901995586,
          0.004774602752123143,
          0.023903410693132038,
          0.0060938911469430755,
          0.055260149029930955,
          0.02015354396314563,
          0.05094655099823338,
          0.038789460238996466,
          0.015230668835193256,
          0.013834441142228919,
          0.021554855277630146,
          0.043980231045914885,
          0.0319731895745206,
          0.06460870864538854,
          0.008930676610231017,
          0.03762835022179543,
          0.013183597861936422,
          0.053842227009124576,
          1.153468591295376,
          0.057088566695429825,
          0.05337856730490746,
          0.053914712529754515,
          0.00750516943047412,
          0.011068498038592507,
          0.01594396999837771,
          0.04828625624974808,
          0.07320854555419207,
          2.9243763665565283,
          0.01756187487706554,
          0.034721872819462395,
          0.021712379643295508,
          0.05950399461766539,
          0.07202130566768737,
          0.048365037713602704,
          0.05429777332990766,
          0.015265752837109415,
          0.030478551742388258,
          0.0488323828545535,
          0.0541841904028141,
          0.015371451124942799,
          0.02684886215123845,
          0.046975366599057336,
          0.03305129287824003,
          0.017267865470103214,
          0.023925000222884327,
          0.02566051378987191,
          0.033984644982049984,
          0.03391282737456753,
          0.05456159987348149,
          0.05207894359849246,
          0.028643709267496372,
          0.04019194760245774,
          0.039328515901959085,
          0.008490494367918067,
          0.05436076065167102,
          0.038507103047875205,
          0.01960065355480022,
          0.04323469680424998,
          0.01654076811483955,
          0.04093035334487351,
          0.0494362722681601,
          0.017656395069581107,
          0.0071899496406814456,
          0.03754935677451947,
          0.04186772442771863,
          0.0323464679308957,
          0.008871255972428181,
          0.04391381324385221,
          0.01835829257948259,
          0.03724377251146455
         ]
        },
        {
         "name": "29",
         "type": "scatter",
         "y": [
          0.06939034200283696,
          0.02819962787678425,
          0.025338491699686667,
          0.035512485062266105,
          0.03045832084489458,
          0.04682152133075811,
          0.034174847352824105,
          0.044359159250809334,
          0.05024297250168021,
          0.024001057621960257,
          0.03422214309177708,
          0.01562329671220244,
          0.007363969732477604,
          0.06485500974928667,
          0.02491268410058807,
          0.024421576231686764,
          10.0638903405162,
          0.007522832795790233,
          0.05363062362880886,
          0.050913080682836495,
          0.03910585005893121,
          0.046469888849585236,
          0.010911709318763162,
          3.2895728156227193,
          0.018747639139335127,
          7.110735236664027,
          0.053699439352612864,
          0.016783730566230417,
          0.003389456327197354,
          0.028991432684941608,
          1.1920899150331656,
          0.038197260137945555,
          0.03696787893619329,
          0.05420247575910328,
          0.04475774202267933,
          0.034251943001776426,
          0.013079600480728476,
          0.07410744638429907,
          0.05658914568504282,
          10.390317652595943,
          0.008864342340032359,
          0.06672573650218999,
          0.0844178144661388,
          0.05594479493713213,
          0.019698920331314457,
          0.03970025593165123,
          0.01132161348862617,
          0.037969481232963904,
          0.021250457891892977,
          0.04314491571736357,
          0.042269695879516844,
          0.03567348998848978,
          0.023292002114494666,
          0.03709236958917088,
          0.02174077220817001,
          0.03212104457267318,
          0.037104301740079705,
          6.522362149220847,
          0.04511377380170899,
          0.047306873547960517,
          0.015106969652154153,
          1.4056202843647483,
          0.015154697606376886,
          0.036661173627807984,
          0.009621985139980584,
          0.0455327326014801,
          0.0629649449241318,
          0.012261794516631916,
          0.033576846934169395,
          0.050356442321808824,
          0.04125803595129931,
          0.04714958128904896,
          0.021269452293995034,
          0.05895933702377262,
          0.02834003370391706,
          0.05075861427885159,
          0.0612553838381571,
          0.04302170622220538,
          0.020544925362797888,
          0.0029360776737760263,
          0.03154344226511845,
          0.027283745557366564,
          0.03753044762313648,
          0.031131459333427997,
          0.010298768683971211,
          0.05216616692402168,
          0.013477845981718348,
          0.013896753436414408,
          0.028368636916526645,
          0.05412653171467994,
          0.031286512966756566,
          0.022637993195697974,
          0.014138078028154083,
          0.03117700432507075,
          5.539855897519932,
          0.03190371615218397,
          7.029422981844242,
          0.0061155312872580945,
          0.019566663783447368,
          0.03195946334045506,
          0.03155443378726851,
          0.05267065323356397
         ]
        }
       ],
       "layout": {
        "template": {
         "data": {
          "bar": [
           {
            "error_x": {
             "color": "#2a3f5f"
            },
            "error_y": {
             "color": "#2a3f5f"
            },
            "marker": {
             "line": {
              "color": "#E5ECF6",
              "width": 0.5
             },
             "pattern": {
              "fillmode": "overlay",
              "size": 10,
              "solidity": 0.2
             }
            },
            "type": "bar"
           }
          ],
          "barpolar": [
           {
            "marker": {
             "line": {
              "color": "#E5ECF6",
              "width": 0.5
             },
             "pattern": {
              "fillmode": "overlay",
              "size": 10,
              "solidity": 0.2
             }
            },
            "type": "barpolar"
           }
          ],
          "carpet": [
           {
            "aaxis": {
             "endlinecolor": "#2a3f5f",
             "gridcolor": "white",
             "linecolor": "white",
             "minorgridcolor": "white",
             "startlinecolor": "#2a3f5f"
            },
            "baxis": {
             "endlinecolor": "#2a3f5f",
             "gridcolor": "white",
             "linecolor": "white",
             "minorgridcolor": "white",
             "startlinecolor": "#2a3f5f"
            },
            "type": "carpet"
           }
          ],
          "choropleth": [
           {
            "colorbar": {
             "outlinewidth": 0,
             "ticks": ""
            },
            "type": "choropleth"
           }
          ],
          "contour": [
           {
            "colorbar": {
             "outlinewidth": 0,
             "ticks": ""
            },
            "colorscale": [
             [
              0,
              "#0d0887"
             ],
             [
              0.1111111111111111,
              "#46039f"
             ],
             [
              0.2222222222222222,
              "#7201a8"
             ],
             [
              0.3333333333333333,
              "#9c179e"
             ],
             [
              0.4444444444444444,
              "#bd3786"
             ],
             [
              0.5555555555555556,
              "#d8576b"
             ],
             [
              0.6666666666666666,
              "#ed7953"
             ],
             [
              0.7777777777777778,
              "#fb9f3a"
             ],
             [
              0.8888888888888888,
              "#fdca26"
             ],
             [
              1,
              "#f0f921"
             ]
            ],
            "type": "contour"
           }
          ],
          "contourcarpet": [
           {
            "colorbar": {
             "outlinewidth": 0,
             "ticks": ""
            },
            "type": "contourcarpet"
           }
          ],
          "heatmap": [
           {
            "colorbar": {
             "outlinewidth": 0,
             "ticks": ""
            },
            "colorscale": [
             [
              0,
              "#0d0887"
             ],
             [
              0.1111111111111111,
              "#46039f"
             ],
             [
              0.2222222222222222,
              "#7201a8"
             ],
             [
              0.3333333333333333,
              "#9c179e"
             ],
             [
              0.4444444444444444,
              "#bd3786"
             ],
             [
              0.5555555555555556,
              "#d8576b"
             ],
             [
              0.6666666666666666,
              "#ed7953"
             ],
             [
              0.7777777777777778,
              "#fb9f3a"
             ],
             [
              0.8888888888888888,
              "#fdca26"
             ],
             [
              1,
              "#f0f921"
             ]
            ],
            "type": "heatmap"
           }
          ],
          "heatmapgl": [
           {
            "colorbar": {
             "outlinewidth": 0,
             "ticks": ""
            },
            "colorscale": [
             [
              0,
              "#0d0887"
             ],
             [
              0.1111111111111111,
              "#46039f"
             ],
             [
              0.2222222222222222,
              "#7201a8"
             ],
             [
              0.3333333333333333,
              "#9c179e"
             ],
             [
              0.4444444444444444,
              "#bd3786"
             ],
             [
              0.5555555555555556,
              "#d8576b"
             ],
             [
              0.6666666666666666,
              "#ed7953"
             ],
             [
              0.7777777777777778,
              "#fb9f3a"
             ],
             [
              0.8888888888888888,
              "#fdca26"
             ],
             [
              1,
              "#f0f921"
             ]
            ],
            "type": "heatmapgl"
           }
          ],
          "histogram": [
           {
            "marker": {
             "pattern": {
              "fillmode": "overlay",
              "size": 10,
              "solidity": 0.2
             }
            },
            "type": "histogram"
           }
          ],
          "histogram2d": [
           {
            "colorbar": {
             "outlinewidth": 0,
             "ticks": ""
            },
            "colorscale": [
             [
              0,
              "#0d0887"
             ],
             [
              0.1111111111111111,
              "#46039f"
             ],
             [
              0.2222222222222222,
              "#7201a8"
             ],
             [
              0.3333333333333333,
              "#9c179e"
             ],
             [
              0.4444444444444444,
              "#bd3786"
             ],
             [
              0.5555555555555556,
              "#d8576b"
             ],
             [
              0.6666666666666666,
              "#ed7953"
             ],
             [
              0.7777777777777778,
              "#fb9f3a"
             ],
             [
              0.8888888888888888,
              "#fdca26"
             ],
             [
              1,
              "#f0f921"
             ]
            ],
            "type": "histogram2d"
           }
          ],
          "histogram2dcontour": [
           {
            "colorbar": {
             "outlinewidth": 0,
             "ticks": ""
            },
            "colorscale": [
             [
              0,
              "#0d0887"
             ],
             [
              0.1111111111111111,
              "#46039f"
             ],
             [
              0.2222222222222222,
              "#7201a8"
             ],
             [
              0.3333333333333333,
              "#9c179e"
             ],
             [
              0.4444444444444444,
              "#bd3786"
             ],
             [
              0.5555555555555556,
              "#d8576b"
             ],
             [
              0.6666666666666666,
              "#ed7953"
             ],
             [
              0.7777777777777778,
              "#fb9f3a"
             ],
             [
              0.8888888888888888,
              "#fdca26"
             ],
             [
              1,
              "#f0f921"
             ]
            ],
            "type": "histogram2dcontour"
           }
          ],
          "mesh3d": [
           {
            "colorbar": {
             "outlinewidth": 0,
             "ticks": ""
            },
            "type": "mesh3d"
           }
          ],
          "parcoords": [
           {
            "line": {
             "colorbar": {
              "outlinewidth": 0,
              "ticks": ""
             }
            },
            "type": "parcoords"
           }
          ],
          "pie": [
           {
            "automargin": true,
            "type": "pie"
           }
          ],
          "scatter": [
           {
            "fillpattern": {
             "fillmode": "overlay",
             "size": 10,
             "solidity": 0.2
            },
            "type": "scatter"
           }
          ],
          "scatter3d": [
           {
            "line": {
             "colorbar": {
              "outlinewidth": 0,
              "ticks": ""
             }
            },
            "marker": {
             "colorbar": {
              "outlinewidth": 0,
              "ticks": ""
             }
            },
            "type": "scatter3d"
           }
          ],
          "scattercarpet": [
           {
            "marker": {
             "colorbar": {
              "outlinewidth": 0,
              "ticks": ""
             }
            },
            "type": "scattercarpet"
           }
          ],
          "scattergeo": [
           {
            "marker": {
             "colorbar": {
              "outlinewidth": 0,
              "ticks": ""
             }
            },
            "type": "scattergeo"
           }
          ],
          "scattergl": [
           {
            "marker": {
             "colorbar": {
              "outlinewidth": 0,
              "ticks": ""
             }
            },
            "type": "scattergl"
           }
          ],
          "scattermapbox": [
           {
            "marker": {
             "colorbar": {
              "outlinewidth": 0,
              "ticks": ""
             }
            },
            "type": "scattermapbox"
           }
          ],
          "scatterpolar": [
           {
            "marker": {
             "colorbar": {
              "outlinewidth": 0,
              "ticks": ""
             }
            },
            "type": "scatterpolar"
           }
          ],
          "scatterpolargl": [
           {
            "marker": {
             "colorbar": {
              "outlinewidth": 0,
              "ticks": ""
             }
            },
            "type": "scatterpolargl"
           }
          ],
          "scatterternary": [
           {
            "marker": {
             "colorbar": {
              "outlinewidth": 0,
              "ticks": ""
             }
            },
            "type": "scatterternary"
           }
          ],
          "surface": [
           {
            "colorbar": {
             "outlinewidth": 0,
             "ticks": ""
            },
            "colorscale": [
             [
              0,
              "#0d0887"
             ],
             [
              0.1111111111111111,
              "#46039f"
             ],
             [
              0.2222222222222222,
              "#7201a8"
             ],
             [
              0.3333333333333333,
              "#9c179e"
             ],
             [
              0.4444444444444444,
              "#bd3786"
             ],
             [
              0.5555555555555556,
              "#d8576b"
             ],
             [
              0.6666666666666666,
              "#ed7953"
             ],
             [
              0.7777777777777778,
              "#fb9f3a"
             ],
             [
              0.8888888888888888,
              "#fdca26"
             ],
             [
              1,
              "#f0f921"
             ]
            ],
            "type": "surface"
           }
          ],
          "table": [
           {
            "cells": {
             "fill": {
              "color": "#EBF0F8"
             },
             "line": {
              "color": "white"
             }
            },
            "header": {
             "fill": {
              "color": "#C8D4E3"
             },
             "line": {
              "color": "white"
             }
            },
            "type": "table"
           }
          ]
         },
         "layout": {
          "annotationdefaults": {
           "arrowcolor": "#2a3f5f",
           "arrowhead": 0,
           "arrowwidth": 1
          },
          "autotypenumbers": "strict",
          "coloraxis": {
           "colorbar": {
            "outlinewidth": 0,
            "ticks": ""
           }
          },
          "colorscale": {
           "diverging": [
            [
             0,
             "#8e0152"
            ],
            [
             0.1,
             "#c51b7d"
            ],
            [
             0.2,
             "#de77ae"
            ],
            [
             0.3,
             "#f1b6da"
            ],
            [
             0.4,
             "#fde0ef"
            ],
            [
             0.5,
             "#f7f7f7"
            ],
            [
             0.6,
             "#e6f5d0"
            ],
            [
             0.7,
             "#b8e186"
            ],
            [
             0.8,
             "#7fbc41"
            ],
            [
             0.9,
             "#4d9221"
            ],
            [
             1,
             "#276419"
            ]
           ],
           "sequential": [
            [
             0,
             "#0d0887"
            ],
            [
             0.1111111111111111,
             "#46039f"
            ],
            [
             0.2222222222222222,
             "#7201a8"
            ],
            [
             0.3333333333333333,
             "#9c179e"
            ],
            [
             0.4444444444444444,
             "#bd3786"
            ],
            [
             0.5555555555555556,
             "#d8576b"
            ],
            [
             0.6666666666666666,
             "#ed7953"
            ],
            [
             0.7777777777777778,
             "#fb9f3a"
            ],
            [
             0.8888888888888888,
             "#fdca26"
            ],
            [
             1,
             "#f0f921"
            ]
           ],
           "sequentialminus": [
            [
             0,
             "#0d0887"
            ],
            [
             0.1111111111111111,
             "#46039f"
            ],
            [
             0.2222222222222222,
             "#7201a8"
            ],
            [
             0.3333333333333333,
             "#9c179e"
            ],
            [
             0.4444444444444444,
             "#bd3786"
            ],
            [
             0.5555555555555556,
             "#d8576b"
            ],
            [
             0.6666666666666666,
             "#ed7953"
            ],
            [
             0.7777777777777778,
             "#fb9f3a"
            ],
            [
             0.8888888888888888,
             "#fdca26"
            ],
            [
             1,
             "#f0f921"
            ]
           ]
          },
          "colorway": [
           "#636efa",
           "#EF553B",
           "#00cc96",
           "#ab63fa",
           "#FFA15A",
           "#19d3f3",
           "#FF6692",
           "#B6E880",
           "#FF97FF",
           "#FECB52"
          ],
          "font": {
           "color": "#2a3f5f"
          },
          "geo": {
           "bgcolor": "white",
           "lakecolor": "white",
           "landcolor": "#E5ECF6",
           "showlakes": true,
           "showland": true,
           "subunitcolor": "white"
          },
          "hoverlabel": {
           "align": "left"
          },
          "hovermode": "closest",
          "mapbox": {
           "style": "light"
          },
          "paper_bgcolor": "white",
          "plot_bgcolor": "#E5ECF6",
          "polar": {
           "angularaxis": {
            "gridcolor": "white",
            "linecolor": "white",
            "ticks": ""
           },
           "bgcolor": "#E5ECF6",
           "radialaxis": {
            "gridcolor": "white",
            "linecolor": "white",
            "ticks": ""
           }
          },
          "scene": {
           "xaxis": {
            "backgroundcolor": "#E5ECF6",
            "gridcolor": "white",
            "gridwidth": 2,
            "linecolor": "white",
            "showbackground": true,
            "ticks": "",
            "zerolinecolor": "white"
           },
           "yaxis": {
            "backgroundcolor": "#E5ECF6",
            "gridcolor": "white",
            "gridwidth": 2,
            "linecolor": "white",
            "showbackground": true,
            "ticks": "",
            "zerolinecolor": "white"
           },
           "zaxis": {
            "backgroundcolor": "#E5ECF6",
            "gridcolor": "white",
            "gridwidth": 2,
            "linecolor": "white",
            "showbackground": true,
            "ticks": "",
            "zerolinecolor": "white"
           }
          },
          "shapedefaults": {
           "line": {
            "color": "#2a3f5f"
           }
          },
          "ternary": {
           "aaxis": {
            "gridcolor": "white",
            "linecolor": "white",
            "ticks": ""
           },
           "baxis": {
            "gridcolor": "white",
            "linecolor": "white",
            "ticks": ""
           },
           "bgcolor": "#E5ECF6",
           "caxis": {
            "gridcolor": "white",
            "linecolor": "white",
            "ticks": ""
           }
          },
          "title": {
           "x": 0.05
          },
          "xaxis": {
           "automargin": true,
           "gridcolor": "white",
           "linecolor": "white",
           "ticks": "",
           "title": {
            "standoff": 15
           },
           "zerolinecolor": "white",
           "zerolinewidth": 2
          },
          "yaxis": {
           "automargin": true,
           "gridcolor": "white",
           "linecolor": "white",
           "ticks": "",
           "title": {
            "standoff": 15
           },
           "zerolinecolor": "white",
           "zerolinewidth": 2
          }
         }
        }
       }
      }
     },
     "metadata": {},
     "output_type": "display_data"
    }
   ],
   "source": [
    "import plotly.express as px\n",
    "import plotly.graph_objects as go\n",
    "\n",
    "# for i, df in enumerate(solved_dfs):\n",
    "#     plt.plot(df[\"error\"], label=i)\n",
    "# plt.legend()\n",
    "# plt.show()\n",
    "\n",
    "data = {i: df for i, df in enumerate(solved_dfs)}\n",
    "fig = go.Figure()\n",
    "\n",
    "for i in data:\n",
    "    fig = fig.add_trace(go.Line(y = data[i][\"error\"], \n",
    "                                   name = i))\n",
    "fig.show()"
   ]
  },
  {
   "cell_type": "code",
   "execution_count": 231,
   "metadata": {},
   "outputs": [],
   "source": [
    "# plt.plot(kalman_dfs[13][\"error\"], \"-o\", label=\"Kalman\")\n",
    "# plt.plot(solved_dfs[13][\"error\"], \"-o\", label=\"UWB\")\n",
    "# plt.legend()\n",
    "# plt.ylabel(\"Absolute error [m]\")\n",
    "# plt.xlabel(\"Sample index\")\n",
    "# plt.grid(True)\n",
    "# plt.show()"
   ]
  },
  {
   "attachments": {},
   "cell_type": "markdown",
   "metadata": {},
   "source": [
    "# Mean"
   ]
  },
  {
   "cell_type": "code",
   "execution_count": null,
   "metadata": {},
   "outputs": [],
   "source": []
  },
  {
   "cell_type": "code",
   "execution_count": 232,
   "metadata": {},
   "outputs": [],
   "source": [
    "all_kalman = pd.concat(kalman_dfs, ignore_index=True)\n",
    "all_uwb = pd.concat(solved_dfs, ignore_index=True)"
   ]
  },
  {
   "cell_type": "code",
   "execution_count": 233,
   "metadata": {},
   "outputs": [],
   "source": [
    "kalman = pd.concat(kalman_dfs)\n",
    "kalman = kalman.groupby(kalman.index).mean()\n",
    "\n",
    "solved = pd.concat(solved_dfs)\n",
    "solved = solved[[\"x\", \"y\", \"error\"]]\n",
    "solved = solved.groupby(solved.index).mean()\n",
    "\n",
    "dt = all_uwb[\"timestamp\"].diff().mean().to_pytimedelta().microseconds / 10**6"
   ]
  },
  {
   "cell_type": "code",
   "execution_count": null,
   "metadata": {},
   "outputs": [],
   "source": []
  },
  {
   "cell_type": "code",
   "execution_count": 234,
   "metadata": {},
   "outputs": [
    {
     "data": {
      "image/png": "[encoded data removed]",
      "text/plain": [
       "<Figure size 640x480 with 1 Axes>"
      ]
     },
     "metadata": {},
     "output_type": "display_data"
    }
   ],
   "source": [
    "# x = [n * dt for n in range(len(solved))]\n",
    "plt.plot(kalman[\"error\"], \"-o\", label=\"Kalman\")\n",
    "plt.plot(solved[\"error\"], \"-o\", label=\"UWB\")\n",
    "plt.legend()\n",
    "plt.ylabel(\"Absolute error [m]\")\n",
    "# plt.xlabel(\"Time [s]\")\n",
    "plt.grid(True)\n",
    "plt.show()"
   ]
  },
  {
   "cell_type": "code",
   "execution_count": 235,
   "metadata": {},
   "outputs": [
    {
     "name": "stdout",
     "output_type": "stream",
     "text": [
      "data/p1/2023-07-04-21:53:06.442332living-room-p1-1.csv\n"
     ]
    },
    {
     "data": {
      "image/png": "[encoded data removed]",
      "text/plain": [
       "<Figure size 640x480 with 1 Axes>"
      ]
     },
     "metadata": {},
     "output_type": "display_data"
    },
    {
     "name": "stdout",
     "output_type": "stream",
     "text": [
      "data/p1/2023-07-04-21:54:06.810764living-room-p1-2.csv\n"
     ]
    },
    {
     "data": {
      "image/png": "[encoded data removed]",
      "text/plain": [
       "<Figure size 640x480 with 1 Axes>"
      ]
     },
     "metadata": {},
     "output_type": "display_data"
    },
    {
     "name": "stdout",
     "output_type": "stream",
     "text": [
      "data/p1/2023-07-04-21:55:07.215462living-room-p1-3.csv\n"
     ]
    },
    {
     "data": {
      "image/png": "[encoded data removed]",
      "text/plain": [
       "<Figure size 640x480 with 1 Axes>"
      ]
     },
     "metadata": {},
     "output_type": "display_data"
    },
    {
     "name": "stdout",
     "output_type": "stream",
     "text": [
      "data/p1/2023-07-04-21:56:07.691670living-room-p1-4.csv\n"
     ]
    },
    {
     "data": {
      "image/png": "[encoded data removed]",
      "text/plain": [
       "<Figure size 640x480 with 1 Axes>"
      ]
     },
     "metadata": {},
     "output_type": "display_data"
    },
    {
     "name": "stdout",
     "output_type": "stream",
     "text": [
      "data/p1/2023-07-04-21:57:08.055867living-room-p1-5.csv\n"
     ]
    },
    {
     "data": {
      "image/png": "[encoded data removed]",
      "text/plain": [
       "<Figure size 640x480 with 1 Axes>"
      ]
     },
     "metadata": {},
     "output_type": "display_data"
    },
    {
     "name": "stdout",
     "output_type": "stream",
     "text": [
      "data/p1/2023-07-04-21:58:08.526441living-room-p1-6.csv\n"
     ]
    },
    {
     "data": {
      "image/png": "[encoded data removed]",
      "text/plain": [
       "<Figure size 640x480 with 1 Axes>"
      ]
     },
     "metadata": {},
     "output_type": "display_data"
    },
    {
     "name": "stdout",
     "output_type": "stream",
     "text": [
      "data/p1/2023-07-04-21:59:08.884069living-room-p1-7.csv\n"
     ]
    },
    {
     "data": {
      "image/png": "[encoded data removed]",
      "text/plain": [
       "<Figure size 640x480 with 1 Axes>"
      ]
     },
     "metadata": {},
     "output_type": "display_data"
    },
    {
     "name": "stdout",
     "output_type": "stream",
     "text": [
      "data/p1/2023-07-04-22:00:09.299735living-room-p1-8.csv\n"
     ]
    },
    {
     "data": {
      "image/png": "[encoded data removed]",
      "text/plain": [
       "<Figure size 640x480 with 1 Axes>"
      ]
     },
     "metadata": {},
     "output_type": "display_data"
    },
    {
     "name": "stdout",
     "output_type": "stream",
     "text": [
      "data/p1/2023-07-04-22:01:13.866234living-room-p1-9.csv\n"
     ]
    },
    {
     "data": {
      "image/png": "[encoded data removed]",
      "text/plain": [
       "<Figure size 640x480 with 1 Axes>"
      ]
     },
     "metadata": {},
     "output_type": "display_data"
    },
    {
     "name": "stdout",
     "output_type": "stream",
     "text": [
      "data/p1/2023-07-04-22:02:14.321408living-room-p1-10.csv\n"
     ]
    },
    {
     "data": {
      "image/png": "[encoded data removed]",
      "text/plain": [
       "<Figure size 640x480 with 1 Axes>"
      ]
     },
     "metadata": {},
     "output_type": "display_data"
    },
    {
     "name": "stdout",
     "output_type": "stream",
     "text": [
      "data/p1/2023-07-04-22:03:14.759759living-room-p1-11.csv\n"
     ]
    },
    {
     "data": {
      "image/png": "[encoded data removed]",
      "text/plain": [
       "<Figure size 640x480 with 1 Axes>"
      ]
     },
     "metadata": {},
     "output_type": "display_data"
    },
    {
     "name": "stdout",
     "output_type": "stream",
     "text": [
      "data/p1/2023-07-04-22:04:15.232819living-room-p1-12.csv\n"
     ]
    },
    {
     "data": {
      "image/png": "[encoded data removed]",
      "text/plain": [
       "<Figure size 640x480 with 1 Axes>"
      ]
     },
     "metadata": {},
     "output_type": "display_data"
    },
    {
     "name": "stdout",
     "output_type": "stream",
     "text": [
      "data/p1/2023-07-04-22:05:15.674349living-room-p1-13.csv\n"
     ]
    },
    {
     "data": {
      "image/png": "[encoded data removed]",
      "text/plain": [
       "<Figure size 640x480 with 1 Axes>"
      ]
     },
     "metadata": {},
     "output_type": "display_data"
    },
    {
     "name": "stdout",
     "output_type": "stream",
     "text": [
      "data/p1/2023-07-04-22:06:16.106220living-room-p1-14.csv\n"
     ]
    },
    {
     "data": {
      "image/png": "[encoded data removed]",
      "text/plain": [
       "<Figure size 640x480 with 1 Axes>"
      ]
     },
     "metadata": {},
     "output_type": "display_data"
    },
    {
     "name": "stdout",
     "output_type": "stream",
     "text": [
      "data/p1/2023-07-04-22:07:16.562595living-room-p1-15.csv\n"
     ]
    },
    {
     "data": {
      "image/png": "[encoded data removed]",
      "text/plain": [
       "<Figure size 640x480 with 1 Axes>"
      ]
     },
     "metadata": {},
     "output_type": "display_data"
    },
    {
     "name": "stdout",
     "output_type": "stream",
     "text": [
      "data/p1/2023-07-04-22:08:17.032597living-room-p1-16.csv\n"
     ]
    },
    {
     "data": {
      "image/png": "[encoded data removed]",
      "text/plain": [
       "<Figure size 640x480 with 1 Axes>"
      ]
     },
     "metadata": {},
     "output_type": "display_data"
    },
    {
     "name": "stdout",
     "output_type": "stream",
     "text": [
      "data/p1/2023-07-04-22:09:17.457690living-room-p1-17.csv\n"
     ]
    },
    {
     "data": {
      "image/png": "[encoded data removed]",
      "text/plain": [
       "<Figure size 640x480 with 1 Axes>"
      ]
     },
     "metadata": {},
     "output_type": "display_data"
    },
    {
     "name": "stdout",
     "output_type": "stream",
     "text": [
      "data/p1/2023-07-04-22:10:17.917112living-room-p1-18.csv\n"
     ]
    },
    {
     "data": {
      "image/png": "[encoded data removed]",
      "text/plain": [
       "<Figure size 640x480 with 1 Axes>"
      ]
     },
     "metadata": {},
     "output_type": "display_data"
    },
    {
     "name": "stdout",
     "output_type": "stream",
     "text": [
      "data/p1/2023-07-04-22:11:18.366743living-room-p1-19.csv\n"
     ]
    },
    {
     "data": {
      "image/png": "[encoded data removed]",
      "text/plain": [
       "<Figure size 640x480 with 1 Axes>"
      ]
     },
     "metadata": {},
     "output_type": "display_data"
    },
    {
     "name": "stdout",
     "output_type": "stream",
     "text": [
      "data/p1/2023-07-04-22:12:18.824030living-room-p1-20.csv\n"
     ]
    },
    {
     "data": {
      "image/png": "[encoded data removed]",
      "text/plain": [
       "<Figure size 640x480 with 1 Axes>"
      ]
     },
     "metadata": {},
     "output_type": "display_data"
    },
    {
     "name": "stdout",
     "output_type": "stream",
     "text": [
      "data/p1/2023-07-04-22:13:19.247839living-room-p1-21.csv\n"
     ]
    },
    {
     "data": {
      "image/png": "[encoded data removed]",
      "text/plain": [
       "<Figure size 640x480 with 1 Axes>"
      ]
     },
     "metadata": {},
     "output_type": "display_data"
    },
    {
     "name": "stdout",
     "output_type": "stream",
     "text": [
      "data/p1/2023-07-04-22:14:19.714915living-room-p1-22.csv\n"
     ]
    },
    {
     "data": {
      "image/png": "[encoded data removed]",
      "text/plain": [
       "<Figure size 640x480 with 1 Axes>"
      ]
     },
     "metadata": {},
     "output_type": "display_data"
    },
    {
     "name": "stdout",
     "output_type": "stream",
     "text": [
      "data/p1/2023-07-04-22:15:20.153675living-room-p1-23.csv\n"
     ]
    },
    {
     "data": {
      "image/png": "[encoded data removed]",
      "text/plain": [
       "<Figure size 640x480 with 1 Axes>"
      ]
     },
     "metadata": {},
     "output_type": "display_data"
    },
    {
     "name": "stdout",
     "output_type": "stream",
     "text": [
      "data/p1/2023-07-04-22:16:20.609910living-room-p1-24.csv\n"
     ]
    },
    {
     "data": {
      "image/png": "[encoded data removed]",
      "text/plain": [
       "<Figure size 640x480 with 1 Axes>"
      ]
     },
     "metadata": {},
     "output_type": "display_data"
    },
    {
     "name": "stdout",
     "output_type": "stream",
     "text": [
      "data/p1/2023-07-04-22:17:21.020708living-room-p1-25.csv\n"
     ]
    },
    {
     "data": {
      "image/png": "[encoded data removed]",
      "text/plain": [
       "<Figure size 640x480 with 1 Axes>"
      ]
     },
     "metadata": {},
     "output_type": "display_data"
    },
    {
     "name": "stdout",
     "output_type": "stream",
     "text": [
      "data/p1/2023-07-04-22:18:21.469744living-room-p1-26.csv\n"
     ]
    },
    {
     "data": {
      "image/png": "[encoded data removed]",
      "text/plain": [
       "<Figure size 640x480 with 1 Axes>"
      ]
     },
     "metadata": {},
     "output_type": "display_data"
    },
    {
     "name": "stdout",
     "output_type": "stream",
     "text": [
      "data/p1/2023-07-04-22:19:21.918974living-room-p1-27.csv\n"
     ]
    },
    {
     "data": {
      "image/png": "[encoded data removed]",
      "text/plain": [
       "<Figure size 640x480 with 1 Axes>"
      ]
     },
     "metadata": {},
     "output_type": "display_data"
    },
    {
     "name": "stdout",
     "output_type": "stream",
     "text": [
      "data/p1/2023-07-04-22:20:22.318802living-room-p1-28.csv\n"
     ]
    },
    {
     "data": {
      "image/png": "[encoded data removed]",
      "text/plain": [
       "<Figure size 640x480 with 1 Axes>"
      ]
     },
     "metadata": {},
     "output_type": "display_data"
    },
    {
     "name": "stdout",
     "output_type": "stream",
     "text": [
      "data/p1/2023-07-04-22:21:22.760101living-room-p1-29.csv\n"
     ]
    },
    {
     "data": {
      "image/png": "[encoded data removed]",
      "text/plain": [
       "<Figure size 640x480 with 1 Axes>"
      ]
     },
     "metadata": {},
     "output_type": "display_data"
    },
    {
     "name": "stdout",
     "output_type": "stream",
     "text": [
      "data/p1/2023-07-04-22:22:23.166792living-room-p1-30.csv\n"
     ]
    },
    {
     "data": {
      "image/png": "[encoded data removed]",
      "text/plain": [
       "<Figure size 640x480 with 1 Axes>"
      ]
     },
     "metadata": {},
     "output_type": "display_data"
    }
   ],
   "source": [
    "for filename, df, kdf in zip(filenames, solved_dfs, kalman_dfs):\n",
    "    if MOVEMENT:\n",
    "        plt.plot(kdf.x, kdf.y, \"-o\", color=\"blue\")\n",
    "        plt.plot(df.x, df.y, \"-o\", color=\"orange\")\n",
    "        plt.axvline(TAG[REF_POINT][0] / 1000, color=\"g\", linestyle=\"--\")\n",
    "    else:\n",
    "        plt.scatter(kdf.x, kdf.y, color=\"blue\")\n",
    "        plt.scatter(df.x, df.y, color=\"orange\")\n",
    "        plt.plot(TAG[REF_POINT][0]/1000, TAG[REF_POINT][1]/1000, \"g1\")\n",
    "    plt.axis(\"equal\")\n",
    "    print(filename)\n",
    "    plt.show()"
   ]
  },
  {
   "cell_type": "code",
   "execution_count": 236,
   "metadata": {},
   "outputs": [],
   "source": [
    "import seaborn as sns\n",
    "\n",
    "x_y_comparison_df = pd.concat([all_kalman.copy().assign(name=\"Kalman\"), all_uwb[[\"x\", \"y\", \"error\"]].copy().assign(name=\"UWB\")])"
   ]
  },
  {
   "cell_type": "code",
   "execution_count": 237,
   "metadata": {},
   "outputs": [
    {
     "data": {
      "image/png": "[encoded data removed]",
      "text/plain": [
       "<Figure size 600x600 with 3 Axes>"
      ]
     },
     "metadata": {},
     "output_type": "display_data"
    }
   ],
   "source": [
    "\n",
    "# plt.title(\"Bivariate distribution of positioning results.\")\n",
    "if MOVEMENT:\n",
    "    sns.jointplot(\n",
    "        data=x_y_comparison_df,\n",
    "        x=\"x\",\n",
    "        y=\"y\",\n",
    "        hue=\"name\",\n",
    "        # kind=\"kde\",\n",
    "        # bw_adjust=0.9,\n",
    "    )\n",
    "    # for df in kalman_dfs:\n",
    "    #     plt.plot(df.x, df.y, color=\"blue\")\n",
    "    # for df in solved_dfs:\n",
    "    #     plt.plot(df.x, df.y, color=\"orange\")\n",
    "    plt.axvline(TAG[REF_POINT][0] / 1000, color=\"g\", linestyle=\"--\")\n",
    "else:    \n",
    "    sns.jointplot(\n",
    "        data=x_y_comparison_df,\n",
    "        x=\"x\",\n",
    "        y=\"y\",\n",
    "        hue=\"name\",\n",
    "        kind=\"kde\",\n",
    "        # bw_adjust=0.9,\n",
    "    )\n",
    "    plt.plot(TAG[REF_POINT][0] / 1000, TAG[REF_POINT][1] / 1000, \"b1\")\n",
    "ax = plt.gca()\n",
    "plt.xlabel(\"x [m]\")\n",
    "plt.ylabel(\"y [m]\")\n",
    "ax.get_legend().set_title(\"\")\n",
    "plt.grid()\n",
    "plt.show()"
   ]
  },
  {
   "attachments": {},
   "cell_type": "markdown",
   "metadata": {},
   "source": [
    "# RMSE"
   ]
  },
  {
   "cell_type": "code",
   "execution_count": 238,
   "metadata": {},
   "outputs": [
    {
     "data": {
      "text/plain": [
       "(Kalman (UWB+accelerometer)    0.339351\n",
       " UWB                           1.450273\n",
       " dtype: float64,\n",
       " Kalman (UWB+accelerometer)         NaN\n",
       " UWB                           1.110922\n",
       " dtype: float64)"
      ]
     },
     "execution_count": 238,
     "metadata": {},
     "output_type": "execute_result"
    }
   ],
   "source": [
    "errors = pd.concat(\n",
    "    [all_kalman[\"error\"], all_uwb[\"error\"]],\n",
    "    axis=1,\n",
    "    keys=[\"Kalman (UWB+accelerometer)\", \"UWB\"],\n",
    ")\n",
    "rmse = np.sqrt(errors.apply(lambda x: x**2, axis=1).mean())\n",
    "\n",
    "rmse, rmse.diff()"
   ]
  },
  {
   "attachments": {},
   "cell_type": "markdown",
   "metadata": {},
   "source": [
    "# Standard deviation"
   ]
  },
  {
   "cell_type": "code",
   "execution_count": 239,
   "metadata": {},
   "outputs": [
    {
     "data": {
      "text/plain": [
       "(Kalman (UWB+accelerometer)    0.267115\n",
       " UWB                           1.429009\n",
       " dtype: float64,\n",
       " Kalman (UWB+accelerometer)         NaN\n",
       " UWB                           1.161894\n",
       " dtype: float64)"
      ]
     },
     "execution_count": 239,
     "metadata": {},
     "output_type": "execute_result"
    }
   ],
   "source": [
    "(e_std:=errors.std()) , e_std.diff()"
   ]
  },
  {
   "cell_type": "code",
   "execution_count": 240,
   "metadata": {},
   "outputs": [],
   "source": [
    "# # The best ones\n",
    "# best_df = pd.DataFrame({\"filename\": filenames , \"rmse_kalman\": [np.sqrt(df[\"error\"].apply(lambda x: x**2).mean()) for df in kalman_dfs],\n",
    "#                     \"rmse_uwb\": [np.sqrt(df[\"error\"].apply(lambda x: x**2).mean()) for df in solved_dfs]})\n",
    "# best_df[\"rmse\"] = best_df[\"rmse_kalman\"]- best_df[\"rmse_uwb\"]\n",
    "# best_df = best_df.sort_values(\"rmse\", ascending=False)\n",
    "# # best_df[:10][\"rmse\"].mean()\n",
    "# [str(s) for s in best_df[:10][\"filename\"]]"
   ]
  },
  {
   "attachments": {},
   "cell_type": "markdown",
   "metadata": {},
   "source": [
    "# RMSE when ref point = mean point"
   ]
  },
  {
   "cell_type": "code",
   "execution_count": 241,
   "metadata": {},
   "outputs": [],
   "source": [
    "if MOVEMENT:\n",
    "    c = - all_kalman.x.mean()\n",
    "    calc_dist_kalman = lambda x: point_line_distance(x[0], x[1], a, b, c)\n",
    "    calc_dist_uwb = lambda x: point_line_distance(x[0], x[1], a, b, c)\n",
    "else:\n",
    "    ref_point_kalman = (all_kalman.x.mean(), all_kalman.y.mean())\n",
    "    ref_point_uwb = (all_uwb.x.mean(), all_uwb.y.mean())\n",
    "    calc_dist_kalman = lambda x: p2p_dist(x[0], x[1], *ref_point_kalman)\n",
    "    calc_dist_uwb = lambda x: p2p_dist(x[0], x[1], *ref_point_uwb)"
   ]
  },
  {
   "cell_type": "code",
   "execution_count": 242,
   "metadata": {},
   "outputs": [],
   "source": [
    "for df in kalman_dfs:\n",
    "    df[\"error\"] = df[[\"x\",\"y\"]].apply(calc_dist_kalman, axis=1)\n",
    "\n",
    "for df in solved_dfs:\n",
    "    df[\"error\"] = df[[\"x\",\"y\"]].apply(calc_dist_uwb, axis=1)"
   ]
  },
  {
   "cell_type": "code",
   "execution_count": 243,
   "metadata": {},
   "outputs": [
    {
     "data": {
      "text/plain": [
       "(Kalman (UWB+accelerometer)    0.269473\n",
       " UWB                           1.431175\n",
       " dtype: float64,\n",
       " Kalman (UWB+accelerometer)         NaN\n",
       " UWB                           1.161702\n",
       " dtype: float64)"
      ]
     },
     "execution_count": 243,
     "metadata": {},
     "output_type": "execute_result"
    }
   ],
   "source": [
    "all_kalman_ref = pd.concat(kalman_dfs, ignore_index=True)\n",
    "all_uwb_ref = pd.concat(solved_dfs, ignore_index=True)\n",
    "\n",
    "errors = pd.concat(\n",
    "    [all_kalman_ref[\"error\"], all_uwb_ref[\"error\"]],\n",
    "    axis=1,\n",
    "    keys=[\"Kalman (UWB+accelerometer)\", \"UWB\"],\n",
    ")\n",
    "rmse = np.sqrt(errors.apply(lambda x: x**2, axis=1).mean())\n",
    "\n",
    "rmse, rmse.diff()"
   ]
  }
 ],
 "metadata": {
  "kernelspec": {
   "display_name": ".venv",
   "language": "python",
   "name": "python3"
  },
  "language_info": {
   "codemirror_mode": {
    "name": "ipython",
    "version": 3
   },
   "file_extension": ".py",
   "mimetype": "text/x-python",
   "name": "python",
   "nbconvert_exporter": "python",
   "pygments_lexer": "ipython3",
   "version": "3.11.3"
  },
  "orig_nbformat": 4
 },
 "nbformat": 4,
 "nbformat_minor": 2
}
