{
 "cells": [
  {
   "cell_type": "code",
   "execution_count": 111,
   "metadata": {},
   "outputs": [],
   "source": [
    "import pandas as pd\n",
    "import numpy as np\n",
    "import matplotlib.pyplot as plt\n",
    "from pathlib import Path\n",
    "\n",
    "MULTILATERATION_METHOD = \"2d\"\n",
    "samples_dir = Path(\"data/movement_manual_1/\")\n",
    "\n",
    "# These can be overridden by environment.json\n",
    "MOVEMENT=False\n",
    "REF_POINT=\"P1\""
   ]
  },
  {
   "cell_type": "code",
   "execution_count": 112,
   "metadata": {},
   "outputs": [],
   "source": [
    "# Try to get test environment conditions from JSON\n",
    "import json\n",
    "\n",
    "try:\n",
    "    with open(samples_dir / \"environment.json\", \"r\") as file:\n",
    "        settings = json.loads(file.read())\n",
    "except:\n",
    "    settings = dict()\n",
    "\n",
    "if (TAG:=settings.get(\"tag\")) is None:\n",
    "    from data.points import TAG\n",
    "if (ANCHORS := settings.get(\"anchors\")) is None:\n",
    "    from data.points import ANCHORS"
   ]
  },
  {
   "cell_type": "code",
   "execution_count": 113,
   "metadata": {},
   "outputs": [],
   "source": [
    "class AccelerometerOrientation:\n",
    "    x_sign: int\n",
    "    global_x: str\n",
    "    y_sign: int\n",
    "    global_y: str\n",
    "\n",
    "    def __init__(self, setting: str) -> None:\n",
    "        \"\"\"\n",
    "        Module orientation\n",
    "        The arrow should point the same way as the back of the module (accelerometer's +Z axis)\n",
    "        <------x-------\n",
    "               ^       |\n",
    "              -y       |\n",
    "                       |\n",
    "         <+x     -x>   y\n",
    "                       |\n",
    "              +y       |\n",
    "               v       v\n",
    "        \"\"\"\n",
    "        match setting:\n",
    "            case \"+x\":\n",
    "                data = (1, \"acc_z\", -1, \"acc_y\")\n",
    "            case \"-x\":\n",
    "                data = (-1, \"acc_z\", 1, \"acc_y\")\n",
    "            case \"+y\":\n",
    "                data = (1, \"acc_y\", 1, \"acc_z\")\n",
    "            case \"-y\":\n",
    "                data = (-1, \"acc_y\", -1, \"acc_z\")\n",
    "            case _:\n",
    "                raise ValueError(setting)\n",
    "\n",
    "        self.x_sign, self.global_x, self.y_sign, self.global_y = data\n",
    "\n",
    "ACCELEROMETER_ORIENTATION = AccelerometerOrientation(settings.get(\"acc_orientation\") or \"-y\")"
   ]
  },
  {
   "cell_type": "code",
   "execution_count": 114,
   "metadata": {},
   "outputs": [],
   "source": [
    "folder_name = samples_dir.name.upper()\n",
    "\n",
    "if folder_name.startswith(\"P\"): \n",
    "    REF_POINT = samples_dir.name.upper()[:2]\n",
    "else:\n",
    "    MOVEMENT=True\n",
    "    REF_POINT = settings.get(\"REF_POINT\") or REF_POINT\n",
    "\n",
    "\n",
    "filenames = [f for f in samples_dir.iterdir() if f.name.endswith(\".csv\")] if samples_dir.is_dir() else [samples_dir]\n",
    "filenames.sort()\n",
    "# filenames\n"
   ]
  },
  {
   "cell_type": "code",
   "execution_count": 115,
   "metadata": {},
   "outputs": [],
   "source": [
    "dfs = [pd.read_csv(f, index_col=0) for f in filenames]"
   ]
  },
  {
   "cell_type": "code",
   "execution_count": 116,
   "metadata": {},
   "outputs": [],
   "source": [
    "# Enforce same number of samples\n",
    "if not MOVEMENT:\n",
    "    min_samples = min(len(df) for df in dfs)\n",
    "    dfs = [df.head(min_samples) for df in dfs]"
   ]
  },
  {
   "cell_type": "code",
   "execution_count": 117,
   "metadata": {},
   "outputs": [],
   "source": [
    "# def remove_incomplete_measurements(df, filename=None):\n",
    "#     n_before = len(df)\n",
    "#     desired_order = list(df[\"anchor\"].unique())\n",
    "#     encoder = lambda x: sum(v*i for v, i in zip(x, [10**j for j in range(len(desired_order))]))\n",
    "#     desired_sum = int(\"\".join(str(v) for v in range(len(desired_order)-1, 0, -1)))\n",
    "\n",
    "#     empty_df = pd.DataFrame({\"anchor\": desired_order}, columns=df.columns)\n",
    "#     df = pd.concat([df, empty_df], ignore_index=True)\n",
    "\n",
    "#     sums = df['anchor'].apply(lambda x: desired_order.index(x)).rolling(window=len(desired_order), step=4).apply(encoder).shift(-1, fill_value=-1000)\n",
    "#     df[\"mask\"] = sums.eq(desired_sum)\n",
    "#     df[\"mask\"] = df[\"mask\"].ffill()\n",
    "\n",
    "#     result = df[df[\"mask\"]].drop(\"mask\", axis=1)\n",
    "#     n_after = len(result)\n",
    "#     if n_after != n_before:\n",
    "#         print(f\"Removed {n_before - n_after} samples due to missing measurements. {filename}\")\n",
    "#     return result\n",
    "\n",
    "# if MOVEMENT:\n",
    "#     dfs = [remove_incomplete_measurements(df, filename) for df, filename in zip(dfs, filenames)]"
   ]
  },
  {
   "cell_type": "code",
   "execution_count": 118,
   "metadata": {},
   "outputs": [],
   "source": [
    "for df in dfs:\n",
    "    df[\"timestamp\"] = pd.to_datetime(df[\"timestamp\"])\n",
    "    # df[[\"acc_x\", \"acc_y\", \"acc_z\"]] = df[[\"acc_x\", \"acc_y\", \"acc_z\"]].rolling(window=5).mean().fillna(0)\n",
    "\n",
    "dfs = [df[df.anchor.isin(ANCHORS.keys())] for df in dfs]\n",
    "dfs = [df.set_index(\"timestamp\") for df in dfs]\n",
    "\n",
    "anchors = dfs[0][\"anchor\"].unique()"
   ]
  },
  {
   "attachments": {},
   "cell_type": "markdown",
   "metadata": {},
   "source": [
    "# Multilateration"
   ]
  },
  {
   "cell_type": "code",
   "execution_count": 119,
   "metadata": {},
   "outputs": [],
   "source": [
    "from multilateration.solve import solve\n",
    "\n",
    "solved_dfs = [solve(df, ANCHORS, MULTILATERATION_METHOD) for df in dfs]"
   ]
  },
  {
   "cell_type": "code",
   "execution_count": 120,
   "metadata": {},
   "outputs": [],
   "source": [
    "solved_dfs = [df.merge(solved_df, on=\"timestamp\")[\n",
    "    [\n",
    "        \"timestamp\",\n",
    "        \"acc_x\",\n",
    "        \"acc_y\",\n",
    "        \"acc_z\",\n",
    "        \"x\",\n",
    "        \"y\",\n",
    "        \"radius\",\n",
    "    ]\n",
    "] for df, solved_df in zip(dfs, solved_dfs)]\n",
    "\n",
    "# Convert to metric, remove gravitation\n",
    "for df in solved_dfs:\n",
    "    df[[\"x\", \"y\"]] /= 1000\n",
    "    df[[\"acc_x\", \"acc_y\", \"acc_z\"]] *= 9.80665\n",
    "    df[[\"acc_x\", \"acc_y\", \"acc_z\"]] -= df[[\"acc_x\", \"acc_y\", \"acc_z\"]].head(5).mean()\n"
   ]
  },
  {
   "cell_type": "code",
   "execution_count": 121,
   "metadata": {},
   "outputs": [
    {
     "data": {
      "image/png": "[encoded data removed]",
      "text/plain": [
       "<Figure size 640x480 with 1 Axes>"
      ]
     },
     "metadata": {},
     "output_type": "display_data"
    }
   ],
   "source": [
    "for df in solved_dfs:\n",
    "    plt.scatter(df[\"x\"], df[\"y\"])\n",
    "plt.axis(\"equal\")\n",
    "plt.show()"
   ]
  },
  {
   "cell_type": "code",
   "execution_count": 122,
   "metadata": {},
   "outputs": [
    {
     "data": {
      "text/plain": [
       "'Deleted 1 samples. Left 157 out of 158 samples.'"
      ]
     },
     "metadata": {},
     "output_type": "display_data"
    }
   ],
   "source": [
    "# Remove outliers\n",
    "n_samples_before = sum(len(df) for df in solved_dfs)\n",
    "\n",
    "def remove_outliers(df, columns, threshold=3):\n",
    "    z_scores = np.abs((df[columns] - df[columns].mean()) / df[columns].std())\n",
    "    df_no_outliers = df[(z_scores < threshold).all(axis=1)]\n",
    "    return df_no_outliers\n",
    "\n",
    "# Remove outliers from the DataFrame\n",
    "solved_dfs = [remove_outliers(df, ['x', 'y']) for df in solved_dfs]\n",
    "n_samples_after = sum(len(df) for df in solved_dfs)\n",
    "display(f\"Deleted {n_samples_before-n_samples_after} samples. Left {n_samples_after} out of {n_samples_before} samples.\")"
   ]
  },
  {
   "cell_type": "code",
   "execution_count": 123,
   "metadata": {},
   "outputs": [
    {
     "data": {
      "image/png": "[encoded data removed]",
      "text/plain": [
       "<Figure size 640x480 with 1 Axes>"
      ]
     },
     "metadata": {},
     "output_type": "display_data"
    }
   ],
   "source": [
    "for df in solved_dfs:\n",
    "    if MOVEMENT:\n",
    "        plt.plot(df[\"x\"], df[\"y\"])\n",
    "    else:\n",
    "        plt.scatter(df[\"x\"], df[\"y\"])\n",
    "\n",
    "\n",
    "if MOVEMENT:\n",
    "    plt.axvline(TAG[REF_POINT][0] / 1000, color=\"green\", linestyle=\"--\")\n",
    "else:\n",
    "    plt.scatter(TAG[REF_POINT][0] / 1000, TAG[REF_POINT][1] / 1000, color=\"green\")\n",
    "plt.axis(\"equal\")\n",
    "plt.grid(True)\n",
    "plt.show()"
   ]
  },
  {
   "cell_type": "code",
   "execution_count": 124,
   "metadata": {},
   "outputs": [],
   "source": [
    "from math import sqrt\n",
    "def p2p_dist(ax, ay, bx, by):\n",
    "    return sqrt((bx - ax) ** 2 + (by - ay) ** 2)\n",
    "\n",
    "def point_line_distance(x, y, a, b, c):\n",
    "    return abs(a * x + b * y + c) / sqrt(a**2 + b**2)"
   ]
  },
  {
   "cell_type": "code",
   "execution_count": 125,
   "metadata": {},
   "outputs": [],
   "source": [
    "if MOVEMENT:\n",
    "    # ax + by + c = 0\n",
    "    a = 1\n",
    "    b = 0\n",
    "    c = - TAG[REF_POINT][0] / 1000\n",
    "    calc_dist = lambda x: point_line_distance(x[0], x[1], a, b, c)\n",
    "else:\n",
    "    calc_dist = lambda x: p2p_dist(x[0], x[1], TAG[REF_POINT][0] / 1000, TAG[REF_POINT][1] / 1000)\n",
    "\n",
    "for df in solved_dfs:\n",
    "    df[\"error\"] = df[[\"x\", \"y\"]].apply(calc_dist, axis=1)\n",
    "    "
   ]
  },
  {
   "attachments": {},
   "cell_type": "markdown",
   "metadata": {},
   "source": [
    "# Kalman filter"
   ]
  },
  {
   "cell_type": "code",
   "execution_count": 126,
   "metadata": {},
   "outputs": [],
   "source": [
    "def kalman_step(x, P, measurement, R, motion, Q, F, H):\n",
    "    # PREDICT x, P based on motion\n",
    "    x = F * x + motion\n",
    "    P = F * P * F.T + Q\n",
    "\n",
    "    # UPDATE x, P based on measurement m\n",
    "    # distance between measured and current position-belief\n",
    "    y = np.matrix(measurement).T - H * x\n",
    "    S = H * P * H.T + R  # residual convariance\n",
    "    K = P * H.T * S.I  # Kalman gain\n",
    "    x = x + K * y\n",
    "    I = np.matrix(np.eye(F.shape[0]))  # identity matrix\n",
    "    P = (I - K * H) * P\n",
    "\n",
    "    return x, P"
   ]
  },
  {
   "cell_type": "code",
   "execution_count": 127,
   "metadata": {},
   "outputs": [
    {
     "data": {
      "text/plain": [
       "1"
      ]
     },
     "execution_count": 127,
     "metadata": {},
     "output_type": "execute_result"
    }
   ],
   "source": [
    "kalman_dfs = []\n",
    "for df in solved_dfs:\n",
    "    dt = df[\"timestamp\"].diff().mean().to_pytimedelta().microseconds / 10**6\n",
    "\n",
    "    F = np.matrix(\n",
    "        [[1, 0, dt**2 / 2, 0], [0, 1, 0, dt**2 / 2], [0, 0, 1, 0], [0, 0, 0, 1]]\n",
    "    )\n",
    "    H = np.matrix(np.eye(4))\n",
    "\n",
    "    # Q = np.matrix(np.diag([0.0001, 0.0001, 0.01, 0.00000001]))\n",
    "    # Q = np.matrix(np.diag([0.0001, 0.0001, 0.01, 0.01]))\n",
    "    # Q = np.matrix(np.diag([0.001, 0.001, 0.001, 0.001]))\n",
    "    Q = np.matrix(np.diag([0.0002, 0.0002, 0.0001, 0.0001])) # best one\n",
    "    if MOVEMENT:\n",
    "        R = np.matrix(np.eye(4) * 2e-4)\n",
    "    else:\n",
    "        R = np.matrix(\n",
    "            np.diag(\n",
    "                [\n",
    "                    df[\"x\"].std() ** 2,\n",
    "                    df[\"y\"].std() ** 2,\n",
    "                    df[ACCELEROMETER_ORIENTATION.global_x].std() ** 2,\n",
    "                    df[ACCELEROMETER_ORIENTATION.global_y].std() ** 2,\n",
    "                ]\n",
    "            )\n",
    "        )\n",
    "\n",
    "    P = np.matrix(np.eye(4)) * 100\n",
    "    x = np.matrix(\"0. 0. 0. 0.\").T\n",
    "\n",
    "\n",
    "    # Filter\n",
    "    filtered = []\n",
    "    motion = np.matrix(\"0. 0. 0. 0.\").T\n",
    "    for _, measurement in df[\n",
    "        [\n",
    "            \"x\",\n",
    "            \"y\",\n",
    "            ACCELEROMETER_ORIENTATION.global_x,\n",
    "            ACCELEROMETER_ORIENTATION.global_y,\n",
    "        ]\n",
    "    ].iterrows():\n",
    "        measurement = measurement.to_list()\n",
    "        measurement = [\n",
    "            measurement[0],  # x\n",
    "            measurement[1],  # y\n",
    "            ACCELEROMETER_ORIENTATION.x_sign * measurement[2],  # x\n",
    "            ACCELEROMETER_ORIENTATION.y_sign * measurement[3],  # y\n",
    "        ]\n",
    "        x, P = kalman_step(x, P, measurement, R, motion, Q, F, H)\n",
    "        filtered.append(x.tolist())\n",
    "\n",
    "    filtered_pos = [[x[0], y[0]] for (x, y, _, _) in filtered]\n",
    "    kalman_dfs.append(pd.DataFrame(filtered_pos, columns=[\"x\", \"y\"]))\n",
    "\n",
    "len(kalman_dfs)"
   ]
  },
  {
   "cell_type": "code",
   "execution_count": 128,
   "metadata": {},
   "outputs": [],
   "source": [
    "for df in kalman_dfs:\n",
    "    df[\"error\"] = df.apply(calc_dist, axis=1)"
   ]
  },
  {
   "cell_type": "code",
   "execution_count": 129,
   "metadata": {},
   "outputs": [
    {
     "name": "stderr",
     "output_type": "stream",
     "text": [
      "/home/piotr/Documents/mgr/uwb-rs/data-processing/.venv/lib/python3.11/site-packages/plotly/graph_objs/_deprecations.py:378: DeprecationWarning:\n",
      "\n",
      "plotly.graph_objs.Line is deprecated.\n",
      "Please replace it with one of the following more specific types\n",
      "  - plotly.graph_objs.scatter.Line\n",
      "  - plotly.graph_objs.layout.shape.Line\n",
      "  - etc.\n",
      "\n",
      "\n"
     ]
    },
    {
     "data": {
      "application/vnd.plotly.v1+json": {
       "config": {
        "plotlyServerURL": "https://plot.ly"
       },
       "data": [
        {
         "name": "0",
         "type": "scatter",
         "y": [
          0.6906002755668448,
          0.6386609552772409,
          0.6987455451048343,
          0.6036611021850675,
          0.5018740113798208,
          0.25398357715013553,
          0.16514325344083236,
          0.10586004119838899,
          0.08873101756076807,
          0.13219185296755986,
          0.11304475496062372,
          0.06020037581299231,
          0.13695379059202706,
          0.12399196265283408,
          0.1636125624401097,
          0.20261328127350198,
          0.2253455947566101,
          0.3024710201860139,
          0.22518238827084947,
          0.2743412074131215,
          0.36190423325054244,
          0.5871384097116856,
          0.7158639096827162,
          0.9158837161772238,
          1.0536764627981767,
          1.1517849228025034,
          1.304789340398683,
          1.495766002306115,
          1.5496228594496102,
          1.5763223031339129,
          1.6517950710587161,
          1.695071181550551,
          1.8977511869485988,
          1.683895222755611,
          1.704907648179065,
          1.7349134442539222,
          1.6980658324118636,
          1.6733666785431813,
          1.5718084697808012,
          1.569675137431605,
          1.320674584540568,
          1.1019275208472994,
          0.8875711605170049,
          0.6694053187104974,
          0.3833345830723367,
          0.19856471232401973,
          0.14051922525053318,
          0.2173122320116363,
          0.2382036007475552,
          0.24144405629497934,
          0.26412730570822784,
          0.3016303176436175,
          0.31571249434166293,
          0.33970201087279217,
          0.4289797617359168,
          0.6335333586627128,
          0.9035854463629205,
          1.1599163352385728,
          1.2881342193236878,
          1.3829190878157518,
          1.5437595190833804,
          1.4860132782191038,
          1.5488265474818859,
          1.600644413195894,
          1.597645599455986,
          1.5575971221014115,
          1.5412394493174868,
          1.666623334070797,
          1.6875539945065459,
          1.6162706666281657,
          1.4204417318661369,
          1.1059920102897365,
          1.0087847532144725,
          0.5460027766584659,
          0.2368473213131499,
          0.11022394479919484,
          0.1377417711492046,
          0.15636315976377757,
          0.1440992470658231,
          0.14331790615428908,
          0.1906681428628274,
          0.2920341478610413,
          0.348186599052033,
          0.4911125355069903,
          0.6820707135507542,
          0.8822628326258648,
          1.1867712176027863,
          1.3649066100713352,
          1.4217570561588597,
          1.607816180945502,
          1.6451264361592657,
          1.6371589220509326,
          1.6049649868450209,
          1.6593500245258963,
          1.6409450433373354,
          1.5332557977707504,
          1.522696633399701,
          1.370323229836549,
          1.066263983873224,
          0.8293887218741951,
          0.5215789796760264,
          0.20820011783783055,
          0.11417132373857442,
          0.08379671159273894,
          0.19596529064451929,
          0.10887015070300476,
          0.10534927119368609,
          0.22828935468203726,
          0.2997558479624618,
          0.4684642195998283,
          0.4469152151606397,
          0.9750215357450331,
          1.1998881625094713,
          1.4060229442530572,
          1.559238282773031,
          1.719693963454425,
          1.7040348785411346,
          1.7380275868248416,
          1.8126430750864735,
          1.7896226444365984,
          1.6267963236811944,
          1.6615629474967268,
          1.550107570496034,
          1.5031805269916005,
          1.350897301228979,
          1.0513530255907657,
          0.7842772846660659,
          0.521873367709897,
          0.23965856098141836,
          0.09319601543265277,
          0.0037347489244754506,
          0.04622884862372256,
          0.029878952988307894,
          0.13807280117453402,
          0.039929853240069146,
          0.08574097540992387,
          0.15234509822008224,
          0.47929883542747787,
          0.7722405605846503,
          1.0691106299776763,
          1.2231819428765878,
          1.4517158541604505,
          1.6751064779794511,
          1.76464865816069,
          1.7854419711253873,
          1.750025120292542,
          1.710677556408899,
          1.7207046916006492,
          1.6443860600564002,
          1.5930522409816734,
          1.5534158588145304,
          1.3055292712920308,
          1.1093625512325158,
          0.7950453481169992,
          0.5971908570649691,
          0.4859957313188552,
          0.1194084667389319
         ]
        }
       ],
       "layout": {
        "template": {
         "data": {
          "bar": [
           {
            "error_x": {
             "color": "#2a3f5f"
            },
            "error_y": {
             "color": "#2a3f5f"
            },
            "marker": {
             "line": {
              "color": "#E5ECF6",
              "width": 0.5
             },
             "pattern": {
              "fillmode": "overlay",
              "size": 10,
              "solidity": 0.2
             }
            },
            "type": "bar"
           }
          ],
          "barpolar": [
           {
            "marker": {
             "line": {
              "color": "#E5ECF6",
              "width": 0.5
             },
             "pattern": {
              "fillmode": "overlay",
              "size": 10,
              "solidity": 0.2
             }
            },
            "type": "barpolar"
           }
          ],
          "carpet": [
           {
            "aaxis": {
             "endlinecolor": "#2a3f5f",
             "gridcolor": "white",
             "linecolor": "white",
             "minorgridcolor": "white",
             "startlinecolor": "#2a3f5f"
            },
            "baxis": {
             "endlinecolor": "#2a3f5f",
             "gridcolor": "white",
             "linecolor": "white",
             "minorgridcolor": "white",
             "startlinecolor": "#2a3f5f"
            },
            "type": "carpet"
           }
          ],
          "choropleth": [
           {
            "colorbar": {
             "outlinewidth": 0,
             "ticks": ""
            },
            "type": "choropleth"
           }
          ],
          "contour": [
           {
            "colorbar": {
             "outlinewidth": 0,
             "ticks": ""
            },
            "colorscale": [
             [
              0,
              "#0d0887"
             ],
             [
              0.1111111111111111,
              "#46039f"
             ],
             [
              0.2222222222222222,
              "#7201a8"
             ],
             [
              0.3333333333333333,
              "#9c179e"
             ],
             [
              0.4444444444444444,
              "#bd3786"
             ],
             [
              0.5555555555555556,
              "#d8576b"
             ],
             [
              0.6666666666666666,
              "#ed7953"
             ],
             [
              0.7777777777777778,
              "#fb9f3a"
             ],
             [
              0.8888888888888888,
              "#fdca26"
             ],
             [
              1,
              "#f0f921"
             ]
            ],
            "type": "contour"
           }
          ],
          "contourcarpet": [
           {
            "colorbar": {
             "outlinewidth": 0,
             "ticks": ""
            },
            "type": "contourcarpet"
           }
          ],
          "heatmap": [
           {
            "colorbar": {
             "outlinewidth": 0,
             "ticks": ""
            },
            "colorscale": [
             [
              0,
              "#0d0887"
             ],
             [
              0.1111111111111111,
              "#46039f"
             ],
             [
              0.2222222222222222,
              "#7201a8"
             ],
             [
              0.3333333333333333,
              "#9c179e"
             ],
             [
              0.4444444444444444,
              "#bd3786"
             ],
             [
              0.5555555555555556,
              "#d8576b"
             ],
             [
              0.6666666666666666,
              "#ed7953"
             ],
             [
              0.7777777777777778,
              "#fb9f3a"
             ],
             [
              0.8888888888888888,
              "#fdca26"
             ],
             [
              1,
              "#f0f921"
             ]
            ],
            "type": "heatmap"
           }
          ],
          "heatmapgl": [
           {
            "colorbar": {
             "outlinewidth": 0,
             "ticks": ""
            },
            "colorscale": [
             [
              0,
              "#0d0887"
             ],
             [
              0.1111111111111111,
              "#46039f"
             ],
             [
              0.2222222222222222,
              "#7201a8"
             ],
             [
              0.3333333333333333,
              "#9c179e"
             ],
             [
              0.4444444444444444,
              "#bd3786"
             ],
             [
              0.5555555555555556,
              "#d8576b"
             ],
             [
              0.6666666666666666,
              "#ed7953"
             ],
             [
              0.7777777777777778,
              "#fb9f3a"
             ],
             [
              0.8888888888888888,
              "#fdca26"
             ],
             [
              1,
              "#f0f921"
             ]
            ],
            "type": "heatmapgl"
           }
          ],
          "histogram": [
           {
            "marker": {
             "pattern": {
              "fillmode": "overlay",
              "size": 10,
              "solidity": 0.2
             }
            },
            "type": "histogram"
           }
          ],
          "histogram2d": [
           {
            "colorbar": {
             "outlinewidth": 0,
             "ticks": ""
            },
            "colorscale": [
             [
              0,
              "#0d0887"
             ],
             [
              0.1111111111111111,
              "#46039f"
             ],
             [
              0.2222222222222222,
              "#7201a8"
             ],
             [
              0.3333333333333333,
              "#9c179e"
             ],
             [
              0.4444444444444444,
              "#bd3786"
             ],
             [
              0.5555555555555556,
              "#d8576b"
             ],
             [
              0.6666666666666666,
              "#ed7953"
             ],
             [
              0.7777777777777778,
              "#fb9f3a"
             ],
             [
              0.8888888888888888,
              "#fdca26"
             ],
             [
              1,
              "#f0f921"
             ]
            ],
            "type": "histogram2d"
           }
          ],
          "histogram2dcontour": [
           {
            "colorbar": {
             "outlinewidth": 0,
             "ticks": ""
            },
            "colorscale": [
             [
              0,
              "#0d0887"
             ],
             [
              0.1111111111111111,
              "#46039f"
             ],
             [
              0.2222222222222222,
              "#7201a8"
             ],
             [
              0.3333333333333333,
              "#9c179e"
             ],
             [
              0.4444444444444444,
              "#bd3786"
             ],
             [
              0.5555555555555556,
              "#d8576b"
             ],
             [
              0.6666666666666666,
              "#ed7953"
             ],
             [
              0.7777777777777778,
              "#fb9f3a"
             ],
             [
              0.8888888888888888,
              "#fdca26"
             ],
             [
              1,
              "#f0f921"
             ]
            ],
            "type": "histogram2dcontour"
           }
          ],
          "mesh3d": [
           {
            "colorbar": {
             "outlinewidth": 0,
             "ticks": ""
            },
            "type": "mesh3d"
           }
          ],
          "parcoords": [
           {
            "line": {
             "colorbar": {
              "outlinewidth": 0,
              "ticks": ""
             }
            },
            "type": "parcoords"
           }
          ],
          "pie": [
           {
            "automargin": true,
            "type": "pie"
           }
          ],
          "scatter": [
           {
            "fillpattern": {
             "fillmode": "overlay",
             "size": 10,
             "solidity": 0.2
            },
            "type": "scatter"
           }
          ],
          "scatter3d": [
           {
            "line": {
             "colorbar": {
              "outlinewidth": 0,
              "ticks": ""
             }
            },
            "marker": {
             "colorbar": {
              "outlinewidth": 0,
              "ticks": ""
             }
            },
            "type": "scatter3d"
           }
          ],
          "scattercarpet": [
           {
            "marker": {
             "colorbar": {
              "outlinewidth": 0,
              "ticks": ""
             }
            },
            "type": "scattercarpet"
           }
          ],
          "scattergeo": [
           {
            "marker": {
             "colorbar": {
              "outlinewidth": 0,
              "ticks": ""
             }
            },
            "type": "scattergeo"
           }
          ],
          "scattergl": [
           {
            "marker": {
             "colorbar": {
              "outlinewidth": 0,
              "ticks": ""
             }
            },
            "type": "scattergl"
           }
          ],
          "scattermapbox": [
           {
            "marker": {
             "colorbar": {
              "outlinewidth": 0,
              "ticks": ""
             }
            },
            "type": "scattermapbox"
           }
          ],
          "scatterpolar": [
           {
            "marker": {
             "colorbar": {
              "outlinewidth": 0,
              "ticks": ""
             }
            },
            "type": "scatterpolar"
           }
          ],
          "scatterpolargl": [
           {
            "marker": {
             "colorbar": {
              "outlinewidth": 0,
              "ticks": ""
             }
            },
            "type": "scatterpolargl"
           }
          ],
          "scatterternary": [
           {
            "marker": {
             "colorbar": {
              "outlinewidth": 0,
              "ticks": ""
             }
            },
            "type": "scatterternary"
           }
          ],
          "surface": [
           {
            "colorbar": {
             "outlinewidth": 0,
             "ticks": ""
            },
            "colorscale": [
             [
              0,
              "#0d0887"
             ],
             [
              0.1111111111111111,
              "#46039f"
             ],
             [
              0.2222222222222222,
              "#7201a8"
             ],
             [
              0.3333333333333333,
              "#9c179e"
             ],
             [
              0.4444444444444444,
              "#bd3786"
             ],
             [
              0.5555555555555556,
              "#d8576b"
             ],
             [
              0.6666666666666666,
              "#ed7953"
             ],
             [
              0.7777777777777778,
              "#fb9f3a"
             ],
             [
              0.8888888888888888,
              "#fdca26"
             ],
             [
              1,
              "#f0f921"
             ]
            ],
            "type": "surface"
           }
          ],
          "table": [
           {
            "cells": {
             "fill": {
              "color": "#EBF0F8"
             },
             "line": {
              "color": "white"
             }
            },
            "header": {
             "fill": {
              "color": "#C8D4E3"
             },
             "line": {
              "color": "white"
             }
            },
            "type": "table"
           }
          ]
         },
         "layout": {
          "annotationdefaults": {
           "arrowcolor": "#2a3f5f",
           "arrowhead": 0,
           "arrowwidth": 1
          },
          "autotypenumbers": "strict",
          "coloraxis": {
           "colorbar": {
            "outlinewidth": 0,
            "ticks": ""
           }
          },
          "colorscale": {
           "diverging": [
            [
             0,
             "#8e0152"
            ],
            [
             0.1,
             "#c51b7d"
            ],
            [
             0.2,
             "#de77ae"
            ],
            [
             0.3,
             "#f1b6da"
            ],
            [
             0.4,
             "#fde0ef"
            ],
            [
             0.5,
             "#f7f7f7"
            ],
            [
             0.6,
             "#e6f5d0"
            ],
            [
             0.7,
             "#b8e186"
            ],
            [
             0.8,
             "#7fbc41"
            ],
            [
             0.9,
             "#4d9221"
            ],
            [
             1,
             "#276419"
            ]
           ],
           "sequential": [
            [
             0,
             "#0d0887"
            ],
            [
             0.1111111111111111,
             "#46039f"
            ],
            [
             0.2222222222222222,
             "#7201a8"
            ],
            [
             0.3333333333333333,
             "#9c179e"
            ],
            [
             0.4444444444444444,
             "#bd3786"
            ],
            [
             0.5555555555555556,
             "#d8576b"
            ],
            [
             0.6666666666666666,
             "#ed7953"
            ],
            [
             0.7777777777777778,
             "#fb9f3a"
            ],
            [
             0.8888888888888888,
             "#fdca26"
            ],
            [
             1,
             "#f0f921"
            ]
           ],
           "sequentialminus": [
            [
             0,
             "#0d0887"
            ],
            [
             0.1111111111111111,
             "#46039f"
            ],
            [
             0.2222222222222222,
             "#7201a8"
            ],
            [
             0.3333333333333333,
             "#9c179e"
            ],
            [
             0.4444444444444444,
             "#bd3786"
            ],
            [
             0.5555555555555556,
             "#d8576b"
            ],
            [
             0.6666666666666666,
             "#ed7953"
            ],
            [
             0.7777777777777778,
             "#fb9f3a"
            ],
            [
             0.8888888888888888,
             "#fdca26"
            ],
            [
             1,
             "#f0f921"
            ]
           ]
          },
          "colorway": [
           "#636efa",
           "#EF553B",
           "#00cc96",
           "#ab63fa",
           "#FFA15A",
           "#19d3f3",
           "#FF6692",
           "#B6E880",
           "#FF97FF",
           "#FECB52"
          ],
          "font": {
           "color": "#2a3f5f"
          },
          "geo": {
           "bgcolor": "white",
           "lakecolor": "white",
           "landcolor": "#E5ECF6",
           "showlakes": true,
           "showland": true,
           "subunitcolor": "white"
          },
          "hoverlabel": {
           "align": "left"
          },
          "hovermode": "closest",
          "mapbox": {
           "style": "light"
          },
          "paper_bgcolor": "white",
          "plot_bgcolor": "#E5ECF6",
          "polar": {
           "angularaxis": {
            "gridcolor": "white",
            "linecolor": "white",
            "ticks": ""
           },
           "bgcolor": "#E5ECF6",
           "radialaxis": {
            "gridcolor": "white",
            "linecolor": "white",
            "ticks": ""
           }
          },
          "scene": {
           "xaxis": {
            "backgroundcolor": "#E5ECF6",
            "gridcolor": "white",
            "gridwidth": 2,
            "linecolor": "white",
            "showbackground": true,
            "ticks": "",
            "zerolinecolor": "white"
           },
           "yaxis": {
            "backgroundcolor": "#E5ECF6",
            "gridcolor": "white",
            "gridwidth": 2,
            "linecolor": "white",
            "showbackground": true,
            "ticks": "",
            "zerolinecolor": "white"
           },
           "zaxis": {
            "backgroundcolor": "#E5ECF6",
            "gridcolor": "white",
            "gridwidth": 2,
            "linecolor": "white",
            "showbackground": true,
            "ticks": "",
            "zerolinecolor": "white"
           }
          },
          "shapedefaults": {
           "line": {
            "color": "#2a3f5f"
           }
          },
          "ternary": {
           "aaxis": {
            "gridcolor": "white",
            "linecolor": "white",
            "ticks": ""
           },
           "baxis": {
            "gridcolor": "white",
            "linecolor": "white",
            "ticks": ""
           },
           "bgcolor": "#E5ECF6",
           "caxis": {
            "gridcolor": "white",
            "linecolor": "white",
            "ticks": ""
           }
          },
          "title": {
           "x": 0.05
          },
          "xaxis": {
           "automargin": true,
           "gridcolor": "white",
           "linecolor": "white",
           "ticks": "",
           "title": {
            "standoff": 15
           },
           "zerolinecolor": "white",
           "zerolinewidth": 2
          },
          "yaxis": {
           "automargin": true,
           "gridcolor": "white",
           "linecolor": "white",
           "ticks": "",
           "title": {
            "standoff": 15
           },
           "zerolinecolor": "white",
           "zerolinewidth": 2
          }
         }
        }
       }
      }
     },
     "metadata": {},
     "output_type": "display_data"
    }
   ],
   "source": [
    "import plotly.express as px\n",
    "import plotly.graph_objects as go\n",
    "\n",
    "# for i, df in enumerate(solved_dfs):\n",
    "#     plt.plot(df[\"error\"], label=i)\n",
    "# plt.legend()\n",
    "# plt.show()\n",
    "\n",
    "data = {i: df for i, df in enumerate(solved_dfs)}\n",
    "fig = go.Figure()\n",
    "\n",
    "for i in data:\n",
    "    fig = fig.add_trace(go.Line(y = data[i][\"error\"], \n",
    "                                   name = i))\n",
    "fig.show()"
   ]
  },
  {
   "cell_type": "code",
   "execution_count": 130,
   "metadata": {},
   "outputs": [],
   "source": [
    "# All error Kalman vs no Kalman\n",
    "\n",
    "# for df_k, df_u in zip(kalman_dfs, solved_dfs):\n",
    "#     plt.plot(df_k[\"error\"], \"-o\", label=\"Kalman\")\n",
    "#     plt.plot(df_u[\"error\"], \"-o\", label=\"UWB\")\n",
    "#     plt.legend()\n",
    "#     plt.ylabel(\"Absolute error [m]\")\n",
    "#     plt.xlabel(\"Sample index\")\n",
    "#     plt.grid(True)\n",
    "#     plt.show()"
   ]
  },
  {
   "attachments": {},
   "cell_type": "markdown",
   "metadata": {},
   "source": [
    "# Mean"
   ]
  },
  {
   "cell_type": "code",
   "execution_count": 131,
   "metadata": {},
   "outputs": [],
   "source": [
    "all_kalman = pd.concat(kalman_dfs, ignore_index=True)\n",
    "all_uwb = pd.concat(solved_dfs, ignore_index=True)"
   ]
  },
  {
   "cell_type": "code",
   "execution_count": 132,
   "metadata": {},
   "outputs": [],
   "source": [
    "kalman = pd.concat(kalman_dfs)\n",
    "kalman = kalman.groupby(kalman.index).mean()\n",
    "\n",
    "solved = pd.concat(solved_dfs)\n",
    "solved = solved[[\"x\", \"y\", \"error\"]]\n",
    "solved = solved.groupby(solved.index).mean()\n",
    "\n",
    "dt = all_uwb[\"timestamp\"].diff().mean().to_pytimedelta().microseconds / 10**6"
   ]
  },
  {
   "cell_type": "code",
   "execution_count": 133,
   "metadata": {},
   "outputs": [
    {
     "data": {
      "image/png": "[encoded data removed]",
      "text/plain": [
       "<Figure size 640x480 with 1 Axes>"
      ]
     },
     "metadata": {},
     "output_type": "display_data"
    }
   ],
   "source": [
    "x = [n * dt for n in range(len(solved))]\n",
    "x_k = [n * dt for n in range(len(kalman))]\n",
    "plt.plot(x_k, kalman[\"error\"], \"-o\", label=\"Kalman\")\n",
    "plt.plot(x, solved[\"error\"], \"-o\", label=\"UWB\")\n",
    "plt.legend()\n",
    "plt.ylabel(\"Absolute error [m]\")\n",
    "plt.xlabel(\"Time [s]\")\n",
    "plt.grid(True)\n",
    "plt.show()"
   ]
  },
  {
   "cell_type": "code",
   "execution_count": 134,
   "metadata": {},
   "outputs": [],
   "source": [
    "# Trace/scatter for every data set\n",
    "\n",
    "# for filename, df, kdf in zip(filenames, solved_dfs, kalman_dfs):\n",
    "#     if MOVEMENT:\n",
    "#         plt.plot(kdf.x, kdf.y, \"-\", color=\"blue\", label=\"Kalman\")\n",
    "#         plt.plot(df.x, df.y, \"-\", color=\"orange\", label=\"UWB\")\n",
    "#         plt.axvline(TAG[REF_POINT][0] / 1000, color=\"g\", linestyle=\"--\")\n",
    "#     else:\n",
    "#         plt.scatter(kdf.x, kdf.y, color=\"blue\", label=\"Kalman\")\n",
    "#         plt.scatter(df.x, df.y, color=\"orange\" ,label=\"UWB\")\n",
    "#         plt.plot(TAG[REF_POINT][0]/1000, TAG[REF_POINT][1]/1000, \"g1\")\n",
    "#     plt.axis(\"equal\")\n",
    "#     plt.legend()\n",
    "#     print(filename)\n",
    "#     plt.show()"
   ]
  },
  {
   "cell_type": "code",
   "execution_count": 135,
   "metadata": {},
   "outputs": [],
   "source": [
    "import seaborn as sns\n",
    "\n",
    "x_y_comparison_df = pd.concat([all_kalman.copy().assign(name=\"Kalman\"), all_uwb[[\"x\", \"y\", \"error\"]].copy().assign(name=\"UWB\")])"
   ]
  },
  {
   "cell_type": "code",
   "execution_count": 136,
   "metadata": {},
   "outputs": [
    {
     "data": {
      "image/png": "[encoded data removed]",
      "text/plain": [
       "<Figure size 600x600 with 3 Axes>"
      ]
     },
     "metadata": {},
     "output_type": "display_data"
    }
   ],
   "source": [
    "\n",
    "# plt.title(\"Bivariate distribution of positioning results.\")\n",
    "if MOVEMENT:\n",
    "    sns.jointplot(\n",
    "        data=x_y_comparison_df,\n",
    "        x=\"x\",\n",
    "        y=\"y\",\n",
    "        hue=\"name\",\n",
    "        # kind=\"kde\",\n",
    "        # bw_adjust=0.9,\n",
    "    )\n",
    "    # for df in kalman_dfs:\n",
    "    #     plt.plot(df.x, df.y, color=\"blue\")\n",
    "    # for df in solved_dfs:\n",
    "    #     plt.plot(df.x, df.y, color=\"orange\")\n",
    "    plt.axvline(TAG[REF_POINT][0] / 1000, color=\"g\", linestyle=\"--\")\n",
    "else:    \n",
    "    sns.jointplot(\n",
    "        data=x_y_comparison_df,\n",
    "        x=\"x\",\n",
    "        y=\"y\",\n",
    "        hue=\"name\",\n",
    "        kind=\"kde\",\n",
    "        levels=[0.1, 0.3, 0.5, 0.7, 0.9],\n",
    "    )\n",
    "    plt.plot(TAG[REF_POINT][0] / 1000, TAG[REF_POINT][1] / 1000, \"go\")\n",
    "ax = plt.gca()\n",
    "plt.xlabel(\"x [m]\")\n",
    "plt.ylabel(\"y [m]\")\n",
    "ax.get_legend().set_title(\"\")\n",
    "plt.grid()\n",
    "plt.show()"
   ]
  },
  {
   "attachments": {},
   "cell_type": "markdown",
   "metadata": {},
   "source": [
    "# RMSE"
   ]
  },
  {
   "cell_type": "code",
   "execution_count": 137,
   "metadata": {},
   "outputs": [
    {
     "data": {
      "text/plain": [
       "'N. of series: 1; N. of samples: 157'"
      ]
     },
     "metadata": {},
     "output_type": "display_data"
    },
    {
     "data": {
      "text/plain": [
       "(Kalman (UWB+accelerometer)    1.058472\n",
       " UWB                           1.097940\n",
       " dtype: float64,\n",
       " Kalman (UWB+accelerometer)         NaN\n",
       " UWB                           0.039468\n",
       " dtype: float64)"
      ]
     },
     "execution_count": 137,
     "metadata": {},
     "output_type": "execute_result"
    }
   ],
   "source": [
    "errors = pd.concat(\n",
    "    [all_kalman[\"error\"], all_uwb[\"error\"]],\n",
    "    axis=1,\n",
    "    keys=[\"Kalman (UWB+accelerometer)\", \"UWB\"],\n",
    ")\n",
    "rmse = np.sqrt(errors.apply(lambda x: x**2, axis=1).mean())\n",
    "\n",
    "display(f\"N. of series: {len(filenames)}; N. of samples: {len(all_uwb)}\")\n",
    "rmse, rmse.diff()"
   ]
  },
  {
   "attachments": {},
   "cell_type": "markdown",
   "metadata": {},
   "source": [
    "# Standard deviation"
   ]
  },
  {
   "cell_type": "code",
   "execution_count": 138,
   "metadata": {},
   "outputs": [
    {
     "data": {
      "text/plain": [
       "(Kalman (UWB+accelerometer)    0.611335\n",
       " UWB                           0.627007\n",
       " dtype: float64,\n",
       " Kalman (UWB+accelerometer)         NaN\n",
       " UWB                           0.015672\n",
       " dtype: float64)"
      ]
     },
     "execution_count": 138,
     "metadata": {},
     "output_type": "execute_result"
    }
   ],
   "source": [
    "(e_std:=errors.std()) , e_std.diff()"
   ]
  },
  {
   "attachments": {},
   "cell_type": "markdown",
   "metadata": {},
   "source": [
    "# RMSE when ref point = mean point"
   ]
  },
  {
   "cell_type": "code",
   "execution_count": 139,
   "metadata": {},
   "outputs": [],
   "source": [
    "if MOVEMENT:\n",
    "    c = - all_kalman.x.mean()\n",
    "    calc_dist_kalman = lambda x: point_line_distance(x[0], x[1], a, b, c)\n",
    "    calc_dist_uwb = lambda x: point_line_distance(x[0], x[1], a, b, c)\n",
    "else:\n",
    "    ref_point_kalman = (all_kalman.x.mean(), all_kalman.y.mean())\n",
    "    ref_point_uwb = (all_uwb.x.mean(), all_uwb.y.mean())\n",
    "    calc_dist_kalman = lambda x: p2p_dist(x[0], x[1], *ref_point_kalman)\n",
    "    calc_dist_uwb = lambda x: p2p_dist(x[0], x[1], *ref_point_uwb)"
   ]
  },
  {
   "cell_type": "code",
   "execution_count": 140,
   "metadata": {},
   "outputs": [],
   "source": [
    "for df in kalman_dfs:\n",
    "    df[\"error\"] = df[[\"x\",\"y\"]].apply(calc_dist_kalman, axis=1)\n",
    "\n",
    "for df in solved_dfs:\n",
    "    df[\"error\"] = df[[\"x\",\"y\"]].apply(calc_dist_uwb, axis=1)"
   ]
  },
  {
   "cell_type": "code",
   "execution_count": 141,
   "metadata": {},
   "outputs": [
    {
     "data": {
      "text/plain": [
       "(Kalman (UWB+accelerometer)    0.611268\n",
       " UWB                           0.627531\n",
       " dtype: float64,\n",
       " Kalman (UWB+accelerometer)         NaN\n",
       " UWB                           0.016263\n",
       " dtype: float64)"
      ]
     },
     "execution_count": 141,
     "metadata": {},
     "output_type": "execute_result"
    }
   ],
   "source": [
    "all_kalman_ref = pd.concat(kalman_dfs, ignore_index=True)\n",
    "all_uwb_ref = pd.concat(solved_dfs, ignore_index=True)\n",
    "\n",
    "errors = pd.concat(\n",
    "    [all_kalman_ref[\"error\"], all_uwb_ref[\"error\"]],\n",
    "    axis=1,\n",
    "    keys=[\"Kalman (UWB+accelerometer)\", \"UWB\"],\n",
    ")\n",
    "rmse = np.sqrt(errors.apply(lambda x: x**2, axis=1).mean())\n",
    "\n",
    "rmse, rmse.diff()"
   ]
  },
  {
   "cell_type": "markdown",
   "metadata": {},
   "source": [
    "# RMSE with line fitting"
   ]
  },
  {
   "cell_type": "code",
   "execution_count": 142,
   "metadata": {},
   "outputs": [
    {
     "data": {
      "text/plain": [
       "Kalman (UWB+accelerometer)    0.608922\n",
       "UWB                           0.622719\n",
       "dtype: float64"
      ]
     },
     "metadata": {},
     "output_type": "display_data"
    },
    {
     "data": {
      "text/plain": [
       "Kalman (UWB+accelerometer)         NaN\n",
       "UWB                           0.013797\n",
       "dtype: float64"
      ]
     },
     "metadata": {},
     "output_type": "display_data"
    }
   ],
   "source": [
    "if MOVEMENT:\n",
    "    for df, kdf in zip(solved_dfs, kalman_dfs):\n",
    "        # Swap x and y to have small \"a\" coefficient values\n",
    "        x = df['y'].values\n",
    "        y = df['x'].values\n",
    "\n",
    "\n",
    "        k_x = kdf[\"y\"].values\n",
    "        k_y = kdf[\"x\"].values\n",
    "\n",
    "        # Calculating the coefficients of the line using least squares method\n",
    "        A = np.vstack([x, np.ones(len(x))]).T\n",
    "        m, c = np.linalg.lstsq(A, y, rcond=None)[0]\n",
    "\n",
    "        # Creating the line equation string\n",
    "        # line_equation = f'y = {m:.2f}x + {c:.2f}'\n",
    "\n",
    "        # Generating the predicted y-values for the line\n",
    "        y_pred = m * x + c\n",
    "\n",
    "        # Calculate errors\n",
    "        # ax + by + c = 0\n",
    "        a = m\n",
    "        b = -1\n",
    "        df[\"fitted_error\"] = [point_line_distance(_x, _y, a, b, c) for _x,_y in zip(x,y)]\n",
    "        kdf[\"fitted_error\"] = [point_line_distance(_x, _y, a, b, c) for _x,_y in zip(k_x,k_y)]\n",
    "\n",
    "        # # Plotting the original data points and the fitted line\n",
    "        # plt.plot(y,x, label='UWB')\n",
    "        # plt.plot(k_y, k_x, label='Kalman')\n",
    "        # plt.plot(y_pred, x, 'r', label='Fitted Line')\n",
    "        # plt.xlabel('x')\n",
    "        # plt.ylabel('y')\n",
    "        # # plt.title('Line Fitting')\n",
    "        # plt.axis(\"equal\")   \n",
    "        # plt.legend()\n",
    "\n",
    "        # # Displaying the line equation and the plot\n",
    "        # # print('Line Equation:', line_equation)\n",
    "        # plt.show()\n",
    "\n",
    "\n",
    "    all_kalman_fitted = pd.concat(kalman_dfs, ignore_index=True)\n",
    "    all_uwb_fitted = pd.concat(solved_dfs, ignore_index=True)\n",
    "\n",
    "    errors = pd.concat(\n",
    "        [all_kalman_fitted[\"fitted_error\"], all_uwb_fitted[\"fitted_error\"]],\n",
    "        axis=1,\n",
    "        keys=[\"Kalman (UWB+accelerometer)\", \"UWB\"],\n",
    "    )\n",
    "    rmse = np.sqrt(errors.apply(lambda x: x**2, axis=1).mean())\n",
    "\n",
    "    display(rmse, rmse.diff())"
   ]
  },
  {
   "cell_type": "markdown",
   "metadata": {},
   "source": [
    "# Movement curvature comparison"
   ]
  },
  {
   "cell_type": "code",
   "execution_count": 143,
   "metadata": {},
   "outputs": [],
   "source": [
    "if MOVEMENT:\n",
    "    def calculate_curvature(x, y):\n",
    "        dx = np.gradient(x)\n",
    "        dy = np.gradient(y)\n",
    "        d2x = np.gradient(dx)\n",
    "        d2y = np.gradient(dy)\n",
    "\n",
    "        curvature = (dx * d2y - dy * d2x) / (dx**2 + dy**2)**(3/2)\n",
    "        return curvature\n",
    "\n",
    "    def average_curvature(x, y):\n",
    "        curvature = calculate_curvature(x, y)\n",
    "        avg_curvature = np.mean(np.abs(curvature))\n",
    "        return avg_curvature\n",
    "\n",
    "    def path_is_smoother(path1, path2, path1_name=\"Path 1\", path2_name=\"Path 2\"):\n",
    "        x1, y1 = path1[\"x\"], path1[\"y\"]\n",
    "        x2, y2 = path2[\"x\"], path2[\"y\"]\n",
    "\n",
    "        smooth_path_curvature_1 = average_curvature(x1, y1)\n",
    "        smooth_path_curvature_2 = average_curvature(x2, y2)\n",
    "\n",
    "        if smooth_path_curvature_1 < smooth_path_curvature_2:\n",
    "            print(f\"{path1_name} is smoother than {path2_name}.\")\n",
    "        else:\n",
    "            print(f\"{path2_name} is smoother than {path1_name}.\")\n",
    "        return (smooth_path_curvature_1, smooth_path_curvature_2)"
   ]
  },
  {
   "cell_type": "code",
   "execution_count": 144,
   "metadata": {},
   "outputs": [
    {
     "name": "stdout",
     "output_type": "stream",
     "text": [
      "Kalman is smoother than UWB.\n",
      "(3.4274182089821057, 2.3232264527885103)\n"
     ]
    }
   ],
   "source": [
    "if MOVEMENT:\n",
    "    for udf, kdf in zip(solved_dfs, kalman_dfs):\n",
    "        print(path_is_smoother(udf, kdf, \"UWB\", \"Kalman\"))"
   ]
  }
 ],
 "metadata": {
  "kernelspec": {
   "display_name": ".venv",
   "language": "python",
   "name": "python3"
  },
  "language_info": {
   "codemirror_mode": {
    "name": "ipython",
    "version": 3
   },
   "file_extension": ".py",
   "mimetype": "text/x-python",
   "name": "python",
   "nbconvert_exporter": "python",
   "pygments_lexer": "ipython3",
   "version": "3.11.3"
  },
  "orig_nbformat": 4
 },
 "nbformat": 4,
 "nbformat_minor": 2
}
