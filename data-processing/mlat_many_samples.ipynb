{
 "cells": [
  {
   "cell_type": "code",
   "execution_count": 39,
   "metadata": {},
   "outputs": [],
   "source": [
    "%matplotlib inline"
   ]
  },
  {
   "cell_type": "code",
   "execution_count": 40,
   "metadata": {},
   "outputs": [],
   "source": [
    "import pandas as pd\n",
    "import numpy as np\n",
    "import matplotlib.pyplot as plt\n",
    "from pathlib import Path\n",
    "\n",
    "MULTILATERATION_METHOD = \"2d\"\n",
    "# MULTILATERATION_METHOD = \"3d\"\n",
    "\n",
    "LANG = \"PL\"\n",
    "SMOOTHE = False\n",
    "# LANG = \"EN\"\n",
    "samples_dir = Path(\"data/movement_2\")\n",
    "\n",
    "# These can be overridden by environment.json\n",
    "MOVEMENT=False\n",
    "REF_POINT=\"P1\"\n",
    "\n",
    "DEL_ANCHORS = []\n",
    "DEL_ANCHORS = [\"0x6c0d\"]\n",
    "# DEL_ANCHORS = [\"0x5601\"]\n",
    "# DEL_ANCHORS = [\"0x26bd\"]\n",
    "# DEL_ANCHORS = [\"0x5836\"]"
   ]
  },
  {
   "cell_type": "code",
   "execution_count": 41,
   "metadata": {},
   "outputs": [],
   "source": [
    "dpi = 600\n",
    "width_inches = 6\n",
    "height_inches = width_inches * 3/4 \n",
    "FONT_SIZE = 12"
   ]
  },
  {
   "cell_type": "code",
   "execution_count": 42,
   "metadata": {},
   "outputs": [],
   "source": [
    "# Try to get test environment conditions from JSON\n",
    "import json\n",
    "\n",
    "try:\n",
    "    with open(samples_dir / \"environment.json\", \"r\") as file:\n",
    "        settings = json.loads(file.read())\n",
    "except:\n",
    "    settings = dict()\n",
    "\n",
    "if (TAG:=settings.get(\"tag\")) is None:\n",
    "    from data.points import TAG\n",
    "if (ANCHORS := settings.get(\"anchors\")) is None:\n",
    "    from data.points import ANCHORS"
   ]
  },
  {
   "cell_type": "code",
   "execution_count": 43,
   "metadata": {},
   "outputs": [],
   "source": [
    "class AccelerometerOrientation:\n",
    "    x_sign: int\n",
    "    global_x: str\n",
    "    y_sign: int\n",
    "    global_y: str\n",
    "\n",
    "    def __init__(self, setting: str) -> None:\n",
    "        \"\"\"\n",
    "        Module orientation\n",
    "        The arrow should point the same way as the back of the module (accelerometer's +Z axis)\n",
    "        <------x-------\n",
    "               ^       |\n",
    "              -y       |\n",
    "                       |\n",
    "         <+x     -x>   y\n",
    "                       |\n",
    "              +y       |\n",
    "               v       v\n",
    "        \"\"\"\n",
    "        match setting:\n",
    "            case \"+x\":\n",
    "                data = (1, \"acc_z\", -1, \"acc_y\")\n",
    "            case \"-x\":\n",
    "                data = (-1, \"acc_z\", 1, \"acc_y\")\n",
    "            case \"+y\":\n",
    "                data = (1, \"acc_y\", 1, \"acc_z\")\n",
    "            case \"-y\":\n",
    "                data = (-1, \"acc_y\", -1, \"acc_z\")\n",
    "            case _:\n",
    "                raise ValueError(setting)\n",
    "\n",
    "        self.x_sign, self.global_x, self.y_sign, self.global_y = data\n",
    "\n",
    "ACCELEROMETER_ORIENTATION = AccelerometerOrientation(settings.get(\"acc_orientation\") or \"-y\")"
   ]
  },
  {
   "cell_type": "code",
   "execution_count": 44,
   "metadata": {},
   "outputs": [],
   "source": [
    "folder_name = samples_dir.name.upper()\n",
    "\n",
    "if folder_name.startswith(\"P\"): \n",
    "    REF_POINT = samples_dir.name.upper()[:2]\n",
    "else:\n",
    "    MOVEMENT=True\n",
    "    REF_POINT = settings.get(\"REF_POINT\") or REF_POINT\n",
    "\n",
    "\n",
    "filenames = [f for f in samples_dir.iterdir() if f.name.endswith(\".csv\")] if samples_dir.is_dir() else [samples_dir]\n",
    "filenames.sort()\n",
    "# filenames\n"
   ]
  },
  {
   "cell_type": "code",
   "execution_count": 45,
   "metadata": {},
   "outputs": [],
   "source": [
    "dfs = [pd.read_csv(f, index_col=0) for f in filenames]\n",
    "#Remove unwanted anchors\n",
    "dfs = [df[~df[\"anchor\"].isin(DEL_ANCHORS)] for df in dfs]"
   ]
  },
  {
   "cell_type": "code",
   "execution_count": 46,
   "metadata": {},
   "outputs": [],
   "source": [
    "# Enforce same number of samples\n",
    "if not MOVEMENT:\n",
    "# if True:\n",
    "    min_samples = min(len(df) for df in dfs)\n",
    "    dfs = [df.head(min_samples) for df in dfs]"
   ]
  },
  {
   "cell_type": "code",
   "execution_count": 47,
   "metadata": {},
   "outputs": [],
   "source": [
    "for df in dfs:\n",
    "    df[\"timestamp\"] = pd.to_datetime(df[\"timestamp\"])\n",
    "\n",
    "dfs = [df[df.anchor.isin(ANCHORS.keys())] for df in dfs]\n",
    "dfs = [df.set_index(\"timestamp\") for df in dfs]\n",
    "\n",
    "anchors = dfs[0][\"anchor\"].unique()"
   ]
  },
  {
   "attachments": {},
   "cell_type": "markdown",
   "metadata": {},
   "source": [
    "# Multilateration"
   ]
  },
  {
   "cell_type": "code",
   "execution_count": 48,
   "metadata": {},
   "outputs": [],
   "source": [
    "from multilateration.solve import solve\n",
    "\n",
    "solved_dfs = [solve(df, ANCHORS, MULTILATERATION_METHOD) for df in dfs]\n",
    "\n",
    "# Smoothe\n",
    "if SMOOTHE:\n",
    "    for sdf in solved_dfs:\n",
    "        sdf[[\"x\",\"y\"]] = sdf[[\"x\", \"y\"]].rolling(window=3).mean().dropna()"
   ]
  },
  {
   "cell_type": "code",
   "execution_count": 49,
   "metadata": {},
   "outputs": [],
   "source": [
    "solved_dfs = [df.merge(solved_df, on=\"timestamp\")[\n",
    "    [\n",
    "        \"timestamp\",\n",
    "        \"acc_x\",\n",
    "        \"acc_y\",\n",
    "        \"acc_z\",\n",
    "        \"x\",\n",
    "        \"y\",\n",
    "        \"radius\",\n",
    "    ]\n",
    "] for df, solved_df in zip(dfs, solved_dfs)]\n",
    "\n",
    "# Convert to metric, remove gravitation\n",
    "for df in solved_dfs:\n",
    "    df[[\"x\", \"y\"]] /= 1000\n",
    "    df[[\"acc_x\", \"acc_y\", \"acc_z\"]] *= 9.80665\n",
    "    df[[\"acc_x\", \"acc_y\", \"acc_z\"]] -= df[[\"acc_x\", \"acc_y\", \"acc_z\"]].head(5).mean()\n"
   ]
  },
  {
   "cell_type": "code",
   "execution_count": 50,
   "metadata": {},
   "outputs": [
    {
     "data": {
      "image/png": "[encoded data removed]",
      "text/plain": [
       "<Figure size 640x480 with 1 Axes>"
      ]
     },
     "metadata": {},
     "output_type": "display_data"
    }
   ],
   "source": [
    "for df in solved_dfs:\n",
    "    plt.scatter(df[\"x\"], df[\"y\"])\n",
    "plt.axis(\"equal\")\n",
    "plt.show()"
   ]
  },
  {
   "cell_type": "code",
   "execution_count": 51,
   "metadata": {},
   "outputs": [
    {
     "data": {
      "text/plain": [
       "'Deleted 3 samples. Left 1830 out of 1833 samples.'"
      ]
     },
     "metadata": {},
     "output_type": "display_data"
    }
   ],
   "source": [
    "# Remove outliers\n",
    "n_samples_before = sum(len(df) for df in solved_dfs)\n",
    "\n",
    "def remove_outliers(df, columns, threshold=3):\n",
    "    z_scores = np.abs((df[columns] - df[columns].mean()) / df[columns].std())\n",
    "    df_no_outliers = df[(z_scores < threshold).all(axis=1)]\n",
    "    return df_no_outliers\n",
    "\n",
    "# Remove outliers from the DataFrame\n",
    "solved_dfs = [remove_outliers(df, ['x', 'y']) for df in solved_dfs]\n",
    "n_samples_after = sum(len(df) for df in solved_dfs)\n",
    "display(f\"Deleted {n_samples_before-n_samples_after} samples. Left {n_samples_after} out of {n_samples_before} samples.\")"
   ]
  },
  {
   "cell_type": "code",
   "execution_count": 52,
   "metadata": {},
   "outputs": [
    {
     "data": {
      "image/png": "[encoded data removed]",
      "text/plain": [
       "<Figure size 640x480 with 1 Axes>"
      ]
     },
     "metadata": {},
     "output_type": "display_data"
    }
   ],
   "source": [
    "for df in solved_dfs:\n",
    "    if MOVEMENT:\n",
    "        plt.plot(df[\"x\"], df[\"y\"])\n",
    "    else:\n",
    "        plt.scatter(df[\"x\"], df[\"y\"])\n",
    "\n",
    "\n",
    "if MOVEMENT:\n",
    "    plt.axvline(TAG[REF_POINT][0] / 1000, color=\"green\", linestyle=\"--\")\n",
    "else:\n",
    "    plt.scatter(TAG[REF_POINT][0] / 1000, TAG[REF_POINT][1] / 1000, color=\"green\")\n",
    "plt.axis(\"equal\")\n",
    "plt.grid(True)\n",
    "plt.show()"
   ]
  },
  {
   "cell_type": "code",
   "execution_count": 53,
   "metadata": {},
   "outputs": [],
   "source": [
    "from math import sqrt\n",
    "def p2p_dist(ax, ay, bx, by):\n",
    "    return sqrt((bx - ax) ** 2 + (by - ay) ** 2)\n",
    "\n",
    "def point_line_distance(x, y, a, b, c):\n",
    "    return abs(a * x + b * y + c) / sqrt(a**2 + b**2)"
   ]
  },
  {
   "cell_type": "code",
   "execution_count": 54,
   "metadata": {},
   "outputs": [],
   "source": [
    "if MOVEMENT:\n",
    "    # ax + by + c = 0\n",
    "    a = 1\n",
    "    b = 0\n",
    "    c = - TAG[REF_POINT][0] / 1000\n",
    "    calc_dist = lambda x: point_line_distance(x[0], x[1], a, b, c)\n",
    "else:\n",
    "    calc_dist = lambda x: p2p_dist(x[0], x[1], TAG[REF_POINT][0] / 1000, TAG[REF_POINT][1] / 1000)\n",
    "\n",
    "for df in solved_dfs:\n",
    "    df[\"error\"] = df[[\"x\", \"y\"]].apply(calc_dist, axis=1)\n",
    "    "
   ]
  },
  {
   "attachments": {},
   "cell_type": "markdown",
   "metadata": {},
   "source": [
    "# Kalman filter"
   ]
  },
  {
   "cell_type": "code",
   "execution_count": 55,
   "metadata": {},
   "outputs": [],
   "source": [
    "def kalman_step(x, P, measurement, R, Q, F, H):\n",
    "    # Predict\n",
    "    x = F * x\n",
    "    P = F * P * F.T + Q\n",
    "\n",
    "    # Update\n",
    "    y = np.matrix(measurement).T - H * x\n",
    "    S = H * P * H.T + R \n",
    "    K = P * H.T * S.I\n",
    "    x = x + K * y\n",
    "    I = np.matrix(np.eye(F.shape[0])) \n",
    "    P = (I - K * H) * P\n",
    "\n",
    "    return x, P"
   ]
  },
  {
   "cell_type": "code",
   "execution_count": 56,
   "metadata": {},
   "outputs": [
    {
     "data": {
      "text/plain": [
       "35"
      ]
     },
     "execution_count": 56,
     "metadata": {},
     "output_type": "execute_result"
    }
   ],
   "source": [
    "kalman_dfs = []\n",
    "for df in solved_dfs:\n",
    "    dt = df[\"timestamp\"].diff().mean().to_pytimedelta().microseconds / 10**6\n",
    "\n",
    "    F = np.matrix(\n",
    "        [[1, 0, dt**2 / 2, 0], [0, 1, 0, dt**2 / 2], [0, 0, 1, 0], [0, 0, 0, 1]]\n",
    "    )\n",
    "    H = np.matrix(np.eye(4))\n",
    "\n",
    "    # Q = np.matrix(np.diag([0.0001, 0.0001, 0.01, 0.00000001]))\n",
    "    # Q = np.matrix(np.diag([0.0001, 0.0001, 0.01, 0.01]))\n",
    "    # Q = np.matrix(np.diag([0.001, 0.001, 0.001, 0.001]))\n",
    "    Q = np.matrix(np.diag([0.0002, 0.0002, 0.0001, 0.0001])) # best one\n",
    "    if MOVEMENT:\n",
    "        R = np.matrix(np.eye(4) * 2e-4)\n",
    "    else:\n",
    "        R = np.matrix(\n",
    "            np.diag(\n",
    "                [\n",
    "                    df[\"x\"].std() ** 2,\n",
    "                    df[\"y\"].std() ** 2,\n",
    "                    df[ACCELEROMETER_ORIENTATION.global_x].std() ** 2,\n",
    "                    df[ACCELEROMETER_ORIENTATION.global_y].std() ** 2,\n",
    "                ]\n",
    "            )\n",
    "        )\n",
    "\n",
    "    P = np.matrix(np.eye(4)) * 100\n",
    "    x = np.matrix(\"0. 0. 0. 0.\").T\n",
    "\n",
    "\n",
    "    # Filter\n",
    "    filtered = []\n",
    "    for _, measurement in df[\n",
    "        [\n",
    "            \"x\",\n",
    "            \"y\",\n",
    "            ACCELEROMETER_ORIENTATION.global_x,\n",
    "            ACCELEROMETER_ORIENTATION.global_y,\n",
    "        ]\n",
    "    ].iterrows():\n",
    "        measurement = measurement.to_list()\n",
    "        measurement = [\n",
    "            measurement[0],  # x\n",
    "            measurement[1],  # y\n",
    "            ACCELEROMETER_ORIENTATION.x_sign * measurement[2],  # x\n",
    "            ACCELEROMETER_ORIENTATION.y_sign * measurement[3],  # y\n",
    "        ]\n",
    "        x, P = kalman_step(x, P, measurement, R, Q, F, H)\n",
    "        filtered.append(x.tolist())\n",
    "\n",
    "    filtered_pos = [[x[0], y[0]] for (x, y, _, _) in filtered]\n",
    "    kalman_dfs.append(pd.DataFrame(filtered_pos, columns=[\"x\", \"y\"]))\n",
    "\n",
    "len(kalman_dfs)"
   ]
  },
  {
   "cell_type": "code",
   "execution_count": 57,
   "metadata": {},
   "outputs": [],
   "source": [
    "for df in kalman_dfs:\n",
    "    df[\"error\"] = df.apply(calc_dist, axis=1)"
   ]
  },
  {
   "cell_type": "code",
   "execution_count": 58,
   "metadata": {},
   "outputs": [
    {
     "name": "stderr",
     "output_type": "stream",
     "text": [
      "/home/piotr/Documents/mgr/uwb-rs/data-processing/.venv/lib/python3.11/site-packages/plotly/graph_objs/_deprecations.py:378: DeprecationWarning:\n",
      "\n",
      "plotly.graph_objs.Line is deprecated.\n",
      "Please replace it with one of the following more specific types\n",
      "  - plotly.graph_objs.scatter.Line\n",
      "  - plotly.graph_objs.layout.shape.Line\n",
      "  - etc.\n",
      "\n",
      "\n"
     ]
    },
    {
     "data": {
      "application/vnd.plotly.v1+json": {
       "config": {
        "plotlyServerURL": "https://plot.ly"
       },
       "data": [
        {
         "name": "0",
         "type": "scatter",
         "y": [
          0.17978442490088375,
          0.13142389334268945,
          0.11162355795095613,
          0.10533469386562411,
          0.12122046025765565,
          0.1964443330385348,
          0.1111478823469847,
          0.15875188759129455,
          0.15127572940169576,
          0.11838685507191937,
          0.12088358925926945,
          0.11939456681427618,
          0.12597188096765244,
          0.1637473225676549,
          0.13540139539002416,
          0.14150219457958713,
          0.12030353974116514,
          0.140157089006397,
          0.143508084555366,
          0.16519812673858802,
          0.16423753162198018,
          0.1036481186157685,
          0.1352235567096598,
          0.15019153915244954,
          0.13261559120183897,
          0.13870837864625019,
          0.11933993457852554,
          0.13432594089063588,
          0.1424145117584399,
          0.10969680175002705,
          0.15324079136137203,
          0.10139033829636035,
          0.09030326829341528,
          0.16142373513276542,
          0.1538071136919137,
          0.12145487590186432,
          0.14118215522322397,
          0.18457915166631933,
          0.1277325291115079,
          0.17435349606238093,
          0.1778615966922097,
          0.18058269560969453,
          0.2067541363375056,
          0.18880313372465607,
          0.2198907409000328,
          0.16460843878070164,
          0.17999188500809593,
          0.19069958955132527,
          0.20090007672931165,
          0.22185844263790688,
          0.20681709355225064,
          0.23156347646191944,
          0.16166144271917848,
          0.1953179069904687,
          0.2559417310807288,
          0.25839747047210904,
          0.19870580760889256,
          0.20188886508053505,
          0.2542431898567299,
          0.25074040101559536,
          0.2355147568251199,
          0.22714337821151465,
          0.19428062223146192,
          0.206412580282479,
          0.23065962628881476,
          0.20028779165090427,
          0.19852965451022442,
          0.1827044642664919,
          0.19174876152001796,
          0.15242305224945119,
          0.18153329480063896,
          0.18001965558128274,
          0.1799050132566551,
          0.16976445711670785,
          0.205493427815733,
          0.1511656271007351,
          0.16382685275375608,
          0.1694070165115753,
          0.13801339803282886,
          0.18482028365498904,
          0.1821971819369892
         ]
        },
        {
         "name": "1",
         "type": "scatter",
         "y": [
          0.09837612224076597,
          0.16817638316520322,
          0.12590222508790783,
          0.0738087142826318,
          0.1489026412304837,
          0.08915220913341027,
          0.13104858952560017,
          0.15184766758995782,
          0.14665547040242988,
          0.11279329585063591,
          0.16495941365887679,
          0.08981381359771157,
          0.1272281664164301,
          0.1566557355283611,
          0.1406286100744849,
          0.1744770100819617,
          0.1173916054914681,
          0.18649799497732156,
          0.1536815180395259,
          0.12525303868544468,
          0.13449171490718337,
          0.15040397369948266,
          0.18023232231581177,
          0.14048757821429558,
          0.10946793395780041,
          0.09095964212783825,
          0.07525996199202245,
          0.15372748188462593,
          0.10587191976629473,
          0.12331849343095236,
          0.11070797999873827,
          0.18038100723431927,
          0.08067892374431951,
          0.16089622109463297,
          0.1641005305656662,
          0.08848108704424162,
          0.17712814497939422,
          0.09529779315467346,
          0.18137445166176347,
          0.10648007446013419,
          0.10500316834029899,
          0.15813252424077695,
          0.1691782130707511,
          0.11314400057693397,
          0.09512381521865554,
          0.08267149764093973,
          0.10871785409663848,
          0.13865951964375922,
          0.1754781754483612,
          0.13477058902307748,
          0.15143156363539467,
          0.09232379355372933,
          0.1719052776244283,
          0.18132145938780453,
          0.18184935948823977,
          0.15459920964538787,
          0.21724953446388495,
          0.1613605425252036,
          0.19808133608744738,
          0.19454085666549692,
          0.19442390476000626,
          0.20726337654705795,
          0.18114529848780037,
          0.20210729703578134,
          0.20873369874458314,
          0.20203734905128812,
          0.16040878107920653,
          0.24060899077274267,
          0.2183567703806959,
          0.23259574195623478,
          0.23615047616981588,
          0.243205981915108,
          0.23036871091526767,
          0.18563192503827985,
          0.23439459532679408,
          0.22422761965423765,
          0.13688001592477628,
          0.1399653111878303,
          0.1410818695143774,
          0.18297777610582822,
          0.14900239561005701,
          0.1716013827004914,
          0.1342523313468338,
          0.20838207632344385,
          0.17737667468812957,
          0.19343327330665439,
          0.17397971863753625
         ]
        },
        {
         "name": "2",
         "type": "scatter",
         "y": [
          0.12621227688511372,
          0.07362200573141608,
          0.15261682021862377,
          0.15350561736724755,
          0.17332096350031168,
          0.18541318948547625,
          0.1611466156391923,
          0.15081264190419175,
          0.16372609232287338,
          0.11111920717536106,
          0.15255531844911796,
          0.1710300804221907,
          0.14235712636677778,
          0.08674605720865136,
          0.1563181380921268,
          0.13217950183728888,
          0.14809732240126183,
          0.1765511693546462,
          0.194240296168245,
          0.132352611571815,
          0.10044005568351078,
          0.12540102445817114,
          0.1336702101045213,
          0.1503834695457802,
          0.10725346534280789,
          0.15034901029067838,
          0.16829258617282106,
          0.11051523721540057,
          0.19091330585762667,
          0.12886418456493565,
          0.16666135020620798,
          0.12842413216898318,
          0.15548859626597356,
          0.10568015536835662,
          0.1354437049783641,
          0.10535332701372968,
          0.11678235766478884,
          0.10087804280062174,
          0.0980122086113675,
          0.10905447970440574,
          0.13919677400107022,
          0.149369058824667,
          0.17661201105149948,
          0.1971271160383361,
          0.17992456410990432,
          0.20157123971155033,
          0.15509897196534883,
          0.12050191435672741,
          0.1701703235834191,
          0.1333470429162198,
          0.16464972116892307,
          0.21499420072902797,
          0.12915282288426821,
          0.20826704963512022,
          0.1615436944566886,
          0.20322806608537491,
          0.24691228469164428,
          0.24702473156215898,
          0.20066463809474433,
          0.20029623091687543,
          0.21728957501191393,
          0.19477113928949819,
          0.21090155084563666,
          0.19853984461499063,
          0.20795558658543634,
          0.18349780133481897,
          0.18170552296623432,
          0.1464689604324061,
          0.2009155163129588,
          0.16903560886621083,
          0.19999654539488,
          0.23111883711477677,
          0.21489406241465048,
          0.21241382516500185,
          0.18223103770669646,
          0.16917685905351432,
          0.19747297139911058,
          0.157491547683126,
          0.2109066120286509,
          0.17122046306144068,
          0.21359166710621413,
          0.18174478476079758,
          0.22342306647379262,
          0.2024794299008139,
          0.23667387196281742,
          0.2190611636624329,
          0.15740920360849153,
          0.20331838428857507,
          0.20740394733996692,
          0.19244016687750776,
          0.1682454179422448,
          0.19642986017270747,
          0.1405586638063996,
          0.1410918720531802,
          0.1617741364085583,
          0.1903221145677394,
          0.190075983652912,
          0.16246150936116854,
          0.16631254233555337,
          0.16317929596845748,
          0.13548210803119942,
          0.2215269754910194,
          0.14195273193569857,
          0.15948286802055933,
          0.18516572768121242,
          0.19187759803296434,
          0.18303388292261147
         ]
        },
        {
         "name": "3",
         "type": "scatter",
         "y": [
          0.17259085960904996,
          0.14891970177291758,
          0.17307449500612204,
          0.15610281060216957,
          0.13054450711996024,
          0.13259368784915493,
          0.15161784469265216,
          0.16272100698082337,
          0.14250788155245386,
          0.17732637337385304,
          0.15318418326144578,
          0.12712049750406473,
          0.12525054744189434,
          0.1888446290287451,
          0.14105212583319338,
          0.12932251316838905,
          0.12657284648770428,
          0.13460612494541113,
          0.1433740066650162,
          0.14577778135282715,
          0.18068597541198272,
          0.19982597666203894,
          0.12227982590573738,
          0.14764778897615227,
          0.20947405485840975,
          0.13431945362573194,
          0.1297013394458999,
          0.17504132812110096,
          0.11363284691989861,
          0.16447999281050096,
          0.11549001451450791,
          0.12056024211353678,
          0.08884316444550744,
          0.08263434945935022,
          0.1409201029918168,
          0.13953526140892647,
          0.12576565214446034,
          0.14374752012533265,
          0.1361447769475732,
          0.1871536624668082,
          0.14579467231378485,
          0.11025223804192352,
          0.11206326281272427,
          0.14765523157124494,
          0.13914263421581796,
          0.14826061648546318,
          0.1929841146852782,
          0.12916364926019352,
          0.1957573199541598,
          0.18363161440502984,
          0.22367822986542052,
          0.2081817402137811,
          0.24949199446709036,
          0.2000656499068727,
          0.19441689555535957,
          0.2339287920141253,
          0.23421353299376646,
          0.17937735130484556,
          0.16221878434759884,
          0.2203017476616187,
          0.23199304442888535,
          0.21248972446896786,
          0.2435851413118839,
          0.22358214653949848,
          0.20910845339309247,
          0.18663955041423685,
          0.23050681054054123,
          0.27287311614510146,
          0.20960701677232962,
          0.1958941201933544,
          0.22097432218041924,
          0.19308775505569797,
          0.17851206104468997,
          0.1938095875426975,
          0.21372964268291939,
          0.20692387699474568,
          0.17332489418539732,
          0.17289261270910328,
          0.17155857385844553,
          0.1634493088061042,
          0.17660244986600304,
          0.2000536581236858
         ]
        },
        {
         "name": "4",
         "type": "scatter",
         "y": [
          0.21978100452654425,
          0.11666865773767143,
          0.13563964317516164,
          0.18199798785224708,
          0.1413965336078793,
          0.1459599681717323,
          0.15420844680204038,
          0.1459642016636673,
          0.1590611301579874,
          0.17649872155100832,
          0.18036379759294263,
          0.20115133714600142,
          0.1510573322280533,
          0.1987527955364965,
          0.12894454303940095,
          0.1962925487806888,
          0.13319368623010108,
          0.17049251721471914,
          0.21613232570711594,
          0.11231803428682507,
          0.12232349563910772,
          0.16273080186714517,
          0.14262261698656764,
          0.11815688909990185,
          0.1907118285661602,
          0.16043502277876298,
          0.14543534534727387,
          0.1908304117065196,
          0.2460985196525205,
          0.24871025929836432,
          0.25266817685074283,
          0.20151709219083935,
          0.22187193438201946,
          0.2099349321215791,
          0.19350489996251885,
          0.22138697177445832,
          0.24949463468552135,
          0.24490343729308384,
          0.21795195863675976,
          0.2389120887201499,
          0.19827272194554335,
          0.17908191982280086,
          0.18517924578296086,
          0.1791147939472839,
          0.16697485747123952,
          0.18612910461405718,
          0.20737614972163554,
          0.1891018247847318,
          0.16425230883151287
         ]
        },
        {
         "name": "5",
         "type": "scatter",
         "y": [
          0.1956737049977777,
          0.11423651734204898,
          0.2241453883704423,
          0.15285699933257835,
          0.14477523990394658,
          0.15360049443492585,
          0.134671741805098,
          0.0629433678687148,
          0.12941430796591646,
          0.1643379387120507,
          0.1211081049501399,
          0.13797140157463783,
          0.16234144525930416,
          0.11916209488239526,
          0.14446795124698752,
          0.13420528469063964,
          0.12710143268878382,
          0.11257659273650966,
          0.10576561197691303,
          0.12097386341522554,
          0.12971254220074546,
          0.14601026736485334,
          0.1430413902993748,
          0.1156172395115247,
          0.1012281254606211,
          0.18288973763755867,
          0.17258915510974693,
          0.21813218525246136,
          0.21026574722524494,
          0.18277651229304026,
          0.2040961245166082,
          0.20874424150583715,
          0.19196499316998517,
          0.20476389960937214,
          0.24268988165966987,
          0.20187876720066034,
          0.25385357996408975,
          0.21851031597318604,
          0.19404729705165513,
          0.21329295941161597,
          0.20184395110154685,
          0.22316079713441983,
          0.15229955371432946,
          0.17147610836797877,
          0.1952931487677061,
          0.17085821304196247,
          0.2025513463424038,
          0.18668033371745563,
          0.18591595278322615,
          0.20163658073616864,
          0.1974968531295136,
          0.19047397146610345,
          0.2066656083748244,
          0.18885243092310344,
          0.19835640997140724,
          0.18643466726021996
         ]
        },
        {
         "name": "6",
         "type": "scatter",
         "y": [
          0.20145892088483008,
          0.16429006526707912,
          0.19116678538702114,
          0.112471037563453,
          0.1541807327539959,
          0.18509817452660426,
          0.19451700240620395,
          0.1467876834215498,
          0.20788347863320555,
          0.16871729627692567,
          0.14995526065821152,
          0.15082458819083588,
          0.194530705844419,
          0.13595386296847756,
          0.2189134091292242,
          0.1634642537938853,
          0.18162754979811813,
          0.16612825848275858,
          0.13950848431538532,
          0.15557257133689073,
          0.1418707528284353,
          0.1705286700563562,
          0.18973914878163556,
          0.1935319531412154,
          0.15196844946694954,
          0.17518712449383567,
          0.23536598274969878,
          0.1918331663760764,
          0.18298604727458234,
          0.22772357977633506,
          0.23926552713575133,
          0.21223811721355945,
          0.22135510289958749,
          0.20896662407274036,
          0.22072493572810048,
          0.24722805888409694,
          0.22826410496108585,
          0.2661505734780627,
          0.20700126300517963,
          0.22884384563192595,
          0.15268595330119195,
          0.1826288987074569,
          0.1543906160181876,
          0.21005668585634818,
          0.19135661921173486,
          0.18887749655176522,
          0.22546760432393298,
          0.17306684273591944,
          0.16605189265569242,
          0.18751593046542725,
          0.1759501101175338,
          0.22039090341019518,
          0.20193915020819242
         ]
        },
        {
         "name": "7",
         "type": "scatter",
         "y": [
          0.15933867737649687,
          0.13972074042419136,
          0.1310334532587185,
          0.17399107645579792,
          0.18623516180694244,
          0.17262050531531448,
          0.10845504946217588,
          0.15482514734254593,
          0.19015525847671721,
          0.2216181649041602,
          0.1437829977505749,
          0.16394602381863366,
          0.19332003287590083,
          0.1770295470986194,
          0.1382784657309719,
          0.14006268680046596,
          0.17567570573726377,
          0.1291683504905674,
          0.14678312299213103,
          0.15841783659726438,
          0.10930100175007174,
          0.16110308928110384,
          0.08268398452586356,
          0.14767899275303153,
          0.2224860439967664,
          0.15823952371059025,
          0.12249848201042646,
          0.18226408022353247,
          0.17056820939841555,
          0.22207372507432166,
          0.2150389660084262,
          0.23976386107073622,
          0.15845572205546077,
          0.24494394486674187,
          0.2198456403775766,
          0.21097148297864732,
          0.20136669834234033,
          0.19948836262160907,
          0.28464350222047474,
          0.19127365286420805,
          0.20793980376767007,
          0.18691282211337512,
          0.23361887908565615,
          0.17677961969372724,
          0.1742058764124721,
          0.23691463582144268,
          0.2128769385478404,
          0.2968358075230062,
          0.21094936537847309,
          0.23152802543060025,
          0.2557832287698887,
          0.19764370780530127,
          0.21569182058126546,
          0.2836757271181254,
          0.2077139623447557,
          0.20918291188844718,
          0.15434322352225016,
          0.20138300478384097,
          0.18780377934536574,
          0.19929151267120093,
          0.22133534294307156,
          0.21132497032317277,
          0.21558266328254017,
          0.2152505620095715,
          0.22854523415272232,
          0.20744553016737433,
          0.20316294542854663,
          0.21941055428177747,
          0.1983102405702699
         ]
        },
        {
         "name": "8",
         "type": "scatter",
         "y": [
          0.18394821241166381,
          0.15060687108092785,
          0.19352887971985555,
          0.18010350469513292,
          0.20879955295450547,
          0.21315168858708833,
          0.20373350450935135,
          0.18461730344298255,
          0.2125985903716583,
          0.13582099243451728,
          0.12940028349642074,
          0.14163699915679318,
          0.15164467406178894,
          0.1608834467466691,
          0.1403921806028905,
          0.12021112240191933,
          0.11919376681743143,
          0.17467579261117838,
          0.1361174262441116,
          0.16690652716977294,
          0.1580922135332803,
          0.146910644248879,
          0.17693635007898467,
          0.24360852256425525,
          0.21312888630403037,
          0.21222798886563599,
          0.2409500462896068,
          0.20292869455719953,
          0.21390219438227764,
          0.24094255456341496,
          0.21232161837619445,
          0.22051710198251429,
          0.2627929505151778,
          0.2660130070828268,
          0.22446932913984918,
          0.24799877746582788,
          0.18082179569348833,
          0.17092502782904728,
          0.15458702140368707,
          0.20249605816226302,
          0.2043035437225036,
          0.2326422437766098,
          0.20864158704677838,
          0.18294836044943952,
          0.17415839552043821,
          0.2068497762183894,
          0.23077534591377846,
          0.20182868447897984
         ]
        },
        {
         "name": "9",
         "type": "scatter",
         "y": [
          0.1460889635097702,
          0.17081737001444441,
          0.1390299108004185,
          0.1150124502387837,
          0.13900887798627215,
          0.09637572019242979,
          0.17232297168944566,
          0.1552305495093016,
          0.11942137524433871,
          0.11532349358474425,
          0.1630319497019821,
          0.11572415580536699,
          0.16444665222721166,
          0.14398225130210696,
          0.14733302940894366,
          0.09457771060337805,
          0.1426065952336122,
          0.1910187559101435,
          0.09993050663912251,
          0.1358413776083569,
          0.13504726842838166,
          0.17575812471682362,
          0.15159932327809833,
          0.12901767428409117,
          0.13504355724665107,
          0.1403909800111649,
          0.11711007815634944,
          0.09539530516765082,
          0.1410489669363173,
          0.11122737207253341,
          0.12013614993878896,
          0.13890719371174565,
          0.10500718440117396,
          0.18492093689678746,
          0.10890200593647337,
          0.12787173869236734,
          0.17004995663284883,
          0.10675026948609512,
          0.15837842817544256,
          0.13482221559153218,
          0.18747566240738456,
          0.1342512811724823,
          0.14088673763533843,
          0.18422501684439752,
          0.23722229856714416,
          0.19707007555013778,
          0.18407223236998327,
          0.23495012328704945,
          0.20151700540993045,
          0.2284736991196552,
          0.1913832626068619,
          0.19642563379952138,
          0.20596734987934617,
          0.23022821405410587,
          0.21535577306014786,
          0.16617974428701632,
          0.18752829331995602,
          0.21498979973579657,
          0.2459871029174927,
          0.22313900823435895,
          0.20868690104796728,
          0.18540020467124707,
          0.23704456321705436,
          0.2304697914676901,
          0.24318129897655694,
          0.25467837795182735,
          0.24820986140845713,
          0.23251381344338062,
          0.20923617040434972,
          0.2201879084176428,
          0.17227549274910148,
          0.2179659560850673,
          0.18342067199791545,
          0.1879107887639695,
          0.19845787516314783,
          0.21069132881396446,
          0.17988488170860073,
          0.1604126988583614,
          0.16612553232145766,
          0.15517197979611552,
          0.1704948934299899
         ]
        },
        {
         "name": "10",
         "type": "scatter",
         "y": [
          0.08234772942389101,
          0.12289504465703271,
          0.089552808874092,
          0.12684053751611168,
          0.17798789526179282,
          0.15046404030105154,
          0.15178507316509804,
          0.13525978548140527,
          0.1639341078416161,
          0.12945889251735676,
          0.12802945500151242,
          0.12028058522395568,
          0.1377579451626143,
          0.17037316380970724,
          0.14069937539633548,
          0.14556154075357353,
          0.1490257388669447,
          0.10291583499191748,
          0.18099093286635437,
          0.18866043826391254,
          0.1465011688376452,
          0.23301365796122564,
          0.17645977080301067,
          0.23207517392533106,
          0.20820667500394485,
          0.19812939417087305,
          0.16167382841694233,
          0.2379031809519807,
          0.24271808727902178,
          0.17701046997447323,
          0.22443166600474007,
          0.2361120233555909,
          0.20282158651639826,
          0.18627646880954019,
          0.17380686696016756,
          0.17250305294333335,
          0.18339362941724202,
          0.19524189926718538,
          0.196206488578059,
          0.22043059758971228
         ]
        },
        {
         "name": "11",
         "type": "scatter",
         "y": [
          0.06669975577393927,
          0.12716750561936663,
          0.1267386532875543,
          0.1369946331688645,
          0.14590013122730405,
          0.12326826528999013,
          0.09955307367531652,
          0.15279930604023573,
          0.19427840194693768,
          0.11920648508309561,
          0.07086419760348361,
          0.1740045304429012,
          0.17070900477984186,
          0.1377727851349526,
          0.11330238835243422,
          0.08284039218397488,
          0.13663019828187828,
          0.16461446962779158,
          0.10936253118981276,
          0.12454804287020194,
          0.13623070163443396,
          0.12561426838565404,
          0.17007413059621324,
          0.12693969619374657,
          0.09617265885658877,
          0.16076069895749634,
          0.2043183570392697,
          0.14714293287721625,
          0.23617055206024484,
          0.1980419050683191,
          0.23945742401171666,
          0.2155258141657448,
          0.22777889728266598,
          0.2195672944941478,
          0.20527570495641534,
          0.2130013981405916,
          0.22053958087626446,
          0.15660768612433063,
          0.14952074207434896,
          0.24426356574810226,
          0.20749568663191775,
          0.21041133653990607,
          0.2423561211096832,
          0.23982339061199642,
          0.1971672650070242,
          0.22115678404015338,
          0.2152359519534357,
          0.1709444552969992,
          0.19267910246430553,
          0.19158595043236337,
          0.17549806109351884,
          0.15376760480368556,
          0.1776454831512615,
          0.1568186945413761,
          0.18606798099858435,
          0.1685020487690294,
          0.19264796884899082,
          0.19485865964998372,
          0.15665341783847087
         ]
        },
        {
         "name": "12",
         "type": "scatter",
         "y": [
          0.15963514274575474,
          0.11555571960023459,
          0.14043792880327977,
          0.14138342287095318,
          0.1615974415485879,
          0.16240753171314082,
          0.13320122042145166,
          0.11506448557193072,
          0.1688556793884164,
          0.1755166759020188,
          0.10257184785541584,
          0.06118044422328017,
          0.13376006721513822,
          0.1646204721538198,
          0.13918782013916386,
          0.1119846775526403,
          0.19054196063842888,
          0.12578841799602292,
          0.1162213134350738,
          0.09483414435458304,
          0.12504638525191902,
          0.12078171230420143,
          0.13905056017523543,
          0.16191523955062892,
          0.1254415589982063,
          0.1358302921304968,
          0.12568458291748685,
          0.10942136823886983,
          0.1590825147287922,
          0.20169874035787183,
          0.18464013455314032,
          0.18331463759070687,
          0.1671675432226145,
          0.2220192024803911,
          0.16383611116905183,
          0.19109797206207646,
          0.17646327182239996,
          0.21012669709488963,
          0.16170377569527972,
          0.17349668081835312,
          0.18856867743651118,
          0.2610050353466338,
          0.26865381146466394,
          0.23590815668951892,
          0.2128811503574155,
          0.24342812742602593,
          0.2325804480920044,
          0.23007149984168507,
          0.2233172443994953,
          0.2126684849887195,
          0.16223754182765227,
          0.2220311936617667,
          0.19807665587845924,
          0.20694665037851667,
          0.16788026151332014,
          0.195876020779431,
          0.17981319129880924,
          0.17209061027956407,
          0.17950879060933,
          0.20387149289219342,
          0.15927594142240054,
          0.15241311502131705,
          0.18741692828332268,
          0.15391504244129073,
          0.20082289559712874,
          0.1919382168518995,
          0.1585102603401629
         ]
        },
        {
         "name": "13",
         "type": "scatter",
         "y": [
          0.17101244833916396,
          0.12809870571283222,
          0.07953837687024645,
          0.10664750531118128,
          0.08162253873598369,
          0.12609244968876232,
          0.0484484089369559,
          0.06927555575709388,
          0.07801468206693274,
          0.09253533019760485,
          0.09319918258824389,
          0.14707074639853723,
          0.06871529095115925,
          0.05956127559927071,
          0.1615948808341745,
          0.16747645531701005,
          0.1508878734832657,
          0.19455701914980406,
          0.18517059142909176,
          0.15726746461328545,
          0.17836059122868142,
          0.19536866002950415,
          0.18584464954711577,
          0.1668028071283163,
          0.17918249235732375,
          0.21367011408253855
         ]
        },
        {
         "name": "14",
         "type": "scatter",
         "y": [
          0.15317295913809725,
          0.14183850378763618,
          0.08776692309288703,
          0.18106648699089178,
          0.1747904672515994,
          0.1354581587437902,
          0.14389444125806716,
          0.11028085370840257,
          0.09295580029833306,
          0.1415063926719835,
          0.10423890870505481,
          0.026284512063382115,
          0.08543529967582342,
          0.10026607638598484,
          0.14869076159306127,
          0.10484993801556097,
          0.125961458244231,
          0.03929514316883065,
          0.14785314020941276,
          0.08196252943748106,
          0.08811968913328538,
          0.09078142999533689,
          0.13728855119420258,
          0.10361942337638874,
          0.09781178837759086,
          0.11664432968311322,
          0.18364780454794705,
          0.19096867609703905,
          0.22709268370935387,
          0.1839296207560821,
          0.16183052673915133,
          0.15394964699604174,
          0.1714803120795505,
          0.1720869306866133,
          0.17162375887341885,
          0.13572530687864792,
          0.21936917592622152,
          0.21330887000246102,
          0.2130056055085654,
          0.25599669327188446,
          0.19591552885501629,
          0.25196725952169063,
          0.19349751553899885,
          0.1726121242436378,
          0.16788605273016866,
          0.16719505842295201,
          0.166068054706505,
          0.16275171539773492,
          0.15183343264833837,
          0.17335981920013932,
          0.16845956910245197,
          0.12940191672342705,
          0.2029986455617505,
          0.18843531412967018
         ]
        },
        {
         "name": "15",
         "type": "scatter",
         "y": [
          0.1409876044767453,
          0.15960258399750415,
          0.12846212400935708,
          0.1018137494341429,
          0.17265047469444683,
          0.1480397052396496,
          0.1604807273628439,
          0.18437908205525178,
          0.13654030774839798,
          0.14852622453344622,
          0.1419564866320624,
          0.15703477707939628,
          0.09796471630865389,
          0.12254472841466968,
          0.14352454165017448,
          0.1771526200417517,
          0.08503229677357482,
          0.12634672643795808,
          0.10841708642969783,
          0.17649975999041811,
          0.13683733660341102,
          0.2276100194654389,
          0.20021715066019175,
          0.2135663218684445,
          0.2316000290986353,
          0.19945936751036086,
          0.21033388889129045,
          0.18318121250325836,
          0.22197325636716392,
          0.1674941969982484,
          0.24075957786185986,
          0.21223893136126848,
          0.25686024796584306,
          0.23919111693635386,
          0.186992211966585,
          0.17866385471857016,
          0.13243148624655698,
          0.18283564252951523,
          0.18529829752752214,
          0.18877363276572678,
          0.16164295953471575,
          0.18360061818338425,
          0.19600648066200987,
          0.19378131760399464
         ]
        },
        {
         "name": "16",
         "type": "scatter",
         "y": [
          0.09791927094796771,
          0.11244352082996456,
          0.2080846622054151,
          0.12600155614744568,
          0.10898476320957995,
          0.1315214666986384,
          0.11028379839262259,
          0.11532584190546169,
          0.1732982261857563,
          0.17934873793386052,
          0.11466879219268233,
          0.08211309203167061,
          0.13088004537488485,
          0.1431094042537997,
          0.10714991395385542,
          0.16243900318730553,
          0.11259139400785934,
          0.1683143827326128,
          0.12245288165105905,
          0.1254169680261279,
          0.2043734617866131,
          0.20753032093424562,
          0.20896449771936632,
          0.17523817778937856,
          0.25501447354779194,
          0.193758402906818,
          0.2038017892860895,
          0.21092276837719637,
          0.15318583409372777,
          0.16598147383044037,
          0.17472825865173047,
          0.19307105817585524,
          0.18254691140309975,
          0.156658725935924,
          0.19100477033747487
         ]
        },
        {
         "name": "17",
         "type": "scatter",
         "y": [
          0.17997389909233208,
          0.1811970035145971,
          0.15657755846803356,
          0.16741106908451187,
          0.13717520137147332,
          0.10716585464563178,
          0.0900236791010307,
          0.1386361097387354,
          0.08707964219407005,
          0.03670196832796924,
          0.10619306825907171,
          0.09644396184063342,
          0.0771981976478866,
          0.0737988815417907,
          0.13685477942428204,
          0.09949453940578912,
          0.1574824962169501,
          0.1083308221107453,
          0.08997887376150726,
          0.1404557441972707,
          0.13466986881355325,
          0.13803140068437436,
          0.12410379756930112,
          0.12739581193100813,
          0.12318927261874979,
          0.12549589942879358,
          0.15312142806740736,
          0.1668746672528567,
          0.14889875218898552,
          0.1412147804520787,
          0.16872639426053437,
          0.20561854427385184,
          0.22829639473830765,
          0.1582451826765232,
          0.15670094243968147,
          0.16199952208631463,
          0.1709804406472375,
          0.16800739858201164,
          0.14753551898189077,
          0.2184545095489714,
          0.17683645981225782,
          0.15929645175144103,
          0.17503804052548433
         ]
        },
        {
         "name": "18",
         "type": "scatter",
         "y": [
          0.12151061249116601,
          0.16880170755090607,
          0.12384842625821357,
          0.08528466695073611,
          0.07253551335271902,
          0.1578048863439967,
          0.20890706248616664,
          0.1297459940156449,
          0.14497462232959601,
          0.1347798773586859,
          0.137889338402148,
          0.1514011413757148,
          0.16806754453438888,
          0.20693537098731984,
          0.16218356059305883,
          0.1607657809025489,
          0.11560151173473865,
          0.12588711432680744,
          0.11236058765118706,
          0.14136909083402327,
          0.11956726757076752,
          0.10222116743407272,
          0.16302612892472745,
          0.14332893197795094,
          0.19683098884933448,
          0.19839194316737285,
          0.2213951133942702,
          0.23402605330006243,
          0.18060908941822262,
          0.18234679594187453,
          0.20702418291324287,
          0.1923718679912425,
          0.16782694002985932,
          0.2085351317993387,
          0.2163575868842189,
          0.21175723199004004,
          0.21164680227899235,
          0.2197557277975244,
          0.2462634423322143,
          0.17614005988449866,
          0.1873322632265615,
          0.17972022770767748,
          0.18002666731706962,
          0.19518670127673032,
          0.20042065471289305,
          0.1868405212505384
         ]
        },
        {
         "name": "19",
         "type": "scatter",
         "y": [
          0.14228483215338628,
          0.15028608856476855,
          0.09760366442834956,
          0.14530981736763815,
          0.10901817616911647,
          0.027661981674099723,
          0.15386998677636554,
          0.11800818404540325,
          0.06522167494333586,
          0.0923895475450538,
          0.1586016450249208,
          0.09710222292607318,
          0.062175834018471265,
          0.09504058906693236,
          0.09013236492933885,
          0.1442235204130915,
          0.09867902575175647,
          0.05414495115145179,
          0.16867296115206654,
          0.12219211659267515,
          0.12554336946440992,
          0.18873281455454505,
          0.21402367978897519,
          0.18190535201146663,
          0.13585238461494664,
          0.20718600370852736,
          0.17575895592385615,
          0.2071701812910498,
          0.2242069952389829,
          0.2512788255631315,
          0.17767692572828486,
          0.13243353634575117,
          0.20513922770314252,
          0.17662435612218053,
          0.16886692516020085,
          0.14531181790229253,
          0.20024209675416804,
          0.16750575994655015,
          0.2129977238453511
         ]
        },
        {
         "name": "20",
         "type": "scatter",
         "y": [
          0.1581296304810198,
          0.15068519331165553,
          0.17916321259363488,
          0.1128130780641301,
          0.11430229352526444,
          0.08109786890912662,
          0.10348212102994081,
          0.14085541370004462,
          0.12387114794592313,
          0.14886380197163995,
          0.1622096827329753,
          0.15840292471234085,
          0.14095915449944219,
          0.12746158322786272,
          0.09405054829098569,
          0.14346935086327317,
          0.14259857959485545,
          0.18504386367575898,
          0.16635544484411202,
          0.17217599170268905,
          0.14803560376961777,
          0.1437460468293037,
          0.22299608389365044,
          0.18230973489480395,
          0.19574864573277329,
          0.23568337823163565,
          0.1821991445016844,
          0.1891162572813081,
          0.2136297314701665,
          0.23850795455876717,
          0.2173272334183265,
          0.26498552357072747,
          0.25730743652967436,
          0.20573766842759866,
          0.21560787696802208,
          0.22682896313628764,
          0.19308134259285525,
          0.20413379406926335,
          0.1638402458147319,
          0.2286633818604189,
          0.18096142829410566,
          0.21569585898112997,
          0.16802044430309504
         ]
        },
        {
         "name": "21",
         "type": "scatter",
         "y": [
          0.11191001292926916,
          0.16787893303231183,
          0.15381237796397595,
          0.15480711812610792,
          0.12280734341417521,
          0.13737511074306763,
          0.17888553255521922,
          0.10277674053499197,
          0.132618337558279,
          0.12909652875422295,
          0.09520024970077512,
          0.17894465747656185,
          0.14361610683171566,
          0.12297614077641761,
          0.11603079075401168,
          0.13714973408631614,
          0.14738943890391432,
          0.13907194031814218,
          0.10027575148080836,
          0.0865819226658997,
          0.1290173514035171,
          0.13244421095052084,
          0.14240134476091715,
          0.18352292531462489,
          0.1905329774307427,
          0.21944627280011741,
          0.2547048686699336,
          0.20607902470190398,
          0.18339544969419852,
          0.24837272797717147,
          0.24725653522802138,
          0.25366734644077304,
          0.22403241745041425,
          0.19883693903436295,
          0.17432537055483377,
          0.21298721630477235,
          0.1916466682226483,
          0.19455353624611438,
          0.15887610862199297,
          0.18869100348821966,
          0.15481825805154936,
          0.18497779323098928
         ]
        },
        {
         "name": "22",
         "type": "scatter",
         "y": [
          0.07468261708497881,
          0.05675958574744899,
          0.1292020271008152,
          0.12334109761879097,
          0.20241627904911108,
          0.12967369178757893,
          0.13636848703249904,
          0.16436093753962266,
          0.13494011917077176,
          0.0977346767578775,
          0.14004158261613942,
          0.13272372067357519,
          0.1618198769812329,
          0.1554923114144704,
          0.14666723723689268,
          0.20519306241646063,
          0.21390718256730157,
          0.17037345302655016,
          0.21059517337284062,
          0.2453444080656273,
          0.1535362013560515,
          0.1987943841326263,
          0.2650240449731953,
          0.25068104641780464,
          0.21720767005089847,
          0.24013467419626178,
          0.1875776254767174,
          0.17585699544914357,
          0.16912623108384395,
          0.1696292412251723,
          0.17960614262187602,
          0.16978277064246172,
          0.18323442320107897,
          0.15847441219873426
         ]
        },
        {
         "name": "23",
         "type": "scatter",
         "y": [
          0.20323079159556512,
          0.16293339716633803,
          0.16261655753993365,
          0.13502668751736668,
          0.14835516565701856,
          0.18402436717458692,
          0.10922806557555509,
          0.1150039068061739,
          0.13375824363396083,
          0.13201615948696555,
          0.1337043517854235,
          0.18528098086786904,
          0.14518101281987228,
          0.1023341379088234,
          0.12225061504378276,
          0.16145175879103668,
          0.18385981492087256,
          0.1748582474813818,
          0.19128114970707877,
          0.20350756897485756,
          0.22790903477106594,
          0.20309107780062274,
          0.21094546111623624,
          0.22050977246341819,
          0.1831828426036779,
          0.20188341461355797,
          0.23703867074797835,
          0.24527898690067218,
          0.23755592822543647,
          0.2230568794883998,
          0.23087318232187637,
          0.14304162980505453,
          0.19508932172312754,
          0.1836636877809148,
          0.1623681015378271,
          0.2051966629181894,
          0.1586368570267851
         ]
        },
        {
         "name": "24",
         "type": "scatter",
         "y": [
          0.10835869841322743,
          0.17555740157293687,
          0.11979877847660325,
          0.08169231968956825,
          0.22244342947641949,
          0.12858997243099557,
          0.12816819060473383,
          0.15073960498370909,
          0.1795796622700805,
          0.12671077700728284,
          0.12789336909724724,
          0.15209401021921143,
          0.1035956366065498,
          0.13526291023896775,
          0.14364454468758092,
          0.16873258540091252,
          0.15920534531419817,
          0.13918892538973227,
          0.1524493086427796,
          0.18093604787567963,
          0.18255484608728922,
          0.2261339904721278,
          0.16877315231943624,
          0.18930283289933625,
          0.17978041622724983,
          0.2838981727099712,
          0.22095439262493,
          0.23678721001268377,
          0.22571375523674675,
          0.2107270561688923,
          0.26338888109464476,
          0.17255827246612587,
          0.1856775375588846,
          0.1559531517818944,
          0.18140932132516552,
          0.17414447363618946,
          0.17429768688324176,
          0.1781303578502158,
          0.16266358230837596,
          0.15312204824897213,
          0.18689229408833374
         ]
        },
        {
         "name": "25",
         "type": "scatter",
         "y": [
          0.1262413958736508,
          0.06975357068859878,
          0.13963031572370999,
          0.09037472685536363,
          0.15272243513096329,
          0.17049769541982784,
          0.12533004721520014,
          0.17114637158593538,
          0.13092013083995369,
          0.15666277251132588,
          0.17823104162893988,
          0.17393519751863162,
          0.14704069455489854,
          0.15043720491480994,
          0.11193410231773093,
          0.09190212496438988,
          0.08697365092818155,
          0.15314698882974342,
          0.17530771164338188,
          0.14711843070130337,
          0.17619546560245913,
          0.10995873165031433,
          0.1582901885610135,
          0.17310695024010747,
          0.23360033986408424,
          0.21615501452583374,
          0.2091709260323551,
          0.20352242892632066,
          0.2591144741816802,
          0.2603848983028405,
          0.26427926842978344,
          0.23269381635797126,
          0.2198757122691084,
          0.21220062383916338,
          0.16589734180368465,
          0.12976837546621955,
          0.21635900581140266,
          0.21641846735547365,
          0.20315116582373238,
          0.17134991531956278,
          0.14110246511321956
         ]
        },
        {
         "name": "26",
         "type": "scatter",
         "y": [
          0.1251577675737976,
          0.1818642828495629,
          0.13439851813586845,
          0.12772736760250414,
          0.12389335045031036,
          0.16082747773059425,
          0.17588518394945174,
          0.14841187124992916,
          0.11743197077525358,
          0.14970143182227935,
          0.19125253411018717,
          0.13267175629001837,
          0.12161915240618537,
          0.1291079095130958,
          0.1520657909172083,
          0.16947538444624777,
          0.1605647191940771,
          0.13877621339649804,
          0.08065553320566043,
          0.10139528508055506,
          0.1559908768255145,
          0.1208586909942988,
          0.16412866553049033,
          0.13639057915992914,
          0.19213803216933378,
          0.22404323328230435,
          0.22692310895347267,
          0.17953415373995285,
          0.22539198558246398,
          0.20436323009989366,
          0.24253226700084274,
          0.25235009525916885,
          0.2070943501268343,
          0.17187256361993075,
          0.24252031174474542,
          0.21821559158188975,
          0.2338322118254783,
          0.24078961849370084,
          0.25271751209179083,
          0.2521988033036502,
          0.19669313632726548,
          0.25553665127418435,
          0.24176844804899922,
          0.19541128547924447,
          0.1718462655831996,
          0.18836822195171243,
          0.16202354509126282,
          0.20378123274273596,
          0.18058010947314007,
          0.14397331682443948
         ]
        },
        {
         "name": "27",
         "type": "scatter",
         "y": [
          0.11960984721259638,
          0.13714461005514256,
          0.06756160088799357,
          0.09866358709568712,
          0.10208681431756572,
          0.14396079838999576,
          0.051697909591024827,
          0.09099238714858027,
          0.07272314001703117,
          0.11827878040918649,
          0.15423873799889365,
          0.15457977323706906,
          0.11088924614612461,
          0.1427269378474083,
          0.13870771093462086,
          0.13588718116484677,
          0.14704276543721284,
          0.14937620387262407,
          0.1452293293422353,
          0.10836493348170961,
          0.13273698255735966,
          0.13655466413807327,
          0.1739972046915983,
          0.2054211004051567,
          0.2149224996900676,
          0.21545748497554285,
          0.22399494132212472,
          0.19322999810652441,
          0.2197500973363833,
          0.2317291812102229,
          0.21935785933915164,
          0.2611160398798795,
          0.2707796597698169,
          0.23352855966922004,
          0.1762561437082697,
          0.15289835438151833,
          0.20134776967454449,
          0.1854526980202762,
          0.1812037853933408,
          0.1810677870229156,
          0.1429861365153473
         ]
        },
        {
         "name": "28",
         "type": "scatter",
         "y": [
          0.15998792709108312,
          0.1114451795711855,
          0.1342168466172602,
          0.15464530768762086,
          0.14483817542985977,
          0.10855618415820345,
          0.11305386536535056,
          0.12177395569843519,
          0.13064095434776424,
          0.10856539304666679,
          0.10385572224121797,
          0.07808029311531861,
          0.09818311238064581,
          0.08636018062936812,
          0.12094133774737914,
          0.10623772878593307,
          0.11308297688690594,
          0.10423647789046853,
          0.1265067935349673,
          0.1073630288885985,
          0.12103889361448217,
          0.1273472649840841,
          0.14415104040516202,
          0.10491865185161497,
          0.0921024198553948,
          0.11646141620226347,
          0.16859228377751068,
          0.20302761714164697,
          0.14339318981149285,
          0.1530183834644483,
          0.22189390459773173,
          0.1825878309015565,
          0.18775022660164398,
          0.20216218782252882,
          0.24656045069419852,
          0.25134778817913506,
          0.24343507275340248,
          0.21950771159905158,
          0.20701795314720606,
          0.14315490557972455,
          0.16339895789926318,
          0.16617222710722213,
          0.18991253003260056,
          0.17433796529598022,
          0.20220298430411465
         ]
        },
        {
         "name": "29",
         "type": "scatter",
         "y": [
          0.15039341093195757,
          0.16188799811391053,
          0.1306975213872601,
          0.10397311387530328,
          0.1161789660657504,
          0.14460248207584048,
          0.18763542572807568,
          0.11728133071630742,
          0.10115096113497501,
          0.14560772105861242,
          0.17739254175846741,
          0.13015076152238247,
          0.16025992402003597,
          0.1417496475323774,
          0.15563555326305378,
          0.09923614496545397,
          0.07837520464106462,
          0.1396639225908458,
          0.16675459348756405,
          0.14128525315064233,
          0.14170184468092595,
          0.18433590103719277,
          0.1953246588824742,
          0.23891113787123608,
          0.19998460528734108,
          0.2222507207936928,
          0.21448711358643946,
          0.2221982129067026,
          0.20242977936474782,
          0.21748026517907793,
          0.22012660610545076,
          0.22196612824443895,
          0.2674915926631174,
          0.28942876769675174,
          0.2544166099266163,
          0.2759170229344985,
          0.22730415303775864,
          0.2531560460773512,
          0.22611775232801978,
          0.21743079842976942,
          0.18849031102145708,
          0.19587222740429966,
          0.2438402358707803,
          0.1671575280585944,
          0.17116277871152574,
          0.16703994011331047,
          0.16582649900577806,
          0.1510372989947517
         ]
        },
        {
         "name": "30",
         "type": "scatter",
         "y": [
          0.16717043571126866,
          0.16465098114653132,
          0.12667301469164793,
          0.10022480980974069,
          0.1215374780285865,
          0.13616898496909746,
          0.12549020564434565,
          0.17713191830078734,
          0.15071280703662637,
          0.14789884399317876,
          0.1268426732893162,
          0.18710429058041766,
          0.1716942048464265,
          0.1470627435702896,
          0.12265728893139749,
          0.14629147816468424,
          0.16914026181342479,
          0.17002098032110924,
          0.22368109699463923,
          0.2180736195411399,
          0.1922542566938421,
          0.2363646197144431,
          0.17111131808664148,
          0.19228821392993223,
          0.22981779888641807,
          0.2314406793070547,
          0.25001530933390725,
          0.22155209256280206,
          0.24483982447428776,
          0.25476163858993406,
          0.21485913895817155,
          0.21709093943071567,
          0.15957450773276172,
          0.242926851123467,
          0.17061250530609673,
          0.20326761003172367,
          0.1588056732755243,
          0.1784178139560748,
          0.17573948701113662,
          0.17696838909446488
         ]
        },
        {
         "name": "31",
         "type": "scatter",
         "y": [
          0.15095761727786794,
          0.07822820419056353,
          0.11076436880151852,
          0.12219734727304421,
          0.07817569154978776,
          0.12885061500487627,
          0.12622349907149077,
          0.1449887700936603,
          0.07824943208499402,
          0.08943058679060423,
          0.10499245114688338,
          0.16184003387881307,
          0.1028691804366133,
          0.0833835100436977,
          0.0804057132040783,
          0.13867861859882136,
          0.09252259596860157,
          0.10080745031812333,
          0.17509266694015402,
          0.1120984092554731,
          0.14884294894670802,
          0.195909716710567,
          0.18010772436327227,
          0.16524543678537906,
          0.16106278187487266,
          0.22226412468756984,
          0.20292000197669346,
          0.19668377546337967,
          0.23283717678249483,
          0.2516311040676231,
          0.26453737781091236,
          0.2554289064006594,
          0.26222689668127663,
          0.163200499440725,
          0.27628108716997635,
          0.22572688413164488,
          0.15600971617967607,
          0.15899021489221998,
          0.1640196968617218,
          0.20050136492299742,
          0.2049543149778097,
          0.1948611364413555,
          0.19572638397408926,
          0.17294990784141562,
          0.21920628626870076,
          0.1728667308113907,
          0.16241417245614342,
          0.18602916918418888,
          0.19813814273880936
         ]
        },
        {
         "name": "32",
         "type": "scatter",
         "y": [
          0.10019774563791639,
          0.1462461495507057,
          0.14672793777765092,
          0.12259594682649855,
          0.20401018451453456,
          0.141754472188927,
          0.1445550336293271,
          0.1506757855480172,
          0.13427804537180488,
          0.16742761337833612,
          0.12376377739557531,
          0.15565528866740452,
          0.12294327857637533,
          0.17333771316845858,
          0.12226842128436544,
          0.0915557522951076,
          0.14955373297769747,
          0.09689061855234882,
          0.09138070750754301,
          0.09684687540680081,
          0.17748975752878104,
          0.1767296610573108,
          0.1594294394346385,
          0.15799089535530397,
          0.2142270120586791,
          0.181559382076246,
          0.20064110270377866,
          0.23753944938081095,
          0.21772112223311568,
          0.22018524552564522,
          0.23576579189065483,
          0.23411911805193508,
          0.18688282115297894,
          0.22828094987295566,
          0.26853327319249276,
          0.2552212325399472,
          0.27423775605914913,
          0.22094692990261122,
          0.21773980656200909,
          0.23329545665453044,
          0.24409986647324344,
          0.22424659336429587,
          0.2256007468555985,
          0.1849013796936667,
          0.14525263228776097,
          0.1695383207147525,
          0.18808546478071553,
          0.1773881623671174,
          0.2171709406066733,
          0.19576781121110343,
          0.17557108355432827,
          0.1517778310859612,
          0.1696537106470859,
          0.17833778805584077
         ]
        },
        {
         "name": "33",
         "type": "scatter",
         "y": [
          0.1606102684386299,
          0.1661947121325189,
          0.1320547562613863,
          0.14987883480603004,
          0.14689931820714364,
          0.1342410495505162,
          0.16620875974189042,
          0.15708709708474844,
          0.1453026161036599,
          0.1476684567598261,
          0.16531362356861323,
          0.12862746574157535,
          0.1521971290810984,
          0.15887250662296415,
          0.14433012731656425,
          0.17691338028861026,
          0.1373527446620597,
          0.14624843602314752,
          0.19325030372247354,
          0.11925724178752573,
          0.15968201730379783,
          0.1877074482018537,
          0.25311236767464695,
          0.18241877390997185,
          0.23613989914599154,
          0.21913919143754956,
          0.1932093844898637,
          0.25072104753396895,
          0.2287196751589473,
          0.2227779018926408,
          0.2756051614603727,
          0.23144473825125722,
          0.25522639334893893,
          0.2559662991979701,
          0.2021039154807911,
          0.23725030569772687,
          0.1651759205928156,
          0.20943166004305747,
          0.1851297185716667,
          0.17464213712200505,
          0.1831173518888054,
          0.18802696593867285,
          0.21799957575477769,
          0.20969369371395996
         ]
        },
        {
         "name": "34",
         "type": "scatter",
         "y": [
          0.14569448739049062,
          0.1716571623771661,
          0.11799305626404522,
          0.13678311092537698,
          0.08755862542885784,
          0.1493791621036955,
          0.1406870485277718,
          0.18761026214197485,
          0.16202021409637224,
          0.10605540878553832,
          0.12284904341798941,
          0.13424917485449095,
          0.17225698648796706,
          0.15102894908345177,
          0.14329351319119832,
          0.10105204768056009,
          0.12982681436770793,
          0.15299554203468713,
          0.1408109815197478,
          0.1785328565081461,
          0.10772034351251092,
          0.14262265203301805,
          0.21199003882671152,
          0.16879603066704352,
          0.1780063349085852,
          0.18441169883552022,
          0.2120574032609619,
          0.22690452887468893,
          0.2245285225276623,
          0.17078997492024706,
          0.20052442062103215,
          0.2160068429249291,
          0.20284233875626612,
          0.2248213209946015,
          0.17794361295870842,
          0.24317943198803005,
          0.2531049832510732,
          0.2314820416214982,
          0.27021025765244255,
          0.2136956777781922,
          0.2078895679779813,
          0.2485603049211671,
          0.24302825637997283,
          0.2074317726808843,
          0.17403871937037008,
          0.21020055258596293,
          0.2053337909370001,
          0.18038243687579403,
          0.16983788028567504,
          0.19005775522968293,
          0.16831830803529457,
          0.18011808051072342,
          0.16168624298402934,
          0.18383627260814706,
          0.12285933529590154
         ]
        }
       ],
       "layout": {
        "template": {
         "data": {
          "bar": [
           {
            "error_x": {
             "color": "#2a3f5f"
            },
            "error_y": {
             "color": "#2a3f5f"
            },
            "marker": {
             "line": {
              "color": "#E5ECF6",
              "width": 0.5
             },
             "pattern": {
              "fillmode": "overlay",
              "size": 10,
              "solidity": 0.2
             }
            },
            "type": "bar"
           }
          ],
          "barpolar": [
           {
            "marker": {
             "line": {
              "color": "#E5ECF6",
              "width": 0.5
             },
             "pattern": {
              "fillmode": "overlay",
              "size": 10,
              "solidity": 0.2
             }
            },
            "type": "barpolar"
           }
          ],
          "carpet": [
           {
            "aaxis": {
             "endlinecolor": "#2a3f5f",
             "gridcolor": "white",
             "linecolor": "white",
             "minorgridcolor": "white",
             "startlinecolor": "#2a3f5f"
            },
            "baxis": {
             "endlinecolor": "#2a3f5f",
             "gridcolor": "white",
             "linecolor": "white",
             "minorgridcolor": "white",
             "startlinecolor": "#2a3f5f"
            },
            "type": "carpet"
           }
          ],
          "choropleth": [
           {
            "colorbar": {
             "outlinewidth": 0,
             "ticks": ""
            },
            "type": "choropleth"
           }
          ],
          "contour": [
           {
            "colorbar": {
             "outlinewidth": 0,
             "ticks": ""
            },
            "colorscale": [
             [
              0,
              "#0d0887"
             ],
             [
              0.1111111111111111,
              "#46039f"
             ],
             [
              0.2222222222222222,
              "#7201a8"
             ],
             [
              0.3333333333333333,
              "#9c179e"
             ],
             [
              0.4444444444444444,
              "#bd3786"
             ],
             [
              0.5555555555555556,
              "#d8576b"
             ],
             [
              0.6666666666666666,
              "#ed7953"
             ],
             [
              0.7777777777777778,
              "#fb9f3a"
             ],
             [
              0.8888888888888888,
              "#fdca26"
             ],
             [
              1,
              "#f0f921"
             ]
            ],
            "type": "contour"
           }
          ],
          "contourcarpet": [
           {
            "colorbar": {
             "outlinewidth": 0,
             "ticks": ""
            },
            "type": "contourcarpet"
           }
          ],
          "heatmap": [
           {
            "colorbar": {
             "outlinewidth": 0,
             "ticks": ""
            },
            "colorscale": [
             [
              0,
              "#0d0887"
             ],
             [
              0.1111111111111111,
              "#46039f"
             ],
             [
              0.2222222222222222,
              "#7201a8"
             ],
             [
              0.3333333333333333,
              "#9c179e"
             ],
             [
              0.4444444444444444,
              "#bd3786"
             ],
             [
              0.5555555555555556,
              "#d8576b"
             ],
             [
              0.6666666666666666,
              "#ed7953"
             ],
             [
              0.7777777777777778,
              "#fb9f3a"
             ],
             [
              0.8888888888888888,
              "#fdca26"
             ],
             [
              1,
              "#f0f921"
             ]
            ],
            "type": "heatmap"
           }
          ],
          "heatmapgl": [
           {
            "colorbar": {
             "outlinewidth": 0,
             "ticks": ""
            },
            "colorscale": [
             [
              0,
              "#0d0887"
             ],
             [
              0.1111111111111111,
              "#46039f"
             ],
             [
              0.2222222222222222,
              "#7201a8"
             ],
             [
              0.3333333333333333,
              "#9c179e"
             ],
             [
              0.4444444444444444,
              "#bd3786"
             ],
             [
              0.5555555555555556,
              "#d8576b"
             ],
             [
              0.6666666666666666,
              "#ed7953"
             ],
             [
              0.7777777777777778,
              "#fb9f3a"
             ],
             [
              0.8888888888888888,
              "#fdca26"
             ],
             [
              1,
              "#f0f921"
             ]
            ],
            "type": "heatmapgl"
           }
          ],
          "histogram": [
           {
            "marker": {
             "pattern": {
              "fillmode": "overlay",
              "size": 10,
              "solidity": 0.2
             }
            },
            "type": "histogram"
           }
          ],
          "histogram2d": [
           {
            "colorbar": {
             "outlinewidth": 0,
             "ticks": ""
            },
            "colorscale": [
             [
              0,
              "#0d0887"
             ],
             [
              0.1111111111111111,
              "#46039f"
             ],
             [
              0.2222222222222222,
              "#7201a8"
             ],
             [
              0.3333333333333333,
              "#9c179e"
             ],
             [
              0.4444444444444444,
              "#bd3786"
             ],
             [
              0.5555555555555556,
              "#d8576b"
             ],
             [
              0.6666666666666666,
              "#ed7953"
             ],
             [
              0.7777777777777778,
              "#fb9f3a"
             ],
             [
              0.8888888888888888,
              "#fdca26"
             ],
             [
              1,
              "#f0f921"
             ]
            ],
            "type": "histogram2d"
           }
          ],
          "histogram2dcontour": [
           {
            "colorbar": {
             "outlinewidth": 0,
             "ticks": ""
            },
            "colorscale": [
             [
              0,
              "#0d0887"
             ],
             [
              0.1111111111111111,
              "#46039f"
             ],
             [
              0.2222222222222222,
              "#7201a8"
             ],
             [
              0.3333333333333333,
              "#9c179e"
             ],
             [
              0.4444444444444444,
              "#bd3786"
             ],
             [
              0.5555555555555556,
              "#d8576b"
             ],
             [
              0.6666666666666666,
              "#ed7953"
             ],
             [
              0.7777777777777778,
              "#fb9f3a"
             ],
             [
              0.8888888888888888,
              "#fdca26"
             ],
             [
              1,
              "#f0f921"
             ]
            ],
            "type": "histogram2dcontour"
           }
          ],
          "mesh3d": [
           {
            "colorbar": {
             "outlinewidth": 0,
             "ticks": ""
            },
            "type": "mesh3d"
           }
          ],
          "parcoords": [
           {
            "line": {
             "colorbar": {
              "outlinewidth": 0,
              "ticks": ""
             }
            },
            "type": "parcoords"
           }
          ],
          "pie": [
           {
            "automargin": true,
            "type": "pie"
           }
          ],
          "scatter": [
           {
            "fillpattern": {
             "fillmode": "overlay",
             "size": 10,
             "solidity": 0.2
            },
            "type": "scatter"
           }
          ],
          "scatter3d": [
           {
            "line": {
             "colorbar": {
              "outlinewidth": 0,
              "ticks": ""
             }
            },
            "marker": {
             "colorbar": {
              "outlinewidth": 0,
              "ticks": ""
             }
            },
            "type": "scatter3d"
           }
          ],
          "scattercarpet": [
           {
            "marker": {
             "colorbar": {
              "outlinewidth": 0,
              "ticks": ""
             }
            },
            "type": "scattercarpet"
           }
          ],
          "scattergeo": [
           {
            "marker": {
             "colorbar": {
              "outlinewidth": 0,
              "ticks": ""
             }
            },
            "type": "scattergeo"
           }
          ],
          "scattergl": [
           {
            "marker": {
             "colorbar": {
              "outlinewidth": 0,
              "ticks": ""
             }
            },
            "type": "scattergl"
           }
          ],
          "scattermapbox": [
           {
            "marker": {
             "colorbar": {
              "outlinewidth": 0,
              "ticks": ""
             }
            },
            "type": "scattermapbox"
           }
          ],
          "scatterpolar": [
           {
            "marker": {
             "colorbar": {
              "outlinewidth": 0,
              "ticks": ""
             }
            },
            "type": "scatterpolar"
           }
          ],
          "scatterpolargl": [
           {
            "marker": {
             "colorbar": {
              "outlinewidth": 0,
              "ticks": ""
             }
            },
            "type": "scatterpolargl"
           }
          ],
          "scatterternary": [
           {
            "marker": {
             "colorbar": {
              "outlinewidth": 0,
              "ticks": ""
             }
            },
            "type": "scatterternary"
           }
          ],
          "surface": [
           {
            "colorbar": {
             "outlinewidth": 0,
             "ticks": ""
            },
            "colorscale": [
             [
              0,
              "#0d0887"
             ],
             [
              0.1111111111111111,
              "#46039f"
             ],
             [
              0.2222222222222222,
              "#7201a8"
             ],
             [
              0.3333333333333333,
              "#9c179e"
             ],
             [
              0.4444444444444444,
              "#bd3786"
             ],
             [
              0.5555555555555556,
              "#d8576b"
             ],
             [
              0.6666666666666666,
              "#ed7953"
             ],
             [
              0.7777777777777778,
              "#fb9f3a"
             ],
             [
              0.8888888888888888,
              "#fdca26"
             ],
             [
              1,
              "#f0f921"
             ]
            ],
            "type": "surface"
           }
          ],
          "table": [
           {
            "cells": {
             "fill": {
              "color": "#EBF0F8"
             },
             "line": {
              "color": "white"
             }
            },
            "header": {
             "fill": {
              "color": "#C8D4E3"
             },
             "line": {
              "color": "white"
             }
            },
            "type": "table"
           }
          ]
         },
         "layout": {
          "annotationdefaults": {
           "arrowcolor": "#2a3f5f",
           "arrowhead": 0,
           "arrowwidth": 1
          },
          "autotypenumbers": "strict",
          "coloraxis": {
           "colorbar": {
            "outlinewidth": 0,
            "ticks": ""
           }
          },
          "colorscale": {
           "diverging": [
            [
             0,
             "#8e0152"
            ],
            [
             0.1,
             "#c51b7d"
            ],
            [
             0.2,
             "#de77ae"
            ],
            [
             0.3,
             "#f1b6da"
            ],
            [
             0.4,
             "#fde0ef"
            ],
            [
             0.5,
             "#f7f7f7"
            ],
            [
             0.6,
             "#e6f5d0"
            ],
            [
             0.7,
             "#b8e186"
            ],
            [
             0.8,
             "#7fbc41"
            ],
            [
             0.9,
             "#4d9221"
            ],
            [
             1,
             "#276419"
            ]
           ],
           "sequential": [
            [
             0,
             "#0d0887"
            ],
            [
             0.1111111111111111,
             "#46039f"
            ],
            [
             0.2222222222222222,
             "#7201a8"
            ],
            [
             0.3333333333333333,
             "#9c179e"
            ],
            [
             0.4444444444444444,
             "#bd3786"
            ],
            [
             0.5555555555555556,
             "#d8576b"
            ],
            [
             0.6666666666666666,
             "#ed7953"
            ],
            [
             0.7777777777777778,
             "#fb9f3a"
            ],
            [
             0.8888888888888888,
             "#fdca26"
            ],
            [
             1,
             "#f0f921"
            ]
           ],
           "sequentialminus": [
            [
             0,
             "#0d0887"
            ],
            [
             0.1111111111111111,
             "#46039f"
            ],
            [
             0.2222222222222222,
             "#7201a8"
            ],
            [
             0.3333333333333333,
             "#9c179e"
            ],
            [
             0.4444444444444444,
             "#bd3786"
            ],
            [
             0.5555555555555556,
             "#d8576b"
            ],
            [
             0.6666666666666666,
             "#ed7953"
            ],
            [
             0.7777777777777778,
             "#fb9f3a"
            ],
            [
             0.8888888888888888,
             "#fdca26"
            ],
            [
             1,
             "#f0f921"
            ]
           ]
          },
          "colorway": [
           "#636efa",
           "#EF553B",
           "#00cc96",
           "#ab63fa",
           "#FFA15A",
           "#19d3f3",
           "#FF6692",
           "#B6E880",
           "#FF97FF",
           "#FECB52"
          ],
          "font": {
           "color": "#2a3f5f"
          },
          "geo": {
           "bgcolor": "white",
           "lakecolor": "white",
           "landcolor": "#E5ECF6",
           "showlakes": true,
           "showland": true,
           "subunitcolor": "white"
          },
          "hoverlabel": {
           "align": "left"
          },
          "hovermode": "closest",
          "mapbox": {
           "style": "light"
          },
          "paper_bgcolor": "white",
          "plot_bgcolor": "#E5ECF6",
          "polar": {
           "angularaxis": {
            "gridcolor": "white",
            "linecolor": "white",
            "ticks": ""
           },
           "bgcolor": "#E5ECF6",
           "radialaxis": {
            "gridcolor": "white",
            "linecolor": "white",
            "ticks": ""
           }
          },
          "scene": {
           "xaxis": {
            "backgroundcolor": "#E5ECF6",
            "gridcolor": "white",
            "gridwidth": 2,
            "linecolor": "white",
            "showbackground": true,
            "ticks": "",
            "zerolinecolor": "white"
           },
           "yaxis": {
            "backgroundcolor": "#E5ECF6",
            "gridcolor": "white",
            "gridwidth": 2,
            "linecolor": "white",
            "showbackground": true,
            "ticks": "",
            "zerolinecolor": "white"
           },
           "zaxis": {
            "backgroundcolor": "#E5ECF6",
            "gridcolor": "white",
            "gridwidth": 2,
            "linecolor": "white",
            "showbackground": true,
            "ticks": "",
            "zerolinecolor": "white"
           }
          },
          "shapedefaults": {
           "line": {
            "color": "#2a3f5f"
           }
          },
          "ternary": {
           "aaxis": {
            "gridcolor": "white",
            "linecolor": "white",
            "ticks": ""
           },
           "baxis": {
            "gridcolor": "white",
            "linecolor": "white",
            "ticks": ""
           },
           "bgcolor": "#E5ECF6",
           "caxis": {
            "gridcolor": "white",
            "linecolor": "white",
            "ticks": ""
           }
          },
          "title": {
           "x": 0.05
          },
          "xaxis": {
           "automargin": true,
           "gridcolor": "white",
           "linecolor": "white",
           "ticks": "",
           "title": {
            "standoff": 15
           },
           "zerolinecolor": "white",
           "zerolinewidth": 2
          },
          "yaxis": {
           "automargin": true,
           "gridcolor": "white",
           "linecolor": "white",
           "ticks": "",
           "title": {
            "standoff": 15
           },
           "zerolinecolor": "white",
           "zerolinewidth": 2
          }
         }
        }
       }
      }
     },
     "metadata": {},
     "output_type": "display_data"
    }
   ],
   "source": [
    "import plotly.express as px\n",
    "import plotly.graph_objects as go\n",
    "\n",
    "# for i, df in enumerate(solved_dfs):\n",
    "#     plt.plot(df[\"error\"], label=i)\n",
    "# plt.legend()\n",
    "# plt.show()\n",
    "\n",
    "data = {i: df for i, df in enumerate(solved_dfs)}\n",
    "fig = go.Figure()\n",
    "\n",
    "for i in data:\n",
    "    fig = fig.add_trace(go.Line(y = data[i][\"error\"], \n",
    "                                   name = i))\n",
    "fig.show()"
   ]
  },
  {
   "cell_type": "code",
   "execution_count": 59,
   "metadata": {},
   "outputs": [],
   "source": [
    "# All error Kalman vs no Kalman\n",
    "\n",
    "# for df_k, df_u in zip(kalman_dfs, solved_dfs):\n",
    "#     plt.plot(df_k[\"error\"], \"-o\", label=\"Kalman\")\n",
    "#     plt.plot(df_u[\"error\"], \"-o\", label=\"UWB\")\n",
    "#     plt.legend()\n",
    "#     plt.ylabel(\"Absolute error [m]\")\n",
    "#     plt.xlabel(\"Sample index\")\n",
    "#     plt.grid(True)\n",
    "#     plt.show()"
   ]
  },
  {
   "attachments": {},
   "cell_type": "markdown",
   "metadata": {},
   "source": [
    "# Mean"
   ]
  },
  {
   "cell_type": "code",
   "execution_count": 60,
   "metadata": {},
   "outputs": [],
   "source": [
    "all_kalman = pd.concat(kalman_dfs, ignore_index=True)\n",
    "all_uwb = pd.concat(solved_dfs, ignore_index=True)"
   ]
  },
  {
   "cell_type": "code",
   "execution_count": 61,
   "metadata": {},
   "outputs": [],
   "source": [
    "kalman = pd.concat(kalman_dfs)\n",
    "kalman = kalman.groupby(kalman.index).mean()\n",
    "\n",
    "solved = pd.concat(solved_dfs)\n",
    "solved = solved[[\"x\", \"y\", \"error\"]]\n",
    "solved = solved.groupby(solved.index).mean()\n",
    "\n",
    "dt = all_uwb[\"timestamp\"].diff().mean().to_pytimedelta().microseconds / 10**6"
   ]
  },
  {
   "cell_type": "code",
   "execution_count": 85,
   "metadata": {},
   "outputs": [
    {
     "data": {
      "image/png": "[encoded data removed]",
      "text/plain": [
       "<Figure size 600x450 with 1 Axes>"
      ]
     },
     "metadata": {},
     "output_type": "display_data"
    }
   ],
   "source": [
    "# def gen():\n",
    "#     last = 1\n",
    "#     while True:\n",
    "#         try:\n",
    "#             last = next(solved_dfs[0][\"timestamp\"].diff().fillna(0).to_numpy())\n",
    "#             yield last\n",
    "#         except StopIteration:\n",
    "#             yield last\n",
    "# g = gen()\n",
    "# x = [next(g) for _ in range(len(kalman[\"error\"]))]\n",
    "# x_k = x.copy()\n",
    "\n",
    "x = [i * dt for i in range(len(solved[\"error\"]))]\n",
    "x_k = [i * dt for i in range(len(kalman[\"error\"]))]\n",
    "\n",
    "plt.rcParams['font.size'] = FONT_SIZE\n",
    "plt.plot(x, solved[\"error\"], \"--^\", label=\"UWB\", c=\"tab:orange\")\n",
    "plt.plot(x_k, kalman[\"error\"], \"-o\", label=\"Kalman\", c=\"tab:blue\", alpha=0.7)\n",
    "\n",
    "shortest_meas_marker = 30\n",
    "if MOVEMENT and len(solved_dfs) > shortest_meas_marker:\n",
    "    n_of_samples = [len(df) for df in solved_dfs]\n",
    "    n_of_samples.sort()\n",
    "    end_of_30th_sample = n_of_samples[shortest_meas_marker]\n",
    "    plt.axvline(x[end_of_30th_sample], ls=\"--\", c=\"tab:red\", label=f\"{shortest_meas_marker} shortest measurements\" if LANG==\"EN\" else f\"{shortest_meas_marker} najkrótszych\\npomiarów\")\n",
    "\n",
    "\n",
    "plt.legend()\n",
    "plt.ylabel(\"Absolute error [m]\" if LANG==\"EN\" else \"Błąd bezwzględny [m]\")\n",
    "plt.xlabel(\"Time [s]\" if LANG==\"EN\" else \"Czas [s]\")\n",
    "plt.grid(True)\n",
    "plt.gcf().set_size_inches(width_inches, height_inches)\n",
    "plt.savefig(f\"plots_output/errors_over_time_{str(samples_dir).replace('/', '_')}_{REF_POINT}\" \n",
    "            + (f\"_deleted_{'_'.join(DEL_ANCHORS)}\" if DEL_ANCHORS else \"\") \n",
    "            + \".png\",\n",
    "             dpi=dpi, bbox_inches='tight')\n",
    "plt.show()"
   ]
  },
  {
   "cell_type": "code",
   "execution_count": 63,
   "metadata": {},
   "outputs": [
    {
     "name": "stdout",
     "output_type": "stream",
     "text": [
      "data/movement_2/2023-07-07-17:40:46.444178move2-1.csv\n"
     ]
    },
    {
     "data": {
      "image/png": "[encoded data removed]",
      "text/plain": [
       "<Figure size 640x480 with 1 Axes>"
      ]
     },
     "metadata": {},
     "output_type": "display_data"
    },
    {
     "name": "stdout",
     "output_type": "stream",
     "text": [
      "data/movement_2/2023-07-07-17:42:06.993385move2-2.csv\n"
     ]
    },
    {
     "data": {
      "image/png": "[encoded data removed]",
      "text/plain": [
       "<Figure size 640x480 with 1 Axes>"
      ]
     },
     "metadata": {},
     "output_type": "display_data"
    },
    {
     "name": "stdout",
     "output_type": "stream",
     "text": [
      "data/movement_2/2023-07-07-17:43:26.951057move2-3.csv\n"
     ]
    },
    {
     "data": {
      "image/png": "[encoded data removed]",
      "text/plain": [
       "<Figure size 640x480 with 1 Axes>"
      ]
     },
     "metadata": {},
     "output_type": "display_data"
    }
   ],
   "source": [
    "# Trace/scatter for every data set\n",
    "n_plots = 3\n",
    "for filename, df, kdf in zip(filenames[:n_plots], solved_dfs[:n_plots], kalman_dfs[:n_plots]):\n",
    "    if MOVEMENT:\n",
    "        # df.x = df.x.rolling(window=3).mean()\n",
    "        # df.y = df.y.rolling(window=3).mean()\n",
    "        # x = kdf.x.rolling(window=3).mean()\n",
    "        # y = kdf.y.rolling(window=3).mean()\n",
    "        plt.plot(df.x, df.y, \"-\", color=\"tab:orange\", label=\"UWB\")\n",
    "        plt.plot(kdf.x, kdf.y, \"-\", color=\"tab:blue\", label=\"Kalman\", alpha=0.8)\n",
    "        plt.axvline(TAG[REF_POINT][0] / 1000, color=\"g\", linestyle=\"--\")\n",
    "    else:\n",
    "        plt.scatter(kdf.x, kdf.y, color=\"blue\", label=\"Kalman\")\n",
    "        plt.scatter(df.x, df.y, color=\"orange\" ,label=\"UWB\")\n",
    "        plt.plot(TAG[REF_POINT][0]/1000, TAG[REF_POINT][1]/1000, \"g1\")\n",
    "    plt.axis(\"equal\")\n",
    "    plt.legend()\n",
    "    print(filename)\n",
    "    plt.show()"
   ]
  },
  {
   "cell_type": "code",
   "execution_count": 64,
   "metadata": {},
   "outputs": [],
   "source": [
    "import seaborn as sns\n",
    "\n",
    "x_y_comparison_df = pd.concat([all_kalman.copy().assign(name=\"Kalman\"), all_uwb[[\"x\", \"y\", \"error\"]].copy().assign(name=\"UWB\")])"
   ]
  },
  {
   "cell_type": "code",
   "execution_count": 65,
   "metadata": {},
   "outputs": [],
   "source": [
    "\n",
    "# # plt.title(\"Bivariate distribution of positioning results.\")\n",
    "# if MOVEMENT:\n",
    "#     sns.jointplot(\n",
    "#         data=x_y_comparison_df,\n",
    "#         x=\"x\",\n",
    "#         y=\"y\",\n",
    "#         hue=\"name\",\n",
    "#         # kind=\"kde\",\n",
    "#         # bw_adjust=0.9,\n",
    "#     )\n",
    "#     # for df in kalman_dfs:\n",
    "#     #     plt.plot(df.x, df.y, color=\"blue\")\n",
    "#     # for df in solved_dfs:\n",
    "#     #     plt.plot(df.x, df.y, color=\"orange\")\n",
    "#     plt.axvline(TAG[REF_POINT][0] / 1000, color=\"g\", linestyle=\"--\")\n",
    "# else:    \n",
    "#     sns.jointplot(\n",
    "#         data=x_y_comparison_df,\n",
    "#         x=\"x\",\n",
    "#         y=\"y\",\n",
    "#         hue=\"name\",\n",
    "#         kind=\"kde\",\n",
    "#         levels=[0.1, 0.3, 0.5, 0.7, 0.9],\n",
    "#     )\n",
    "#     plt.plot(TAG[REF_POINT][0] / 1000, TAG[REF_POINT][1] / 1000, \"go\")\n",
    "# ax = plt.gca()\n",
    "# plt.xlabel(\"x [m]\")\n",
    "# plt.ylabel(\"y [m]\")\n",
    "# ax.get_legend().set_title(\"\")\n",
    "# plt.grid()\n",
    "# plt.gcf().set_size_inches(width_inches, width_inches)\n",
    "# plt.savefig(f\"plots_output/kde_{str(samples_dir).replace('/', '_')}_{REF_POINT}.png\", dpi=dpi, bbox_inches='tight')\n",
    "# plt.show()"
   ]
  },
  {
   "cell_type": "code",
   "execution_count": 66,
   "metadata": {},
   "outputs": [
    {
     "data": {
      "image/png": "[encoded data removed]",
      "text/plain": [
       "<Figure size 600x600 with 3 Axes>"
      ]
     },
     "metadata": {},
     "output_type": "display_data"
    }
   ],
   "source": [
    "plt.rcParams['font.size'] = FONT_SIZE\n",
    "g = sns.JointGrid()\n",
    "if not MOVEMENT:\n",
    "    # Main plot\n",
    "    sns.kdeplot(\n",
    "            data=x_y_comparison_df[x_y_comparison_df[\"name\"] == \"UWB\"],\n",
    "            x=\"x\",\n",
    "            y=\"y\",\n",
    "            levels=[0.1, 0.3, 0.5, 0.7, 0.9],\n",
    "            linestyles=\"dashed\",\n",
    "            label=\"UWB\",\n",
    "            ax=g.ax_joint,\n",
    "            color=\"tab:orange\",\n",
    "        )\n",
    "    sns.kdeplot(\n",
    "            data=x_y_comparison_df[x_y_comparison_df[\"name\"] == \"Kalman\"],\n",
    "            y=\"y\",\n",
    "            x=\"x\",\n",
    "            levels=[0.1, 0.3, 0.5, 0.7, 0.9],\n",
    "            color=\"tab:blue\",\n",
    "            label=\"Kalman\",\n",
    "            ax=g.ax_joint\n",
    "        )\n",
    "    g.ax_joint.plot(TAG[REF_POINT][0] / 1000, TAG[REF_POINT][1] / 1000, \"go\")\n",
    "\n",
    "    # Top marginal (x)\n",
    "    sns.kdeplot(\n",
    "            data=x_y_comparison_df[x_y_comparison_df[\"name\"] == \"UWB\"],\n",
    "            x=\"x\",\n",
    "            levels=[0.1, 0.3, 0.5, 0.7, 0.9],\n",
    "            linestyle=\"dashed\",\n",
    "            label=\"UWB\",\n",
    "            color=\"tab:orange\",\n",
    "            ax=g.ax_marg_x\n",
    "        )\n",
    "    sns.kdeplot(\n",
    "            data=x_y_comparison_df[x_y_comparison_df[\"name\"] == \"Kalman\"],\n",
    "            x=\"x\",\n",
    "            levels=[0.1, 0.3, 0.5, 0.7, 0.9],\n",
    "            color=\"tab:blue\",\n",
    "            label=\"Kalman\",\n",
    "            ax=g.ax_marg_x\n",
    "        )\n",
    "\n",
    "    # Right marginal (y)\n",
    "    sns.kdeplot(\n",
    "            data=x_y_comparison_df[x_y_comparison_df[\"name\"] == \"UWB\"],\n",
    "            y=\"y\",\n",
    "            levels=[0.1, 0.3, 0.5, 0.7, 0.9],\n",
    "            linestyle=\"dashed\",\n",
    "            label=\"UWB\",\n",
    "            color=\"tab:orange\",\n",
    "            ax=g.ax_marg_y\n",
    "        )\n",
    "    sns.kdeplot(\n",
    "            data=x_y_comparison_df[x_y_comparison_df[\"name\"] == \"Kalman\"],\n",
    "            y=\"y\",\n",
    "            levels=[0.1, 0.3, 0.5, 0.7, 0.9],\n",
    "            label=\"Kalman\",\n",
    "            color=\"tab:blue\",\n",
    "            ax=g.ax_marg_y\n",
    "        )\n",
    "    custom_legend_handles = [plt.Line2D([], [], linestyle='--', color='tab:orange', label='UWB'),\n",
    "                        plt.Line2D([], [], linestyle='-', color='tab:blue', label='Kalman'),\n",
    "                        plt.Line2D([], [], linestyle='None', marker=\"o\", color=\"g\", label=\"Reference point\"  if LANG==\"EN\" else \"Punkt referencyjny\")]\n",
    "else:\n",
    "    # Main plot\n",
    "    sns.scatterplot(\n",
    "            data=x_y_comparison_df[x_y_comparison_df[\"name\"] == \"UWB\"],\n",
    "            x=\"x\",\n",
    "            y=\"y\",\n",
    "            # levels=[0.1, 0.3, 0.5, 0.7, 0.9],\n",
    "            # linestyles=\"dashed\",\n",
    "            label=\"UWB\",\n",
    "            ax=g.ax_joint,\n",
    "            marker=\".\",\n",
    "            color=\"tab:orange\",\n",
    "            # sort=False,\n",
    "        )\n",
    "    sns.scatterplot(\n",
    "            data=x_y_comparison_df[x_y_comparison_df[\"name\"] == \"Kalman\"],\n",
    "            y=\"y\",\n",
    "            x=\"x\",\n",
    "            # levels=[0.1, 0.3, 0.5, 0.7, 0.9],\n",
    "            color=\"tab:blue\",\n",
    "            alpha=0.8,\n",
    "            marker=\"1\",\n",
    "            label=\"Kalman\",\n",
    "            ax=g.ax_joint,\n",
    "            # sort=False,\n",
    "        )\n",
    "    g.ax_joint.axvline(TAG[REF_POINT][0] / 1000, linestyle=\"dotted\", color=\"g\")\n",
    "\n",
    "    # Top marginal (x)\n",
    "    sns.histplot(\n",
    "            data=x_y_comparison_df[x_y_comparison_df[\"name\"] == \"UWB\"],\n",
    "            x=\"x\",\n",
    "            # levels=[0.1, 0.3, 0.5, 0.7, 0.9],\n",
    "            linestyle=\"dashed\",\n",
    "            label=\"UWB\",\n",
    "            color=\"tab:orange\",\n",
    "            ax=g.ax_marg_x\n",
    "        )\n",
    "    sns.histplot(\n",
    "            data=x_y_comparison_df[x_y_comparison_df[\"name\"] == \"Kalman\"],\n",
    "            x=\"x\",\n",
    "            # levels=[0.1, 0.3, 0.5, 0.7, 0.9],\n",
    "            color=\"tab:blue\",\n",
    "            label=\"Kalman\",\n",
    "            ax=g.ax_marg_x\n",
    "        )\n",
    "\n",
    "    # Right marginal (y)\n",
    "    sns.histplot(\n",
    "            data=x_y_comparison_df[x_y_comparison_df[\"name\"] == \"UWB\"],\n",
    "            y=\"y\",\n",
    "            # levels=[0.1, 0.3, 0.5, 0.7, 0.9],\n",
    "            linestyle=\"dashed\",\n",
    "            label=\"UWB\",\n",
    "            color=\"tab:orange\",\n",
    "            ax=g.ax_marg_y\n",
    "        )\n",
    "    sns.histplot(\n",
    "            data=x_y_comparison_df[x_y_comparison_df[\"name\"] == \"Kalman\"],\n",
    "            y=\"y\",\n",
    "            # levels=[0.1, 0.3, 0.5, 0.7, 0.9],\n",
    "            label=\"Kalman\",\n",
    "            color=\"tab:blue\",\n",
    "            ax=g.ax_marg_y\n",
    "        )\n",
    "\n",
    "    custom_legend_handles = [plt.Line2D([], [], linestyle='', marker=\"^\", color='tab:orange', label='UWB'),\n",
    "                            plt.Line2D([], [], linestyle='', marker=\"o\", color='tab:blue', label='Kalman'),\n",
    "                            plt.Line2D([], [], linestyle='dotted', color=\"g\", label=\"Reference line\"  if LANG==\"EN\" else \"Linia referencyjna\")]\n",
    "custom_legend_labels = [handle.get_label() for handle in custom_legend_handles]\n",
    "\n",
    "# Add the custom legend to the plot\n",
    "g.ax_joint.legend(handles=custom_legend_handles, labels=custom_legend_labels)#, loc='upper right')\n",
    "g.ax_joint.set_xlabel(\"x [m]\")\n",
    "g.ax_joint.set_ylabel(\"y [m]\")\n",
    "g.ax_joint.grid()\n",
    "plt.gcf().set_size_inches(width_inches, width_inches)\n",
    "plt.savefig(f\"plots_output/kde_{str(samples_dir).replace('/', '_')}_{REF_POINT}\"\n",
    "            + (f\"_deleted_{'_'.join(DEL_ANCHORS)}\" if DEL_ANCHORS else \"\") \n",
    "            + \".png\"\n",
    "            , dpi=dpi, bbox_inches='tight')\n",
    "plt.show()\n"
   ]
  },
  {
   "cell_type": "code",
   "execution_count": 67,
   "metadata": {},
   "outputs": [],
   "source": [
    "# if MOVEMENT:\n",
    "#     _df = x_y_comparison_df[x_y_comparison_df[\"name\"] == \"UWB\"]\n",
    "#     plt.plot(_df[\"x\"], _df[\"y\"], label=\"UWB\")\n",
    "#     _df = x_y_comparison_df[x_y_comparison_df[\"name\"] == \"Kalman\"]\n",
    "#     plt.plot(_df[\"x\"], _df[\"y\"], label=\"Kalman\")\n",
    "# else:\n",
    "#     _df = x_y_comparison_df[x_y_comparison_df[\"name\"] == \"UWB\"]\n",
    "#     plt.scatter(_df[\"x\"], _df[\"y\"], label=\"UWB\")\n",
    "#     _df = x_y_comparison_df[x_y_comparison_df[\"name\"] == \"Kalman\"]\n",
    "#     plt.scatter(_df[\"x\"], _df[\"y\"], label=\"Kalman\")\n",
    "\n",
    "\n",
    "# if MOVEMENT:\n",
    "#     plt.axvline(TAG[REF_POINT][0] / 1000, color=\"green\", linestyle=\"--\")\n",
    "# else:\n",
    "#     plt.scatter(TAG[REF_POINT][0] / 1000, TAG[REF_POINT][1] / 1000, color=\"green\")\n",
    "# plt.axis(\"equal\")\n",
    "# plt.xlabel(\"x [m]\")\n",
    "# plt.ylabel(\"y [m]\")\n",
    "# plt.legend()\n",
    "# plt.grid(True)\n",
    "# plt.show()"
   ]
  },
  {
   "attachments": {},
   "cell_type": "markdown",
   "metadata": {},
   "source": [
    "# RMSE"
   ]
  },
  {
   "cell_type": "code",
   "execution_count": 68,
   "metadata": {},
   "outputs": [
    {
     "data": {
      "text/plain": [
       "'N. of series: 35; N. of samples: 1830'"
      ]
     },
     "metadata": {},
     "output_type": "display_data"
    },
    {
     "data": {
      "text/plain": [
       "(Kalman (UWB i akcelerometr)    0.162135\n",
       " UWB                            0.175091\n",
       " dtype: float64,\n",
       " 'Poprawa 7.4%')"
      ]
     },
     "execution_count": 68,
     "metadata": {},
     "output_type": "execute_result"
    }
   ],
   "source": [
    "errors = pd.concat(\n",
    "    [all_kalman[\"error\"], all_uwb[\"error\"]],\n",
    "    axis=1,\n",
    "    keys=[\"Kalman (UWB+accelerometer)\"  if LANG==\"EN\" else \"Kalman (UWB i akcelerometr)\", \"UWB\"],\n",
    ")\n",
    "rmse = np.sqrt(errors.apply(lambda x: x**2, axis=1).mean())\n",
    "\n",
    "display(f\"N. of series: {len(filenames)}; N. of samples: {len(all_uwb)}\")\n",
    "rmse, f\"Poprawa {(rmse[1] - rmse[0]) / rmse[1]*100:.1f}%\""
   ]
  },
  {
   "attachments": {},
   "cell_type": "markdown",
   "metadata": {},
   "source": [
    "# Standard deviation"
   ]
  },
  {
   "cell_type": "code",
   "execution_count": 69,
   "metadata": {},
   "outputs": [
    {
     "data": {
      "text/plain": [
       "(Kalman (UWB i akcelerometr)    0.043110\n",
       " UWB                            0.044527\n",
       " dtype: float64,\n",
       " 'Poprawa 3.2%')"
      ]
     },
     "execution_count": 69,
     "metadata": {},
     "output_type": "execute_result"
    }
   ],
   "source": [
    "(e_std:=errors.std()) , f\"Poprawa {(e_std[1] - e_std[0]) / e_std[1]*100:.1f}%\""
   ]
  },
  {
   "attachments": {},
   "cell_type": "markdown",
   "metadata": {},
   "source": [
    "# RMSE when ref point = mean point"
   ]
  },
  {
   "cell_type": "code",
   "execution_count": 70,
   "metadata": {},
   "outputs": [],
   "source": [
    "if MOVEMENT:\n",
    "    c = - all_kalman.x.mean()\n",
    "    calc_dist_kalman = lambda x: point_line_distance(x[0], x[1], a, b, c)\n",
    "    calc_dist_uwb = lambda x: point_line_distance(x[0], x[1], a, b, c)\n",
    "else:\n",
    "    ref_point_kalman = (all_kalman.x.mean(), all_kalman.y.mean())\n",
    "    ref_point_uwb = (all_uwb.x.mean(), all_uwb.y.mean())\n",
    "    calc_dist_kalman = lambda x: p2p_dist(x[0], x[1], *ref_point_kalman)\n",
    "    calc_dist_uwb = lambda x: p2p_dist(x[0], x[1], *ref_point_uwb)"
   ]
  },
  {
   "cell_type": "code",
   "execution_count": 71,
   "metadata": {},
   "outputs": [],
   "source": [
    "for df in kalman_dfs:\n",
    "    df[\"error\"] = df[[\"x\",\"y\"]].apply(calc_dist_kalman, axis=1)\n",
    "\n",
    "for df in solved_dfs:\n",
    "    df[\"error\"] = df[[\"x\",\"y\"]].apply(calc_dist_uwb, axis=1)"
   ]
  },
  {
   "cell_type": "code",
   "execution_count": 72,
   "metadata": {},
   "outputs": [
    {
     "data": {
      "text/plain": [
       "(Kalman (UWB i akcelerometr)    0.043246\n",
       " UWB                            0.046396\n",
       " dtype: float64,\n",
       " Kalman (UWB i akcelerometr)        NaN\n",
       " UWB                            0.00315\n",
       " dtype: float64)"
      ]
     },
     "execution_count": 72,
     "metadata": {},
     "output_type": "execute_result"
    }
   ],
   "source": [
    "all_kalman_ref = pd.concat(kalman_dfs, ignore_index=True)\n",
    "all_uwb_ref = pd.concat(solved_dfs, ignore_index=True)\n",
    "\n",
    "errors = pd.concat(\n",
    "    [all_kalman_ref[\"error\"], all_uwb_ref[\"error\"]],\n",
    "    axis=1,\n",
    "    keys=[\"Kalman (UWB+accelerometer)\"  if LANG==\"EN\" else \"Kalman (UWB i akcelerometr)\", \"UWB\"],\n",
    ")\n",
    "rmse = np.sqrt(errors.apply(lambda x: x**2, axis=1).mean())\n",
    "\n",
    "rmse, rmse.diff()"
   ]
  },
  {
   "cell_type": "markdown",
   "metadata": {},
   "source": [
    "# RMSE with line fitting"
   ]
  },
  {
   "cell_type": "code",
   "execution_count": 73,
   "metadata": {},
   "outputs": [
    {
     "data": {
      "text/plain": [
       "Kalman (UWB i akcelerometr)    0.037837\n",
       "UWB                            0.035766\n",
       "dtype: float64"
      ]
     },
     "metadata": {},
     "output_type": "display_data"
    },
    {
     "data": {
      "text/plain": [
       "Kalman (UWB i akcelerometr)         NaN\n",
       "UWB                           -0.002072\n",
       "dtype: float64"
      ]
     },
     "metadata": {},
     "output_type": "display_data"
    }
   ],
   "source": [
    "if MOVEMENT:\n",
    "    for df, kdf in zip(solved_dfs, kalman_dfs):\n",
    "        # Swap x and y to have small \"a\" coefficient values\n",
    "        x = df['y'].values\n",
    "        y = df['x'].values\n",
    "\n",
    "\n",
    "        k_x = kdf[\"y\"].values\n",
    "        k_y = kdf[\"x\"].values\n",
    "\n",
    "        # Calculating the coefficients of the line using least squares method\n",
    "        A = np.vstack([x, np.ones(len(x))]).T\n",
    "        m, c = np.linalg.lstsq(A, y, rcond=None)[0]\n",
    "\n",
    "        # Creating the line equation string\n",
    "        # line_equation = f'y = {m:.2f}x + {c:.2f}'\n",
    "\n",
    "        # Generating the predicted y-values for the line\n",
    "        y_pred = m * x + c\n",
    "\n",
    "        # Calculate errors\n",
    "        # ax + by + c = 0\n",
    "        a = m\n",
    "        b = -1\n",
    "        df[\"fitted_error\"] = [point_line_distance(_x, _y, a, b, c) for _x,_y in zip(x,y)]\n",
    "        kdf[\"fitted_error\"] = [point_line_distance(_x, _y, a, b, c) for _x,_y in zip(k_x,k_y)]\n",
    "\n",
    "        # # Plotting the original data points and the fitted line\n",
    "        # plt.plot(y,x, label='UWB')\n",
    "        # plt.plot(k_y, k_x, label='Kalman')\n",
    "        # plt.plot(y_pred, x, 'r', label='Fitted Line')\n",
    "        # plt.xlabel('x')\n",
    "        # plt.ylabel('y')\n",
    "        # # plt.title('Line Fitting')\n",
    "        # plt.axis(\"equal\")   \n",
    "        # plt.legend()\n",
    "\n",
    "        # # Displaying the line equation and the plot\n",
    "        # # print('Line Equation:', line_equation)\n",
    "        # plt.show()\n",
    "\n",
    "\n",
    "    all_kalman_fitted = pd.concat(kalman_dfs, ignore_index=True)\n",
    "    all_uwb_fitted = pd.concat(solved_dfs, ignore_index=True)\n",
    "\n",
    "    errors = pd.concat(\n",
    "        [all_kalman_fitted[\"fitted_error\"], all_uwb_fitted[\"fitted_error\"]],\n",
    "        axis=1,\n",
    "        keys=[\"Kalman (UWB+accelerometer)\" if LANG==\"EN\" else \"Kalman (UWB i akcelerometr)\", \"UWB\"],\n",
    "    )\n",
    "    rmse = np.sqrt(errors.apply(lambda x: x**2, axis=1).mean())\n",
    "\n",
    "    display(rmse, rmse.diff())"
   ]
  },
  {
   "cell_type": "markdown",
   "metadata": {},
   "source": [
    "# Movement curvature comparison"
   ]
  },
  {
   "cell_type": "code",
   "execution_count": 74,
   "metadata": {},
   "outputs": [],
   "source": [
    "if MOVEMENT:\n",
    "    def calculate_curvature(x, y):\n",
    "        dx = np.gradient(x)\n",
    "        dy = np.gradient(y)\n",
    "        d2x = np.gradient(dx)\n",
    "        d2y = np.gradient(dy)\n",
    "\n",
    "        curvature = (dx * d2y - dy * d2x) / (dx**2 + dy**2)**(3/2)\n",
    "        return curvature\n",
    "\n",
    "    def average_curvature(x, y):\n",
    "        curvature = calculate_curvature(x, y)\n",
    "        avg_curvature = np.mean(np.abs(curvature))\n",
    "        return avg_curvature\n",
    "\n",
    "    def path_is_smoother(path1, path2, path1_name=\"Path 1\", path2_name=\"Path 2\"):\n",
    "        x1, y1 = path1[\"x\"], path1[\"y\"]\n",
    "        x2, y2 = path2[\"x\"], path2[\"y\"]\n",
    "\n",
    "        smooth_path_curvature_1 = average_curvature(x1, y1)\n",
    "        smooth_path_curvature_2 = average_curvature(x2, y2)\n",
    "\n",
    "        # if smooth_path_curvature_1 < smooth_path_curvature_2:\n",
    "            # print(f\"{path1_name} is smoother than {path2_name}.\")\n",
    "        # else:\n",
    "            # print(f\"{path2_name} is smoother than {path1_name}.\")\n",
    "        return (smooth_path_curvature_1, smooth_path_curvature_2)"
   ]
  },
  {
   "cell_type": "code",
   "execution_count": 75,
   "metadata": {},
   "outputs": [
    {
     "name": "stdout",
     "output_type": "stream",
     "text": [
      "Percentage of smoother Kalman paths: 0.45714285714285713\n"
     ]
    }
   ],
   "source": [
    "if MOVEMENT:\n",
    "    results = []\n",
    "    for udf, kdf in zip(solved_dfs, kalman_dfs):\n",
    "        pc_uwb, pc_k = path_is_smoother(udf, kdf, \"UWB\", \"Kalman\")\n",
    "        results.append(pc_k < pc_uwb)\n",
    "    print(f\"Percentage of smoother Kalman paths: {results.count(True)/len(results)}\")\n",
    "\n"
   ]
  },
  {
   "cell_type": "markdown",
   "metadata": {},
   "source": [
    "# Vector field"
   ]
  },
  {
   "cell_type": "code",
   "execution_count": 76,
   "metadata": {},
   "outputs": [
    {
     "data": {
      "text/plain": [
       "[(1.0, 2.0), (1.0, 3.5)]"
      ]
     },
     "execution_count": 76,
     "metadata": {},
     "output_type": "execute_result"
    },
    {
     "data": {
      "image/png": "[encoded data removed]",
      "text/plain": [
       "<Figure size 640x480 with 1 Axes>"
      ]
     },
     "metadata": {},
     "output_type": "display_data"
    }
   ],
   "source": [
    "fig, ax = plt.subplots()\n",
    "ax.quiver(solved_dfs[0].x, solved_dfs[0].y, kalman_dfs[0].x - solved_dfs[0].x, kalman_dfs[0].y - solved_dfs[0].y, angles=\"xy\", scale=2, width=0.003)\n",
    "ax.set(xlim=(1, 2), ylim=(1, 3.5))"
   ]
  }
 ],
 "metadata": {
  "kernelspec": {
   "display_name": ".venv",
   "language": "python",
   "name": "python3"
  },
  "language_info": {
   "codemirror_mode": {
    "name": "ipython",
    "version": 3
   },
   "file_extension": ".py",
   "mimetype": "text/x-python",
   "name": "python",
   "nbconvert_exporter": "python",
   "pygments_lexer": "ipython3",
   "version": "3.11.3"
  },
  "orig_nbformat": 4
 },
 "nbformat": 4,
 "nbformat_minor": 2
}
